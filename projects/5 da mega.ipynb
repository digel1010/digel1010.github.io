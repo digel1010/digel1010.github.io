{
 "cells": [
  {
   "cell_type": "markdown",
   "metadata": {
    "id": "3rYiDeEH0q0f"
   },
   "source": [
    "# Descripción del proyecto\n",
    "\n",
    "Trabajas como analista para el operador de telecomunicaciones Megaline. La empresa ofrece a sus clientes dos tarifas de prepago, Surf y Ultimate. El departamento comercial quiere saber cuál de las tarifas genera más ingresos para poder ajustar el presupuesto de publicidad.\n",
    "\n",
    "Vas a realizar un análisis preliminar de las tarifas basado en una selección de clientes relativamente pequeña. Tendrás los datos de 500 clientes de Megaline: quiénes son los clientes, de dónde son, qué tarifa usan, así como la cantidad de llamadas que hicieron y los mensajes de texto que enviaron en 2018. Tu trabajo es analizar el comportamiento de los clientes y determinar qué tarifa de prepago genera más ingresos."
   ]
  },
  {
   "cell_type": "markdown",
   "metadata": {},
   "source": [
    "### Introducción\n",
    "\n",
    "Megaline es un operador de telecomunicaciones que ofrece servicios de llamadas, mensajes e internet, esto a través de dos tarifas de prepago: Surf y Ultimate. A medida que la empresa busca optimizar sus estrategias de marketing y ajustar sus presupuestos publicitarios, es crucial determinar cuál de estas tarifas resulta más lucrativa. En 2018, Megaline recopiló datos sobre 500 clientes, que incluyen detalles sobre su perfil, ubicación, el tipo de tarifa que utilizan, y su comportamiento en términos de llamadas,mensajes de texto e internet.\n",
    "Este análisis tiene como objetivo evaluar el rendimiento económico de las tarifas Surf y Ultimate mediante el estudio de los datos disponibles. A través de un examen detallado del comportamiento de los clientes, como la frecuencia de llamadas, la cantidad de mensajes enviados y el trafico web, se determinará cuál de las tarifas genera mayores ingresos para Megaline. Los resultados de este análisis proporcionarán información valiosa para ajustar el presupuesto de publicidad y optimizar las estrategias comerciales de la empresa."
   ]
  },
  {
   "cell_type": "markdown",
   "metadata": {
    "id": "MQi4IPy70q0y"
   },
   "source": [
    "## Inicialización"
   ]
  },
  {
   "cell_type": "code",
   "execution_count": 2,
   "metadata": {
    "id": "MtYIuBxu0q0z"
   },
   "outputs": [],
   "source": [
    "# Cargar todas las librerías que creemos vamos a utilizar\n",
    "\n",
    "import pandas as pd\n",
    "import numpy as np\n",
    "from matplotlib import pyplot as plt\n",
    "from scipy import stats as st\n",
    "import seaborn as sns\n",
    "\n"
   ]
  },
  {
   "cell_type": "markdown",
   "metadata": {
    "id": "4ysWWC5i0q00"
   },
   "source": [
    "## Cargar datos"
   ]
  },
  {
   "cell_type": "code",
   "execution_count": 3,
   "metadata": {
    "id": "CCqPW7rS0q01"
   },
   "outputs": [],
   "source": [
    "# Cargamos los archivos de datos en diferentes DataFrames\n",
    "\n",
    "users_df = pd.read_csv('/datasets/megaline_users.csv')\n",
    "calls_df = pd.read_csv('/datasets/megaline_calls.csv')\n",
    "messages_df = pd.read_csv('/datasets/megaline_messages.csv')\n",
    "internet_df = pd.read_csv('/datasets/megaline_internet.csv')\n",
    "plans_df = pd.read_csv('/datasets/megaline_plans.csv')\n"
   ]
  },
  {
   "cell_type": "markdown",
   "metadata": {
    "id": "69qqoJ3r0q01"
   },
   "source": [
    "## Preparar los datos"
   ]
  },
  {
   "cell_type": "markdown",
   "metadata": {
    "id": "vUuZw80S0q01"
   },
   "source": [
    "\n",
    "Realizaremos la exploracion de cada uno de los diferentes dataframes, donde validaremos su informacion inicialmente para comprender un poco su contenido. Validaremos si encontramos valores duplicados y valores ausentes y procederemos a la correccion de los mismos segun sea el caso, adicionalmente revisaremos y enrequiceremos los datos con factores adicionales de ser necesario.\n"
   ]
  },
  {
   "cell_type": "markdown",
   "metadata": {
    "id": "ohBhimvH0q01"
   },
   "source": [
    "## Tarifas"
   ]
  },
  {
   "cell_type": "code",
   "execution_count": 4,
   "metadata": {
    "id": "GptqP3Q40q02"
   },
   "outputs": [
    {
     "name": "stdout",
     "output_type": "stream",
     "text": [
      "<class 'pandas.core.frame.DataFrame'>\n",
      "RangeIndex: 2 entries, 0 to 1\n",
      "Data columns (total 8 columns):\n",
      " #   Column                 Non-Null Count  Dtype  \n",
      "---  ------                 --------------  -----  \n",
      " 0   messages_included      2 non-null      int64  \n",
      " 1   mb_per_month_included  2 non-null      int64  \n",
      " 2   minutes_included       2 non-null      int64  \n",
      " 3   usd_monthly_pay        2 non-null      int64  \n",
      " 4   usd_per_gb             2 non-null      int64  \n",
      " 5   usd_per_message        2 non-null      float64\n",
      " 6   usd_per_minute         2 non-null      float64\n",
      " 7   plan_name              2 non-null      object \n",
      "dtypes: float64(2), int64(5), object(1)\n",
      "memory usage: 256.0+ bytes\n"
     ]
    }
   ],
   "source": [
    "# Imprime la información general/resumida sobre el DataFrame de las tarifas\n",
    "\n",
    "#mostramos la informacion del dataframe con el metodo info()\n",
    "\n",
    "plans_df.info()"
   ]
  },
  {
   "cell_type": "code",
   "execution_count": 5,
   "metadata": {
    "id": "64xzjwL70q02"
   },
   "outputs": [
    {
     "name": "stdout",
     "output_type": "stream",
     "text": [
      "   messages_included  mb_per_month_included  minutes_included  \\\n",
      "0                 50                  15360               500   \n",
      "1               1000                  30720              3000   \n",
      "\n",
      "   usd_monthly_pay  usd_per_gb  usd_per_message  usd_per_minute plan_name  \n",
      "0               20          10             0.03            0.03      surf  \n",
      "1               70           7             0.01            0.01  ultimate  \n"
     ]
    }
   ],
   "source": [
    "# Imprime una muestra de los datos para las tarifas\n",
    "\n",
    "#mostramos las primeras filas el dataframe \n",
    "\n",
    "print(plans_df.head())\n"
   ]
  },
  {
   "cell_type": "markdown",
   "metadata": {
    "id": "mEc_3_hs0q02"
   },
   "source": [
    "\n",
    "No evidenciamos datos inadecuados y de acuerdo a los valores non-null no se evidencia valores ausentes, sin embargo se realizara la respectiva validacion con los metodos correspondientes y de ser necesarios se corregira.\n"
   ]
  },
  {
   "cell_type": "markdown",
   "metadata": {
    "id": "R3C05i1l0q03"
   },
   "source": [
    "## Corregir datos"
   ]
  },
  {
   "cell_type": "code",
   "execution_count": 6,
   "metadata": {
    "id": "Y7SVmjGn0q03"
   },
   "outputs": [
    {
     "name": "stdout",
     "output_type": "stream",
     "text": [
      "0\n"
     ]
    }
   ],
   "source": [
    "#validamos si tenemos valores duplicados con el metodo duplicated()\n",
    "\n",
    "print(plans_df.duplicated().sum())\n"
   ]
  },
  {
   "cell_type": "code",
   "execution_count": 7,
   "metadata": {},
   "outputs": [
    {
     "name": "stdout",
     "output_type": "stream",
     "text": [
      "messages_included        0\n",
      "mb_per_month_included    0\n",
      "minutes_included         0\n",
      "usd_monthly_pay          0\n",
      "usd_per_gb               0\n",
      "usd_per_message          0\n",
      "usd_per_minute           0\n",
      "plan_name                0\n",
      "dtype: int64\n"
     ]
    }
   ],
   "source": [
    "#validamos si tenemos valores ausentes con el metodo isna()\n",
    "\n",
    "print(plans_df.isna().sum())\n"
   ]
  },
  {
   "cell_type": "markdown",
   "metadata": {
    "id": "LJir7bml0q03"
   },
   "source": [
    "## Enriquecer los datos"
   ]
  },
  {
   "cell_type": "markdown",
   "metadata": {
    "id": "eqADpCfg0q04"
   },
   "source": [
    "De acuerdo a la validacion anterior no evidenciamos factores adicionales para agregar a los datos que nos pudieran ser utilices, los tipos de datos son correctos, los nombres estan correctos y no es necesario adicionar alguna columna extra. encontramos que la tabla de los planes esta correcta."
   ]
  },
  {
   "cell_type": "markdown",
   "metadata": {
    "id": "1n2X6WXf0q04"
   },
   "source": [
    "## Usuarios/as"
   ]
  },
  {
   "cell_type": "code",
   "execution_count": 8,
   "metadata": {
    "id": "2NgjWFqx0q05"
   },
   "outputs": [
    {
     "name": "stdout",
     "output_type": "stream",
     "text": [
      "<class 'pandas.core.frame.DataFrame'>\n",
      "RangeIndex: 500 entries, 0 to 499\n",
      "Data columns (total 8 columns):\n",
      " #   Column      Non-Null Count  Dtype \n",
      "---  ------      --------------  ----- \n",
      " 0   user_id     500 non-null    int64 \n",
      " 1   first_name  500 non-null    object\n",
      " 2   last_name   500 non-null    object\n",
      " 3   age         500 non-null    int64 \n",
      " 4   city        500 non-null    object\n",
      " 5   reg_date    500 non-null    object\n",
      " 6   plan        500 non-null    object\n",
      " 7   churn_date  34 non-null     object\n",
      "dtypes: int64(2), object(6)\n",
      "memory usage: 31.4+ KB\n"
     ]
    }
   ],
   "source": [
    "# Imprime la información general/resumida sobre el DataFrame de usuarios\n",
    "\n",
    "#mostramos la informacion del dataframe con el metodo info()\n",
    "\n",
    "users_df.info()\n"
   ]
  },
  {
   "cell_type": "code",
   "execution_count": 9,
   "metadata": {
    "id": "1IN1L9uh0q05"
   },
   "outputs": [
    {
     "name": "stdout",
     "output_type": "stream",
     "text": [
      "   user_id first_name  last_name  age                                   city  \\\n",
      "0     1000   Anamaria      Bauer   45  Atlanta-Sandy Springs-Roswell, GA MSA   \n",
      "1     1001     Mickey  Wilkerson   28        Seattle-Tacoma-Bellevue, WA MSA   \n",
      "2     1002     Carlee    Hoffman   36   Las Vegas-Henderson-Paradise, NV MSA   \n",
      "3     1003   Reynaldo    Jenkins   52                          Tulsa, OK MSA   \n",
      "4     1004    Leonila   Thompson   40        Seattle-Tacoma-Bellevue, WA MSA   \n",
      "\n",
      "     reg_date      plan churn_date  \n",
      "0  2018-12-24  ultimate        NaN  \n",
      "1  2018-08-13      surf        NaN  \n",
      "2  2018-10-21      surf        NaN  \n",
      "3  2018-01-28      surf        NaN  \n",
      "4  2018-05-23      surf        NaN  \n"
     ]
    }
   ],
   "source": [
    "# Imprime una muestra de datos para usuarios\n",
    "\n",
    "#mostramos las primeras filas el dataframe \n",
    "\n",
    "print(users_df.head())\n",
    "\n"
   ]
  },
  {
   "cell_type": "markdown",
   "metadata": {
    "id": "dCZoUq4f0q06"
   },
   "source": [
    "\n",
    "No evidenciamos datos inadecuados y de acuerdo a los valores non-null se evidencia valores ausentes, se realizara la respectiva validacion con los metodos correspondientes y se realizara la respectiva correccion. "
   ]
  },
  {
   "cell_type": "markdown",
   "metadata": {
    "id": "BX5FQh_I0q06"
   },
   "source": [
    "### Corregir los datos"
   ]
  },
  {
   "cell_type": "code",
   "execution_count": 10,
   "metadata": {
    "id": "yUqX-K0C0q07"
   },
   "outputs": [
    {
     "name": "stdout",
     "output_type": "stream",
     "text": [
      "0\n"
     ]
    }
   ],
   "source": [
    "#validamos si tenemos valores duplicados con el metodo duplicated()\n",
    "\n",
    "print(users_df.duplicated().sum())\n"
   ]
  },
  {
   "cell_type": "code",
   "execution_count": 11,
   "metadata": {},
   "outputs": [
    {
     "name": "stdout",
     "output_type": "stream",
     "text": [
      "user_id         0\n",
      "first_name      0\n",
      "last_name       0\n",
      "age             0\n",
      "city            0\n",
      "reg_date        0\n",
      "plan            0\n",
      "churn_date    466\n",
      "dtype: int64\n"
     ]
    }
   ],
   "source": [
    "#validamos si tenemos valores ausentes con el metodo isna()\n",
    "\n",
    "print(users_df.isna().sum())\n"
   ]
  },
  {
   "cell_type": "code",
   "execution_count": 12,
   "metadata": {},
   "outputs": [
    {
     "name": "stdout",
     "output_type": "stream",
     "text": [
      "user_id       0\n",
      "first_name    0\n",
      "last_name     0\n",
      "age           0\n",
      "city          0\n",
      "reg_date      0\n",
      "plan          0\n",
      "churn_date    0\n",
      "dtype: int64\n"
     ]
    }
   ],
   "source": [
    "#rellenamos los valores ausentes con '0' en la columna churn_date con el metodo fillna()\n",
    "\n",
    "users_df['churn_date'].fillna('0', inplace= True)\n",
    "\n",
    "print(users_df.isna().sum())  #validamos nuevamente si contamnos con valores ausentes\n",
    "\n"
   ]
  },
  {
   "cell_type": "markdown",
   "metadata": {
    "id": "ycwuARJp0q07"
   },
   "source": [
    "### Enriquecer los datos"
   ]
  },
  {
   "cell_type": "markdown",
   "metadata": {
    "id": "96NIh4CJ0q08"
   },
   "source": [
    "\n",
    "Evidenciamos que la columna reg_date es una columna de fecha de tipo string, la transformaremos a tipo datetime, adicionalmente agregaremos una nueva columna month extrayendo el mes de la fecha, la cual nos servira mas adelante para el analisis de nuestros datos."
   ]
  },
  {
   "cell_type": "code",
   "execution_count": 13,
   "metadata": {
    "id": "iq0AaBS90q08"
   },
   "outputs": [
    {
     "name": "stdout",
     "output_type": "stream",
     "text": [
      "     user_id first_name   last_name  age  \\\n",
      "0       1000   Anamaria       Bauer   45   \n",
      "1       1001     Mickey   Wilkerson   28   \n",
      "2       1002     Carlee     Hoffman   36   \n",
      "3       1003   Reynaldo     Jenkins   52   \n",
      "4       1004    Leonila    Thompson   40   \n",
      "..       ...        ...         ...  ...   \n",
      "495     1495      Fidel      Sharpe   67   \n",
      "496     1496      Ariel    Shepherd   49   \n",
      "497     1497      Donte     Barrera   49   \n",
      "498     1498       Scot  Williamson   51   \n",
      "499     1499      Shena     Dickson   37   \n",
      "\n",
      "                                          city   reg_date      plan  \\\n",
      "0        Atlanta-Sandy Springs-Roswell, GA MSA 2018-12-24  ultimate   \n",
      "1              Seattle-Tacoma-Bellevue, WA MSA 2018-08-13      surf   \n",
      "2         Las Vegas-Henderson-Paradise, NV MSA 2018-10-21      surf   \n",
      "3                                Tulsa, OK MSA 2018-01-28      surf   \n",
      "4              Seattle-Tacoma-Bellevue, WA MSA 2018-05-23      surf   \n",
      "..                                         ...        ...       ...   \n",
      "495  New York-Newark-Jersey City, NY-NJ-PA MSA 2018-09-04      surf   \n",
      "496               New Orleans-Metairie, LA MSA 2018-02-20      surf   \n",
      "497     Los Angeles-Long Beach-Anaheim, CA MSA 2018-12-10  ultimate   \n",
      "498  New York-Newark-Jersey City, NY-NJ-PA MSA 2018-02-04      surf   \n",
      "499          Orlando-Kissimmee-Sanford, FL MSA 2018-05-06      surf   \n",
      "\n",
      "    churn_date  month  \n",
      "0            0     12  \n",
      "1            0      8  \n",
      "2            0     10  \n",
      "3            0      1  \n",
      "4            0      5  \n",
      "..         ...    ...  \n",
      "495          0      9  \n",
      "496          0      2  \n",
      "497          0     12  \n",
      "498          0      2  \n",
      "499          0      5  \n",
      "\n",
      "[500 rows x 9 columns]\n"
     ]
    }
   ],
   "source": [
    "# transformamos la columna reg_date en tipo datetime con el metodo to_datetime() \n",
    "\n",
    "users_df['reg_date'] = pd.to_datetime(users_df['reg_date'], format= '%Y-%m-%d')\n",
    "\n",
    "#creamos una nueva columna llamada 'month' usando el atributo .dt de la columna datetime\n",
    "\n",
    "users_df['month'] = users_df['reg_date'].dt.month \n",
    "\n",
    "print(users_df)"
   ]
  },
  {
   "cell_type": "markdown",
   "metadata": {
    "id": "o7MeKCid0q08"
   },
   "source": [
    "## Llamadas"
   ]
  },
  {
   "cell_type": "code",
   "execution_count": 14,
   "metadata": {
    "id": "6dDlnoDm0q08"
   },
   "outputs": [
    {
     "name": "stdout",
     "output_type": "stream",
     "text": [
      "<class 'pandas.core.frame.DataFrame'>\n",
      "RangeIndex: 137735 entries, 0 to 137734\n",
      "Data columns (total 4 columns):\n",
      " #   Column     Non-Null Count   Dtype  \n",
      "---  ------     --------------   -----  \n",
      " 0   id         137735 non-null  object \n",
      " 1   user_id    137735 non-null  int64  \n",
      " 2   call_date  137735 non-null  object \n",
      " 3   duration   137735 non-null  float64\n",
      "dtypes: float64(1), int64(1), object(2)\n",
      "memory usage: 4.2+ MB\n"
     ]
    }
   ],
   "source": [
    "# Imprime la información general/resumida sobre el DataFrame de las llamadas\n",
    "\n",
    "\n",
    "#mostramos la informacion del dataframe con el metodo info()\n",
    "\n",
    "calls_df.info()\n"
   ]
  },
  {
   "cell_type": "code",
   "execution_count": 15,
   "metadata": {
    "id": "kuh1vlNB0q09"
   },
   "outputs": [
    {
     "name": "stdout",
     "output_type": "stream",
     "text": [
      "         id  user_id   call_date  duration\n",
      "0   1000_93     1000  2018-12-27      8.52\n",
      "1  1000_145     1000  2018-12-27     13.66\n",
      "2  1000_247     1000  2018-12-27     14.48\n",
      "3  1000_309     1000  2018-12-28      5.76\n",
      "4  1000_380     1000  2018-12-30      4.22\n"
     ]
    }
   ],
   "source": [
    "# Imprime una muestra de datos para las llamadas\n",
    "\n",
    "#mostramos las primeras filas el dataframe \n",
    "\n",
    "print(calls_df.head())\n"
   ]
  },
  {
   "cell_type": "markdown",
   "metadata": {
    "id": "DOAxYJSx0q09"
   },
   "source": [
    "\n",
    "No evidenciamos datos inadecuados y de acuerdo a los valores non-null no se evidencia valores ausentes, sin embargo se realizara la respectiva validacion con los metodos correspondientes y de ser necesarios se corregira."
   ]
  },
  {
   "cell_type": "markdown",
   "metadata": {
    "id": "S7hzxmbX0q0-"
   },
   "source": [
    "### Corregir los datos"
   ]
  },
  {
   "cell_type": "code",
   "execution_count": 16,
   "metadata": {
    "id": "S2r8xA4f0q0-"
   },
   "outputs": [
    {
     "name": "stdout",
     "output_type": "stream",
     "text": [
      "0\n"
     ]
    }
   ],
   "source": [
    "#validamos si tenemos valores duplicados con el metodo duplicated()\n",
    "\n",
    "print(calls_df.duplicated().sum())\n"
   ]
  },
  {
   "cell_type": "code",
   "execution_count": 17,
   "metadata": {},
   "outputs": [
    {
     "name": "stdout",
     "output_type": "stream",
     "text": [
      "id           0\n",
      "user_id      0\n",
      "call_date    0\n",
      "duration     0\n",
      "dtype: int64\n"
     ]
    }
   ],
   "source": [
    "#validamos si tenemos valores ausentes con el metodo isna()\n",
    "\n",
    "print(calls_df.isna().sum())\n"
   ]
  },
  {
   "cell_type": "markdown",
   "metadata": {
    "id": "KrMgTrlG0q0_"
   },
   "source": [
    "### Enriquecer los datos"
   ]
  },
  {
   "cell_type": "markdown",
   "metadata": {
    "id": "a9MbmEvE0q0_"
   },
   "source": [
    "Evidenciamos que la columna call_date es una columna de fecha de tipo string, la transformaremos a tipo datetime, adicionalmente agregaremos una nueva columna month extrayendo el mes de la fecha, la cual nos servira mas adelante para el analisis de nuestros datos."
   ]
  },
  {
   "cell_type": "code",
   "execution_count": 18,
   "metadata": {
    "id": "iZ1avpA_0q0_"
   },
   "outputs": [
    {
     "name": "stdout",
     "output_type": "stream",
     "text": [
      "              id  user_id  call_date  duration  month\n",
      "0        1000_93     1000 2018-12-27      8.52     12\n",
      "1       1000_145     1000 2018-12-27     13.66     12\n",
      "2       1000_247     1000 2018-12-27     14.48     12\n",
      "3       1000_309     1000 2018-12-28      5.76     12\n",
      "4       1000_380     1000 2018-12-30      4.22     12\n",
      "...          ...      ...        ...       ...    ...\n",
      "137730  1499_199     1499 2018-11-21      8.72     11\n",
      "137731  1499_200     1499 2018-10-20     10.89     10\n",
      "137732  1499_201     1499 2018-09-21      8.12      9\n",
      "137733  1499_202     1499 2018-10-10      0.37     10\n",
      "137734  1499_203     1499 2018-12-29     13.86     12\n",
      "\n",
      "[137735 rows x 5 columns]\n"
     ]
    }
   ],
   "source": [
    "# transformamos la columna call_date en tipo datetime con el metodo to_datetime() \n",
    "\n",
    "calls_df['call_date'] = pd.to_datetime(calls_df['call_date'], format= '%Y-%m-%d')\n",
    "\n",
    "#creamos una nueva columna llamada 'month' usando el atributo .dt de la columna datetime\n",
    "\n",
    "calls_df['month'] = calls_df['call_date'].dt.month \n",
    "\n",
    "print(calls_df)"
   ]
  },
  {
   "cell_type": "markdown",
   "metadata": {
    "id": "mOUZSi180q0_"
   },
   "source": [
    "## Mensajes"
   ]
  },
  {
   "cell_type": "code",
   "execution_count": 19,
   "metadata": {
    "id": "R-bYJpdV0q1A"
   },
   "outputs": [
    {
     "name": "stdout",
     "output_type": "stream",
     "text": [
      "<class 'pandas.core.frame.DataFrame'>\n",
      "RangeIndex: 76051 entries, 0 to 76050\n",
      "Data columns (total 3 columns):\n",
      " #   Column        Non-Null Count  Dtype \n",
      "---  ------        --------------  ----- \n",
      " 0   id            76051 non-null  object\n",
      " 1   user_id       76051 non-null  int64 \n",
      " 2   message_date  76051 non-null  object\n",
      "dtypes: int64(1), object(2)\n",
      "memory usage: 1.7+ MB\n"
     ]
    }
   ],
   "source": [
    "# Imprime la información general/resumida sobre el DataFrame de los mensajes\n",
    "\n",
    "#mostramos la informacion del dataframe con el metodo info()\n",
    "\n",
    "messages_df.info()\n"
   ]
  },
  {
   "cell_type": "code",
   "execution_count": 20,
   "metadata": {
    "id": "mCEl2iGE0q1A"
   },
   "outputs": [
    {
     "name": "stdout",
     "output_type": "stream",
     "text": [
      "         id  user_id message_date\n",
      "0  1000_125     1000   2018-12-27\n",
      "1  1000_160     1000   2018-12-31\n",
      "2  1000_223     1000   2018-12-31\n",
      "3  1000_251     1000   2018-12-27\n",
      "4  1000_255     1000   2018-12-26\n"
     ]
    }
   ],
   "source": [
    "# Imprime una muestra de datos para los mensajes\n",
    "\n",
    "#mostramos las primeras filas el dataframe \n",
    "\n",
    "print(messages_df.head())\n"
   ]
  },
  {
   "cell_type": "markdown",
   "metadata": {
    "id": "04xDj7KH0q1A"
   },
   "source": [
    "No evidenciamos datos inadecuados y de acuerdo a los valores non-null no se evidencia valores ausentes, sin embargo se realizara la respectiva validacion con los metodos correspondientes y de ser necesarios se corregira."
   ]
  },
  {
   "cell_type": "markdown",
   "metadata": {
    "id": "Sprfak900q1B"
   },
   "source": [
    "### Corregir los datos"
   ]
  },
  {
   "cell_type": "code",
   "execution_count": 21,
   "metadata": {
    "id": "vsllvkoa0q1B"
   },
   "outputs": [
    {
     "name": "stdout",
     "output_type": "stream",
     "text": [
      "0\n"
     ]
    }
   ],
   "source": [
    "#validamos si tenemos valores duplicados con el metodo duplicated()\n",
    "\n",
    "print(messages_df.duplicated().sum())\n"
   ]
  },
  {
   "cell_type": "code",
   "execution_count": 22,
   "metadata": {},
   "outputs": [
    {
     "name": "stdout",
     "output_type": "stream",
     "text": [
      "id              0\n",
      "user_id         0\n",
      "message_date    0\n",
      "dtype: int64\n"
     ]
    }
   ],
   "source": [
    "#validamos si tenemos valores ausentes con el metodo isna()\n",
    "\n",
    "print(messages_df.isna().sum())\n"
   ]
  },
  {
   "cell_type": "markdown",
   "metadata": {
    "id": "HvLid7iD0q1B"
   },
   "source": [
    "### Enriquecer los datos"
   ]
  },
  {
   "cell_type": "markdown",
   "metadata": {
    "id": "8nhPFKIe0q1C"
   },
   "source": [
    "Evidenciamos que la columna message_date es una columna de fecha de tipo string, la transformaremos a tipo datetime, adicionalmente agregaremos una nueva columna month extrayendo el mes de la fecha, la cual nos servira mas adelante para el analisis de nuestros datos."
   ]
  },
  {
   "cell_type": "code",
   "execution_count": 23,
   "metadata": {
    "id": "zYEXZac10q1C"
   },
   "outputs": [
    {
     "name": "stdout",
     "output_type": "stream",
     "text": [
      "             id  user_id message_date  month\n",
      "0      1000_125     1000   2018-12-27     12\n",
      "1      1000_160     1000   2018-12-31     12\n",
      "2      1000_223     1000   2018-12-31     12\n",
      "3      1000_251     1000   2018-12-27     12\n",
      "4      1000_255     1000   2018-12-26     12\n",
      "...         ...      ...          ...    ...\n",
      "76046  1497_526     1497   2018-12-24     12\n",
      "76047  1497_536     1497   2018-12-24     12\n",
      "76048  1497_547     1497   2018-12-31     12\n",
      "76049  1497_558     1497   2018-12-24     12\n",
      "76050  1497_613     1497   2018-12-23     12\n",
      "\n",
      "[76051 rows x 4 columns]\n"
     ]
    }
   ],
   "source": [
    "# transformamos la columna message_date en tipo datetime con el metodo to_datetime() \n",
    "\n",
    "messages_df['message_date'] = pd.to_datetime(messages_df['message_date'], format= '%Y-%m-%d')\n",
    "\n",
    "#creamos una nueva columna llamada 'month' usando el atributo .dt de la columna datetime\n",
    "\n",
    "messages_df['month'] = messages_df['message_date'].dt.month \n",
    "\n",
    "print(messages_df)"
   ]
  },
  {
   "cell_type": "markdown",
   "metadata": {
    "id": "bStkaxn40q1C"
   },
   "source": [
    "## Internet"
   ]
  },
  {
   "cell_type": "code",
   "execution_count": 24,
   "metadata": {
    "id": "e-Uz5qyn0q1C"
   },
   "outputs": [
    {
     "name": "stdout",
     "output_type": "stream",
     "text": [
      "<class 'pandas.core.frame.DataFrame'>\n",
      "RangeIndex: 104825 entries, 0 to 104824\n",
      "Data columns (total 4 columns):\n",
      " #   Column        Non-Null Count   Dtype  \n",
      "---  ------        --------------   -----  \n",
      " 0   id            104825 non-null  object \n",
      " 1   user_id       104825 non-null  int64  \n",
      " 2   session_date  104825 non-null  object \n",
      " 3   mb_used       104825 non-null  float64\n",
      "dtypes: float64(1), int64(1), object(2)\n",
      "memory usage: 3.2+ MB\n"
     ]
    }
   ],
   "source": [
    "# Imprime la información general/resumida sobre el DataFrame de internet\n",
    "\n",
    "#mostramos la informacion del dataframe con el metodo info()\n",
    "\n",
    "internet_df.info()"
   ]
  },
  {
   "cell_type": "code",
   "execution_count": 25,
   "metadata": {
    "id": "9r3x_XLw0q1C"
   },
   "outputs": [
    {
     "name": "stdout",
     "output_type": "stream",
     "text": [
      "         id  user_id session_date  mb_used\n",
      "0   1000_13     1000   2018-12-29    89.86\n",
      "1  1000_204     1000   2018-12-31     0.00\n",
      "2  1000_379     1000   2018-12-28   660.40\n",
      "3  1000_413     1000   2018-12-26   270.99\n",
      "4  1000_442     1000   2018-12-27   880.22\n"
     ]
    }
   ],
   "source": [
    "# Imprime una muestra de datos para el tráfico de internet\n",
    "\n",
    "#mostramos las primeras filas el dataframe \n",
    "\n",
    "print(internet_df.head())\n"
   ]
  },
  {
   "cell_type": "markdown",
   "metadata": {
    "id": "EzOG5ik30q1D"
   },
   "source": [
    "No evidenciamos datos inadecuados y de acuerdo a los valores non-null no se evidencia valores ausentes, sin embargo se realizara la respectiva validacion con los metodos correspondientes y de ser necesarios se corregira."
   ]
  },
  {
   "cell_type": "markdown",
   "metadata": {
    "id": "yA0tkPFg0q1D"
   },
   "source": [
    "### Corregir los datos"
   ]
  },
  {
   "cell_type": "code",
   "execution_count": 26,
   "metadata": {
    "id": "zVeanzdd0q1E"
   },
   "outputs": [
    {
     "name": "stdout",
     "output_type": "stream",
     "text": [
      "0\n"
     ]
    }
   ],
   "source": [
    "#validamos si tenemos valores duplicados con el metodo duplicated()\n",
    "\n",
    "print(internet_df.duplicated().sum())\n"
   ]
  },
  {
   "cell_type": "code",
   "execution_count": 27,
   "metadata": {},
   "outputs": [
    {
     "name": "stdout",
     "output_type": "stream",
     "text": [
      "id              0\n",
      "user_id         0\n",
      "session_date    0\n",
      "mb_used         0\n",
      "dtype: int64\n"
     ]
    }
   ],
   "source": [
    "#validamos si tenemos valores ausentes con el metodo isna()\n",
    "\n",
    "print(internet_df.isna().sum())\n"
   ]
  },
  {
   "cell_type": "markdown",
   "metadata": {
    "id": "e8_mLF4a0q1E"
   },
   "source": [
    "### Enriquecer los datos"
   ]
  },
  {
   "cell_type": "markdown",
   "metadata": {
    "id": "xhNdn2tE0q1E"
   },
   "source": [
    "Evidenciamos que la columna session_date es una columna de fecha de tipo string, la transformaremos a tipo datetime, adicionalmente agregaremos una nueva columna month extrayendo el mes de la fecha, la cual nos servira mas adelante para el analisis de nuestros datos.\n"
   ]
  },
  {
   "cell_type": "code",
   "execution_count": 28,
   "metadata": {
    "id": "ESiYPIEK0q1E"
   },
   "outputs": [
    {
     "name": "stdout",
     "output_type": "stream",
     "text": [
      "              id  user_id session_date  mb_used  month\n",
      "0        1000_13     1000   2018-12-29    89.86     12\n",
      "1       1000_204     1000   2018-12-31     0.00     12\n",
      "2       1000_379     1000   2018-12-28   660.40     12\n",
      "3       1000_413     1000   2018-12-26   270.99     12\n",
      "4       1000_442     1000   2018-12-27   880.22     12\n",
      "...          ...      ...          ...      ...    ...\n",
      "104820  1499_215     1499   2018-10-20   218.06     10\n",
      "104821  1499_216     1499   2018-12-30   304.72     12\n",
      "104822  1499_217     1499   2018-09-22   292.75      9\n",
      "104823  1499_218     1499   2018-12-07     0.00     12\n",
      "104824  1499_219     1499   2018-12-24   758.31     12\n",
      "\n",
      "[104825 rows x 5 columns]\n"
     ]
    }
   ],
   "source": [
    "# transformamos la columna message_date en tipo datetime con el metodo to_datetime() \n",
    "\n",
    "internet_df['session_date'] = pd.to_datetime(internet_df['session_date'], format= '%Y-%m-%d')\n",
    "\n",
    "#creamos una nueva columna llamada 'month' usando el atributo .dt de la columna datetime\n",
    "\n",
    "internet_df['month'] = internet_df['session_date'].dt.month \n",
    "\n",
    "print(internet_df)"
   ]
  },
  {
   "cell_type": "markdown",
   "metadata": {
    "id": "3UA2cqIW0q1E"
   },
   "source": [
    "## Estudiar las condiciones de las tarifas"
   ]
  },
  {
   "cell_type": "markdown",
   "metadata": {
    "id": "T86Sqltq0q1F"
   },
   "source": [
    "Es sumamente importante entender cómo funcionan las tarifas, cómo se les cobra a los usuarios en función de su plan de suscripción. Así que te sugerimos imprimir la información de la tarifa para ver una vez más sus condiciones."
   ]
  },
  {
   "cell_type": "code",
   "execution_count": 29,
   "metadata": {
    "id": "i409op8p0q1F"
   },
   "outputs": [
    {
     "data": {
      "text/html": [
       "<div>\n",
       "<style scoped>\n",
       "    .dataframe tbody tr th:only-of-type {\n",
       "        vertical-align: middle;\n",
       "    }\n",
       "\n",
       "    .dataframe tbody tr th {\n",
       "        vertical-align: top;\n",
       "    }\n",
       "\n",
       "    .dataframe thead th {\n",
       "        text-align: right;\n",
       "    }\n",
       "</style>\n",
       "<table border=\"1\" class=\"dataframe\">\n",
       "  <thead>\n",
       "    <tr style=\"text-align: right;\">\n",
       "      <th></th>\n",
       "      <th>messages_included</th>\n",
       "      <th>mb_per_month_included</th>\n",
       "      <th>minutes_included</th>\n",
       "      <th>usd_monthly_pay</th>\n",
       "      <th>usd_per_gb</th>\n",
       "      <th>usd_per_message</th>\n",
       "      <th>usd_per_minute</th>\n",
       "      <th>plan_name</th>\n",
       "    </tr>\n",
       "  </thead>\n",
       "  <tbody>\n",
       "    <tr>\n",
       "      <th>0</th>\n",
       "      <td>50</td>\n",
       "      <td>15360</td>\n",
       "      <td>500</td>\n",
       "      <td>20</td>\n",
       "      <td>10</td>\n",
       "      <td>0.03</td>\n",
       "      <td>0.03</td>\n",
       "      <td>surf</td>\n",
       "    </tr>\n",
       "    <tr>\n",
       "      <th>1</th>\n",
       "      <td>1000</td>\n",
       "      <td>30720</td>\n",
       "      <td>3000</td>\n",
       "      <td>70</td>\n",
       "      <td>7</td>\n",
       "      <td>0.01</td>\n",
       "      <td>0.01</td>\n",
       "      <td>ultimate</td>\n",
       "    </tr>\n",
       "  </tbody>\n",
       "</table>\n",
       "</div>"
      ],
      "text/plain": [
       "   messages_included  mb_per_month_included  minutes_included  \\\n",
       "0                 50                  15360               500   \n",
       "1               1000                  30720              3000   \n",
       "\n",
       "   usd_monthly_pay  usd_per_gb  usd_per_message  usd_per_minute plan_name  \n",
       "0               20          10             0.03            0.03      surf  \n",
       "1               70           7             0.01            0.01  ultimate  "
      ]
     },
     "execution_count": 29,
     "metadata": {},
     "output_type": "execute_result"
    }
   ],
   "source": [
    "# Imprime las condiciones de la tarifa y asegúrate de que te quedan claras\n",
    "\n",
    "plans_df"
   ]
  },
  {
   "cell_type": "markdown",
   "metadata": {
    "id": "hMR1tP5d0q1F"
   },
   "source": [
    "## Agregar datos por usuario\n"
   ]
  },
  {
   "cell_type": "code",
   "execution_count": 30,
   "metadata": {
    "id": "A332cedB0q1G"
   },
   "outputs": [
    {
     "name": "stdout",
     "output_type": "stream",
     "text": [
      "      user_id  month  call_count\n",
      "0        1000     12          16\n",
      "1        1001      8          27\n",
      "2        1001      9          49\n",
      "3        1001     10          65\n",
      "4        1001     11          64\n",
      "...       ...    ...         ...\n",
      "2253     1498     12          39\n",
      "2254     1499      9          41\n",
      "2255     1499     10          53\n",
      "2256     1499     11          45\n",
      "2257     1499     12          65\n",
      "\n",
      "[2258 rows x 3 columns]\n"
     ]
    }
   ],
   "source": [
    "# Calcula el número de llamadas hechas por cada usuario al mes. Guarda el resultado.\n",
    "#agrupamos con el metodo groupby por user_id y month y contamos el numero de llamadas de la columna id y asignamos los resultados en una nueva columna llamada call_count\n",
    "\n",
    "calls_user_per_month = calls_df.groupby(['user_id', 'month'])['id'].count().reset_index(name='call_count')\n",
    "print(calls_user_per_month)"
   ]
  },
  {
   "cell_type": "code",
   "execution_count": 31,
   "metadata": {
    "id": "aw2cmuql0q1G"
   },
   "outputs": [
    {
     "name": "stdout",
     "output_type": "stream",
     "text": [
      "      user_id  month  total_minutes\n",
      "0        1000     12         116.83\n",
      "1        1001      8         171.14\n",
      "2        1001      9         297.69\n",
      "3        1001     10         374.11\n",
      "4        1001     11         404.59\n",
      "...       ...    ...            ...\n",
      "2253     1498     12         324.77\n",
      "2254     1499      9         330.37\n",
      "2255     1499     10         363.28\n",
      "2256     1499     11         288.56\n",
      "2257     1499     12         468.10\n",
      "\n",
      "[2258 rows x 3 columns]\n"
     ]
    }
   ],
   "source": [
    "# Calcula la cantidad de minutos usados por cada usuario al mes. Guarda el resultado.\n",
    "\n",
    "#agrupamos con el metodo groupby por user_id y month y sumamos el numero de minutos de la columna duration y asignamos los resultados en una nueva columna llamada total_minutes\n",
    "\n",
    "minutes_user_per_month = calls_df.groupby(['user_id', 'month'])['duration'].sum().reset_index(name='total_minutes')\n",
    "print(minutes_user_per_month)"
   ]
  },
  {
   "cell_type": "code",
   "execution_count": 32,
   "metadata": {
    "id": "CcQvNHn60q1G"
   },
   "outputs": [
    {
     "name": "stdout",
     "output_type": "stream",
     "text": [
      "      user_id  month  messages_count\n",
      "0        1000     12              11\n",
      "1        1001      8              30\n",
      "2        1001      9              44\n",
      "3        1001     10              53\n",
      "4        1001     11              36\n",
      "...       ...    ...             ...\n",
      "1801     1496      9              21\n",
      "1802     1496     10              18\n",
      "1803     1496     11              13\n",
      "1804     1496     12              11\n",
      "1805     1497     12              50\n",
      "\n",
      "[1806 rows x 3 columns]\n"
     ]
    }
   ],
   "source": [
    "# Calcula el número de mensajes enviados por cada usuario al mes. Guarda el resultado.\n",
    "\n",
    "#agrupamos con el metodo groupby por user_id y month y contamos el numero de mensajes de la columna id y asignamos los resultados en una nueva columna llamada messages_count\n",
    "\n",
    "messages_user_per_month = messages_df.groupby(['user_id', 'month'])['id'].count().reset_index(name='messages_count')\n",
    "print(messages_user_per_month)"
   ]
  },
  {
   "cell_type": "code",
   "execution_count": 33,
   "metadata": {
    "id": "H1AqN2eG0q1H"
   },
   "outputs": [
    {
     "name": "stdout",
     "output_type": "stream",
     "text": [
      "      user_id  month  total_mb_used\n",
      "0        1000     12        1901.47\n",
      "1        1001      8        6919.15\n",
      "2        1001      9       13314.82\n",
      "3        1001     10       22330.49\n",
      "4        1001     11       18504.30\n",
      "...       ...    ...            ...\n",
      "2272     1498     12       23137.69\n",
      "2273     1499      9       12984.76\n",
      "2274     1499     10       19492.43\n",
      "2275     1499     11       16813.83\n",
      "2276     1499     12       22059.21\n",
      "\n",
      "[2277 rows x 3 columns]\n"
     ]
    }
   ],
   "source": [
    "# Calcula el volumen del tráfico de Internet usado por cada usuario al mes. Guarda el resultado.\n",
    "\n",
    "#agrupamos con el metodo groupby por user_id y month y sumamos el numero de megabytes(mb) usado de la columna mb_used y asignamos los resultados en una nueva columna llamada total_mb_used\n",
    "\n",
    "internet_user_per_month = internet_df.groupby(['user_id', 'month'])['mb_used'].sum().reset_index(name='total_mb_used')\n",
    "print(internet_user_per_month)"
   ]
  },
  {
   "cell_type": "code",
   "execution_count": 34,
   "metadata": {
    "id": "FW99ykyf0q1H",
    "scrolled": true
   },
   "outputs": [
    {
     "name": "stdout",
     "output_type": "stream",
     "text": [
      "      user_id  month  call_count  total_minutes  messages_count  total_mb_used\n",
      "0        1000     12        16.0         116.83            11.0        1901.47\n",
      "1        1001      8        27.0         171.14            30.0        6919.15\n",
      "2        1001      9        49.0         297.69            44.0       13314.82\n",
      "3        1001     10        65.0         374.11            53.0       22330.49\n",
      "4        1001     11        64.0         404.59            36.0       18504.30\n",
      "...       ...    ...         ...            ...             ...            ...\n",
      "2288     1349     12         NaN            NaN            61.0       13039.91\n",
      "2289     1361      5         NaN            NaN             2.0        1519.69\n",
      "2290     1482     10         NaN            NaN             2.0            NaN\n",
      "2291     1108     12         NaN            NaN             NaN         233.17\n",
      "2292     1311      6         NaN            NaN             NaN        1498.83\n",
      "\n",
      "[2293 rows x 6 columns]\n"
     ]
    }
   ],
   "source": [
    "# Fusiona los datos de llamadas, minutos, mensajes e Internet con base en user_id y month\n",
    "\n",
    "#unimos las tablas calls_user_per_month y minutes_user_per_month con el metodo merge con base en las columnas user_id y month\n",
    "merged_1 = calls_user_per_month.merge(minutes_user_per_month, on= ['user_id', 'month'], how= 'outer')\n",
    "\n",
    "#unimos las tablas merged_1 y messages_user_per_month con el metodo merge con base en las columnas user_id y month\n",
    "merged_2 = merged_1.merge(messages_user_per_month, on= ['user_id', 'month'], how= 'outer')\n",
    "\n",
    "#unimos las tablas merged_2 y internet_user_per_month con el metodo merge con base en las columnas user_id y month\n",
    "\n",
    "all_data_merged = merged_2.merge(internet_user_per_month, on= ['user_id', 'month'], how= 'outer')\n",
    "\n",
    "print(all_data_merged)"
   ]
  },
  {
   "cell_type": "code",
   "execution_count": 35,
   "metadata": {
    "id": "0dNOXHag0q1H"
   },
   "outputs": [
    {
     "name": "stdout",
     "output_type": "stream",
     "text": [
      "      user_id  month  call_count  total_minutes  messages_count  \\\n",
      "0        1000   12.0        16.0         116.83            11.0   \n",
      "1        1001    8.0        27.0         171.14            30.0   \n",
      "2        1001    9.0        49.0         297.69            44.0   \n",
      "3        1001   10.0        65.0         374.11            53.0   \n",
      "4        1001   11.0        64.0         404.59            36.0   \n",
      "...       ...    ...         ...            ...             ...   \n",
      "2298     1307    NaN         NaN            NaN             NaN   \n",
      "2299     1319    NaN         NaN            NaN             NaN   \n",
      "2300     1378    NaN         NaN            NaN             NaN   \n",
      "2301     1463    NaN         NaN            NaN             NaN   \n",
      "2302     1473    NaN         NaN            NaN             NaN   \n",
      "\n",
      "      total_mb_used                                    city plan_name  \n",
      "0           1901.47   Atlanta-Sandy Springs-Roswell, GA MSA  ultimate  \n",
      "1           6919.15         Seattle-Tacoma-Bellevue, WA MSA      surf  \n",
      "2          13314.82         Seattle-Tacoma-Bellevue, WA MSA      surf  \n",
      "3          22330.49         Seattle-Tacoma-Bellevue, WA MSA      surf  \n",
      "4          18504.30         Seattle-Tacoma-Bellevue, WA MSA      surf  \n",
      "...             ...                                     ...       ...  \n",
      "2298            NaN      Boston-Cambridge-Newton, MA-NH MSA      surf  \n",
      "2299            NaN                Colorado Springs, CO MSA      surf  \n",
      "2300            NaN          Denver-Aurora-Lakewood, CO MSA      surf  \n",
      "2301            NaN   Atlanta-Sandy Springs-Roswell, GA MSA  ultimate  \n",
      "2302            NaN  Louisville/Jefferson County, KY-IN MSA      surf  \n",
      "\n",
      "[2303 rows x 8 columns]\n"
     ]
    }
   ],
   "source": [
    "# Añade la información de la tarifa\n",
    "\n",
    "#primero extraigo de la tabla users_df las columnas de user_id, plan y city\n",
    "\n",
    "user_plans = users_df[['user_id', 'city', 'plan']]\n",
    "\n",
    "#cambiamos el nombre de la columna plan por plan_name para que quede igual el nombre que tiene la tabla plans_df\n",
    "new_columns = {'user_id':'user_id', 'city':'city', 'plan':'plan_name'}\n",
    "user_plans = user_plans.rename(columns= new_columns)\n",
    "\n",
    "#unimos las tablas all_data_merged y user_plans con el metodo merge con base en la columna user_id para adicionale el plan y la ciudad a la nueva tabla\n",
    "\n",
    "usage_data = all_data_merged.merge(user_plans, on= ['user_id'], how= 'outer' )\n",
    "\n",
    "print(usage_data)\n",
    "\n"
   ]
  },
  {
   "cell_type": "markdown",
   "metadata": {
    "id": "1IwGo4wg0q1I"
   },
   "source": [
    "Calcula los ingresos mensuales por usuario (resta el límite del paquete gratuito del número total de llamadas, mensajes de texto y datos; multiplica el resultado por el valor del plan de llamadas; añade la tarifa mensual en función del plan de llamadas). Nota: Dadas las condiciones del plan, ¡esto podría no ser tan trivial como un par de líneas! Así que no pasa nada si dedicas algo de tiempo a ello."
   ]
  },
  {
   "cell_type": "code",
   "execution_count": 36,
   "metadata": {
    "id": "5FGCf_c60q1I",
    "scrolled": true
   },
   "outputs": [
    {
     "data": {
      "text/html": [
       "<div>\n",
       "<style scoped>\n",
       "    .dataframe tbody tr th:only-of-type {\n",
       "        vertical-align: middle;\n",
       "    }\n",
       "\n",
       "    .dataframe tbody tr th {\n",
       "        vertical-align: top;\n",
       "    }\n",
       "\n",
       "    .dataframe thead th {\n",
       "        text-align: right;\n",
       "    }\n",
       "</style>\n",
       "<table border=\"1\" class=\"dataframe\">\n",
       "  <thead>\n",
       "    <tr style=\"text-align: right;\">\n",
       "      <th></th>\n",
       "      <th>user_id</th>\n",
       "      <th>month</th>\n",
       "      <th>call_count</th>\n",
       "      <th>total_minutes</th>\n",
       "      <th>messages_count</th>\n",
       "      <th>total_mb_used</th>\n",
       "      <th>city</th>\n",
       "      <th>plan_name</th>\n",
       "      <th>messages_included</th>\n",
       "      <th>mb_per_month_included</th>\n",
       "      <th>minutes_included</th>\n",
       "      <th>usd_monthly_pay</th>\n",
       "      <th>usd_per_gb</th>\n",
       "      <th>usd_per_message</th>\n",
       "      <th>usd_per_minute</th>\n",
       "      <th>monthly_income</th>\n",
       "    </tr>\n",
       "  </thead>\n",
       "  <tbody>\n",
       "    <tr>\n",
       "      <th>0</th>\n",
       "      <td>1000</td>\n",
       "      <td>12.0</td>\n",
       "      <td>16.0</td>\n",
       "      <td>116.83</td>\n",
       "      <td>11.0</td>\n",
       "      <td>1901.47</td>\n",
       "      <td>Atlanta-Sandy Springs-Roswell, GA MSA</td>\n",
       "      <td>ultimate</td>\n",
       "      <td>1000</td>\n",
       "      <td>30720</td>\n",
       "      <td>3000</td>\n",
       "      <td>70</td>\n",
       "      <td>7</td>\n",
       "      <td>0.01</td>\n",
       "      <td>0.01</td>\n",
       "      <td>70.000000</td>\n",
       "    </tr>\n",
       "    <tr>\n",
       "      <th>1</th>\n",
       "      <td>1001</td>\n",
       "      <td>8.0</td>\n",
       "      <td>27.0</td>\n",
       "      <td>171.14</td>\n",
       "      <td>30.0</td>\n",
       "      <td>6919.15</td>\n",
       "      <td>Seattle-Tacoma-Bellevue, WA MSA</td>\n",
       "      <td>surf</td>\n",
       "      <td>50</td>\n",
       "      <td>15360</td>\n",
       "      <td>500</td>\n",
       "      <td>20</td>\n",
       "      <td>10</td>\n",
       "      <td>0.03</td>\n",
       "      <td>0.03</td>\n",
       "      <td>20.000000</td>\n",
       "    </tr>\n",
       "    <tr>\n",
       "      <th>2</th>\n",
       "      <td>1001</td>\n",
       "      <td>9.0</td>\n",
       "      <td>49.0</td>\n",
       "      <td>297.69</td>\n",
       "      <td>44.0</td>\n",
       "      <td>13314.82</td>\n",
       "      <td>Seattle-Tacoma-Bellevue, WA MSA</td>\n",
       "      <td>surf</td>\n",
       "      <td>50</td>\n",
       "      <td>15360</td>\n",
       "      <td>500</td>\n",
       "      <td>20</td>\n",
       "      <td>10</td>\n",
       "      <td>0.03</td>\n",
       "      <td>0.03</td>\n",
       "      <td>20.000000</td>\n",
       "    </tr>\n",
       "    <tr>\n",
       "      <th>3</th>\n",
       "      <td>1001</td>\n",
       "      <td>10.0</td>\n",
       "      <td>65.0</td>\n",
       "      <td>374.11</td>\n",
       "      <td>53.0</td>\n",
       "      <td>22330.49</td>\n",
       "      <td>Seattle-Tacoma-Bellevue, WA MSA</td>\n",
       "      <td>surf</td>\n",
       "      <td>50</td>\n",
       "      <td>15360</td>\n",
       "      <td>500</td>\n",
       "      <td>20</td>\n",
       "      <td>10</td>\n",
       "      <td>0.03</td>\n",
       "      <td>0.03</td>\n",
       "      <td>88.161191</td>\n",
       "    </tr>\n",
       "    <tr>\n",
       "      <th>4</th>\n",
       "      <td>1001</td>\n",
       "      <td>11.0</td>\n",
       "      <td>64.0</td>\n",
       "      <td>404.59</td>\n",
       "      <td>36.0</td>\n",
       "      <td>18504.30</td>\n",
       "      <td>Seattle-Tacoma-Bellevue, WA MSA</td>\n",
       "      <td>surf</td>\n",
       "      <td>50</td>\n",
       "      <td>15360</td>\n",
       "      <td>500</td>\n",
       "      <td>20</td>\n",
       "      <td>10</td>\n",
       "      <td>0.03</td>\n",
       "      <td>0.03</td>\n",
       "      <td>50.706055</td>\n",
       "    </tr>\n",
       "    <tr>\n",
       "      <th>...</th>\n",
       "      <td>...</td>\n",
       "      <td>...</td>\n",
       "      <td>...</td>\n",
       "      <td>...</td>\n",
       "      <td>...</td>\n",
       "      <td>...</td>\n",
       "      <td>...</td>\n",
       "      <td>...</td>\n",
       "      <td>...</td>\n",
       "      <td>...</td>\n",
       "      <td>...</td>\n",
       "      <td>...</td>\n",
       "      <td>...</td>\n",
       "      <td>...</td>\n",
       "      <td>...</td>\n",
       "      <td>...</td>\n",
       "    </tr>\n",
       "    <tr>\n",
       "      <th>2298</th>\n",
       "      <td>1307</td>\n",
       "      <td>NaN</td>\n",
       "      <td>NaN</td>\n",
       "      <td>NaN</td>\n",
       "      <td>NaN</td>\n",
       "      <td>NaN</td>\n",
       "      <td>Boston-Cambridge-Newton, MA-NH MSA</td>\n",
       "      <td>surf</td>\n",
       "      <td>50</td>\n",
       "      <td>15360</td>\n",
       "      <td>500</td>\n",
       "      <td>20</td>\n",
       "      <td>10</td>\n",
       "      <td>0.03</td>\n",
       "      <td>0.03</td>\n",
       "      <td>NaN</td>\n",
       "    </tr>\n",
       "    <tr>\n",
       "      <th>2299</th>\n",
       "      <td>1319</td>\n",
       "      <td>NaN</td>\n",
       "      <td>NaN</td>\n",
       "      <td>NaN</td>\n",
       "      <td>NaN</td>\n",
       "      <td>NaN</td>\n",
       "      <td>Colorado Springs, CO MSA</td>\n",
       "      <td>surf</td>\n",
       "      <td>50</td>\n",
       "      <td>15360</td>\n",
       "      <td>500</td>\n",
       "      <td>20</td>\n",
       "      <td>10</td>\n",
       "      <td>0.03</td>\n",
       "      <td>0.03</td>\n",
       "      <td>NaN</td>\n",
       "    </tr>\n",
       "    <tr>\n",
       "      <th>2300</th>\n",
       "      <td>1378</td>\n",
       "      <td>NaN</td>\n",
       "      <td>NaN</td>\n",
       "      <td>NaN</td>\n",
       "      <td>NaN</td>\n",
       "      <td>NaN</td>\n",
       "      <td>Denver-Aurora-Lakewood, CO MSA</td>\n",
       "      <td>surf</td>\n",
       "      <td>50</td>\n",
       "      <td>15360</td>\n",
       "      <td>500</td>\n",
       "      <td>20</td>\n",
       "      <td>10</td>\n",
       "      <td>0.03</td>\n",
       "      <td>0.03</td>\n",
       "      <td>NaN</td>\n",
       "    </tr>\n",
       "    <tr>\n",
       "      <th>2301</th>\n",
       "      <td>1463</td>\n",
       "      <td>NaN</td>\n",
       "      <td>NaN</td>\n",
       "      <td>NaN</td>\n",
       "      <td>NaN</td>\n",
       "      <td>NaN</td>\n",
       "      <td>Atlanta-Sandy Springs-Roswell, GA MSA</td>\n",
       "      <td>ultimate</td>\n",
       "      <td>1000</td>\n",
       "      <td>30720</td>\n",
       "      <td>3000</td>\n",
       "      <td>70</td>\n",
       "      <td>7</td>\n",
       "      <td>0.01</td>\n",
       "      <td>0.01</td>\n",
       "      <td>NaN</td>\n",
       "    </tr>\n",
       "    <tr>\n",
       "      <th>2302</th>\n",
       "      <td>1473</td>\n",
       "      <td>NaN</td>\n",
       "      <td>NaN</td>\n",
       "      <td>NaN</td>\n",
       "      <td>NaN</td>\n",
       "      <td>NaN</td>\n",
       "      <td>Louisville/Jefferson County, KY-IN MSA</td>\n",
       "      <td>surf</td>\n",
       "      <td>50</td>\n",
       "      <td>15360</td>\n",
       "      <td>500</td>\n",
       "      <td>20</td>\n",
       "      <td>10</td>\n",
       "      <td>0.03</td>\n",
       "      <td>0.03</td>\n",
       "      <td>NaN</td>\n",
       "    </tr>\n",
       "  </tbody>\n",
       "</table>\n",
       "<p>2303 rows × 16 columns</p>\n",
       "</div>"
      ],
      "text/plain": [
       "      user_id  month  call_count  total_minutes  messages_count  \\\n",
       "0        1000   12.0        16.0         116.83            11.0   \n",
       "1        1001    8.0        27.0         171.14            30.0   \n",
       "2        1001    9.0        49.0         297.69            44.0   \n",
       "3        1001   10.0        65.0         374.11            53.0   \n",
       "4        1001   11.0        64.0         404.59            36.0   \n",
       "...       ...    ...         ...            ...             ...   \n",
       "2298     1307    NaN         NaN            NaN             NaN   \n",
       "2299     1319    NaN         NaN            NaN             NaN   \n",
       "2300     1378    NaN         NaN            NaN             NaN   \n",
       "2301     1463    NaN         NaN            NaN             NaN   \n",
       "2302     1473    NaN         NaN            NaN             NaN   \n",
       "\n",
       "      total_mb_used                                    city plan_name  \\\n",
       "0           1901.47   Atlanta-Sandy Springs-Roswell, GA MSA  ultimate   \n",
       "1           6919.15         Seattle-Tacoma-Bellevue, WA MSA      surf   \n",
       "2          13314.82         Seattle-Tacoma-Bellevue, WA MSA      surf   \n",
       "3          22330.49         Seattle-Tacoma-Bellevue, WA MSA      surf   \n",
       "4          18504.30         Seattle-Tacoma-Bellevue, WA MSA      surf   \n",
       "...             ...                                     ...       ...   \n",
       "2298            NaN      Boston-Cambridge-Newton, MA-NH MSA      surf   \n",
       "2299            NaN                Colorado Springs, CO MSA      surf   \n",
       "2300            NaN          Denver-Aurora-Lakewood, CO MSA      surf   \n",
       "2301            NaN   Atlanta-Sandy Springs-Roswell, GA MSA  ultimate   \n",
       "2302            NaN  Louisville/Jefferson County, KY-IN MSA      surf   \n",
       "\n",
       "      messages_included  mb_per_month_included  minutes_included  \\\n",
       "0                  1000                  30720              3000   \n",
       "1                    50                  15360               500   \n",
       "2                    50                  15360               500   \n",
       "3                    50                  15360               500   \n",
       "4                    50                  15360               500   \n",
       "...                 ...                    ...               ...   \n",
       "2298                 50                  15360               500   \n",
       "2299                 50                  15360               500   \n",
       "2300                 50                  15360               500   \n",
       "2301               1000                  30720              3000   \n",
       "2302                 50                  15360               500   \n",
       "\n",
       "      usd_monthly_pay  usd_per_gb  usd_per_message  usd_per_minute  \\\n",
       "0                  70           7             0.01            0.01   \n",
       "1                  20          10             0.03            0.03   \n",
       "2                  20          10             0.03            0.03   \n",
       "3                  20          10             0.03            0.03   \n",
       "4                  20          10             0.03            0.03   \n",
       "...               ...         ...              ...             ...   \n",
       "2298               20          10             0.03            0.03   \n",
       "2299               20          10             0.03            0.03   \n",
       "2300               20          10             0.03            0.03   \n",
       "2301               70           7             0.01            0.01   \n",
       "2302               20          10             0.03            0.03   \n",
       "\n",
       "      monthly_income  \n",
       "0          70.000000  \n",
       "1          20.000000  \n",
       "2          20.000000  \n",
       "3          88.161191  \n",
       "4          50.706055  \n",
       "...              ...  \n",
       "2298             NaN  \n",
       "2299             NaN  \n",
       "2300             NaN  \n",
       "2301             NaN  \n",
       "2302             NaN  \n",
       "\n",
       "[2303 rows x 16 columns]"
      ]
     },
     "execution_count": 36,
     "metadata": {},
     "output_type": "execute_result"
    }
   ],
   "source": [
    "# Calcula el ingreso mensual para cada usuario\n",
    "\n",
    "#unimos la tabla anterior usage_data_plans con la tabla plans_df con el metodo merge con base en la columna plan_name\n",
    "\n",
    "usage_data_plans = usage_data.merge(plans_df, on= ['plan_name'], how= 'left' )\n",
    "\n",
    "# Aseguramos de que las diferencias no sean negativas con el metodo apply y la funcion lambda\n",
    "extra_minutes = usage_data_plans['total_minutes'] - usage_data_plans['minutes_included']\n",
    "extra_minutes = extra_minutes.apply(lambda x: max(x, 0))\n",
    "\n",
    "extra_messages = usage_data_plans['messages_count'] - usage_data_plans['messages_included']\n",
    "extra_messages = extra_messages.apply(lambda x: max(x, 0)) \n",
    "\n",
    "extra_mb = usage_data_plans['total_mb_used'] - usage_data_plans['mb_per_month_included']\n",
    "extra_mb = extra_mb.apply(lambda x: max(x, 0))\n",
    "\n",
    "# Calculamos los cargos adicionales\n",
    "usage_data_plans['monthly_income'] = (\n",
    "    usage_data_plans['usd_monthly_pay'] +\n",
    "    (extra_minutes * usage_data_plans['usd_per_minute']) +\n",
    "    (extra_messages * usage_data_plans['usd_per_message']) +\n",
    "    ((extra_mb / 1024) * usage_data_plans['usd_per_gb'])  # Convertimos MB a GB\n",
    ")\n",
    "\n",
    "usage_data_plans"
   ]
  },
  {
   "cell_type": "markdown",
   "metadata": {
    "id": "-jtyHzJb0q1I"
   },
   "source": [
    "## Estudia el comportamiento de usuario"
   ]
  },
  {
   "cell_type": "markdown",
   "metadata": {
    "id": "AxU3Y0N70q1J"
   },
   "source": [
    "Calcula algunas estadísticas descriptivas para los datos agregados y fusionados que nos sean útiles y que muestren un panorama general captado por los datos. Dibuja gráficos útiles para facilitar la comprensión. Dado que la tarea principal es comparar las tarifas y decidir cuál es más rentable, las estadísticas y gráficas deben calcularse por tarifa.\n"
   ]
  },
  {
   "cell_type": "markdown",
   "metadata": {
    "id": "vtW4CJEe0q1J"
   },
   "source": [
    "### Llamadas"
   ]
  },
  {
   "cell_type": "code",
   "execution_count": 37,
   "metadata": {
    "id": "Jf5v5--k0q1J"
   },
   "outputs": [
    {
     "name": "stdout",
     "output_type": "stream",
     "text": [
      "   plan_name  month  avg_call_duration\n",
      "0       surf    1.0         192.840000\n",
      "1       surf    2.0         280.851111\n",
      "2       surf    3.0         310.970000\n",
      "3       surf    4.0         332.380000\n",
      "4       surf    5.0         387.108000\n",
      "5       surf    6.0         411.450625\n",
      "6       surf    7.0         428.060917\n",
      "7       surf    8.0         394.474717\n",
      "8       surf    9.0         397.133298\n",
      "9       surf   10.0         414.435733\n",
      "10      surf   11.0         408.255415\n",
      "11      surf   12.0         457.547074\n",
      "12  ultimate    1.0         183.162500\n",
      "13  ultimate    2.0         443.171667\n",
      "14  ultimate    3.0         285.701667\n",
      "15  ultimate    4.0         316.508095\n",
      "16  ultimate    5.0         383.664828\n",
      "17  ultimate    6.0         365.358222\n",
      "18  ultimate    7.0         403.767288\n",
      "19  ultimate    8.0         397.274789\n",
      "20  ultimate    9.0         413.287326\n",
      "21  ultimate   10.0         429.217238\n",
      "22  ultimate   11.0         423.814683\n",
      "23  ultimate   12.0         438.824832\n",
      "\n",
      "plan_name  month        surf    ultimate\n",
      "0            1.0  192.840000  183.162500\n",
      "1            2.0  280.851111  443.171667\n",
      "2            3.0  310.970000  285.701667\n",
      "3            4.0  332.380000  316.508095\n",
      "4            5.0  387.108000  383.664828\n",
      "5            6.0  411.450625  365.358222\n",
      "6            7.0  428.060917  403.767288\n",
      "7            8.0  394.474717  397.274789\n",
      "8            9.0  397.133298  413.287326\n",
      "9           10.0  414.435733  429.217238\n",
      "10          11.0  408.255415  423.814683\n",
      "11          12.0  457.547074  438.824832\n"
     ]
    },
    {
     "data": {
      "image/png": "[encoded data removed]",
      "text/plain": [
       "<Figure size 640x480 with 1 Axes>"
      ]
     },
     "metadata": {},
     "output_type": "display_data"
    }
   ],
   "source": [
    "# Compara la duración promedio de llamadas por cada plan y por cada mes. Traza un gráfico de barras para visualizarla.\n",
    "\n",
    "# agrupamos por la columna plan_name y month y calculamos la duracion promedio de las llamadas\n",
    "avg_call_duration = usage_data_plans.groupby(['plan_name', 'month'])['total_minutes'].mean().reset_index(name='avg_call_duration')\n",
    "print(avg_call_duration)\n",
    "\n",
    "# organizmos la tabla con el metodo pivot_table el cual nos permite convertir las filas en columnas basadas en el plan_name, esto para posteriormente facilitar el grafico\n",
    "avg_call_duration = avg_call_duration.pivot_table(\n",
    "    index='month',\n",
    "    columns='plan_name',\n",
    "    values='avg_call_duration',\n",
    "    ).reset_index()\n",
    "\n",
    "print()\n",
    "print(avg_call_duration)\n",
    "\n",
    "# realizamos un grafico de barras para visualizar mejor lo anterior, usamos el metod plot \n",
    "\n",
    "avg_call_duration.plot(kind= 'bar',\n",
    "                       x= 'month',\n",
    "                       title='Duracion promedio de llamadas por cada plan en el mes',\n",
    "                       xlabel='Mes',\n",
    "                       ylabel='duracion promedio de llamadas',\n",
    "                       \n",
    "                      )\n",
    "plt.show()"
   ]
  },
  {
   "cell_type": "code",
   "execution_count": 38,
   "metadata": {
    "id": "QoLqW1S_0q1J"
   },
   "outputs": [
    {
     "data": {
      "image/png": "[encoded data removed]",
      "text/plain": [
       "<Figure size 640x480 with 1 Axes>"
      ]
     },
     "metadata": {},
     "output_type": "display_data"
    }
   ],
   "source": [
    "# Compara el número de minutos mensuales que necesitan los usuarios de cada plan. Traza un histograma.\n",
    "\n",
    "# primero separamos los datos por plan\n",
    "surf_plan = usage_data_plans[usage_data_plans['plan_name'] == 'surf']\n",
    "ultimate_plan = usage_data_plans[usage_data_plans['plan_name'] == 'ultimate']\n",
    "\n",
    "# realizamos un histograma para cada plan con el metodo plot\n",
    "\n",
    "surf_plan['total_minutes'].plot(kind='hist', alpha=0.8, label= 'surf')\n",
    "ultimate_plan['total_minutes'].plot(kind='hist', alpha=0.8, label= 'ultimate')\n",
    "plt.legend(['surf', 'ultimate'])\n",
    "plt.title('Distribución del número de minutos mensuales por plan')\n",
    "plt.xlabel('Número de minutos por mes')\n",
    "plt.ylabel('Frecuencia')\n",
    "\n",
    "plt.show()"
   ]
  },
  {
   "cell_type": "markdown",
   "metadata": {
    "id": "bLS9T8OH0q1K"
   },
   "source": [
    "Calcula la media y la variable de la duración de las llamadas para averiguar si los usuarios de los distintos planes se comportan de forma diferente al realizar sus llamadas."
   ]
  },
  {
   "cell_type": "code",
   "execution_count": 39,
   "metadata": {
    "id": "oSndbAnt0q1K"
   },
   "outputs": [
    {
     "name": "stdout",
     "output_type": "stream",
     "text": [
      "plan_name  month\n",
      "surf       1.0      192.840000\n",
      "           2.0      280.851111\n",
      "           3.0      310.970000\n",
      "           4.0      332.380000\n",
      "           5.0      387.108000\n",
      "           6.0      411.450625\n",
      "           7.0      428.060917\n",
      "           8.0      394.474717\n",
      "           9.0      397.133298\n",
      "           10.0     414.435733\n",
      "           11.0     408.255415\n",
      "           12.0     457.547074\n",
      "ultimate   1.0      183.162500\n",
      "           2.0      443.171667\n",
      "           3.0      285.701667\n",
      "           4.0      316.508095\n",
      "           5.0      383.664828\n",
      "           6.0      365.358222\n",
      "           7.0      403.767288\n",
      "           8.0      397.274789\n",
      "           9.0      413.287326\n",
      "           10.0     429.217238\n",
      "           11.0     423.814683\n",
      "           12.0     438.824832\n",
      "Name: total_minutes, dtype: float64\n",
      "\n",
      "plan_name  month\n",
      "surf       1.0      14795.440200\n",
      "           2.0      46959.219961\n",
      "           3.0      31821.317991\n",
      "           4.0      45615.666796\n",
      "           5.0      50778.127459\n",
      "           6.0      39424.054023\n",
      "           7.0      53364.540232\n",
      "           8.0      46639.240873\n",
      "           9.0      39785.302974\n",
      "           10.0     44103.681803\n",
      "           11.0     43560.874928\n",
      "           12.0     53646.781898\n",
      "ultimate   1.0      14991.369958\n",
      "           2.0      48579.581537\n",
      "           3.0      54273.917252\n",
      "           4.0      31057.727496\n",
      "           5.0      39290.610940\n",
      "           6.0      33837.770156\n",
      "           7.0      64844.426958\n",
      "           8.0      47680.189425\n",
      "           9.0      50994.505514\n",
      "           10.0     47081.623851\n",
      "           11.0     53273.637319\n",
      "           12.0     53967.731609\n",
      "Name: total_minutes, dtype: float64\n"
     ]
    }
   ],
   "source": [
    "# Calcula la media y la varianza de la duración mensual de llamadas.\n",
    "\n",
    "#primero agrupamos por plan_name y month \n",
    "grouped_data = usage_data_plans.groupby(['plan_name', 'month'])['total_minutes']\n",
    "\n",
    "# Calculamos la media de la duración mensual de llamadas\n",
    "mean_duration = grouped_data.mean()\n",
    "print(mean_duration)\n",
    "# Calcular la varianza de la duración mensual de llamadas\n",
    "variance_duration = grouped_data.var()\n",
    "print()\n",
    "print(variance_duration)"
   ]
  },
  {
   "cell_type": "code",
   "execution_count": 40,
   "metadata": {
    "id": "nZzoRUKc0q1K"
   },
   "outputs": [
    {
     "data": {
      "image/png": "[encoded data removed]",
      "text/plain": [
       "<Figure size 640x480 with 1 Axes>"
      ]
     },
     "metadata": {},
     "output_type": "display_data"
    }
   ],
   "source": [
    "# Traza un diagrama de caja para visualizar la distribución de la duración mensual de llamadas\n",
    "\n",
    "# Creamos el diagrama de caja con el metodo boxplot()\n",
    "usage_data_plans.boxplot(column='total_minutes', by='plan_name')\n",
    "\n",
    "# Añadimos títulos y etiquetas\n",
    "plt.title('Distribución de la duración mensual de llamadas por plan')\n",
    "plt.suptitle('')  # Quita el título por defecto que añade pandas\n",
    "plt.xlabel('Plan')\n",
    "plt.ylabel('Duración mensual de llamadas (minutos)')\n",
    "\n",
    "plt.show()\n"
   ]
  },
  {
   "cell_type": "markdown",
   "metadata": {
    "id": "r627zBO50q1K"
   },
   "source": [
    "\n",
    "La duracion promedio de llamadas por plan varia en cada mes donde el promedio del plan surf es ligeramente mayor en la mayoria de meses, sin embargo, En algunos meses, como en el mes 2, el plan \"ultimate\" tiene una duración promedio  mayor en comparación con el plan \"surf\".\n",
    "\n",
    "en la distribucion de minutos mensuales por plan Los usuarios del plan \"surf\" tienen una mayor concentración alrededor de los 300-600 minutos mensuales. Los usuarios del plan \"ultimate\" tienen una concentración ligeramente más alta en el rango de 400-700 minutos mensuales. los usuarios del plan \"ultimate\" tienden a usar más minutos en promedio que los usuarios del plan \"surf\".\n",
    "\n",
    "Del diagrama de caja podemos indicar que ambas medianas están cerca, indicando que los usuarios de ambos planes tienen una duración mensual de llamadas similar en términos de valor central. hay presencia de muchos valores atípicos en ambos planes, lo que podria indicar que hay usuarios con un uso de minutos alto en ambos planes.\n",
    "El plan \"ultimate\" tiende a tener usuarios con un uso más alto de minutos en comparación con el plan \"surf\". Esto puede deberse a que el plan \"ultimate\" ofrece más minutos incluidos o mejores tarifas por minuto.\n",
    "\n",
    "el plan \"ultimate\" tiende a ser utilizado por usuarios que necesitan o desean hablar más minutos al mes. Esto sugiere que el plan podría estar atrayendo a usuarios con mayores necesidades de comunicación, posiblemente debido a las ventajas que ofrece en términos de minutos incluidos o tarifas.\n"
   ]
  },
  {
   "cell_type": "markdown",
   "metadata": {
    "id": "8idKy8Wh0q1L"
   },
   "source": [
    "### Mensajes"
   ]
  },
  {
   "cell_type": "code",
   "execution_count": 41,
   "metadata": {
    "id": "NXLxiTit0q1L"
   },
   "outputs": [
    {
     "name": "stdout",
     "output_type": "stream",
     "text": [
      "   plan_name  month  avg_messages\n",
      "0       surf    1.0     21.000000\n",
      "1       surf    2.0     21.600000\n",
      "2       surf    3.0     21.937500\n",
      "3       surf    4.0     24.166667\n",
      "4       surf    5.0     33.017857\n",
      "5       surf    6.0     33.616438\n",
      "6       surf    7.0     35.945055\n",
      "7       surf    8.0     37.596774\n",
      "8       surf    9.0     39.523179\n",
      "9       surf   10.0     42.433862\n",
      "10      surf   11.0     40.553097\n",
      "11      surf   12.0     48.326772\n",
      "12  ultimate    1.0     20.666667\n",
      "13  ultimate    2.0     25.166667\n",
      "14  ultimate    3.0     34.714286\n",
      "15  ultimate    4.0     28.937500\n",
      "16  ultimate    5.0     44.333333\n",
      "17  ultimate    6.0     36.289474\n",
      "18  ultimate    7.0     41.212766\n",
      "19  ultimate    8.0     47.929825\n",
      "20  ultimate    9.0     45.901408\n",
      "21  ultimate   10.0     46.977528\n",
      "22  ultimate   11.0     47.601942\n",
      "23  ultimate   12.0     53.936508\n",
      "\n",
      "plan_name  month       surf   ultimate\n",
      "0            1.0  21.000000  20.666667\n",
      "1            2.0  21.600000  25.166667\n",
      "2            3.0  21.937500  34.714286\n",
      "3            4.0  24.166667  28.937500\n",
      "4            5.0  33.017857  44.333333\n",
      "5            6.0  33.616438  36.289474\n",
      "6            7.0  35.945055  41.212766\n",
      "7            8.0  37.596774  47.929825\n",
      "8            9.0  39.523179  45.901408\n",
      "9           10.0  42.433862  46.977528\n",
      "10          11.0  40.553097  47.601942\n",
      "11          12.0  48.326772  53.936508\n"
     ]
    },
    {
     "data": {
      "image/png": "[encoded data removed]",
      "text/plain": [
       "<Figure size 640x480 with 1 Axes>"
      ]
     },
     "metadata": {},
     "output_type": "display_data"
    }
   ],
   "source": [
    "# Comprara el número de mensajes que tienden a enviar cada mes los usuarios de cada plan\n",
    "\n",
    "# agrupamos por la columna plan_name y month y calculamos el promedio de mensajes por mes\n",
    "avg_messages = usage_data_plans.groupby(['plan_name', 'month'])['messages_count'].mean().reset_index(name='avg_messages')\n",
    "print(avg_messages)\n",
    "\n",
    " #organizmos la tabla con el metodo pivot_table el cual nos permite convertir las filas en columnas basadas en el plan_name, esto para posteriormente facilitar el grafico\n",
    "avg_messages = avg_messages.pivot_table(\n",
    "    index='month',\n",
    "    columns='plan_name',\n",
    "    values='avg_messages',\n",
    "    ).reset_index()\n",
    "\n",
    "print()\n",
    "print(avg_messages)\n",
    "\n",
    "# realizamos un grafico de barras para visualizar mejor lo anterior, usamos el metod plot \n",
    "\n",
    "avg_messages.plot(kind= 'bar',\n",
    "                       x= 'month',\n",
    "                       title='Promedio de mensajes por cada plan en el mes',\n",
    "                       xlabel='Mes',\n",
    "                       ylabel='Promedio de mensajes',\n",
    "                       \n",
    "                      )\n",
    "plt.show()"
   ]
  },
  {
   "cell_type": "code",
   "execution_count": 42,
   "metadata": {
    "id": "GRI_R7xF0q1L"
   },
   "outputs": [
    {
     "data": {
      "image/png": "[encoded data removed]",
      "text/plain": [
       "<Figure size 640x480 with 1 Axes>"
      ]
     },
     "metadata": {},
     "output_type": "display_data"
    }
   ],
   "source": [
    "# Comparamos el número de mensajes mensuales que necesitan los usuarios de cada plan. Traza un histograma.\n",
    "\n",
    "# realizamos un histograma para cada plan con el metodo plot (anteriormente ya habiamos separado los datos por plan: surf_plan y ultimate_plan)\n",
    "\n",
    "surf_plan['messages_count'].plot(kind='hist', alpha=0.8, label= 'surf')\n",
    "ultimate_plan['messages_count'].plot(kind='hist', alpha=0.8, label= 'ultimate')\n",
    "plt.legend(['surf', 'ultimate'])\n",
    "plt.title('Distribución del número de mensajes mensuales por plan')\n",
    "plt.xlabel('Número de mensajes por mes')\n",
    "plt.ylabel('Frecuencia')\n",
    "\n",
    "plt.show()\n"
   ]
  },
  {
   "cell_type": "code",
   "execution_count": 43,
   "metadata": {
    "id": "dtFwCGAp0q1M"
   },
   "outputs": [
    {
     "name": "stdout",
     "output_type": "stream",
     "text": [
      "plan_name  month\n",
      "surf       1.0      21.000000\n",
      "           2.0      21.600000\n",
      "           3.0      21.937500\n",
      "           4.0      24.166667\n",
      "           5.0      33.017857\n",
      "           6.0      33.616438\n",
      "           7.0      35.945055\n",
      "           8.0      37.596774\n",
      "           9.0      39.523179\n",
      "           10.0     42.433862\n",
      "           11.0     40.553097\n",
      "           12.0     48.326772\n",
      "ultimate   1.0      20.666667\n",
      "           2.0      25.166667\n",
      "           3.0      34.714286\n",
      "           4.0      28.937500\n",
      "           5.0      44.333333\n",
      "           6.0      36.289474\n",
      "           7.0      41.212766\n",
      "           8.0      47.929825\n",
      "           9.0      45.901408\n",
      "           10.0     46.977528\n",
      "           11.0     47.601942\n",
      "           12.0     53.936508\n",
      "Name: messages_count, dtype: float64\n",
      "\n",
      "plan_name  month\n",
      "surf       1.0              NaN\n",
      "           2.0       512.800000\n",
      "           3.0       352.062500\n",
      "           4.0       534.028571\n",
      "           5.0       867.945130\n",
      "           6.0       936.406393\n",
      "           7.0       907.985836\n",
      "           8.0      1013.315762\n",
      "           9.0       943.051126\n",
      "           10.0     1234.491613\n",
      "           11.0     1002.523835\n",
      "           12.0     1355.129952\n",
      "ultimate   1.0       310.333333\n",
      "           2.0       465.366667\n",
      "           3.0       613.904762\n",
      "           4.0       512.862500\n",
      "           5.0      1246.933333\n",
      "           6.0       807.238265\n",
      "           7.0       858.084181\n",
      "           8.0      1034.387845\n",
      "           9.0       903.375855\n",
      "           10.0     1099.044944\n",
      "           11.0     1090.300781\n",
      "           12.0     1373.803937\n",
      "Name: messages_count, dtype: float64\n"
     ]
    }
   ],
   "source": [
    "# Calculamos la media y la varianza mensual de mensajes.\n",
    "\n",
    "#primero agrupamos por plan_name y month \n",
    "grouped_data_messages = usage_data_plans.groupby(['plan_name', 'month'])['messages_count']\n",
    "\n",
    "# Calculamos la media mensual de mensajes\n",
    "mean_messages = grouped_data_messages.mean()\n",
    "print(mean_messages)\n",
    "# Calcular la varianza mensual de mensajes\n",
    "variance_messages = grouped_data_messages.var()\n",
    "print()\n",
    "print(variance_messages)"
   ]
  },
  {
   "cell_type": "code",
   "execution_count": 44,
   "metadata": {},
   "outputs": [
    {
     "data": {
      "image/png": "[encoded data removed]",
      "text/plain": [
       "<Figure size 640x480 with 1 Axes>"
      ]
     },
     "metadata": {},
     "output_type": "display_data"
    }
   ],
   "source": [
    "# Trazamos un diagrama de caja para visualizar la distribución mensual de mensajes\n",
    "\n",
    "# Creamos el diagrama de caja con el metodo boxplot()\n",
    "usage_data_plans.boxplot(column='messages_count', by='plan_name')\n",
    "\n",
    "# Añadimos títulos y etiquetas\n",
    "plt.title('Distribución mensual de mensajes por plan')\n",
    "plt.suptitle('')  # Quita el título por defecto que añade pandas\n",
    "plt.xlabel('Plan')\n",
    "plt.ylabel('Mensajes mensuales')\n",
    "\n",
    "plt.show()"
   ]
  },
  {
   "cell_type": "markdown",
   "metadata": {
    "id": "390SSL480q1M"
   },
   "source": [
    "\n",
    "En general, los usuarios del plan \"ultimate\" envían más mensajes por mes que los usuarios del plan \"surf\".\n",
    "La diferencia en el uso de mensajes entre ambos planes parece aumentar con el tiempo, siendo más pronunciada en los últimos meses mostrados.\n",
    "\n",
    "El histograma muestra que una gran cantidad de usuarios de ambos planes envían pocos mensajes (0-50 por mes).El plan \"surf\" tiene una distribución más concentrada en valores bajos de mensajes.\n",
    "\n",
    "El diagrama de caja confirma que el plan \"ultimate\" tiene una mediana más alta de mensajes enviados que el plan \"surf\". Ambos planes tienen valores atipicos por encima de su rango normal, pero el plan \"ultimate\" parece tener valores atipicos más extremos.\n",
    "\n",
    "Los usuarios del plan \"ultimate\" tienden a enviar más mensajes en promedio que los usuarios del plan \"surf\" y el plan \"surf\" parece ser más popular entre usuarios que envían menos mensajes de manera consistente.\n",
    "\n",
    "\n",
    "\n"
   ]
  },
  {
   "cell_type": "markdown",
   "metadata": {
    "id": "42YSypXz0q1M"
   },
   "source": [
    "### Internet"
   ]
  },
  {
   "cell_type": "code",
   "execution_count": 45,
   "metadata": {
    "id": "lSuKPtjh0q1M"
   },
   "outputs": [
    {
     "name": "stdout",
     "output_type": "stream",
     "text": [
      "   plan_name  month  avg_internet\n",
      "0       surf    1.0   4874.860000\n",
      "1       surf    2.0  12178.843333\n",
      "2       surf    3.0  13345.440000\n",
      "3       surf    4.0  12228.778571\n",
      "4       surf    5.0  14119.728026\n",
      "5       surf    6.0  15623.666632\n",
      "6       surf    7.0  16923.463917\n",
      "7       surf    8.0  17112.224403\n",
      "8       surf    9.0  16677.397254\n",
      "9       surf   10.0  17533.275256\n",
      "10      surf   11.0  16455.548043\n",
      "11      surf   12.0  18189.669590\n",
      "12  ultimate    1.0   6918.092500\n",
      "13  ultimate    2.0  17128.808571\n",
      "14  ultimate    3.0  18321.518333\n",
      "15  ultimate    4.0  16121.654762\n",
      "16  ultimate    5.0  16624.482414\n",
      "17  ultimate    6.0  15337.921064\n",
      "18  ultimate    7.0  16344.744407\n",
      "19  ultimate    8.0  17814.720141\n",
      "20  ultimate    9.0  16969.869535\n",
      "21  ultimate   10.0  17780.292000\n",
      "22  ultimate   11.0  17033.685354\n",
      "23  ultimate   12.0  18323.191854\n",
      "\n",
      "plan_name  month          surf      ultimate\n",
      "0            1.0   4874.860000   6918.092500\n",
      "1            2.0  12178.843333  17128.808571\n",
      "2            3.0  13345.440000  18321.518333\n",
      "3            4.0  12228.778571  16121.654762\n",
      "4            5.0  14119.728026  16624.482414\n",
      "5            6.0  15623.666632  15337.921064\n",
      "6            7.0  16923.463917  16344.744407\n",
      "7            8.0  17112.224403  17814.720141\n",
      "8            9.0  16677.397254  16969.869535\n",
      "9           10.0  17533.275256  17780.292000\n",
      "10          11.0  16455.548043  17033.685354\n",
      "11          12.0  18189.669590  18323.191854\n"
     ]
    },
    {
     "data": {
      "image/png": "[encoded data removed]",
      "text/plain": [
       "<Figure size 640x480 with 1 Axes>"
      ]
     },
     "metadata": {},
     "output_type": "display_data"
    }
   ],
   "source": [
    "# Compara la cantidad de tráfico de Internet consumido por usuarios por plan\n",
    "\n",
    "# agrupamos por la columna plan_name y month y calculamos el promedio de trafico de internet por mes\n",
    "avg_internet = usage_data_plans.groupby(['plan_name', 'month'])['total_mb_used'].mean().reset_index(name='avg_internet')\n",
    "print(avg_internet)\n",
    "\n",
    " #organizmos la tabla con el metodo pivot_table el cual nos permite convertir las filas en columnas basadas en el plan_name, esto para posteriormente facilitar el grafico\n",
    "avg_internet = avg_internet.pivot_table(\n",
    "    index='month',\n",
    "    columns='plan_name',\n",
    "    values='avg_internet',\n",
    "    ).reset_index()\n",
    "\n",
    "print()\n",
    "print(avg_internet)\n",
    "\n",
    "# realizamos un grafico de barras para visualizar mejor lo anterior, usamos el metod plot \n",
    "\n",
    "avg_internet.plot(kind= 'bar',\n",
    "                       x= 'month',\n",
    "                       title='Promedio de trafico de internet por cada plan en el mes',\n",
    "                       xlabel='Mes',\n",
    "                       ylabel='Promedio de trafico de internet (MB)',\n",
    "                       \n",
    "                      )\n",
    "plt.show()"
   ]
  },
  {
   "cell_type": "code",
   "execution_count": 46,
   "metadata": {
    "id": "wnh8jYXi0q1N"
   },
   "outputs": [
    {
     "data": {
      "image/png": "[encoded data removed]",
      "text/plain": [
       "<Figure size 640x480 with 1 Axes>"
      ]
     },
     "metadata": {},
     "output_type": "display_data"
    }
   ],
   "source": [
    "# Comparamos el trafico de internet mensual que necesitan los usuarios de cada plan. Traza un histograma.\n",
    "\n",
    "# realizamos un histograma para cada plan con el metodo plot (anteriormente ya habiamos separado los datos por plan: surf_plan y ultimate_plan)\n",
    "\n",
    "surf_plan['total_mb_used'].plot(kind='hist', alpha=0.8, label= 'surf')\n",
    "ultimate_plan['total_mb_used'].plot(kind='hist', alpha=0.8, label= 'ultimate')\n",
    "plt.legend(['surf', 'ultimate'])\n",
    "plt.title('Distribución del trafico de internet mensual por plan')\n",
    "plt.xlabel('trafico de internet por mes (MB)')\n",
    "plt.ylabel('Frecuencia')\n",
    "\n",
    "plt.show()\n"
   ]
  },
  {
   "cell_type": "code",
   "execution_count": 47,
   "metadata": {
    "id": "5VlyJ9ry0q1N"
   },
   "outputs": [
    {
     "name": "stdout",
     "output_type": "stream",
     "text": [
      "plan_name  month\n",
      "surf       1.0       4874.860000\n",
      "           2.0      12178.843333\n",
      "           3.0      13345.440000\n",
      "           4.0      12228.778571\n",
      "           5.0      14119.728026\n",
      "           6.0      15623.666632\n",
      "           7.0      16923.463917\n",
      "           8.0      17112.224403\n",
      "           9.0      16677.397254\n",
      "           10.0     17533.275256\n",
      "           11.0     16455.548043\n",
      "           12.0     18189.669590\n",
      "ultimate   1.0       6918.092500\n",
      "           2.0      17128.808571\n",
      "           3.0      18321.518333\n",
      "           4.0      16121.654762\n",
      "           5.0      16624.482414\n",
      "           6.0      15337.921064\n",
      "           7.0      16344.744407\n",
      "           8.0      17814.720141\n",
      "           9.0      16969.869535\n",
      "           10.0     17780.292000\n",
      "           11.0     17033.685354\n",
      "           12.0     18323.191854\n",
      "Name: total_mb_used, dtype: float64\n",
      "\n",
      "plan_name  month\n",
      "surf       1.0      1.823995e+07\n",
      "           2.0      4.367296e+07\n",
      "           3.0      6.824556e+07\n",
      "           4.0      5.722187e+07\n",
      "           5.0      5.967252e+07\n",
      "           6.0      4.509227e+07\n",
      "           7.0      6.284327e+07\n",
      "           8.0      7.059657e+07\n",
      "           9.0      5.014277e+07\n",
      "           10.0     5.942498e+07\n",
      "           11.0     5.566336e+07\n",
      "           12.0     7.133198e+07\n",
      "ultimate   1.0      1.639471e+07\n",
      "           2.0      3.764910e+07\n",
      "           3.0      1.403392e+08\n",
      "           4.0      8.842861e+07\n",
      "           5.0      5.679012e+07\n",
      "           6.0      7.201453e+07\n",
      "           7.0      6.841921e+07\n",
      "           8.0      6.044708e+07\n",
      "           9.0      4.933904e+07\n",
      "           10.0     5.453219e+07\n",
      "           11.0     5.758948e+07\n",
      "           12.0     6.188130e+07\n",
      "Name: total_mb_used, dtype: float64\n"
     ]
    }
   ],
   "source": [
    "# Calculamos la media y la varianza mensual de trafico de internet.\n",
    "\n",
    "#primero agrupamos por plan_name y month \n",
    "grouped_data_internet = usage_data_plans.groupby(['plan_name', 'month'])['total_mb_used']\n",
    "\n",
    "# Calculamos la media mensual del trafico de internet\n",
    "mean_internet = grouped_data_internet.mean()\n",
    "print(mean_internet)\n",
    "# Calcular la varianza mensual del trafico de internet\n",
    "variance_internet = grouped_data_internet.var()\n",
    "print()\n",
    "print(variance_internet)"
   ]
  },
  {
   "cell_type": "code",
   "execution_count": 48,
   "metadata": {},
   "outputs": [
    {
     "data": {
      "image/png": "[encoded data removed]",
      "text/plain": [
       "<Figure size 640x480 with 1 Axes>"
      ]
     },
     "metadata": {},
     "output_type": "display_data"
    }
   ],
   "source": [
    "# Trazamos un diagrama de caja para visualizar la distribución mensual del trafico de internet\n",
    "\n",
    "# Creamos el diagrama de caja con el metodo boxplot()\n",
    "usage_data_plans.boxplot(column='total_mb_used', by='plan_name')\n",
    "\n",
    "# Añadimos títulos y etiquetas\n",
    "plt.title('Distribución mensual del trafico de internet por plan')\n",
    "plt.suptitle('')  # Quita el título por defecto que añade pandas\n",
    "plt.xlabel('Plan')\n",
    "plt.ylabel('Trafico de internet mensual (MB)')\n",
    "\n",
    "plt.show()"
   ]
  },
  {
   "cell_type": "markdown",
   "metadata": {
    "id": "UN9zwuMP0q1N"
   },
   "source": [
    "\n",
    "Los usuarios del plan \"ultimate\" tienden a consumir más tráfico de Internet que los del plan \"surf\" en la mayoría de los meses. Ambos planes muestran una tendencia general al aumento en el consumo de datos a lo largo del tiempo.\n",
    "\n",
    "el histograma muestra que el rango de consumo de datos para la mayoría de los usuarios se sitúa entre 0 y 40,000 MB por mes. el plan \"Surf\" tiene una distribución más concentrada, con un pico más alto alrededor de los 15,000-20,000 MB. el plan \"ultimate\" muestra una distribución más amplia y aplanada en comparación con el plan Surf.\n",
    "\n",
    "El diagrama de caja muestra que la mediana de consumo de datos es muy similar en ambos planes, tienen una variabilidad similar en el consumo de datos, como se evidencia por el tamaño similar de las cajas. ambos planes tienen valores atipicos, lo que nos dice que algunos usuarios consumen mas internet que el promedio. \n",
    "  \n"
   ]
  },
  {
   "cell_type": "markdown",
   "metadata": {
    "id": "tCijq3260q1N"
   },
   "source": [
    "## Ingreso"
   ]
  },
  {
   "cell_type": "markdown",
   "metadata": {
    "id": "9nq5IAcy0q1O"
   },
   "source": [
    "Del mismo modo que has estudiado el comportamiento de los usuarios, describe estadísticamente los ingresos de los planes."
   ]
  },
  {
   "cell_type": "code",
   "execution_count": 49,
   "metadata": {
    "id": "tz-dq_V00q1O"
   },
   "outputs": [
    {
     "name": "stdout",
     "output_type": "stream",
     "text": [
      "   plan_name  month  monthly_income\n",
      "0       surf    1.0       20.000000\n",
      "1       surf    2.0       23.535460\n",
      "2       surf    3.0       35.910969\n",
      "3       surf    4.0       38.531525\n",
      "4       surf    5.0       48.261003\n",
      "5       surf    6.0       48.511837\n",
      "6       surf    7.0       58.412025\n",
      "7       surf    8.0       60.973600\n",
      "8       surf    9.0       53.659630\n",
      "9       surf   10.0       61.458334\n",
      "10      surf   11.0       53.983152\n",
      "11      surf   12.0       64.496432\n",
      "12  ultimate    1.0       70.000000\n",
      "13  ultimate    2.0       70.000000\n",
      "14  ultimate    3.0       75.815625\n",
      "15  ultimate    4.0       73.008492\n",
      "16  ultimate    5.0       70.712184\n",
      "17  ultimate    6.0       71.876164\n",
      "18  ultimate    7.0       72.322860\n",
      "19  ultimate    8.0       72.307438\n",
      "20  ultimate    9.0       71.240676\n",
      "21  ultimate   10.0       72.002108\n",
      "22  ultimate   11.0       71.993656\n",
      "23  ultimate   12.0       72.503138\n",
      "\n",
      "plan_name  month       surf   ultimate\n",
      "0            1.0  20.000000  70.000000\n",
      "1            2.0  23.535460  70.000000\n",
      "2            3.0  35.910969  75.815625\n",
      "3            4.0  38.531525  73.008492\n",
      "4            5.0  48.261003  70.712184\n",
      "5            6.0  48.511837  71.876164\n",
      "6            7.0  58.412025  72.322860\n",
      "7            8.0  60.973600  72.307438\n",
      "8            9.0  53.659630  71.240676\n",
      "9           10.0  61.458334  72.002108\n",
      "10          11.0  53.983152  71.993656\n",
      "11          12.0  64.496432  72.503138\n"
     ]
    },
    {
     "data": {
      "image/png": "[encoded data removed]",
      "text/plain": [
       "<Figure size 640x480 with 1 Axes>"
      ]
     },
     "metadata": {},
     "output_type": "display_data"
    }
   ],
   "source": [
    "# agrupamos por la columna plan_name y month y calculamos el promedio de ingresos de cada plan por mes \n",
    "avg_income = usage_data_plans.groupby(['plan_name', 'month'])['monthly_income'].mean().reset_index(name='monthly_income')\n",
    "print(avg_income)\n",
    "\n",
    "# organizmos la tabla con el metodo pivot_table el cual nos permite convertir las filas en columnas basadas en el plan_name, esto para posteriormente facilitar el grafico\n",
    "avg_income = avg_income.pivot_table(\n",
    "    index='month',\n",
    "    columns='plan_name',\n",
    "    values='monthly_income',\n",
    "    ).reset_index()\n",
    "\n",
    "print()\n",
    "print(avg_income)\n",
    "\n",
    "# realizamos un grafico de barras para visualizar mejor lo anterior, usamos el metod plot \n",
    "\n",
    "avg_income.plot(kind= 'bar',\n",
    "                       x= 'month',\n",
    "                       title='Promedio de ingresos por cada plan en el mes',\n",
    "                       xlabel='Mes',\n",
    "                       ylabel='Promedio de ingresos (USD)',\n",
    "                       \n",
    "                      )\n",
    "plt.show()"
   ]
  },
  {
   "cell_type": "code",
   "execution_count": 50,
   "metadata": {
    "id": "0Y1v8ZUz0q1P"
   },
   "outputs": [
    {
     "name": "stdout",
     "output_type": "stream",
     "text": [
      "            count       mean        std   min   25%        50%       75%  \\\n",
      "plan_name                                                                  \n",
      "surf       1180.0  56.877475  51.828245  20.0  20.0  36.841452  76.30906   \n",
      "ultimate    579.0  72.062930  10.482571  70.0  70.0  70.000000  70.00000   \n",
      "\n",
      "                  max          var  \n",
      "plan_name                           \n",
      "surf       581.328509  2686.166996  \n",
      "ultimate   178.522764   109.884303  \n"
     ]
    }
   ],
   "source": [
    "#agrupamos por la columna plan_name los ingresos mensuales y aplicamos el metodo describe para obtener estadisticas descriptivas\n",
    "\n",
    "statistics = usage_data_plans.groupby('plan_name')['monthly_income'].describe()\n",
    "\n",
    "#calculamos la varianza ya que con el metodo describe no se refleja\n",
    "\n",
    "variance= usage_data_plans.groupby('plan_name')['monthly_income'].var()\n",
    "\n",
    "#agregamos la varianza a la tabla statistics\n",
    "statistics['var'] = variance\n",
    "\n",
    "print(statistics)"
   ]
  },
  {
   "cell_type": "code",
   "execution_count": 51,
   "metadata": {
    "id": "bYmwxyVh0q1P"
   },
   "outputs": [
    {
     "data": {
      "image/png": "[encoded data removed]",
      "text/plain": [
       "<Figure size 640x480 with 1 Axes>"
      ]
     },
     "metadata": {},
     "output_type": "display_data"
    }
   ],
   "source": [
    "#para visualizar lo anterior usamos un diagrama de caja para mostrar la distribución de los ingresos por plan.\n",
    "\n",
    "# Creamos el diagrama de caja con el metodo boxplot()\n",
    "usage_data_plans.boxplot(column='monthly_income', by='plan_name')\n",
    "\n",
    "# Añadimos títulos y etiquetas\n",
    "plt.title('Distribución de los ingresos mensuales por plan')\n",
    "plt.suptitle('')  # Quita el título por defecto que añade pandas\n",
    "plt.xlabel('Plan')\n",
    "plt.ylabel('Ingresos mensuales (USD)')\n",
    "\n",
    "plt.show()\n"
   ]
  },
  {
   "cell_type": "markdown",
   "metadata": {
    "id": "KAFidcXZ0q1P"
   },
   "source": [
    "\n",
    "La media de los ingresos para el plan \"ultimate\" es mayor que la del plan \"surf\". Esto indica que, en promedio, los usuarios del plan \"ultimate\" generan más ingresos.\n",
    "la desviacion estandar y varianza son mayores en el plan surf, lo que indica que hay mayor variabilidad en el plan Surf y los ingresos del plan Ultimate son mas consistentes y se acercan mas al promedio.\n",
    "el valor maximo del plan Surf es mucho mayor que el plan ultimate, lo que indicaria que puede generar ingresos altos aunque no sea frecuente.\n",
    "Los ingresos del plan \"ultimate\" son más estables y predecibles."
   ]
  },
  {
   "cell_type": "markdown",
   "metadata": {
    "id": "ajJ7VKeI0q1Q"
   },
   "source": [
    "## Prueba las hipótesis estadísticas"
   ]
  },
  {
   "cell_type": "markdown",
   "metadata": {
    "id": "AdXAZ-yL0q1Q"
   },
   "source": [
    "Prueba la hipótesis de que son diferentes los ingresos promedio procedentes de los usuarios de los planes de llamada Ultimate y Surf."
   ]
  },
  {
   "cell_type": "code",
   "execution_count": 52,
   "metadata": {
    "id": "nFoPNlPq0q1R"
   },
   "outputs": [
    {
     "name": "stdout",
     "output_type": "stream",
     "text": [
      "valor p:  1.939793941041678e-21\n",
      "Rechazamos la hipótesis nula, Los ingresos promedio de los planes Ultimate y Surf son significativamente diferentes\n"
     ]
    }
   ],
   "source": [
    "# Prueba las hipótesis\n",
    "\n",
    "#Hipotesis Nula (Ho): \"No, no hay diferencia entre los ingresos promedio de ambos planes y los parámetros en cuestión son iguales\".\n",
    "\n",
    "#Hipotesis Alternativa (H1): \"Si hay diferencia entre los ingresos promedio de los planes Ultimate y Surf\"\n",
    "\n",
    "# primero filtramos los datos para los planes Ultimate y Surf, usamos dropna para eliminar valores ausentes que puedan afectar nuestro calculo\n",
    "ultimate_data = usage_data_plans[usage_data_plans['plan_name'] == 'ultimate']['monthly_income'].dropna()\n",
    "surf_data = usage_data_plans[usage_data_plans['plan_name'] == 'surf']['monthly_income'].dropna()\n",
    "\n",
    "#realizamos la prueba t para probar la hipotesis \n",
    "\n",
    "alpha = 0.05  # colocamos el nivel de significancia estadística crítica, si el valor p es menor que alpha, rechazamos la hipótesis\n",
    "\n",
    "results = st.ttest_ind(ultimate_data, surf_data, equal_var = False) #establecemos el parametro equal_var en false ya que las varianzas entre ambos difieren significativamente\n",
    "\n",
    "print('valor p: ', results.pvalue) # extraer el valor p\n",
    "\n",
    "if results.pvalue < alpha:  # comparamos el valor p con alpha\n",
    "    print(\"Rechazamos la hipótesis nula, Los ingresos promedio de los planes Ultimate y Surf son significativamente diferentes\")\n",
    "else:\n",
    "    print(\"No podemos rechazar la hipótesis nula, No hay evidencia suficiente para decir que los ingresos promedio de los planes Ultimate y Surf son diferentes\")\n"
   ]
  },
  {
   "cell_type": "markdown",
   "metadata": {
    "id": "tCcAruM60q1R"
   },
   "source": [
    "Prueba la hipótesis de que el ingreso promedio de los usuarios del área NY-NJ es diferente al de los usuarios de otras regiones."
   ]
  },
  {
   "cell_type": "code",
   "execution_count": 53,
   "metadata": {
    "id": "Cqcj7wrZ0q1S",
    "scrolled": true
   },
   "outputs": [
    {
     "name": "stdout",
     "output_type": "stream",
     "text": [
      "valor p:  0.00582049348270076\n",
      "Rechazamos la hipótesis nula, Los ingresos promedio de los usuarios del área NY-NJ y otras regiones son significativamente diferentes\n"
     ]
    }
   ],
   "source": [
    "# Prueba las hipótesis\n",
    "\n",
    "#Hipotesis Nula (Ho): \"No, no hay diferencia entre los ingresos promedio entre los usuarios del area de NY-NJ y otras regiones, y los parámetros en cuestión son iguales\".\n",
    "\n",
    "#Hipotesis Alternativa (H1): \"Si hay diferencia entre los ingresos promedio de los usuarios del area de NY-NJ y otras regiones\"\n",
    "\n",
    "# Filtramos los datos para los usuarios del área NY-NJ y otras regiones, usamos dropna para eliminar valores ausentes que puedan afectar nuestro calculo\n",
    "\n",
    "ny_nj_data = usage_data_plans[usage_data_plans['city'] == 'New York-Newark-Jersey City, NY-NJ-PA MSA']['monthly_income'].dropna()\n",
    "other_regions_data = usage_data_plans[usage_data_plans['city'] != 'New York-Newark-Jersey City, NY-NJ-PA MSA']['monthly_income'].dropna()\n",
    "\n",
    "#realizamos la prueba t para probar la hipotesis \n",
    "\n",
    "alpha = 0.05  # colocamos el nivel de significancia estadística crítica, si el valor p es menor que alpha, rechazamos la hipótesis\n",
    "\n",
    "results1 = st.ttest_ind(ny_nj_data, other_regions_data, equal_var = True) #establecemos el parametro equal_var en true ya que las varianzas entre ambos no difieren significativamente\n",
    "\n",
    "print('valor p: ', results1.pvalue) # extraer el valor p\n",
    "\n",
    "if results1.pvalue < alpha:  # comparamos el valor p con alpha\n",
    "    print(\"Rechazamos la hipótesis nula, Los ingresos promedio de los usuarios del área NY-NJ y otras regiones son significativamente diferentes\")\n",
    "else:\n",
    "    print(\"No podemos rechazar la hipótesis nula, No hay evidencia suficiente para decir que los ingresos promedio de los usuarios del área NY-NJ y otras regiones son diferentes\")\n"
   ]
  },
  {
   "cell_type": "markdown",
   "metadata": {
    "id": "bbTR8UQO0q1T"
   },
   "source": [
    "## Conclusión general\n",
    "\n",
    "\n",
    "Se calculó la duración promedio de llamadas por cada plan y por cada mes. Los gráficos de barras mostraron que los usuarios del plan Ultimate tienden a tener una duración de llamada más estable mes a mes en comparación con los usuarios del plan Surf, que muestran más variabilidad.\n",
    "\n",
    "El diagrama de caja de la duración mensual de llamadas indico que, aunque la mediana de la duración de llamadas es similar entre los dos planes, la variabilidad es mayor en el plan Surf. Esto sugiere que los usuarios del plan Surf tienen más fluctuaciones en la duración de sus llamadas.\n",
    "\n",
    "Los histogramas mostraron que los usuarios del plan Ultimate tienen una distribución más concentrada en términos de minutos mensuales usados, mientras que los usuarios del plan Surf tienen una distribución más dispersa. Esto indica un comportamiento más consistente entre los usuarios del plan Ultimate.\n",
    "\n",
    "Al calcular la media, la desviación estándar, y la varianza de los ingresos mensuales por plan, se encontró que los ingresos del plan Ultimate son más consistentes (menor desviación estándar y varianza) en comparación con el plan Surf, que muestra una mayor variabilidad en los ingresos.\n",
    "\n",
    "Se realizó una prueba t  para comparar los ingresos promedio de los planes Surf y Ultimate. La prueba indicó que existen diferencias significativas entre los ingresos promedio de los dos planes, con los usuarios del plan Ultimate generando ingresos más consistentes.\n",
    "\n",
    "Lo anterior nos muestra que el plan Ultimate genera mayores ingresos y mas consistentes que el plan Surf."
   ]
  }
 ],
 "metadata": {
  "ExecuteTimeLog": [
   {
    "duration": 828,
    "start_time": "2021-11-16T09:21:11.304Z"
   },
   {
    "duration": 893,
    "start_time": "2021-11-16T09:21:17.728Z"
   },
   {
    "duration": 1150,
    "start_time": "2021-11-16T09:21:29.568Z"
   },
   {
    "duration": 3,
    "start_time": "2021-11-16T09:24:14.495Z"
   },
   {
    "duration": 120,
    "start_time": "2021-11-16T09:24:46.630Z"
   },
   {
    "duration": 3,
    "start_time": "2021-11-16T09:28:27.882Z"
   },
   {
    "duration": 4,
    "start_time": "2021-11-16T09:29:54.281Z"
   },
   {
    "duration": 3,
    "start_time": "2021-11-16T09:30:45.936Z"
   },
   {
    "duration": 4,
    "start_time": "2021-11-16T09:31:06.300Z"
   },
   {
    "duration": 113,
    "start_time": "2021-11-16T09:31:37.208Z"
   },
   {
    "duration": 143,
    "start_time": "2021-11-16T09:31:48.656Z"
   },
   {
    "duration": 98,
    "start_time": "2021-11-16T09:31:55.678Z"
   },
   {
    "duration": 3,
    "start_time": "2021-11-16T09:32:08.535Z"
   },
   {
    "duration": 111,
    "start_time": "2021-11-16T09:32:10.120Z"
   },
   {
    "duration": 3,
    "start_time": "2021-11-16T09:32:15.732Z"
   },
   {
    "duration": 4,
    "start_time": "2021-11-16T09:32:29.423Z"
   },
   {
    "duration": 3,
    "start_time": "2021-11-16T10:03:03.074Z"
   },
   {
    "duration": 3,
    "start_time": "2021-11-16T10:10:01.288Z"
   },
   {
    "duration": 3,
    "start_time": "2021-11-16T10:10:46.923Z"
   },
   {
    "duration": 121,
    "start_time": "2021-11-16T10:37:46.494Z"
   },
   {
    "duration": 125,
    "start_time": "2021-11-16T10:38:20.632Z"
   },
   {
    "duration": 112,
    "start_time": "2021-11-16T10:46:53.001Z"
   },
   {
    "duration": 110,
    "start_time": "2021-11-16T10:48:25.775Z"
   },
   {
    "duration": 3,
    "start_time": "2021-11-16T10:50:18.720Z"
   },
   {
    "duration": 4,
    "start_time": "2021-11-16T10:50:37.649Z"
   },
   {
    "duration": 2,
    "start_time": "2021-11-16T10:50:51.884Z"
   },
   {
    "duration": 3,
    "start_time": "2021-11-16T10:51:56.237Z"
   },
   {
    "duration": 101,
    "start_time": "2021-11-16T10:53:13.791Z"
   },
   {
    "duration": 3,
    "start_time": "2021-11-16T10:55:59.186Z"
   },
   {
    "duration": 3,
    "start_time": "2021-11-16T10:56:10.751Z"
   },
   {
    "duration": 3,
    "start_time": "2021-11-16T10:56:49.038Z"
   },
   {
    "duration": 3,
    "start_time": "2021-11-16T10:56:49.174Z"
   },
   {
    "duration": 4,
    "start_time": "2021-11-16T10:56:49.414Z"
   },
   {
    "duration": 3,
    "start_time": "2021-11-16T10:56:49.680Z"
   },
   {
    "duration": 3,
    "start_time": "2021-11-16T10:56:50.370Z"
   },
   {
    "duration": 114,
    "start_time": "2021-11-16T10:59:34.518Z"
   },
   {
    "duration": 3,
    "start_time": "2021-11-16T11:01:41.201Z"
   },
   {
    "duration": 116,
    "start_time": "2021-11-16T11:01:48.754Z"
   },
   {
    "duration": 3,
    "start_time": "2021-11-16T11:02:16.685Z"
   },
   {
    "duration": 3,
    "start_time": "2021-11-16T11:02:19.479Z"
   },
   {
    "duration": 3,
    "start_time": "2021-11-16T11:02:47.067Z"
   },
   {
    "duration": 3,
    "start_time": "2021-11-16T11:02:49.353Z"
   },
   {
    "duration": 3,
    "start_time": "2021-11-16T11:03:07.835Z"
   },
   {
    "duration": 3,
    "start_time": "2021-11-16T11:03:07.953Z"
   },
   {
    "duration": 112,
    "start_time": "2021-11-16T11:07:52.072Z"
   },
   {
    "duration": 187,
    "start_time": "2021-11-16T11:09:23.468Z"
   },
   {
    "duration": 4,
    "start_time": "2021-11-16T11:10:01.455Z"
   },
   {
    "duration": 3,
    "start_time": "2021-11-16T11:10:05.069Z"
   },
   {
    "duration": 4,
    "start_time": "2021-11-16T11:10:13.376Z"
   },
   {
    "duration": 3,
    "start_time": "2021-11-16T11:10:14.434Z"
   },
   {
    "duration": 3,
    "start_time": "2021-11-16T11:10:22.853Z"
   },
   {
    "duration": 4,
    "start_time": "2021-11-16T11:27:29.279Z"
   },
   {
    "duration": 4,
    "start_time": "2021-11-16T11:29:08.919Z"
   },
   {
    "duration": 118,
    "start_time": "2021-11-16T11:29:46.703Z"
   },
   {
    "duration": 437,
    "start_time": "2021-11-16T11:36:02.181Z"
   },
   {
    "duration": 157,
    "start_time": "2021-11-16T11:36:14.388Z"
   },
   {
    "duration": 207,
    "start_time": "2021-11-16T11:47:15.898Z"
   },
   {
    "duration": 3,
    "start_time": "2021-11-16T11:53:52.092Z"
   },
   {
    "duration": 3,
    "start_time": "2021-11-16T11:53:52.236Z"
   },
   {
    "duration": 3,
    "start_time": "2021-11-16T11:59:12.005Z"
   },
   {
    "duration": 112,
    "start_time": "2021-11-16T12:00:33.446Z"
   },
   {
    "duration": 3,
    "start_time": "2021-11-16T12:02:14.453Z"
   },
   {
    "duration": 3,
    "start_time": "2021-11-16T12:02:39.512Z"
   },
   {
    "duration": 106,
    "start_time": "2021-11-16T12:03:03.460Z"
   },
   {
    "duration": 3,
    "start_time": "2021-11-17T20:37:21.139Z"
   },
   {
    "duration": 3,
    "start_time": "2021-11-17T20:37:22.229Z"
   },
   {
    "duration": 3,
    "start_time": "2021-11-17T20:38:38.806Z"
   },
   {
    "duration": 3,
    "start_time": "2021-11-17T20:38:41.958Z"
   },
   {
    "duration": 3,
    "start_time": "2021-11-17T20:43:46.551Z"
   },
   {
    "duration": 4,
    "start_time": "2021-11-17T20:58:21.835Z"
   },
   {
    "duration": 3,
    "start_time": "2021-11-17T20:59:21.872Z"
   },
   {
    "duration": 4,
    "start_time": "2021-11-17T20:59:45.352Z"
   },
   {
    "duration": 4,
    "start_time": "2021-11-17T20:59:49.646Z"
   },
   {
    "duration": 159,
    "start_time": "2021-11-17T21:02:26.949Z"
   },
   {
    "duration": 3,
    "start_time": "2021-11-17T21:03:53.461Z"
   },
   {
    "duration": 3,
    "start_time": "2021-11-17T21:03:53.694Z"
   },
   {
    "duration": 3,
    "start_time": "2021-11-17T21:05:28.145Z"
   },
   {
    "duration": 116,
    "start_time": "2021-11-17T21:05:57.787Z"
   },
   {
    "duration": 3,
    "start_time": "2021-11-17T21:06:37.993Z"
   },
   {
    "duration": 3,
    "start_time": "2021-11-17T21:06:38.261Z"
   },
   {
    "duration": 3,
    "start_time": "2021-11-17T21:11:54.358Z"
   },
   {
    "duration": 3,
    "start_time": "2021-11-17T21:12:43.846Z"
   },
   {
    "duration": 4,
    "start_time": "2021-11-17T21:13:08.773Z"
   },
   {
    "duration": 3,
    "start_time": "2021-11-17T21:14:44.441Z"
   },
   {
    "duration": 3,
    "start_time": "2021-11-17T21:15:42.059Z"
   },
   {
    "duration": 4,
    "start_time": "2021-11-17T21:15:51.995Z"
   },
   {
    "duration": 3,
    "start_time": "2021-11-17T21:15:53.923Z"
   },
   {
    "duration": 3,
    "start_time": "2021-11-17T21:15:55.282Z"
   },
   {
    "duration": 3,
    "start_time": "2021-11-17T21:16:28.492Z"
   },
   {
    "duration": 3,
    "start_time": "2021-11-17T21:16:32.603Z"
   },
   {
    "duration": 3,
    "start_time": "2021-11-17T21:17:06.941Z"
   },
   {
    "duration": 98,
    "start_time": "2021-11-17T21:18:05.733Z"
   },
   {
    "duration": 4,
    "start_time": "2021-11-17T21:21:35.255Z"
   },
   {
    "duration": 3,
    "start_time": "2021-11-17T21:21:37.804Z"
   },
   {
    "duration": 4,
    "start_time": "2021-11-17T21:23:06.071Z"
   },
   {
    "duration": 3,
    "start_time": "2021-11-17T21:23:24.799Z"
   },
   {
    "duration": 3,
    "start_time": "2021-11-17T21:23:32.591Z"
   },
   {
    "duration": 98,
    "start_time": "2021-11-17T21:28:31.559Z"
   },
   {
    "duration": 3,
    "start_time": "2021-11-17T21:28:45.448Z"
   },
   {
    "duration": 3,
    "start_time": "2021-11-17T21:29:17.303Z"
   },
   {
    "duration": 3,
    "start_time": "2021-11-17T21:29:29.617Z"
   },
   {
    "duration": 3,
    "start_time": "2021-11-17T21:29:32.681Z"
   },
   {
    "duration": 3,
    "start_time": "2021-11-17T21:36:11.474Z"
   },
   {
    "duration": 3,
    "start_time": "2021-11-17T21:36:14.791Z"
   },
   {
    "duration": 3,
    "start_time": "2021-11-17T21:36:53.943Z"
   },
   {
    "duration": 3,
    "start_time": "2021-11-17T21:36:56.165Z"
   },
   {
    "duration": 4,
    "start_time": "2021-11-17T21:37:16.590Z"
   },
   {
    "duration": 3,
    "start_time": "2021-11-17T21:37:22.702Z"
   },
   {
    "duration": 4,
    "start_time": "2021-11-17T21:38:03.479Z"
   },
   {
    "duration": 3,
    "start_time": "2021-11-17T21:38:08.601Z"
   },
   {
    "duration": 3,
    "start_time": "2021-11-17T21:38:12.928Z"
   },
   {
    "duration": 3,
    "start_time": "2021-11-17T21:38:48.896Z"
   },
   {
    "duration": 2,
    "start_time": "2021-11-17T21:38:49.171Z"
   },
   {
    "duration": 4,
    "start_time": "2021-11-17T21:39:57.889Z"
   },
   {
    "duration": 3,
    "start_time": "2021-11-17T21:39:58.057Z"
   },
   {
    "duration": 3,
    "start_time": "2021-11-17T21:41:20.108Z"
   },
   {
    "duration": 3,
    "start_time": "2021-11-17T21:41:20.629Z"
   },
   {
    "duration": 3,
    "start_time": "2021-11-17T21:42:49.136Z"
   },
   {
    "duration": 3,
    "start_time": "2021-11-17T21:43:15.137Z"
   },
   {
    "duration": 4,
    "start_time": "2021-11-17T21:43:16.766Z"
   },
   {
    "duration": 4,
    "start_time": "2021-11-17T21:43:31.711Z"
   },
   {
    "duration": 3,
    "start_time": "2021-11-17T21:43:36.312Z"
   },
   {
    "duration": 4,
    "start_time": "2021-11-17T21:45:08.825Z"
   },
   {
    "duration": 4,
    "start_time": "2021-11-17T21:45:10.119Z"
   },
   {
    "duration": 4,
    "start_time": "2021-11-17T21:45:13.748Z"
   },
   {
    "duration": 3,
    "start_time": "2021-11-17T21:45:22.219Z"
   },
   {
    "duration": 3,
    "start_time": "2021-11-17T21:45:33.412Z"
   },
   {
    "duration": 2,
    "start_time": "2021-11-17T21:46:01.885Z"
   },
   {
    "duration": 3,
    "start_time": "2021-11-17T21:46:03.628Z"
   },
   {
    "duration": 107,
    "start_time": "2021-11-17T21:47:32.512Z"
   },
   {
    "duration": 103,
    "start_time": "2021-11-17T21:50:36.243Z"
   },
   {
    "duration": 3,
    "start_time": "2021-11-18T06:28:31.440Z"
   },
   {
    "duration": 3,
    "start_time": "2021-11-18T06:29:00.168Z"
   },
   {
    "duration": 3,
    "start_time": "2021-11-18T06:31:27.008Z"
   },
   {
    "duration": 2,
    "start_time": "2021-11-18T06:35:34.288Z"
   },
   {
    "duration": 2,
    "start_time": "2021-11-18T06:38:04.527Z"
   },
   {
    "duration": 5339,
    "start_time": "2024-07-25T22:08:56.005Z"
   },
   {
    "duration": 445,
    "start_time": "2024-07-25T22:09:01.349Z"
   },
   {
    "duration": 16,
    "start_time": "2024-07-25T22:10:24.165Z"
   },
   {
    "duration": 25,
    "start_time": "2024-07-25T22:14:33.275Z"
   },
   {
    "duration": 4,
    "start_time": "2024-07-25T22:18:13.490Z"
   },
   {
    "duration": 330,
    "start_time": "2024-07-25T22:18:13.499Z"
   },
   {
    "duration": 27,
    "start_time": "2024-07-25T22:18:13.832Z"
   },
   {
    "duration": 58,
    "start_time": "2024-07-25T22:18:13.863Z"
   },
   {
    "duration": 28,
    "start_time": "2024-07-25T22:18:13.926Z"
   },
   {
    "duration": 59,
    "start_time": "2024-07-25T22:18:13.958Z"
   },
   {
    "duration": 21,
    "start_time": "2024-07-25T22:18:14.021Z"
   },
   {
    "duration": 21,
    "start_time": "2024-07-25T22:54:31.636Z"
   },
   {
    "duration": 12,
    "start_time": "2024-07-25T22:54:40.678Z"
   },
   {
    "duration": 18,
    "start_time": "2024-07-25T22:56:53.577Z"
   },
   {
    "duration": 11,
    "start_time": "2024-07-25T23:35:28.967Z"
   },
   {
    "duration": 8,
    "start_time": "2024-07-25T23:35:39.905Z"
   },
   {
    "duration": 8,
    "start_time": "2024-07-26T00:09:08.474Z"
   },
   {
    "duration": 57,
    "start_time": "2024-07-26T00:09:17.177Z"
   },
   {
    "duration": 29,
    "start_time": "2024-07-26T00:09:29.950Z"
   },
   {
    "duration": 63,
    "start_time": "2024-07-26T00:10:00.061Z"
   },
   {
    "duration": 8,
    "start_time": "2024-07-26T00:10:08.146Z"
   },
   {
    "duration": 8,
    "start_time": "2024-07-26T00:10:37.810Z"
   },
   {
    "duration": 18,
    "start_time": "2024-07-26T00:10:47.952Z"
   },
   {
    "duration": 12,
    "start_time": "2024-07-26T00:10:58.599Z"
   },
   {
    "duration": 6,
    "start_time": "2024-07-26T00:11:06.333Z"
   },
   {
    "duration": 15,
    "start_time": "2024-07-26T00:11:45.197Z"
   },
   {
    "duration": 139,
    "start_time": "2024-07-26T00:29:19.117Z"
   },
   {
    "duration": 48,
    "start_time": "2024-07-26T00:32:00.374Z"
   },
   {
    "duration": 5481,
    "start_time": "2024-07-26T20:36:47.348Z"
   },
   {
    "duration": 353,
    "start_time": "2024-07-26T20:36:52.833Z"
   },
   {
    "duration": 28,
    "start_time": "2024-07-26T20:36:53.193Z"
   },
   {
    "duration": 34,
    "start_time": "2024-07-26T20:36:53.224Z"
   },
   {
    "duration": 29,
    "start_time": "2024-07-26T20:36:53.261Z"
   },
   {
    "duration": 75,
    "start_time": "2024-07-26T20:36:53.297Z"
   },
   {
    "duration": 18,
    "start_time": "2024-07-26T20:36:53.376Z"
   },
   {
    "duration": 13,
    "start_time": "2024-07-26T20:36:53.397Z"
   },
   {
    "duration": 184,
    "start_time": "2024-07-26T20:36:53.414Z"
   },
   {
    "duration": 77,
    "start_time": "2024-07-26T20:36:53.607Z"
   },
   {
    "duration": 4,
    "start_time": "2024-07-26T20:36:53.687Z"
   },
   {
    "duration": 4,
    "start_time": "2024-07-26T20:36:53.695Z"
   },
   {
    "duration": 3,
    "start_time": "2024-07-26T20:36:53.704Z"
   },
   {
    "duration": 9,
    "start_time": "2024-07-26T20:36:53.734Z"
   },
   {
    "duration": 4,
    "start_time": "2024-07-26T20:36:53.747Z"
   },
   {
    "duration": 5,
    "start_time": "2024-07-26T20:36:53.753Z"
   },
   {
    "duration": 5,
    "start_time": "2024-07-26T20:36:53.761Z"
   },
   {
    "duration": 4,
    "start_time": "2024-07-26T20:36:53.770Z"
   },
   {
    "duration": 4,
    "start_time": "2024-07-26T20:36:53.777Z"
   },
   {
    "duration": 3,
    "start_time": "2024-07-26T20:36:53.834Z"
   },
   {
    "duration": 3,
    "start_time": "2024-07-26T20:36:53.841Z"
   },
   {
    "duration": 4,
    "start_time": "2024-07-26T20:36:53.847Z"
   },
   {
    "duration": 3,
    "start_time": "2024-07-26T20:36:53.854Z"
   },
   {
    "duration": 4,
    "start_time": "2024-07-26T20:36:53.860Z"
   },
   {
    "duration": 3,
    "start_time": "2024-07-26T20:36:53.867Z"
   },
   {
    "duration": 4,
    "start_time": "2024-07-26T20:36:53.874Z"
   },
   {
    "duration": 6,
    "start_time": "2024-07-26T20:36:53.933Z"
   },
   {
    "duration": 3,
    "start_time": "2024-07-26T20:36:53.947Z"
   },
   {
    "duration": 4,
    "start_time": "2024-07-26T20:36:53.954Z"
   },
   {
    "duration": 4,
    "start_time": "2024-07-26T20:36:53.962Z"
   },
   {
    "duration": 4,
    "start_time": "2024-07-26T20:36:53.970Z"
   },
   {
    "duration": 55,
    "start_time": "2024-07-26T20:36:53.979Z"
   },
   {
    "duration": 5,
    "start_time": "2024-07-26T20:36:54.037Z"
   },
   {
    "duration": 3,
    "start_time": "2024-07-26T20:36:54.046Z"
   },
   {
    "duration": 8,
    "start_time": "2024-07-26T21:01:25.701Z"
   },
   {
    "duration": 412,
    "start_time": "2024-07-26T21:01:57.428Z"
   },
   {
    "duration": 18,
    "start_time": "2024-07-26T21:02:09.996Z"
   },
   {
    "duration": 27,
    "start_time": "2024-07-26T21:02:59.133Z"
   },
   {
    "duration": 9,
    "start_time": "2024-07-26T21:03:46.968Z"
   },
   {
    "duration": 6,
    "start_time": "2024-07-26T22:28:22.883Z"
   },
   {
    "duration": 7,
    "start_time": "2024-07-26T22:29:17.686Z"
   },
   {
    "duration": 19,
    "start_time": "2024-07-26T22:41:41.939Z"
   },
   {
    "duration": 9,
    "start_time": "2024-07-26T22:41:51.226Z"
   },
   {
    "duration": 5,
    "start_time": "2024-07-26T22:42:11.975Z"
   },
   {
    "duration": 299,
    "start_time": "2024-07-26T22:42:11.986Z"
   },
   {
    "duration": 14,
    "start_time": "2024-07-26T22:42:12.289Z"
   },
   {
    "duration": 27,
    "start_time": "2024-07-26T22:42:12.306Z"
   },
   {
    "duration": 6,
    "start_time": "2024-07-26T22:42:12.338Z"
   },
   {
    "duration": 8,
    "start_time": "2024-07-26T22:42:12.348Z"
   },
   {
    "duration": 15,
    "start_time": "2024-07-26T22:42:12.363Z"
   },
   {
    "duration": 9,
    "start_time": "2024-07-26T22:42:12.381Z"
   },
   {
    "duration": 4,
    "start_time": "2024-07-26T22:42:12.433Z"
   },
   {
    "duration": 4,
    "start_time": "2024-07-26T22:42:12.440Z"
   },
   {
    "duration": 3,
    "start_time": "2024-07-26T22:42:12.450Z"
   },
   {
    "duration": 3,
    "start_time": "2024-07-26T22:42:12.456Z"
   },
   {
    "duration": 4,
    "start_time": "2024-07-26T22:42:12.462Z"
   },
   {
    "duration": 8,
    "start_time": "2024-07-26T22:42:12.469Z"
   },
   {
    "duration": 55,
    "start_time": "2024-07-26T22:42:12.479Z"
   },
   {
    "duration": 3,
    "start_time": "2024-07-26T22:42:12.538Z"
   },
   {
    "duration": 3,
    "start_time": "2024-07-26T22:42:12.545Z"
   },
   {
    "duration": 6,
    "start_time": "2024-07-26T22:42:12.551Z"
   },
   {
    "duration": 4,
    "start_time": "2024-07-26T22:42:12.560Z"
   },
   {
    "duration": 3,
    "start_time": "2024-07-26T22:42:12.567Z"
   },
   {
    "duration": 4,
    "start_time": "2024-07-26T22:42:12.573Z"
   },
   {
    "duration": 4,
    "start_time": "2024-07-26T22:42:12.634Z"
   },
   {
    "duration": 4,
    "start_time": "2024-07-26T22:42:12.641Z"
   },
   {
    "duration": 4,
    "start_time": "2024-07-26T22:42:12.648Z"
   },
   {
    "duration": 4,
    "start_time": "2024-07-26T22:42:12.655Z"
   },
   {
    "duration": 3,
    "start_time": "2024-07-26T22:42:12.662Z"
   },
   {
    "duration": 3,
    "start_time": "2024-07-26T22:42:12.669Z"
   },
   {
    "duration": 3,
    "start_time": "2024-07-26T22:42:12.676Z"
   },
   {
    "duration": 3,
    "start_time": "2024-07-26T22:42:12.737Z"
   },
   {
    "duration": 4,
    "start_time": "2024-07-26T22:42:12.743Z"
   },
   {
    "duration": 10,
    "start_time": "2024-07-26T22:43:53.339Z"
   },
   {
    "duration": 6,
    "start_time": "2024-07-26T22:43:55.880Z"
   },
   {
    "duration": 7,
    "start_time": "2024-07-26T22:47:11.358Z"
   },
   {
    "duration": 843,
    "start_time": "2024-07-26T22:50:07.713Z"
   },
   {
    "duration": 8,
    "start_time": "2024-07-26T22:50:16.312Z"
   },
   {
    "duration": 7,
    "start_time": "2024-07-26T23:08:02.449Z"
   },
   {
    "duration": 17,
    "start_time": "2024-07-26T23:08:14.902Z"
   },
   {
    "duration": 25,
    "start_time": "2024-07-26T23:15:02.157Z"
   },
   {
    "duration": 11,
    "start_time": "2024-07-26T23:15:07.419Z"
   },
   {
    "duration": 7,
    "start_time": "2024-07-26T23:16:54.956Z"
   },
   {
    "duration": 57,
    "start_time": "2024-07-26T23:24:17.933Z"
   },
   {
    "duration": 17,
    "start_time": "2024-07-26T23:24:20.452Z"
   },
   {
    "duration": 46,
    "start_time": "2024-07-26T23:26:49.052Z"
   },
   {
    "duration": 20,
    "start_time": "2024-07-26T23:28:34.814Z"
   },
   {
    "duration": 7,
    "start_time": "2024-07-26T23:29:23.175Z"
   },
   {
    "duration": 27,
    "start_time": "2024-07-26T23:33:17.603Z"
   },
   {
    "duration": 12,
    "start_time": "2024-07-26T23:33:20.015Z"
   },
   {
    "duration": 30,
    "start_time": "2024-07-26T23:36:48.087Z"
   },
   {
    "duration": 23,
    "start_time": "2024-07-26T23:38:43.026Z"
   },
   {
    "duration": 7,
    "start_time": "2024-07-26T23:38:54.215Z"
   },
   {
    "duration": 63,
    "start_time": "2024-07-26T23:40:55.871Z"
   },
   {
    "duration": 15,
    "start_time": "2024-07-26T23:40:58.490Z"
   },
   {
    "duration": 39,
    "start_time": "2024-07-26T23:43:29.885Z"
   },
   {
    "duration": 4784,
    "start_time": "2024-07-27T16:25:50.221Z"
   },
   {
    "duration": 379,
    "start_time": "2024-07-27T16:25:55.009Z"
   },
   {
    "duration": 16,
    "start_time": "2024-07-27T16:25:55.391Z"
   },
   {
    "duration": 11,
    "start_time": "2024-07-27T16:25:55.410Z"
   },
   {
    "duration": 7,
    "start_time": "2024-07-27T16:25:55.425Z"
   },
   {
    "duration": 8,
    "start_time": "2024-07-27T16:25:55.435Z"
   },
   {
    "duration": 15,
    "start_time": "2024-07-27T16:25:55.490Z"
   },
   {
    "duration": 9,
    "start_time": "2024-07-27T16:25:55.508Z"
   },
   {
    "duration": 8,
    "start_time": "2024-07-27T16:25:55.520Z"
   },
   {
    "duration": 7,
    "start_time": "2024-07-27T16:25:55.531Z"
   },
   {
    "duration": 57,
    "start_time": "2024-07-27T16:25:55.541Z"
   },
   {
    "duration": 18,
    "start_time": "2024-07-27T16:25:55.602Z"
   },
   {
    "duration": 27,
    "start_time": "2024-07-27T16:25:55.623Z"
   },
   {
    "duration": 40,
    "start_time": "2024-07-27T16:25:55.656Z"
   },
   {
    "duration": 55,
    "start_time": "2024-07-27T16:25:55.699Z"
   },
   {
    "duration": 43,
    "start_time": "2024-07-27T16:25:55.758Z"
   },
   {
    "duration": 47,
    "start_time": "2024-07-27T16:25:55.804Z"
   },
   {
    "duration": 47,
    "start_time": "2024-07-27T16:25:55.854Z"
   },
   {
    "duration": 7,
    "start_time": "2024-07-27T16:25:55.904Z"
   },
   {
    "duration": 30,
    "start_time": "2024-07-27T16:25:55.916Z"
   },
   {
    "duration": 45,
    "start_time": "2024-07-27T16:25:55.949Z"
   },
   {
    "duration": 30,
    "start_time": "2024-07-27T16:25:55.998Z"
   },
   {
    "duration": 58,
    "start_time": "2024-07-27T16:25:56.032Z"
   },
   {
    "duration": 7,
    "start_time": "2024-07-27T16:25:56.093Z"
   },
   {
    "duration": 86,
    "start_time": "2024-07-27T16:25:56.104Z"
   },
   {
    "duration": 16,
    "start_time": "2024-07-27T16:25:56.193Z"
   },
   {
    "duration": 39,
    "start_time": "2024-07-27T16:25:56.212Z"
   },
   {
    "duration": 4,
    "start_time": "2024-07-27T16:25:56.254Z"
   },
   {
    "duration": 4,
    "start_time": "2024-07-27T16:25:56.292Z"
   },
   {
    "duration": 5,
    "start_time": "2024-07-27T16:25:56.299Z"
   },
   {
    "duration": 4,
    "start_time": "2024-07-27T16:25:56.307Z"
   },
   {
    "duration": 4,
    "start_time": "2024-07-27T16:25:56.314Z"
   },
   {
    "duration": 4,
    "start_time": "2024-07-27T16:25:56.321Z"
   },
   {
    "duration": 4,
    "start_time": "2024-07-27T16:25:56.328Z"
   },
   {
    "duration": 3,
    "start_time": "2024-07-27T16:25:56.393Z"
   },
   {
    "duration": 5,
    "start_time": "2024-07-27T16:25:56.400Z"
   },
   {
    "duration": 5,
    "start_time": "2024-07-27T16:25:56.409Z"
   },
   {
    "duration": 3,
    "start_time": "2024-07-27T16:25:56.418Z"
   },
   {
    "duration": 4,
    "start_time": "2024-07-27T16:25:56.425Z"
   },
   {
    "duration": 5,
    "start_time": "2024-07-27T16:25:56.432Z"
   },
   {
    "duration": 3,
    "start_time": "2024-07-27T16:25:56.497Z"
   },
   {
    "duration": 4,
    "start_time": "2024-07-27T16:25:56.504Z"
   },
   {
    "duration": 4,
    "start_time": "2024-07-27T16:25:56.511Z"
   },
   {
    "duration": 16,
    "start_time": "2024-07-27T16:27:26.660Z"
   },
   {
    "duration": 35,
    "start_time": "2024-07-27T17:07:20.269Z"
   },
   {
    "duration": 25,
    "start_time": "2024-07-27T17:13:13.048Z"
   },
   {
    "duration": 23,
    "start_time": "2024-07-27T17:17:04.255Z"
   },
   {
    "duration": 25,
    "start_time": "2024-07-27T17:17:44.984Z"
   },
   {
    "duration": 25,
    "start_time": "2024-07-27T17:18:47.882Z"
   },
   {
    "duration": 24,
    "start_time": "2024-07-27T17:19:08.392Z"
   },
   {
    "duration": 25,
    "start_time": "2024-07-27T17:21:15.078Z"
   },
   {
    "duration": 25,
    "start_time": "2024-07-27T17:31:23.172Z"
   },
   {
    "duration": 19,
    "start_time": "2024-07-27T17:33:00.074Z"
   },
   {
    "duration": 19,
    "start_time": "2024-07-27T17:33:33.404Z"
   },
   {
    "duration": 23,
    "start_time": "2024-07-27T17:33:48.035Z"
   },
   {
    "duration": 17,
    "start_time": "2024-07-27T17:39:45.000Z"
   },
   {
    "duration": 612,
    "start_time": "2024-07-27T17:49:07.012Z"
   },
   {
    "duration": 20,
    "start_time": "2024-07-27T17:49:32.455Z"
   },
   {
    "duration": 17,
    "start_time": "2024-07-27T17:52:53.631Z"
   },
   {
    "duration": 17,
    "start_time": "2024-07-27T17:54:01.306Z"
   },
   {
    "duration": 21,
    "start_time": "2024-07-27T18:58:33.548Z"
   },
   {
    "duration": 29,
    "start_time": "2024-07-27T18:59:01.033Z"
   },
   {
    "duration": 32,
    "start_time": "2024-07-27T18:59:53.204Z"
   },
   {
    "duration": 47,
    "start_time": "2024-07-27T19:00:23.882Z"
   },
   {
    "duration": 35,
    "start_time": "2024-07-27T19:03:47.600Z"
   },
   {
    "duration": 4,
    "start_time": "2024-07-27T19:03:57.396Z"
   },
   {
    "duration": 299,
    "start_time": "2024-07-27T19:03:57.424Z"
   },
   {
    "duration": 20,
    "start_time": "2024-07-27T19:03:57.728Z"
   },
   {
    "duration": 8,
    "start_time": "2024-07-27T19:03:57.752Z"
   },
   {
    "duration": 29,
    "start_time": "2024-07-27T19:03:57.764Z"
   },
   {
    "duration": 8,
    "start_time": "2024-07-27T19:03:57.798Z"
   },
   {
    "duration": 19,
    "start_time": "2024-07-27T19:03:57.810Z"
   },
   {
    "duration": 9,
    "start_time": "2024-07-27T19:03:57.832Z"
   },
   {
    "duration": 9,
    "start_time": "2024-07-27T19:03:57.890Z"
   },
   {
    "duration": 10,
    "start_time": "2024-07-27T19:03:57.905Z"
   },
   {
    "duration": 9,
    "start_time": "2024-07-27T19:03:57.918Z"
   },
   {
    "duration": 17,
    "start_time": "2024-07-27T19:03:57.930Z"
   },
   {
    "duration": 26,
    "start_time": "2024-07-27T19:03:57.992Z"
   },
   {
    "duration": 11,
    "start_time": "2024-07-27T19:03:58.020Z"
   },
   {
    "duration": 79,
    "start_time": "2024-07-27T19:03:58.043Z"
   },
   {
    "duration": 19,
    "start_time": "2024-07-27T19:03:58.125Z"
   },
   {
    "duration": 71,
    "start_time": "2024-07-27T19:03:58.149Z"
   },
   {
    "duration": 20,
    "start_time": "2024-07-27T19:03:58.223Z"
   },
   {
    "duration": 7,
    "start_time": "2024-07-27T19:03:58.246Z"
   },
   {
    "duration": 58,
    "start_time": "2024-07-27T19:03:58.256Z"
   },
   {
    "duration": 13,
    "start_time": "2024-07-27T19:03:58.318Z"
   },
   {
    "duration": 63,
    "start_time": "2024-07-27T19:03:58.334Z"
   },
   {
    "duration": 22,
    "start_time": "2024-07-27T19:03:58.400Z"
   },
   {
    "duration": 7,
    "start_time": "2024-07-27T19:03:58.425Z"
   },
   {
    "duration": 95,
    "start_time": "2024-07-27T19:03:58.436Z"
   },
   {
    "duration": 17,
    "start_time": "2024-07-27T19:03:58.533Z"
   },
   {
    "duration": 58,
    "start_time": "2024-07-27T19:03:58.553Z"
   },
   {
    "duration": 12,
    "start_time": "2024-07-27T19:03:58.614Z"
   },
   {
    "duration": 28,
    "start_time": "2024-07-27T19:03:58.629Z"
   },
   {
    "duration": 51,
    "start_time": "2024-07-27T19:03:58.659Z"
   },
   {
    "duration": 21,
    "start_time": "2024-07-27T19:03:58.713Z"
   },
   {
    "duration": 53,
    "start_time": "2024-07-27T19:03:58.737Z"
   },
   {
    "duration": 8,
    "start_time": "2024-07-27T19:03:58.793Z"
   },
   {
    "duration": 0,
    "start_time": "2024-07-27T19:03:58.805Z"
   },
   {
    "duration": 0,
    "start_time": "2024-07-27T19:03:58.807Z"
   },
   {
    "duration": 0,
    "start_time": "2024-07-27T19:03:58.809Z"
   },
   {
    "duration": 0,
    "start_time": "2024-07-27T19:03:58.811Z"
   },
   {
    "duration": 0,
    "start_time": "2024-07-27T19:03:58.813Z"
   },
   {
    "duration": 0,
    "start_time": "2024-07-27T19:03:58.816Z"
   },
   {
    "duration": 0,
    "start_time": "2024-07-27T19:03:58.818Z"
   },
   {
    "duration": 0,
    "start_time": "2024-07-27T19:03:58.820Z"
   },
   {
    "duration": 0,
    "start_time": "2024-07-27T19:03:58.823Z"
   },
   {
    "duration": 0,
    "start_time": "2024-07-27T19:03:58.825Z"
   },
   {
    "duration": 48,
    "start_time": "2024-07-27T19:04:23.854Z"
   },
   {
    "duration": 42,
    "start_time": "2024-07-27T19:06:21.215Z"
   },
   {
    "duration": 32,
    "start_time": "2024-07-27T19:06:52.694Z"
   },
   {
    "duration": 59,
    "start_time": "2024-07-27T19:44:14.758Z"
   },
   {
    "duration": 40,
    "start_time": "2024-07-27T19:44:42.147Z"
   },
   {
    "duration": 25,
    "start_time": "2024-07-27T19:44:51.636Z"
   },
   {
    "duration": 21,
    "start_time": "2024-07-27T19:49:35.061Z"
   },
   {
    "duration": 29,
    "start_time": "2024-07-27T19:50:09.498Z"
   },
   {
    "duration": 32,
    "start_time": "2024-07-27T19:51:27.429Z"
   },
   {
    "duration": 24,
    "start_time": "2024-07-27T20:10:26.800Z"
   },
   {
    "duration": 41,
    "start_time": "2024-07-27T20:14:54.617Z"
   },
   {
    "duration": 68,
    "start_time": "2024-07-27T20:15:10.883Z"
   },
   {
    "duration": 64,
    "start_time": "2024-07-27T20:16:42.172Z"
   },
   {
    "duration": 20,
    "start_time": "2024-07-27T20:17:52.847Z"
   },
   {
    "duration": 9,
    "start_time": "2024-07-27T20:26:53.264Z"
   },
   {
    "duration": 9,
    "start_time": "2024-07-27T20:26:59.074Z"
   },
   {
    "duration": 3,
    "start_time": "2024-07-27T20:29:48.433Z"
   },
   {
    "duration": 4917,
    "start_time": "2024-07-28T23:45:14.460Z"
   },
   {
    "duration": 378,
    "start_time": "2024-07-28T23:45:19.381Z"
   },
   {
    "duration": 20,
    "start_time": "2024-07-28T23:45:19.761Z"
   },
   {
    "duration": 11,
    "start_time": "2024-07-28T23:45:19.792Z"
   },
   {
    "duration": 8,
    "start_time": "2024-07-28T23:45:19.806Z"
   },
   {
    "duration": 10,
    "start_time": "2024-07-28T23:45:19.817Z"
   },
   {
    "duration": 66,
    "start_time": "2024-07-28T23:45:19.830Z"
   },
   {
    "duration": 8,
    "start_time": "2024-07-28T23:45:19.902Z"
   },
   {
    "duration": 9,
    "start_time": "2024-07-28T23:45:19.915Z"
   },
   {
    "duration": 6,
    "start_time": "2024-07-28T23:45:19.931Z"
   },
   {
    "duration": 51,
    "start_time": "2024-07-28T23:45:19.941Z"
   },
   {
    "duration": 17,
    "start_time": "2024-07-28T23:45:19.995Z"
   },
   {
    "duration": 25,
    "start_time": "2024-07-28T23:45:20.016Z"
   },
   {
    "duration": 7,
    "start_time": "2024-07-28T23:45:20.045Z"
   },
   {
    "duration": 65,
    "start_time": "2024-07-28T23:45:20.092Z"
   },
   {
    "duration": 34,
    "start_time": "2024-07-28T23:45:20.161Z"
   },
   {
    "duration": 50,
    "start_time": "2024-07-28T23:45:20.199Z"
   },
   {
    "duration": 46,
    "start_time": "2024-07-28T23:45:20.253Z"
   },
   {
    "duration": 7,
    "start_time": "2024-07-28T23:45:20.302Z"
   },
   {
    "duration": 28,
    "start_time": "2024-07-28T23:45:20.313Z"
   },
   {
    "duration": 50,
    "start_time": "2024-07-28T23:45:20.344Z"
   },
   {
    "duration": 35,
    "start_time": "2024-07-28T23:45:20.399Z"
   },
   {
    "duration": 28,
    "start_time": "2024-07-28T23:45:20.438Z"
   },
   {
    "duration": 8,
    "start_time": "2024-07-28T23:45:20.491Z"
   },
   {
    "duration": 88,
    "start_time": "2024-07-28T23:45:20.503Z"
   },
   {
    "duration": 16,
    "start_time": "2024-07-28T23:45:20.594Z"
   },
   {
    "duration": 42,
    "start_time": "2024-07-28T23:45:20.612Z"
   },
   {
    "duration": 17,
    "start_time": "2024-07-28T23:45:20.691Z"
   },
   {
    "duration": 34,
    "start_time": "2024-07-28T23:45:20.711Z"
   },
   {
    "duration": 59,
    "start_time": "2024-07-28T23:45:20.750Z"
   },
   {
    "duration": 20,
    "start_time": "2024-07-28T23:45:20.812Z"
   },
   {
    "duration": 21,
    "start_time": "2024-07-28T23:45:20.835Z"
   },
   {
    "duration": 57,
    "start_time": "2024-07-28T23:45:20.859Z"
   },
   {
    "duration": 20,
    "start_time": "2024-07-28T23:45:20.919Z"
   },
   {
    "duration": 3,
    "start_time": "2024-07-28T23:45:20.943Z"
   },
   {
    "duration": 3,
    "start_time": "2024-07-28T23:45:20.949Z"
   },
   {
    "duration": 3,
    "start_time": "2024-07-28T23:45:20.994Z"
   },
   {
    "duration": 4,
    "start_time": "2024-07-28T23:45:21.001Z"
   },
   {
    "duration": 3,
    "start_time": "2024-07-28T23:45:21.008Z"
   },
   {
    "duration": 3,
    "start_time": "2024-07-28T23:45:21.015Z"
   },
   {
    "duration": 6,
    "start_time": "2024-07-28T23:45:21.022Z"
   },
   {
    "duration": 5,
    "start_time": "2024-07-28T23:45:21.032Z"
   },
   {
    "duration": 3,
    "start_time": "2024-07-28T23:45:21.041Z"
   },
   {
    "duration": 27,
    "start_time": "2024-07-29T00:28:06.803Z"
   },
   {
    "duration": 31,
    "start_time": "2024-07-29T00:28:37.491Z"
   },
   {
    "duration": 19,
    "start_time": "2024-07-29T00:28:52.819Z"
   },
   {
    "duration": 20,
    "start_time": "2024-07-29T00:29:13.945Z"
   },
   {
    "duration": 19,
    "start_time": "2024-07-29T00:41:41.073Z"
   },
   {
    "duration": 22,
    "start_time": "2024-07-29T00:43:18.415Z"
   },
   {
    "duration": 20,
    "start_time": "2024-07-29T00:44:49.107Z"
   },
   {
    "duration": 4,
    "start_time": "2024-07-29T00:44:58.516Z"
   },
   {
    "duration": 287,
    "start_time": "2024-07-29T00:44:58.524Z"
   },
   {
    "duration": 15,
    "start_time": "2024-07-29T00:44:58.813Z"
   },
   {
    "duration": 8,
    "start_time": "2024-07-29T00:44:58.832Z"
   },
   {
    "duration": 7,
    "start_time": "2024-07-29T00:44:58.845Z"
   },
   {
    "duration": 7,
    "start_time": "2024-07-29T00:44:58.890Z"
   },
   {
    "duration": 16,
    "start_time": "2024-07-29T00:44:58.900Z"
   },
   {
    "duration": 8,
    "start_time": "2024-07-29T00:44:58.920Z"
   },
   {
    "duration": 8,
    "start_time": "2024-07-29T00:44:58.932Z"
   },
   {
    "duration": 6,
    "start_time": "2024-07-29T00:44:58.990Z"
   },
   {
    "duration": 8,
    "start_time": "2024-07-29T00:44:58.999Z"
   },
   {
    "duration": 17,
    "start_time": "2024-07-29T00:44:59.010Z"
   },
   {
    "duration": 61,
    "start_time": "2024-07-29T00:44:59.033Z"
   },
   {
    "duration": 8,
    "start_time": "2024-07-29T00:44:59.097Z"
   },
   {
    "duration": 83,
    "start_time": "2024-07-29T00:44:59.108Z"
   },
   {
    "duration": 18,
    "start_time": "2024-07-29T00:44:59.194Z"
   },
   {
    "duration": 46,
    "start_time": "2024-07-29T00:44:59.216Z"
   },
   {
    "duration": 20,
    "start_time": "2024-07-29T00:44:59.290Z"
   },
   {
    "duration": 7,
    "start_time": "2024-07-29T00:44:59.312Z"
   },
   {
    "duration": 67,
    "start_time": "2024-07-29T00:44:59.323Z"
   },
   {
    "duration": 12,
    "start_time": "2024-07-29T00:44:59.394Z"
   },
   {
    "duration": 30,
    "start_time": "2024-07-29T00:44:59.410Z"
   },
   {
    "duration": 55,
    "start_time": "2024-07-29T00:44:59.443Z"
   },
   {
    "duration": 7,
    "start_time": "2024-07-29T00:44:59.502Z"
   },
   {
    "duration": 82,
    "start_time": "2024-07-29T00:44:59.512Z"
   },
   {
    "duration": 15,
    "start_time": "2024-07-29T00:44:59.597Z"
   },
   {
    "duration": 37,
    "start_time": "2024-07-29T00:44:59.615Z"
   },
   {
    "duration": 40,
    "start_time": "2024-07-29T00:44:59.656Z"
   },
   {
    "duration": 22,
    "start_time": "2024-07-29T00:44:59.700Z"
   },
   {
    "duration": 20,
    "start_time": "2024-07-29T00:44:59.725Z"
   },
   {
    "duration": 17,
    "start_time": "2024-07-29T00:44:59.790Z"
   },
   {
    "duration": 17,
    "start_time": "2024-07-29T00:44:59.811Z"
   },
   {
    "duration": 60,
    "start_time": "2024-07-29T00:44:59.831Z"
   },
   {
    "duration": 20,
    "start_time": "2024-07-29T00:44:59.894Z"
   },
   {
    "duration": 25,
    "start_time": "2024-07-29T00:44:59.918Z"
   },
   {
    "duration": 3,
    "start_time": "2024-07-29T00:44:59.946Z"
   },
   {
    "duration": 3,
    "start_time": "2024-07-29T00:44:59.990Z"
   },
   {
    "duration": 4,
    "start_time": "2024-07-29T00:44:59.996Z"
   },
   {
    "duration": 3,
    "start_time": "2024-07-29T00:45:00.004Z"
   },
   {
    "duration": 3,
    "start_time": "2024-07-29T00:45:00.010Z"
   },
   {
    "duration": 4,
    "start_time": "2024-07-29T00:45:00.016Z"
   },
   {
    "duration": 6,
    "start_time": "2024-07-29T00:45:00.023Z"
   },
   {
    "duration": 4,
    "start_time": "2024-07-29T00:45:00.032Z"
   },
   {
    "duration": 37,
    "start_time": "2024-07-29T00:45:53.417Z"
   },
   {
    "duration": 22,
    "start_time": "2024-07-29T00:46:49.057Z"
   },
   {
    "duration": 20,
    "start_time": "2024-07-29T00:47:12.130Z"
   },
   {
    "duration": 20,
    "start_time": "2024-07-29T00:49:51.865Z"
   },
   {
    "duration": 19,
    "start_time": "2024-07-29T00:50:01.129Z"
   },
   {
    "duration": 23,
    "start_time": "2024-07-29T00:50:11.511Z"
   },
   {
    "duration": 21,
    "start_time": "2024-07-29T00:55:53.986Z"
   },
   {
    "duration": 24,
    "start_time": "2024-07-29T00:56:10.912Z"
   },
   {
    "duration": 26,
    "start_time": "2024-07-29T01:05:52.994Z"
   },
   {
    "duration": 26,
    "start_time": "2024-07-29T01:07:19.708Z"
   },
   {
    "duration": 24,
    "start_time": "2024-07-29T01:10:37.914Z"
   },
   {
    "duration": 30,
    "start_time": "2024-07-29T01:11:35.028Z"
   },
   {
    "duration": 23,
    "start_time": "2024-07-29T01:14:18.376Z"
   },
   {
    "duration": 25,
    "start_time": "2024-07-29T01:15:58.906Z"
   },
   {
    "duration": 23,
    "start_time": "2024-07-29T01:22:45.953Z"
   },
   {
    "duration": 28,
    "start_time": "2024-07-29T01:23:11.417Z"
   },
   {
    "duration": 23,
    "start_time": "2024-07-29T01:23:22.810Z"
   },
   {
    "duration": 59,
    "start_time": "2024-07-29T02:19:49.554Z"
   },
   {
    "duration": 63,
    "start_time": "2024-07-29T02:24:48.839Z"
   },
   {
    "duration": 4900,
    "start_time": "2024-07-30T21:28:14.895Z"
   },
   {
    "duration": 364,
    "start_time": "2024-07-30T21:28:19.799Z"
   },
   {
    "duration": 16,
    "start_time": "2024-07-30T21:28:20.166Z"
   },
   {
    "duration": 12,
    "start_time": "2024-07-30T21:28:20.187Z"
   },
   {
    "duration": 27,
    "start_time": "2024-07-30T21:28:20.201Z"
   },
   {
    "duration": 8,
    "start_time": "2024-07-30T21:28:20.232Z"
   },
   {
    "duration": 15,
    "start_time": "2024-07-30T21:28:20.243Z"
   },
   {
    "duration": 9,
    "start_time": "2024-07-30T21:28:20.261Z"
   },
   {
    "duration": 57,
    "start_time": "2024-07-30T21:28:20.273Z"
   },
   {
    "duration": 9,
    "start_time": "2024-07-30T21:28:20.335Z"
   },
   {
    "duration": 8,
    "start_time": "2024-07-30T21:28:20.347Z"
   },
   {
    "duration": 20,
    "start_time": "2024-07-30T21:28:20.358Z"
   },
   {
    "duration": 67,
    "start_time": "2024-07-30T21:28:20.381Z"
   },
   {
    "duration": 7,
    "start_time": "2024-07-30T21:28:20.451Z"
   },
   {
    "duration": 80,
    "start_time": "2024-07-30T21:28:20.462Z"
   },
   {
    "duration": 25,
    "start_time": "2024-07-30T21:28:20.545Z"
   },
   {
    "duration": 77,
    "start_time": "2024-07-30T21:28:20.573Z"
   },
   {
    "duration": 22,
    "start_time": "2024-07-30T21:28:20.653Z"
   },
   {
    "duration": 7,
    "start_time": "2024-07-30T21:28:20.678Z"
   },
   {
    "duration": 62,
    "start_time": "2024-07-30T21:28:20.688Z"
   },
   {
    "duration": 15,
    "start_time": "2024-07-30T21:28:20.753Z"
   },
   {
    "duration": 60,
    "start_time": "2024-07-30T21:28:20.771Z"
   },
   {
    "duration": 23,
    "start_time": "2024-07-30T21:28:20.834Z"
   },
   {
    "duration": 7,
    "start_time": "2024-07-30T21:28:20.860Z"
   },
   {
    "duration": 98,
    "start_time": "2024-07-30T21:28:20.871Z"
   },
   {
    "duration": 15,
    "start_time": "2024-07-30T21:28:20.972Z"
   },
   {
    "duration": 59,
    "start_time": "2024-07-30T21:28:20.990Z"
   },
   {
    "duration": 14,
    "start_time": "2024-07-30T21:28:21.056Z"
   },
   {
    "duration": 55,
    "start_time": "2024-07-30T21:28:21.073Z"
   },
   {
    "duration": 23,
    "start_time": "2024-07-30T21:28:21.131Z"
   },
   {
    "duration": 19,
    "start_time": "2024-07-30T21:28:21.157Z"
   },
   {
    "duration": 51,
    "start_time": "2024-07-30T21:28:21.180Z"
   },
   {
    "duration": 28,
    "start_time": "2024-07-30T21:28:21.233Z"
   },
   {
    "duration": 20,
    "start_time": "2024-07-30T21:28:21.265Z"
   },
   {
    "duration": 82,
    "start_time": "2024-07-30T21:28:21.288Z"
   },
   {
    "duration": 648,
    "start_time": "2024-07-30T21:28:21.373Z"
   },
   {
    "duration": 0,
    "start_time": "2024-07-30T21:28:22.027Z"
   },
   {
    "duration": 0,
    "start_time": "2024-07-30T21:28:22.029Z"
   },
   {
    "duration": 0,
    "start_time": "2024-07-30T21:28:22.032Z"
   },
   {
    "duration": 0,
    "start_time": "2024-07-30T21:28:22.034Z"
   },
   {
    "duration": 0,
    "start_time": "2024-07-30T21:28:22.036Z"
   },
   {
    "duration": 0,
    "start_time": "2024-07-30T21:28:22.040Z"
   },
   {
    "duration": 0,
    "start_time": "2024-07-30T21:28:22.042Z"
   },
   {
    "duration": 14,
    "start_time": "2024-07-30T21:29:16.841Z"
   },
   {
    "duration": 14,
    "start_time": "2024-07-30T21:30:08.191Z"
   },
   {
    "duration": 13,
    "start_time": "2024-07-30T21:30:29.131Z"
   },
   {
    "duration": 14,
    "start_time": "2024-07-30T21:33:39.683Z"
   },
   {
    "duration": 519,
    "start_time": "2024-07-30T21:42:55.067Z"
   },
   {
    "duration": 341,
    "start_time": "2024-07-30T21:44:25.809Z"
   },
   {
    "duration": 472,
    "start_time": "2024-07-30T21:55:24.684Z"
   },
   {
    "duration": 356,
    "start_time": "2024-07-30T21:57:50.947Z"
   },
   {
    "duration": 1006,
    "start_time": "2024-07-30T22:21:27.393Z"
   },
   {
    "duration": 359,
    "start_time": "2024-07-30T22:22:21.046Z"
   },
   {
    "duration": 328,
    "start_time": "2024-07-30T22:26:02.968Z"
   },
   {
    "duration": 333,
    "start_time": "2024-07-30T22:30:47.819Z"
   },
   {
    "duration": 1527,
    "start_time": "2024-07-30T22:47:52.972Z"
   },
   {
    "duration": 205,
    "start_time": "2024-07-30T22:48:44.168Z"
   },
   {
    "duration": 632,
    "start_time": "2024-07-30T22:50:44.085Z"
   },
   {
    "duration": 777,
    "start_time": "2024-07-30T22:51:26.744Z"
   },
   {
    "duration": 309,
    "start_time": "2024-07-30T22:53:03.008Z"
   },
   {
    "duration": 25,
    "start_time": "2024-07-30T23:04:51.842Z"
   },
   {
    "duration": 24,
    "start_time": "2024-07-30T23:05:21.426Z"
   },
   {
    "duration": 20,
    "start_time": "2024-07-30T23:05:49.093Z"
   },
   {
    "duration": 7,
    "start_time": "2024-07-30T23:07:10.697Z"
   },
   {
    "duration": 239,
    "start_time": "2024-07-30T23:09:21.098Z"
   },
   {
    "duration": 237,
    "start_time": "2024-07-30T23:12:04.963Z"
   },
   {
    "duration": 249,
    "start_time": "2024-07-30T23:12:13.177Z"
   },
   {
    "duration": 243,
    "start_time": "2024-07-30T23:12:33.256Z"
   },
   {
    "duration": 235,
    "start_time": "2024-07-30T23:13:16.476Z"
   },
   {
    "duration": 251,
    "start_time": "2024-07-30T23:14:03.278Z"
   },
   {
    "duration": 307,
    "start_time": "2024-07-30T23:14:47.860Z"
   },
   {
    "duration": 306,
    "start_time": "2024-07-30T23:15:50.020Z"
   },
   {
    "duration": 305,
    "start_time": "2024-07-30T23:20:17.164Z"
   },
   {
    "duration": 6,
    "start_time": "2024-07-30T23:33:01.470Z"
   },
   {
    "duration": 7,
    "start_time": "2024-07-30T23:33:22.119Z"
   },
   {
    "duration": 10,
    "start_time": "2024-07-30T23:34:12.792Z"
   },
   {
    "duration": 14,
    "start_time": "2024-07-30T23:36:03.511Z"
   },
   {
    "duration": 206,
    "start_time": "2024-07-30T23:38:48.834Z"
   },
   {
    "duration": 209,
    "start_time": "2024-07-30T23:39:47.913Z"
   },
   {
    "duration": 5042,
    "start_time": "2024-07-31T18:05:38.699Z"
   },
   {
    "duration": 379,
    "start_time": "2024-07-31T18:05:43.745Z"
   },
   {
    "duration": 18,
    "start_time": "2024-07-31T18:05:44.126Z"
   },
   {
    "duration": 11,
    "start_time": "2024-07-31T18:05:44.148Z"
   },
   {
    "duration": 28,
    "start_time": "2024-07-31T18:05:44.162Z"
   },
   {
    "duration": 8,
    "start_time": "2024-07-31T18:05:44.195Z"
   },
   {
    "duration": 15,
    "start_time": "2024-07-31T18:05:44.206Z"
   },
   {
    "duration": 9,
    "start_time": "2024-07-31T18:05:44.224Z"
   },
   {
    "duration": 57,
    "start_time": "2024-07-31T18:05:44.236Z"
   },
   {
    "duration": 7,
    "start_time": "2024-07-31T18:05:44.299Z"
   },
   {
    "duration": 8,
    "start_time": "2024-07-31T18:05:44.309Z"
   },
   {
    "duration": 18,
    "start_time": "2024-07-31T18:05:44.321Z"
   },
   {
    "duration": 65,
    "start_time": "2024-07-31T18:05:44.342Z"
   },
   {
    "duration": 7,
    "start_time": "2024-07-31T18:05:44.410Z"
   },
   {
    "duration": 90,
    "start_time": "2024-07-31T18:05:44.421Z"
   },
   {
    "duration": 19,
    "start_time": "2024-07-31T18:05:44.514Z"
   },
   {
    "duration": 71,
    "start_time": "2024-07-31T18:05:44.536Z"
   },
   {
    "duration": 21,
    "start_time": "2024-07-31T18:05:44.609Z"
   },
   {
    "duration": 6,
    "start_time": "2024-07-31T18:05:44.633Z"
   },
   {
    "duration": 60,
    "start_time": "2024-07-31T18:05:44.643Z"
   },
   {
    "duration": 15,
    "start_time": "2024-07-31T18:05:44.706Z"
   },
   {
    "duration": 36,
    "start_time": "2024-07-31T18:05:44.724Z"
   },
   {
    "duration": 29,
    "start_time": "2024-07-31T18:05:44.793Z"
   },
   {
    "duration": 8,
    "start_time": "2024-07-31T18:05:44.826Z"
   },
   {
    "duration": 105,
    "start_time": "2024-07-31T18:05:44.839Z"
   },
   {
    "duration": 17,
    "start_time": "2024-07-31T18:05:44.948Z"
   },
   {
    "duration": 58,
    "start_time": "2024-07-31T18:05:44.970Z"
   },
   {
    "duration": 16,
    "start_time": "2024-07-31T18:05:45.035Z"
   },
   {
    "duration": 53,
    "start_time": "2024-07-31T18:05:45.056Z"
   },
   {
    "duration": 25,
    "start_time": "2024-07-31T18:05:45.112Z"
   },
   {
    "duration": 49,
    "start_time": "2024-07-31T18:05:45.141Z"
   },
   {
    "duration": 19,
    "start_time": "2024-07-31T18:05:45.193Z"
   },
   {
    "duration": 30,
    "start_time": "2024-07-31T18:05:45.216Z"
   },
   {
    "duration": 58,
    "start_time": "2024-07-31T18:05:45.249Z"
   },
   {
    "duration": 55,
    "start_time": "2024-07-31T18:05:45.310Z"
   },
   {
    "duration": 392,
    "start_time": "2024-07-31T18:05:45.392Z"
   },
   {
    "duration": 324,
    "start_time": "2024-07-31T18:05:45.791Z"
   },
   {
    "duration": 14,
    "start_time": "2024-07-31T18:05:46.118Z"
   },
   {
    "duration": 234,
    "start_time": "2024-07-31T18:05:46.135Z"
   },
   {
    "duration": 4,
    "start_time": "2024-07-31T18:05:46.372Z"
   },
   {
    "duration": 15,
    "start_time": "2024-07-31T18:05:46.378Z"
   },
   {
    "duration": 4,
    "start_time": "2024-07-31T18:05:46.398Z"
   },
   {
    "duration": 3,
    "start_time": "2024-07-31T18:05:46.406Z"
   },
   {
    "duration": 542,
    "start_time": "2024-07-31T18:59:50.081Z"
   },
   {
    "duration": 217,
    "start_time": "2024-07-31T19:00:23.983Z"
   },
   {
    "duration": 492,
    "start_time": "2024-07-31T19:02:16.025Z"
   },
   {
    "duration": 432,
    "start_time": "2024-07-31T19:08:32.349Z"
   },
   {
    "duration": 430,
    "start_time": "2024-07-31T19:08:56.264Z"
   },
   {
    "duration": 197,
    "start_time": "2024-07-31T19:13:41.456Z"
   },
   {
    "duration": 14,
    "start_time": "2024-07-31T20:04:09.408Z"
   },
   {
    "duration": 30,
    "start_time": "2024-07-31T20:05:24.480Z"
   },
   {
    "duration": 332,
    "start_time": "2024-07-31T20:07:31.838Z"
   },
   {
    "duration": 272,
    "start_time": "2024-07-31T20:13:23.613Z"
   },
   {
    "duration": 14,
    "start_time": "2024-07-31T20:22:08.798Z"
   },
   {
    "duration": 187,
    "start_time": "2024-07-31T20:24:31.126Z"
   },
   {
    "duration": 193,
    "start_time": "2024-07-31T20:25:00.400Z"
   },
   {
    "duration": 216,
    "start_time": "2024-07-31T20:25:26.065Z"
   },
   {
    "duration": 285,
    "start_time": "2024-07-31T20:43:50.293Z"
   },
   {
    "duration": 351,
    "start_time": "2024-07-31T21:25:26.905Z"
   },
   {
    "duration": 373,
    "start_time": "2024-07-31T21:27:27.129Z"
   },
   {
    "duration": 288,
    "start_time": "2024-07-31T21:29:48.881Z"
   },
   {
    "duration": 281,
    "start_time": "2024-07-31T21:31:10.416Z"
   },
   {
    "duration": 15,
    "start_time": "2024-07-31T21:34:35.712Z"
   },
   {
    "duration": 204,
    "start_time": "2024-07-31T21:37:53.274Z"
   },
   {
    "duration": 10,
    "start_time": "2024-07-31T22:40:28.793Z"
   },
   {
    "duration": 11,
    "start_time": "2024-07-31T22:41:38.795Z"
   },
   {
    "duration": 11,
    "start_time": "2024-07-31T22:42:13.100Z"
   },
   {
    "duration": 20,
    "start_time": "2024-07-31T22:46:02.087Z"
   },
   {
    "duration": 28,
    "start_time": "2024-07-31T23:44:41.737Z"
   },
   {
    "duration": 26,
    "start_time": "2024-07-31T23:52:35.119Z"
   },
   {
    "duration": 864,
    "start_time": "2024-07-31T23:56:08.282Z"
   },
   {
    "duration": 76,
    "start_time": "2024-07-31T23:59:18.776Z"
   },
   {
    "duration": 342,
    "start_time": "2024-08-01T00:02:35.354Z"
   },
   {
    "duration": 356,
    "start_time": "2024-08-01T00:03:15.057Z"
   },
   {
    "duration": 347,
    "start_time": "2024-08-01T00:09:05.390Z"
   },
   {
    "duration": 25,
    "start_time": "2024-08-01T00:09:31.892Z"
   },
   {
    "duration": 22,
    "start_time": "2024-08-01T00:09:54.484Z"
   },
   {
    "duration": 196,
    "start_time": "2024-08-01T00:13:59.370Z"
   },
   {
    "duration": 683,
    "start_time": "2024-08-01T00:14:37.167Z"
   },
   {
    "duration": 381,
    "start_time": "2024-08-01T00:14:50.750Z"
   },
   {
    "duration": 199,
    "start_time": "2024-08-01T00:16:02.758Z"
   },
   {
    "duration": 4931,
    "start_time": "2024-08-01T20:55:53.504Z"
   },
   {
    "duration": 360,
    "start_time": "2024-08-01T20:55:58.439Z"
   },
   {
    "duration": 26,
    "start_time": "2024-08-01T20:55:58.801Z"
   },
   {
    "duration": 10,
    "start_time": "2024-08-01T20:55:58.830Z"
   },
   {
    "duration": 6,
    "start_time": "2024-08-01T20:55:58.846Z"
   },
   {
    "duration": 7,
    "start_time": "2024-08-01T20:55:58.855Z"
   },
   {
    "duration": 49,
    "start_time": "2024-08-01T20:55:58.865Z"
   },
   {
    "duration": 9,
    "start_time": "2024-08-01T20:55:58.917Z"
   },
   {
    "duration": 8,
    "start_time": "2024-08-01T20:55:58.929Z"
   },
   {
    "duration": 8,
    "start_time": "2024-08-01T20:55:58.940Z"
   },
   {
    "duration": 56,
    "start_time": "2024-08-01T20:55:58.951Z"
   },
   {
    "duration": 21,
    "start_time": "2024-08-01T20:55:59.011Z"
   },
   {
    "duration": 25,
    "start_time": "2024-08-01T20:55:59.035Z"
   },
   {
    "duration": 7,
    "start_time": "2024-08-01T20:55:59.108Z"
   },
   {
    "duration": 62,
    "start_time": "2024-08-01T20:55:59.118Z"
   },
   {
    "duration": 35,
    "start_time": "2024-08-01T20:55:59.183Z"
   },
   {
    "duration": 48,
    "start_time": "2024-08-01T20:55:59.220Z"
   },
   {
    "duration": 45,
    "start_time": "2024-08-01T20:55:59.271Z"
   },
   {
    "duration": 7,
    "start_time": "2024-08-01T20:55:59.319Z"
   },
   {
    "duration": 28,
    "start_time": "2024-08-01T20:55:59.329Z"
   },
   {
    "duration": 50,
    "start_time": "2024-08-01T20:55:59.360Z"
   },
   {
    "duration": 35,
    "start_time": "2024-08-01T20:55:59.413Z"
   },
   {
    "duration": 25,
    "start_time": "2024-08-01T20:55:59.451Z"
   },
   {
    "duration": 7,
    "start_time": "2024-08-01T20:55:59.507Z"
   },
   {
    "duration": 89,
    "start_time": "2024-08-01T20:55:59.517Z"
   },
   {
    "duration": 16,
    "start_time": "2024-08-01T20:55:59.610Z"
   },
   {
    "duration": 38,
    "start_time": "2024-08-01T20:55:59.628Z"
   },
   {
    "duration": 44,
    "start_time": "2024-08-01T20:55:59.670Z"
   },
   {
    "duration": 28,
    "start_time": "2024-08-01T20:55:59.716Z"
   },
   {
    "duration": 22,
    "start_time": "2024-08-01T20:55:59.747Z"
   },
   {
    "duration": 52,
    "start_time": "2024-08-01T20:55:59.772Z"
   },
   {
    "duration": 18,
    "start_time": "2024-08-01T20:55:59.827Z"
   },
   {
    "duration": 61,
    "start_time": "2024-08-01T20:55:59.848Z"
   },
   {
    "duration": 23,
    "start_time": "2024-08-01T20:55:59.912Z"
   },
   {
    "duration": 70,
    "start_time": "2024-08-01T20:55:59.938Z"
   },
   {
    "duration": 370,
    "start_time": "2024-08-01T20:56:00.011Z"
   },
   {
    "duration": 335,
    "start_time": "2024-08-01T20:56:00.384Z"
   },
   {
    "duration": 15,
    "start_time": "2024-08-01T20:56:00.723Z"
   },
   {
    "duration": 233,
    "start_time": "2024-08-01T20:56:00.742Z"
   },
   {
    "duration": 337,
    "start_time": "2024-08-01T20:56:00.979Z"
   },
   {
    "duration": 285,
    "start_time": "2024-08-01T20:56:01.324Z"
   },
   {
    "duration": 15,
    "start_time": "2024-08-01T20:56:01.611Z"
   },
   {
    "duration": 212,
    "start_time": "2024-08-01T20:56:01.630Z"
   },
   {
    "duration": 426,
    "start_time": "2024-08-01T20:56:01.845Z"
   },
   {
    "duration": 297,
    "start_time": "2024-08-01T20:56:02.274Z"
   },
   {
    "duration": 15,
    "start_time": "2024-08-01T20:56:02.574Z"
   },
   {
    "duration": 224,
    "start_time": "2024-08-01T20:56:02.608Z"
   },
   {
    "duration": 346,
    "start_time": "2024-08-01T20:56:02.835Z"
   },
   {
    "duration": 34,
    "start_time": "2024-08-01T20:56:03.184Z"
   },
   {
    "duration": 203,
    "start_time": "2024-08-01T20:56:03.221Z"
   },
   {
    "duration": 4,
    "start_time": "2024-08-01T20:56:03.427Z"
   },
   {
    "duration": 4,
    "start_time": "2024-08-01T20:56:03.434Z"
   },
   {
    "duration": 10,
    "start_time": "2024-08-01T22:33:39.949Z"
   },
   {
    "duration": 9,
    "start_time": "2024-08-01T22:34:51.764Z"
   },
   {
    "duration": 10,
    "start_time": "2024-08-01T22:35:00.194Z"
   },
   {
    "duration": 9,
    "start_time": "2024-08-01T22:35:25.861Z"
   },
   {
    "duration": 11,
    "start_time": "2024-08-01T22:35:36.984Z"
   },
   {
    "duration": 11,
    "start_time": "2024-08-01T22:35:52.531Z"
   },
   {
    "duration": 11,
    "start_time": "2024-08-01T22:37:22.137Z"
   },
   {
    "duration": 10,
    "start_time": "2024-08-01T22:37:32.756Z"
   },
   {
    "duration": 8,
    "start_time": "2024-08-01T22:38:03.309Z"
   },
   {
    "duration": 12,
    "start_time": "2024-08-01T22:44:42.478Z"
   },
   {
    "duration": 10,
    "start_time": "2024-08-01T22:45:24.502Z"
   },
   {
    "duration": 12,
    "start_time": "2024-08-01T22:45:36.476Z"
   },
   {
    "duration": 20,
    "start_time": "2024-08-01T23:09:41.047Z"
   },
   {
    "duration": 9,
    "start_time": "2024-08-01T23:16:24.958Z"
   },
   {
    "duration": 21,
    "start_time": "2024-08-01T23:19:01.094Z"
   },
   {
    "duration": 19,
    "start_time": "2024-08-01T23:20:18.771Z"
   },
   {
    "duration": 7,
    "start_time": "2024-08-01T23:22:13.041Z"
   },
   {
    "duration": 20,
    "start_time": "2024-08-01T23:22:20.647Z"
   },
   {
    "duration": 14,
    "start_time": "2024-08-01T23:47:10.166Z"
   },
   {
    "duration": 17,
    "start_time": "2024-08-01T23:48:58.404Z"
   },
   {
    "duration": 15,
    "start_time": "2024-08-01T23:49:42.236Z"
   },
   {
    "duration": 1351,
    "start_time": "2024-08-01T23:51:24.457Z"
   },
   {
    "duration": 7,
    "start_time": "2024-08-01T23:51:54.489Z"
   },
   {
    "duration": 63,
    "start_time": "2024-08-01T23:52:03.605Z"
   },
   {
    "duration": 40,
    "start_time": "2024-08-01T23:52:31.516Z"
   },
   {
    "duration": 17,
    "start_time": "2024-08-01T23:52:49.620Z"
   },
   {
    "duration": 13,
    "start_time": "2024-08-01T23:57:44.005Z"
   },
   {
    "duration": 9,
    "start_time": "2024-08-01T23:57:57.998Z"
   },
   {
    "duration": 14,
    "start_time": "2024-08-01T23:58:17.880Z"
   },
   {
    "duration": 11,
    "start_time": "2024-08-02T00:04:38.868Z"
   },
   {
    "duration": 19,
    "start_time": "2024-08-02T00:05:52.580Z"
   },
   {
    "duration": 11,
    "start_time": "2024-08-02T00:06:16.231Z"
   },
   {
    "duration": 13,
    "start_time": "2024-08-02T00:11:29.953Z"
   },
   {
    "duration": 14,
    "start_time": "2024-08-02T00:12:18.907Z"
   },
   {
    "duration": 12,
    "start_time": "2024-08-02T00:12:34.703Z"
   },
   {
    "duration": 13,
    "start_time": "2024-08-02T00:15:05.039Z"
   },
   {
    "duration": 333,
    "start_time": "2024-08-04T19:00:16.845Z"
   },
   {
    "duration": 1317,
    "start_time": "2024-08-04T19:08:12.140Z"
   },
   {
    "duration": 263,
    "start_time": "2024-08-04T19:08:13.461Z"
   },
   {
    "duration": 17,
    "start_time": "2024-08-04T19:08:13.727Z"
   },
   {
    "duration": 10,
    "start_time": "2024-08-04T19:08:13.749Z"
   },
   {
    "duration": 6,
    "start_time": "2024-08-04T19:08:13.762Z"
   },
   {
    "duration": 8,
    "start_time": "2024-08-04T19:08:13.771Z"
   },
   {
    "duration": 61,
    "start_time": "2024-08-04T19:08:13.783Z"
   },
   {
    "duration": 9,
    "start_time": "2024-08-04T19:08:13.848Z"
   },
   {
    "duration": 8,
    "start_time": "2024-08-04T19:08:13.860Z"
   },
   {
    "duration": 6,
    "start_time": "2024-08-04T19:08:13.874Z"
   },
   {
    "duration": 53,
    "start_time": "2024-08-04T19:08:13.883Z"
   },
   {
    "duration": 19,
    "start_time": "2024-08-04T19:08:13.939Z"
   },
   {
    "duration": 25,
    "start_time": "2024-08-04T19:08:13.961Z"
   },
   {
    "duration": 7,
    "start_time": "2024-08-04T19:08:13.989Z"
   },
   {
    "duration": 60,
    "start_time": "2024-08-04T19:08:14.036Z"
   },
   {
    "duration": 40,
    "start_time": "2024-08-04T19:08:14.099Z"
   },
   {
    "duration": 51,
    "start_time": "2024-08-04T19:08:14.142Z"
   },
   {
    "duration": 48,
    "start_time": "2024-08-04T19:08:14.196Z"
   },
   {
    "duration": 8,
    "start_time": "2024-08-04T19:08:14.247Z"
   },
   {
    "duration": 28,
    "start_time": "2024-08-04T19:08:14.258Z"
   },
   {
    "duration": 46,
    "start_time": "2024-08-04T19:08:14.290Z"
   },
   {
    "duration": 32,
    "start_time": "2024-08-04T19:08:14.339Z"
   },
   {
    "duration": 23,
    "start_time": "2024-08-04T19:08:14.374Z"
   },
   {
    "duration": 36,
    "start_time": "2024-08-04T19:08:14.400Z"
   },
   {
    "duration": 64,
    "start_time": "2024-08-04T19:08:14.439Z"
   },
   {
    "duration": 35,
    "start_time": "2024-08-04T19:08:14.506Z"
   },
   {
    "duration": 40,
    "start_time": "2024-08-04T19:08:14.544Z"
   },
   {
    "duration": 43,
    "start_time": "2024-08-04T19:08:14.593Z"
   },
   {
    "duration": 27,
    "start_time": "2024-08-04T19:08:14.639Z"
   },
   {
    "duration": 20,
    "start_time": "2024-08-04T19:08:14.669Z"
   },
   {
    "duration": 55,
    "start_time": "2024-08-04T19:08:14.692Z"
   },
   {
    "duration": 19,
    "start_time": "2024-08-04T19:08:14.750Z"
   },
   {
    "duration": 28,
    "start_time": "2024-08-04T19:08:14.772Z"
   },
   {
    "duration": 51,
    "start_time": "2024-08-04T19:08:14.803Z"
   },
   {
    "duration": 49,
    "start_time": "2024-08-04T19:08:14.858Z"
   },
   {
    "duration": 393,
    "start_time": "2024-08-04T19:08:14.910Z"
   },
   {
    "duration": 310,
    "start_time": "2024-08-04T19:08:15.306Z"
   },
   {
    "duration": 19,
    "start_time": "2024-08-04T19:08:15.619Z"
   },
   {
    "duration": 232,
    "start_time": "2024-08-04T19:08:15.641Z"
   },
   {
    "duration": 349,
    "start_time": "2024-08-04T19:08:15.876Z"
   },
   {
    "duration": 300,
    "start_time": "2024-08-04T19:08:16.228Z"
   },
   {
    "duration": 18,
    "start_time": "2024-08-04T19:08:16.535Z"
   },
   {
    "duration": 221,
    "start_time": "2024-08-04T19:08:16.556Z"
   },
   {
    "duration": 366,
    "start_time": "2024-08-04T19:08:16.779Z"
   },
   {
    "duration": 301,
    "start_time": "2024-08-04T19:08:17.149Z"
   },
   {
    "duration": 15,
    "start_time": "2024-08-04T19:08:17.453Z"
   },
   {
    "duration": 225,
    "start_time": "2024-08-04T19:08:17.472Z"
   },
   {
    "duration": 434,
    "start_time": "2024-08-04T19:08:17.700Z"
   },
   {
    "duration": 21,
    "start_time": "2024-08-04T19:08:18.137Z"
   },
   {
    "duration": 214,
    "start_time": "2024-08-04T19:08:18.161Z"
   },
   {
    "duration": 14,
    "start_time": "2024-08-04T19:08:18.379Z"
   },
   {
    "duration": 41,
    "start_time": "2024-08-04T19:08:18.396Z"
   }
  ],
  "colab": {
   "provenance": []
  },
  "kernelspec": {
   "display_name": "Python 3 (ipykernel)",
   "language": "python",
   "name": "python3"
  },
  "language_info": {
   "codemirror_mode": {
    "name": "ipython",
    "version": 3
   },
   "file_extension": ".py",
   "mimetype": "text/x-python",
   "name": "python",
   "nbconvert_exporter": "python",
   "pygments_lexer": "ipython3",
   "version": "3.12.4"
  },
  "toc": {
   "base_numbering": 1,
   "nav_menu": {},
   "number_sections": true,
   "sideBar": true,
   "skip_h1_title": false,
   "title_cell": "Table of Contents",
   "title_sidebar": "Contents",
   "toc_cell": false,
   "toc_position": {
    "height": "calc(100% - 180px)",
    "left": "10px",
    "top": "150px",
    "width": "270px"
   },
   "toc_section_display": true,
   "toc_window_display": true
  }
 },
 "nbformat": 4,
 "nbformat_minor": 4
}
