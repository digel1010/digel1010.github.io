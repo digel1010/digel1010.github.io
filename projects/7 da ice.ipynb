{
 "cells": [
  {
   "cell_type": "markdown",
   "metadata": {
    "tags": [
     "e5c1f0c2-db9f-43a0-99b9-4875c52427e8"
    ]
   },
   "source": [
    "# Descripción del proyecto\n",
    "\n",
    "Trabajas para la tienda online Ice que vende videojuegos por todo el mundo. Las reseñas de usuarios y expertos, los géneros, las plataformas (por ejemplo, Xbox o PlayStation) y los datos históricos sobre las ventas de juegos están disponibles en fuentes abiertas. Tienes que identificar patrones que determinen si un juego tiene éxito o no. Esto te permitirá detectar proyectos prometedores y planificar campañas publicitarias.\n",
    "\n",
    "Delante de ti hay datos que se remontan a 2016. Imaginemos que es diciembre de 2016 y estás planeando una campaña para 2017.\n",
    "\n",
    "Lo importante es adquirir experiencia de trabajo con datos. Realmente no importa si estás pronosticando las ventas de 2017 en función de los datos de 2016 o las ventas de 2027 en función de los datos de 2026.\n",
    "\n",
    "El dataset contiene una columna \"rating\" que almacena la clasificación ESRB de cada juego. El Entertainment Software Rating Board (la Junta de clasificación de software de entretenimiento) evalúa el contenido de un juego y asigna una clasificación de edad como Adolescente o Adulto.\n"
   ]
  },
  {
   "cell_type": "markdown",
   "metadata": {},
   "source": [
    "## Introducción\n",
    "\n",
    "En el mundo de los videojuegos, predecir el éxito de un título es una tarea crucial para diseñar estrategias de marketing efectivas y asegurar la satisfacción del cliente. Este proyecto tiene como objetivo utilizar datos históricos y técnicas de análisis para identificar patrones que puedan predecir el éxito de un videojuego en el mercado global.\n",
    "\n",
    "Lo anterior basandonos con un conjunto de datos valioso que abarca desde 2016 y contiene información detallada sobre reseñas de usuarios y expertos, géneros, plataformas (como Xbox o PlayStation) y datos históricos de ventas. \n",
    "\n",
    "La meta principal es identificar patrones y correlaciones que nos permitan determinar qué características influyen en el éxito de un videojuego. Este análisis no solo ayudará a prever las ventas futuras basadas en datos pasados, sino que también proporcionará una base sólida para tomar decisiones estratégicas en marketing y desarrollo de productos."
   ]
  },
  {
   "cell_type": "markdown",
   "metadata": {},
   "source": [
    "### Inicialización"
   ]
  },
  {
   "cell_type": "code",
   "execution_count": 100,
   "metadata": {},
   "outputs": [],
   "source": [
    "# Cargar todas las librerías que creemos vamos a utilizar\n",
    "\n",
    "import pandas as pd\n",
    "import numpy as np\n",
    "from matplotlib import pyplot as plt\n",
    "from scipy import stats as st\n",
    "import seaborn as sns"
   ]
  },
  {
   "cell_type": "markdown",
   "metadata": {},
   "source": [
    "### Cargar datos"
   ]
  },
  {
   "cell_type": "code",
   "execution_count": 101,
   "metadata": {},
   "outputs": [],
   "source": [
    "# Cargamos el archivo de datos en un DataFrame\n",
    "\n",
    "games_df = pd.read_csv('/datasets/games.csv')"
   ]
  },
  {
   "cell_type": "markdown",
   "metadata": {},
   "source": [
    "## Preparación de los datos"
   ]
  },
  {
   "cell_type": "markdown",
   "metadata": {},
   "source": [
    "### Games"
   ]
  },
  {
   "cell_type": "code",
   "execution_count": 102,
   "metadata": {},
   "outputs": [
    {
     "name": "stdout",
     "output_type": "stream",
     "text": [
      "<class 'pandas.core.frame.DataFrame'>\n",
      "RangeIndex: 16715 entries, 0 to 16714\n",
      "Data columns (total 11 columns):\n",
      " #   Column           Non-Null Count  Dtype  \n",
      "---  ------           --------------  -----  \n",
      " 0   Name             16713 non-null  object \n",
      " 1   Platform         16715 non-null  object \n",
      " 2   Year_of_Release  16446 non-null  float64\n",
      " 3   Genre            16713 non-null  object \n",
      " 4   NA_sales         16715 non-null  float64\n",
      " 5   EU_sales         16715 non-null  float64\n",
      " 6   JP_sales         16715 non-null  float64\n",
      " 7   Other_sales      16715 non-null  float64\n",
      " 8   Critic_Score     8137 non-null   float64\n",
      " 9   User_Score       10014 non-null  object \n",
      " 10  Rating           9949 non-null   object \n",
      "dtypes: float64(6), object(5)\n",
      "memory usage: 1.4+ MB\n"
     ]
    }
   ],
   "source": [
    "#mostramos la informacion del dataframe con el metodo info()\n",
    "games_df.info()"
   ]
  },
  {
   "cell_type": "code",
   "execution_count": 103,
   "metadata": {},
   "outputs": [
    {
     "name": "stdout",
     "output_type": "stream",
     "text": [
      "                       Name Platform  Year_of_Release         Genre  NA_sales  \\\n",
      "0                Wii Sports      Wii           2006.0        Sports     41.36   \n",
      "1         Super Mario Bros.      NES           1985.0      Platform     29.08   \n",
      "2            Mario Kart Wii      Wii           2008.0        Racing     15.68   \n",
      "3         Wii Sports Resort      Wii           2009.0        Sports     15.61   \n",
      "4  Pokemon Red/Pokemon Blue       GB           1996.0  Role-Playing     11.27   \n",
      "\n",
      "   EU_sales  JP_sales  Other_sales  Critic_Score User_Score Rating  \n",
      "0     28.96      3.77         8.45          76.0          8      E  \n",
      "1      3.58      6.81         0.77           NaN        NaN    NaN  \n",
      "2     12.76      3.79         3.29          82.0        8.3      E  \n",
      "3     10.93      3.28         2.95          80.0          8      E  \n",
      "4      8.89     10.22         1.00           NaN        NaN    NaN  \n"
     ]
    }
   ],
   "source": [
    "#mostramos las primeras filas el dataframe\n",
    "print(games_df.head())"
   ]
  },
  {
   "cell_type": "code",
   "execution_count": 104,
   "metadata": {},
   "outputs": [],
   "source": [
    "#convertimos los nombres de las columnas a letras minusculas\n",
    "\n",
    "games_df.columns = games_df.columns.str.lower()\n"
   ]
  },
  {
   "cell_type": "code",
   "execution_count": 105,
   "metadata": {},
   "outputs": [
    {
     "name": "stdout",
     "output_type": "stream",
     "text": [
      "<class 'pandas.core.frame.DataFrame'>\n",
      "RangeIndex: 16715 entries, 0 to 16714\n",
      "Data columns (total 11 columns):\n",
      " #   Column           Non-Null Count  Dtype  \n",
      "---  ------           --------------  -----  \n",
      " 0   name             16713 non-null  object \n",
      " 1   platform         16715 non-null  object \n",
      " 2   year_of_release  16446 non-null  Int64  \n",
      " 3   genre            16713 non-null  object \n",
      " 4   na_sales         16715 non-null  float64\n",
      " 5   eu_sales         16715 non-null  float64\n",
      " 6   jp_sales         16715 non-null  float64\n",
      " 7   other_sales      16715 non-null  float64\n",
      " 8   critic_score     8137 non-null   float64\n",
      " 9   user_score       10014 non-null  object \n",
      " 10  rating           9949 non-null   object \n",
      "dtypes: Int64(1), float64(5), object(5)\n",
      "memory usage: 1.4+ MB\n"
     ]
    }
   ],
   "source": [
    "#validamos los tipos de datos y convertimos la columna year_of_release al tipo Int64\n",
    "\n",
    "games_df['year_of_release'] = games_df['year_of_release'].astype('Int64')\n",
    "\n",
    "#validamos que haya cambiado el tipo entero con el metodo info() de nuevo\n",
    "games_df.info()"
   ]
  },
  {
   "cell_type": "markdown",
   "metadata": {},
   "source": [
    "Las columnas se encuentran en el tipo de datos correcto excepto la columna \"year_of_release\",que se encuentra en tipo float y se requiere convertir a entero ya que dicho valor corresponde al año de lanzamiento el cual no puede ser de tipo float. "
   ]
  },
  {
   "cell_type": "markdown",
   "metadata": {},
   "source": [
    "#### Valores duplicados"
   ]
  },
  {
   "cell_type": "code",
   "execution_count": 106,
   "metadata": {},
   "outputs": [
    {
     "name": "stdout",
     "output_type": "stream",
     "text": [
      "0\n"
     ]
    }
   ],
   "source": [
    "#validamos si tenemos valores duplicados con el metodo duplicated()\n",
    "print(games_df.duplicated().sum())"
   ]
  },
  {
   "cell_type": "markdown",
   "metadata": {},
   "source": [
    "#### Valores ausentes"
   ]
  },
  {
   "cell_type": "code",
   "execution_count": 107,
   "metadata": {},
   "outputs": [
    {
     "name": "stdout",
     "output_type": "stream",
     "text": [
      "name                  2\n",
      "platform              0\n",
      "year_of_release     269\n",
      "genre                 2\n",
      "na_sales              0\n",
      "eu_sales              0\n",
      "jp_sales              0\n",
      "other_sales           0\n",
      "critic_score       8578\n",
      "user_score         6701\n",
      "rating             6766\n",
      "dtype: int64\n"
     ]
    }
   ],
   "source": [
    "#validamos si tenemos valores ausentes con el metodo isna()\n",
    "print(games_df.isna().sum())"
   ]
  },
  {
   "cell_type": "code",
   "execution_count": 108,
   "metadata": {},
   "outputs": [
    {
     "name": "stdout",
     "output_type": "stream",
     "text": [
      "0\n",
      "0\n"
     ]
    }
   ],
   "source": [
    "#eliminamos los valores ausentes de las columnas 'name' y 'genre' con el metodo dropna\n",
    "\n",
    "games_df.dropna(subset=['name', 'genre'], inplace= True)\n",
    "\n",
    "#validamos nuevamente que ya no tengamos valore en dichas columnas\n",
    "print(games_df['name'].isna().sum()) \n",
    "print(games_df['genre'].isna().sum()) "
   ]
  },
  {
   "cell_type": "code",
   "execution_count": 109,
   "metadata": {},
   "outputs": [
    {
     "name": "stdout",
     "output_type": "stream",
     "text": [
      "0\n"
     ]
    }
   ],
   "source": [
    "#rellenamos los valores ausentes de las columnas 'year_of_release' con la mediana de los años\n",
    "median_year = games_df['year_of_release'].median()\n",
    "median_year = int(median_year)  # colocamos el valor de la mediana como numero entero\n",
    "\n",
    "games_df['year_of_release'].fillna(median_year, inplace= True)\n",
    "\n",
    "#validamos nuevamente el numero de valores ausentes \n",
    "print(games_df['year_of_release'].isna().sum())"
   ]
  },
  {
   "cell_type": "code",
   "execution_count": 110,
   "metadata": {},
   "outputs": [
    {
     "name": "stdout",
     "output_type": "stream",
     "text": [
      "0\n"
     ]
    }
   ],
   "source": [
    "#rellenamos los valores ausentes de la columna 'critic_score' con la mediana de la critica\n",
    "median_score = games_df['critic_score'].median()\n",
    "\n",
    "games_df['critic_score'].fillna(median_score, inplace= True)\n",
    "\n",
    "#validamos nuevamente el numero de valores ausentes \n",
    "print(games_df['critic_score'].isna().sum())\n"
   ]
  },
  {
   "cell_type": "code",
   "execution_count": 111,
   "metadata": {},
   "outputs": [
    {
     "name": "stdout",
     "output_type": "stream",
     "text": [
      "0\n"
     ]
    }
   ],
   "source": [
    "\n",
    "# Reemplazamos 'TBD' por NaN en la columna 'user_score'\n",
    "games_df['user_score'] = games_df['user_score'].replace('tbd', np.nan)\n",
    "\n",
    "# Reemplazamos otros posibles valores no numéricos con NaN\n",
    "games_df['user_score'] = pd.to_numeric(games_df['user_score'], errors='coerce')\n",
    "\n",
    "#rellenamos los valores ausentes de la columna 'user_score' con la media de la calificacion del usuario\n",
    "mean_user = games_df['user_score'].mean()\n",
    "\n",
    "games_df['user_score'].fillna(mean_user, inplace= True)\n",
    "\n",
    "#validamos nuevamente el numero de valores ausentes \n",
    "print(games_df['user_score'].isna().sum())"
   ]
  },
  {
   "cell_type": "code",
   "execution_count": 112,
   "metadata": {},
   "outputs": [
    {
     "name": "stdout",
     "output_type": "stream",
     "text": [
      "0\n",
      "name               0\n",
      "platform           0\n",
      "year_of_release    0\n",
      "genre              0\n",
      "na_sales           0\n",
      "eu_sales           0\n",
      "jp_sales           0\n",
      "other_sales        0\n",
      "critic_score       0\n",
      "user_score         0\n",
      "rating             0\n",
      "dtype: int64\n"
     ]
    }
   ],
   "source": [
    "#rellenamos los valores ausentes de la columna 'rating' con la palabra 'unknown'\n",
    "\n",
    "games_df['rating'].fillna('unknown', inplace= True)\n",
    "\n",
    "#validamos nuevamente el numero de valores ausentes \n",
    "print(games_df['rating'].isna().sum()) \n",
    "\n",
    "#validamos nuevamente en todas las columnas que no tengamos valores ausentes\n",
    "print(games_df.isna().sum()) "
   ]
  },
  {
   "cell_type": "markdown",
   "metadata": {},
   "source": [
    "se realiza la validacion de los valores ausentes donde se evidencia valores en las columnas: name, genre, year_of_release, critic_score, user_score y rating.\n",
    "evidenciamos que los valores ausentes (2) de la columna name y genre son los mismos, ya que nuestro objetivo del proyecto es identificar patrones para determinar si un juego tiene exito o no, el nombre del juego y el género son fundamentales para cualquier análisis que involucre tendencias y patrones en el mercado de videojuegos. Sin estos valores, el análisis pierde contexto. por lo anterior se procede a eliminar esos valores ausentes ya que son solo 2 valores y sin su nombre o genero podriamos tener un analisis erroneo.\n",
    "\n",
    "evidenciamos que los valores ausentes de la columna year_of_release (269) no son muchos, sin embargo, dichos valores no deberian ser eliminados ya que tiene valores considerables en ventas que son necesarios para un futuro analisis, por lo anterior se procede a rellenar dichos valores con un valor neutro como la mediana.\n",
    "\n",
    "los valores ausentes de la columna critic_score (8578) son bastante considerables por lo que procedimos a rellenar dichos valores con un valor promedio, para este caso la media y mediana eran muy similar sin embargo, la mediana es menos sensible a los valores extremos y puede proporcionar una representación más robusta del puntaje típico, razon por la cual elegimos la mediana.\n",
    "\n",
    "la columna user_score presentaba valores como 'tbd' (por ser determinados) por lo cual al no conocerlos se manejaron como valores ausentes, al ser un valor considerable de valores ausentes, procedimos a rellenarlos con un valor promedio, en este caso igualmente la media y mediana era parecidas pero se tomo la decision de utilizar la mediana que proporciona una estimación central que es menos afectada por valores extremos.\n",
    "\n",
    "los valores ausentes de la columna 'rating' son considerables y no se deberian eliminar, sin embargo, estos valores se pueden deber a una falta de clasificacion ESRB, por lo cual se procedio a rellenar dichos valores con la palabra 'unknown' lo cual indicaria que su clasificacion es desconocida."
   ]
  },
  {
   "cell_type": "code",
   "execution_count": 113,
   "metadata": {},
   "outputs": [
    {
     "data": {
      "text/html": [
       "<div>\n",
       "<style scoped>\n",
       "    .dataframe tbody tr th:only-of-type {\n",
       "        vertical-align: middle;\n",
       "    }\n",
       "\n",
       "    .dataframe tbody tr th {\n",
       "        vertical-align: top;\n",
       "    }\n",
       "\n",
       "    .dataframe thead th {\n",
       "        text-align: right;\n",
       "    }\n",
       "</style>\n",
       "<table border=\"1\" class=\"dataframe\">\n",
       "  <thead>\n",
       "    <tr style=\"text-align: right;\">\n",
       "      <th></th>\n",
       "      <th>name</th>\n",
       "      <th>platform</th>\n",
       "      <th>year_of_release</th>\n",
       "      <th>genre</th>\n",
       "      <th>na_sales</th>\n",
       "      <th>eu_sales</th>\n",
       "      <th>jp_sales</th>\n",
       "      <th>other_sales</th>\n",
       "      <th>critic_score</th>\n",
       "      <th>user_score</th>\n",
       "      <th>rating</th>\n",
       "      <th>total_sales</th>\n",
       "    </tr>\n",
       "  </thead>\n",
       "  <tbody>\n",
       "    <tr>\n",
       "      <th>0</th>\n",
       "      <td>Wii Sports</td>\n",
       "      <td>Wii</td>\n",
       "      <td>2006</td>\n",
       "      <td>Sports</td>\n",
       "      <td>41.36</td>\n",
       "      <td>28.96</td>\n",
       "      <td>3.77</td>\n",
       "      <td>8.45</td>\n",
       "      <td>76.0</td>\n",
       "      <td>8.000000</td>\n",
       "      <td>E</td>\n",
       "      <td>82.54</td>\n",
       "    </tr>\n",
       "    <tr>\n",
       "      <th>1</th>\n",
       "      <td>Super Mario Bros.</td>\n",
       "      <td>NES</td>\n",
       "      <td>1985</td>\n",
       "      <td>Platform</td>\n",
       "      <td>29.08</td>\n",
       "      <td>3.58</td>\n",
       "      <td>6.81</td>\n",
       "      <td>0.77</td>\n",
       "      <td>71.0</td>\n",
       "      <td>7.125046</td>\n",
       "      <td>unknown</td>\n",
       "      <td>40.24</td>\n",
       "    </tr>\n",
       "    <tr>\n",
       "      <th>2</th>\n",
       "      <td>Mario Kart Wii</td>\n",
       "      <td>Wii</td>\n",
       "      <td>2008</td>\n",
       "      <td>Racing</td>\n",
       "      <td>15.68</td>\n",
       "      <td>12.76</td>\n",
       "      <td>3.79</td>\n",
       "      <td>3.29</td>\n",
       "      <td>82.0</td>\n",
       "      <td>8.300000</td>\n",
       "      <td>E</td>\n",
       "      <td>35.52</td>\n",
       "    </tr>\n",
       "    <tr>\n",
       "      <th>3</th>\n",
       "      <td>Wii Sports Resort</td>\n",
       "      <td>Wii</td>\n",
       "      <td>2009</td>\n",
       "      <td>Sports</td>\n",
       "      <td>15.61</td>\n",
       "      <td>10.93</td>\n",
       "      <td>3.28</td>\n",
       "      <td>2.95</td>\n",
       "      <td>80.0</td>\n",
       "      <td>8.000000</td>\n",
       "      <td>E</td>\n",
       "      <td>32.77</td>\n",
       "    </tr>\n",
       "    <tr>\n",
       "      <th>4</th>\n",
       "      <td>Pokemon Red/Pokemon Blue</td>\n",
       "      <td>GB</td>\n",
       "      <td>1996</td>\n",
       "      <td>Role-Playing</td>\n",
       "      <td>11.27</td>\n",
       "      <td>8.89</td>\n",
       "      <td>10.22</td>\n",
       "      <td>1.00</td>\n",
       "      <td>71.0</td>\n",
       "      <td>7.125046</td>\n",
       "      <td>unknown</td>\n",
       "      <td>31.38</td>\n",
       "    </tr>\n",
       "    <tr>\n",
       "      <th>...</th>\n",
       "      <td>...</td>\n",
       "      <td>...</td>\n",
       "      <td>...</td>\n",
       "      <td>...</td>\n",
       "      <td>...</td>\n",
       "      <td>...</td>\n",
       "      <td>...</td>\n",
       "      <td>...</td>\n",
       "      <td>...</td>\n",
       "      <td>...</td>\n",
       "      <td>...</td>\n",
       "      <td>...</td>\n",
       "    </tr>\n",
       "    <tr>\n",
       "      <th>16710</th>\n",
       "      <td>Samurai Warriors: Sanada Maru</td>\n",
       "      <td>PS3</td>\n",
       "      <td>2016</td>\n",
       "      <td>Action</td>\n",
       "      <td>0.00</td>\n",
       "      <td>0.00</td>\n",
       "      <td>0.01</td>\n",
       "      <td>0.00</td>\n",
       "      <td>71.0</td>\n",
       "      <td>7.125046</td>\n",
       "      <td>unknown</td>\n",
       "      <td>0.01</td>\n",
       "    </tr>\n",
       "    <tr>\n",
       "      <th>16711</th>\n",
       "      <td>LMA Manager 2007</td>\n",
       "      <td>X360</td>\n",
       "      <td>2006</td>\n",
       "      <td>Sports</td>\n",
       "      <td>0.00</td>\n",
       "      <td>0.01</td>\n",
       "      <td>0.00</td>\n",
       "      <td>0.00</td>\n",
       "      <td>71.0</td>\n",
       "      <td>7.125046</td>\n",
       "      <td>unknown</td>\n",
       "      <td>0.01</td>\n",
       "    </tr>\n",
       "    <tr>\n",
       "      <th>16712</th>\n",
       "      <td>Haitaka no Psychedelica</td>\n",
       "      <td>PSV</td>\n",
       "      <td>2016</td>\n",
       "      <td>Adventure</td>\n",
       "      <td>0.00</td>\n",
       "      <td>0.00</td>\n",
       "      <td>0.01</td>\n",
       "      <td>0.00</td>\n",
       "      <td>71.0</td>\n",
       "      <td>7.125046</td>\n",
       "      <td>unknown</td>\n",
       "      <td>0.01</td>\n",
       "    </tr>\n",
       "    <tr>\n",
       "      <th>16713</th>\n",
       "      <td>Spirits &amp; Spells</td>\n",
       "      <td>GBA</td>\n",
       "      <td>2003</td>\n",
       "      <td>Platform</td>\n",
       "      <td>0.01</td>\n",
       "      <td>0.00</td>\n",
       "      <td>0.00</td>\n",
       "      <td>0.00</td>\n",
       "      <td>71.0</td>\n",
       "      <td>7.125046</td>\n",
       "      <td>unknown</td>\n",
       "      <td>0.01</td>\n",
       "    </tr>\n",
       "    <tr>\n",
       "      <th>16714</th>\n",
       "      <td>Winning Post 8 2016</td>\n",
       "      <td>PSV</td>\n",
       "      <td>2016</td>\n",
       "      <td>Simulation</td>\n",
       "      <td>0.00</td>\n",
       "      <td>0.00</td>\n",
       "      <td>0.01</td>\n",
       "      <td>0.00</td>\n",
       "      <td>71.0</td>\n",
       "      <td>7.125046</td>\n",
       "      <td>unknown</td>\n",
       "      <td>0.01</td>\n",
       "    </tr>\n",
       "  </tbody>\n",
       "</table>\n",
       "<p>16713 rows × 12 columns</p>\n",
       "</div>"
      ],
      "text/plain": [
       "                                name platform  year_of_release         genre  \\\n",
       "0                         Wii Sports      Wii             2006        Sports   \n",
       "1                  Super Mario Bros.      NES             1985      Platform   \n",
       "2                     Mario Kart Wii      Wii             2008        Racing   \n",
       "3                  Wii Sports Resort      Wii             2009        Sports   \n",
       "4           Pokemon Red/Pokemon Blue       GB             1996  Role-Playing   \n",
       "...                              ...      ...              ...           ...   \n",
       "16710  Samurai Warriors: Sanada Maru      PS3             2016        Action   \n",
       "16711               LMA Manager 2007     X360             2006        Sports   \n",
       "16712        Haitaka no Psychedelica      PSV             2016     Adventure   \n",
       "16713               Spirits & Spells      GBA             2003      Platform   \n",
       "16714            Winning Post 8 2016      PSV             2016    Simulation   \n",
       "\n",
       "       na_sales  eu_sales  jp_sales  other_sales  critic_score  user_score  \\\n",
       "0         41.36     28.96      3.77         8.45          76.0    8.000000   \n",
       "1         29.08      3.58      6.81         0.77          71.0    7.125046   \n",
       "2         15.68     12.76      3.79         3.29          82.0    8.300000   \n",
       "3         15.61     10.93      3.28         2.95          80.0    8.000000   \n",
       "4         11.27      8.89     10.22         1.00          71.0    7.125046   \n",
       "...         ...       ...       ...          ...           ...         ...   \n",
       "16710      0.00      0.00      0.01         0.00          71.0    7.125046   \n",
       "16711      0.00      0.01      0.00         0.00          71.0    7.125046   \n",
       "16712      0.00      0.00      0.01         0.00          71.0    7.125046   \n",
       "16713      0.01      0.00      0.00         0.00          71.0    7.125046   \n",
       "16714      0.00      0.00      0.01         0.00          71.0    7.125046   \n",
       "\n",
       "        rating  total_sales  \n",
       "0            E        82.54  \n",
       "1      unknown        40.24  \n",
       "2            E        35.52  \n",
       "3            E        32.77  \n",
       "4      unknown        31.38  \n",
       "...        ...          ...  \n",
       "16710  unknown         0.01  \n",
       "16711  unknown         0.01  \n",
       "16712  unknown         0.01  \n",
       "16713  unknown         0.01  \n",
       "16714  unknown         0.01  \n",
       "\n",
       "[16713 rows x 12 columns]"
      ]
     },
     "execution_count": 113,
     "metadata": {},
     "output_type": "execute_result"
    }
   ],
   "source": [
    "# agregamos una nueva columna 'total_sales' a nuestra tabla para tener el valor de las ventas totales de cada videojuego.\n",
    "\n",
    "games_df['total_sales'] = games_df['na_sales'] + games_df['eu_sales'] + games_df['jp_sales'] + games_df['other_sales']\n",
    "\n",
    "#validamos que la nueva columna se haya creado correctamente\n",
    "games_df"
   ]
  },
  {
   "cell_type": "markdown",
   "metadata": {},
   "source": [
    "## Analisis de los datos"
   ]
  },
  {
   "cell_type": "markdown",
   "metadata": {},
   "source": [
    "### Lanzamiento de juegos por año"
   ]
  },
  {
   "cell_type": "code",
   "execution_count": 114,
   "metadata": {},
   "outputs": [
    {
     "name": "stdout",
     "output_type": "stream",
     "text": [
      "1980       9\n",
      "1981      46\n",
      "1982      36\n",
      "1983      17\n",
      "1984      14\n",
      "1985      14\n",
      "1986      21\n",
      "1987      16\n",
      "1988      15\n",
      "1989      17\n",
      "1990      16\n",
      "1991      41\n",
      "1992      43\n",
      "1993      60\n",
      "1994     121\n",
      "1995     219\n",
      "1996     263\n",
      "1997     289\n",
      "1998     379\n",
      "1999     338\n",
      "2000     350\n",
      "2001     482\n",
      "2002     829\n",
      "2003     775\n",
      "2004     762\n",
      "2005     939\n",
      "2006    1006\n",
      "2007    1466\n",
      "2008    1427\n",
      "2009    1426\n",
      "2010    1255\n",
      "2011    1136\n",
      "2012     653\n",
      "2013     544\n",
      "2014     581\n",
      "2015     606\n",
      "2016     502\n",
      "Name: year_of_release, dtype: Int64\n"
     ]
    },
    {
     "data": {
      "image/png": "[encoded data removed]",
      "text/plain": [
       "<Figure size 1000x600 with 1 Axes>"
      ]
     },
     "metadata": {},
     "output_type": "display_data"
    }
   ],
   "source": [
    "# Contar el número de juegos lanzados por año\n",
    "games_per_year = games_df['year_of_release'].value_counts().sort_index()\n",
    "print(games_per_year)\n",
    "# Visualizar la distribución con el metodo plot\n",
    "games_per_year.plot(kind='bar', figsize=(10, 6))\n",
    "plt.title('Número de Juegos Lanzados por Año')\n",
    "plt.xlabel('Año de Lanzamiento')\n",
    "plt.ylabel('Número de Juegos')\n",
    "plt.show()\n"
   ]
  },
  {
   "cell_type": "markdown",
   "metadata": {},
   "source": [
    "### Ventas por plataforma"
   ]
  },
  {
   "cell_type": "code",
   "execution_count": 115,
   "metadata": {},
   "outputs": [
    {
     "name": "stdout",
     "output_type": "stream",
     "text": [
      "platform\n",
      "PS2     1255.77\n",
      "X360     971.42\n",
      "PS3      939.65\n",
      "Wii      907.51\n",
      "DS       806.12\n",
      "PS       730.86\n",
      "GBA      317.85\n",
      "PS4      314.14\n",
      "PSP      294.05\n",
      "PC       259.52\n",
      "3DS      259.00\n",
      "XB       257.74\n",
      "GB       255.46\n",
      "NES      251.05\n",
      "N64      218.68\n",
      "SNES     200.04\n",
      "GC       198.93\n",
      "XOne     159.32\n",
      "2600      96.98\n",
      "WiiU      82.19\n",
      "PSV       54.07\n",
      "SAT       33.59\n",
      "GEN       28.35\n",
      "DC        15.95\n",
      "SCD        1.86\n",
      "NG         1.44\n",
      "WS         1.42\n",
      "TG16       0.16\n",
      "3DO        0.10\n",
      "GG         0.04\n",
      "PCFX       0.03\n",
      "Name: total_sales, dtype: float64\n"
     ]
    }
   ],
   "source": [
    "# Calculamos las ventas totales por plataforma usamos el metodo groupby\n",
    "platform_sales = games_df.groupby('platform')['total_sales'].sum().sort_values(ascending=False)\n",
    "\n",
    "print(platform_sales)"
   ]
  },
  {
   "cell_type": "code",
   "execution_count": 116,
   "metadata": {},
   "outputs": [
    {
     "data": {
      "image/png": "[encoded data removed]",
      "text/plain": [
       "<Figure size 640x480 with 1 Axes>"
      ]
     },
     "metadata": {},
     "output_type": "display_data"
    }
   ],
   "source": [
    "# Seleccionamos las 10 principales plataformas con mayores ventas\n",
    "top_platforms = platform_sales.head(10).index\n",
    "\n",
    "# Filtramos el DataFrame para estas plataformas con el metodo isin\n",
    "top_platforms_sales = games_df[games_df['platform'].isin(top_platforms)]\n",
    "\n",
    "# Creamos un gráfico de ventas por plataforma a lo largo de los años\n",
    "for platform in top_platforms:\n",
    "    platform_data = top_platforms_sales[top_platforms_sales['platform'] == platform]\n",
    "    platform_sales_per_year = platform_data.groupby('year_of_release')['total_sales'].sum()\n",
    "    plt.plot(platform_sales_per_year.index, platform_sales_per_year, label=platform)\n",
    "\n",
    "plt.title('Distribución de Ventas por Plataforma a lo Largo de los Años')\n",
    "plt.xlabel('Año de Lanzamiento')\n",
    "plt.ylabel('Ventas Totales (millones USD)')\n",
    "plt.legend(title='Plataforma')\n",
    "plt.show()\n"
   ]
  },
  {
   "cell_type": "markdown",
   "metadata": {},
   "source": [
    "vemos que PS4 apareció alrededor de 2013 y comenzó a ganar popularidad rápidamente, X360 Surgió alrededor de 2005 y Wii ganó popularidad rápidamente alrededor de 2006-2007.\n",
    "\n",
    "en PS2 su popularidad comenzó alrededor de 2000 y comenzó a disminuir alrededor de 2006, llegando a cero en ventas alrededor de 2012. Tardó unos 12 años desde su aparición hasta su desaparición. en GBA fue popular desde 2000, pero desapareció alrededor de 2007, tardando aproximadamente 7 años y PS fue popular en los años 90 pero desapareció hacia principios de los 2000, aproximadamente después de 10 años.\n",
    "\n",
    "Las nuevas plataformas suelen aparecer y alcanzar su popularidad en 2 a 3 años después de su lanzamiento mientras que las plataformas antiguas suelen tardar entre 7 y 12 años en desaparecer completamente después de haber alcanzado su popularidad máxima."
   ]
  },
  {
   "cell_type": "markdown",
   "metadata": {},
   "source": [
    "### Período de Datos Relevante"
   ]
  },
  {
   "cell_type": "code",
   "execution_count": 117,
   "metadata": {},
   "outputs": [],
   "source": [
    "# filtramos el dataframe para año de lanzamiento mayor o igual a 2010\n",
    "relevant_years = games_df[games_df['year_of_release'] >= 2010]\n"
   ]
  },
  {
   "cell_type": "markdown",
   "metadata": {},
   "source": [
    "se elije el año 2010 ya que apartir de este año vemos la desaparicion de plataformas anteriores teniendo una declinación significativa en ventas después de 2010. adicionalmente cerca a este año empiezan a aparecer nuevas plataformas que seran claves para el mercado de videojuegos en los años posteriores y representan una parte importante del mercado que evaluaremos(diciembre de 2016)."
   ]
  },
  {
   "cell_type": "markdown",
   "metadata": {},
   "source": [
    "### Análisis de las Principales Plataformas"
   ]
  },
  {
   "cell_type": "code",
   "execution_count": 118,
   "metadata": {},
   "outputs": [
    {
     "name": "stdout",
     "output_type": "stream",
     "text": [
      "platform\n",
      "PS3     587.74\n",
      "X360    550.41\n",
      "PS4     314.14\n",
      "3DS     257.81\n",
      "Wii     222.97\n",
      "XOne    159.32\n",
      "DS      123.75\n",
      "PC      121.96\n",
      "WiiU     82.19\n",
      "PSP      64.05\n",
      "PSV      53.81\n",
      "PS2       6.09\n",
      "Name: total_sales, dtype: float64\n"
     ]
    },
    {
     "data": {
      "image/png": "[encoded data removed]",
      "text/plain": [
       "<Figure size 1000x600 with 1 Axes>"
      ]
     },
     "metadata": {},
     "output_type": "display_data"
    }
   ],
   "source": [
    "# Calculamos las ventas totales por plataforma usamos el metodo groupby\n",
    "\n",
    "global_sales_per_platform = relevant_years.groupby('platform')['total_sales'].sum().sort_values(ascending=False)\n",
    "\n",
    "print(global_sales_per_platform)\n",
    "\n",
    "# Visualizamos la distribución anterior\n",
    "global_sales_per_platform.plot(kind='bar', figsize=(10, 6))\n",
    "plt.title('Ventas Globales por Plataforma')\n",
    "plt.xlabel('Plataforma')\n",
    "plt.ylabel('Ventas Totales (millones USD)')\n",
    "plt.show()\n"
   ]
  },
  {
   "cell_type": "markdown",
   "metadata": {},
   "source": [
    "### Diagrama de Caja de Ventas por Plataforma\n"
   ]
  },
  {
   "cell_type": "code",
   "execution_count": 119,
   "metadata": {},
   "outputs": [
    {
     "data": {
      "image/png": "[encoded data removed]",
      "text/plain": [
       "<Figure size 1000x600 with 1 Axes>"
      ]
     },
     "metadata": {},
     "output_type": "display_data"
    }
   ],
   "source": [
    "# Creamos un diagrama de caja para las ventas por plataforma con el metodo sns.boxplot\n",
    "\n",
    "plt.figure(figsize=(10, 6))\n",
    "sns.boxplot(x='platform', y='total_sales', data=relevant_years)\n",
    "plt.title('Diagrama de Caja de Ventas Globales por Plataforma')\n",
    "plt.xlabel('Plataforma')\n",
    "plt.ylabel('Ventas Totales (millones USD)')\n",
    "plt.show()\n"
   ]
  },
  {
   "cell_type": "markdown",
   "metadata": {},
   "source": [
    "la variacion en las ventas es diferente en cada plataforma. X360 y PS3 muestran una gran dispersion de sus ventas, lo que indicaria que hay juegos con ventas muy altas pero tambien juegos con ventas muy bajas. adicionalmente estas plataformas presentan muchos mas valores atipicos lo que indica que algunos juegos fueron muy exitosos.\n",
    "\n",
    "las plataformas PC y 3DS muestran ventas promedio más bajas. En el caso de PC, esto puede deberse a que tiene una amplia variedad del mercado de juegos de PC.\n",
    "\n",
    "las plataformas PS4 y XOne tienen una distribución de ventas más reciente y con menor dispersión comparada con las plataformas anteriores, pero muestran ventas consistentes con algunos valores atipicos significativos, lo que podria sugerir que estan en fase de crecimiento, tienen ventas uniformes y apesar del poco tiempo tienen potencial de generar en el futuro juegos con ventas extremadamente altas."
   ]
  },
  {
   "cell_type": "markdown",
   "metadata": {},
   "source": [
    "### Correlación entre Reseñas y Ventas"
   ]
  },
  {
   "cell_type": "code",
   "execution_count": 120,
   "metadata": {},
   "outputs": [
    {
     "data": {
      "image/png": "[encoded data removed]",
      "text/plain": [
       "<Figure size 1000x600 with 1 Axes>"
      ]
     },
     "metadata": {},
     "output_type": "display_data"
    },
    {
     "data": {
      "image/png": "[encoded data removed]",
      "text/plain": [
       "<Figure size 1000x600 with 1 Axes>"
      ]
     },
     "metadata": {},
     "output_type": "display_data"
    },
    {
     "name": "stdout",
     "output_type": "stream",
     "text": [
      "Correlación entre Critic Score y Ventas para PS4: 0.3387064530024634\n",
      "Correlación entre User Score y Ventas PS4: -0.04539086100332412\n"
     ]
    }
   ],
   "source": [
    "\n",
    "# Filtramos los datos para la plataforma PS4\n",
    "ps4_data = relevant_years[relevant_years['platform'] == 'PS4']\n",
    "\n",
    "# Crear gráfico de dispersión para critic_score\n",
    "plt.figure(figsize=(10, 6))\n",
    "sns.scatterplot(x='critic_score', y='total_sales', data=ps4_data, label='Critic Score')\n",
    "plt.title('Correlación entre Reseñas por la critica y Ventas para PS4')\n",
    "plt.xlabel('Puntaje')\n",
    "plt.ylabel('Ventas Totales (millones USD)')\n",
    "plt.legend()\n",
    "plt.show()\n",
    "\n",
    "# Crear gráfico de dispersión para user_score\n",
    "plt.figure(figsize=(10, 6))\n",
    "sns.scatterplot(x='user_score', y='total_sales', data=ps4_data, label='User Score', color= 'orange')\n",
    "plt.title('Correlación entre Reseñas por los usuarios y Ventas para PS4')\n",
    "plt.xlabel('Puntaje')\n",
    "plt.ylabel('Ventas Totales (millones USD)')\n",
    "plt.legend()\n",
    "plt.show()\n",
    "\n",
    "# Calculamos la correlación\n",
    "critic_corr = ps4_data['critic_score'].corr(ps4_data['total_sales'])\n",
    "user_corr = ps4_data['user_score'].corr(ps4_data['total_sales'])\n",
    "\n",
    "print(f\"Correlación entre Critic Score y Ventas para PS4: {critic_corr}\")\n",
    "print(f\"Correlación entre User Score y Ventas PS4: {user_corr}\")\n"
   ]
  },
  {
   "cell_type": "markdown",
   "metadata": {},
   "source": [
    "De acuerdo a lo anterior podemos decir que hay una correlación positiva moderada entre las puntuaciones de los críticos y las ventas. Esto sugiere que, en general, los juegos con mejores reseñas de críticos tienden a vender más, aunque la relación no es extremadamente fuerte. esto podria indicar que no es el unico aspecto que tienen en cuenta al momento de comprar un juego, podrian tener en cuenta otras cosas como el nombre, la marca, etc.\n",
    "\n",
    "de acuerdo a las puntuaciones de los usuarios existe una correlación negativa muy débil entre las puntuaciones de los usuarios y las ventas. El valor es muy cercano a cero, lo que indica que no hay una relación significativa entre las opiniones de los usuarios y las ventas de los juegos. De hecho, esta ligera correlación negativa podría sugerir que, en algunos casos, mejores puntuaciones de los usuarios están ligeramente asociadas con menores ventas."
   ]
  },
  {
   "cell_type": "code",
   "execution_count": 121,
   "metadata": {},
   "outputs": [
    {
     "data": {
      "image/png": "[encoded data removed]",
      "text/plain": [
       "<Figure size 1000x600 with 1 Axes>"
      ]
     },
     "metadata": {},
     "output_type": "display_data"
    },
    {
     "data": {
      "image/png": "[encoded data removed]",
      "text/plain": [
       "<Figure size 1000x600 with 1 Axes>"
      ]
     },
     "metadata": {},
     "output_type": "display_data"
    },
    {
     "name": "stdout",
     "output_type": "stream",
     "text": [
      "Correlación entre Critic Score y Ventas para XOne: 0.3604509779444023\n",
      "Correlación entre User Score y Ventas para XOne: -0.08957370460604373\n"
     ]
    }
   ],
   "source": [
    "# realizamos la misma validacion para otras plataformas como Xone\n",
    "\n",
    "# Filtramos los datos para la plataforma Xone\n",
    "xone_data = relevant_years[relevant_years['platform'] == 'XOne']\n",
    "\n",
    "# Crear gráfico de dispersión para critic_score\n",
    "plt.figure(figsize=(10, 6))\n",
    "sns.scatterplot(x='critic_score', y='total_sales', data=xone_data, label='Critic Score')\n",
    "plt.title('Correlación entre Reseñas por la critica y Ventas para XOne')\n",
    "plt.xlabel('Puntaje')\n",
    "plt.ylabel('Ventas Totales (millones USD)')\n",
    "plt.legend()\n",
    "plt.show()\n",
    "\n",
    "# Crear gráfico de dispersión para user_score\n",
    "plt.figure(figsize=(10, 6))\n",
    "sns.scatterplot(x='user_score', y='total_sales', data=xone_data, label='User Score', color= 'orange')\n",
    "plt.title('Correlación entre Reseñas por los usuarios y Ventas para XOne')\n",
    "plt.xlabel('Puntaje')\n",
    "plt.ylabel('Ventas Totales (millones USD)')\n",
    "plt.legend()\n",
    "plt.show()\n",
    "\n",
    "# Calculamos la correlación\n",
    "critic_corr = xone_data['critic_score'].corr(xone_data['total_sales'])\n",
    "user_corr = xone_data['user_score'].corr(xone_data['total_sales'])\n",
    "\n",
    "print(f\"Correlación entre Critic Score y Ventas para XOne: {critic_corr}\")\n",
    "print(f\"Correlación entre User Score y Ventas para XOne: {user_corr}\")\n"
   ]
  },
  {
   "cell_type": "code",
   "execution_count": 122,
   "metadata": {},
   "outputs": [
    {
     "data": {
      "image/png": "[encoded data removed]",
      "text/plain": [
       "<Figure size 1000x600 with 1 Axes>"
      ]
     },
     "metadata": {},
     "output_type": "display_data"
    },
    {
     "data": {
      "image/png": "[encoded data removed]",
      "text/plain": [
       "<Figure size 1000x600 with 1 Axes>"
      ]
     },
     "metadata": {},
     "output_type": "display_data"
    },
    {
     "name": "stdout",
     "output_type": "stream",
     "text": [
      "Correlación entre Critic Score y Ventas para X360: 0.3004872342568924\n",
      "Correlación entre User Score y Ventas para X360: 0.019526313551675865\n"
     ]
    }
   ],
   "source": [
    "# realizamos la misma validacion para otras plataformas como X360\n",
    "\n",
    "# Filtramos los datos para la plataforma X360\n",
    "x360_data = relevant_years[relevant_years['platform'] == 'X360']\n",
    "\n",
    "# Crear gráfico de dispersión para critic_score\n",
    "plt.figure(figsize=(10, 6))\n",
    "sns.scatterplot(x='critic_score', y='total_sales', data=x360_data, label='Critic Score')\n",
    "plt.title('Correlación entre Reseñas por la critica y Ventas para X360')\n",
    "plt.xlabel('Puntaje')\n",
    "plt.ylabel('Ventas Totales (millones USD)')\n",
    "plt.legend()\n",
    "plt.show()\n",
    "\n",
    "# Crear gráfico de dispersión para user_score\n",
    "plt.figure(figsize=(10, 6))\n",
    "sns.scatterplot(x='user_score', y='total_sales', data=x360_data, label='User Score', color= 'orange')\n",
    "plt.title('Correlación entre Reseñas por los usuarios y Ventas para X360')\n",
    "plt.xlabel('Puntaje')\n",
    "plt.ylabel('Ventas Totales (millones USD)')\n",
    "plt.legend()\n",
    "plt.show()\n",
    "\n",
    "# Calculamos la correlación\n",
    "critic_corr = x360_data['critic_score'].corr(x360_data['total_sales'])\n",
    "user_corr = x360_data['user_score'].corr(x360_data['total_sales'])\n",
    "\n",
    "print(f\"Correlación entre Critic Score y Ventas para X360: {critic_corr}\")\n",
    "print(f\"Correlación entre User Score y Ventas para X360: {user_corr}\")\n"
   ]
  },
  {
   "cell_type": "markdown",
   "metadata": {},
   "source": [
    "De acuerdo a las validaciones en las plataformas XOne y X360 vemos que ambas tienen un comportamiento muy similar a la plataforma PS4 donde hay una correlacion positiva moderada entre las puntuaciones de los críticos y las ventas. Igualmente para las puntuaciones de los usuarios existe una correlación negativa (negativa para XOne y positiva para X360) muy débil  muy cercanas a cero entre las puntuaciones de los usuarios y las ventas. lo que nuevamente podria indicar que no es el unico aspecto que tienen en cuenta al momento de comprar un juego, podrian tener en cuenta otras cosas como el nombre, la marca, etc."
   ]
  },
  {
   "cell_type": "markdown",
   "metadata": {},
   "source": [
    "###  Distribución de los juegos por Género"
   ]
  },
  {
   "cell_type": "code",
   "execution_count": 123,
   "metadata": {},
   "outputs": [
    {
     "name": "stdout",
     "output_type": "stream",
     "text": [
      "genre\n",
      "Action          673.09\n",
      "Shooter         479.74\n",
      "Sports          328.39\n",
      "Role-Playing    315.28\n",
      "Misc            234.56\n",
      "Racing          122.68\n",
      "Platform        119.72\n",
      "Fighting         81.59\n",
      "Simulation       71.75\n",
      "Adventure        61.00\n",
      "Strategy         35.84\n",
      "Puzzle           20.60\n",
      "Name: total_sales, dtype: float64\n"
     ]
    },
    {
     "data": {
      "image/png": "[encoded data removed]",
      "text/plain": [
       "<Figure size 1000x600 with 1 Axes>"
      ]
     },
     "metadata": {},
     "output_type": "display_data"
    }
   ],
   "source": [
    "# agrupamos las ventas globales por género\n",
    "genre_sales = relevant_years.groupby('genre')['total_sales'].sum().sort_values(ascending=False)\n",
    "print(genre_sales)\n",
    "\n",
    "# Visualizamos la distribución\n",
    "genre_sales.plot(kind='bar', figsize=(10, 6))\n",
    "plt.title('Ventas Globales por Género')\n",
    "plt.xlabel('Género')\n",
    "plt.ylabel('Ventas Totales (millones USD)')\n",
    "plt.show()"
   ]
  },
  {
   "cell_type": "markdown",
   "metadata": {},
   "source": [
    "De acuerdo a lo anterior podemos evidenciar que los generos mas rentables son Action, Shooter y Sports que tienen ventas por encima de los 320 millones(USD) siendo Action el primero por lejos con ventas casi alrededor de los 700 millones. lo que nos da a entender que independientemente de la plataforma los usuarios siempre buscan un genero atractivo y popular.\n",
    "\n",
    "adicionalmente vemos que los generos con menores ventas son Puzzle, Strategy y Adventure con ventas inferiores a los 61 millones, siendo puzzle el menor con 20.6 millones en ventas. lo que nos indicaria que tienen un publico mas especifico.\n",
    "\n",
    "en general vemos que el mercado de videojuegos esta dominado por los juegos populares pero tambien hay varios generos que si bien no tienen las ventas de los populares, tienen ventas muy importantes para un publico diferente."
   ]
  },
  {
   "cell_type": "markdown",
   "metadata": {},
   "source": [
    "## Análisis de los juegos por región"
   ]
  },
  {
   "cell_type": "markdown",
   "metadata": {},
   "source": [
    "### Plataformas principales"
   ]
  },
  {
   "cell_type": "code",
   "execution_count": 124,
   "metadata": {},
   "outputs": [
    {
     "name": "stdout",
     "output_type": "stream",
     "text": [
      "Top 5 plataformas en na_sales:\n",
      "platform\n",
      "X360    334.18\n",
      "PS3     229.25\n",
      "Wii     121.20\n",
      "PS4     108.74\n",
      "XOne     93.12\n",
      "Name: na_sales, dtype: float64\n",
      "\n",
      "\n",
      "Top 5 plataformas en eu_sales:\n",
      "platform\n",
      "PS3     213.60\n",
      "X360    163.41\n",
      "PS4     141.09\n",
      "PC       68.82\n",
      "Wii      65.91\n",
      "Name: eu_sales, dtype: float64\n",
      "\n",
      "\n",
      "Top 5 plataformas en jp_sales:\n",
      "platform\n",
      "3DS    100.62\n",
      "PS3     59.26\n",
      "PSP     42.20\n",
      "DS      27.90\n",
      "PSV     21.84\n",
      "Name: jp_sales, dtype: float64\n",
      "\n",
      "\n"
     ]
    }
   ],
   "source": [
    "# Filtramos las columnas relevantes para cada región\n",
    "regions = ['na_sales', 'eu_sales', 'jp_sales']\n",
    "\n",
    "# Determinamos las cinco plataformas principales en cada región\n",
    "top_platforms_per_region = {}\n",
    "for region in regions:\n",
    "    top_platforms_per_region[region] = (\n",
    "        relevant_years.groupby('platform')[region]\n",
    "        .sum()\n",
    "        .sort_values(ascending=False)\n",
    "        .head(5)\n",
    "    )\n",
    "    print(f'Top 5 plataformas en {region}:')\n",
    "    print(top_platforms_per_region[region])\n",
    "    print('\\n')\n"
   ]
  },
  {
   "cell_type": "markdown",
   "metadata": {},
   "source": [
    "Evidenciamos que en Norteamerica X360 lidera las ventas con 334.18 millones(USD), seguido de PS3 con 229.25 millones.Estas dos plataformas dominan claramente el mercado en esta región.Wii y PS4 también tienen una gran presencia, pero con un mercado mucho menor en comparación con X360 y PS3. XOne cierra el top 5 con un valor de ventas muy considerable.\n",
    "\n",
    "En Europa PS3 es la plataforma líder con 213.60 millones(USD), pero X360 le sigue de cerca con 163.41 millones, mostrando que ambas plataformas tienen un mercado competitivo en esta región.\n",
    "PS4 ocupa un lugar importante, lo que indica un crecimiento continuo en la popularidad de la plataforma PlayStation en Europa.\n",
    "PC aparece en el top 5 de Europa, lo que indica una mayor popularidad del gaming en PC en esta región en comparación con NA.\n",
    "Wii también está presente, pero con ventas menores.\n",
    "\n",
    "En Japón 3DS es la plataforma dominante, con 100.62 millones(USD). PS3 y PSP son las siguientes en la lista, pero con cifras mucho menores en comparación con 3DS. DS aún tiene presencia en el mercado japonés, a pesar de ser una plataforma antigua.\n",
    "\n",
    "En general Norteamerica muestra una fuerte preferencia por las plataformas X360/XOne, especialmente con el éxito de X360, mientras que en Europa las consolas PlayStation son las más dominantes, con un mercado de PC también relevante.\n",
    "En Japón, las consolas portátiles dominan, con 3DS a la cabeza, reflejando una preferencia cultural por el gaming portátil.\n"
   ]
  },
  {
   "cell_type": "markdown",
   "metadata": {},
   "source": [
    "### Géneros principales"
   ]
  },
  {
   "cell_type": "code",
   "execution_count": 125,
   "metadata": {},
   "outputs": [
    {
     "name": "stdout",
     "output_type": "stream",
     "text": [
      "Top 5 géneros en na_sales:\n",
      "genre\n",
      "Action          290.64\n",
      "Shooter         237.47\n",
      "Sports          156.81\n",
      "Misc            123.80\n",
      "Role-Playing    112.05\n",
      "Name: na_sales, dtype: float64\n",
      "\n",
      "\n",
      "Top 5 géneros en eu_sales:\n",
      "genre\n",
      "Action          233.63\n",
      "Shooter         171.45\n",
      "Sports          116.84\n",
      "Role-Playing     75.48\n",
      "Misc             66.09\n",
      "Name: eu_sales, dtype: float64\n",
      "\n",
      "\n",
      "Top 5 géneros en jp_sales:\n",
      "genre\n",
      "Role-Playing    103.54\n",
      "Action           72.20\n",
      "Misc             24.29\n",
      "Platform         15.81\n",
      "Adventure        15.67\n",
      "Name: jp_sales, dtype: float64\n",
      "\n",
      "\n"
     ]
    }
   ],
   "source": [
    "# Determinamos los cinco géneros principales en cada región\n",
    "\n",
    "top_genres_per_region = {}\n",
    "for region in regions:\n",
    "    top_genres_per_region[region] = (\n",
    "        relevant_years.groupby('genre')[region]\n",
    "        .sum()\n",
    "        .sort_values(ascending=False)\n",
    "        .head(5)\n",
    "    )\n",
    "    print(f'Top 5 géneros en {region}:')\n",
    "    print(top_genres_per_region[region])\n",
    "    print('\\n')"
   ]
  },
  {
   "cell_type": "markdown",
   "metadata": {},
   "source": [
    "Evidenciamos que en Norteamerica tenemos dos generos que predominan en la region, Action es el género más popular con 290.64 millones(USD) en ventas, seguido por Shooter con 237.47 millones. Sports ocupa el tercer lugar con 156.81 millones, lo que indica que los juegos deportivos también son populares en NA. Misc y Role-Playing completan el top 5, pero con cifras menores.\n",
    "\n",
    "En Europa Action también es el género líder en Europa con 233.63 millones(USD), similar a NA. Shooter ocupa el segundo lugar, pero con ventas menores en comparación con NA. Sports sigue siendo popular en Europa, ocupando el tercer lugar con 116.84 millones. Role-Playing y Misc completan el top 5, lo que indica que estos géneros tienen una audiencia significativa, aunque menor en comparación con NA.\n",
    "\n",
    "En Japón Role-Playing es el género dominante con 103.54 millones(USD) en ventas, lo que refleja una fuerte preferencia cultural por los juegos de rol en esta región. Action ocupa el segundo lugar, pero con ventas significativamente menores en comparación con Role-Playing. Misc, Platform, y Adventure completan el top 5, destacando que los juegos de plataforma y aventura es notable en esta región."
   ]
  },
  {
   "cell_type": "markdown",
   "metadata": {},
   "source": [
    "### Ventas por Clasificación ESRB"
   ]
  },
  {
   "cell_type": "code",
   "execution_count": 126,
   "metadata": {},
   "outputs": [
    {
     "name": "stdout",
     "output_type": "stream",
     "text": [
      "              NA      EU      JP\n",
      "rating                          \n",
      "AO          1.26    0.61    0.00\n",
      "E        1292.99  710.25  198.11\n",
      "E10+      353.32  188.52   40.20\n",
      "EC          1.53    0.11    0.00\n",
      "K-A         2.56    0.27    1.46\n",
      "M         748.48  483.97   64.24\n",
      "RP          0.00    0.08    0.00\n",
      "T         759.75  427.03  151.40\n",
      "unknown  1240.68  613.30  841.93\n"
     ]
    }
   ],
   "source": [
    "# Agrupamos las ventas por clasificación ESRB en cada región\n",
    "esrb_sales_na = games_df.groupby('rating')['na_sales'].sum()\n",
    "esrb_sales_eu = games_df.groupby('rating')['eu_sales'].sum()\n",
    "esrb_sales_jp = games_df.groupby('rating')['jp_sales'].sum()\n",
    "\n",
    "# Combinamos los datos de ventas por región en un DataFrame\n",
    "esrb_sales_df = pd.DataFrame({\n",
    "    'NA': esrb_sales_na,\n",
    "    'EU': esrb_sales_eu,\n",
    "    'JP': esrb_sales_jp\n",
    "})\n",
    "\n",
    "print(esrb_sales_df)"
   ]
  },
  {
   "cell_type": "code",
   "execution_count": 127,
   "metadata": {},
   "outputs": [
    {
     "data": {
      "image/png": "[encoded data removed]",
      "text/plain": [
       "<Figure size 1000x600 with 1 Axes>"
      ]
     },
     "metadata": {},
     "output_type": "display_data"
    }
   ],
   "source": [
    "# Crear gráfico de barras con las ventas de cada región\n",
    "esrb_sales_df.plot(kind='bar', figsize=(10, 6))\n",
    "\n",
    "plt.title('Ventas por Clasificación ESRB en Diferentes Regiones')\n",
    "plt.xlabel('Clasificación ESRB')\n",
    "plt.ylabel('Ventas Totales (millones USD)')\n",
    "plt.xticks(rotation=0)  # para mantener las etiquetas de x horizontales\n",
    "plt.legend(title='Región')\n",
    "\n",
    "# Mostrar la gráfica\n",
    "plt.show()"
   ]
  },
  {
   "cell_type": "markdown",
   "metadata": {},
   "source": [
    "De acuerdo a la grafica  en Norteamerica vemos que la Clasificación Everyone(E) tiene las ventas más altas (1292.99 millones), lo que sugiere que los juegos clasificados como E son muy populares. Las clasificaciones T (Teen) y M (Mature) también tienen ventas significativas, con 759.75 millones y 748.48 millones, respectivamente. Las clasificaciones menos comunes como AO (Adults Only), EC (Early Childhood) y K-A (Kids to Adults) tienen ventas casi insignificantes.\n",
    "\n",
    "en Europa la clasificación E también lidera en ventas con 710.25 millones. Las clasificaciones T y M siguen siendo populares, pero con un menor volumen de ventas que en NA. Las clasificaciones como AO, EC, y K-A tienen ventas muy bajas, lo que indica una tendencia similar a la de NA.\n",
    "\n",
    "en Japón La clasificación E también es popular, con 198.11 millones en ventas, seguida de T con 151.40 millones. Las ventas de juegos clasificados como M son considerablemente más bajas en Japón que en NA y EU.\n",
    "\n",
    "En general, las clasificaciones de ESRB parecen afectar significativamente las ventas en Norteamerica y Europa, donde las clasificaciones E, T, y M dominan el mercado. En Japón, la influencia de estas clasificaciones es menos clara, posiblemente debido a diferencias culturales o de clasificación."
   ]
  },
  {
   "cell_type": "markdown",
   "metadata": {},
   "source": [
    "## Prueba de hipótesis estadisticas"
   ]
  },
  {
   "cell_type": "markdown",
   "metadata": {},
   "source": [
    "### Hipótesis en plataformas Xbox One y PC "
   ]
  },
  {
   "cell_type": "code",
   "execution_count": 128,
   "metadata": {},
   "outputs": [
    {
     "name": "stdout",
     "output_type": "stream",
     "text": [
      "Las varianzas son significativamente diferentes. Usaremos equal_var=False en la prueba t.\n",
      "valor p:  0.7724394900919623\n",
      "No podemos rechazar la hipótesis nula, No hay evidencia suficiente para decir que las calificaciones promedio de los usuarios para las plataformas Xbox One y PC son diferentes\n"
     ]
    }
   ],
   "source": [
    "#Hipotesis Nula (Ho): \"Las calificaciones promedio de los usuarios para las plataformas Xbox One y PC son iguales\".\n",
    "\n",
    "#Hipotesis Alternativa (H1): \"Si hay diferencia entre las calificaciones promedio de los usuarios para las plataformas Xbox One y PC\"\n",
    "\n",
    "#filtramos los datos para las plataformas XOne y PC\n",
    "xone_scores = relevant_years[relevant_years['platform'] == 'XOne']['user_score'].dropna()\n",
    "\n",
    "pc_scores = relevant_years[relevant_years['platform'] == 'PC']['user_score'].dropna()\n",
    "\n",
    "# Realizamos la prueba de Levene para evaluar la igualdad de las varianzas\n",
    "levene_stat, levene_p = st.levene(xone_scores, pc_scores)\n",
    "\n",
    "# Decidimos si usamos equal_var=True o False según el resultado de la prueba de Levene\n",
    "if levene_p < 0.05:\n",
    "    equal_var = False\n",
    "    print(\"Las varianzas son significativamente diferentes. Usaremos equal_var=False en la prueba t.\")\n",
    "else:\n",
    "    equal_var = True\n",
    "    print(\"No hay evidencia suficiente para decir que las varianzas son diferentes. Usaremos equal_var=True en la prueba t.\")\n",
    "\n",
    "#realizamos la prueba t para probar la hipotesis\n",
    "alpha = 0.05 # colocamos el nivel de significancia estadística crítica, si el␣valor p es menor que alpha, rechazamos la hipótesis\n",
    "results = st.ttest_ind(xone_scores, pc_scores, equal_var = equal_var)\n",
    "print('valor p: ', results.pvalue) # extraer el valor p\n",
    "\n",
    "if results.pvalue < alpha: # comparamos el valor p con alpha\n",
    "    print(\"Rechazamos la hipótesis nula, Las calificaciones promedio de los usuarios para las plataformas Xbox One y PC son significativamente diferentes\")\n",
    "else:\n",
    "    print(\"No podemos rechazar la hipótesis nula, No hay evidencia suficiente para decir que las calificaciones promedio de los usuarios para las plataformas Xbox One y PC son diferentes\")"
   ]
  },
  {
   "cell_type": "markdown",
   "metadata": {},
   "source": [
    "### Hipótesis en los géneros de Acción y Deportes "
   ]
  },
  {
   "cell_type": "code",
   "execution_count": 129,
   "metadata": {},
   "outputs": [
    {
     "name": "stdout",
     "output_type": "stream",
     "text": [
      "Las varianzas son significativamente diferentes. Usaremos equal_var=False en la prueba t.\n",
      "valor p:  2.4986637204460458e-14\n",
      "Rechazamos la hipótesis nula, las calificaciones promedio de los usuarios para los géneros de Acción y Deportes son significativamente diferentes\n"
     ]
    }
   ],
   "source": [
    "#Hipotesis Nula (Ho): \"Las calificaciones promedio de los usuarios para los géneros de Acción y Deportes son iguales.\".\n",
    "\n",
    "#Hipotesis Alternativa (H1): \"Si hay diferencia entre las calificaciones promedio de los usuarios para los géneros de Acción y Deportes.\"\n",
    "\n",
    "#filtramos los datos para los generos Action y Sports\n",
    "action_scores = relevant_years[relevant_years['genre'] == 'Action']['user_score'].dropna()\n",
    "\n",
    "sports_scores = relevant_years[relevant_years['genre'] == 'Sports']['user_score'].dropna()\n",
    "\n",
    "# Realizamos la prueba de Levene para evaluar la igualdad de las varianzas\n",
    "levene_stat1, levene_p1 = st.levene(action_scores, sports_scores)\n",
    "\n",
    "# Decidimos si usamos equal_var=True o False según el resultado de la prueba de Levene\n",
    "if levene_p1 < 0.05:\n",
    "    equal_var = False\n",
    "    print(\"Las varianzas son significativamente diferentes. Usaremos equal_var=False en la prueba t.\")\n",
    "else:\n",
    "    equal_var = True\n",
    "    print(\"No hay evidencia suficiente para decir que las varianzas son diferentes. Usaremos equal_var=True en la prueba t.\")\n",
    "\n",
    "#realizamos la prueba t para probar la hipotesis\n",
    "alpha = 0.05 # colocamos el nivel de significancia estadística crítica, si el␣valor p es menor que alpha, rechazamos la hipótesis\n",
    "\n",
    "results1 = st.ttest_ind(action_scores, sports_scores, equal_var = equal_var)\n",
    "print('valor p: ', results1.pvalue) # extraer el valor p\n",
    "\n",
    "if results1.pvalue < alpha: # comparamos el valor p con alpha\n",
    "    print(\"Rechazamos la hipótesis nula, las calificaciones promedio de los usuarios para los géneros de Acción y Deportes son significativamente diferentes\")\n",
    "else:\n",
    "    print(\"No podemos rechazar la hipótesis nula, No hay evidencia suficiente para decir que las calificaciones promedio de los usuarios para para los géneros de Acción y Deportes son diferentes\")"
   ]
  },
  {
   "cell_type": "markdown",
   "metadata": {},
   "source": [
    "Con el fin de realizar la prueba de hipotesis entre dos poblaciones estadisticas diferentes procedemos a utilizar la función scipy.stats.ttest_ind(array1, array2, equal_var). la cual nos permite comparar las medias de dos poblaciones y validar si son iguales o no. \n",
    "teniendo en cuenta lo anterior se formula la hipotesis nula afirmando si los promedio de las criticas de usuario para ambas plataformas (ambos generos en el caso de la otra hipotesis) son iguales, y la hipotesis alternativa se formula afirmado que hay diferencias del promedio de las criticas de usuario para ambas plataformas (ambos generos en el caso de la otra hipotesis)."
   ]
  },
  {
   "cell_type": "markdown",
   "metadata": {},
   "source": [
    "## Conclusión general"
   ]
  },
  {
   "cell_type": "markdown",
   "metadata": {},
   "source": [
    "Se realiza la validación del lanzamiento de juegos por año donde el grafico de barras nos muestra una tendencia de constante crecimiento desde el año 2000 hasta el año 2011, siendo los años del 2007 al 2009 donde mas juegos se han lanzado.  Esto puede reflejar un auge en la industria del videojuego, posiblemente debido a la expansión de las plataformas de juegos y el aumento en el número de desarrolladores.\n",
    "\n",
    "al analizar las ventas de las 10 plataformas mas populares, el grafico nos muestra el crecimiento de cada plataforma hasta su máximo pico en ventas y desde cuando empieza a disminuir hasta su desaparición si es una plataforma antigua. de lo anterior podemos ver un patrón que las ventas de la mayoría de plataformas antiguas se dan en un periodo de 7 a 12 años desde su lanzamiento hasta su desaparición, adicionalmente las plataformas nuevas suelen alcanzar su popularidad en 2 a 3 años después de su lanzamiento.\n",
    "\n",
    "Se trabajo con los datos desde el año 2010 en adelante ya que apartir de este año vemos la desaparicion de plataformas anteriores teniendo una declinación significativa en ventas después de 2010. adicionalmente cerca a este año empiezan a aparecer nuevas plataformas que seran claves para el mercado de videojuegos en los años posteriores y representan una parte importante del mercado para el año 2016.\n",
    "\n",
    "el diagrama de caja de las ventas globales por plataforma muestra que hay diferencias significativas en las ventas entre plataformas, con algunas que claramente lideran en ventas totales y otras que muestran un rendimiento más modesto. Esto es crucial para identificar cuáles plataformas podrían ser más rentables para futuras campañas y lanzamientos.\n",
    "\n",
    "al agrupar las plataformas por regiones se ve una clara tendencia de la preferencia en Norteamérica por las plataformas de Microsoft(X360 y XOne) y en Europa la tendencia en el crecimiento por plataformas de PlayStation, asi mismo en Japón es evidente la preferencia por plataformas gaming portátiles. adicionalmente se evidencia al agrupar los géneros por regiones la preferencia de géneros de accion y deportes por parte de regiones de occidente y en menor medida en la región del país Japones, donde prefieren el genero de Role-playing. Esto nos puede ayudar para realizar un enfoque de los juegos para cada plataforma y por genero teniendo en cuenta la región a explorar.\n",
    "\n",
    "las clasificaciones de ESRB parecen afectar significativamente las ventas en Norteamérica y Europa, donde las clasificaciones E, T, y M dominan el mercado. En Japón, la influencia de estas clasificaciones es menos clara, posiblemente debido a diferencias culturales o de clasificación.\n",
    "\n",
    "Al realizar la prueba t para comparar las calificaciones promedio para las plataformas XOne y PC indican que no hay suficiente evidencia para rechazar la hipótesis nula. a diferencia de la comparación de las calificaciones promedio para los géneros Accion y Deportes la cual nos indica que rechaza la hipótesis nula ya que las calificaciones entre los géneros en cuestión son significativamente diferentes."
   ]
  }
 ],
 "metadata": {
  "ExecuteTimeLog": [
   {
    "duration": 5390,
    "start_time": "2024-08-16T20:34:11.617Z"
   },
   {
    "duration": 56,
    "start_time": "2024-08-16T20:38:45.772Z"
   },
   {
    "duration": 38,
    "start_time": "2024-08-16T20:39:17.888Z"
   },
   {
    "duration": 48,
    "start_time": "2024-08-16T20:40:41.963Z"
   },
   {
    "duration": 59,
    "start_time": "2024-08-16T20:40:57.732Z"
   },
   {
    "duration": 35,
    "start_time": "2024-08-16T20:42:16.373Z"
   },
   {
    "duration": 389,
    "start_time": "2024-08-16T20:44:40.758Z"
   },
   {
    "duration": 20,
    "start_time": "2024-08-16T20:44:48.030Z"
   },
   {
    "duration": 22,
    "start_time": "2024-08-16T20:45:15.370Z"
   },
   {
    "duration": 11,
    "start_time": "2024-08-16T20:45:23.264Z"
   },
   {
    "duration": 31,
    "start_time": "2024-08-16T20:59:26.732Z"
   },
   {
    "duration": 4,
    "start_time": "2024-08-16T20:59:40.046Z"
   },
   {
    "duration": 25,
    "start_time": "2024-08-16T21:01:42.310Z"
   },
   {
    "duration": 22,
    "start_time": "2024-08-16T21:02:02.473Z"
   },
   {
    "duration": 5,
    "start_time": "2024-08-16T21:05:21.157Z"
   },
   {
    "duration": 1120,
    "start_time": "2024-08-16T21:19:06.082Z"
   },
   {
    "duration": 94,
    "start_time": "2024-08-16T21:26:57.398Z"
   },
   {
    "duration": 94,
    "start_time": "2024-08-16T21:29:38.050Z"
   },
   {
    "duration": 5,
    "start_time": "2024-08-16T21:30:46.195Z"
   },
   {
    "duration": 418,
    "start_time": "2024-08-16T21:31:28.056Z"
   },
   {
    "duration": 50,
    "start_time": "2024-08-16T21:31:58.285Z"
   },
   {
    "duration": 5,
    "start_time": "2024-08-16T21:32:16.818Z"
   },
   {
    "duration": 38,
    "start_time": "2024-08-16T21:32:16.830Z"
   },
   {
    "duration": 19,
    "start_time": "2024-08-16T21:32:16.871Z"
   },
   {
    "duration": 11,
    "start_time": "2024-08-16T21:32:16.893Z"
   },
   {
    "duration": 5,
    "start_time": "2024-08-16T21:32:16.908Z"
   },
   {
    "duration": 7,
    "start_time": "2024-08-16T21:32:16.917Z"
   },
   {
    "duration": 20,
    "start_time": "2024-08-16T21:32:22.352Z"
   },
   {
    "duration": 5,
    "start_time": "2024-08-16T21:33:08.529Z"
   },
   {
    "duration": 37,
    "start_time": "2024-08-16T21:33:08.545Z"
   },
   {
    "duration": 18,
    "start_time": "2024-08-16T21:33:08.587Z"
   },
   {
    "duration": 11,
    "start_time": "2024-08-16T21:33:08.609Z"
   },
   {
    "duration": 5,
    "start_time": "2024-08-16T21:33:08.623Z"
   },
   {
    "duration": 6,
    "start_time": "2024-08-16T21:33:08.633Z"
   },
   {
    "duration": 64,
    "start_time": "2024-08-16T21:33:08.644Z"
   },
   {
    "duration": 36,
    "start_time": "2024-08-16T21:33:33.333Z"
   },
   {
    "duration": 40,
    "start_time": "2024-08-16T21:33:42.115Z"
   },
   {
    "duration": 25,
    "start_time": "2024-08-16T21:37:28.124Z"
   },
   {
    "duration": 21,
    "start_time": "2024-08-16T21:37:59.860Z"
   },
   {
    "duration": 19,
    "start_time": "2024-08-16T21:38:18.937Z"
   },
   {
    "duration": 18,
    "start_time": "2024-08-16T21:39:26.612Z"
   },
   {
    "duration": 20,
    "start_time": "2024-08-16T21:43:23.240Z"
   },
   {
    "duration": 12,
    "start_time": "2024-08-16T21:44:48.033Z"
   },
   {
    "duration": 873,
    "start_time": "2024-08-16T22:13:38.411Z"
   },
   {
    "duration": 5,
    "start_time": "2024-08-16T22:14:01.233Z"
   },
   {
    "duration": 14,
    "start_time": "2024-08-16T22:17:43.616Z"
   },
   {
    "duration": 10,
    "start_time": "2024-08-16T22:30:17.201Z"
   },
   {
    "duration": 5,
    "start_time": "2024-08-16T23:35:26.927Z"
   },
   {
    "duration": 22,
    "start_time": "2024-08-16T23:35:35.764Z"
   },
   {
    "duration": 6,
    "start_time": "2024-08-16T23:35:42.340Z"
   },
   {
    "duration": 5,
    "start_time": "2024-08-16T23:36:18.008Z"
   },
   {
    "duration": 11,
    "start_time": "2024-08-16T23:36:47.831Z"
   },
   {
    "duration": 18,
    "start_time": "2024-08-16T23:47:05.969Z"
   },
   {
    "duration": 6,
    "start_time": "2024-08-16T23:59:30.537Z"
   },
   {
    "duration": 25,
    "start_time": "2024-08-16T23:59:45.782Z"
   },
   {
    "duration": 6,
    "start_time": "2024-08-17T00:00:09.945Z"
   },
   {
    "duration": 20,
    "start_time": "2024-08-17T00:01:14.555Z"
   },
   {
    "duration": 7,
    "start_time": "2024-08-17T00:03:53.681Z"
   },
   {
    "duration": 3,
    "start_time": "2024-08-17T00:13:19.249Z"
   },
   {
    "duration": 3,
    "start_time": "2024-08-17T00:14:01.124Z"
   },
   {
    "duration": 16,
    "start_time": "2024-08-17T00:14:13.032Z"
   },
   {
    "duration": 18,
    "start_time": "2024-08-17T00:14:42.195Z"
   },
   {
    "duration": 8,
    "start_time": "2024-08-17T00:16:16.969Z"
   },
   {
    "duration": 20,
    "start_time": "2024-08-17T00:16:36.108Z"
   },
   {
    "duration": 8,
    "start_time": "2024-08-17T00:16:52.173Z"
   },
   {
    "duration": 20,
    "start_time": "2024-08-17T00:17:40.258Z"
   },
   {
    "duration": 7,
    "start_time": "2024-08-17T00:18:09.292Z"
   },
   {
    "duration": 8,
    "start_time": "2024-08-17T00:18:59.472Z"
   },
   {
    "duration": 4,
    "start_time": "2024-08-17T00:20:20.870Z"
   },
   {
    "duration": 38,
    "start_time": "2024-08-17T00:20:20.878Z"
   },
   {
    "duration": 19,
    "start_time": "2024-08-17T00:20:20.920Z"
   },
   {
    "duration": 11,
    "start_time": "2024-08-17T00:20:20.942Z"
   },
   {
    "duration": 32,
    "start_time": "2024-08-17T00:20:20.959Z"
   },
   {
    "duration": 18,
    "start_time": "2024-08-17T00:20:20.995Z"
   },
   {
    "duration": 18,
    "start_time": "2024-08-17T00:20:21.016Z"
   },
   {
    "duration": 12,
    "start_time": "2024-08-17T00:20:21.036Z"
   },
   {
    "duration": 47,
    "start_time": "2024-08-17T00:20:21.051Z"
   },
   {
    "duration": 9,
    "start_time": "2024-08-17T00:20:21.101Z"
   },
   {
    "duration": 8,
    "start_time": "2024-08-17T00:20:21.115Z"
   },
   {
    "duration": 4,
    "start_time": "2024-08-17T00:21:19.982Z"
   },
   {
    "duration": 37,
    "start_time": "2024-08-17T00:21:19.991Z"
   },
   {
    "duration": 18,
    "start_time": "2024-08-17T00:21:20.031Z"
   },
   {
    "duration": 44,
    "start_time": "2024-08-17T00:21:20.052Z"
   },
   {
    "duration": 4,
    "start_time": "2024-08-17T00:21:20.103Z"
   },
   {
    "duration": 20,
    "start_time": "2024-08-17T00:21:20.110Z"
   },
   {
    "duration": 18,
    "start_time": "2024-08-17T00:21:20.133Z"
   },
   {
    "duration": 11,
    "start_time": "2024-08-17T00:21:20.190Z"
   },
   {
    "duration": 11,
    "start_time": "2024-08-17T00:21:20.203Z"
   },
   {
    "duration": 8,
    "start_time": "2024-08-17T00:21:20.218Z"
   },
   {
    "duration": 8,
    "start_time": "2024-08-17T00:21:20.230Z"
   },
   {
    "duration": 20,
    "start_time": "2024-08-17T00:22:36.464Z"
   },
   {
    "duration": 11,
    "start_time": "2024-08-17T00:23:06.158Z"
   },
   {
    "duration": 6,
    "start_time": "2024-08-17T00:23:42.930Z"
   },
   {
    "duration": 7,
    "start_time": "2024-08-17T00:23:51.779Z"
   },
   {
    "duration": 8,
    "start_time": "2024-08-17T00:23:54.895Z"
   },
   {
    "duration": 9,
    "start_time": "2024-08-17T00:32:08.739Z"
   },
   {
    "duration": 8,
    "start_time": "2024-08-17T00:32:15.652Z"
   },
   {
    "duration": 29,
    "start_time": "2024-08-17T00:32:47.706Z"
   },
   {
    "duration": 20,
    "start_time": "2024-08-17T00:42:25.752Z"
   },
   {
    "duration": 449,
    "start_time": "2024-08-17T00:42:28.482Z"
   },
   {
    "duration": 9,
    "start_time": "2024-08-17T00:42:55.697Z"
   },
   {
    "duration": 20,
    "start_time": "2024-08-17T00:47:19.823Z"
   },
   {
    "duration": 136,
    "start_time": "2024-08-17T00:47:47.952Z"
   },
   {
    "duration": 100,
    "start_time": "2024-08-17T00:48:08.704Z"
   },
   {
    "duration": 211,
    "start_time": "2024-08-17T00:48:16.334Z"
   },
   {
    "duration": 12,
    "start_time": "2024-08-17T00:58:56.831Z"
   },
   {
    "duration": 126,
    "start_time": "2024-08-17T01:03:17.477Z"
   },
   {
    "duration": 110,
    "start_time": "2024-08-17T01:03:43.650Z"
   },
   {
    "duration": 104,
    "start_time": "2024-08-17T01:03:53.872Z"
   },
   {
    "duration": 96,
    "start_time": "2024-08-17T01:04:37.513Z"
   },
   {
    "duration": 5,
    "start_time": "2024-08-17T01:04:50.051Z"
   },
   {
    "duration": 95,
    "start_time": "2024-08-17T01:05:05.960Z"
   },
   {
    "duration": 5,
    "start_time": "2024-08-17T01:08:33.585Z"
   },
   {
    "duration": 97,
    "start_time": "2024-08-17T01:08:39.331Z"
   },
   {
    "duration": 18,
    "start_time": "2024-08-17T01:09:19.722Z"
   },
   {
    "duration": 42,
    "start_time": "2024-08-17T01:11:54.453Z"
   },
   {
    "duration": 12,
    "start_time": "2024-08-17T01:12:17.545Z"
   },
   {
    "duration": 10,
    "start_time": "2024-08-17T01:12:50.904Z"
   },
   {
    "duration": 7,
    "start_time": "2024-08-17T01:14:59.654Z"
   },
   {
    "duration": 7,
    "start_time": "2024-08-17T01:15:12.800Z"
   },
   {
    "duration": 9,
    "start_time": "2024-08-17T01:15:33.253Z"
   },
   {
    "duration": 9,
    "start_time": "2024-08-17T01:16:08.163Z"
   },
   {
    "duration": 13,
    "start_time": "2024-08-17T01:17:20.184Z"
   },
   {
    "duration": 20,
    "start_time": "2024-08-17T01:17:30.495Z"
   },
   {
    "duration": 4919,
    "start_time": "2024-08-17T21:26:03.225Z"
   },
   {
    "duration": 54,
    "start_time": "2024-08-17T21:26:08.147Z"
   },
   {
    "duration": 20,
    "start_time": "2024-08-17T21:26:08.204Z"
   },
   {
    "duration": 12,
    "start_time": "2024-08-17T21:26:08.235Z"
   },
   {
    "duration": 4,
    "start_time": "2024-08-17T21:26:08.250Z"
   },
   {
    "duration": 19,
    "start_time": "2024-08-17T21:26:08.258Z"
   },
   {
    "duration": 53,
    "start_time": "2024-08-17T21:26:08.280Z"
   },
   {
    "duration": 10,
    "start_time": "2024-08-17T21:26:08.336Z"
   },
   {
    "duration": 11,
    "start_time": "2024-08-17T21:26:08.349Z"
   },
   {
    "duration": 9,
    "start_time": "2024-08-17T21:26:08.364Z"
   },
   {
    "duration": 8,
    "start_time": "2024-08-17T21:26:08.376Z"
   },
   {
    "duration": 26,
    "start_time": "2024-08-17T21:26:08.434Z"
   },
   {
    "duration": 18,
    "start_time": "2024-08-17T21:35:17.315Z"
   },
   {
    "duration": 25,
    "start_time": "2024-08-17T21:42:41.734Z"
   },
   {
    "duration": 14,
    "start_time": "2024-08-17T21:48:29.284Z"
   },
   {
    "duration": 9,
    "start_time": "2024-08-17T21:50:07.802Z"
   },
   {
    "duration": 8,
    "start_time": "2024-08-17T21:58:53.938Z"
   },
   {
    "duration": 13,
    "start_time": "2024-08-17T21:59:25.159Z"
   },
   {
    "duration": 24,
    "start_time": "2024-08-17T21:59:54.347Z"
   },
   {
    "duration": 5,
    "start_time": "2024-08-17T22:01:55.694Z"
   },
   {
    "duration": 38,
    "start_time": "2024-08-17T22:01:55.703Z"
   },
   {
    "duration": 19,
    "start_time": "2024-08-17T22:01:55.744Z"
   },
   {
    "duration": 11,
    "start_time": "2024-08-17T22:01:55.766Z"
   },
   {
    "duration": 4,
    "start_time": "2024-08-17T22:01:55.781Z"
   },
   {
    "duration": 1693,
    "start_time": "2024-08-17T22:01:55.789Z"
   },
   {
    "duration": 0,
    "start_time": "2024-08-17T22:01:57.486Z"
   },
   {
    "duration": 0,
    "start_time": "2024-08-17T22:01:57.489Z"
   },
   {
    "duration": 0,
    "start_time": "2024-08-17T22:01:57.491Z"
   },
   {
    "duration": 0,
    "start_time": "2024-08-17T22:01:57.493Z"
   },
   {
    "duration": 0,
    "start_time": "2024-08-17T22:01:57.496Z"
   },
   {
    "duration": 0,
    "start_time": "2024-08-17T22:01:57.498Z"
   },
   {
    "duration": 0,
    "start_time": "2024-08-17T22:01:57.500Z"
   },
   {
    "duration": 4,
    "start_time": "2024-08-17T22:02:29.384Z"
   },
   {
    "duration": 39,
    "start_time": "2024-08-17T22:02:29.391Z"
   },
   {
    "duration": 18,
    "start_time": "2024-08-17T22:02:29.433Z"
   },
   {
    "duration": 11,
    "start_time": "2024-08-17T22:02:29.454Z"
   },
   {
    "duration": 4,
    "start_time": "2024-08-17T22:02:29.469Z"
   },
   {
    "duration": 19,
    "start_time": "2024-08-17T22:02:29.476Z"
   },
   {
    "duration": 18,
    "start_time": "2024-08-17T22:02:29.534Z"
   },
   {
    "duration": 10,
    "start_time": "2024-08-17T22:02:29.555Z"
   },
   {
    "duration": 11,
    "start_time": "2024-08-17T22:02:29.568Z"
   },
   {
    "duration": 53,
    "start_time": "2024-08-17T22:02:29.583Z"
   },
   {
    "duration": 8,
    "start_time": "2024-08-17T22:02:29.641Z"
   },
   {
    "duration": 16,
    "start_time": "2024-08-17T22:02:29.651Z"
   },
   {
    "duration": 26,
    "start_time": "2024-08-17T22:02:29.670Z"
   },
   {
    "duration": 13,
    "start_time": "2024-08-17T22:04:16.389Z"
   },
   {
    "duration": 4,
    "start_time": "2024-08-17T22:18:28.160Z"
   },
   {
    "duration": 5,
    "start_time": "2024-08-17T22:18:41.672Z"
   },
   {
    "duration": 4,
    "start_time": "2024-08-17T22:20:13.014Z"
   },
   {
    "duration": 5,
    "start_time": "2024-08-17T22:22:30.435Z"
   },
   {
    "duration": 23,
    "start_time": "2024-08-17T22:39:10.748Z"
   },
   {
    "duration": 4,
    "start_time": "2024-08-17T22:39:15.195Z"
   },
   {
    "duration": 37,
    "start_time": "2024-08-17T22:39:15.206Z"
   },
   {
    "duration": 18,
    "start_time": "2024-08-17T22:39:15.247Z"
   },
   {
    "duration": 12,
    "start_time": "2024-08-17T22:39:15.267Z"
   },
   {
    "duration": 5,
    "start_time": "2024-08-17T22:39:15.284Z"
   },
   {
    "duration": 50,
    "start_time": "2024-08-17T22:39:15.292Z"
   },
   {
    "duration": 18,
    "start_time": "2024-08-17T22:39:15.345Z"
   },
   {
    "duration": 11,
    "start_time": "2024-08-17T22:39:15.365Z"
   },
   {
    "duration": 53,
    "start_time": "2024-08-17T22:39:15.380Z"
   },
   {
    "duration": 9,
    "start_time": "2024-08-17T22:39:15.435Z"
   },
   {
    "duration": 7,
    "start_time": "2024-08-17T22:39:15.449Z"
   },
   {
    "duration": 15,
    "start_time": "2024-08-17T22:39:15.459Z"
   },
   {
    "duration": 57,
    "start_time": "2024-08-17T22:39:15.476Z"
   },
   {
    "duration": 6,
    "start_time": "2024-08-17T22:39:15.535Z"
   },
   {
    "duration": 17,
    "start_time": "2024-08-17T22:40:08.598Z"
   },
   {
    "duration": 25,
    "start_time": "2024-08-17T23:08:26.540Z"
   },
   {
    "duration": 3,
    "start_time": "2024-08-17T23:11:28.898Z"
   },
   {
    "duration": 34,
    "start_time": "2024-08-17T23:34:30.400Z"
   },
   {
    "duration": 5005,
    "start_time": "2024-08-19T16:11:35.762Z"
   },
   {
    "duration": 59,
    "start_time": "2024-08-19T16:11:40.770Z"
   },
   {
    "duration": 21,
    "start_time": "2024-08-19T16:11:40.831Z"
   },
   {
    "duration": 12,
    "start_time": "2024-08-19T16:11:40.856Z"
   },
   {
    "duration": 5,
    "start_time": "2024-08-19T16:11:40.871Z"
   },
   {
    "duration": 56,
    "start_time": "2024-08-19T16:11:40.879Z"
   },
   {
    "duration": 17,
    "start_time": "2024-08-19T16:11:40.938Z"
   },
   {
    "duration": 11,
    "start_time": "2024-08-19T16:11:40.958Z"
   },
   {
    "duration": 15,
    "start_time": "2024-08-19T16:11:40.972Z"
   },
   {
    "duration": 8,
    "start_time": "2024-08-19T16:11:41.032Z"
   },
   {
    "duration": 8,
    "start_time": "2024-08-19T16:11:41.043Z"
   },
   {
    "duration": 16,
    "start_time": "2024-08-19T16:11:41.054Z"
   },
   {
    "duration": 12,
    "start_time": "2024-08-19T16:11:41.073Z"
   },
   {
    "duration": 35,
    "start_time": "2024-08-19T16:11:41.132Z"
   },
   {
    "duration": 488,
    "start_time": "2024-08-19T16:18:17.450Z"
   },
   {
    "duration": 8,
    "start_time": "2024-08-19T16:20:16.819Z"
   },
   {
    "duration": 8,
    "start_time": "2024-08-19T16:20:28.210Z"
   },
   {
    "duration": 11,
    "start_time": "2024-08-19T16:30:15.785Z"
   },
   {
    "duration": 11,
    "start_time": "2024-08-19T16:36:59.417Z"
   },
   {
    "duration": 11,
    "start_time": "2024-08-19T16:37:17.882Z"
   },
   {
    "duration": 15,
    "start_time": "2024-08-19T16:54:42.002Z"
   },
   {
    "duration": 10,
    "start_time": "2024-08-19T16:56:01.839Z"
   },
   {
    "duration": 19,
    "start_time": "2024-08-19T16:57:02.266Z"
   },
   {
    "duration": 20,
    "start_time": "2024-08-19T16:57:55.794Z"
   },
   {
    "duration": 496,
    "start_time": "2024-08-19T17:00:21.591Z"
   },
   {
    "duration": 319,
    "start_time": "2024-08-19T17:01:13.972Z"
   },
   {
    "duration": 390,
    "start_time": "2024-08-19T17:02:00.633Z"
   },
   {
    "duration": 8,
    "start_time": "2024-08-19T17:03:20.622Z"
   },
   {
    "duration": 369,
    "start_time": "2024-08-19T17:04:39.119Z"
   },
   {
    "duration": 363,
    "start_time": "2024-08-19T17:08:39.570Z"
   },
   {
    "duration": 368,
    "start_time": "2024-08-19T17:17:20.962Z"
   },
   {
    "duration": 4927,
    "start_time": "2024-08-19T22:28:30.024Z"
   },
   {
    "duration": 56,
    "start_time": "2024-08-19T22:28:34.955Z"
   },
   {
    "duration": 18,
    "start_time": "2024-08-19T22:28:35.014Z"
   },
   {
    "duration": 13,
    "start_time": "2024-08-19T22:28:35.037Z"
   },
   {
    "duration": 4,
    "start_time": "2024-08-19T22:28:35.056Z"
   },
   {
    "duration": 54,
    "start_time": "2024-08-19T22:28:35.063Z"
   },
   {
    "duration": 17,
    "start_time": "2024-08-19T22:28:35.121Z"
   },
   {
    "duration": 11,
    "start_time": "2024-08-19T22:28:35.140Z"
   },
   {
    "duration": 55,
    "start_time": "2024-08-19T22:28:35.154Z"
   },
   {
    "duration": 8,
    "start_time": "2024-08-19T22:28:35.213Z"
   },
   {
    "duration": 9,
    "start_time": "2024-08-19T22:28:35.224Z"
   },
   {
    "duration": 15,
    "start_time": "2024-08-19T22:28:35.237Z"
   },
   {
    "duration": 54,
    "start_time": "2024-08-19T22:28:35.256Z"
   },
   {
    "duration": 35,
    "start_time": "2024-08-19T22:28:35.315Z"
   },
   {
    "duration": 502,
    "start_time": "2024-08-19T22:28:35.354Z"
   },
   {
    "duration": 10,
    "start_time": "2024-08-19T22:28:35.858Z"
   },
   {
    "duration": 403,
    "start_time": "2024-08-19T22:28:35.872Z"
   },
   {
    "duration": 4916,
    "start_time": "2024-08-19T23:38:46.363Z"
   },
   {
    "duration": 51,
    "start_time": "2024-08-19T23:38:51.282Z"
   },
   {
    "duration": 20,
    "start_time": "2024-08-19T23:38:51.336Z"
   },
   {
    "duration": 12,
    "start_time": "2024-08-19T23:38:51.362Z"
   },
   {
    "duration": 5,
    "start_time": "2024-08-19T23:38:51.377Z"
   },
   {
    "duration": 53,
    "start_time": "2024-08-19T23:38:51.385Z"
   },
   {
    "duration": 18,
    "start_time": "2024-08-19T23:38:51.441Z"
   },
   {
    "duration": 11,
    "start_time": "2024-08-19T23:38:51.462Z"
   },
   {
    "duration": 55,
    "start_time": "2024-08-19T23:38:51.476Z"
   },
   {
    "duration": 9,
    "start_time": "2024-08-19T23:38:51.536Z"
   },
   {
    "duration": 8,
    "start_time": "2024-08-19T23:38:51.548Z"
   },
   {
    "duration": 16,
    "start_time": "2024-08-19T23:38:51.560Z"
   },
   {
    "duration": 56,
    "start_time": "2024-08-19T23:38:51.580Z"
   },
   {
    "duration": 44,
    "start_time": "2024-08-19T23:38:51.639Z"
   },
   {
    "duration": 522,
    "start_time": "2024-08-19T23:38:51.686Z"
   },
   {
    "duration": 19,
    "start_time": "2024-08-19T23:38:52.211Z"
   },
   {
    "duration": 394,
    "start_time": "2024-08-19T23:38:52.233Z"
   },
   {
    "duration": 7,
    "start_time": "2024-08-19T23:47:11.256Z"
   },
   {
    "duration": 10,
    "start_time": "2024-08-19T23:57:37.142Z"
   },
   {
    "duration": 305,
    "start_time": "2024-08-20T00:00:46.465Z"
   },
   {
    "duration": 395,
    "start_time": "2024-08-20T00:01:12.418Z"
   },
   {
    "duration": 293,
    "start_time": "2024-08-20T00:02:02.280Z"
   },
   {
    "duration": 20,
    "start_time": "2024-08-20T00:03:06.389Z"
   },
   {
    "duration": 6,
    "start_time": "2024-08-20T00:06:45.186Z"
   },
   {
    "duration": 398,
    "start_time": "2024-08-20T00:13:30.568Z"
   },
   {
    "duration": 840,
    "start_time": "2024-08-20T00:15:26.640Z"
   },
   {
    "duration": 1041,
    "start_time": "2024-08-20T00:15:44.602Z"
   },
   {
    "duration": 755,
    "start_time": "2024-08-20T00:16:31.541Z"
   },
   {
    "duration": 802,
    "start_time": "2024-08-20T00:17:49.058Z"
   },
   {
    "duration": 914,
    "start_time": "2024-08-20T00:19:40.163Z"
   },
   {
    "duration": 18,
    "start_time": "2024-08-20T00:41:34.214Z"
   },
   {
    "duration": 45,
    "start_time": "2024-08-20T00:44:25.795Z"
   },
   {
    "duration": 6,
    "start_time": "2024-08-20T00:45:25.682Z"
   },
   {
    "duration": 277,
    "start_time": "2024-08-20T00:45:53.534Z"
   },
   {
    "duration": 291,
    "start_time": "2024-08-20T00:46:30.572Z"
   },
   {
    "duration": 785,
    "start_time": "2024-08-20T00:49:55.834Z"
   },
   {
    "duration": 889,
    "start_time": "2024-08-20T01:09:47.240Z"
   },
   {
    "duration": 790,
    "start_time": "2024-08-20T01:12:18.784Z"
   },
   {
    "duration": 411,
    "start_time": "2024-08-20T02:22:10.888Z"
   },
   {
    "duration": 326,
    "start_time": "2024-08-20T02:33:01.250Z"
   },
   {
    "duration": 540,
    "start_time": "2024-08-20T02:51:18.656Z"
   },
   {
    "duration": 665,
    "start_time": "2024-08-20T02:51:51.808Z"
   },
   {
    "duration": 581,
    "start_time": "2024-08-20T02:52:11.280Z"
   },
   {
    "duration": 633,
    "start_time": "2024-08-20T02:52:41.391Z"
   },
   {
    "duration": 587,
    "start_time": "2024-08-20T03:01:45.236Z"
   },
   {
    "duration": 591,
    "start_time": "2024-08-20T03:02:10.960Z"
   },
   {
    "duration": 534,
    "start_time": "2024-08-20T03:02:21.452Z"
   },
   {
    "duration": 554,
    "start_time": "2024-08-20T03:03:00.369Z"
   },
   {
    "duration": 688,
    "start_time": "2024-08-20T03:03:29.244Z"
   },
   {
    "duration": 596,
    "start_time": "2024-08-20T03:04:11.623Z"
   },
   {
    "duration": 601,
    "start_time": "2024-08-20T03:07:26.874Z"
   },
   {
    "duration": 619,
    "start_time": "2024-08-20T03:08:12.908Z"
   },
   {
    "duration": 583,
    "start_time": "2024-08-20T03:08:38.328Z"
   },
   {
    "duration": 549,
    "start_time": "2024-08-20T03:08:48.874Z"
   },
   {
    "duration": 756,
    "start_time": "2024-08-20T03:09:04.036Z"
   },
   {
    "duration": 580,
    "start_time": "2024-08-20T03:09:31.119Z"
   },
   {
    "duration": 555,
    "start_time": "2024-08-20T03:09:46.793Z"
   },
   {
    "duration": 612,
    "start_time": "2024-08-20T03:09:58.819Z"
   },
   {
    "duration": 4938,
    "start_time": "2024-08-20T20:09:36.138Z"
   },
   {
    "duration": 54,
    "start_time": "2024-08-20T20:09:41.079Z"
   },
   {
    "duration": 20,
    "start_time": "2024-08-20T20:09:41.135Z"
   },
   {
    "duration": 13,
    "start_time": "2024-08-20T20:09:41.168Z"
   },
   {
    "duration": 5,
    "start_time": "2024-08-20T20:09:41.184Z"
   },
   {
    "duration": 19,
    "start_time": "2024-08-20T20:09:41.192Z"
   },
   {
    "duration": 54,
    "start_time": "2024-08-20T20:09:41.214Z"
   },
   {
    "duration": 11,
    "start_time": "2024-08-20T20:09:41.271Z"
   },
   {
    "duration": 16,
    "start_time": "2024-08-20T20:09:41.286Z"
   },
   {
    "duration": 8,
    "start_time": "2024-08-20T20:09:41.307Z"
   },
   {
    "duration": 52,
    "start_time": "2024-08-20T20:09:41.318Z"
   },
   {
    "duration": 15,
    "start_time": "2024-08-20T20:09:41.373Z"
   },
   {
    "duration": 15,
    "start_time": "2024-08-20T20:09:41.390Z"
   },
   {
    "duration": 71,
    "start_time": "2024-08-20T20:09:41.408Z"
   },
   {
    "duration": 521,
    "start_time": "2024-08-20T20:09:41.482Z"
   },
   {
    "duration": 12,
    "start_time": "2024-08-20T20:09:42.006Z"
   },
   {
    "duration": 435,
    "start_time": "2024-08-20T20:09:42.021Z"
   },
   {
    "duration": 7,
    "start_time": "2024-08-20T20:09:42.459Z"
   },
   {
    "duration": 286,
    "start_time": "2024-08-20T20:09:42.469Z"
   },
   {
    "duration": 479,
    "start_time": "2024-08-20T20:09:42.758Z"
   },
   {
    "duration": 607,
    "start_time": "2024-08-20T20:09:43.240Z"
   },
   {
    "duration": 586,
    "start_time": "2024-08-20T20:26:00.290Z"
   },
   {
    "duration": 589,
    "start_time": "2024-08-20T20:27:43.057Z"
   },
   {
    "duration": 555,
    "start_time": "2024-08-20T20:30:26.931Z"
   },
   {
    "duration": 310,
    "start_time": "2024-08-20T20:43:47.368Z"
   },
   {
    "duration": 293,
    "start_time": "2024-08-20T20:45:40.049Z"
   },
   {
    "duration": 303,
    "start_time": "2024-08-20T20:51:36.556Z"
   },
   {
    "duration": 330,
    "start_time": "2024-08-20T20:52:55.872Z"
   },
   {
    "duration": 18,
    "start_time": "2024-08-20T21:16:50.239Z"
   },
   {
    "duration": 16,
    "start_time": "2024-08-20T21:18:34.872Z"
   },
   {
    "duration": 20,
    "start_time": "2024-08-20T21:20:47.673Z"
   },
   {
    "duration": 14,
    "start_time": "2024-08-20T21:23:26.785Z"
   },
   {
    "duration": 14,
    "start_time": "2024-08-20T21:55:43.298Z"
   },
   {
    "duration": 16,
    "start_time": "2024-08-20T22:40:19.806Z"
   },
   {
    "duration": 884,
    "start_time": "2024-08-20T22:41:07.261Z"
   },
   {
    "duration": 767,
    "start_time": "2024-08-20T22:43:32.998Z"
   },
   {
    "duration": 4865,
    "start_time": "2024-08-21T15:45:28.452Z"
   },
   {
    "duration": 56,
    "start_time": "2024-08-21T15:45:33.322Z"
   },
   {
    "duration": 20,
    "start_time": "2024-08-21T15:45:33.381Z"
   },
   {
    "duration": 13,
    "start_time": "2024-08-21T15:45:33.407Z"
   },
   {
    "duration": 5,
    "start_time": "2024-08-21T15:45:33.425Z"
   },
   {
    "duration": 19,
    "start_time": "2024-08-21T15:45:33.433Z"
   },
   {
    "duration": 58,
    "start_time": "2024-08-21T15:45:33.455Z"
   },
   {
    "duration": 11,
    "start_time": "2024-08-21T15:45:33.515Z"
   },
   {
    "duration": 16,
    "start_time": "2024-08-21T15:45:33.530Z"
   },
   {
    "duration": 9,
    "start_time": "2024-08-21T15:45:33.549Z"
   },
   {
    "duration": 50,
    "start_time": "2024-08-21T15:45:33.560Z"
   },
   {
    "duration": 17,
    "start_time": "2024-08-21T15:45:33.613Z"
   },
   {
    "duration": 15,
    "start_time": "2024-08-21T15:45:33.633Z"
   },
   {
    "duration": 75,
    "start_time": "2024-08-21T15:45:33.654Z"
   },
   {
    "duration": 506,
    "start_time": "2024-08-21T15:45:33.733Z"
   },
   {
    "duration": 10,
    "start_time": "2024-08-21T15:45:34.242Z"
   },
   {
    "duration": 435,
    "start_time": "2024-08-21T15:45:34.256Z"
   },
   {
    "duration": 6,
    "start_time": "2024-08-21T15:45:34.694Z"
   },
   {
    "duration": 283,
    "start_time": "2024-08-21T15:45:34.704Z"
   },
   {
    "duration": 474,
    "start_time": "2024-08-21T15:45:34.989Z"
   },
   {
    "duration": 614,
    "start_time": "2024-08-21T15:45:35.466Z"
   },
   {
    "duration": 607,
    "start_time": "2024-08-21T15:45:36.083Z"
   },
   {
    "duration": 570,
    "start_time": "2024-08-21T15:45:36.693Z"
   },
   {
    "duration": 314,
    "start_time": "2024-08-21T15:45:37.266Z"
   },
   {
    "duration": 29,
    "start_time": "2024-08-21T15:45:37.583Z"
   },
   {
    "duration": 14,
    "start_time": "2024-08-21T15:45:37.616Z"
   },
   {
    "duration": 17,
    "start_time": "2024-08-21T15:45:37.633Z"
   },
   {
    "duration": 204,
    "start_time": "2024-08-21T15:57:42.852Z"
   },
   {
    "duration": 16,
    "start_time": "2024-08-21T15:59:40.699Z"
   },
   {
    "duration": 22,
    "start_time": "2024-08-21T16:00:03.755Z"
   },
   {
    "duration": 17,
    "start_time": "2024-08-21T16:00:46.215Z"
   },
   {
    "duration": 17,
    "start_time": "2024-08-21T16:05:05.465Z"
   },
   {
    "duration": 10,
    "start_time": "2024-08-21T16:05:16.469Z"
   },
   {
    "duration": 342,
    "start_time": "2024-08-21T16:05:43.282Z"
   },
   {
    "duration": 32,
    "start_time": "2024-08-21T16:14:17.913Z"
   },
   {
    "duration": 359,
    "start_time": "2024-08-21T16:14:34.759Z"
   },
   {
    "duration": 339,
    "start_time": "2024-08-21T16:21:08.689Z"
   },
   {
    "duration": 340,
    "start_time": "2024-08-21T16:22:44.679Z"
   },
   {
    "duration": 324,
    "start_time": "2024-08-21T17:12:21.027Z"
   },
   {
    "duration": 30,
    "start_time": "2024-08-21T17:14:13.162Z"
   },
   {
    "duration": 11,
    "start_time": "2024-08-21T17:17:50.352Z"
   },
   {
    "duration": 11,
    "start_time": "2024-08-21T17:33:27.627Z"
   },
   {
    "duration": 10,
    "start_time": "2024-08-21T18:05:41.623Z"
   },
   {
    "duration": 12,
    "start_time": "2024-08-21T18:06:10.886Z"
   },
   {
    "duration": 13,
    "start_time": "2024-08-21T18:07:32.177Z"
   },
   {
    "duration": 12,
    "start_time": "2024-08-21T18:15:30.450Z"
   },
   {
    "duration": 12,
    "start_time": "2024-08-21T18:19:53.003Z"
   },
   {
    "duration": 11,
    "start_time": "2024-08-21T18:23:48.627Z"
   },
   {
    "duration": 16,
    "start_time": "2024-08-21T18:24:50.698Z"
   },
   {
    "duration": 4,
    "start_time": "2024-08-21T22:48:30.202Z"
   },
   {
    "duration": 41,
    "start_time": "2024-08-21T22:48:30.211Z"
   },
   {
    "duration": 55,
    "start_time": "2024-08-21T22:48:30.256Z"
   },
   {
    "duration": 14,
    "start_time": "2024-08-21T22:48:30.314Z"
   },
   {
    "duration": 6,
    "start_time": "2024-08-21T22:48:30.334Z"
   },
   {
    "duration": 72,
    "start_time": "2024-08-21T22:48:30.348Z"
   },
   {
    "duration": 39,
    "start_time": "2024-08-21T22:48:30.427Z"
   },
   {
    "duration": 51,
    "start_time": "2024-08-21T22:48:30.470Z"
   },
   {
    "duration": 30,
    "start_time": "2024-08-21T22:48:30.525Z"
   },
   {
    "duration": 10,
    "start_time": "2024-08-21T22:48:30.559Z"
   },
   {
    "duration": 40,
    "start_time": "2024-08-21T22:48:30.573Z"
   },
   {
    "duration": 23,
    "start_time": "2024-08-21T22:48:30.616Z"
   },
   {
    "duration": 19,
    "start_time": "2024-08-21T22:48:30.644Z"
   },
   {
    "duration": 67,
    "start_time": "2024-08-21T22:48:30.668Z"
   },
   {
    "duration": 536,
    "start_time": "2024-08-21T22:48:30.742Z"
   },
   {
    "duration": 25,
    "start_time": "2024-08-21T22:48:31.281Z"
   },
   {
    "duration": 365,
    "start_time": "2024-08-21T22:48:31.308Z"
   },
   {
    "duration": 7,
    "start_time": "2024-08-21T22:48:31.676Z"
   },
   {
    "duration": 292,
    "start_time": "2024-08-21T22:48:31.685Z"
   },
   {
    "duration": 407,
    "start_time": "2024-08-21T22:48:31.981Z"
   },
   {
    "duration": 596,
    "start_time": "2024-08-21T22:48:32.391Z"
   },
   {
    "duration": 684,
    "start_time": "2024-08-21T22:48:32.990Z"
   },
   {
    "duration": 555,
    "start_time": "2024-08-21T22:48:33.677Z"
   },
   {
    "duration": 325,
    "start_time": "2024-08-21T22:48:34.235Z"
   },
   {
    "duration": 14,
    "start_time": "2024-08-21T22:48:34.563Z"
   },
   {
    "duration": 34,
    "start_time": "2024-08-21T22:48:34.580Z"
   },
   {
    "duration": 18,
    "start_time": "2024-08-21T22:48:34.617Z"
   },
   {
    "duration": 360,
    "start_time": "2024-08-21T22:48:34.638Z"
   },
   {
    "duration": 13,
    "start_time": "2024-08-21T22:48:35.006Z"
   },
   {
    "duration": 13,
    "start_time": "2024-08-21T22:48:35.022Z"
   },
   {
    "duration": 4909,
    "start_time": "2024-08-23T20:03:35.126Z"
   },
   {
    "duration": 4,
    "start_time": "2024-08-23T20:18:00.824Z"
   },
   {
    "duration": 59,
    "start_time": "2024-08-23T20:18:00.832Z"
   },
   {
    "duration": 19,
    "start_time": "2024-08-23T20:18:00.894Z"
   },
   {
    "duration": 14,
    "start_time": "2024-08-23T20:18:00.932Z"
   },
   {
    "duration": 4,
    "start_time": "2024-08-23T20:18:00.950Z"
   },
   {
    "duration": 19,
    "start_time": "2024-08-23T20:18:00.957Z"
   },
   {
    "duration": 58,
    "start_time": "2024-08-23T20:18:00.979Z"
   },
   {
    "duration": 12,
    "start_time": "2024-08-23T20:18:01.040Z"
   },
   {
    "duration": 20,
    "start_time": "2024-08-23T20:18:01.054Z"
   },
   {
    "duration": 8,
    "start_time": "2024-08-23T20:18:01.077Z"
   },
   {
    "duration": 44,
    "start_time": "2024-08-23T20:18:01.091Z"
   },
   {
    "duration": 17,
    "start_time": "2024-08-23T20:18:01.138Z"
   },
   {
    "duration": 14,
    "start_time": "2024-08-23T20:18:01.158Z"
   },
   {
    "duration": 75,
    "start_time": "2024-08-23T20:18:01.175Z"
   },
   {
    "duration": 524,
    "start_time": "2024-08-23T20:18:01.253Z"
   },
   {
    "duration": 15,
    "start_time": "2024-08-23T20:18:01.781Z"
   },
   {
    "duration": 410,
    "start_time": "2024-08-23T20:18:01.801Z"
   },
   {
    "duration": 6,
    "start_time": "2024-08-23T20:18:02.215Z"
   },
   {
    "duration": 288,
    "start_time": "2024-08-23T20:18:02.224Z"
   },
   {
    "duration": 412,
    "start_time": "2024-08-23T20:18:02.514Z"
   },
   {
    "duration": 673,
    "start_time": "2024-08-23T20:18:02.932Z"
   },
   {
    "duration": 599,
    "start_time": "2024-08-23T20:18:03.608Z"
   },
   {
    "duration": 542,
    "start_time": "2024-08-23T20:18:04.210Z"
   },
   {
    "duration": 308,
    "start_time": "2024-08-23T20:18:04.755Z"
   },
   {
    "duration": 15,
    "start_time": "2024-08-23T20:18:05.066Z"
   },
   {
    "duration": 13,
    "start_time": "2024-08-23T20:18:05.084Z"
   },
   {
    "duration": 46,
    "start_time": "2024-08-23T20:18:05.100Z"
   },
   {
    "duration": 344,
    "start_time": "2024-08-23T20:18:05.148Z"
   },
   {
    "duration": 14,
    "start_time": "2024-08-23T20:18:05.498Z"
   },
   {
    "duration": 13,
    "start_time": "2024-08-23T20:18:05.531Z"
   },
   {
    "duration": 11,
    "start_time": "2024-08-23T20:35:31.972Z"
   },
   {
    "duration": 10,
    "start_time": "2024-08-23T20:36:47.134Z"
   },
   {
    "duration": 15,
    "start_time": "2024-08-23T20:37:40.076Z"
   },
   {
    "duration": 11,
    "start_time": "2024-08-23T20:38:27.184Z"
   },
   {
    "duration": 16,
    "start_time": "2024-08-23T20:43:10.041Z"
   },
   {
    "duration": 7,
    "start_time": "2024-08-23T20:47:01.634Z"
   },
   {
    "duration": 5,
    "start_time": "2024-08-23T20:47:58.266Z"
   },
   {
    "duration": 5,
    "start_time": "2024-08-23T20:48:30.623Z"
   },
   {
    "duration": 4,
    "start_time": "2024-08-23T20:51:35.871Z"
   },
   {
    "duration": 51,
    "start_time": "2024-08-23T20:51:35.878Z"
   },
   {
    "duration": 17,
    "start_time": "2024-08-23T20:51:35.932Z"
   },
   {
    "duration": 12,
    "start_time": "2024-08-23T20:51:35.951Z"
   },
   {
    "duration": 4,
    "start_time": "2024-08-23T20:51:35.967Z"
   },
   {
    "duration": 18,
    "start_time": "2024-08-23T20:51:35.974Z"
   },
   {
    "duration": 50,
    "start_time": "2024-08-23T20:51:35.995Z"
   },
   {
    "duration": 10,
    "start_time": "2024-08-23T20:51:36.050Z"
   },
   {
    "duration": 16,
    "start_time": "2024-08-23T20:51:36.063Z"
   },
   {
    "duration": 49,
    "start_time": "2024-08-23T20:51:36.082Z"
   },
   {
    "duration": 9,
    "start_time": "2024-08-23T20:51:36.136Z"
   },
   {
    "duration": 15,
    "start_time": "2024-08-23T20:51:36.151Z"
   },
   {
    "duration": 13,
    "start_time": "2024-08-23T20:51:36.171Z"
   },
   {
    "duration": 75,
    "start_time": "2024-08-23T20:51:36.186Z"
   },
   {
    "duration": 495,
    "start_time": "2024-08-23T20:51:36.264Z"
   },
   {
    "duration": 13,
    "start_time": "2024-08-23T20:51:36.766Z"
   },
   {
    "duration": 381,
    "start_time": "2024-08-23T20:51:36.782Z"
   },
   {
    "duration": 7,
    "start_time": "2024-08-23T20:51:37.166Z"
   },
   {
    "duration": 298,
    "start_time": "2024-08-23T20:51:37.176Z"
   },
   {
    "duration": 475,
    "start_time": "2024-08-23T20:51:37.477Z"
   },
   {
    "duration": 600,
    "start_time": "2024-08-23T20:51:37.955Z"
   },
   {
    "duration": 586,
    "start_time": "2024-08-23T20:51:38.558Z"
   },
   {
    "duration": 563,
    "start_time": "2024-08-23T20:51:39.148Z"
   },
   {
    "duration": 320,
    "start_time": "2024-08-23T20:51:39.714Z"
   },
   {
    "duration": 15,
    "start_time": "2024-08-23T20:51:40.037Z"
   },
   {
    "duration": 15,
    "start_time": "2024-08-23T20:51:40.055Z"
   },
   {
    "duration": 18,
    "start_time": "2024-08-23T20:51:40.073Z"
   },
   {
    "duration": 355,
    "start_time": "2024-08-23T20:51:40.132Z"
   },
   {
    "duration": 16,
    "start_time": "2024-08-23T20:51:40.496Z"
   },
   {
    "duration": 31,
    "start_time": "2024-08-23T20:51:40.515Z"
   },
   {
    "duration": 4,
    "start_time": "2024-08-23T20:52:50.105Z"
   },
   {
    "duration": 37,
    "start_time": "2024-08-23T20:52:50.117Z"
   },
   {
    "duration": 18,
    "start_time": "2024-08-23T20:52:50.157Z"
   },
   {
    "duration": 10,
    "start_time": "2024-08-23T20:52:50.178Z"
   },
   {
    "duration": 6,
    "start_time": "2024-08-23T20:52:50.191Z"
   },
   {
    "duration": 19,
    "start_time": "2024-08-23T20:52:50.235Z"
   },
   {
    "duration": 18,
    "start_time": "2024-08-23T20:52:50.257Z"
   },
   {
    "duration": 11,
    "start_time": "2024-08-23T20:52:50.277Z"
   },
   {
    "duration": 15,
    "start_time": "2024-08-23T20:52:50.330Z"
   },
   {
    "duration": 10,
    "start_time": "2024-08-23T20:52:50.348Z"
   },
   {
    "duration": 8,
    "start_time": "2024-08-23T20:52:50.361Z"
   },
   {
    "duration": 16,
    "start_time": "2024-08-23T20:52:50.372Z"
   },
   {
    "duration": 16,
    "start_time": "2024-08-23T20:52:50.432Z"
   },
   {
    "duration": 34,
    "start_time": "2024-08-23T20:52:50.450Z"
   },
   {
    "duration": 579,
    "start_time": "2024-08-23T20:52:50.491Z"
   },
   {
    "duration": 10,
    "start_time": "2024-08-23T20:52:51.073Z"
   },
   {
    "duration": 379,
    "start_time": "2024-08-23T20:52:51.086Z"
   },
   {
    "duration": 7,
    "start_time": "2024-08-23T20:52:51.468Z"
   },
   {
    "duration": 297,
    "start_time": "2024-08-23T20:52:51.477Z"
   },
   {
    "duration": 425,
    "start_time": "2024-08-23T20:52:51.778Z"
   },
   {
    "duration": 630,
    "start_time": "2024-08-23T20:52:52.206Z"
   },
   {
    "duration": 607,
    "start_time": "2024-08-23T20:52:52.844Z"
   },
   {
    "duration": 555,
    "start_time": "2024-08-23T20:52:53.454Z"
   },
   {
    "duration": 307,
    "start_time": "2024-08-23T20:52:54.012Z"
   },
   {
    "duration": 19,
    "start_time": "2024-08-23T20:52:54.322Z"
   },
   {
    "duration": 16,
    "start_time": "2024-08-23T20:52:54.344Z"
   },
   {
    "duration": 18,
    "start_time": "2024-08-23T20:52:54.363Z"
   },
   {
    "duration": 466,
    "start_time": "2024-08-23T20:52:54.384Z"
   },
   {
    "duration": 14,
    "start_time": "2024-08-23T20:52:54.853Z"
   },
   {
    "duration": 16,
    "start_time": "2024-08-23T20:52:54.870Z"
   },
   {
    "duration": 4,
    "start_time": "2024-08-23T20:55:33.453Z"
   },
   {
    "duration": 36,
    "start_time": "2024-08-23T20:55:33.461Z"
   },
   {
    "duration": 31,
    "start_time": "2024-08-23T20:55:33.501Z"
   },
   {
    "duration": 10,
    "start_time": "2024-08-23T20:55:33.536Z"
   },
   {
    "duration": 4,
    "start_time": "2024-08-23T20:55:33.551Z"
   },
   {
    "duration": 19,
    "start_time": "2024-08-23T20:55:33.557Z"
   },
   {
    "duration": 55,
    "start_time": "2024-08-23T20:55:33.581Z"
   },
   {
    "duration": 14,
    "start_time": "2024-08-23T20:55:33.639Z"
   },
   {
    "duration": 16,
    "start_time": "2024-08-23T20:55:33.656Z"
   },
   {
    "duration": 8,
    "start_time": "2024-08-23T20:55:33.675Z"
   },
   {
    "duration": 7,
    "start_time": "2024-08-23T20:55:33.730Z"
   },
   {
    "duration": 15,
    "start_time": "2024-08-23T20:55:33.740Z"
   },
   {
    "duration": 15,
    "start_time": "2024-08-23T20:55:33.758Z"
   },
   {
    "duration": 70,
    "start_time": "2024-08-23T20:55:33.779Z"
   },
   {
    "duration": 497,
    "start_time": "2024-08-23T20:55:33.852Z"
   },
   {
    "duration": 10,
    "start_time": "2024-08-23T20:55:34.352Z"
   },
   {
    "duration": 385,
    "start_time": "2024-08-23T20:55:34.365Z"
   },
   {
    "duration": 7,
    "start_time": "2024-08-23T20:55:34.753Z"
   },
   {
    "duration": 299,
    "start_time": "2024-08-23T20:55:34.766Z"
   },
   {
    "duration": 405,
    "start_time": "2024-08-23T20:55:35.070Z"
   },
   {
    "duration": 613,
    "start_time": "2024-08-23T20:55:35.478Z"
   },
   {
    "duration": 600,
    "start_time": "2024-08-23T20:55:36.094Z"
   },
   {
    "duration": 624,
    "start_time": "2024-08-23T20:55:36.698Z"
   },
   {
    "duration": 302,
    "start_time": "2024-08-23T20:55:37.332Z"
   },
   {
    "duration": 15,
    "start_time": "2024-08-23T20:55:37.638Z"
   },
   {
    "duration": 15,
    "start_time": "2024-08-23T20:55:37.656Z"
   },
   {
    "duration": 18,
    "start_time": "2024-08-23T20:55:37.674Z"
   },
   {
    "duration": 333,
    "start_time": "2024-08-23T20:55:37.732Z"
   },
   {
    "duration": 14,
    "start_time": "2024-08-23T20:55:38.069Z"
   },
   {
    "duration": 46,
    "start_time": "2024-08-23T20:55:38.085Z"
   }
  ],
  "kernelspec": {
   "display_name": "Python 3 (ipykernel)",
   "language": "python",
   "name": "python3"
  },
  "language_info": {
   "codemirror_mode": {
    "name": "ipython",
    "version": 3
   },
   "file_extension": ".py",
   "mimetype": "text/x-python",
   "name": "python",
   "nbconvert_exporter": "python",
   "pygments_lexer": "ipython3",
   "version": "3.12.4"
  },
  "toc": {
   "base_numbering": 1,
   "nav_menu": {},
   "number_sections": true,
   "sideBar": true,
   "skip_h1_title": true,
   "title_cell": "Table of Contents",
   "title_sidebar": "Contents",
   "toc_cell": false,
   "toc_position": {},
   "toc_section_display": true,
   "toc_window_display": false
  }
 },
 "nbformat": 4,
 "nbformat_minor": 4
}
