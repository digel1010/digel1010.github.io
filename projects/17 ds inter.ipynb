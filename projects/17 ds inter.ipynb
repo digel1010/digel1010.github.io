{
 "cells": [
  {
   "cell_type": "markdown",
   "metadata": {},
   "source": [
    "# Descripción del proyecto"
   ]
  },
  {
   "cell_type": "markdown",
   "metadata": {},
   "source": [
    "Al operador de telecomunicaciones Interconnect le gustaría poder pronosticar su tasa de cancelación de clientes. Si se descubre que un usuario o usuaria planea irse, se le ofrecerán códigos promocionales y opciones de planes especiales. El equipo de marketing de Interconnect ha recopilado algunos de los datos personales de sus clientes, incluyendo información sobre sus planes y contratos.\n",
    "\n",
    "Interconnect proporciona principalmente dos tipos de servicios:\n",
    "\n",
    "1. Comunicación por teléfono fijo. El teléfono se puede conectar a varias líneas de manera simultánea.\n",
    "2. Internet. La red se puede configurar a través de una línea telefónica (DSL, *línea de abonado digital*) o a través de un cable de fibra óptica.\n",
    "\n",
    "Algunos otros servicios que ofrece la empresa incluyen:\n",
    "\n",
    "- Seguridad en Internet: software antivirus (*ProtecciónDeDispositivo*) y un bloqueador de sitios web maliciosos (*SeguridadEnLínea*).\n",
    "- Una línea de soporte técnico (*SoporteTécnico*).\n",
    "- Almacenamiento de archivos en la nube y backup de datos (*BackupOnline*).\n",
    "- Streaming de TV (*StreamingTV*) y directorio de películas (*StreamingPelículas*)\n",
    "\n",
    "La clientela puede elegir entre un pago mensual o firmar un contrato de 1 o 2 años. Puede utilizar varios métodos de pago y recibir una factura electrónica después de una transacción."
   ]
  },
  {
   "cell_type": "markdown",
   "metadata": {},
   "source": [
    "# Plan de trabajo\n",
    "\n",
    "**1. Cargar y preparar los datos:**\n",
    "\n",
    "-Combinar todas las tablas contract.csv, personal.csv, internet.csv y phone.csv usando la columna customerID como clave principal.\n",
    "\n",
    "-Limpiar los datos: manejar valores ausentes, duplicados y errores.\n",
    "\n",
    "-Crear nuevas características, si es necesario.\n",
    "\n",
    "-Realizar un resumen estadistico de las variables\n",
    "\n",
    "**2. Análisis exploratorio de datos (EDA):**\n",
    "\n",
    "-Visualizar la distribución de la variable objetivo.\n",
    "\n",
    "-Revisar correlación de las variables.\n",
    "\n",
    "-Revisar comportamiento de las variables categóricas.\n",
    "\n",
    "-Análisis de las inicializaciones y cancelaciones de contrato.\n",
    "\n",
    "**3. Ajuste y división de los datos:** \n",
    "\n",
    "-Dividir los datos en conjuntos de entrenamiento, validación y prueba\n",
    "\n",
    "-Codificar las variables categóricas.\n",
    "\n",
    "-Escalar las variables numéricas.\n",
    "\n",
    "-Balancear las clases\n",
    "\n",
    "**4. Entrenar y ajustar modelos:**\n",
    "\n",
    "-Entrenar al menos tres modelos de clasificación, como: regresión logística, árbol de decisión, bosque aleatorio, algun modelo basado en potenciación del gradiente (LightGBM, XGBoost o CatBoost).\n",
    "\n",
    "-Usa GridSearchCV o RandomizedSearchCV para optimizar los hiperparámetros.\n",
    "\n",
    "**5. Evaluar y comparar los modelos:**\n",
    "\n",
    "-Usar métricas como F1-score, AUC-ROC para evaluar los modelos.\n",
    "\n",
    "-Escoger el mejor modelo en función de las métricas y prueba de su rendimiento en el conjunto de prueba.\n"
   ]
  },
  {
   "cell_type": "markdown",
   "metadata": {},
   "source": [
    "## Inicialización"
   ]
  },
  {
   "cell_type": "code",
   "execution_count": 1,
   "metadata": {},
   "outputs": [],
   "source": [
    "# Cargar las librerias\n",
    "import pandas as pd\n",
    "from sklearn.model_selection import train_test_split\n",
    "\n",
    "import matplotlib.pyplot as plt\n",
    "import seaborn as sns\n",
    "\n",
    "from sklearn.tree import DecisionTreeClassifier\n",
    "from sklearn.ensemble import RandomForestClassifier\n",
    "from sklearn.linear_model import LogisticRegression\n",
    "\n",
    "from sklearn.metrics import f1_score\n",
    "from sklearn.metrics import roc_curve\n",
    "from sklearn.metrics import roc_auc_score\n",
    "from sklearn.metrics import precision_score, recall_score\n",
    "from sklearn.utils import shuffle\n",
    "from sklearn.preprocessing import StandardScaler\n",
    "from sklearn.preprocessing import OrdinalEncoder\n",
    "\n",
    "from sklearn.model_selection import GridSearchCV\n",
    "from lightgbm import LGBMClassifier\n",
    "from catboost import CatBoostClassifier"
   ]
  },
  {
   "cell_type": "code",
   "execution_count": 2,
   "metadata": {},
   "outputs": [],
   "source": [
    "# Cargar los datos\n",
    "contract = pd.read_csv('/datasets/final_provider/contract.csv')\n",
    "personal = pd.read_csv('/datasets/final_provider/personal.csv')\n",
    "internet = pd.read_csv('/datasets/final_provider/internet.csv')\n",
    "phone = pd.read_csv('/datasets/final_provider/phone.csv')"
   ]
  },
  {
   "cell_type": "markdown",
   "metadata": {},
   "source": [
    "## Preparación de los datos"
   ]
  },
  {
   "cell_type": "code",
   "execution_count": 3,
   "metadata": {
    "scrolled": false
   },
   "outputs": [
    {
     "name": "stdout",
     "output_type": "stream",
     "text": [
      "(7043, 8)\n",
      "(7043, 5)\n",
      "(5517, 8)\n",
      "(6361, 2)\n"
     ]
    }
   ],
   "source": [
    "# Validar las dimensiones de cada  dataframe \n",
    "for data in [contract, personal, internet, phone]:\n",
    "  print(data.shape)"
   ]
  },
  {
   "cell_type": "code",
   "execution_count": 4,
   "metadata": {},
   "outputs": [
    {
     "data": {
      "text/html": [
       "<div>\n",
       "<style scoped>\n",
       "    .dataframe tbody tr th:only-of-type {\n",
       "        vertical-align: middle;\n",
       "    }\n",
       "\n",
       "    .dataframe tbody tr th {\n",
       "        vertical-align: top;\n",
       "    }\n",
       "\n",
       "    .dataframe thead th {\n",
       "        text-align: right;\n",
       "    }\n",
       "</style>\n",
       "<table border=\"1\" class=\"dataframe\">\n",
       "  <thead>\n",
       "    <tr style=\"text-align: right;\">\n",
       "      <th></th>\n",
       "      <th>customerID</th>\n",
       "      <th>BeginDate</th>\n",
       "      <th>EndDate</th>\n",
       "      <th>Type</th>\n",
       "      <th>PaperlessBilling</th>\n",
       "      <th>PaymentMethod</th>\n",
       "      <th>MonthlyCharges</th>\n",
       "      <th>TotalCharges</th>\n",
       "    </tr>\n",
       "  </thead>\n",
       "  <tbody>\n",
       "    <tr>\n",
       "      <th>0</th>\n",
       "      <td>7590-VHVEG</td>\n",
       "      <td>2020-01-01</td>\n",
       "      <td>No</td>\n",
       "      <td>Month-to-month</td>\n",
       "      <td>Yes</td>\n",
       "      <td>Electronic check</td>\n",
       "      <td>29.85</td>\n",
       "      <td>29.85</td>\n",
       "    </tr>\n",
       "    <tr>\n",
       "      <th>1</th>\n",
       "      <td>5575-GNVDE</td>\n",
       "      <td>2017-04-01</td>\n",
       "      <td>No</td>\n",
       "      <td>One year</td>\n",
       "      <td>No</td>\n",
       "      <td>Mailed check</td>\n",
       "      <td>56.95</td>\n",
       "      <td>1889.5</td>\n",
       "    </tr>\n",
       "    <tr>\n",
       "      <th>2</th>\n",
       "      <td>3668-QPYBK</td>\n",
       "      <td>2019-10-01</td>\n",
       "      <td>2019-12-01 00:00:00</td>\n",
       "      <td>Month-to-month</td>\n",
       "      <td>Yes</td>\n",
       "      <td>Mailed check</td>\n",
       "      <td>53.85</td>\n",
       "      <td>108.15</td>\n",
       "    </tr>\n",
       "    <tr>\n",
       "      <th>3</th>\n",
       "      <td>7795-CFOCW</td>\n",
       "      <td>2016-05-01</td>\n",
       "      <td>No</td>\n",
       "      <td>One year</td>\n",
       "      <td>No</td>\n",
       "      <td>Bank transfer (automatic)</td>\n",
       "      <td>42.30</td>\n",
       "      <td>1840.75</td>\n",
       "    </tr>\n",
       "    <tr>\n",
       "      <th>4</th>\n",
       "      <td>9237-HQITU</td>\n",
       "      <td>2019-09-01</td>\n",
       "      <td>2019-11-01 00:00:00</td>\n",
       "      <td>Month-to-month</td>\n",
       "      <td>Yes</td>\n",
       "      <td>Electronic check</td>\n",
       "      <td>70.70</td>\n",
       "      <td>151.65</td>\n",
       "    </tr>\n",
       "  </tbody>\n",
       "</table>\n",
       "</div>"
      ],
      "text/plain": [
       "   customerID   BeginDate              EndDate            Type  \\\n",
       "0  7590-VHVEG  2020-01-01                   No  Month-to-month   \n",
       "1  5575-GNVDE  2017-04-01                   No        One year   \n",
       "2  3668-QPYBK  2019-10-01  2019-12-01 00:00:00  Month-to-month   \n",
       "3  7795-CFOCW  2016-05-01                   No        One year   \n",
       "4  9237-HQITU  2019-09-01  2019-11-01 00:00:00  Month-to-month   \n",
       "\n",
       "  PaperlessBilling              PaymentMethod  MonthlyCharges TotalCharges  \n",
       "0              Yes           Electronic check           29.85        29.85  \n",
       "1               No               Mailed check           56.95       1889.5  \n",
       "2              Yes               Mailed check           53.85       108.15  \n",
       "3               No  Bank transfer (automatic)           42.30      1840.75  \n",
       "4              Yes           Electronic check           70.70       151.65  "
      ]
     },
     "execution_count": 4,
     "metadata": {},
     "output_type": "execute_result"
    }
   ],
   "source": [
    "# Mostrar las primeras filas de cada conjunto de datos\n",
    "contract.head()"
   ]
  },
  {
   "cell_type": "code",
   "execution_count": 5,
   "metadata": {},
   "outputs": [
    {
     "data": {
      "text/html": [
       "<div>\n",
       "<style scoped>\n",
       "    .dataframe tbody tr th:only-of-type {\n",
       "        vertical-align: middle;\n",
       "    }\n",
       "\n",
       "    .dataframe tbody tr th {\n",
       "        vertical-align: top;\n",
       "    }\n",
       "\n",
       "    .dataframe thead th {\n",
       "        text-align: right;\n",
       "    }\n",
       "</style>\n",
       "<table border=\"1\" class=\"dataframe\">\n",
       "  <thead>\n",
       "    <tr style=\"text-align: right;\">\n",
       "      <th></th>\n",
       "      <th>customerID</th>\n",
       "      <th>gender</th>\n",
       "      <th>SeniorCitizen</th>\n",
       "      <th>Partner</th>\n",
       "      <th>Dependents</th>\n",
       "    </tr>\n",
       "  </thead>\n",
       "  <tbody>\n",
       "    <tr>\n",
       "      <th>0</th>\n",
       "      <td>7590-VHVEG</td>\n",
       "      <td>Female</td>\n",
       "      <td>0</td>\n",
       "      <td>Yes</td>\n",
       "      <td>No</td>\n",
       "    </tr>\n",
       "    <tr>\n",
       "      <th>1</th>\n",
       "      <td>5575-GNVDE</td>\n",
       "      <td>Male</td>\n",
       "      <td>0</td>\n",
       "      <td>No</td>\n",
       "      <td>No</td>\n",
       "    </tr>\n",
       "    <tr>\n",
       "      <th>2</th>\n",
       "      <td>3668-QPYBK</td>\n",
       "      <td>Male</td>\n",
       "      <td>0</td>\n",
       "      <td>No</td>\n",
       "      <td>No</td>\n",
       "    </tr>\n",
       "    <tr>\n",
       "      <th>3</th>\n",
       "      <td>7795-CFOCW</td>\n",
       "      <td>Male</td>\n",
       "      <td>0</td>\n",
       "      <td>No</td>\n",
       "      <td>No</td>\n",
       "    </tr>\n",
       "    <tr>\n",
       "      <th>4</th>\n",
       "      <td>9237-HQITU</td>\n",
       "      <td>Female</td>\n",
       "      <td>0</td>\n",
       "      <td>No</td>\n",
       "      <td>No</td>\n",
       "    </tr>\n",
       "  </tbody>\n",
       "</table>\n",
       "</div>"
      ],
      "text/plain": [
       "   customerID  gender  SeniorCitizen Partner Dependents\n",
       "0  7590-VHVEG  Female              0     Yes         No\n",
       "1  5575-GNVDE    Male              0      No         No\n",
       "2  3668-QPYBK    Male              0      No         No\n",
       "3  7795-CFOCW    Male              0      No         No\n",
       "4  9237-HQITU  Female              0      No         No"
      ]
     },
     "execution_count": 5,
     "metadata": {},
     "output_type": "execute_result"
    }
   ],
   "source": [
    "personal.head()"
   ]
  },
  {
   "cell_type": "code",
   "execution_count": 6,
   "metadata": {},
   "outputs": [
    {
     "data": {
      "text/html": [
       "<div>\n",
       "<style scoped>\n",
       "    .dataframe tbody tr th:only-of-type {\n",
       "        vertical-align: middle;\n",
       "    }\n",
       "\n",
       "    .dataframe tbody tr th {\n",
       "        vertical-align: top;\n",
       "    }\n",
       "\n",
       "    .dataframe thead th {\n",
       "        text-align: right;\n",
       "    }\n",
       "</style>\n",
       "<table border=\"1\" class=\"dataframe\">\n",
       "  <thead>\n",
       "    <tr style=\"text-align: right;\">\n",
       "      <th></th>\n",
       "      <th>customerID</th>\n",
       "      <th>InternetService</th>\n",
       "      <th>OnlineSecurity</th>\n",
       "      <th>OnlineBackup</th>\n",
       "      <th>DeviceProtection</th>\n",
       "      <th>TechSupport</th>\n",
       "      <th>StreamingTV</th>\n",
       "      <th>StreamingMovies</th>\n",
       "    </tr>\n",
       "  </thead>\n",
       "  <tbody>\n",
       "    <tr>\n",
       "      <th>0</th>\n",
       "      <td>7590-VHVEG</td>\n",
       "      <td>DSL</td>\n",
       "      <td>No</td>\n",
       "      <td>Yes</td>\n",
       "      <td>No</td>\n",
       "      <td>No</td>\n",
       "      <td>No</td>\n",
       "      <td>No</td>\n",
       "    </tr>\n",
       "    <tr>\n",
       "      <th>1</th>\n",
       "      <td>5575-GNVDE</td>\n",
       "      <td>DSL</td>\n",
       "      <td>Yes</td>\n",
       "      <td>No</td>\n",
       "      <td>Yes</td>\n",
       "      <td>No</td>\n",
       "      <td>No</td>\n",
       "      <td>No</td>\n",
       "    </tr>\n",
       "    <tr>\n",
       "      <th>2</th>\n",
       "      <td>3668-QPYBK</td>\n",
       "      <td>DSL</td>\n",
       "      <td>Yes</td>\n",
       "      <td>Yes</td>\n",
       "      <td>No</td>\n",
       "      <td>No</td>\n",
       "      <td>No</td>\n",
       "      <td>No</td>\n",
       "    </tr>\n",
       "    <tr>\n",
       "      <th>3</th>\n",
       "      <td>7795-CFOCW</td>\n",
       "      <td>DSL</td>\n",
       "      <td>Yes</td>\n",
       "      <td>No</td>\n",
       "      <td>Yes</td>\n",
       "      <td>Yes</td>\n",
       "      <td>No</td>\n",
       "      <td>No</td>\n",
       "    </tr>\n",
       "    <tr>\n",
       "      <th>4</th>\n",
       "      <td>9237-HQITU</td>\n",
       "      <td>Fiber optic</td>\n",
       "      <td>No</td>\n",
       "      <td>No</td>\n",
       "      <td>No</td>\n",
       "      <td>No</td>\n",
       "      <td>No</td>\n",
       "      <td>No</td>\n",
       "    </tr>\n",
       "  </tbody>\n",
       "</table>\n",
       "</div>"
      ],
      "text/plain": [
       "   customerID InternetService OnlineSecurity OnlineBackup DeviceProtection  \\\n",
       "0  7590-VHVEG             DSL             No          Yes               No   \n",
       "1  5575-GNVDE             DSL            Yes           No              Yes   \n",
       "2  3668-QPYBK             DSL            Yes          Yes               No   \n",
       "3  7795-CFOCW             DSL            Yes           No              Yes   \n",
       "4  9237-HQITU     Fiber optic             No           No               No   \n",
       "\n",
       "  TechSupport StreamingTV StreamingMovies  \n",
       "0          No          No              No  \n",
       "1          No          No              No  \n",
       "2          No          No              No  \n",
       "3         Yes          No              No  \n",
       "4          No          No              No  "
      ]
     },
     "execution_count": 6,
     "metadata": {},
     "output_type": "execute_result"
    }
   ],
   "source": [
    "internet.head()"
   ]
  },
  {
   "cell_type": "code",
   "execution_count": 7,
   "metadata": {},
   "outputs": [
    {
     "data": {
      "text/html": [
       "<div>\n",
       "<style scoped>\n",
       "    .dataframe tbody tr th:only-of-type {\n",
       "        vertical-align: middle;\n",
       "    }\n",
       "\n",
       "    .dataframe tbody tr th {\n",
       "        vertical-align: top;\n",
       "    }\n",
       "\n",
       "    .dataframe thead th {\n",
       "        text-align: right;\n",
       "    }\n",
       "</style>\n",
       "<table border=\"1\" class=\"dataframe\">\n",
       "  <thead>\n",
       "    <tr style=\"text-align: right;\">\n",
       "      <th></th>\n",
       "      <th>customerID</th>\n",
       "      <th>MultipleLines</th>\n",
       "    </tr>\n",
       "  </thead>\n",
       "  <tbody>\n",
       "    <tr>\n",
       "      <th>0</th>\n",
       "      <td>5575-GNVDE</td>\n",
       "      <td>No</td>\n",
       "    </tr>\n",
       "    <tr>\n",
       "      <th>1</th>\n",
       "      <td>3668-QPYBK</td>\n",
       "      <td>No</td>\n",
       "    </tr>\n",
       "    <tr>\n",
       "      <th>2</th>\n",
       "      <td>9237-HQITU</td>\n",
       "      <td>No</td>\n",
       "    </tr>\n",
       "    <tr>\n",
       "      <th>3</th>\n",
       "      <td>9305-CDSKC</td>\n",
       "      <td>Yes</td>\n",
       "    </tr>\n",
       "    <tr>\n",
       "      <th>4</th>\n",
       "      <td>1452-KIOVK</td>\n",
       "      <td>Yes</td>\n",
       "    </tr>\n",
       "  </tbody>\n",
       "</table>\n",
       "</div>"
      ],
      "text/plain": [
       "   customerID MultipleLines\n",
       "0  5575-GNVDE            No\n",
       "1  3668-QPYBK            No\n",
       "2  9237-HQITU            No\n",
       "3  9305-CDSKC           Yes\n",
       "4  1452-KIOVK           Yes"
      ]
     },
     "execution_count": 7,
     "metadata": {},
     "output_type": "execute_result"
    }
   ],
   "source": [
    "phone.head()"
   ]
  },
  {
   "cell_type": "code",
   "execution_count": 8,
   "metadata": {},
   "outputs": [
    {
     "name": "stdout",
     "output_type": "stream",
     "text": [
      "<class 'pandas.core.frame.DataFrame'>\n",
      "RangeIndex: 7043 entries, 0 to 7042\n",
      "Data columns (total 8 columns):\n",
      " #   Column            Non-Null Count  Dtype  \n",
      "---  ------            --------------  -----  \n",
      " 0   customerID        7043 non-null   object \n",
      " 1   BeginDate         7043 non-null   object \n",
      " 2   EndDate           7043 non-null   object \n",
      " 3   Type              7043 non-null   object \n",
      " 4   PaperlessBilling  7043 non-null   object \n",
      " 5   PaymentMethod     7043 non-null   object \n",
      " 6   MonthlyCharges    7043 non-null   float64\n",
      " 7   TotalCharges      7043 non-null   object \n",
      "dtypes: float64(1), object(7)\n",
      "memory usage: 440.3+ KB\n"
     ]
    }
   ],
   "source": [
    "# Validar informacion general de cada conjunto de datos\n",
    "contract.info()"
   ]
  },
  {
   "cell_type": "code",
   "execution_count": 9,
   "metadata": {},
   "outputs": [
    {
     "name": "stdout",
     "output_type": "stream",
     "text": [
      "<class 'pandas.core.frame.DataFrame'>\n",
      "RangeIndex: 7043 entries, 0 to 7042\n",
      "Data columns (total 5 columns):\n",
      " #   Column         Non-Null Count  Dtype \n",
      "---  ------         --------------  ----- \n",
      " 0   customerID     7043 non-null   object\n",
      " 1   gender         7043 non-null   object\n",
      " 2   SeniorCitizen  7043 non-null   int64 \n",
      " 3   Partner        7043 non-null   object\n",
      " 4   Dependents     7043 non-null   object\n",
      "dtypes: int64(1), object(4)\n",
      "memory usage: 275.2+ KB\n"
     ]
    }
   ],
   "source": [
    "personal.info()"
   ]
  },
  {
   "cell_type": "code",
   "execution_count": 10,
   "metadata": {},
   "outputs": [
    {
     "name": "stdout",
     "output_type": "stream",
     "text": [
      "<class 'pandas.core.frame.DataFrame'>\n",
      "RangeIndex: 5517 entries, 0 to 5516\n",
      "Data columns (total 8 columns):\n",
      " #   Column            Non-Null Count  Dtype \n",
      "---  ------            --------------  ----- \n",
      " 0   customerID        5517 non-null   object\n",
      " 1   InternetService   5517 non-null   object\n",
      " 2   OnlineSecurity    5517 non-null   object\n",
      " 3   OnlineBackup      5517 non-null   object\n",
      " 4   DeviceProtection  5517 non-null   object\n",
      " 5   TechSupport       5517 non-null   object\n",
      " 6   StreamingTV       5517 non-null   object\n",
      " 7   StreamingMovies   5517 non-null   object\n",
      "dtypes: object(8)\n",
      "memory usage: 344.9+ KB\n"
     ]
    }
   ],
   "source": [
    "internet.info()"
   ]
  },
  {
   "cell_type": "code",
   "execution_count": 11,
   "metadata": {},
   "outputs": [
    {
     "name": "stdout",
     "output_type": "stream",
     "text": [
      "<class 'pandas.core.frame.DataFrame'>\n",
      "RangeIndex: 6361 entries, 0 to 6360\n",
      "Data columns (total 2 columns):\n",
      " #   Column         Non-Null Count  Dtype \n",
      "---  ------         --------------  ----- \n",
      " 0   customerID     6361 non-null   object\n",
      " 1   MultipleLines  6361 non-null   object\n",
      "dtypes: object(2)\n",
      "memory usage: 99.5+ KB\n"
     ]
    }
   ],
   "source": [
    "phone.info()"
   ]
  },
  {
   "cell_type": "code",
   "execution_count": 12,
   "metadata": {},
   "outputs": [
    {
     "data": {
      "text/html": [
       "<div>\n",
       "<style scoped>\n",
       "    .dataframe tbody tr th:only-of-type {\n",
       "        vertical-align: middle;\n",
       "    }\n",
       "\n",
       "    .dataframe tbody tr th {\n",
       "        vertical-align: top;\n",
       "    }\n",
       "\n",
       "    .dataframe thead th {\n",
       "        text-align: right;\n",
       "    }\n",
       "</style>\n",
       "<table border=\"1\" class=\"dataframe\">\n",
       "  <thead>\n",
       "    <tr style=\"text-align: right;\">\n",
       "      <th></th>\n",
       "      <th>customerID</th>\n",
       "      <th>BeginDate</th>\n",
       "      <th>EndDate</th>\n",
       "      <th>Type</th>\n",
       "      <th>PaperlessBilling</th>\n",
       "      <th>PaymentMethod</th>\n",
       "      <th>MonthlyCharges</th>\n",
       "      <th>TotalCharges</th>\n",
       "      <th>gender</th>\n",
       "      <th>SeniorCitizen</th>\n",
       "      <th>Partner</th>\n",
       "      <th>Dependents</th>\n",
       "      <th>InternetService</th>\n",
       "      <th>OnlineSecurity</th>\n",
       "      <th>OnlineBackup</th>\n",
       "      <th>DeviceProtection</th>\n",
       "      <th>TechSupport</th>\n",
       "      <th>StreamingTV</th>\n",
       "      <th>StreamingMovies</th>\n",
       "      <th>MultipleLines</th>\n",
       "    </tr>\n",
       "  </thead>\n",
       "  <tbody>\n",
       "    <tr>\n",
       "      <th>0</th>\n",
       "      <td>7590-VHVEG</td>\n",
       "      <td>2020-01-01</td>\n",
       "      <td>No</td>\n",
       "      <td>Month-to-month</td>\n",
       "      <td>Yes</td>\n",
       "      <td>Electronic check</td>\n",
       "      <td>29.85</td>\n",
       "      <td>29.85</td>\n",
       "      <td>Female</td>\n",
       "      <td>0</td>\n",
       "      <td>Yes</td>\n",
       "      <td>No</td>\n",
       "      <td>DSL</td>\n",
       "      <td>No</td>\n",
       "      <td>Yes</td>\n",
       "      <td>No</td>\n",
       "      <td>No</td>\n",
       "      <td>No</td>\n",
       "      <td>No</td>\n",
       "      <td>NaN</td>\n",
       "    </tr>\n",
       "    <tr>\n",
       "      <th>1</th>\n",
       "      <td>5575-GNVDE</td>\n",
       "      <td>2017-04-01</td>\n",
       "      <td>No</td>\n",
       "      <td>One year</td>\n",
       "      <td>No</td>\n",
       "      <td>Mailed check</td>\n",
       "      <td>56.95</td>\n",
       "      <td>1889.5</td>\n",
       "      <td>Male</td>\n",
       "      <td>0</td>\n",
       "      <td>No</td>\n",
       "      <td>No</td>\n",
       "      <td>DSL</td>\n",
       "      <td>Yes</td>\n",
       "      <td>No</td>\n",
       "      <td>Yes</td>\n",
       "      <td>No</td>\n",
       "      <td>No</td>\n",
       "      <td>No</td>\n",
       "      <td>No</td>\n",
       "    </tr>\n",
       "    <tr>\n",
       "      <th>2</th>\n",
       "      <td>3668-QPYBK</td>\n",
       "      <td>2019-10-01</td>\n",
       "      <td>2019-12-01 00:00:00</td>\n",
       "      <td>Month-to-month</td>\n",
       "      <td>Yes</td>\n",
       "      <td>Mailed check</td>\n",
       "      <td>53.85</td>\n",
       "      <td>108.15</td>\n",
       "      <td>Male</td>\n",
       "      <td>0</td>\n",
       "      <td>No</td>\n",
       "      <td>No</td>\n",
       "      <td>DSL</td>\n",
       "      <td>Yes</td>\n",
       "      <td>Yes</td>\n",
       "      <td>No</td>\n",
       "      <td>No</td>\n",
       "      <td>No</td>\n",
       "      <td>No</td>\n",
       "      <td>No</td>\n",
       "    </tr>\n",
       "    <tr>\n",
       "      <th>3</th>\n",
       "      <td>7795-CFOCW</td>\n",
       "      <td>2016-05-01</td>\n",
       "      <td>No</td>\n",
       "      <td>One year</td>\n",
       "      <td>No</td>\n",
       "      <td>Bank transfer (automatic)</td>\n",
       "      <td>42.30</td>\n",
       "      <td>1840.75</td>\n",
       "      <td>Male</td>\n",
       "      <td>0</td>\n",
       "      <td>No</td>\n",
       "      <td>No</td>\n",
       "      <td>DSL</td>\n",
       "      <td>Yes</td>\n",
       "      <td>No</td>\n",
       "      <td>Yes</td>\n",
       "      <td>Yes</td>\n",
       "      <td>No</td>\n",
       "      <td>No</td>\n",
       "      <td>NaN</td>\n",
       "    </tr>\n",
       "    <tr>\n",
       "      <th>4</th>\n",
       "      <td>9237-HQITU</td>\n",
       "      <td>2019-09-01</td>\n",
       "      <td>2019-11-01 00:00:00</td>\n",
       "      <td>Month-to-month</td>\n",
       "      <td>Yes</td>\n",
       "      <td>Electronic check</td>\n",
       "      <td>70.70</td>\n",
       "      <td>151.65</td>\n",
       "      <td>Female</td>\n",
       "      <td>0</td>\n",
       "      <td>No</td>\n",
       "      <td>No</td>\n",
       "      <td>Fiber optic</td>\n",
       "      <td>No</td>\n",
       "      <td>No</td>\n",
       "      <td>No</td>\n",
       "      <td>No</td>\n",
       "      <td>No</td>\n",
       "      <td>No</td>\n",
       "      <td>No</td>\n",
       "    </tr>\n",
       "  </tbody>\n",
       "</table>\n",
       "</div>"
      ],
      "text/plain": [
       "   customerID   BeginDate              EndDate            Type  \\\n",
       "0  7590-VHVEG  2020-01-01                   No  Month-to-month   \n",
       "1  5575-GNVDE  2017-04-01                   No        One year   \n",
       "2  3668-QPYBK  2019-10-01  2019-12-01 00:00:00  Month-to-month   \n",
       "3  7795-CFOCW  2016-05-01                   No        One year   \n",
       "4  9237-HQITU  2019-09-01  2019-11-01 00:00:00  Month-to-month   \n",
       "\n",
       "  PaperlessBilling              PaymentMethod  MonthlyCharges TotalCharges  \\\n",
       "0              Yes           Electronic check           29.85        29.85   \n",
       "1               No               Mailed check           56.95       1889.5   \n",
       "2              Yes               Mailed check           53.85       108.15   \n",
       "3               No  Bank transfer (automatic)           42.30      1840.75   \n",
       "4              Yes           Electronic check           70.70       151.65   \n",
       "\n",
       "   gender  SeniorCitizen Partner Dependents InternetService OnlineSecurity  \\\n",
       "0  Female              0     Yes         No             DSL             No   \n",
       "1    Male              0      No         No             DSL            Yes   \n",
       "2    Male              0      No         No             DSL            Yes   \n",
       "3    Male              0      No         No             DSL            Yes   \n",
       "4  Female              0      No         No     Fiber optic             No   \n",
       "\n",
       "  OnlineBackup DeviceProtection TechSupport StreamingTV StreamingMovies  \\\n",
       "0          Yes               No          No          No              No   \n",
       "1           No              Yes          No          No              No   \n",
       "2          Yes               No          No          No              No   \n",
       "3           No              Yes         Yes          No              No   \n",
       "4           No               No          No          No              No   \n",
       "\n",
       "  MultipleLines  \n",
       "0           NaN  \n",
       "1            No  \n",
       "2            No  \n",
       "3           NaN  \n",
       "4            No  "
      ]
     },
     "execution_count": 12,
     "metadata": {},
     "output_type": "execute_result"
    }
   ],
   "source": [
    "# Fusionar todos los datos en una sola tabla\n",
    "df = contract.merge(personal, on='customerID', how='left') \\\n",
    "               .merge(internet, on='customerID', how='left') \\\n",
    "               .merge(phone, on='customerID', how='left')\n",
    "\n",
    "df.head()"
   ]
  },
  {
   "cell_type": "code",
   "execution_count": 13,
   "metadata": {},
   "outputs": [
    {
     "name": "stdout",
     "output_type": "stream",
     "text": [
      "<class 'pandas.core.frame.DataFrame'>\n",
      "Int64Index: 7043 entries, 0 to 7042\n",
      "Data columns (total 20 columns):\n",
      " #   Column            Non-Null Count  Dtype  \n",
      "---  ------            --------------  -----  \n",
      " 0   customerID        7043 non-null   object \n",
      " 1   BeginDate         7043 non-null   object \n",
      " 2   EndDate           7043 non-null   object \n",
      " 3   Type              7043 non-null   object \n",
      " 4   PaperlessBilling  7043 non-null   object \n",
      " 5   PaymentMethod     7043 non-null   object \n",
      " 6   MonthlyCharges    7043 non-null   float64\n",
      " 7   TotalCharges      7043 non-null   object \n",
      " 8   gender            7043 non-null   object \n",
      " 9   SeniorCitizen     7043 non-null   int64  \n",
      " 10  Partner           7043 non-null   object \n",
      " 11  Dependents        7043 non-null   object \n",
      " 12  InternetService   5517 non-null   object \n",
      " 13  OnlineSecurity    5517 non-null   object \n",
      " 14  OnlineBackup      5517 non-null   object \n",
      " 15  DeviceProtection  5517 non-null   object \n",
      " 16  TechSupport       5517 non-null   object \n",
      " 17  StreamingTV       5517 non-null   object \n",
      " 18  StreamingMovies   5517 non-null   object \n",
      " 19  MultipleLines     6361 non-null   object \n",
      "dtypes: float64(1), int64(1), object(18)\n",
      "memory usage: 1.1+ MB\n"
     ]
    }
   ],
   "source": [
    "#mostrar informacion del nuevo dataframe\n",
    "df.info()"
   ]
  },
  {
   "cell_type": "markdown",
   "metadata": {},
   "source": [
    "### Corrección de los datos"
   ]
  },
  {
   "cell_type": "code",
   "execution_count": 14,
   "metadata": {},
   "outputs": [
    {
     "name": "stdout",
     "output_type": "stream",
     "text": [
      "<class 'pandas.core.frame.DataFrame'>\n",
      "Int64Index: 7043 entries, 0 to 7042\n",
      "Data columns (total 20 columns):\n",
      " #   Column             Non-Null Count  Dtype  \n",
      "---  ------             --------------  -----  \n",
      " 0   customer_id        7043 non-null   object \n",
      " 1   begin_date         7043 non-null   object \n",
      " 2   end_date           7043 non-null   object \n",
      " 3   type               7043 non-null   object \n",
      " 4   paperless_billing  7043 non-null   object \n",
      " 5   payment_method     7043 non-null   object \n",
      " 6   monthly_charges    7043 non-null   float64\n",
      " 7   total_charges      7043 non-null   object \n",
      " 8   gender             7043 non-null   object \n",
      " 9   senior_citizen     7043 non-null   int64  \n",
      " 10  partner            7043 non-null   object \n",
      " 11  dependents         7043 non-null   object \n",
      " 12  internet_service   5517 non-null   object \n",
      " 13  online_security    5517 non-null   object \n",
      " 14  online_backup      5517 non-null   object \n",
      " 15  device_protection  5517 non-null   object \n",
      " 16  tech_support       5517 non-null   object \n",
      " 17  streaming_tv       5517 non-null   object \n",
      " 18  streaming_movies   5517 non-null   object \n",
      " 19  multiple_lines     6361 non-null   object \n",
      "dtypes: float64(1), int64(1), object(18)\n",
      "memory usage: 1.1+ MB\n"
     ]
    }
   ],
   "source": [
    "# Cambiar nombres de columnas para que se vean de una forma mas uniforme\n",
    "\n",
    "# crear una lista con los nombres correctos\n",
    "new_columns = ['customer_id','begin_date', 'end_date', 'type', \n",
    "               'paperless_billing', 'payment_method', 'monthly_charges', 'total_charges', 'gender', 'senior_citizen', \n",
    "               'partner', 'dependents', 'internet_service', 'online_security', 'online_backup', 'device_protection', \n",
    "               'tech_support', 'streaming_tv', 'streaming_movies', 'multiple_lines']\n",
    "\n",
    "# Asignar los nuevos nombres de columnas\n",
    "df.columns = new_columns\n",
    "\n",
    "#Validar los cambios\n",
    "df.info()"
   ]
  },
  {
   "cell_type": "code",
   "execution_count": 15,
   "metadata": {},
   "outputs": [],
   "source": [
    "# Convertir la columna 'begin_date' a tipo datetime64[ns]\n",
    "df['begin_date'] = pd.to_datetime(df['begin_date'], errors='coerce')"
   ]
  },
  {
   "cell_type": "code",
   "execution_count": 16,
   "metadata": {
    "scrolled": true
   },
   "outputs": [
    {
     "data": {
      "text/plain": [
       "2405.05     1\n",
       "4896.35     1\n",
       "6129.65     1\n",
       "1249.25     1\n",
       "679.8       1\n",
       "           ..\n",
       "19.9        8\n",
       "20.05       8\n",
       "19.75       9\n",
       "           11\n",
       "20.2       11\n",
       "Name: total_charges, Length: 6531, dtype: int64"
      ]
     },
     "execution_count": 16,
     "metadata": {},
     "output_type": "execute_result"
    }
   ],
   "source": [
    "# Verificar si hay valores no numéricos en la columna total_charges\n",
    "df['total_charges'].value_counts().sort_values()"
   ]
  },
  {
   "cell_type": "code",
   "execution_count": 17,
   "metadata": {
    "scrolled": false
   },
   "outputs": [
    {
     "data": {
      "text/html": [
       "<div>\n",
       "<style scoped>\n",
       "    .dataframe tbody tr th:only-of-type {\n",
       "        vertical-align: middle;\n",
       "    }\n",
       "\n",
       "    .dataframe tbody tr th {\n",
       "        vertical-align: top;\n",
       "    }\n",
       "\n",
       "    .dataframe thead th {\n",
       "        text-align: right;\n",
       "    }\n",
       "</style>\n",
       "<table border=\"1\" class=\"dataframe\">\n",
       "  <thead>\n",
       "    <tr style=\"text-align: right;\">\n",
       "      <th></th>\n",
       "      <th>customer_id</th>\n",
       "      <th>begin_date</th>\n",
       "      <th>end_date</th>\n",
       "      <th>type</th>\n",
       "      <th>paperless_billing</th>\n",
       "      <th>payment_method</th>\n",
       "      <th>monthly_charges</th>\n",
       "      <th>total_charges</th>\n",
       "      <th>gender</th>\n",
       "      <th>senior_citizen</th>\n",
       "      <th>partner</th>\n",
       "      <th>dependents</th>\n",
       "      <th>internet_service</th>\n",
       "      <th>online_security</th>\n",
       "      <th>online_backup</th>\n",
       "      <th>device_protection</th>\n",
       "      <th>tech_support</th>\n",
       "      <th>streaming_tv</th>\n",
       "      <th>streaming_movies</th>\n",
       "      <th>multiple_lines</th>\n",
       "    </tr>\n",
       "  </thead>\n",
       "  <tbody>\n",
       "    <tr>\n",
       "      <th>488</th>\n",
       "      <td>4472-LVYGI</td>\n",
       "      <td>2020-02-01</td>\n",
       "      <td>No</td>\n",
       "      <td>Two year</td>\n",
       "      <td>Yes</td>\n",
       "      <td>Bank transfer (automatic)</td>\n",
       "      <td>52.55</td>\n",
       "      <td></td>\n",
       "      <td>Female</td>\n",
       "      <td>0</td>\n",
       "      <td>Yes</td>\n",
       "      <td>Yes</td>\n",
       "      <td>DSL</td>\n",
       "      <td>Yes</td>\n",
       "      <td>No</td>\n",
       "      <td>Yes</td>\n",
       "      <td>Yes</td>\n",
       "      <td>Yes</td>\n",
       "      <td>No</td>\n",
       "      <td>NaN</td>\n",
       "    </tr>\n",
       "    <tr>\n",
       "      <th>753</th>\n",
       "      <td>3115-CZMZD</td>\n",
       "      <td>2020-02-01</td>\n",
       "      <td>No</td>\n",
       "      <td>Two year</td>\n",
       "      <td>No</td>\n",
       "      <td>Mailed check</td>\n",
       "      <td>20.25</td>\n",
       "      <td></td>\n",
       "      <td>Male</td>\n",
       "      <td>0</td>\n",
       "      <td>No</td>\n",
       "      <td>Yes</td>\n",
       "      <td>NaN</td>\n",
       "      <td>NaN</td>\n",
       "      <td>NaN</td>\n",
       "      <td>NaN</td>\n",
       "      <td>NaN</td>\n",
       "      <td>NaN</td>\n",
       "      <td>NaN</td>\n",
       "      <td>No</td>\n",
       "    </tr>\n",
       "    <tr>\n",
       "      <th>936</th>\n",
       "      <td>5709-LVOEQ</td>\n",
       "      <td>2020-02-01</td>\n",
       "      <td>No</td>\n",
       "      <td>Two year</td>\n",
       "      <td>No</td>\n",
       "      <td>Mailed check</td>\n",
       "      <td>80.85</td>\n",
       "      <td></td>\n",
       "      <td>Female</td>\n",
       "      <td>0</td>\n",
       "      <td>Yes</td>\n",
       "      <td>Yes</td>\n",
       "      <td>DSL</td>\n",
       "      <td>Yes</td>\n",
       "      <td>Yes</td>\n",
       "      <td>Yes</td>\n",
       "      <td>No</td>\n",
       "      <td>Yes</td>\n",
       "      <td>Yes</td>\n",
       "      <td>No</td>\n",
       "    </tr>\n",
       "    <tr>\n",
       "      <th>1082</th>\n",
       "      <td>4367-NUYAO</td>\n",
       "      <td>2020-02-01</td>\n",
       "      <td>No</td>\n",
       "      <td>Two year</td>\n",
       "      <td>No</td>\n",
       "      <td>Mailed check</td>\n",
       "      <td>25.75</td>\n",
       "      <td></td>\n",
       "      <td>Male</td>\n",
       "      <td>0</td>\n",
       "      <td>Yes</td>\n",
       "      <td>Yes</td>\n",
       "      <td>NaN</td>\n",
       "      <td>NaN</td>\n",
       "      <td>NaN</td>\n",
       "      <td>NaN</td>\n",
       "      <td>NaN</td>\n",
       "      <td>NaN</td>\n",
       "      <td>NaN</td>\n",
       "      <td>Yes</td>\n",
       "    </tr>\n",
       "    <tr>\n",
       "      <th>1340</th>\n",
       "      <td>1371-DWPAZ</td>\n",
       "      <td>2020-02-01</td>\n",
       "      <td>No</td>\n",
       "      <td>Two year</td>\n",
       "      <td>No</td>\n",
       "      <td>Credit card (automatic)</td>\n",
       "      <td>56.05</td>\n",
       "      <td></td>\n",
       "      <td>Female</td>\n",
       "      <td>0</td>\n",
       "      <td>Yes</td>\n",
       "      <td>Yes</td>\n",
       "      <td>DSL</td>\n",
       "      <td>Yes</td>\n",
       "      <td>Yes</td>\n",
       "      <td>Yes</td>\n",
       "      <td>Yes</td>\n",
       "      <td>Yes</td>\n",
       "      <td>No</td>\n",
       "      <td>NaN</td>\n",
       "    </tr>\n",
       "    <tr>\n",
       "      <th>3331</th>\n",
       "      <td>7644-OMVMY</td>\n",
       "      <td>2020-02-01</td>\n",
       "      <td>No</td>\n",
       "      <td>Two year</td>\n",
       "      <td>No</td>\n",
       "      <td>Mailed check</td>\n",
       "      <td>19.85</td>\n",
       "      <td></td>\n",
       "      <td>Male</td>\n",
       "      <td>0</td>\n",
       "      <td>Yes</td>\n",
       "      <td>Yes</td>\n",
       "      <td>NaN</td>\n",
       "      <td>NaN</td>\n",
       "      <td>NaN</td>\n",
       "      <td>NaN</td>\n",
       "      <td>NaN</td>\n",
       "      <td>NaN</td>\n",
       "      <td>NaN</td>\n",
       "      <td>No</td>\n",
       "    </tr>\n",
       "    <tr>\n",
       "      <th>3826</th>\n",
       "      <td>3213-VVOLG</td>\n",
       "      <td>2020-02-01</td>\n",
       "      <td>No</td>\n",
       "      <td>Two year</td>\n",
       "      <td>No</td>\n",
       "      <td>Mailed check</td>\n",
       "      <td>25.35</td>\n",
       "      <td></td>\n",
       "      <td>Male</td>\n",
       "      <td>0</td>\n",
       "      <td>Yes</td>\n",
       "      <td>Yes</td>\n",
       "      <td>NaN</td>\n",
       "      <td>NaN</td>\n",
       "      <td>NaN</td>\n",
       "      <td>NaN</td>\n",
       "      <td>NaN</td>\n",
       "      <td>NaN</td>\n",
       "      <td>NaN</td>\n",
       "      <td>Yes</td>\n",
       "    </tr>\n",
       "    <tr>\n",
       "      <th>4380</th>\n",
       "      <td>2520-SGTTA</td>\n",
       "      <td>2020-02-01</td>\n",
       "      <td>No</td>\n",
       "      <td>Two year</td>\n",
       "      <td>No</td>\n",
       "      <td>Mailed check</td>\n",
       "      <td>20.00</td>\n",
       "      <td></td>\n",
       "      <td>Female</td>\n",
       "      <td>0</td>\n",
       "      <td>Yes</td>\n",
       "      <td>Yes</td>\n",
       "      <td>NaN</td>\n",
       "      <td>NaN</td>\n",
       "      <td>NaN</td>\n",
       "      <td>NaN</td>\n",
       "      <td>NaN</td>\n",
       "      <td>NaN</td>\n",
       "      <td>NaN</td>\n",
       "      <td>No</td>\n",
       "    </tr>\n",
       "    <tr>\n",
       "      <th>5218</th>\n",
       "      <td>2923-ARZLG</td>\n",
       "      <td>2020-02-01</td>\n",
       "      <td>No</td>\n",
       "      <td>One year</td>\n",
       "      <td>Yes</td>\n",
       "      <td>Mailed check</td>\n",
       "      <td>19.70</td>\n",
       "      <td></td>\n",
       "      <td>Male</td>\n",
       "      <td>0</td>\n",
       "      <td>Yes</td>\n",
       "      <td>Yes</td>\n",
       "      <td>NaN</td>\n",
       "      <td>NaN</td>\n",
       "      <td>NaN</td>\n",
       "      <td>NaN</td>\n",
       "      <td>NaN</td>\n",
       "      <td>NaN</td>\n",
       "      <td>NaN</td>\n",
       "      <td>No</td>\n",
       "    </tr>\n",
       "    <tr>\n",
       "      <th>6670</th>\n",
       "      <td>4075-WKNIU</td>\n",
       "      <td>2020-02-01</td>\n",
       "      <td>No</td>\n",
       "      <td>Two year</td>\n",
       "      <td>No</td>\n",
       "      <td>Mailed check</td>\n",
       "      <td>73.35</td>\n",
       "      <td></td>\n",
       "      <td>Female</td>\n",
       "      <td>0</td>\n",
       "      <td>Yes</td>\n",
       "      <td>Yes</td>\n",
       "      <td>DSL</td>\n",
       "      <td>No</td>\n",
       "      <td>Yes</td>\n",
       "      <td>Yes</td>\n",
       "      <td>Yes</td>\n",
       "      <td>Yes</td>\n",
       "      <td>No</td>\n",
       "      <td>Yes</td>\n",
       "    </tr>\n",
       "    <tr>\n",
       "      <th>6754</th>\n",
       "      <td>2775-SEFEE</td>\n",
       "      <td>2020-02-01</td>\n",
       "      <td>No</td>\n",
       "      <td>Two year</td>\n",
       "      <td>Yes</td>\n",
       "      <td>Bank transfer (automatic)</td>\n",
       "      <td>61.90</td>\n",
       "      <td></td>\n",
       "      <td>Male</td>\n",
       "      <td>0</td>\n",
       "      <td>No</td>\n",
       "      <td>Yes</td>\n",
       "      <td>DSL</td>\n",
       "      <td>Yes</td>\n",
       "      <td>Yes</td>\n",
       "      <td>No</td>\n",
       "      <td>Yes</td>\n",
       "      <td>No</td>\n",
       "      <td>No</td>\n",
       "      <td>Yes</td>\n",
       "    </tr>\n",
       "  </tbody>\n",
       "</table>\n",
       "</div>"
      ],
      "text/plain": [
       "     customer_id begin_date end_date      type paperless_billing  \\\n",
       "488   4472-LVYGI 2020-02-01       No  Two year               Yes   \n",
       "753   3115-CZMZD 2020-02-01       No  Two year                No   \n",
       "936   5709-LVOEQ 2020-02-01       No  Two year                No   \n",
       "1082  4367-NUYAO 2020-02-01       No  Two year                No   \n",
       "1340  1371-DWPAZ 2020-02-01       No  Two year                No   \n",
       "3331  7644-OMVMY 2020-02-01       No  Two year                No   \n",
       "3826  3213-VVOLG 2020-02-01       No  Two year                No   \n",
       "4380  2520-SGTTA 2020-02-01       No  Two year                No   \n",
       "5218  2923-ARZLG 2020-02-01       No  One year               Yes   \n",
       "6670  4075-WKNIU 2020-02-01       No  Two year                No   \n",
       "6754  2775-SEFEE 2020-02-01       No  Two year               Yes   \n",
       "\n",
       "                 payment_method  monthly_charges total_charges  gender  \\\n",
       "488   Bank transfer (automatic)            52.55                Female   \n",
       "753                Mailed check            20.25                  Male   \n",
       "936                Mailed check            80.85                Female   \n",
       "1082               Mailed check            25.75                  Male   \n",
       "1340    Credit card (automatic)            56.05                Female   \n",
       "3331               Mailed check            19.85                  Male   \n",
       "3826               Mailed check            25.35                  Male   \n",
       "4380               Mailed check            20.00                Female   \n",
       "5218               Mailed check            19.70                  Male   \n",
       "6670               Mailed check            73.35                Female   \n",
       "6754  Bank transfer (automatic)            61.90                  Male   \n",
       "\n",
       "      senior_citizen partner dependents internet_service online_security  \\\n",
       "488                0     Yes        Yes              DSL             Yes   \n",
       "753                0      No        Yes              NaN             NaN   \n",
       "936                0     Yes        Yes              DSL             Yes   \n",
       "1082               0     Yes        Yes              NaN             NaN   \n",
       "1340               0     Yes        Yes              DSL             Yes   \n",
       "3331               0     Yes        Yes              NaN             NaN   \n",
       "3826               0     Yes        Yes              NaN             NaN   \n",
       "4380               0     Yes        Yes              NaN             NaN   \n",
       "5218               0     Yes        Yes              NaN             NaN   \n",
       "6670               0     Yes        Yes              DSL              No   \n",
       "6754               0      No        Yes              DSL             Yes   \n",
       "\n",
       "     online_backup device_protection tech_support streaming_tv  \\\n",
       "488             No               Yes          Yes          Yes   \n",
       "753            NaN               NaN          NaN          NaN   \n",
       "936            Yes               Yes           No          Yes   \n",
       "1082           NaN               NaN          NaN          NaN   \n",
       "1340           Yes               Yes          Yes          Yes   \n",
       "3331           NaN               NaN          NaN          NaN   \n",
       "3826           NaN               NaN          NaN          NaN   \n",
       "4380           NaN               NaN          NaN          NaN   \n",
       "5218           NaN               NaN          NaN          NaN   \n",
       "6670           Yes               Yes          Yes          Yes   \n",
       "6754           Yes                No          Yes           No   \n",
       "\n",
       "     streaming_movies multiple_lines  \n",
       "488                No            NaN  \n",
       "753               NaN             No  \n",
       "936               Yes             No  \n",
       "1082              NaN            Yes  \n",
       "1340               No            NaN  \n",
       "3331              NaN             No  \n",
       "3826              NaN            Yes  \n",
       "4380              NaN             No  \n",
       "5218              NaN             No  \n",
       "6670               No            Yes  \n",
       "6754               No            Yes  "
      ]
     },
     "execution_count": 17,
     "metadata": {},
     "output_type": "execute_result"
    }
   ],
   "source": [
    "# Filtrar filas donde la columna 'total_charges' contiene un espacio en blanco \n",
    "df[df['total_charges'] == ' ']"
   ]
  },
  {
   "cell_type": "markdown",
   "metadata": {},
   "source": [
    "Se procederá a eliminar las filas que contienen valores con espacios en blanco, ya que son un total de 11 registros. Dado que estos valores son mínimos, no afectarán significativamente la eficacia del modelo"
   ]
  },
  {
   "cell_type": "code",
   "execution_count": 18,
   "metadata": {},
   "outputs": [],
   "source": [
    "# Reemplazar los valores con espacio en blanco (' ') por NaN\n",
    "df['total_charges'] = df['total_charges'].replace(' ', pd.NA)\n",
    "\n",
    "# Eliminar las filas con NaN en la columna 'total_charges'\n",
    "df = df.dropna(subset=['total_charges'])\n",
    "\n",
    "# Convertir la columna 'total_charges' a tipo float\n",
    "df['total_charges'] = df['total_charges'].astype(float)"
   ]
  },
  {
   "cell_type": "code",
   "execution_count": 19,
   "metadata": {},
   "outputs": [
    {
     "name": "stdout",
     "output_type": "stream",
     "text": [
      "<class 'pandas.core.frame.DataFrame'>\n",
      "Int64Index: 7032 entries, 0 to 7042\n",
      "Data columns (total 20 columns):\n",
      " #   Column             Non-Null Count  Dtype         \n",
      "---  ------             --------------  -----         \n",
      " 0   customer_id        7032 non-null   object        \n",
      " 1   begin_date         7032 non-null   datetime64[ns]\n",
      " 2   end_date           7032 non-null   object        \n",
      " 3   type               7032 non-null   object        \n",
      " 4   paperless_billing  7032 non-null   object        \n",
      " 5   payment_method     7032 non-null   object        \n",
      " 6   monthly_charges    7032 non-null   float64       \n",
      " 7   total_charges      7032 non-null   float64       \n",
      " 8   gender             7032 non-null   object        \n",
      " 9   senior_citizen     7032 non-null   int64         \n",
      " 10  partner            7032 non-null   object        \n",
      " 11  dependents         7032 non-null   object        \n",
      " 12  internet_service   5512 non-null   object        \n",
      " 13  online_security    5512 non-null   object        \n",
      " 14  online_backup      5512 non-null   object        \n",
      " 15  device_protection  5512 non-null   object        \n",
      " 16  tech_support       5512 non-null   object        \n",
      " 17  streaming_tv       5512 non-null   object        \n",
      " 18  streaming_movies   5512 non-null   object        \n",
      " 19  multiple_lines     6352 non-null   object        \n",
      "dtypes: datetime64[ns](1), float64(2), int64(1), object(16)\n",
      "memory usage: 1.1+ MB\n"
     ]
    }
   ],
   "source": [
    "df.info()"
   ]
  },
  {
   "cell_type": "markdown",
   "metadata": {},
   "source": [
    "### Duplicados y valores ausentes"
   ]
  },
  {
   "cell_type": "code",
   "execution_count": 20,
   "metadata": {},
   "outputs": [
    {
     "data": {
      "text/plain": [
       "0"
      ]
     },
     "execution_count": 20,
     "metadata": {},
     "output_type": "execute_result"
    }
   ],
   "source": [
    "#Validar valores duplicados\n",
    "df.duplicated().sum()"
   ]
  },
  {
   "cell_type": "code",
   "execution_count": 21,
   "metadata": {},
   "outputs": [
    {
     "data": {
      "text/plain": [
       "customer_id             0\n",
       "begin_date              0\n",
       "end_date                0\n",
       "type                    0\n",
       "paperless_billing       0\n",
       "payment_method          0\n",
       "monthly_charges         0\n",
       "total_charges           0\n",
       "gender                  0\n",
       "senior_citizen          0\n",
       "partner                 0\n",
       "dependents              0\n",
       "internet_service     1520\n",
       "online_security      1520\n",
       "online_backup        1520\n",
       "device_protection    1520\n",
       "tech_support         1520\n",
       "streaming_tv         1520\n",
       "streaming_movies     1520\n",
       "multiple_lines        680\n",
       "dtype: int64"
      ]
     },
     "execution_count": 21,
     "metadata": {},
     "output_type": "execute_result"
    }
   ],
   "source": [
    "#Validar valores ausentes\n",
    "df.isna().sum()"
   ]
  },
  {
   "cell_type": "code",
   "execution_count": 22,
   "metadata": {},
   "outputs": [
    {
     "data": {
      "text/plain": [
       "array(['DSL', 'Fiber optic', nan], dtype=object)"
      ]
     },
     "execution_count": 22,
     "metadata": {},
     "output_type": "execute_result"
    }
   ],
   "source": [
    "# Revisar valores unicos en la columna internet_service\n",
    "df['internet_service'].unique()"
   ]
  },
  {
   "cell_type": "code",
   "execution_count": 23,
   "metadata": {},
   "outputs": [
    {
     "data": {
      "text/plain": [
       "0"
      ]
     },
     "execution_count": 23,
     "metadata": {},
     "output_type": "execute_result"
    }
   ],
   "source": [
    "# Rellenar los valores ausentes de la columna internet_service por 'none'\n",
    "df['internet_service'].fillna('none', inplace= True)\n",
    "\n",
    "#verificar los cambios\n",
    "df['internet_service'].isna().sum()"
   ]
  },
  {
   "cell_type": "code",
   "execution_count": 24,
   "metadata": {},
   "outputs": [
    {
     "name": "stdout",
     "output_type": "stream",
     "text": [
      "<class 'pandas.core.frame.DataFrame'>\n",
      "Int64Index: 7032 entries, 0 to 7042\n",
      "Data columns (total 20 columns):\n",
      " #   Column             Non-Null Count  Dtype         \n",
      "---  ------             --------------  -----         \n",
      " 0   customer_id        7032 non-null   object        \n",
      " 1   begin_date         7032 non-null   datetime64[ns]\n",
      " 2   end_date           7032 non-null   object        \n",
      " 3   type               7032 non-null   object        \n",
      " 4   paperless_billing  7032 non-null   object        \n",
      " 5   payment_method     7032 non-null   object        \n",
      " 6   monthly_charges    7032 non-null   float64       \n",
      " 7   total_charges      7032 non-null   float64       \n",
      " 8   gender             7032 non-null   object        \n",
      " 9   senior_citizen     7032 non-null   int64         \n",
      " 10  partner            7032 non-null   object        \n",
      " 11  dependents         7032 non-null   object        \n",
      " 12  internet_service   7032 non-null   object        \n",
      " 13  online_security    7032 non-null   object        \n",
      " 14  online_backup      7032 non-null   object        \n",
      " 15  device_protection  7032 non-null   object        \n",
      " 16  tech_support       7032 non-null   object        \n",
      " 17  streaming_tv       7032 non-null   object        \n",
      " 18  streaming_movies   7032 non-null   object        \n",
      " 19  multiple_lines     7032 non-null   object        \n",
      "dtypes: datetime64[ns](1), float64(2), int64(1), object(16)\n",
      "memory usage: 1.1+ MB\n"
     ]
    }
   ],
   "source": [
    "# Rellenar los valores ausentes de las demas columnas por el valor de 0\n",
    "df.fillna(0, inplace= True)\n",
    "\n",
    "#Validar los cambios\n",
    "df.info()"
   ]
  },
  {
   "cell_type": "markdown",
   "metadata": {},
   "source": [
    "Se procederá a cambiar varias columnas con valores 'Yes' y 'No' por valores numéricos: 1 para 'Yes' y 0 para 'No'."
   ]
  },
  {
   "cell_type": "code",
   "execution_count": 25,
   "metadata": {},
   "outputs": [],
   "source": [
    "# Lista de columnas con valores 'Yes' y 'No'\n",
    "yn_columns = ['paperless_billing', 'partner', 'dependents', 'online_security', 'online_backup',\n",
    "              'device_protection', 'tech_support', 'streaming_tv', 'streaming_movies', 'multiple_lines']\n",
    "\n",
    "# Reemplazar 'Yes' por 1, 'No' por 0 \n",
    "df[yn_columns] = df[yn_columns].replace({'Yes': 1, 'No': 0})\n",
    "\n",
    "\n",
    "# Asegurarse que las columnas son de tipo entero\n",
    "df[yn_columns] = df[yn_columns].astype('int')\n"
   ]
  },
  {
   "cell_type": "code",
   "execution_count": 26,
   "metadata": {},
   "outputs": [
    {
     "name": "stdout",
     "output_type": "stream",
     "text": [
      "<class 'pandas.core.frame.DataFrame'>\n",
      "Int64Index: 7032 entries, 0 to 7042\n",
      "Data columns (total 20 columns):\n",
      " #   Column             Non-Null Count  Dtype         \n",
      "---  ------             --------------  -----         \n",
      " 0   customer_id        7032 non-null   object        \n",
      " 1   begin_date         7032 non-null   datetime64[ns]\n",
      " 2   end_date           7032 non-null   object        \n",
      " 3   type               7032 non-null   object        \n",
      " 4   paperless_billing  7032 non-null   int64         \n",
      " 5   payment_method     7032 non-null   object        \n",
      " 6   monthly_charges    7032 non-null   float64       \n",
      " 7   total_charges      7032 non-null   float64       \n",
      " 8   gender             7032 non-null   object        \n",
      " 9   senior_citizen     7032 non-null   int64         \n",
      " 10  partner            7032 non-null   int64         \n",
      " 11  dependents         7032 non-null   int64         \n",
      " 12  internet_service   7032 non-null   object        \n",
      " 13  online_security    7032 non-null   int64         \n",
      " 14  online_backup      7032 non-null   int64         \n",
      " 15  device_protection  7032 non-null   int64         \n",
      " 16  tech_support       7032 non-null   int64         \n",
      " 17  streaming_tv       7032 non-null   int64         \n",
      " 18  streaming_movies   7032 non-null   int64         \n",
      " 19  multiple_lines     7032 non-null   int64         \n",
      "dtypes: datetime64[ns](1), float64(2), int64(11), object(6)\n",
      "memory usage: 1.1+ MB\n"
     ]
    },
    {
     "data": {
      "text/html": [
       "<div>\n",
       "<style scoped>\n",
       "    .dataframe tbody tr th:only-of-type {\n",
       "        vertical-align: middle;\n",
       "    }\n",
       "\n",
       "    .dataframe tbody tr th {\n",
       "        vertical-align: top;\n",
       "    }\n",
       "\n",
       "    .dataframe thead th {\n",
       "        text-align: right;\n",
       "    }\n",
       "</style>\n",
       "<table border=\"1\" class=\"dataframe\">\n",
       "  <thead>\n",
       "    <tr style=\"text-align: right;\">\n",
       "      <th></th>\n",
       "      <th>customer_id</th>\n",
       "      <th>begin_date</th>\n",
       "      <th>end_date</th>\n",
       "      <th>type</th>\n",
       "      <th>paperless_billing</th>\n",
       "      <th>payment_method</th>\n",
       "      <th>monthly_charges</th>\n",
       "      <th>total_charges</th>\n",
       "      <th>gender</th>\n",
       "      <th>senior_citizen</th>\n",
       "      <th>partner</th>\n",
       "      <th>dependents</th>\n",
       "      <th>internet_service</th>\n",
       "      <th>online_security</th>\n",
       "      <th>online_backup</th>\n",
       "      <th>device_protection</th>\n",
       "      <th>tech_support</th>\n",
       "      <th>streaming_tv</th>\n",
       "      <th>streaming_movies</th>\n",
       "      <th>multiple_lines</th>\n",
       "    </tr>\n",
       "  </thead>\n",
       "  <tbody>\n",
       "    <tr>\n",
       "      <th>476</th>\n",
       "      <td>3780-DDGSE</td>\n",
       "      <td>2017-03-01</td>\n",
       "      <td>No</td>\n",
       "      <td>Month-to-month</td>\n",
       "      <td>1</td>\n",
       "      <td>Electronic check</td>\n",
       "      <td>76.05</td>\n",
       "      <td>2747.20</td>\n",
       "      <td>Male</td>\n",
       "      <td>1</td>\n",
       "      <td>1</td>\n",
       "      <td>1</td>\n",
       "      <td>DSL</td>\n",
       "      <td>0</td>\n",
       "      <td>1</td>\n",
       "      <td>0</td>\n",
       "      <td>1</td>\n",
       "      <td>1</td>\n",
       "      <td>1</td>\n",
       "      <td>0</td>\n",
       "    </tr>\n",
       "    <tr>\n",
       "      <th>5556</th>\n",
       "      <td>5364-EVNIB</td>\n",
       "      <td>2018-12-01</td>\n",
       "      <td>2020-01-01 00:00:00</td>\n",
       "      <td>Month-to-month</td>\n",
       "      <td>1</td>\n",
       "      <td>Electronic check</td>\n",
       "      <td>79.80</td>\n",
       "      <td>973.45</td>\n",
       "      <td>Male</td>\n",
       "      <td>0</td>\n",
       "      <td>0</td>\n",
       "      <td>0</td>\n",
       "      <td>Fiber optic</td>\n",
       "      <td>0</td>\n",
       "      <td>1</td>\n",
       "      <td>1</td>\n",
       "      <td>0</td>\n",
       "      <td>0</td>\n",
       "      <td>0</td>\n",
       "      <td>0</td>\n",
       "    </tr>\n",
       "    <tr>\n",
       "      <th>3439</th>\n",
       "      <td>0917-EZOLA</td>\n",
       "      <td>2013-10-01</td>\n",
       "      <td>2019-10-01 00:00:00</td>\n",
       "      <td>Two year</td>\n",
       "      <td>1</td>\n",
       "      <td>Bank transfer (automatic)</td>\n",
       "      <td>104.15</td>\n",
       "      <td>7689.95</td>\n",
       "      <td>Male</td>\n",
       "      <td>1</td>\n",
       "      <td>1</td>\n",
       "      <td>0</td>\n",
       "      <td>Fiber optic</td>\n",
       "      <td>0</td>\n",
       "      <td>1</td>\n",
       "      <td>1</td>\n",
       "      <td>0</td>\n",
       "      <td>1</td>\n",
       "      <td>1</td>\n",
       "      <td>1</td>\n",
       "    </tr>\n",
       "    <tr>\n",
       "      <th>4529</th>\n",
       "      <td>0423-UDIJQ</td>\n",
       "      <td>2019-05-01</td>\n",
       "      <td>No</td>\n",
       "      <td>Month-to-month</td>\n",
       "      <td>0</td>\n",
       "      <td>Mailed check</td>\n",
       "      <td>49.20</td>\n",
       "      <td>447.90</td>\n",
       "      <td>Male</td>\n",
       "      <td>1</td>\n",
       "      <td>0</td>\n",
       "      <td>0</td>\n",
       "      <td>DSL</td>\n",
       "      <td>0</td>\n",
       "      <td>0</td>\n",
       "      <td>0</td>\n",
       "      <td>1</td>\n",
       "      <td>0</td>\n",
       "      <td>0</td>\n",
       "      <td>0</td>\n",
       "    </tr>\n",
       "    <tr>\n",
       "      <th>5208</th>\n",
       "      <td>6502-KUGLL</td>\n",
       "      <td>2018-12-01</td>\n",
       "      <td>No</td>\n",
       "      <td>Month-to-month</td>\n",
       "      <td>0</td>\n",
       "      <td>Bank transfer (automatic)</td>\n",
       "      <td>59.45</td>\n",
       "      <td>780.85</td>\n",
       "      <td>Female</td>\n",
       "      <td>0</td>\n",
       "      <td>1</td>\n",
       "      <td>1</td>\n",
       "      <td>DSL</td>\n",
       "      <td>1</td>\n",
       "      <td>1</td>\n",
       "      <td>0</td>\n",
       "      <td>1</td>\n",
       "      <td>0</td>\n",
       "      <td>0</td>\n",
       "      <td>0</td>\n",
       "    </tr>\n",
       "  </tbody>\n",
       "</table>\n",
       "</div>"
      ],
      "text/plain": [
       "     customer_id begin_date             end_date            type  \\\n",
       "476   3780-DDGSE 2017-03-01                   No  Month-to-month   \n",
       "5556  5364-EVNIB 2018-12-01  2020-01-01 00:00:00  Month-to-month   \n",
       "3439  0917-EZOLA 2013-10-01  2019-10-01 00:00:00        Two year   \n",
       "4529  0423-UDIJQ 2019-05-01                   No  Month-to-month   \n",
       "5208  6502-KUGLL 2018-12-01                   No  Month-to-month   \n",
       "\n",
       "      paperless_billing             payment_method  monthly_charges  \\\n",
       "476                   1           Electronic check            76.05   \n",
       "5556                  1           Electronic check            79.80   \n",
       "3439                  1  Bank transfer (automatic)           104.15   \n",
       "4529                  0               Mailed check            49.20   \n",
       "5208                  0  Bank transfer (automatic)            59.45   \n",
       "\n",
       "      total_charges  gender  senior_citizen  partner  dependents  \\\n",
       "476         2747.20    Male               1        1           1   \n",
       "5556         973.45    Male               0        0           0   \n",
       "3439        7689.95    Male               1        1           0   \n",
       "4529         447.90    Male               1        0           0   \n",
       "5208         780.85  Female               0        1           1   \n",
       "\n",
       "     internet_service  online_security  online_backup  device_protection  \\\n",
       "476               DSL                0              1                  0   \n",
       "5556      Fiber optic                0              1                  1   \n",
       "3439      Fiber optic                0              1                  1   \n",
       "4529              DSL                0              0                  0   \n",
       "5208              DSL                1              1                  0   \n",
       "\n",
       "      tech_support  streaming_tv  streaming_movies  multiple_lines  \n",
       "476              1             1                 1               0  \n",
       "5556             0             0                 0               0  \n",
       "3439             0             1                 1               1  \n",
       "4529             1             0                 0               0  \n",
       "5208             1             0                 0               0  "
      ]
     },
     "execution_count": 26,
     "metadata": {},
     "output_type": "execute_result"
    }
   ],
   "source": [
    "# Validar los cambios y mostrar algunos datos del dataframe\n",
    "df.info()\n",
    "\n",
    "df.sample(5)"
   ]
  },
  {
   "cell_type": "code",
   "execution_count": 27,
   "metadata": {
    "scrolled": true
   },
   "outputs": [
    {
     "data": {
      "text/html": [
       "<div>\n",
       "<style scoped>\n",
       "    .dataframe tbody tr th:only-of-type {\n",
       "        vertical-align: middle;\n",
       "    }\n",
       "\n",
       "    .dataframe tbody tr th {\n",
       "        vertical-align: top;\n",
       "    }\n",
       "\n",
       "    .dataframe thead th {\n",
       "        text-align: right;\n",
       "    }\n",
       "</style>\n",
       "<table border=\"1\" class=\"dataframe\">\n",
       "  <thead>\n",
       "    <tr style=\"text-align: right;\">\n",
       "      <th></th>\n",
       "      <th>customer_id</th>\n",
       "      <th>begin_date</th>\n",
       "      <th>end_date</th>\n",
       "      <th>type</th>\n",
       "      <th>paperless_billing</th>\n",
       "      <th>payment_method</th>\n",
       "      <th>monthly_charges</th>\n",
       "      <th>total_charges</th>\n",
       "      <th>gender</th>\n",
       "      <th>senior_citizen</th>\n",
       "      <th>...</th>\n",
       "      <th>dependents</th>\n",
       "      <th>internet_service</th>\n",
       "      <th>online_security</th>\n",
       "      <th>online_backup</th>\n",
       "      <th>device_protection</th>\n",
       "      <th>tech_support</th>\n",
       "      <th>streaming_tv</th>\n",
       "      <th>streaming_movies</th>\n",
       "      <th>multiple_lines</th>\n",
       "      <th>churn</th>\n",
       "    </tr>\n",
       "  </thead>\n",
       "  <tbody>\n",
       "    <tr>\n",
       "      <th>0</th>\n",
       "      <td>7590-VHVEG</td>\n",
       "      <td>2020-01-01</td>\n",
       "      <td>No</td>\n",
       "      <td>Month-to-month</td>\n",
       "      <td>1</td>\n",
       "      <td>Electronic check</td>\n",
       "      <td>29.85</td>\n",
       "      <td>29.85</td>\n",
       "      <td>Female</td>\n",
       "      <td>0</td>\n",
       "      <td>...</td>\n",
       "      <td>0</td>\n",
       "      <td>DSL</td>\n",
       "      <td>0</td>\n",
       "      <td>1</td>\n",
       "      <td>0</td>\n",
       "      <td>0</td>\n",
       "      <td>0</td>\n",
       "      <td>0</td>\n",
       "      <td>0</td>\n",
       "      <td>0</td>\n",
       "    </tr>\n",
       "    <tr>\n",
       "      <th>1</th>\n",
       "      <td>5575-GNVDE</td>\n",
       "      <td>2017-04-01</td>\n",
       "      <td>No</td>\n",
       "      <td>One year</td>\n",
       "      <td>0</td>\n",
       "      <td>Mailed check</td>\n",
       "      <td>56.95</td>\n",
       "      <td>1889.50</td>\n",
       "      <td>Male</td>\n",
       "      <td>0</td>\n",
       "      <td>...</td>\n",
       "      <td>0</td>\n",
       "      <td>DSL</td>\n",
       "      <td>1</td>\n",
       "      <td>0</td>\n",
       "      <td>1</td>\n",
       "      <td>0</td>\n",
       "      <td>0</td>\n",
       "      <td>0</td>\n",
       "      <td>0</td>\n",
       "      <td>0</td>\n",
       "    </tr>\n",
       "    <tr>\n",
       "      <th>2</th>\n",
       "      <td>3668-QPYBK</td>\n",
       "      <td>2019-10-01</td>\n",
       "      <td>2019-12-01 00:00:00</td>\n",
       "      <td>Month-to-month</td>\n",
       "      <td>1</td>\n",
       "      <td>Mailed check</td>\n",
       "      <td>53.85</td>\n",
       "      <td>108.15</td>\n",
       "      <td>Male</td>\n",
       "      <td>0</td>\n",
       "      <td>...</td>\n",
       "      <td>0</td>\n",
       "      <td>DSL</td>\n",
       "      <td>1</td>\n",
       "      <td>1</td>\n",
       "      <td>0</td>\n",
       "      <td>0</td>\n",
       "      <td>0</td>\n",
       "      <td>0</td>\n",
       "      <td>0</td>\n",
       "      <td>1</td>\n",
       "    </tr>\n",
       "    <tr>\n",
       "      <th>3</th>\n",
       "      <td>7795-CFOCW</td>\n",
       "      <td>2016-05-01</td>\n",
       "      <td>No</td>\n",
       "      <td>One year</td>\n",
       "      <td>0</td>\n",
       "      <td>Bank transfer (automatic)</td>\n",
       "      <td>42.30</td>\n",
       "      <td>1840.75</td>\n",
       "      <td>Male</td>\n",
       "      <td>0</td>\n",
       "      <td>...</td>\n",
       "      <td>0</td>\n",
       "      <td>DSL</td>\n",
       "      <td>1</td>\n",
       "      <td>0</td>\n",
       "      <td>1</td>\n",
       "      <td>1</td>\n",
       "      <td>0</td>\n",
       "      <td>0</td>\n",
       "      <td>0</td>\n",
       "      <td>0</td>\n",
       "    </tr>\n",
       "    <tr>\n",
       "      <th>4</th>\n",
       "      <td>9237-HQITU</td>\n",
       "      <td>2019-09-01</td>\n",
       "      <td>2019-11-01 00:00:00</td>\n",
       "      <td>Month-to-month</td>\n",
       "      <td>1</td>\n",
       "      <td>Electronic check</td>\n",
       "      <td>70.70</td>\n",
       "      <td>151.65</td>\n",
       "      <td>Female</td>\n",
       "      <td>0</td>\n",
       "      <td>...</td>\n",
       "      <td>0</td>\n",
       "      <td>Fiber optic</td>\n",
       "      <td>0</td>\n",
       "      <td>0</td>\n",
       "      <td>0</td>\n",
       "      <td>0</td>\n",
       "      <td>0</td>\n",
       "      <td>0</td>\n",
       "      <td>0</td>\n",
       "      <td>1</td>\n",
       "    </tr>\n",
       "  </tbody>\n",
       "</table>\n",
       "<p>5 rows × 21 columns</p>\n",
       "</div>"
      ],
      "text/plain": [
       "  customer_id begin_date             end_date            type  \\\n",
       "0  7590-VHVEG 2020-01-01                   No  Month-to-month   \n",
       "1  5575-GNVDE 2017-04-01                   No        One year   \n",
       "2  3668-QPYBK 2019-10-01  2019-12-01 00:00:00  Month-to-month   \n",
       "3  7795-CFOCW 2016-05-01                   No        One year   \n",
       "4  9237-HQITU 2019-09-01  2019-11-01 00:00:00  Month-to-month   \n",
       "\n",
       "   paperless_billing             payment_method  monthly_charges  \\\n",
       "0                  1           Electronic check            29.85   \n",
       "1                  0               Mailed check            56.95   \n",
       "2                  1               Mailed check            53.85   \n",
       "3                  0  Bank transfer (automatic)            42.30   \n",
       "4                  1           Electronic check            70.70   \n",
       "\n",
       "   total_charges  gender  senior_citizen  ...  dependents  internet_service  \\\n",
       "0          29.85  Female               0  ...           0               DSL   \n",
       "1        1889.50    Male               0  ...           0               DSL   \n",
       "2         108.15    Male               0  ...           0               DSL   \n",
       "3        1840.75    Male               0  ...           0               DSL   \n",
       "4         151.65  Female               0  ...           0       Fiber optic   \n",
       "\n",
       "  online_security  online_backup  device_protection  tech_support  \\\n",
       "0               0              1                  0             0   \n",
       "1               1              0                  1             0   \n",
       "2               1              1                  0             0   \n",
       "3               1              0                  1             1   \n",
       "4               0              0                  0             0   \n",
       "\n",
       "   streaming_tv  streaming_movies  multiple_lines  churn  \n",
       "0             0                 0               0      0  \n",
       "1             0                 0               0      0  \n",
       "2             0                 0               0      1  \n",
       "3             0                 0               0      0  \n",
       "4             0                 0               0      1  \n",
       "\n",
       "[5 rows x 21 columns]"
      ]
     },
     "execution_count": 27,
     "metadata": {},
     "output_type": "execute_result"
    }
   ],
   "source": [
    "#crear la columna objetivo (churn) a partir de la columna end_date\n",
    "df['churn'] = (df['end_date'] != 'No').astype('int')\n",
    "df.head()"
   ]
  },
  {
   "cell_type": "markdown",
   "metadata": {},
   "source": [
    "### Resumen de las variables numericas"
   ]
  },
  {
   "cell_type": "code",
   "execution_count": 28,
   "metadata": {},
   "outputs": [
    {
     "data": {
      "text/html": [
       "<div>\n",
       "<style scoped>\n",
       "    .dataframe tbody tr th:only-of-type {\n",
       "        vertical-align: middle;\n",
       "    }\n",
       "\n",
       "    .dataframe tbody tr th {\n",
       "        vertical-align: top;\n",
       "    }\n",
       "\n",
       "    .dataframe thead th {\n",
       "        text-align: right;\n",
       "    }\n",
       "</style>\n",
       "<table border=\"1\" class=\"dataframe\">\n",
       "  <thead>\n",
       "    <tr style=\"text-align: right;\">\n",
       "      <th></th>\n",
       "      <th>monthly_charges</th>\n",
       "      <th>total_charges</th>\n",
       "    </tr>\n",
       "  </thead>\n",
       "  <tbody>\n",
       "    <tr>\n",
       "      <th>count</th>\n",
       "      <td>7032.000000</td>\n",
       "      <td>7032.000000</td>\n",
       "    </tr>\n",
       "    <tr>\n",
       "      <th>mean</th>\n",
       "      <td>64.798208</td>\n",
       "      <td>2283.300441</td>\n",
       "    </tr>\n",
       "    <tr>\n",
       "      <th>std</th>\n",
       "      <td>30.085974</td>\n",
       "      <td>2266.771362</td>\n",
       "    </tr>\n",
       "    <tr>\n",
       "      <th>min</th>\n",
       "      <td>18.250000</td>\n",
       "      <td>18.800000</td>\n",
       "    </tr>\n",
       "    <tr>\n",
       "      <th>25%</th>\n",
       "      <td>35.587500</td>\n",
       "      <td>401.450000</td>\n",
       "    </tr>\n",
       "    <tr>\n",
       "      <th>50%</th>\n",
       "      <td>70.350000</td>\n",
       "      <td>1397.475000</td>\n",
       "    </tr>\n",
       "    <tr>\n",
       "      <th>75%</th>\n",
       "      <td>89.862500</td>\n",
       "      <td>3794.737500</td>\n",
       "    </tr>\n",
       "    <tr>\n",
       "      <th>max</th>\n",
       "      <td>118.750000</td>\n",
       "      <td>8684.800000</td>\n",
       "    </tr>\n",
       "  </tbody>\n",
       "</table>\n",
       "</div>"
      ],
      "text/plain": [
       "       monthly_charges  total_charges\n",
       "count      7032.000000    7032.000000\n",
       "mean         64.798208    2283.300441\n",
       "std          30.085974    2266.771362\n",
       "min          18.250000      18.800000\n",
       "25%          35.587500     401.450000\n",
       "50%          70.350000    1397.475000\n",
       "75%          89.862500    3794.737500\n",
       "max         118.750000    8684.800000"
      ]
     },
     "execution_count": 28,
     "metadata": {},
     "output_type": "execute_result"
    }
   ],
   "source": [
    "# Estadisticas de las variables numericas\n",
    "df[['monthly_charges','total_charges']].describe()"
   ]
  },
  {
   "cell_type": "markdown",
   "metadata": {},
   "source": [
    "### Resumen de las variables categóricas"
   ]
  },
  {
   "cell_type": "code",
   "execution_count": 29,
   "metadata": {},
   "outputs": [
    {
     "data": {
      "text/html": [
       "<div>\n",
       "<style scoped>\n",
       "    .dataframe tbody tr th:only-of-type {\n",
       "        vertical-align: middle;\n",
       "    }\n",
       "\n",
       "    .dataframe tbody tr th {\n",
       "        vertical-align: top;\n",
       "    }\n",
       "\n",
       "    .dataframe thead th {\n",
       "        text-align: right;\n",
       "    }\n",
       "</style>\n",
       "<table border=\"1\" class=\"dataframe\">\n",
       "  <thead>\n",
       "    <tr style=\"text-align: right;\">\n",
       "      <th></th>\n",
       "      <th>type</th>\n",
       "      <th>payment_method</th>\n",
       "      <th>gender</th>\n",
       "      <th>internet_service</th>\n",
       "    </tr>\n",
       "  </thead>\n",
       "  <tbody>\n",
       "    <tr>\n",
       "      <th>count</th>\n",
       "      <td>7032</td>\n",
       "      <td>7032</td>\n",
       "      <td>7032</td>\n",
       "      <td>7032</td>\n",
       "    </tr>\n",
       "    <tr>\n",
       "      <th>unique</th>\n",
       "      <td>3</td>\n",
       "      <td>4</td>\n",
       "      <td>2</td>\n",
       "      <td>3</td>\n",
       "    </tr>\n",
       "    <tr>\n",
       "      <th>top</th>\n",
       "      <td>Month-to-month</td>\n",
       "      <td>Electronic check</td>\n",
       "      <td>Male</td>\n",
       "      <td>Fiber optic</td>\n",
       "    </tr>\n",
       "    <tr>\n",
       "      <th>freq</th>\n",
       "      <td>3875</td>\n",
       "      <td>2365</td>\n",
       "      <td>3549</td>\n",
       "      <td>3096</td>\n",
       "    </tr>\n",
       "  </tbody>\n",
       "</table>\n",
       "</div>"
      ],
      "text/plain": [
       "                  type    payment_method gender internet_service\n",
       "count             7032              7032   7032             7032\n",
       "unique               3                 4      2                3\n",
       "top     Month-to-month  Electronic check   Male      Fiber optic\n",
       "freq              3875              2365   3549             3096"
      ]
     },
     "execution_count": 29,
     "metadata": {},
     "output_type": "execute_result"
    }
   ],
   "source": [
    "# Estadisticas de las variables categóricas\n",
    "df[['type','payment_method', 'gender', 'internet_service']].describe()"
   ]
  },
  {
   "cell_type": "markdown",
   "metadata": {},
   "source": [
    "### Resumen de las variables con fechas"
   ]
  },
  {
   "cell_type": "code",
   "execution_count": 30,
   "metadata": {},
   "outputs": [
    {
     "data": {
      "text/plain": [
       "count                             7032\n",
       "mean     2017-04-28 23:14:44.641638400\n",
       "min                2013-10-01 00:00:00\n",
       "25%                2015-06-01 00:00:00\n",
       "50%                2017-09-01 00:00:00\n",
       "75%                2019-04-01 00:00:00\n",
       "max                2020-01-01 00:00:00\n",
       "Name: begin_date, dtype: object"
      ]
     },
     "execution_count": 30,
     "metadata": {},
     "output_type": "execute_result"
    }
   ],
   "source": [
    "# Estadisticas de las variables con fechas\n",
    "df['begin_date'].describe(datetime_is_numeric=True)\n",
    "     "
   ]
  },
  {
   "cell_type": "code",
   "execution_count": 31,
   "metadata": {},
   "outputs": [
    {
     "data": {
      "text/plain": [
       "False"
      ]
     },
     "execution_count": 31,
     "metadata": {},
     "output_type": "execute_result"
    }
   ],
   "source": [
    "# Verificar si las fechas estan en orden ascendente\n",
    "df['begin_date'].is_monotonic_increasing"
   ]
  },
  {
   "cell_type": "code",
   "execution_count": 32,
   "metadata": {},
   "outputs": [],
   "source": [
    "# Ordenar las fechas en orden ascendente\n",
    "df = df.sort_values('begin_date') "
   ]
  },
  {
   "cell_type": "markdown",
   "metadata": {},
   "source": [
    "Se observa que las fechas de inicio de los contratos abarcan desde el año 2013 hasta el año 2020."
   ]
  },
  {
   "cell_type": "code",
   "execution_count": 33,
   "metadata": {},
   "outputs": [
    {
     "data": {
      "text/plain": [
       "count                             1869\n",
       "mean     2019-11-15 21:31:18.009630720\n",
       "min                2019-10-01 00:00:00\n",
       "25%                2019-11-01 00:00:00\n",
       "50%                2019-11-01 00:00:00\n",
       "75%                2019-12-01 00:00:00\n",
       "max                2020-01-01 00:00:00\n",
       "Name: end_date, dtype: object"
      ]
     },
     "execution_count": 33,
     "metadata": {},
     "output_type": "execute_result"
    }
   ],
   "source": [
    "# Filtrar usuarios que han finalizado su contrato\n",
    "df_end_date = df[df['end_date'] != 'No'].copy()\n",
    "\n",
    "# Convertir la columna 'end_date' a tipo datetime para facilitar su análisis\n",
    "df_end_date['end_date'] = pd.to_datetime(df_end_date['end_date'])\n",
    "     \n",
    "\n",
    "# Estadisticas de la columna end_date\n",
    "df_end_date['end_date'].describe(datetime_is_numeric=True)"
   ]
  },
  {
   "cell_type": "markdown",
   "metadata": {},
   "source": [
    "Se observa que las fechas de terminación de los contratos oscilan entre 2019 y 2020, lo que indica que los clientes comenzaron a cancelar sus servicios en los últimos años."
   ]
  },
  {
   "cell_type": "markdown",
   "metadata": {},
   "source": [
    "## Análisis exploratorio de datos"
   ]
  },
  {
   "cell_type": "code",
   "execution_count": 34,
   "metadata": {},
   "outputs": [
    {
     "data": {
      "image/png": "[encoded data removed]",
      "text/plain": [
       "<Figure size 640x480 with 1 Axes>"
      ]
     },
     "metadata": {},
     "output_type": "display_data"
    }
   ],
   "source": [
    "# Visualizar la columna objetivo (churn)\n",
    "sns.countplot(data=df, x='churn') \n",
    "plt.title('Distribución de clientes que cancelaron el servicio')\n",
    "plt.show()"
   ]
  },
  {
   "cell_type": "code",
   "execution_count": 35,
   "metadata": {},
   "outputs": [
    {
     "data": {
      "text/plain": [
       "0    0.734215\n",
       "1    0.265785\n",
       "Name: churn, dtype: float64"
      ]
     },
     "execution_count": 35,
     "metadata": {},
     "output_type": "execute_result"
    }
   ],
   "source": [
    "# Proporción de los valores\n",
    "df['churn'].value_counts(normalize=True)"
   ]
  },
  {
   "cell_type": "markdown",
   "metadata": {},
   "source": [
    "Como se muestra en el gráfico, se puede observar que el 26.57% de los usuarios han cancelado el servicio"
   ]
  },
  {
   "cell_type": "markdown",
   "metadata": {},
   "source": [
    "### Correlación de las variables"
   ]
  },
  {
   "cell_type": "code",
   "execution_count": 36,
   "metadata": {
    "scrolled": false
   },
   "outputs": [
    {
     "data": {
      "image/png": "[encoded data removed]",
      "text/plain": [
       "<Figure size 1200x800 with 2 Axes>"
      ]
     },
     "metadata": {},
     "output_type": "display_data"
    }
   ],
   "source": [
    "# Correlación entre variables\n",
    "\n",
    "plt.figure(figsize=(12, 8)) # Ajustar el tamaño de la figura\n",
    "\n",
    "sns.heatmap(df.corr(), annot=True, fmt=\".2f\")\n",
    "plt.title('Matriz de correlación')\n",
    "plt.show()"
   ]
  },
  {
   "cell_type": "markdown",
   "metadata": {},
   "source": [
    "Vemos que las variables con mayor correlacion con la columna objetivo (churn) son: total_charges, monthly_charges, paperless_billing. \n",
    "\n",
    "En total_charges hay una correlación de -0.2, lo que sugiere una relación débil negativa entre el total de cargos y la cancelación del servicio. Es decir, los clientes con mayores cargos totales tienen una ligera tendencia a no cancelar el servicio. Aunque la correlación es baja, puede ser útil, especialmente en modelos predictivos, ya que refleja la duración de la relación con el cliente.\n",
    "\n",
    "En monthly_charges la correlación es de 0.19, una correlación positiva débil entre los cargos mensuales y la cancelación. Esto podría indicar que los clientes con mayores cargos mensuales son ligeramente más propensos a cancelar el servicio.\n",
    "\n",
    "En paperless_billing la correlación es de 0.19, esta variable muestra una correlación positiva débil con churn. Los clientes que usan la facturación electrónica tienen una ligera tendencia a cancelar el servicio, aunque no es una relación fuerte. \n",
    "\n",
    "las anteriores variables parecen tener una mayor influencia en la columna churn, aunque todas las correlaciones son débiles. Esto sugiere que, aunque algunos factores pueden estar relacionados con la cancelación del servicio, no existe una relación fuerte y única."
   ]
  },
  {
   "cell_type": "markdown",
   "metadata": {},
   "source": [
    "### Relación entre las variables categóricas y la variable objetivo"
   ]
  },
  {
   "cell_type": "code",
   "execution_count": 37,
   "metadata": {},
   "outputs": [
    {
     "data": {
      "image/png": "[encoded data removed]",
      "text/plain": [
       "<Figure size 1400x800 with 4 Axes>"
      ]
     },
     "metadata": {},
     "output_type": "display_data"
    }
   ],
   "source": [
    "fig, axes = plt.subplots(2, 2, figsize=(14, 8), sharey=True)\n",
    "fig.suptitle('Variables Categóricas vs Churn', fontsize=16)\n",
    "\n",
    "# Gráficos de barras\n",
    "sns.barplot(ax=axes[0, 0], data=df, x='type', y='churn')\n",
    "axes[0, 0].set_title('Type')\n",
    "axes[0, 0].set_ylabel('Proporción de Churn')\n",
    "\n",
    "sns.barplot(ax=axes[0, 1], data=df, x='payment_method', y='churn')\n",
    "axes[0, 1].set_title('Payment Method')\n",
    "axes[0, 1].set_ylabel('')\n",
    "\n",
    "sns.barplot(ax=axes[1, 0], data=df, x='gender', y='churn')\n",
    "axes[1, 0].set_title('Gender')\n",
    "axes[1, 0].set_ylabel('Proporción de Churn')\n",
    "\n",
    "sns.barplot(ax=axes[1, 1], data=df, x='internet_service', y='churn')\n",
    "axes[1, 1].set_title('Internet Service')\n",
    "axes[1, 1].set_ylabel('')\n",
    "\n",
    "# Ajustar etiquetas\n",
    "for ax in axes.flat:\n",
    "    ax.set_xlabel('')\n",
    "    ax.tick_params(axis='x', rotation=30)\n",
    "plt.ylim(0, 0.5)  # Asegurar consistencia en el eje Y\n",
    "plt.tight_layout(rect=[0, 0, 1, 0.95])  # Ajustar espacio para el título\n",
    "plt.show()\n"
   ]
  },
  {
   "cell_type": "markdown",
   "metadata": {},
   "source": [
    "Según las gráficas, se observa que en cuanto al tipo de pago, los clientes con contratos de 1 o 2 años presentan la menor proporción de cancelación del servicio.\n",
    "\n",
    "En el caso del método de pago, los clientes que pagan mediante cheque electrónico tienen la mayor proporción de cancelación del servicio, mientras que los demás métodos de pago mantienen proporciones similares.\n",
    "\n",
    "Respecto al género, no se evidencia una diferencia significativa; la tasa de cancelación del servicio es similar tanto para hombres como para mujeres.\n",
    "\n",
    "En cuanto al servicio de internet, los clientes que cuentan con fibra óptica presentan la mayor proporción de cancelación, con el doble de cancelaciones que los clientes que utilizan el servicio DSL."
   ]
  },
  {
   "cell_type": "markdown",
   "metadata": {},
   "source": [
    "### Análisis de las inicializaciones y cancelaciones de contrato"
   ]
  },
  {
   "cell_type": "markdown",
   "metadata": {},
   "source": [
    "#### Inicializaciones de contrato"
   ]
  },
  {
   "cell_type": "code",
   "execution_count": 38,
   "metadata": {
    "scrolled": true
   },
   "outputs": [
    {
     "data": {
      "text/plain": [
       "True"
      ]
     },
     "execution_count": 38,
     "metadata": {},
     "output_type": "execute_result"
    }
   ],
   "source": [
    "# Configurar begin_date como indice\n",
    "df.set_index(keys='begin_date', inplace= True)\n",
    "df_begin_date = df.copy() \n",
    "\n",
    "# Validar que las fechas estan en orden ascendente\n",
    "df_begin_date.index.is_monotonic_increasing"
   ]
  },
  {
   "cell_type": "code",
   "execution_count": 39,
   "metadata": {},
   "outputs": [
    {
     "data": {
      "image/png": "[encoded data removed]",
      "text/plain": [
       "<Figure size 1400x600 with 1 Axes>"
      ]
     },
     "metadata": {},
     "output_type": "display_data"
    },
    {
     "data": {
      "image/png": "[encoded data removed]",
      "text/plain": [
       "<Figure size 1400x600 with 1 Axes>"
      ]
     },
     "metadata": {},
     "output_type": "display_data"
    }
   ],
   "source": [
    "# Cantidad de contratos iniciados por mes\n",
    "df_begin_date.resample('1M')['churn'].count().plot(figsize=(14,6))\n",
    "plt.title('Contratos iniciados por mes')\n",
    "plt.show()\n",
    "\n",
    "\n",
    "# Cantidad de contratos iniciados por año\n",
    "df_begin_date.resample('1Y')['churn'].count().plot(figsize=(14,6))\n",
    "plt.title('Contratos iniciados por año')\n",
    "plt.show()\n",
    "     "
   ]
  },
  {
   "cell_type": "markdown",
   "metadata": {},
   "source": [
    "Al observar los contratos iniciados por año, se destaca un incremento significativo en 2014, que podría reflejar una fuerte captación de nuevos clientes. Sin embargo, después de 2014, la cantidad de contratos experimenta una disminución gradual hasta 2016-2017. En 2018 y 2019, se observa un crecimiento en la cantidad de contratos iniciados, con 2019 siendo el año de mayor crecimiento. Este aumento podría estar asociado con nuevas ofertas o campañas comerciales. No obstante, en 2020, se experimenta una caída drástica, con solo 233 contratos."
   ]
  },
  {
   "cell_type": "markdown",
   "metadata": {},
   "source": [
    "#### Cancelaciones de contrato"
   ]
  },
  {
   "cell_type": "code",
   "execution_count": 40,
   "metadata": {},
   "outputs": [],
   "source": [
    "# Configurar end_date como indice\n",
    "df_end_date1 = df_end_date.set_index('end_date')"
   ]
  },
  {
   "cell_type": "code",
   "execution_count": 41,
   "metadata": {},
   "outputs": [
    {
     "data": {
      "image/png": "[encoded data removed]",
      "text/plain": [
       "<Figure size 1400x400 with 1 Axes>"
      ]
     },
     "metadata": {},
     "output_type": "display_data"
    },
    {
     "data": {
      "image/png": "[encoded data removed]",
      "text/plain": [
       "<Figure size 1400x600 with 1 Axes>"
      ]
     },
     "metadata": {},
     "output_type": "display_data"
    }
   ],
   "source": [
    "# Cantidad de contratos cancelados por mes\n",
    "df_end_date1.resample('1M')['churn'].sum().plot(figsize=(14,4))\n",
    "plt.title('Contratos cancelados por mes')\n",
    "plt.show()\n",
    "\n",
    "# Cantidad de contratos cancelados por dia\n",
    "df_end_date1.resample('1D')['churn'].sum().plot(figsize=(14,6))\n",
    "plt.title('Contratos cancelados por dia')\n",
    "\n",
    "plt.show()"
   ]
  },
  {
   "cell_type": "markdown",
   "metadata": {},
   "source": [
    "Al observar los datos agrupados por mes, se evidencia que las cancelaciones se mantienen bastante estables, con un leve descenso en los últimos meses de 2019. Esto podría sugerir una tendencia estable a lo largo del tiempo.\n",
    "\n",
    "En cuanto a los datos diarios, se evidencia que las cancelaciones ocurren de manera puntual en fechas específicas, como al inicio de cada mes. Esto podría indicar que el proceso de cancelación de contratos está concentrado en ciertas fechas."
   ]
  },
  {
   "cell_type": "markdown",
   "metadata": {},
   "source": [
    "## Preparación y división de los datos"
   ]
  },
  {
   "cell_type": "markdown",
   "metadata": {},
   "source": [
    "Se validan las columnas que no seran relevantes para el entrenamiento del modelo, las cuales son: la columna customer_id, la columna gender que no muestra alguna influencia para nuestro objetivo, y la columna end_date ya que esta información se encuentra dentro de la columna objetivo (churn).\n",
    "\n",
    "Por lo anterior se procedera a eliminar dichas columnas para una mejor preparación del modelo."
   ]
  },
  {
   "cell_type": "code",
   "execution_count": 42,
   "metadata": {
    "scrolled": false
   },
   "outputs": [
    {
     "name": "stdout",
     "output_type": "stream",
     "text": [
      "<class 'pandas.core.frame.DataFrame'>\n",
      "DatetimeIndex: 7032 entries, 2013-10-01 to 2020-01-01\n",
      "Data columns (total 17 columns):\n",
      " #   Column             Non-Null Count  Dtype  \n",
      "---  ------             --------------  -----  \n",
      " 0   type               7032 non-null   object \n",
      " 1   paperless_billing  7032 non-null   int64  \n",
      " 2   payment_method     7032 non-null   object \n",
      " 3   monthly_charges    7032 non-null   float64\n",
      " 4   total_charges      7032 non-null   float64\n",
      " 5   senior_citizen     7032 non-null   int64  \n",
      " 6   partner            7032 non-null   int64  \n",
      " 7   dependents         7032 non-null   int64  \n",
      " 8   internet_service   7032 non-null   object \n",
      " 9   online_security    7032 non-null   int64  \n",
      " 10  online_backup      7032 non-null   int64  \n",
      " 11  device_protection  7032 non-null   int64  \n",
      " 12  tech_support       7032 non-null   int64  \n",
      " 13  streaming_tv       7032 non-null   int64  \n",
      " 14  streaming_movies   7032 non-null   int64  \n",
      " 15  multiple_lines     7032 non-null   int64  \n",
      " 16  churn              7032 non-null   int64  \n",
      "dtypes: float64(2), int64(12), object(3)\n",
      "memory usage: 988.9+ KB\n"
     ]
    }
   ],
   "source": [
    "# Eliminar columnas que son irrelevantes\n",
    "df = df.drop(['customer_id', 'gender', 'end_date'], axis=1)\n",
    "df.info()"
   ]
  },
  {
   "cell_type": "code",
   "execution_count": 43,
   "metadata": {},
   "outputs": [],
   "source": [
    "# Separar las caracteristicas y el objetivo\n",
    "X = df.drop('churn', axis=1)\n",
    "y = df['churn']"
   ]
  },
  {
   "cell_type": "code",
   "execution_count": 44,
   "metadata": {},
   "outputs": [],
   "source": [
    "# Dividir los datos en conjunto de entrenamiento, validacion y prueba \n",
    "\n",
    "# Dividir el entrenamiento (60%) y un conjunto combinado de validación/prueba (40%)\n",
    "X_train, X_temp, y_train, y_temp = train_test_split(X, y, test_size=0.40, random_state=12345, shuffle= False)\n",
    "\n",
    "# Dividir el conjunto combinado (40%) en la mitad para obtener validacion 20% y prueba 20%\n",
    "X_valid, X_test, y_valid, y_test = train_test_split(X_temp, y_temp, test_size=0.50, random_state=12345, shuffle= False)"
   ]
  },
  {
   "cell_type": "markdown",
   "metadata": {},
   "source": [
    "### One-Hot Encoding"
   ]
  },
  {
   "cell_type": "code",
   "execution_count": 45,
   "metadata": {},
   "outputs": [],
   "source": [
    "# Realizar One-Hot Encoding usando pd.get_dummies en las variables categóricas\n",
    "\n",
    "# Primero, aplicamos One-Hot Encoding solo en X_train\n",
    "X_train_ohe = pd.get_dummies(X_train, drop_first=True)\n",
    "\n",
    "# Aplicar One-Hot Encoding a los conjuntos de validación y prueba, utilizando las mismas columnas\n",
    "X_valid_ohe = pd.get_dummies(X_valid, drop_first=True)\n",
    "X_test_ohe = pd.get_dummies(X_test, drop_first=True)\n"
   ]
  },
  {
   "cell_type": "markdown",
   "metadata": {},
   "source": [
    "### Escalado de datos"
   ]
  },
  {
   "cell_type": "code",
   "execution_count": 46,
   "metadata": {},
   "outputs": [
    {
     "data": {
      "text/html": [
       "<div>\n",
       "<style scoped>\n",
       "    .dataframe tbody tr th:only-of-type {\n",
       "        vertical-align: middle;\n",
       "    }\n",
       "\n",
       "    .dataframe tbody tr th {\n",
       "        vertical-align: top;\n",
       "    }\n",
       "\n",
       "    .dataframe thead th {\n",
       "        text-align: right;\n",
       "    }\n",
       "</style>\n",
       "<table border=\"1\" class=\"dataframe\">\n",
       "  <thead>\n",
       "    <tr style=\"text-align: right;\">\n",
       "      <th></th>\n",
       "      <th>monthly_charges</th>\n",
       "      <th>total_charges</th>\n",
       "    </tr>\n",
       "  </thead>\n",
       "  <tbody>\n",
       "    <tr>\n",
       "      <th>count</th>\n",
       "      <td>7032.000000</td>\n",
       "      <td>7032.000000</td>\n",
       "    </tr>\n",
       "    <tr>\n",
       "      <th>mean</th>\n",
       "      <td>64.798208</td>\n",
       "      <td>2283.300441</td>\n",
       "    </tr>\n",
       "    <tr>\n",
       "      <th>std</th>\n",
       "      <td>30.085974</td>\n",
       "      <td>2266.771362</td>\n",
       "    </tr>\n",
       "    <tr>\n",
       "      <th>min</th>\n",
       "      <td>18.250000</td>\n",
       "      <td>18.800000</td>\n",
       "    </tr>\n",
       "    <tr>\n",
       "      <th>25%</th>\n",
       "      <td>35.587500</td>\n",
       "      <td>401.450000</td>\n",
       "    </tr>\n",
       "    <tr>\n",
       "      <th>50%</th>\n",
       "      <td>70.350000</td>\n",
       "      <td>1397.475000</td>\n",
       "    </tr>\n",
       "    <tr>\n",
       "      <th>75%</th>\n",
       "      <td>89.862500</td>\n",
       "      <td>3794.737500</td>\n",
       "    </tr>\n",
       "    <tr>\n",
       "      <th>max</th>\n",
       "      <td>118.750000</td>\n",
       "      <td>8684.800000</td>\n",
       "    </tr>\n",
       "  </tbody>\n",
       "</table>\n",
       "</div>"
      ],
      "text/plain": [
       "       monthly_charges  total_charges\n",
       "count      7032.000000    7032.000000\n",
       "mean         64.798208    2283.300441\n",
       "std          30.085974    2266.771362\n",
       "min          18.250000      18.800000\n",
       "25%          35.587500     401.450000\n",
       "50%          70.350000    1397.475000\n",
       "75%          89.862500    3794.737500\n",
       "max         118.750000    8684.800000"
      ]
     },
     "execution_count": 46,
     "metadata": {},
     "output_type": "execute_result"
    }
   ],
   "source": [
    "# Revisar las columnas numéricas\n",
    "df[['monthly_charges','total_charges']].describe()  "
   ]
  },
  {
   "cell_type": "markdown",
   "metadata": {},
   "source": [
    "Al observar la tabla la columna monthly_charges tiene un rango de valores entre 18.25 y 118.75, con una media de 64.79 y una desviación estándar de 30.08. Por otro lado, la columna total_charges varía entre 18.80 y 8684.80, con una media de 2283.30 y una desviación estándar de 2266.77.\n",
    "Estas diferencias en las escalas  pueden generar un sesgo en los modelos de machine learning, ya que los algoritmos sensibles a la magnitud de los valores, pueden dar más peso a la variable total_charges debido a su mayor rango. Esto afectaría negativamente el rendimiento del modelo, ya que no se estarían considerando de forma equitativa ambas características.\n",
    "\n",
    "Por lo tanto, es recomendable escalar ambas columnas para que tengan una escala similar, permitiendo que el modelo las trate de manera equilibrada."
   ]
  },
  {
   "cell_type": "code",
   "execution_count": 47,
   "metadata": {
    "scrolled": false
   },
   "outputs": [
    {
     "name": "stdout",
     "output_type": "stream",
     "text": [
      "       monthly_charges  total_charges\n",
      "count     4.219000e+03   4.219000e+03\n",
      "mean      2.020980e-16   1.616784e-16\n",
      "std       1.000119e+00   1.000119e+00\n",
      "min      -1.678776e+00  -1.474800e+00\n",
      "25%      -8.054020e-01  -8.682096e-01\n",
      "50%       2.753783e-01  -1.757644e-01\n",
      "75%       8.303516e-01   7.821789e-01\n",
      "max       1.578148e+00   2.403647e+00\n"
     ]
    }
   ],
   "source": [
    "# Función para estandarizar las características numéricas\n",
    "\n",
    "def standardize_data(X_train, X_valid, X_test):\n",
    "    # Crear el escalador\n",
    "    scaler = StandardScaler()\n",
    "\n",
    "    # Seleccionar solo las columnas numéricas\n",
    "    numerical_columns = ['monthly_charges', 'total_charges']\n",
    "\n",
    "    # Ajustar el escalador en los datos de entrenamiento y transformarlos\n",
    "    X_train_scaled = X_train.copy()\n",
    "    X_train_scaled[numerical_columns] = scaler.fit_transform(X_train[numerical_columns])\n",
    "\n",
    "    # Transformar los datos de validación y prueba usando el mismo escalador\n",
    "    X_valid_scaled = X_valid.copy()\n",
    "    X_valid_scaled[numerical_columns] = scaler.transform(X_valid[numerical_columns])\n",
    "\n",
    "    X_test_scaled = X_test.copy()\n",
    "    X_test_scaled[numerical_columns] = scaler.transform(X_test[numerical_columns])\n",
    "\n",
    "    return X_train_scaled, X_valid_scaled, X_test_scaled\n",
    "\n",
    "# Llamar a la función para estandarizar los datos\n",
    "X_train_scaled, X_valid_scaled, X_test_scaled = standardize_data(X_train_ohe, X_valid_ohe, X_test_ohe)\n",
    "\n",
    "# Verificar las características estandarizadas\n",
    "print(X_train_scaled[['monthly_charges', 'total_charges']].describe())"
   ]
  },
  {
   "cell_type": "markdown",
   "metadata": {},
   "source": [
    "### Balance de clases"
   ]
  },
  {
   "cell_type": "code",
   "execution_count": 48,
   "metadata": {},
   "outputs": [
    {
     "name": "stdout",
     "output_type": "stream",
     "text": [
      "Rango de fechas del conjunto de entrenamiento:  2013-10-01 00:00:00  -  2018-06-01 00:00:00\n",
      "Rango de fechas del conjunto de validación:  2018-06-01 00:00:00  -  2019-07-01 00:00:00\n",
      "Rango de fechas del conjunto de prueba:  2019-07-01 00:00:00  -  2020-01-01 00:00:00\n",
      "0    0.514866\n",
      "1    0.485134\n",
      "Name: churn, dtype: float64\n"
     ]
    }
   ],
   "source": [
    "# Función para balancear datos\n",
    "def upsample(X, y):\n",
    "    \n",
    "    # Separar las respuestas del conjunto de datos de entrenamiento\n",
    "    X_zeros = X[y == 0]\n",
    "    X_ones = X[y == 1]\n",
    "    y_zeros = y[y == 0]\n",
    "    y_ones = y[y == 1]\n",
    "    \n",
    "    # Calcular cuántas veces duplicar la clase minoritaria\n",
    "    repeat = len(y_zeros) // len(y_ones)\n",
    "    \n",
    "    # Aumentar las observaciones de cancelaciones\n",
    "    X_upsampled = pd.concat([X_zeros] + [X_ones] * repeat)\n",
    "    y_upsampled = pd.concat([y_zeros] + [y_ones] * repeat)\n",
    "    \n",
    "    \n",
    "    \n",
    "    # Reordenar los datos por índice para preservar el orden temporal\n",
    "    X_upsampled.sort_index(inplace=True)\n",
    "    y_upsampled.sort_index(inplace=True)\n",
    "    \n",
    "    return X_upsampled, y_upsampled\n",
    "\n",
    "# Balancear datos de cancelaciones\n",
    "X_train_balanced, y_train_balanced = upsample(X_train_scaled, y_train)\n",
    "\n",
    "# Verificar el rango de fechas y el equilibrio de clases\n",
    "print('Rango de fechas del conjunto de entrenamiento: ', X_train_balanced.index.min(), ' - ', X_train_balanced.index.max())\n",
    "print('Rango de fechas del conjunto de validación: ', X_valid_scaled.index.min(), ' - ', X_valid_scaled.index.max())\n",
    "print('Rango de fechas del conjunto de prueba: ', X_test_scaled.index.min(), ' - ', X_test_scaled.index.max())\n",
    "\n",
    "# Verificar el equilibrio de clases\n",
    "print(y_train_balanced.value_counts(normalize=True))"
   ]
  },
  {
   "cell_type": "markdown",
   "metadata": {},
   "source": [
    "Para preparar los datos para el modelo, se realizó One-Hot Encoding para convertir las variables categóricas en variables numéricas y evitar que el modelo asuma relaciones de orden entre ellas. Además, se aplicó un escalado de características para asegurarse de que las variables numéricas tuvieran escalas similares, evitando que las características con mayores rangos dominen el modelo. Finalmente, se llevó a cabo un balanceo de clases para corregir el desbalance entre las clases de la variable objetivo, duplicando las observaciones de la clase minoritaria y garantizando que el modelo tuviera la capacidad de predecir ambas clases de manera equitativa."
   ]
  },
  {
   "cell_type": "markdown",
   "metadata": {},
   "source": [
    "## Entrenamiento y ajustes de los modelos"
   ]
  },
  {
   "cell_type": "code",
   "execution_count": 49,
   "metadata": {},
   "outputs": [],
   "source": [
    "# Crear función para evaluar diferentes modelos con datos de entrenamiento, validación y prueba\n",
    "\n",
    "def evaluate_classifiers(X_train, y_train, X_valid, y_valid, X_test, y_test):\n",
    "    \n",
    "    # Definir los hiperparámetros para GridSearchCV\n",
    "    \n",
    "    param_grid_lr = {\n",
    "        'solver': ['liblinear', 'newton-cg', 'saga'],\n",
    "        'C': [0.1, 1, 10, 100] \n",
    "    }\n",
    "    \n",
    "    param_grid_dt = {\n",
    "        'max_depth': [7, 10, 15, 20],\n",
    "        'min_samples_split': [2, 5, 10],\n",
    "    }\n",
    "    \n",
    "    param_grid_rf = {\n",
    "        'n_estimators': [10, 100, 150],\n",
    "        'max_depth': [7, 10, 15, 20],\n",
    "        'min_samples_split': [2, 5, 10]\n",
    "    }\n",
    "    \n",
    "    param_grid_lgbm = {\n",
    "        'n_estimators': [60, 100, 150],\n",
    "        'learning_rate': [0.01, 0.05, 0.1],\n",
    "        'num_leaves': [4, 8, 10],\n",
    "        'max_depth': [2, 5, 10, 15],\n",
    "    }\n",
    "    \n",
    "    param_grid_ctb = {\n",
    "        'iterations': [70, 80, 100],\n",
    "        'learning_rate': [0.04, 0.1],\n",
    "        'depth': [4, 8, 10],\n",
    "    }\n",
    "    \n",
    "    \n",
    "\n",
    "    # Inicializar los modelos\n",
    "    models = {\n",
    "        'Logistic Regression': LogisticRegression(),\n",
    "        'Decision Tree': DecisionTreeClassifier(random_state=12345, class_weight = 'balanced'),\n",
    "        'Random Forest': RandomForestClassifier(random_state=12345, class_weight = 'balanced'),\n",
    "        'LightGBM': LGBMClassifier(random_state=12345),\n",
    "        'CatBoost' : CatBoostClassifier(random_state=12345, verbose=False)\n",
    "        \n",
    "    }\n",
    "    \n",
    "    param_grids = {\n",
    "        'Logistic Regression': param_grid_lr,\n",
    "        'Decision Tree': param_grid_dt,\n",
    "        'Random Forest': param_grid_rf,\n",
    "        'LightGBM': param_grid_lgbm,\n",
    "        'CatBoost': param_grid_ctb\n",
    "        \n",
    "    }\n",
    "    \n",
    "    # Crear un DataFrame vacío para almacenar los resultados\n",
    "    results_df = pd.DataFrame(columns=['Model', 'Dataset', 'F1 Score', 'AUC-ROC'])\n",
    "\n",
    "    # Entrenar y evaluar cada modelo con GridSearchCV\n",
    "    for model_name, model in models.items():\n",
    "        print(f\"Evaluando modelo: {model_name}\")\n",
    "        \n",
    "        # Realizar GridSearchCV\n",
    "        grid_search = GridSearchCV(estimator=model, param_grid=param_grids[model_name], cv=3, scoring=['f1', 'roc_auc'], refit='f1', n_jobs=-1)\n",
    "        grid_search.fit(X_train, y_train)\n",
    "        \n",
    "        # Mejor modelo y parámetros\n",
    "        best_model = grid_search.best_estimator_\n",
    "        best_params = grid_search.best_params_\n",
    "        print(f'Mejores parámetros para {model_name}: {best_params}')\n",
    "        \n",
    "        # Evaluación en el conjunto de entrenamiento\n",
    "        y_pred_train = best_model.predict(X_train)\n",
    "        y_prob_train = best_model.predict_proba(X_train)[:, 1]  \n",
    "        f1_train = f1_score(y_train, y_pred_train)\n",
    "        auc_train = roc_auc_score(y_train, y_prob_train)\n",
    "        \n",
    "        # Evaluación en el conjunto de validación\n",
    "        y_pred_valid = best_model.predict(X_valid)\n",
    "        y_prob_valid = best_model.predict_proba(X_valid)[:, 1] \n",
    "        f1_valid = f1_score(y_valid, y_pred_valid)\n",
    "        auc_valid = roc_auc_score(y_valid, y_prob_valid)\n",
    "        \n",
    "        # Evaluación en el conjunto de prueba\n",
    "        y_pred_test = best_model.predict(X_test)\n",
    "        y_prob_test = best_model.predict_proba(X_test)[:, 1]  \n",
    "        f1_test = f1_score(y_test, y_pred_test)\n",
    "        auc_test = roc_auc_score(y_test, y_prob_test)\n",
    "\n",
    "        # Imprimir resultados\n",
    "        print(f'F1 Score en entrenamiento para {model_name}: {f1_train:.4f}')\n",
    "        print(f'AUC-ROC en entrenamiento para {model_name}: {auc_train:.4f}')\n",
    "        print(f'F1 Score en validación para {model_name}: {f1_valid:.4f}')\n",
    "        print(f'AUC-ROC en validación para {model_name}: {auc_valid:.4f}')\n",
    "        print(f'F1 Score en prueba para {model_name}: {f1_test:.4f}')\n",
    "        print(f'AUC-ROC en prueba para {model_name}: {auc_test:.4f}\\n')\n",
    "\n",
    "        # Agregar los resultados al DataFrame\n",
    "        results_df = results_df.append({'Model': model_name, 'Dataset': 'Train', 'F1 Score': f1_train, 'AUC-ROC': auc_train}, ignore_index=True)\n",
    "        results_df = results_df.append({'Model': model_name, 'Dataset': 'Validation', 'F1 Score': f1_valid, 'AUC-ROC': auc_valid}, ignore_index=True)\n",
    "        results_df = results_df.append({'Model': model_name, 'Dataset': 'Test', 'F1 Score': f1_test, 'AUC-ROC': auc_test}, ignore_index=True)\n",
    "\n",
    "    \n",
    "    return results_df\n",
    "\n"
   ]
  },
  {
   "cell_type": "code",
   "execution_count": 50,
   "metadata": {
    "scrolled": false
   },
   "outputs": [
    {
     "name": "stdout",
     "output_type": "stream",
     "text": [
      "Evaluando modelo: Logistic Regression\n",
      "Mejores parámetros para Logistic Regression: {'C': 0.1, 'solver': 'liblinear'}\n",
      "F1 Score en entrenamiento para Logistic Regression: 0.7624\n",
      "AUC-ROC en entrenamiento para Logistic Regression: 0.8367\n",
      "F1 Score en validación para Logistic Regression: 0.6639\n",
      "AUC-ROC en validación para Logistic Regression: 0.7994\n",
      "F1 Score en prueba para Logistic Regression: 0.6990\n",
      "AUC-ROC en prueba para Logistic Regression: 0.7456\n",
      "\n",
      "Evaluando modelo: Decision Tree\n",
      "Mejores parámetros para Decision Tree: {'max_depth': 7, 'min_samples_split': 10}\n",
      "F1 Score en entrenamiento para Decision Tree: 0.8098\n",
      "AUC-ROC en entrenamiento para Decision Tree: 0.8808\n",
      "F1 Score en validación para Decision Tree: 0.6367\n",
      "AUC-ROC en validación para Decision Tree: 0.6854\n",
      "F1 Score en prueba para Decision Tree: 0.6910\n",
      "AUC-ROC en prueba para Decision Tree: 0.6783\n",
      "\n",
      "Evaluando modelo: Random Forest\n",
      "Mejores parámetros para Random Forest: {'max_depth': 7, 'min_samples_split': 10, 'n_estimators': 150}\n",
      "F1 Score en entrenamiento para Random Forest: 0.8143\n",
      "AUC-ROC en entrenamiento para Random Forest: 0.8944\n",
      "F1 Score en validación para Random Forest: 0.6657\n",
      "AUC-ROC en validación para Random Forest: 0.7894\n",
      "F1 Score en prueba para Random Forest: 0.6967\n",
      "AUC-ROC en prueba para Random Forest: 0.7454\n",
      "\n",
      "Evaluando modelo: LightGBM\n",
      "Mejores parámetros para LightGBM: {'learning_rate': 0.05, 'max_depth': 5, 'n_estimators': 60, 'num_leaves': 4}\n",
      "F1 Score en entrenamiento para LightGBM: 0.7702\n",
      "AUC-ROC en entrenamiento para LightGBM: 0.8399\n",
      "F1 Score en validación para LightGBM: 0.6611\n",
      "AUC-ROC en validación para LightGBM: 0.7941\n",
      "F1 Score en prueba para LightGBM: 0.7048\n",
      "AUC-ROC en prueba para LightGBM: 0.7470\n",
      "\n",
      "Evaluando modelo: CatBoost\n",
      "Mejores parámetros para CatBoost: {'depth': 4, 'iterations': 70, 'learning_rate': 0.04}\n",
      "F1 Score en entrenamiento para CatBoost: 0.7770\n",
      "AUC-ROC en entrenamiento para CatBoost: 0.8484\n",
      "F1 Score en validación para CatBoost: 0.6638\n",
      "AUC-ROC en validación para CatBoost: 0.7983\n",
      "F1 Score en prueba para CatBoost: 0.7041\n",
      "AUC-ROC en prueba para CatBoost: 0.7460\n",
      "\n"
     ]
    }
   ],
   "source": [
    "# Llamar la función con los datos\n",
    "results_df = evaluate_classifiers(X_train_balanced, y_train_balanced, X_valid_scaled, y_valid, X_test_scaled, y_test)\n"
   ]
  },
  {
   "cell_type": "markdown",
   "metadata": {},
   "source": [
    "### Comparación de los modelos"
   ]
  },
  {
   "cell_type": "code",
   "execution_count": 51,
   "metadata": {},
   "outputs": [
    {
     "data": {
      "text/html": [
       "<div>\n",
       "<style scoped>\n",
       "    .dataframe tbody tr th:only-of-type {\n",
       "        vertical-align: middle;\n",
       "    }\n",
       "\n",
       "    .dataframe tbody tr th {\n",
       "        vertical-align: top;\n",
       "    }\n",
       "\n",
       "    .dataframe thead th {\n",
       "        text-align: right;\n",
       "    }\n",
       "</style>\n",
       "<table border=\"1\" class=\"dataframe\">\n",
       "  <thead>\n",
       "    <tr style=\"text-align: right;\">\n",
       "      <th></th>\n",
       "      <th>Model</th>\n",
       "      <th>Dataset</th>\n",
       "      <th>F1 Score</th>\n",
       "      <th>AUC-ROC</th>\n",
       "    </tr>\n",
       "  </thead>\n",
       "  <tbody>\n",
       "    <tr>\n",
       "      <th>0</th>\n",
       "      <td>Logistic Regression</td>\n",
       "      <td>Train</td>\n",
       "      <td>0.762429</td>\n",
       "      <td>0.836708</td>\n",
       "    </tr>\n",
       "    <tr>\n",
       "      <th>1</th>\n",
       "      <td>Logistic Regression</td>\n",
       "      <td>Validation</td>\n",
       "      <td>0.663860</td>\n",
       "      <td>0.799352</td>\n",
       "    </tr>\n",
       "    <tr>\n",
       "      <th>2</th>\n",
       "      <td>Logistic Regression</td>\n",
       "      <td>Test</td>\n",
       "      <td>0.698980</td>\n",
       "      <td>0.745567</td>\n",
       "    </tr>\n",
       "    <tr>\n",
       "      <th>3</th>\n",
       "      <td>Decision Tree</td>\n",
       "      <td>Train</td>\n",
       "      <td>0.809825</td>\n",
       "      <td>0.880832</td>\n",
       "    </tr>\n",
       "    <tr>\n",
       "      <th>4</th>\n",
       "      <td>Decision Tree</td>\n",
       "      <td>Validation</td>\n",
       "      <td>0.636673</td>\n",
       "      <td>0.685384</td>\n",
       "    </tr>\n",
       "    <tr>\n",
       "      <th>5</th>\n",
       "      <td>Decision Tree</td>\n",
       "      <td>Test</td>\n",
       "      <td>0.691001</td>\n",
       "      <td>0.678315</td>\n",
       "    </tr>\n",
       "    <tr>\n",
       "      <th>6</th>\n",
       "      <td>Random Forest</td>\n",
       "      <td>Train</td>\n",
       "      <td>0.814346</td>\n",
       "      <td>0.894355</td>\n",
       "    </tr>\n",
       "    <tr>\n",
       "      <th>7</th>\n",
       "      <td>Random Forest</td>\n",
       "      <td>Validation</td>\n",
       "      <td>0.665698</td>\n",
       "      <td>0.789402</td>\n",
       "    </tr>\n",
       "    <tr>\n",
       "      <th>8</th>\n",
       "      <td>Random Forest</td>\n",
       "      <td>Test</td>\n",
       "      <td>0.696689</td>\n",
       "      <td>0.745440</td>\n",
       "    </tr>\n",
       "    <tr>\n",
       "      <th>9</th>\n",
       "      <td>LightGBM</td>\n",
       "      <td>Train</td>\n",
       "      <td>0.770207</td>\n",
       "      <td>0.839853</td>\n",
       "    </tr>\n",
       "    <tr>\n",
       "      <th>10</th>\n",
       "      <td>LightGBM</td>\n",
       "      <td>Validation</td>\n",
       "      <td>0.661076</td>\n",
       "      <td>0.794125</td>\n",
       "    </tr>\n",
       "    <tr>\n",
       "      <th>11</th>\n",
       "      <td>LightGBM</td>\n",
       "      <td>Test</td>\n",
       "      <td>0.704762</td>\n",
       "      <td>0.746989</td>\n",
       "    </tr>\n",
       "    <tr>\n",
       "      <th>12</th>\n",
       "      <td>CatBoost</td>\n",
       "      <td>Train</td>\n",
       "      <td>0.777003</td>\n",
       "      <td>0.848392</td>\n",
       "    </tr>\n",
       "    <tr>\n",
       "      <th>13</th>\n",
       "      <td>CatBoost</td>\n",
       "      <td>Validation</td>\n",
       "      <td>0.663842</td>\n",
       "      <td>0.798290</td>\n",
       "    </tr>\n",
       "    <tr>\n",
       "      <th>14</th>\n",
       "      <td>CatBoost</td>\n",
       "      <td>Test</td>\n",
       "      <td>0.704115</td>\n",
       "      <td>0.745975</td>\n",
       "    </tr>\n",
       "  </tbody>\n",
       "</table>\n",
       "</div>"
      ],
      "text/plain": [
       "                  Model     Dataset  F1 Score   AUC-ROC\n",
       "0   Logistic Regression       Train  0.762429  0.836708\n",
       "1   Logistic Regression  Validation  0.663860  0.799352\n",
       "2   Logistic Regression        Test  0.698980  0.745567\n",
       "3         Decision Tree       Train  0.809825  0.880832\n",
       "4         Decision Tree  Validation  0.636673  0.685384\n",
       "5         Decision Tree        Test  0.691001  0.678315\n",
       "6         Random Forest       Train  0.814346  0.894355\n",
       "7         Random Forest  Validation  0.665698  0.789402\n",
       "8         Random Forest        Test  0.696689  0.745440\n",
       "9              LightGBM       Train  0.770207  0.839853\n",
       "10             LightGBM  Validation  0.661076  0.794125\n",
       "11             LightGBM        Test  0.704762  0.746989\n",
       "12             CatBoost       Train  0.777003  0.848392\n",
       "13             CatBoost  Validation  0.663842  0.798290\n",
       "14             CatBoost        Test  0.704115  0.745975"
      ]
     },
     "execution_count": 51,
     "metadata": {},
     "output_type": "execute_result"
    }
   ],
   "source": [
    "# Mostrar el DataFrame con los resultados\n",
    "results_df"
   ]
  },
  {
   "cell_type": "markdown",
   "metadata": {},
   "source": [
    "De acuerdo a los resultados presentados en la tabla anterior, la regresión logística presenta un rendimiento razonable en todos los conjuntos de datos. En el conjunto de entrenamiento, su F1-Score de 0.7624 y AUC-ROC de 0.8367 muestran una capacidad decente para clasificar los datos. Sin embargo, su desempeño decae en validación y prueba, con una disminución notable en el F1-Score (0.6639 en validación y 0.6990 en prueba) y AUC-ROC (0.7994 en validación y 0.7456 en prueba). A pesar de esto, mantiene un equilibrio razonable entre los datasets, lo que sugiere que es un modelo confiable y fácil de interpretar, aunque con un rendimiento básico.\n",
    "\n",
    "El árbol de decisión destaca en el conjunto de entrenamiento con un F1-Score de 0.8098 y AUC-ROC de 0.8808, pero su desempeño en validación (F1-Score: 0.6367, AUC-ROC: 0.6854) y prueba (F1-Score: 0.6910, AUC-ROC: 0.6783) es considerablemente peor. Este patrón indica que el modelo probablemente está sobreajustado a los datos de entrenamiento. Aunque es eficaz para aprender patrones complejos de los datos, su capacidad para generalizar a nuevos datos es limitada, lo que sugiere que no es el modelo más robusto en este caso.\n",
    "\n",
    "El Bosque aleatorio presenta un rendimiento sólido con F1-Score de 0.8143 en entrenamiento, 0.6657 en validación y 0.6967 en prueba. AUC-ROC también es alto en entrenamiento (0.8944) y se mantiene relativamente estable en validación (0.7894) y prueba (0.7454), lo que demuestra su capacidad para generalizar mejor que el árbol de decisión. Aunque aún se observa un ligero sobreajuste en comparación con los datos de prueba, su estabilidad y capacidad de manejar datos complejos lo hacen un modelo fuerte.\n",
    "\n",
    "LightGBM muestra un desempeño muy competitivo, superando ligeramente a Random Forest en el conjunto de prueba en cuanto a F1-Score (0.7048 frente a 0.6967) y AUC-ROC (0.7470 frente a 0.7454). En entrenamiento, tiene un rendimiento más moderado (F1-Score: 0.7702, AUC-ROC: 0.8399), lo que sugiere que el modelo está equilibrado y no está sobreajustado como otros modelos. Su capacidad de generalización es notablemente buena, lo que lo convierte en una opción muy sólida, especialmente cuando se busca un buen equilibrio entre rendimiento y sobreajuste.\n",
    "\n",
    "CatBoost muestra un rendimiento comparable al de LightGBM, con F1-Score de 0.7770 en entrenamiento, 0.6638 en validación y 0.7041 en prueba, y AUC-ROC de 0.8484 en entrenamiento, 0.7983 en validación y 0.7460 en prueba. Aunque las métricas de validación son ligeramente inferiores a las de LightGBM, las de prueba son prácticamente iguales. Esto lo posiciona como un modelo altamente competitivo y prometedor, con excelente capacidad de generalización y consistencia."
   ]
  },
  {
   "cell_type": "markdown",
   "metadata": {},
   "source": [
    "# Conclusiones"
   ]
  },
  {
   "cell_type": "markdown",
   "metadata": {},
   "source": [
    "Basándose en las metricas de F1-Score y AUC-ROC en el conjunto de prueba, el modelo de LightGBM es el más adecuado para este caso debido a que cuenta con un F1-Score en prueba más alto (0.7048), un AUC-ROC en prueba competitivo (0.7470), consistencia en el rendimiento entre validación y prueba.\n",
    "\n",
    "Con el fin de obtener mejoras futuras se podria ampliar el conjunto de datos recolectando más datos históricos de clientes para mejorar la capacidad del modelo de generalizar.\n",
    "\n",
    "Implementar el modelo de LightGBM permitirá a la empresa Interconnect identificar a clientes en riesgo de cancelar sus servicios, permitiendo asi estrategias preventivas como promociones especiales y ofertas para retener al cliente. Esto puede traducirse en una reducción significativa de la tasa de cancelación y un impacto positivo en los ingresos y la satisfacción del cliente."
   ]
  },
  {
   "cell_type": "code",
   "execution_count": null,
   "metadata": {},
   "outputs": [],
   "source": []
  }
 ],
 "metadata": {
  "ExecuteTimeLog": [
   {
    "duration": 314,
    "start_time": "2025-01-03T15:11:36.910Z"
   },
   {
    "duration": 525,
    "start_time": "2025-01-03T15:13:22.355Z"
   },
   {
    "duration": 59,
    "start_time": "2025-01-03T15:15:26.130Z"
   },
   {
    "duration": 12,
    "start_time": "2025-01-03T15:15:35.460Z"
   },
   {
    "duration": 16,
    "start_time": "2025-01-03T15:15:51.744Z"
   },
   {
    "duration": 6,
    "start_time": "2025-01-03T15:15:54.282Z"
   },
   {
    "duration": 25,
    "start_time": "2025-01-03T15:27:48.777Z"
   },
   {
    "duration": 8,
    "start_time": "2025-01-03T15:27:54.399Z"
   },
   {
    "duration": 50,
    "start_time": "2025-01-03T15:32:58.601Z"
   },
   {
    "duration": 7,
    "start_time": "2025-01-03T15:33:33.971Z"
   },
   {
    "duration": 8,
    "start_time": "2025-01-03T15:33:52.537Z"
   },
   {
    "duration": 5,
    "start_time": "2025-01-03T15:34:22.668Z"
   },
   {
    "duration": 39,
    "start_time": "2025-01-03T15:44:19.343Z"
   },
   {
    "duration": 795,
    "start_time": "2025-01-06T22:45:41.356Z"
   },
   {
    "duration": 63,
    "start_time": "2025-01-06T22:45:42.153Z"
   },
   {
    "duration": 3,
    "start_time": "2025-01-06T22:45:42.218Z"
   },
   {
    "duration": 11,
    "start_time": "2025-01-06T22:48:00.530Z"
   },
   {
    "duration": 9,
    "start_time": "2025-01-06T22:48:57.767Z"
   },
   {
    "duration": 9,
    "start_time": "2025-01-06T22:49:01.307Z"
   },
   {
    "duration": 9,
    "start_time": "2025-01-06T22:49:04.076Z"
   },
   {
    "duration": 12,
    "start_time": "2025-01-06T22:56:25.199Z"
   },
   {
    "duration": 8,
    "start_time": "2025-01-06T22:57:17.385Z"
   },
   {
    "duration": 8,
    "start_time": "2025-01-06T22:57:21.356Z"
   },
   {
    "duration": 6,
    "start_time": "2025-01-06T22:57:25.257Z"
   },
   {
    "duration": 4,
    "start_time": "2025-01-06T22:58:46.953Z"
   },
   {
    "duration": 36,
    "start_time": "2025-01-06T22:58:46.961Z"
   },
   {
    "duration": 3,
    "start_time": "2025-01-06T22:58:46.999Z"
   },
   {
    "duration": 8,
    "start_time": "2025-01-06T22:58:47.004Z"
   },
   {
    "duration": 10,
    "start_time": "2025-01-06T22:58:47.014Z"
   },
   {
    "duration": 7,
    "start_time": "2025-01-06T22:58:47.026Z"
   },
   {
    "duration": 6,
    "start_time": "2025-01-06T22:58:47.036Z"
   },
   {
    "duration": 9,
    "start_time": "2025-01-06T22:58:47.043Z"
   },
   {
    "duration": 8,
    "start_time": "2025-01-06T22:58:47.054Z"
   },
   {
    "duration": 8,
    "start_time": "2025-01-06T22:58:47.064Z"
   },
   {
    "duration": 7,
    "start_time": "2025-01-06T22:58:47.073Z"
   },
   {
    "duration": 4,
    "start_time": "2025-01-06T22:59:18.568Z"
   },
   {
    "duration": 3,
    "start_time": "2025-01-06T23:13:17.772Z"
   },
   {
    "duration": 37,
    "start_time": "2025-01-06T23:13:17.778Z"
   },
   {
    "duration": 2,
    "start_time": "2025-01-06T23:13:17.818Z"
   },
   {
    "duration": 10,
    "start_time": "2025-01-06T23:13:17.822Z"
   },
   {
    "duration": 8,
    "start_time": "2025-01-06T23:13:17.834Z"
   },
   {
    "duration": 8,
    "start_time": "2025-01-06T23:13:17.843Z"
   },
   {
    "duration": 6,
    "start_time": "2025-01-06T23:13:17.853Z"
   },
   {
    "duration": 9,
    "start_time": "2025-01-06T23:13:17.861Z"
   },
   {
    "duration": 9,
    "start_time": "2025-01-06T23:13:17.871Z"
   },
   {
    "duration": 43,
    "start_time": "2025-01-06T23:13:17.881Z"
   },
   {
    "duration": 11,
    "start_time": "2025-01-06T23:13:17.927Z"
   },
   {
    "duration": 29,
    "start_time": "2025-01-06T23:13:17.940Z"
   },
   {
    "duration": 28,
    "start_time": "2025-01-06T23:14:53.726Z"
   },
   {
    "duration": 13,
    "start_time": "2025-01-06T23:15:13.790Z"
   },
   {
    "duration": 14,
    "start_time": "2025-01-06T23:31:18.049Z"
   },
   {
    "duration": 7,
    "start_time": "2025-01-06T23:42:45.052Z"
   },
   {
    "duration": 594,
    "start_time": "2025-01-06T23:44:46.239Z"
   },
   {
    "duration": 4,
    "start_time": "2025-01-06T23:45:04.280Z"
   },
   {
    "duration": 4,
    "start_time": "2025-01-06T23:46:30.099Z"
   },
   {
    "duration": 693,
    "start_time": "2025-01-06T23:51:03.071Z"
   },
   {
    "duration": 2,
    "start_time": "2025-01-06T23:52:24.783Z"
   },
   {
    "duration": 39,
    "start_time": "2025-01-06T23:52:30.902Z"
   },
   {
    "duration": 17,
    "start_time": "2025-01-06T23:52:37.459Z"
   },
   {
    "duration": 8,
    "start_time": "2025-01-06T23:52:49.527Z"
   },
   {
    "duration": 9,
    "start_time": "2025-01-06T23:53:06.128Z"
   },
   {
    "duration": 15,
    "start_time": "2025-01-06T23:53:10.462Z"
   },
   {
    "duration": 8,
    "start_time": "2025-01-06T23:53:51.562Z"
   },
   {
    "duration": 15,
    "start_time": "2025-01-06T23:53:59.935Z"
   },
   {
    "duration": 11,
    "start_time": "2025-01-06T23:55:01.603Z"
   },
   {
    "duration": 15,
    "start_time": "2025-01-06T23:55:56.840Z"
   },
   {
    "duration": 8,
    "start_time": "2025-01-07T00:01:46.558Z"
   },
   {
    "duration": 15,
    "start_time": "2025-01-07T00:28:36.091Z"
   },
   {
    "duration": 5,
    "start_time": "2025-01-07T00:30:45.155Z"
   },
   {
    "duration": 15,
    "start_time": "2025-01-07T00:31:05.158Z"
   },
   {
    "duration": 7,
    "start_time": "2025-01-07T00:32:06.018Z"
   },
   {
    "duration": 8,
    "start_time": "2025-01-07T00:40:46.407Z"
   },
   {
    "duration": 7,
    "start_time": "2025-01-07T00:44:06.270Z"
   },
   {
    "duration": 7,
    "start_time": "2025-01-07T00:44:10.485Z"
   },
   {
    "duration": 6,
    "start_time": "2025-01-07T00:44:18.489Z"
   },
   {
    "duration": 11,
    "start_time": "2025-01-07T00:45:23.033Z"
   },
   {
    "duration": 9,
    "start_time": "2025-01-07T01:06:56.994Z"
   },
   {
    "duration": 13,
    "start_time": "2025-01-07T01:13:11.332Z"
   },
   {
    "duration": 12,
    "start_time": "2025-01-07T01:13:33.176Z"
   },
   {
    "duration": 13,
    "start_time": "2025-01-07T01:15:27.264Z"
   },
   {
    "duration": 15,
    "start_time": "2025-01-07T01:15:32.626Z"
   },
   {
    "duration": 16,
    "start_time": "2025-01-07T01:15:41.585Z"
   },
   {
    "duration": 20,
    "start_time": "2025-01-07T01:19:50.017Z"
   },
   {
    "duration": 8,
    "start_time": "2025-01-07T01:20:27.882Z"
   },
   {
    "duration": 18,
    "start_time": "2025-01-07T01:30:46.201Z"
   },
   {
    "duration": 4,
    "start_time": "2025-01-07T01:32:12.961Z"
   },
   {
    "duration": 3,
    "start_time": "2025-01-07T01:34:13.089Z"
   },
   {
    "duration": 38,
    "start_time": "2025-01-07T01:34:13.097Z"
   },
   {
    "duration": 3,
    "start_time": "2025-01-07T01:34:13.137Z"
   },
   {
    "duration": 10,
    "start_time": "2025-01-07T01:34:13.142Z"
   },
   {
    "duration": 6,
    "start_time": "2025-01-07T01:34:13.155Z"
   },
   {
    "duration": 10,
    "start_time": "2025-01-07T01:34:13.163Z"
   },
   {
    "duration": 9,
    "start_time": "2025-01-07T01:34:13.174Z"
   },
   {
    "duration": 39,
    "start_time": "2025-01-07T01:34:13.185Z"
   },
   {
    "duration": 10,
    "start_time": "2025-01-07T01:34:13.226Z"
   },
   {
    "duration": 9,
    "start_time": "2025-01-07T01:34:13.238Z"
   },
   {
    "duration": 9,
    "start_time": "2025-01-07T01:34:13.248Z"
   },
   {
    "duration": 27,
    "start_time": "2025-01-07T01:34:13.258Z"
   },
   {
    "duration": 46,
    "start_time": "2025-01-07T01:34:13.286Z"
   },
   {
    "duration": 13,
    "start_time": "2025-01-07T01:34:13.335Z"
   },
   {
    "duration": 4,
    "start_time": "2025-01-07T01:34:13.350Z"
   },
   {
    "duration": 8,
    "start_time": "2025-01-07T01:34:13.356Z"
   },
   {
    "duration": 23,
    "start_time": "2025-01-07T01:34:13.365Z"
   },
   {
    "duration": 38,
    "start_time": "2025-01-07T01:34:13.391Z"
   },
   {
    "duration": 14,
    "start_time": "2025-01-07T01:34:13.433Z"
   },
   {
    "duration": 16,
    "start_time": "2025-01-07T01:34:13.449Z"
   },
   {
    "duration": 11,
    "start_time": "2025-01-07T01:34:13.466Z"
   },
   {
    "duration": 6,
    "start_time": "2025-01-07T01:34:13.478Z"
   },
   {
    "duration": 3,
    "start_time": "2025-01-07T01:37:39.188Z"
   },
   {
    "duration": 4,
    "start_time": "2025-01-07T01:38:19.827Z"
   },
   {
    "duration": 5,
    "start_time": "2025-01-07T01:38:53.721Z"
   },
   {
    "duration": 11,
    "start_time": "2025-01-07T01:40:14.178Z"
   },
   {
    "duration": 8,
    "start_time": "2025-01-07T01:40:34.018Z"
   },
   {
    "duration": 24,
    "start_time": "2025-01-07T01:41:10.171Z"
   },
   {
    "duration": 15,
    "start_time": "2025-01-07T01:42:29.279Z"
   },
   {
    "duration": 16,
    "start_time": "2025-01-07T01:42:37.924Z"
   },
   {
    "duration": 14,
    "start_time": "2025-01-07T01:42:47.313Z"
   },
   {
    "duration": 25,
    "start_time": "2025-01-07T01:49:20.576Z"
   },
   {
    "duration": 11,
    "start_time": "2025-01-07T01:49:32.417Z"
   },
   {
    "duration": 13,
    "start_time": "2025-01-07T01:50:03.664Z"
   },
   {
    "duration": 20,
    "start_time": "2025-01-07T01:50:54.242Z"
   },
   {
    "duration": 20,
    "start_time": "2025-01-07T01:51:19.908Z"
   },
   {
    "duration": 18,
    "start_time": "2025-01-07T02:20:24.251Z"
   },
   {
    "duration": 30,
    "start_time": "2025-01-07T02:26:12.580Z"
   },
   {
    "duration": 39,
    "start_time": "2025-01-07T02:30:07.243Z"
   },
   {
    "duration": 12,
    "start_time": "2025-01-07T02:30:38.553Z"
   },
   {
    "duration": 15,
    "start_time": "2025-01-07T02:34:34.671Z"
   },
   {
    "duration": 8,
    "start_time": "2025-01-07T02:41:03.455Z"
   },
   {
    "duration": 6,
    "start_time": "2025-01-07T02:48:42.147Z"
   },
   {
    "duration": 7,
    "start_time": "2025-01-07T02:48:59.601Z"
   },
   {
    "duration": 5,
    "start_time": "2025-01-07T02:49:03.322Z"
   },
   {
    "duration": 5,
    "start_time": "2025-01-07T02:51:23.014Z"
   },
   {
    "duration": 4,
    "start_time": "2025-01-07T02:53:07.631Z"
   },
   {
    "duration": 9,
    "start_time": "2025-01-07T02:59:59.586Z"
   },
   {
    "duration": 818,
    "start_time": "2025-01-07T15:09:02.876Z"
   },
   {
    "duration": 69,
    "start_time": "2025-01-07T15:09:03.697Z"
   },
   {
    "duration": 3,
    "start_time": "2025-01-07T15:09:03.768Z"
   },
   {
    "duration": 12,
    "start_time": "2025-01-07T15:09:03.774Z"
   },
   {
    "duration": 7,
    "start_time": "2025-01-07T15:09:03.788Z"
   },
   {
    "duration": 8,
    "start_time": "2025-01-07T15:09:03.796Z"
   },
   {
    "duration": 6,
    "start_time": "2025-01-07T15:09:03.806Z"
   },
   {
    "duration": 10,
    "start_time": "2025-01-07T15:09:03.814Z"
   },
   {
    "duration": 44,
    "start_time": "2025-01-07T15:09:03.825Z"
   },
   {
    "duration": 9,
    "start_time": "2025-01-07T15:09:03.872Z"
   },
   {
    "duration": 7,
    "start_time": "2025-01-07T15:09:03.883Z"
   },
   {
    "duration": 28,
    "start_time": "2025-01-07T15:09:03.893Z"
   },
   {
    "duration": 13,
    "start_time": "2025-01-07T15:09:03.922Z"
   },
   {
    "duration": 42,
    "start_time": "2025-01-07T15:09:03.936Z"
   },
   {
    "duration": 6,
    "start_time": "2025-01-07T15:09:03.981Z"
   },
   {
    "duration": 10,
    "start_time": "2025-01-07T15:09:03.989Z"
   },
   {
    "duration": 19,
    "start_time": "2025-01-07T15:09:04.000Z"
   },
   {
    "duration": 8,
    "start_time": "2025-01-07T15:09:04.021Z"
   },
   {
    "duration": 40,
    "start_time": "2025-01-07T15:09:04.030Z"
   },
   {
    "duration": 12,
    "start_time": "2025-01-07T15:09:04.072Z"
   },
   {
    "duration": 9,
    "start_time": "2025-01-07T15:09:04.085Z"
   },
   {
    "duration": 4,
    "start_time": "2025-01-07T15:09:04.095Z"
   },
   {
    "duration": 4,
    "start_time": "2025-01-07T15:09:04.100Z"
   },
   {
    "duration": 17,
    "start_time": "2025-01-07T15:09:04.106Z"
   },
   {
    "duration": 62,
    "start_time": "2025-01-07T15:09:04.124Z"
   },
   {
    "duration": 19,
    "start_time": "2025-01-07T15:09:04.187Z"
   },
   {
    "duration": 17,
    "start_time": "2025-01-07T15:09:04.208Z"
   },
   {
    "duration": 11,
    "start_time": "2025-01-07T15:09:04.228Z"
   },
   {
    "duration": 41,
    "start_time": "2025-01-07T15:09:04.241Z"
   },
   {
    "duration": 6,
    "start_time": "2025-01-07T15:09:04.284Z"
   },
   {
    "duration": 4,
    "start_time": "2025-01-07T15:09:04.291Z"
   },
   {
    "duration": 4,
    "start_time": "2025-01-07T15:09:04.297Z"
   },
   {
    "duration": 8,
    "start_time": "2025-01-07T15:09:04.304Z"
   },
   {
    "duration": 3,
    "start_time": "2025-01-07T15:34:07.724Z"
   },
   {
    "duration": 37,
    "start_time": "2025-01-07T15:34:07.729Z"
   },
   {
    "duration": 3,
    "start_time": "2025-01-07T15:34:07.768Z"
   },
   {
    "duration": 9,
    "start_time": "2025-01-07T15:34:07.772Z"
   },
   {
    "duration": 6,
    "start_time": "2025-01-07T15:34:07.783Z"
   },
   {
    "duration": 8,
    "start_time": "2025-01-07T15:34:07.791Z"
   },
   {
    "duration": 6,
    "start_time": "2025-01-07T15:34:07.800Z"
   },
   {
    "duration": 9,
    "start_time": "2025-01-07T15:34:07.808Z"
   },
   {
    "duration": 51,
    "start_time": "2025-01-07T15:34:07.818Z"
   },
   {
    "duration": 9,
    "start_time": "2025-01-07T15:34:07.871Z"
   },
   {
    "duration": 7,
    "start_time": "2025-01-07T15:34:07.885Z"
   },
   {
    "duration": 29,
    "start_time": "2025-01-07T15:34:07.893Z"
   },
   {
    "duration": 12,
    "start_time": "2025-01-07T15:34:07.924Z"
   },
   {
    "duration": 56,
    "start_time": "2025-01-07T15:34:07.938Z"
   },
   {
    "duration": 5,
    "start_time": "2025-01-07T15:34:07.996Z"
   },
   {
    "duration": 7,
    "start_time": "2025-01-07T15:34:08.003Z"
   },
   {
    "duration": 18,
    "start_time": "2025-01-07T15:34:08.012Z"
   },
   {
    "duration": 8,
    "start_time": "2025-01-07T15:34:08.031Z"
   },
   {
    "duration": 29,
    "start_time": "2025-01-07T15:34:08.041Z"
   },
   {
    "duration": 12,
    "start_time": "2025-01-07T15:34:08.072Z"
   },
   {
    "duration": 8,
    "start_time": "2025-01-07T15:34:08.085Z"
   },
   {
    "duration": 5,
    "start_time": "2025-01-07T15:34:08.094Z"
   },
   {
    "duration": 5,
    "start_time": "2025-01-07T15:34:08.100Z"
   },
   {
    "duration": 18,
    "start_time": "2025-01-07T15:34:08.107Z"
   },
   {
    "duration": 63,
    "start_time": "2025-01-07T15:34:08.127Z"
   },
   {
    "duration": 20,
    "start_time": "2025-01-07T15:34:08.191Z"
   },
   {
    "duration": 17,
    "start_time": "2025-01-07T15:34:08.213Z"
   },
   {
    "duration": 12,
    "start_time": "2025-01-07T15:34:08.231Z"
   },
   {
    "duration": 15,
    "start_time": "2025-01-07T15:34:08.273Z"
   },
   {
    "duration": 7,
    "start_time": "2025-01-07T15:34:08.290Z"
   },
   {
    "duration": 5,
    "start_time": "2025-01-07T15:34:08.298Z"
   },
   {
    "duration": 5,
    "start_time": "2025-01-07T15:34:08.304Z"
   },
   {
    "duration": 10,
    "start_time": "2025-01-07T15:34:08.310Z"
   },
   {
    "duration": 1937,
    "start_time": "2025-01-07T15:38:10.633Z"
   },
   {
    "duration": 94,
    "start_time": "2025-01-07T15:39:40.722Z"
   },
   {
    "duration": 10,
    "start_time": "2025-01-07T15:42:31.372Z"
   },
   {
    "duration": 1102,
    "start_time": "2025-01-07T15:46:31.172Z"
   },
   {
    "duration": 11,
    "start_time": "2025-01-07T15:54:32.643Z"
   },
   {
    "duration": 1096,
    "start_time": "2025-01-07T15:59:42.653Z"
   },
   {
    "duration": 1062,
    "start_time": "2025-01-07T16:00:19.288Z"
   },
   {
    "duration": 1081,
    "start_time": "2025-01-07T16:01:39.520Z"
   },
   {
    "duration": 546,
    "start_time": "2025-01-07T16:23:23.503Z"
   },
   {
    "duration": 359,
    "start_time": "2025-01-07T16:23:45.840Z"
   },
   {
    "duration": 775,
    "start_time": "2025-01-07T16:24:04.565Z"
   },
   {
    "duration": 737,
    "start_time": "2025-01-07T16:24:43.023Z"
   },
   {
    "duration": 626,
    "start_time": "2025-01-07T16:26:05.581Z"
   },
   {
    "duration": 694,
    "start_time": "2025-01-07T16:27:30.089Z"
   },
   {
    "duration": 736,
    "start_time": "2025-01-07T16:29:09.721Z"
   },
   {
    "duration": 615,
    "start_time": "2025-01-07T16:29:21.801Z"
   },
   {
    "duration": 353,
    "start_time": "2025-01-07T16:29:47.435Z"
   },
   {
    "duration": 596,
    "start_time": "2025-01-07T16:30:02.032Z"
   },
   {
    "duration": 358,
    "start_time": "2025-01-07T16:30:17.451Z"
   },
   {
    "duration": 630,
    "start_time": "2025-01-07T16:30:32.624Z"
   },
   {
    "duration": 631,
    "start_time": "2025-01-07T16:32:07.214Z"
   },
   {
    "duration": 770,
    "start_time": "2025-01-07T16:35:23.428Z"
   },
   {
    "duration": 649,
    "start_time": "2025-01-07T16:35:55.490Z"
   },
   {
    "duration": 899,
    "start_time": "2025-01-07T16:36:04.670Z"
   },
   {
    "duration": 3212,
    "start_time": "2025-01-07T22:42:31.447Z"
   },
   {
    "duration": 71,
    "start_time": "2025-01-07T22:42:34.661Z"
   },
   {
    "duration": 3,
    "start_time": "2025-01-07T22:42:34.738Z"
   },
   {
    "duration": 11,
    "start_time": "2025-01-07T22:42:34.743Z"
   },
   {
    "duration": 6,
    "start_time": "2025-01-07T22:42:34.756Z"
   },
   {
    "duration": 8,
    "start_time": "2025-01-07T22:42:34.764Z"
   },
   {
    "duration": 6,
    "start_time": "2025-01-07T22:42:34.774Z"
   },
   {
    "duration": 10,
    "start_time": "2025-01-07T22:42:34.782Z"
   },
   {
    "duration": 13,
    "start_time": "2025-01-07T22:42:34.805Z"
   },
   {
    "duration": 12,
    "start_time": "2025-01-07T22:42:34.820Z"
   },
   {
    "duration": 9,
    "start_time": "2025-01-07T22:42:34.834Z"
   },
   {
    "duration": 27,
    "start_time": "2025-01-07T22:42:34.845Z"
   },
   {
    "duration": 34,
    "start_time": "2025-01-07T22:42:34.874Z"
   },
   {
    "duration": 20,
    "start_time": "2025-01-07T22:42:34.914Z"
   },
   {
    "duration": 5,
    "start_time": "2025-01-07T22:42:34.938Z"
   },
   {
    "duration": 10,
    "start_time": "2025-01-07T22:42:34.944Z"
   },
   {
    "duration": 17,
    "start_time": "2025-01-07T22:42:34.957Z"
   },
   {
    "duration": 9,
    "start_time": "2025-01-07T22:42:34.976Z"
   },
   {
    "duration": 18,
    "start_time": "2025-01-07T22:42:35.005Z"
   },
   {
    "duration": 18,
    "start_time": "2025-01-07T22:42:35.024Z"
   },
   {
    "duration": 8,
    "start_time": "2025-01-07T22:42:35.044Z"
   },
   {
    "duration": 4,
    "start_time": "2025-01-07T22:42:35.053Z"
   },
   {
    "duration": 5,
    "start_time": "2025-01-07T22:42:35.059Z"
   },
   {
    "duration": 45,
    "start_time": "2025-01-07T22:42:35.066Z"
   },
   {
    "duration": 38,
    "start_time": "2025-01-07T22:42:35.113Z"
   },
   {
    "duration": 20,
    "start_time": "2025-01-07T22:42:35.153Z"
   },
   {
    "duration": 17,
    "start_time": "2025-01-07T22:42:35.174Z"
   },
   {
    "duration": 14,
    "start_time": "2025-01-07T22:42:35.205Z"
   },
   {
    "duration": 20,
    "start_time": "2025-01-07T22:42:35.221Z"
   },
   {
    "duration": 6,
    "start_time": "2025-01-07T22:42:35.243Z"
   },
   {
    "duration": 4,
    "start_time": "2025-01-07T22:42:35.254Z"
   },
   {
    "duration": 5,
    "start_time": "2025-01-07T22:42:35.259Z"
   },
   {
    "duration": 11,
    "start_time": "2025-01-07T22:42:35.266Z"
   },
   {
    "duration": 136,
    "start_time": "2025-01-07T22:42:35.279Z"
   },
   {
    "duration": 6,
    "start_time": "2025-01-07T22:42:35.416Z"
   },
   {
    "duration": 1292,
    "start_time": "2025-01-07T22:42:35.425Z"
   },
   {
    "duration": 798,
    "start_time": "2025-01-07T22:42:36.719Z"
   },
   {
    "duration": 893,
    "start_time": "2025-01-07T22:42:37.519Z"
   },
   {
    "duration": 919,
    "start_time": "2025-01-07T22:46:28.149Z"
   },
   {
    "duration": 982,
    "start_time": "2025-01-07T22:47:21.568Z"
   },
   {
    "duration": 912,
    "start_time": "2025-01-07T22:48:46.706Z"
   },
   {
    "duration": 1023,
    "start_time": "2025-01-07T22:50:12.128Z"
   },
   {
    "duration": 886,
    "start_time": "2025-01-07T22:53:17.551Z"
   },
   {
    "duration": 306,
    "start_time": "2025-01-08T00:09:43.086Z"
   },
   {
    "duration": 484,
    "start_time": "2025-01-08T00:10:31.930Z"
   },
   {
    "duration": 24,
    "start_time": "2025-01-08T00:11:11.456Z"
   },
   {
    "duration": 4,
    "start_time": "2025-01-08T00:12:45.056Z"
   },
   {
    "duration": 32,
    "start_time": "2025-01-08T00:12:45.169Z"
   },
   {
    "duration": 4,
    "start_time": "2025-01-08T00:12:45.203Z"
   },
   {
    "duration": 9,
    "start_time": "2025-01-08T00:12:45.209Z"
   },
   {
    "duration": 7,
    "start_time": "2025-01-08T00:12:45.220Z"
   },
   {
    "duration": 8,
    "start_time": "2025-01-08T00:12:45.230Z"
   },
   {
    "duration": 6,
    "start_time": "2025-01-08T00:12:45.239Z"
   },
   {
    "duration": 9,
    "start_time": "2025-01-08T00:12:45.246Z"
   },
   {
    "duration": 48,
    "start_time": "2025-01-08T00:12:45.257Z"
   },
   {
    "duration": 8,
    "start_time": "2025-01-08T00:12:45.307Z"
   },
   {
    "duration": 8,
    "start_time": "2025-01-08T00:12:45.317Z"
   },
   {
    "duration": 27,
    "start_time": "2025-01-08T00:12:45.326Z"
   },
   {
    "duration": 13,
    "start_time": "2025-01-08T00:12:45.354Z"
   },
   {
    "duration": 43,
    "start_time": "2025-01-08T00:12:45.369Z"
   },
   {
    "duration": 5,
    "start_time": "2025-01-08T00:12:45.415Z"
   },
   {
    "duration": 7,
    "start_time": "2025-01-08T00:12:45.422Z"
   },
   {
    "duration": 16,
    "start_time": "2025-01-08T00:12:45.431Z"
   },
   {
    "duration": 7,
    "start_time": "2025-01-08T00:12:45.448Z"
   },
   {
    "duration": 11,
    "start_time": "2025-01-08T00:12:45.457Z"
   },
   {
    "duration": 45,
    "start_time": "2025-01-08T00:12:45.470Z"
   },
   {
    "duration": 9,
    "start_time": "2025-01-08T00:12:45.517Z"
   },
   {
    "duration": 4,
    "start_time": "2025-01-08T00:12:45.527Z"
   },
   {
    "duration": 5,
    "start_time": "2025-01-08T00:12:45.532Z"
   },
   {
    "duration": 17,
    "start_time": "2025-01-08T00:12:45.539Z"
   },
   {
    "duration": 58,
    "start_time": "2025-01-08T00:12:45.558Z"
   },
   {
    "duration": 19,
    "start_time": "2025-01-08T00:12:45.619Z"
   },
   {
    "duration": 16,
    "start_time": "2025-01-08T00:12:45.639Z"
   },
   {
    "duration": 11,
    "start_time": "2025-01-08T00:12:45.657Z"
   },
   {
    "duration": 41,
    "start_time": "2025-01-08T00:12:45.670Z"
   },
   {
    "duration": 7,
    "start_time": "2025-01-08T00:12:45.712Z"
   },
   {
    "duration": 4,
    "start_time": "2025-01-08T00:12:45.720Z"
   },
   {
    "duration": 4,
    "start_time": "2025-01-08T00:12:45.725Z"
   },
   {
    "duration": 9,
    "start_time": "2025-01-08T00:12:45.730Z"
   },
   {
    "duration": 107,
    "start_time": "2025-01-08T00:12:45.740Z"
   },
   {
    "duration": 5,
    "start_time": "2025-01-08T00:12:45.848Z"
   },
   {
    "duration": 1093,
    "start_time": "2025-01-08T00:12:45.855Z"
   },
   {
    "duration": 824,
    "start_time": "2025-01-08T00:12:46.949Z"
   },
   {
    "duration": 313,
    "start_time": "2025-01-08T00:18:13.248Z"
   },
   {
    "duration": 3,
    "start_time": "2025-01-08T00:19:10.302Z"
   },
   {
    "duration": 31,
    "start_time": "2025-01-08T00:19:10.307Z"
   },
   {
    "duration": 2,
    "start_time": "2025-01-08T00:19:10.340Z"
   },
   {
    "duration": 8,
    "start_time": "2025-01-08T00:19:10.377Z"
   },
   {
    "duration": 6,
    "start_time": "2025-01-08T00:19:10.387Z"
   },
   {
    "duration": 10,
    "start_time": "2025-01-08T00:19:10.395Z"
   },
   {
    "duration": 7,
    "start_time": "2025-01-08T00:19:10.406Z"
   },
   {
    "duration": 10,
    "start_time": "2025-01-08T00:19:10.415Z"
   },
   {
    "duration": 10,
    "start_time": "2025-01-08T00:19:10.427Z"
   },
   {
    "duration": 8,
    "start_time": "2025-01-08T00:19:10.456Z"
   },
   {
    "duration": 7,
    "start_time": "2025-01-08T00:19:10.467Z"
   },
   {
    "duration": 147,
    "start_time": "2025-01-08T00:19:10.475Z"
   },
   {
    "duration": 13,
    "start_time": "2025-01-08T00:19:10.623Z"
   },
   {
    "duration": 16,
    "start_time": "2025-01-08T00:19:10.639Z"
   },
   {
    "duration": 5,
    "start_time": "2025-01-08T00:19:10.657Z"
   },
   {
    "duration": 41,
    "start_time": "2025-01-08T00:19:10.663Z"
   },
   {
    "duration": 18,
    "start_time": "2025-01-08T00:19:10.707Z"
   },
   {
    "duration": 8,
    "start_time": "2025-01-08T00:19:10.726Z"
   },
   {
    "duration": 12,
    "start_time": "2025-01-08T00:19:10.735Z"
   },
   {
    "duration": 10,
    "start_time": "2025-01-08T00:19:10.749Z"
   },
   {
    "duration": 8,
    "start_time": "2025-01-08T00:19:10.760Z"
   },
   {
    "duration": 36,
    "start_time": "2025-01-08T00:19:10.770Z"
   },
   {
    "duration": 5,
    "start_time": "2025-01-08T00:19:10.810Z"
   },
   {
    "duration": 17,
    "start_time": "2025-01-08T00:19:10.817Z"
   },
   {
    "duration": 24,
    "start_time": "2025-01-08T00:19:10.836Z"
   },
   {
    "duration": 45,
    "start_time": "2025-01-08T00:19:10.861Z"
   },
   {
    "duration": 16,
    "start_time": "2025-01-08T00:19:10.908Z"
   },
   {
    "duration": 11,
    "start_time": "2025-01-08T00:19:10.926Z"
   },
   {
    "duration": 14,
    "start_time": "2025-01-08T00:19:10.938Z"
   },
   {
    "duration": 6,
    "start_time": "2025-01-08T00:19:10.954Z"
   },
   {
    "duration": 3,
    "start_time": "2025-01-08T00:19:10.962Z"
   },
   {
    "duration": 3,
    "start_time": "2025-01-08T00:19:10.967Z"
   },
   {
    "duration": 9,
    "start_time": "2025-01-08T00:19:11.006Z"
   },
   {
    "duration": 98,
    "start_time": "2025-01-08T00:19:11.017Z"
   },
   {
    "duration": 5,
    "start_time": "2025-01-08T00:19:11.117Z"
   },
   {
    "duration": 1132,
    "start_time": "2025-01-08T00:19:11.123Z"
   },
   {
    "duration": 869,
    "start_time": "2025-01-08T00:19:12.257Z"
   },
   {
    "duration": 326,
    "start_time": "2025-01-08T00:19:13.128Z"
   },
   {
    "duration": 23,
    "start_time": "2025-01-08T00:19:49.410Z"
   },
   {
    "duration": 4,
    "start_time": "2025-01-08T00:25:20.774Z"
   },
   {
    "duration": 31,
    "start_time": "2025-01-08T00:25:20.780Z"
   },
   {
    "duration": 3,
    "start_time": "2025-01-08T00:25:20.813Z"
   },
   {
    "duration": 9,
    "start_time": "2025-01-08T00:25:20.818Z"
   },
   {
    "duration": 7,
    "start_time": "2025-01-08T00:25:20.828Z"
   },
   {
    "duration": 8,
    "start_time": "2025-01-08T00:25:20.836Z"
   },
   {
    "duration": 6,
    "start_time": "2025-01-08T00:25:20.846Z"
   },
   {
    "duration": 9,
    "start_time": "2025-01-08T00:25:20.855Z"
   },
   {
    "duration": 8,
    "start_time": "2025-01-08T00:25:20.866Z"
   },
   {
    "duration": 8,
    "start_time": "2025-01-08T00:25:20.905Z"
   },
   {
    "duration": 7,
    "start_time": "2025-01-08T00:25:20.915Z"
   },
   {
    "duration": 33,
    "start_time": "2025-01-08T00:25:20.924Z"
   },
   {
    "duration": 14,
    "start_time": "2025-01-08T00:25:20.959Z"
   },
   {
    "duration": 46,
    "start_time": "2025-01-08T00:25:20.975Z"
   },
   {
    "duration": 5,
    "start_time": "2025-01-08T00:25:21.023Z"
   },
   {
    "duration": 9,
    "start_time": "2025-01-08T00:25:21.030Z"
   },
   {
    "duration": 19,
    "start_time": "2025-01-08T00:25:21.042Z"
   },
   {
    "duration": 8,
    "start_time": "2025-01-08T00:25:21.064Z"
   },
   {
    "duration": 36,
    "start_time": "2025-01-08T00:25:21.076Z"
   },
   {
    "duration": 12,
    "start_time": "2025-01-08T00:25:21.114Z"
   },
   {
    "duration": 9,
    "start_time": "2025-01-08T00:25:21.127Z"
   },
   {
    "duration": 3,
    "start_time": "2025-01-08T00:25:21.138Z"
   },
   {
    "duration": 5,
    "start_time": "2025-01-08T00:25:21.143Z"
   },
   {
    "duration": 18,
    "start_time": "2025-01-08T00:25:21.150Z"
   },
   {
    "duration": 27,
    "start_time": "2025-01-08T00:25:21.204Z"
   },
   {
    "duration": 23,
    "start_time": "2025-01-08T00:25:21.233Z"
   },
   {
    "duration": 19,
    "start_time": "2025-01-08T00:25:21.258Z"
   },
   {
    "duration": 34,
    "start_time": "2025-01-08T00:25:21.279Z"
   },
   {
    "duration": 16,
    "start_time": "2025-01-08T00:25:21.314Z"
   },
   {
    "duration": 6,
    "start_time": "2025-01-08T00:25:21.332Z"
   },
   {
    "duration": 4,
    "start_time": "2025-01-08T00:25:21.340Z"
   },
   {
    "duration": 4,
    "start_time": "2025-01-08T00:25:21.346Z"
   },
   {
    "duration": 13,
    "start_time": "2025-01-08T00:25:21.352Z"
   },
   {
    "duration": 121,
    "start_time": "2025-01-08T00:25:21.367Z"
   },
   {
    "duration": 5,
    "start_time": "2025-01-08T00:25:21.490Z"
   },
   {
    "duration": 1164,
    "start_time": "2025-01-08T00:25:21.504Z"
   },
   {
    "duration": 965,
    "start_time": "2025-01-08T00:25:22.670Z"
   },
   {
    "duration": 17,
    "start_time": "2025-01-08T00:26:05.425Z"
   },
   {
    "duration": 24,
    "start_time": "2025-01-08T00:26:20.825Z"
   },
   {
    "duration": 3,
    "start_time": "2025-01-08T00:26:51.394Z"
   },
   {
    "duration": 34,
    "start_time": "2025-01-08T00:26:51.496Z"
   },
   {
    "duration": 3,
    "start_time": "2025-01-08T00:26:51.532Z"
   },
   {
    "duration": 8,
    "start_time": "2025-01-08T00:26:51.537Z"
   },
   {
    "duration": 6,
    "start_time": "2025-01-08T00:26:51.547Z"
   },
   {
    "duration": 8,
    "start_time": "2025-01-08T00:26:51.556Z"
   },
   {
    "duration": 6,
    "start_time": "2025-01-08T00:26:51.565Z"
   },
   {
    "duration": 39,
    "start_time": "2025-01-08T00:26:51.572Z"
   },
   {
    "duration": 9,
    "start_time": "2025-01-08T00:26:51.612Z"
   },
   {
    "duration": 8,
    "start_time": "2025-01-08T00:26:51.624Z"
   },
   {
    "duration": 7,
    "start_time": "2025-01-08T00:26:51.634Z"
   },
   {
    "duration": 27,
    "start_time": "2025-01-08T00:26:51.642Z"
   },
   {
    "duration": 41,
    "start_time": "2025-01-08T00:26:51.672Z"
   },
   {
    "duration": 13,
    "start_time": "2025-01-08T00:26:51.715Z"
   },
   {
    "duration": 4,
    "start_time": "2025-01-08T00:26:51.731Z"
   },
   {
    "duration": 8,
    "start_time": "2025-01-08T00:26:51.737Z"
   },
   {
    "duration": 16,
    "start_time": "2025-01-08T00:26:51.746Z"
   },
   {
    "duration": 7,
    "start_time": "2025-01-08T00:26:51.763Z"
   },
   {
    "duration": 40,
    "start_time": "2025-01-08T00:26:51.772Z"
   },
   {
    "duration": 11,
    "start_time": "2025-01-08T00:26:51.813Z"
   },
   {
    "duration": 9,
    "start_time": "2025-01-08T00:26:51.825Z"
   },
   {
    "duration": 3,
    "start_time": "2025-01-08T00:26:51.836Z"
   },
   {
    "duration": 5,
    "start_time": "2025-01-08T00:26:51.841Z"
   },
   {
    "duration": 18,
    "start_time": "2025-01-08T00:26:51.847Z"
   },
   {
    "duration": 26,
    "start_time": "2025-01-08T00:26:51.905Z"
   },
   {
    "duration": 18,
    "start_time": "2025-01-08T00:26:51.933Z"
   },
   {
    "duration": 16,
    "start_time": "2025-01-08T00:26:51.953Z"
   },
   {
    "duration": 35,
    "start_time": "2025-01-08T00:26:51.971Z"
   },
   {
    "duration": 17,
    "start_time": "2025-01-08T00:26:52.009Z"
   },
   {
    "duration": 6,
    "start_time": "2025-01-08T00:26:52.027Z"
   },
   {
    "duration": 3,
    "start_time": "2025-01-08T00:26:52.035Z"
   },
   {
    "duration": 4,
    "start_time": "2025-01-08T00:26:52.039Z"
   },
   {
    "duration": 9,
    "start_time": "2025-01-08T00:26:52.045Z"
   },
   {
    "duration": 113,
    "start_time": "2025-01-08T00:26:52.055Z"
   },
   {
    "duration": 6,
    "start_time": "2025-01-08T00:26:52.169Z"
   },
   {
    "duration": 1136,
    "start_time": "2025-01-08T00:26:52.177Z"
   },
   {
    "duration": 814,
    "start_time": "2025-01-08T00:26:53.315Z"
   },
   {
    "duration": 5,
    "start_time": "2025-01-08T00:27:14.849Z"
   },
   {
    "duration": 321,
    "start_time": "2025-01-08T00:27:38.405Z"
   },
   {
    "duration": 7,
    "start_time": "2025-01-08T01:01:30.029Z"
   },
   {
    "duration": 8,
    "start_time": "2025-01-08T01:02:03.816Z"
   },
   {
    "duration": 6,
    "start_time": "2025-01-08T01:06:20.027Z"
   },
   {
    "duration": 3,
    "start_time": "2025-01-08T01:26:41.501Z"
   },
   {
    "duration": 36,
    "start_time": "2025-01-08T01:26:41.506Z"
   },
   {
    "duration": 3,
    "start_time": "2025-01-08T01:26:41.544Z"
   },
   {
    "duration": 8,
    "start_time": "2025-01-08T01:26:41.549Z"
   },
   {
    "duration": 6,
    "start_time": "2025-01-08T01:26:41.559Z"
   },
   {
    "duration": 8,
    "start_time": "2025-01-08T01:26:41.566Z"
   },
   {
    "duration": 31,
    "start_time": "2025-01-08T01:26:41.575Z"
   },
   {
    "duration": 10,
    "start_time": "2025-01-08T01:26:41.607Z"
   },
   {
    "duration": 8,
    "start_time": "2025-01-08T01:26:41.621Z"
   },
   {
    "duration": 8,
    "start_time": "2025-01-08T01:26:41.631Z"
   },
   {
    "duration": 7,
    "start_time": "2025-01-08T01:26:41.641Z"
   },
   {
    "duration": 64,
    "start_time": "2025-01-08T01:26:41.650Z"
   },
   {
    "duration": 14,
    "start_time": "2025-01-08T01:26:41.715Z"
   },
   {
    "duration": 14,
    "start_time": "2025-01-08T01:26:41.730Z"
   },
   {
    "duration": 5,
    "start_time": "2025-01-08T01:26:41.745Z"
   },
   {
    "duration": 8,
    "start_time": "2025-01-08T01:26:41.751Z"
   },
   {
    "duration": 49,
    "start_time": "2025-01-08T01:26:41.760Z"
   },
   {
    "duration": 7,
    "start_time": "2025-01-08T01:26:41.811Z"
   },
   {
    "duration": 12,
    "start_time": "2025-01-08T01:26:41.820Z"
   },
   {
    "duration": 11,
    "start_time": "2025-01-08T01:26:41.834Z"
   },
   {
    "duration": 8,
    "start_time": "2025-01-08T01:26:41.847Z"
   },
   {
    "duration": 4,
    "start_time": "2025-01-08T01:26:41.856Z"
   },
   {
    "duration": 5,
    "start_time": "2025-01-08T01:26:41.862Z"
   },
   {
    "duration": 19,
    "start_time": "2025-01-08T01:26:41.905Z"
   },
   {
    "duration": 24,
    "start_time": "2025-01-08T01:26:41.927Z"
   },
   {
    "duration": 19,
    "start_time": "2025-01-08T01:26:41.952Z"
   },
   {
    "duration": 37,
    "start_time": "2025-01-08T01:26:41.972Z"
   },
   {
    "duration": 13,
    "start_time": "2025-01-08T01:26:42.010Z"
   },
   {
    "duration": 14,
    "start_time": "2025-01-08T01:26:42.025Z"
   },
   {
    "duration": 6,
    "start_time": "2025-01-08T01:26:42.041Z"
   },
   {
    "duration": 3,
    "start_time": "2025-01-08T01:26:42.048Z"
   },
   {
    "duration": 4,
    "start_time": "2025-01-08T01:26:42.053Z"
   },
   {
    "duration": 9,
    "start_time": "2025-01-08T01:26:42.059Z"
   },
   {
    "duration": 101,
    "start_time": "2025-01-08T01:26:42.104Z"
   },
   {
    "duration": 6,
    "start_time": "2025-01-08T01:26:42.207Z"
   },
   {
    "duration": 1148,
    "start_time": "2025-01-08T01:26:42.215Z"
   },
   {
    "duration": 962,
    "start_time": "2025-01-08T01:26:43.365Z"
   },
   {
    "duration": 6,
    "start_time": "2025-01-08T01:26:44.329Z"
   },
   {
    "duration": 338,
    "start_time": "2025-01-08T01:26:44.337Z"
   },
   {
    "duration": 374,
    "start_time": "2025-01-08T01:35:11.928Z"
   },
   {
    "duration": 9,
    "start_time": "2025-01-08T01:42:42.079Z"
   },
   {
    "duration": 33,
    "start_time": "2025-01-08T01:46:38.770Z"
   },
   {
    "duration": 3047,
    "start_time": "2025-01-08T03:17:49.842Z"
   },
   {
    "duration": 101,
    "start_time": "2025-01-08T03:17:52.891Z"
   },
   {
    "duration": 4,
    "start_time": "2025-01-08T03:17:52.993Z"
   },
   {
    "duration": 34,
    "start_time": "2025-01-08T03:17:52.999Z"
   },
   {
    "duration": 8,
    "start_time": "2025-01-08T03:17:53.035Z"
   },
   {
    "duration": 10,
    "start_time": "2025-01-08T03:17:53.045Z"
   },
   {
    "duration": 6,
    "start_time": "2025-01-08T03:17:53.057Z"
   },
   {
    "duration": 10,
    "start_time": "2025-01-08T03:17:53.064Z"
   },
   {
    "duration": 8,
    "start_time": "2025-01-08T03:17:53.076Z"
   },
   {
    "duration": 8,
    "start_time": "2025-01-08T03:17:53.087Z"
   },
   {
    "duration": 29,
    "start_time": "2025-01-08T03:17:53.096Z"
   },
   {
    "duration": 33,
    "start_time": "2025-01-08T03:17:53.129Z"
   },
   {
    "duration": 12,
    "start_time": "2025-01-08T03:17:53.164Z"
   },
   {
    "duration": 13,
    "start_time": "2025-01-08T03:17:53.177Z"
   },
   {
    "duration": 32,
    "start_time": "2025-01-08T03:17:53.192Z"
   },
   {
    "duration": 8,
    "start_time": "2025-01-08T03:17:53.234Z"
   },
   {
    "duration": 17,
    "start_time": "2025-01-08T03:17:53.243Z"
   },
   {
    "duration": 9,
    "start_time": "2025-01-08T03:17:53.262Z"
   },
   {
    "duration": 12,
    "start_time": "2025-01-08T03:17:53.272Z"
   },
   {
    "duration": 11,
    "start_time": "2025-01-08T03:17:53.287Z"
   },
   {
    "duration": 21,
    "start_time": "2025-01-08T03:17:53.313Z"
   },
   {
    "duration": 4,
    "start_time": "2025-01-08T03:17:53.336Z"
   },
   {
    "duration": 5,
    "start_time": "2025-01-08T03:17:53.342Z"
   },
   {
    "duration": 23,
    "start_time": "2025-01-08T03:17:53.348Z"
   },
   {
    "duration": 55,
    "start_time": "2025-01-08T03:17:53.373Z"
   },
   {
    "duration": 21,
    "start_time": "2025-01-08T03:17:53.434Z"
   },
   {
    "duration": 17,
    "start_time": "2025-01-08T03:17:53.457Z"
   },
   {
    "duration": 11,
    "start_time": "2025-01-08T03:17:53.479Z"
   },
   {
    "duration": 41,
    "start_time": "2025-01-08T03:17:53.492Z"
   },
   {
    "duration": 6,
    "start_time": "2025-01-08T03:17:53.535Z"
   },
   {
    "duration": 3,
    "start_time": "2025-01-08T03:17:53.543Z"
   },
   {
    "duration": 4,
    "start_time": "2025-01-08T03:17:53.548Z"
   },
   {
    "duration": 8,
    "start_time": "2025-01-08T03:17:53.555Z"
   },
   {
    "duration": 111,
    "start_time": "2025-01-08T03:17:53.564Z"
   },
   {
    "duration": 5,
    "start_time": "2025-01-08T03:17:53.677Z"
   },
   {
    "duration": 1193,
    "start_time": "2025-01-08T03:17:53.685Z"
   },
   {
    "duration": 967,
    "start_time": "2025-01-08T03:17:54.880Z"
   },
   {
    "duration": 5,
    "start_time": "2025-01-08T03:17:55.849Z"
   },
   {
    "duration": 330,
    "start_time": "2025-01-08T03:17:55.855Z"
   },
   {
    "duration": 122,
    "start_time": "2025-01-08T03:25:13.631Z"
   },
   {
    "duration": 470,
    "start_time": "2025-01-08T03:30:41.308Z"
   },
   {
    "duration": 3,
    "start_time": "2025-01-08T03:30:46.004Z"
   },
   {
    "duration": 33,
    "start_time": "2025-01-08T03:30:46.011Z"
   },
   {
    "duration": 2,
    "start_time": "2025-01-08T03:30:46.046Z"
   },
   {
    "duration": 8,
    "start_time": "2025-01-08T03:30:46.050Z"
   },
   {
    "duration": 6,
    "start_time": "2025-01-08T03:30:46.060Z"
   },
   {
    "duration": 8,
    "start_time": "2025-01-08T03:30:46.068Z"
   },
   {
    "duration": 6,
    "start_time": "2025-01-08T03:30:46.105Z"
   },
   {
    "duration": 10,
    "start_time": "2025-01-08T03:30:46.112Z"
   },
   {
    "duration": 8,
    "start_time": "2025-01-08T03:30:46.125Z"
   },
   {
    "duration": 8,
    "start_time": "2025-01-08T03:30:46.134Z"
   },
   {
    "duration": 6,
    "start_time": "2025-01-08T03:30:46.146Z"
   },
   {
    "duration": 56,
    "start_time": "2025-01-08T03:30:46.154Z"
   },
   {
    "duration": 14,
    "start_time": "2025-01-08T03:30:46.211Z"
   },
   {
    "duration": 12,
    "start_time": "2025-01-08T03:30:46.227Z"
   },
   {
    "duration": 5,
    "start_time": "2025-01-08T03:30:46.240Z"
   },
   {
    "duration": 7,
    "start_time": "2025-01-08T03:30:46.247Z"
   },
   {
    "duration": 49,
    "start_time": "2025-01-08T03:30:46.256Z"
   },
   {
    "duration": 9,
    "start_time": "2025-01-08T03:30:46.307Z"
   },
   {
    "duration": 11,
    "start_time": "2025-01-08T03:30:46.318Z"
   },
   {
    "duration": 11,
    "start_time": "2025-01-08T03:30:46.331Z"
   },
   {
    "duration": 8,
    "start_time": "2025-01-08T03:30:46.344Z"
   },
   {
    "duration": 4,
    "start_time": "2025-01-08T03:30:46.353Z"
   },
   {
    "duration": 4,
    "start_time": "2025-01-08T03:30:46.359Z"
   },
   {
    "duration": 55,
    "start_time": "2025-01-08T03:30:46.365Z"
   },
   {
    "duration": 25,
    "start_time": "2025-01-08T03:30:46.422Z"
   },
   {
    "duration": 18,
    "start_time": "2025-01-08T03:30:46.449Z"
   },
   {
    "duration": 40,
    "start_time": "2025-01-08T03:30:46.469Z"
   },
   {
    "duration": 13,
    "start_time": "2025-01-08T03:30:46.510Z"
   },
   {
    "duration": 15,
    "start_time": "2025-01-08T03:30:46.527Z"
   },
   {
    "duration": 6,
    "start_time": "2025-01-08T03:30:46.543Z"
   },
   {
    "duration": 3,
    "start_time": "2025-01-08T03:30:46.551Z"
   },
   {
    "duration": 4,
    "start_time": "2025-01-08T03:30:46.556Z"
   },
   {
    "duration": 43,
    "start_time": "2025-01-08T03:30:46.563Z"
   },
   {
    "duration": 85,
    "start_time": "2025-01-08T03:30:46.607Z"
   },
   {
    "duration": 15,
    "start_time": "2025-01-08T03:30:46.693Z"
   },
   {
    "duration": 1123,
    "start_time": "2025-01-08T03:30:46.710Z"
   },
   {
    "duration": 838,
    "start_time": "2025-01-08T03:30:47.835Z"
   },
   {
    "duration": 5,
    "start_time": "2025-01-08T03:30:48.675Z"
   },
   {
    "duration": 344,
    "start_time": "2025-01-08T03:30:48.682Z"
   },
   {
    "duration": 3,
    "start_time": "2025-01-08T03:35:29.278Z"
   },
   {
    "duration": 335,
    "start_time": "2025-01-08T03:35:36.573Z"
   },
   {
    "duration": 266,
    "start_time": "2025-01-08T03:36:03.521Z"
   },
   {
    "duration": 7,
    "start_time": "2025-01-08T03:40:53.893Z"
   },
   {
    "duration": 286,
    "start_time": "2025-01-08T03:41:50.451Z"
   },
   {
    "duration": 7,
    "start_time": "2025-01-08T03:42:54.810Z"
   },
   {
    "duration": 260,
    "start_time": "2025-01-08T03:46:21.345Z"
   },
   {
    "duration": 2733,
    "start_time": "2025-01-21T13:25:22.688Z"
   },
   {
    "duration": 72,
    "start_time": "2025-01-21T13:25:25.424Z"
   },
   {
    "duration": 3,
    "start_time": "2025-01-21T13:25:25.498Z"
   },
   {
    "duration": 11,
    "start_time": "2025-01-21T13:25:25.503Z"
   },
   {
    "duration": 6,
    "start_time": "2025-01-21T13:25:25.516Z"
   },
   {
    "duration": 9,
    "start_time": "2025-01-21T13:25:25.523Z"
   },
   {
    "duration": 6,
    "start_time": "2025-01-21T13:25:25.533Z"
   },
   {
    "duration": 10,
    "start_time": "2025-01-21T13:25:25.541Z"
   },
   {
    "duration": 40,
    "start_time": "2025-01-21T13:25:25.552Z"
   },
   {
    "duration": 8,
    "start_time": "2025-01-21T13:25:25.596Z"
   },
   {
    "duration": 7,
    "start_time": "2025-01-21T13:25:25.606Z"
   },
   {
    "duration": 29,
    "start_time": "2025-01-21T13:25:25.615Z"
   },
   {
    "duration": 49,
    "start_time": "2025-01-21T13:25:25.645Z"
   },
   {
    "duration": 13,
    "start_time": "2025-01-21T13:25:25.696Z"
   },
   {
    "duration": 4,
    "start_time": "2025-01-21T13:25:25.711Z"
   },
   {
    "duration": 7,
    "start_time": "2025-01-21T13:25:25.717Z"
   },
   {
    "duration": 17,
    "start_time": "2025-01-21T13:25:25.726Z"
   },
   {
    "duration": 9,
    "start_time": "2025-01-21T13:25:25.744Z"
   },
   {
    "duration": 11,
    "start_time": "2025-01-21T13:25:25.786Z"
   },
   {
    "duration": 12,
    "start_time": "2025-01-21T13:25:25.799Z"
   },
   {
    "duration": 8,
    "start_time": "2025-01-21T13:25:25.813Z"
   },
   {
    "duration": 4,
    "start_time": "2025-01-21T13:25:25.822Z"
   },
   {
    "duration": 5,
    "start_time": "2025-01-21T13:25:25.828Z"
   },
   {
    "duration": 51,
    "start_time": "2025-01-21T13:25:25.836Z"
   },
   {
    "duration": 24,
    "start_time": "2025-01-21T13:25:25.889Z"
   },
   {
    "duration": 18,
    "start_time": "2025-01-21T13:25:25.915Z"
   },
   {
    "duration": 18,
    "start_time": "2025-01-21T13:25:25.935Z"
   },
   {
    "duration": 36,
    "start_time": "2025-01-21T13:25:25.956Z"
   },
   {
    "duration": 14,
    "start_time": "2025-01-21T13:25:25.993Z"
   },
   {
    "duration": 6,
    "start_time": "2025-01-21T13:25:26.009Z"
   },
   {
    "duration": 4,
    "start_time": "2025-01-21T13:25:26.017Z"
   },
   {
    "duration": 4,
    "start_time": "2025-01-21T13:25:26.022Z"
   },
   {
    "duration": 9,
    "start_time": "2025-01-21T13:25:26.027Z"
   },
   {
    "duration": 122,
    "start_time": "2025-01-21T13:25:26.037Z"
   },
   {
    "duration": 5,
    "start_time": "2025-01-21T13:25:26.161Z"
   },
   {
    "duration": 1171,
    "start_time": "2025-01-21T13:25:26.168Z"
   },
   {
    "duration": 763,
    "start_time": "2025-01-21T13:25:27.341Z"
   },
   {
    "duration": 5,
    "start_time": "2025-01-21T13:25:28.106Z"
   },
   {
    "duration": 341,
    "start_time": "2025-01-21T13:25:28.113Z"
   },
   {
    "duration": 5,
    "start_time": "2025-01-21T13:25:28.456Z"
   },
   {
    "duration": 262,
    "start_time": "2025-01-21T13:25:28.463Z"
   },
   {
    "duration": 11,
    "start_time": "2025-01-21T14:42:13.723Z"
   },
   {
    "duration": 2853,
    "start_time": "2025-01-21T21:49:17.822Z"
   },
   {
    "duration": 70,
    "start_time": "2025-01-21T21:49:20.678Z"
   },
   {
    "duration": 3,
    "start_time": "2025-01-21T21:49:20.750Z"
   },
   {
    "duration": 11,
    "start_time": "2025-01-21T21:49:20.756Z"
   },
   {
    "duration": 6,
    "start_time": "2025-01-21T21:49:20.768Z"
   },
   {
    "duration": 9,
    "start_time": "2025-01-21T21:49:20.776Z"
   },
   {
    "duration": 6,
    "start_time": "2025-01-21T21:49:20.786Z"
   },
   {
    "duration": 10,
    "start_time": "2025-01-21T21:49:20.793Z"
   },
   {
    "duration": 31,
    "start_time": "2025-01-21T21:49:20.804Z"
   },
   {
    "duration": 9,
    "start_time": "2025-01-21T21:49:20.838Z"
   },
   {
    "duration": 9,
    "start_time": "2025-01-21T21:49:20.849Z"
   },
   {
    "duration": 30,
    "start_time": "2025-01-21T21:49:20.859Z"
   },
   {
    "duration": 44,
    "start_time": "2025-01-21T21:49:20.891Z"
   },
   {
    "duration": 14,
    "start_time": "2025-01-21T21:49:20.939Z"
   },
   {
    "duration": 5,
    "start_time": "2025-01-21T21:49:20.955Z"
   },
   {
    "duration": 7,
    "start_time": "2025-01-21T21:49:20.962Z"
   },
   {
    "duration": 19,
    "start_time": "2025-01-21T21:49:20.972Z"
   },
   {
    "duration": 40,
    "start_time": "2025-01-21T21:49:20.993Z"
   },
   {
    "duration": 15,
    "start_time": "2025-01-21T21:49:21.035Z"
   },
   {
    "duration": 14,
    "start_time": "2025-01-21T21:49:21.052Z"
   },
   {
    "duration": 9,
    "start_time": "2025-01-21T21:49:21.068Z"
   },
   {
    "duration": 5,
    "start_time": "2025-01-21T21:49:21.079Z"
   },
   {
    "duration": 6,
    "start_time": "2025-01-21T21:49:21.085Z"
   },
   {
    "duration": 56,
    "start_time": "2025-01-21T21:49:21.093Z"
   },
   {
    "duration": 26,
    "start_time": "2025-01-21T21:49:21.151Z"
   },
   {
    "duration": 19,
    "start_time": "2025-01-21T21:49:21.179Z"
   },
   {
    "duration": 45,
    "start_time": "2025-01-21T21:49:21.201Z"
   },
   {
    "duration": 11,
    "start_time": "2025-01-21T21:49:21.250Z"
   },
   {
    "duration": 14,
    "start_time": "2025-01-21T21:49:21.263Z"
   },
   {
    "duration": 6,
    "start_time": "2025-01-21T21:49:21.279Z"
   },
   {
    "duration": 3,
    "start_time": "2025-01-21T21:49:21.287Z"
   },
   {
    "duration": 4,
    "start_time": "2025-01-21T21:49:21.292Z"
   },
   {
    "duration": 43,
    "start_time": "2025-01-21T21:49:21.298Z"
   },
   {
    "duration": 105,
    "start_time": "2025-01-21T21:49:21.343Z"
   },
   {
    "duration": 6,
    "start_time": "2025-01-21T21:49:21.449Z"
   },
   {
    "duration": 1239,
    "start_time": "2025-01-21T21:49:21.457Z"
   },
   {
    "duration": 845,
    "start_time": "2025-01-21T21:49:22.698Z"
   },
   {
    "duration": 7,
    "start_time": "2025-01-21T21:49:23.545Z"
   },
   {
    "duration": 358,
    "start_time": "2025-01-21T21:49:23.555Z"
   },
   {
    "duration": 4,
    "start_time": "2025-01-21T21:49:23.914Z"
   },
   {
    "duration": 278,
    "start_time": "2025-01-21T21:49:23.920Z"
   },
   {
    "duration": 13,
    "start_time": "2025-01-21T21:49:24.202Z"
   },
   {
    "duration": 15,
    "start_time": "2025-01-21T21:49:24.217Z"
   },
   {
    "duration": 7,
    "start_time": "2025-01-21T21:49:24.234Z"
   },
   {
    "duration": 2,
    "start_time": "2025-01-21T21:49:24.243Z"
   },
   {
    "duration": 16,
    "start_time": "2025-01-21T22:15:08.516Z"
   },
   {
    "duration": 10,
    "start_time": "2025-01-21T22:15:34.190Z"
   },
   {
    "duration": 11,
    "start_time": "2025-01-21T22:16:06.009Z"
   },
   {
    "duration": 9,
    "start_time": "2025-01-21T22:16:51.813Z"
   },
   {
    "duration": 28,
    "start_time": "2025-01-21T22:58:41.802Z"
   },
   {
    "duration": 13,
    "start_time": "2025-01-21T23:01:22.508Z"
   },
   {
    "duration": 18,
    "start_time": "2025-01-21T23:49:48.872Z"
   },
   {
    "duration": 10,
    "start_time": "2025-01-22T00:21:44.410Z"
   },
   {
    "duration": 10,
    "start_time": "2025-01-22T00:30:30.967Z"
   },
   {
    "duration": 10,
    "start_time": "2025-01-22T00:31:53.750Z"
   },
   {
    "duration": 4,
    "start_time": "2025-01-22T00:49:12.822Z"
   },
   {
    "duration": 37,
    "start_time": "2025-01-22T00:49:12.828Z"
   },
   {
    "duration": 3,
    "start_time": "2025-01-22T00:49:12.867Z"
   },
   {
    "duration": 9,
    "start_time": "2025-01-22T00:49:12.872Z"
   },
   {
    "duration": 6,
    "start_time": "2025-01-22T00:49:12.883Z"
   },
   {
    "duration": 9,
    "start_time": "2025-01-22T00:49:12.891Z"
   },
   {
    "duration": 6,
    "start_time": "2025-01-22T00:49:12.901Z"
   },
   {
    "duration": 28,
    "start_time": "2025-01-22T00:49:12.908Z"
   },
   {
    "duration": 8,
    "start_time": "2025-01-22T00:49:12.938Z"
   },
   {
    "duration": 9,
    "start_time": "2025-01-22T00:49:12.951Z"
   },
   {
    "duration": 8,
    "start_time": "2025-01-22T00:49:12.961Z"
   },
   {
    "duration": 27,
    "start_time": "2025-01-22T00:49:12.971Z"
   },
   {
    "duration": 13,
    "start_time": "2025-01-22T00:49:13.032Z"
   },
   {
    "duration": 14,
    "start_time": "2025-01-22T00:49:13.047Z"
   },
   {
    "duration": 4,
    "start_time": "2025-01-22T00:49:13.063Z"
   },
   {
    "duration": 8,
    "start_time": "2025-01-22T00:49:13.069Z"
   },
   {
    "duration": 17,
    "start_time": "2025-01-22T00:49:13.079Z"
   },
   {
    "duration": 8,
    "start_time": "2025-01-22T00:49:13.131Z"
   },
   {
    "duration": 13,
    "start_time": "2025-01-22T00:49:13.141Z"
   },
   {
    "duration": 12,
    "start_time": "2025-01-22T00:49:13.155Z"
   },
   {
    "duration": 8,
    "start_time": "2025-01-22T00:49:13.168Z"
   },
   {
    "duration": 8,
    "start_time": "2025-01-22T00:49:13.178Z"
   },
   {
    "duration": 6,
    "start_time": "2025-01-22T00:49:13.188Z"
   },
   {
    "duration": 55,
    "start_time": "2025-01-22T00:49:13.196Z"
   },
   {
    "duration": 27,
    "start_time": "2025-01-22T00:49:13.254Z"
   },
   {
    "duration": 19,
    "start_time": "2025-01-22T00:49:13.282Z"
   },
   {
    "duration": 38,
    "start_time": "2025-01-22T00:49:13.302Z"
   },
   {
    "duration": 11,
    "start_time": "2025-01-22T00:49:13.344Z"
   },
   {
    "duration": 14,
    "start_time": "2025-01-22T00:49:13.356Z"
   },
   {
    "duration": 8,
    "start_time": "2025-01-22T00:49:13.372Z"
   },
   {
    "duration": 3,
    "start_time": "2025-01-22T00:49:13.381Z"
   },
   {
    "duration": 4,
    "start_time": "2025-01-22T00:49:13.386Z"
   },
   {
    "duration": 42,
    "start_time": "2025-01-22T00:49:13.392Z"
   },
   {
    "duration": 96,
    "start_time": "2025-01-22T00:49:13.435Z"
   },
   {
    "duration": 5,
    "start_time": "2025-01-22T00:49:13.533Z"
   },
   {
    "duration": 1222,
    "start_time": "2025-01-22T00:49:13.540Z"
   },
   {
    "duration": 804,
    "start_time": "2025-01-22T00:49:14.763Z"
   },
   {
    "duration": 5,
    "start_time": "2025-01-22T00:49:15.569Z"
   },
   {
    "duration": 350,
    "start_time": "2025-01-22T00:49:15.576Z"
   },
   {
    "duration": 7,
    "start_time": "2025-01-22T00:49:15.931Z"
   },
   {
    "duration": 275,
    "start_time": "2025-01-22T00:49:15.942Z"
   },
   {
    "duration": 14,
    "start_time": "2025-01-22T00:49:16.219Z"
   },
   {
    "duration": 4,
    "start_time": "2025-01-22T00:49:16.234Z"
   },
   {
    "duration": 6,
    "start_time": "2025-01-22T00:49:16.240Z"
   },
   {
    "duration": 15,
    "start_time": "2025-01-22T00:49:16.248Z"
   },
   {
    "duration": 12,
    "start_time": "2025-01-22T00:49:16.264Z"
   },
   {
    "duration": 21,
    "start_time": "2025-01-22T00:49:16.278Z"
   },
   {
    "duration": 12,
    "start_time": "2025-01-22T00:49:16.331Z"
   },
   {
    "duration": 8,
    "start_time": "2025-01-22T00:49:16.345Z"
   },
   {
    "duration": 4,
    "start_time": "2025-01-22T00:59:16.147Z"
   },
   {
    "duration": 10,
    "start_time": "2025-01-22T00:59:16.154Z"
   },
   {
    "duration": 18,
    "start_time": "2025-01-22T00:59:16.166Z"
   },
   {
    "duration": 11,
    "start_time": "2025-01-22T00:59:16.186Z"
   },
   {
    "duration": 20,
    "start_time": "2025-01-22T00:59:16.198Z"
   },
   {
    "duration": 18,
    "start_time": "2025-01-22T00:59:16.220Z"
   },
   {
    "duration": 11,
    "start_time": "2025-01-22T00:59:16.239Z"
   },
   {
    "duration": 11,
    "start_time": "2025-01-22T01:09:36.601Z"
   },
   {
    "duration": 11,
    "start_time": "2025-01-22T01:10:30.189Z"
   },
   {
    "duration": 4,
    "start_time": "2025-01-22T01:16:17.890Z"
   },
   {
    "duration": 10,
    "start_time": "2025-01-22T01:26:04.600Z"
   },
   {
    "duration": 10,
    "start_time": "2025-01-22T01:28:38.176Z"
   },
   {
    "duration": 10,
    "start_time": "2025-01-22T01:29:14.095Z"
   },
   {
    "duration": 3,
    "start_time": "2025-01-22T01:29:17.690Z"
   },
   {
    "duration": 9,
    "start_time": "2025-01-22T01:29:47.412Z"
   },
   {
    "duration": 5,
    "start_time": "2025-01-22T01:29:50.313Z"
   },
   {
    "duration": 12,
    "start_time": "2025-01-22T01:30:48.381Z"
   },
   {
    "duration": 12,
    "start_time": "2025-01-22T01:44:30.702Z"
   },
   {
    "duration": 17,
    "start_time": "2025-01-22T01:45:30.397Z"
   },
   {
    "duration": 13,
    "start_time": "2025-01-22T01:45:44.534Z"
   },
   {
    "duration": 6,
    "start_time": "2025-01-22T01:47:20.103Z"
   },
   {
    "duration": 6,
    "start_time": "2025-01-22T01:47:41.119Z"
   },
   {
    "duration": 12,
    "start_time": "2025-01-22T01:48:48.023Z"
   },
   {
    "duration": 4,
    "start_time": "2025-01-22T01:48:53.272Z"
   },
   {
    "duration": 248,
    "start_time": "2025-01-22T01:49:18.035Z"
   },
   {
    "duration": 9,
    "start_time": "2025-01-22T01:51:48.861Z"
   },
   {
    "duration": 28,
    "start_time": "2025-01-22T01:52:07.617Z"
   },
   {
    "duration": 11,
    "start_time": "2025-01-22T01:56:09.939Z"
   },
   {
    "duration": 12,
    "start_time": "2025-01-22T02:01:57.632Z"
   },
   {
    "duration": 3,
    "start_time": "2025-01-22T02:22:37.185Z"
   },
   {
    "duration": 37,
    "start_time": "2025-01-22T02:22:37.197Z"
   },
   {
    "duration": 3,
    "start_time": "2025-01-22T02:22:37.236Z"
   },
   {
    "duration": 9,
    "start_time": "2025-01-22T02:22:37.240Z"
   },
   {
    "duration": 7,
    "start_time": "2025-01-22T02:22:37.252Z"
   },
   {
    "duration": 8,
    "start_time": "2025-01-22T02:22:37.262Z"
   },
   {
    "duration": 5,
    "start_time": "2025-01-22T02:22:37.272Z"
   },
   {
    "duration": 9,
    "start_time": "2025-01-22T02:22:37.279Z"
   },
   {
    "duration": 42,
    "start_time": "2025-01-22T02:22:37.290Z"
   },
   {
    "duration": 10,
    "start_time": "2025-01-22T02:22:37.334Z"
   },
   {
    "duration": 7,
    "start_time": "2025-01-22T02:22:37.345Z"
   },
   {
    "duration": 27,
    "start_time": "2025-01-22T02:22:37.354Z"
   },
   {
    "duration": 13,
    "start_time": "2025-01-22T02:22:37.382Z"
   },
   {
    "duration": 42,
    "start_time": "2025-01-22T02:22:37.396Z"
   },
   {
    "duration": 4,
    "start_time": "2025-01-22T02:22:37.442Z"
   },
   {
    "duration": 8,
    "start_time": "2025-01-22T02:22:37.448Z"
   },
   {
    "duration": 17,
    "start_time": "2025-01-22T02:22:37.457Z"
   },
   {
    "duration": 8,
    "start_time": "2025-01-22T02:22:37.475Z"
   },
   {
    "duration": 13,
    "start_time": "2025-01-22T02:22:37.486Z"
   },
   {
    "duration": 14,
    "start_time": "2025-01-22T02:22:37.531Z"
   },
   {
    "duration": 10,
    "start_time": "2025-01-22T02:22:37.547Z"
   },
   {
    "duration": 6,
    "start_time": "2025-01-22T02:22:37.559Z"
   },
   {
    "duration": 5,
    "start_time": "2025-01-22T02:22:37.567Z"
   },
   {
    "duration": 24,
    "start_time": "2025-01-22T02:22:37.574Z"
   },
   {
    "duration": 33,
    "start_time": "2025-01-22T02:22:37.631Z"
   },
   {
    "duration": 27,
    "start_time": "2025-01-22T02:22:37.666Z"
   },
   {
    "duration": 17,
    "start_time": "2025-01-22T02:22:37.695Z"
   },
   {
    "duration": 29,
    "start_time": "2025-01-22T02:22:37.714Z"
   },
   {
    "duration": 16,
    "start_time": "2025-01-22T02:22:37.744Z"
   },
   {
    "duration": 7,
    "start_time": "2025-01-22T02:22:37.762Z"
   },
   {
    "duration": 3,
    "start_time": "2025-01-22T02:22:37.771Z"
   },
   {
    "duration": 5,
    "start_time": "2025-01-22T02:22:37.776Z"
   },
   {
    "duration": 9,
    "start_time": "2025-01-22T02:22:37.783Z"
   },
   {
    "duration": 87,
    "start_time": "2025-01-22T02:22:37.832Z"
   },
   {
    "duration": 6,
    "start_time": "2025-01-22T02:22:37.931Z"
   },
   {
    "duration": 1248,
    "start_time": "2025-01-22T02:22:37.938Z"
   },
   {
    "duration": 860,
    "start_time": "2025-01-22T02:22:39.188Z"
   },
   {
    "duration": 6,
    "start_time": "2025-01-22T02:22:40.050Z"
   },
   {
    "duration": 336,
    "start_time": "2025-01-22T02:22:40.058Z"
   },
   {
    "duration": 6,
    "start_time": "2025-01-22T02:22:40.395Z"
   },
   {
    "duration": 276,
    "start_time": "2025-01-22T02:22:40.403Z"
   },
   {
    "duration": 10,
    "start_time": "2025-01-22T02:22:40.683Z"
   },
   {
    "duration": 6,
    "start_time": "2025-01-22T02:22:40.695Z"
   },
   {
    "duration": 8,
    "start_time": "2025-01-22T02:22:40.704Z"
   },
   {
    "duration": 34,
    "start_time": "2025-01-22T02:22:40.714Z"
   },
   {
    "duration": 13,
    "start_time": "2025-01-22T02:22:40.750Z"
   },
   {
    "duration": 22,
    "start_time": "2025-01-22T02:22:40.764Z"
   },
   {
    "duration": 12,
    "start_time": "2025-01-22T02:22:40.788Z"
   },
   {
    "duration": 15,
    "start_time": "2025-01-22T02:23:47.919Z"
   },
   {
    "duration": 2884,
    "start_time": "2025-01-22T19:34:11.096Z"
   },
   {
    "duration": 65,
    "start_time": "2025-01-22T19:34:13.982Z"
   },
   {
    "duration": 4,
    "start_time": "2025-01-22T19:34:14.049Z"
   },
   {
    "duration": 11,
    "start_time": "2025-01-22T19:34:14.056Z"
   },
   {
    "duration": 7,
    "start_time": "2025-01-22T19:34:14.068Z"
   },
   {
    "duration": 7,
    "start_time": "2025-01-22T19:34:14.077Z"
   },
   {
    "duration": 6,
    "start_time": "2025-01-22T19:34:14.086Z"
   },
   {
    "duration": 10,
    "start_time": "2025-01-22T19:34:14.094Z"
   },
   {
    "duration": 30,
    "start_time": "2025-01-22T19:34:14.106Z"
   },
   {
    "duration": 8,
    "start_time": "2025-01-22T19:34:14.141Z"
   },
   {
    "duration": 7,
    "start_time": "2025-01-22T19:34:14.151Z"
   },
   {
    "duration": 35,
    "start_time": "2025-01-22T19:34:14.160Z"
   },
   {
    "duration": 36,
    "start_time": "2025-01-22T19:34:14.197Z"
   },
   {
    "duration": 14,
    "start_time": "2025-01-22T19:34:14.235Z"
   },
   {
    "duration": 5,
    "start_time": "2025-01-22T19:34:14.251Z"
   },
   {
    "duration": 8,
    "start_time": "2025-01-22T19:34:14.258Z"
   },
   {
    "duration": 22,
    "start_time": "2025-01-22T19:34:14.267Z"
   },
   {
    "duration": 42,
    "start_time": "2025-01-22T19:34:14.291Z"
   },
   {
    "duration": 15,
    "start_time": "2025-01-22T19:34:14.335Z"
   },
   {
    "duration": 15,
    "start_time": "2025-01-22T19:34:14.351Z"
   },
   {
    "duration": 10,
    "start_time": "2025-01-22T19:34:14.368Z"
   },
   {
    "duration": 4,
    "start_time": "2025-01-22T19:34:14.381Z"
   },
   {
    "duration": 5,
    "start_time": "2025-01-22T19:34:14.387Z"
   },
   {
    "duration": 50,
    "start_time": "2025-01-22T19:34:14.395Z"
   },
   {
    "duration": 27,
    "start_time": "2025-01-22T19:34:14.448Z"
   },
   {
    "duration": 23,
    "start_time": "2025-01-22T19:34:14.477Z"
   },
   {
    "duration": 43,
    "start_time": "2025-01-22T19:34:14.502Z"
   },
   {
    "duration": 13,
    "start_time": "2025-01-22T19:34:14.550Z"
   },
   {
    "duration": 18,
    "start_time": "2025-01-22T19:34:14.565Z"
   },
   {
    "duration": 7,
    "start_time": "2025-01-22T19:34:14.585Z"
   },
   {
    "duration": 3,
    "start_time": "2025-01-22T19:34:14.594Z"
   },
   {
    "duration": 36,
    "start_time": "2025-01-22T19:34:14.599Z"
   },
   {
    "duration": 9,
    "start_time": "2025-01-22T19:34:14.637Z"
   },
   {
    "duration": 103,
    "start_time": "2025-01-22T19:34:14.648Z"
   },
   {
    "duration": 6,
    "start_time": "2025-01-22T19:34:14.753Z"
   },
   {
    "duration": 1230,
    "start_time": "2025-01-22T19:34:14.761Z"
   },
   {
    "duration": 838,
    "start_time": "2025-01-22T19:34:15.995Z"
   },
   {
    "duration": 6,
    "start_time": "2025-01-22T19:34:16.835Z"
   },
   {
    "duration": 357,
    "start_time": "2025-01-22T19:34:16.842Z"
   },
   {
    "duration": 4,
    "start_time": "2025-01-22T19:34:17.202Z"
   },
   {
    "duration": 273,
    "start_time": "2025-01-22T19:34:17.209Z"
   },
   {
    "duration": 15,
    "start_time": "2025-01-22T19:34:17.484Z"
   },
   {
    "duration": 6,
    "start_time": "2025-01-22T19:34:17.500Z"
   },
   {
    "duration": 5,
    "start_time": "2025-01-22T19:34:17.509Z"
   },
   {
    "duration": 28,
    "start_time": "2025-01-22T19:34:17.516Z"
   },
   {
    "duration": 11,
    "start_time": "2025-01-22T19:34:17.546Z"
   },
   {
    "duration": 24,
    "start_time": "2025-01-22T19:34:17.559Z"
   },
   {
    "duration": 14,
    "start_time": "2025-01-22T19:34:17.585Z"
   },
   {
    "duration": 31,
    "start_time": "2025-01-22T20:33:36.621Z"
   },
   {
    "duration": 27539,
    "start_time": "2025-01-22T20:36:19.093Z"
   },
   {
    "duration": 10,
    "start_time": "2025-01-22T20:53:00.989Z"
   },
   {
    "duration": 26323,
    "start_time": "2025-01-22T20:53:32.726Z"
   },
   {
    "duration": 31,
    "start_time": "2025-01-22T21:30:25.917Z"
   },
   {
    "duration": 0,
    "start_time": "2025-01-22T21:47:46.279Z"
   },
   {
    "duration": 0,
    "start_time": "2025-01-22T21:47:46.280Z"
   },
   {
    "duration": 0,
    "start_time": "2025-01-22T21:47:46.281Z"
   },
   {
    "duration": 0,
    "start_time": "2025-01-22T21:47:46.282Z"
   },
   {
    "duration": 0,
    "start_time": "2025-01-22T21:47:46.283Z"
   },
   {
    "duration": 0,
    "start_time": "2025-01-22T21:47:46.284Z"
   },
   {
    "duration": 0,
    "start_time": "2025-01-22T21:47:46.286Z"
   },
   {
    "duration": 0,
    "start_time": "2025-01-22T21:47:46.287Z"
   },
   {
    "duration": 0,
    "start_time": "2025-01-22T21:47:46.287Z"
   },
   {
    "duration": 0,
    "start_time": "2025-01-22T21:47:46.288Z"
   },
   {
    "duration": 0,
    "start_time": "2025-01-22T21:47:46.289Z"
   },
   {
    "duration": 0,
    "start_time": "2025-01-22T21:47:46.290Z"
   },
   {
    "duration": 0,
    "start_time": "2025-01-22T21:47:46.331Z"
   },
   {
    "duration": 0,
    "start_time": "2025-01-22T21:47:46.332Z"
   },
   {
    "duration": 0,
    "start_time": "2025-01-22T21:47:46.333Z"
   },
   {
    "duration": 0,
    "start_time": "2025-01-22T21:47:46.334Z"
   },
   {
    "duration": 0,
    "start_time": "2025-01-22T21:47:46.335Z"
   },
   {
    "duration": 0,
    "start_time": "2025-01-22T21:47:46.338Z"
   },
   {
    "duration": 0,
    "start_time": "2025-01-22T21:47:46.339Z"
   },
   {
    "duration": 0,
    "start_time": "2025-01-22T21:47:46.340Z"
   },
   {
    "duration": 0,
    "start_time": "2025-01-22T21:47:46.342Z"
   },
   {
    "duration": 0,
    "start_time": "2025-01-22T21:47:46.343Z"
   },
   {
    "duration": 0,
    "start_time": "2025-01-22T21:47:46.344Z"
   },
   {
    "duration": 0,
    "start_time": "2025-01-22T21:47:46.346Z"
   },
   {
    "duration": 0,
    "start_time": "2025-01-22T21:47:46.347Z"
   },
   {
    "duration": 0,
    "start_time": "2025-01-22T21:47:46.348Z"
   },
   {
    "duration": 0,
    "start_time": "2025-01-22T21:47:46.350Z"
   },
   {
    "duration": 0,
    "start_time": "2025-01-22T21:47:46.351Z"
   },
   {
    "duration": 0,
    "start_time": "2025-01-22T21:47:46.353Z"
   },
   {
    "duration": 0,
    "start_time": "2025-01-22T21:47:46.354Z"
   },
   {
    "duration": 0,
    "start_time": "2025-01-22T21:47:46.355Z"
   },
   {
    "duration": 0,
    "start_time": "2025-01-22T21:47:46.356Z"
   },
   {
    "duration": 0,
    "start_time": "2025-01-22T21:47:46.358Z"
   },
   {
    "duration": 0,
    "start_time": "2025-01-22T21:47:46.359Z"
   },
   {
    "duration": 0,
    "start_time": "2025-01-22T21:47:46.361Z"
   },
   {
    "duration": 0,
    "start_time": "2025-01-22T21:47:46.362Z"
   },
   {
    "duration": 0,
    "start_time": "2025-01-22T21:47:46.364Z"
   },
   {
    "duration": 0,
    "start_time": "2025-01-22T21:47:46.365Z"
   },
   {
    "duration": 0,
    "start_time": "2025-01-22T21:47:46.367Z"
   },
   {
    "duration": 0,
    "start_time": "2025-01-22T21:47:46.367Z"
   },
   {
    "duration": 0,
    "start_time": "2025-01-22T21:47:46.368Z"
   },
   {
    "duration": 0,
    "start_time": "2025-01-22T21:47:46.369Z"
   },
   {
    "duration": 0,
    "start_time": "2025-01-22T21:47:46.370Z"
   },
   {
    "duration": 0,
    "start_time": "2025-01-22T21:47:46.432Z"
   },
   {
    "duration": 0,
    "start_time": "2025-01-22T21:47:46.433Z"
   },
   {
    "duration": 0,
    "start_time": "2025-01-22T21:47:46.433Z"
   },
   {
    "duration": 0,
    "start_time": "2025-01-22T21:47:46.435Z"
   },
   {
    "duration": 0,
    "start_time": "2025-01-22T21:47:46.435Z"
   },
   {
    "duration": 0,
    "start_time": "2025-01-22T21:47:46.436Z"
   },
   {
    "duration": 0,
    "start_time": "2025-01-22T21:47:46.437Z"
   },
   {
    "duration": 3,
    "start_time": "2025-01-22T21:47:55.014Z"
   },
   {
    "duration": 37,
    "start_time": "2025-01-22T21:47:55.019Z"
   },
   {
    "duration": 3,
    "start_time": "2025-01-22T21:47:55.058Z"
   },
   {
    "duration": 9,
    "start_time": "2025-01-22T21:47:55.063Z"
   },
   {
    "duration": 7,
    "start_time": "2025-01-22T21:47:55.074Z"
   },
   {
    "duration": 7,
    "start_time": "2025-01-22T21:47:55.083Z"
   },
   {
    "duration": 5,
    "start_time": "2025-01-22T21:47:55.092Z"
   },
   {
    "duration": 11,
    "start_time": "2025-01-22T21:47:55.132Z"
   },
   {
    "duration": 9,
    "start_time": "2025-01-22T21:47:55.145Z"
   },
   {
    "duration": 9,
    "start_time": "2025-01-22T21:47:55.156Z"
   },
   {
    "duration": 8,
    "start_time": "2025-01-22T21:47:55.168Z"
   },
   {
    "duration": 58,
    "start_time": "2025-01-22T21:47:55.178Z"
   },
   {
    "duration": 18,
    "start_time": "2025-01-22T21:47:55.240Z"
   },
   {
    "duration": 17,
    "start_time": "2025-01-22T21:47:55.260Z"
   },
   {
    "duration": 5,
    "start_time": "2025-01-22T21:47:55.279Z"
   },
   {
    "duration": 10,
    "start_time": "2025-01-22T21:47:55.286Z"
   },
   {
    "duration": 51,
    "start_time": "2025-01-22T21:47:55.297Z"
   },
   {
    "duration": 8,
    "start_time": "2025-01-22T21:47:55.350Z"
   },
   {
    "duration": 12,
    "start_time": "2025-01-22T21:47:55.359Z"
   },
   {
    "duration": 12,
    "start_time": "2025-01-22T21:47:55.372Z"
   },
   {
    "duration": 8,
    "start_time": "2025-01-22T21:47:55.386Z"
   },
   {
    "duration": 5,
    "start_time": "2025-01-22T21:47:55.395Z"
   },
   {
    "duration": 35,
    "start_time": "2025-01-22T21:47:55.401Z"
   },
   {
    "duration": 18,
    "start_time": "2025-01-22T21:47:55.437Z"
   },
   {
    "duration": 26,
    "start_time": "2025-01-22T21:47:55.457Z"
   },
   {
    "duration": 46,
    "start_time": "2025-01-22T21:47:55.485Z"
   },
   {
    "duration": 17,
    "start_time": "2025-01-22T21:47:55.533Z"
   },
   {
    "duration": 12,
    "start_time": "2025-01-22T21:47:55.552Z"
   },
   {
    "duration": 14,
    "start_time": "2025-01-22T21:47:55.569Z"
   },
   {
    "duration": 7,
    "start_time": "2025-01-22T21:47:55.585Z"
   },
   {
    "duration": 3,
    "start_time": "2025-01-22T21:47:55.593Z"
   },
   {
    "duration": 4,
    "start_time": "2025-01-22T21:47:55.631Z"
   },
   {
    "duration": 9,
    "start_time": "2025-01-22T21:47:55.636Z"
   },
   {
    "duration": 98,
    "start_time": "2025-01-22T21:47:55.647Z"
   },
   {
    "duration": 5,
    "start_time": "2025-01-22T21:47:55.747Z"
   },
   {
    "duration": 1117,
    "start_time": "2025-01-22T21:47:55.754Z"
   },
   {
    "duration": 787,
    "start_time": "2025-01-22T21:47:56.873Z"
   },
   {
    "duration": 7,
    "start_time": "2025-01-22T21:47:57.662Z"
   },
   {
    "duration": 351,
    "start_time": "2025-01-22T21:47:57.671Z"
   },
   {
    "duration": 5,
    "start_time": "2025-01-22T21:47:58.031Z"
   },
   {
    "duration": 276,
    "start_time": "2025-01-22T21:47:58.038Z"
   },
   {
    "duration": 21,
    "start_time": "2025-01-22T21:47:58.315Z"
   },
   {
    "duration": 6,
    "start_time": "2025-01-22T21:47:58.338Z"
   },
   {
    "duration": 6,
    "start_time": "2025-01-22T21:47:58.346Z"
   },
   {
    "duration": 16,
    "start_time": "2025-01-22T21:47:58.353Z"
   },
   {
    "duration": 11,
    "start_time": "2025-01-22T21:47:58.371Z"
   },
   {
    "duration": 19,
    "start_time": "2025-01-22T21:47:58.384Z"
   },
   {
    "duration": 39,
    "start_time": "2025-01-22T21:47:58.405Z"
   },
   {
    "duration": 12,
    "start_time": "2025-01-22T21:47:58.445Z"
   },
   {
    "duration": 683536,
    "start_time": "2025-01-22T21:47:58.458Z"
   },
   {
    "duration": 11,
    "start_time": "2025-01-22T22:07:23.317Z"
   },
   {
    "duration": 20555,
    "start_time": "2025-01-22T22:07:26.800Z"
   },
   {
    "duration": 3,
    "start_time": "2025-01-22T22:08:57.796Z"
   },
   {
    "duration": 38,
    "start_time": "2025-01-22T22:08:57.801Z"
   },
   {
    "duration": 5,
    "start_time": "2025-01-22T22:08:57.841Z"
   },
   {
    "duration": 8,
    "start_time": "2025-01-22T22:08:57.849Z"
   },
   {
    "duration": 8,
    "start_time": "2025-01-22T22:08:57.859Z"
   },
   {
    "duration": 9,
    "start_time": "2025-01-22T22:08:57.870Z"
   },
   {
    "duration": 6,
    "start_time": "2025-01-22T22:08:57.881Z"
   },
   {
    "duration": 43,
    "start_time": "2025-01-22T22:08:57.888Z"
   },
   {
    "duration": 18,
    "start_time": "2025-01-22T22:08:57.935Z"
   },
   {
    "duration": 8,
    "start_time": "2025-01-22T22:08:57.955Z"
   },
   {
    "duration": 8,
    "start_time": "2025-01-22T22:08:57.966Z"
   },
   {
    "duration": 29,
    "start_time": "2025-01-22T22:08:57.975Z"
   },
   {
    "duration": 36,
    "start_time": "2025-01-22T22:08:58.006Z"
   },
   {
    "duration": 14,
    "start_time": "2025-01-22T22:08:58.044Z"
   },
   {
    "duration": 4,
    "start_time": "2025-01-22T22:08:58.059Z"
   },
   {
    "duration": 7,
    "start_time": "2025-01-22T22:08:58.065Z"
   },
   {
    "duration": 17,
    "start_time": "2025-01-22T22:08:58.073Z"
   },
   {
    "duration": 8,
    "start_time": "2025-01-22T22:08:58.091Z"
   },
   {
    "duration": 15,
    "start_time": "2025-01-22T22:08:58.132Z"
   },
   {
    "duration": 13,
    "start_time": "2025-01-22T22:08:58.148Z"
   },
   {
    "duration": 8,
    "start_time": "2025-01-22T22:08:58.163Z"
   },
   {
    "duration": 4,
    "start_time": "2025-01-22T22:08:58.173Z"
   },
   {
    "duration": 5,
    "start_time": "2025-01-22T22:08:58.179Z"
   },
   {
    "duration": 54,
    "start_time": "2025-01-22T22:08:58.188Z"
   },
   {
    "duration": 25,
    "start_time": "2025-01-22T22:08:58.244Z"
   },
   {
    "duration": 20,
    "start_time": "2025-01-22T22:08:58.271Z"
   },
   {
    "duration": 38,
    "start_time": "2025-01-22T22:08:58.293Z"
   },
   {
    "duration": 12,
    "start_time": "2025-01-22T22:08:58.333Z"
   },
   {
    "duration": 16,
    "start_time": "2025-01-22T22:08:58.346Z"
   },
   {
    "duration": 6,
    "start_time": "2025-01-22T22:08:58.363Z"
   },
   {
    "duration": 4,
    "start_time": "2025-01-22T22:08:58.371Z"
   },
   {
    "duration": 4,
    "start_time": "2025-01-22T22:08:58.377Z"
   },
   {
    "duration": 9,
    "start_time": "2025-01-22T22:08:58.383Z"
   },
   {
    "duration": 121,
    "start_time": "2025-01-22T22:08:58.393Z"
   },
   {
    "duration": 5,
    "start_time": "2025-01-22T22:08:58.516Z"
   },
   {
    "duration": 1145,
    "start_time": "2025-01-22T22:08:58.522Z"
   },
   {
    "duration": 803,
    "start_time": "2025-01-22T22:08:59.669Z"
   },
   {
    "duration": 6,
    "start_time": "2025-01-22T22:09:00.474Z"
   },
   {
    "duration": 331,
    "start_time": "2025-01-22T22:09:00.482Z"
   },
   {
    "duration": 4,
    "start_time": "2025-01-22T22:09:00.815Z"
   },
   {
    "duration": 277,
    "start_time": "2025-01-22T22:09:00.821Z"
   },
   {
    "duration": 11,
    "start_time": "2025-01-22T22:09:01.100Z"
   },
   {
    "duration": 4,
    "start_time": "2025-01-22T22:09:01.113Z"
   },
   {
    "duration": 5,
    "start_time": "2025-01-22T22:09:01.131Z"
   },
   {
    "duration": 14,
    "start_time": "2025-01-22T22:09:01.138Z"
   },
   {
    "duration": 13,
    "start_time": "2025-01-22T22:09:01.154Z"
   },
   {
    "duration": 26,
    "start_time": "2025-01-22T22:09:01.169Z"
   },
   {
    "duration": 36,
    "start_time": "2025-01-22T22:09:01.199Z"
   },
   {
    "duration": 11,
    "start_time": "2025-01-22T22:09:01.238Z"
   },
   {
    "duration": 40,
    "start_time": "2025-01-22T22:09:01.251Z"
   },
   {
    "duration": 10,
    "start_time": "2025-01-22T22:10:49.727Z"
   },
   {
    "duration": 121783,
    "start_time": "2025-01-22T22:10:52.380Z"
   },
   {
    "duration": 3,
    "start_time": "2025-01-22T22:13:46.543Z"
   },
   {
    "duration": 31,
    "start_time": "2025-01-22T22:13:46.548Z"
   },
   {
    "duration": 3,
    "start_time": "2025-01-22T22:13:46.581Z"
   },
   {
    "duration": 9,
    "start_time": "2025-01-22T22:13:46.587Z"
   },
   {
    "duration": 7,
    "start_time": "2025-01-22T22:13:46.597Z"
   },
   {
    "duration": 27,
    "start_time": "2025-01-22T22:13:46.605Z"
   },
   {
    "duration": 6,
    "start_time": "2025-01-22T22:13:46.634Z"
   },
   {
    "duration": 10,
    "start_time": "2025-01-22T22:13:46.641Z"
   },
   {
    "duration": 9,
    "start_time": "2025-01-22T22:13:46.654Z"
   },
   {
    "duration": 9,
    "start_time": "2025-01-22T22:13:46.664Z"
   },
   {
    "duration": 8,
    "start_time": "2025-01-22T22:13:46.675Z"
   },
   {
    "duration": 69,
    "start_time": "2025-01-22T22:13:46.684Z"
   },
   {
    "duration": 14,
    "start_time": "2025-01-22T22:13:46.755Z"
   },
   {
    "duration": 14,
    "start_time": "2025-01-22T22:13:46.770Z"
   },
   {
    "duration": 6,
    "start_time": "2025-01-22T22:13:46.786Z"
   },
   {
    "duration": 8,
    "start_time": "2025-01-22T22:13:46.794Z"
   },
   {
    "duration": 17,
    "start_time": "2025-01-22T22:13:46.831Z"
   },
   {
    "duration": 8,
    "start_time": "2025-01-22T22:13:46.850Z"
   },
   {
    "duration": 12,
    "start_time": "2025-01-22T22:13:46.859Z"
   },
   {
    "duration": 12,
    "start_time": "2025-01-22T22:13:46.872Z"
   },
   {
    "duration": 8,
    "start_time": "2025-01-22T22:13:46.886Z"
   },
   {
    "duration": 38,
    "start_time": "2025-01-22T22:13:46.896Z"
   },
   {
    "duration": 7,
    "start_time": "2025-01-22T22:13:46.936Z"
   },
   {
    "duration": 20,
    "start_time": "2025-01-22T22:13:46.948Z"
   },
   {
    "duration": 27,
    "start_time": "2025-01-22T22:13:46.971Z"
   },
   {
    "duration": 46,
    "start_time": "2025-01-22T22:13:47.000Z"
   },
   {
    "duration": 18,
    "start_time": "2025-01-22T22:13:47.048Z"
   },
   {
    "duration": 12,
    "start_time": "2025-01-22T22:13:47.069Z"
   },
   {
    "duration": 15,
    "start_time": "2025-01-22T22:13:47.082Z"
   },
   {
    "duration": 34,
    "start_time": "2025-01-22T22:13:47.099Z"
   },
   {
    "duration": 4,
    "start_time": "2025-01-22T22:13:47.135Z"
   },
   {
    "duration": 4,
    "start_time": "2025-01-22T22:13:47.140Z"
   },
   {
    "duration": 9,
    "start_time": "2025-01-22T22:13:47.146Z"
   },
   {
    "duration": 108,
    "start_time": "2025-01-22T22:13:47.156Z"
   },
   {
    "duration": 6,
    "start_time": "2025-01-22T22:13:47.266Z"
   },
   {
    "duration": 1298,
    "start_time": "2025-01-22T22:13:47.273Z"
   },
   {
    "duration": 782,
    "start_time": "2025-01-22T22:13:48.573Z"
   },
   {
    "duration": 6,
    "start_time": "2025-01-22T22:13:49.357Z"
   },
   {
    "duration": 349,
    "start_time": "2025-01-22T22:13:49.365Z"
   },
   {
    "duration": 15,
    "start_time": "2025-01-22T22:13:49.716Z"
   },
   {
    "duration": 291,
    "start_time": "2025-01-22T22:13:49.733Z"
   },
   {
    "duration": 14,
    "start_time": "2025-01-22T22:13:50.026Z"
   },
   {
    "duration": 5,
    "start_time": "2025-01-22T22:13:50.041Z"
   },
   {
    "duration": 6,
    "start_time": "2025-01-22T22:13:50.047Z"
   },
   {
    "duration": 15,
    "start_time": "2025-01-22T22:13:50.056Z"
   },
   {
    "duration": 12,
    "start_time": "2025-01-22T22:13:50.073Z"
   },
   {
    "duration": 59,
    "start_time": "2025-01-22T22:13:50.087Z"
   },
   {
    "duration": 14,
    "start_time": "2025-01-22T22:13:50.148Z"
   },
   {
    "duration": 10,
    "start_time": "2025-01-22T22:13:50.164Z"
   },
   {
    "duration": 55055,
    "start_time": "2025-01-22T22:13:50.176Z"
   },
   {
    "duration": 4,
    "start_time": "2025-01-22T22:28:31.169Z"
   },
   {
    "duration": 36,
    "start_time": "2025-01-22T22:28:31.228Z"
   },
   {
    "duration": 3,
    "start_time": "2025-01-22T22:28:31.266Z"
   },
   {
    "duration": 10,
    "start_time": "2025-01-22T22:28:31.270Z"
   },
   {
    "duration": 7,
    "start_time": "2025-01-22T22:28:31.282Z"
   },
   {
    "duration": 7,
    "start_time": "2025-01-22T22:28:31.291Z"
   },
   {
    "duration": 6,
    "start_time": "2025-01-22T22:28:31.300Z"
   },
   {
    "duration": 32,
    "start_time": "2025-01-22T22:28:31.307Z"
   },
   {
    "duration": 8,
    "start_time": "2025-01-22T22:28:31.341Z"
   },
   {
    "duration": 9,
    "start_time": "2025-01-22T22:28:31.350Z"
   },
   {
    "duration": 8,
    "start_time": "2025-01-22T22:28:31.360Z"
   },
   {
    "duration": 29,
    "start_time": "2025-01-22T22:28:31.370Z"
   },
   {
    "duration": 16,
    "start_time": "2025-01-22T22:28:31.432Z"
   },
   {
    "duration": 15,
    "start_time": "2025-01-22T22:28:31.450Z"
   },
   {
    "duration": 6,
    "start_time": "2025-01-22T22:28:31.467Z"
   },
   {
    "duration": 8,
    "start_time": "2025-01-22T22:28:31.474Z"
   },
   {
    "duration": 50,
    "start_time": "2025-01-22T22:28:31.484Z"
   },
   {
    "duration": 9,
    "start_time": "2025-01-22T22:28:31.536Z"
   },
   {
    "duration": 12,
    "start_time": "2025-01-22T22:28:31.549Z"
   },
   {
    "duration": 13,
    "start_time": "2025-01-22T22:28:31.562Z"
   },
   {
    "duration": 8,
    "start_time": "2025-01-22T22:28:31.577Z"
   },
   {
    "duration": 4,
    "start_time": "2025-01-22T22:28:31.586Z"
   },
   {
    "duration": 44,
    "start_time": "2025-01-22T22:28:31.591Z"
   },
   {
    "duration": 18,
    "start_time": "2025-01-22T22:28:31.637Z"
   },
   {
    "duration": 27,
    "start_time": "2025-01-22T22:28:31.657Z"
   },
   {
    "duration": 45,
    "start_time": "2025-01-22T22:28:31.686Z"
   },
   {
    "duration": 17,
    "start_time": "2025-01-22T22:28:31.733Z"
   },
   {
    "duration": 12,
    "start_time": "2025-01-22T22:28:31.752Z"
   },
   {
    "duration": 16,
    "start_time": "2025-01-22T22:28:31.766Z"
   },
   {
    "duration": 6,
    "start_time": "2025-01-22T22:28:31.784Z"
   },
   {
    "duration": 3,
    "start_time": "2025-01-22T22:28:31.792Z"
   },
   {
    "duration": 37,
    "start_time": "2025-01-22T22:28:31.797Z"
   },
   {
    "duration": 10,
    "start_time": "2025-01-22T22:28:31.836Z"
   },
   {
    "duration": 95,
    "start_time": "2025-01-22T22:28:31.848Z"
   },
   {
    "duration": 6,
    "start_time": "2025-01-22T22:28:31.945Z"
   },
   {
    "duration": 1104,
    "start_time": "2025-01-22T22:28:31.953Z"
   },
   {
    "duration": 797,
    "start_time": "2025-01-22T22:28:33.060Z"
   },
   {
    "duration": 5,
    "start_time": "2025-01-22T22:28:33.859Z"
   },
   {
    "duration": 341,
    "start_time": "2025-01-22T22:28:33.869Z"
   },
   {
    "duration": 4,
    "start_time": "2025-01-22T22:28:34.212Z"
   },
   {
    "duration": 424,
    "start_time": "2025-01-22T22:28:34.218Z"
   },
   {
    "duration": 14,
    "start_time": "2025-01-22T22:28:34.644Z"
   },
   {
    "duration": 5,
    "start_time": "2025-01-22T22:28:34.660Z"
   },
   {
    "duration": 6,
    "start_time": "2025-01-22T22:28:34.667Z"
   },
   {
    "duration": 17,
    "start_time": "2025-01-22T22:28:34.675Z"
   },
   {
    "duration": 45,
    "start_time": "2025-01-22T22:28:34.694Z"
   },
   {
    "duration": 21,
    "start_time": "2025-01-22T22:28:34.740Z"
   },
   {
    "duration": 12,
    "start_time": "2025-01-22T22:28:34.763Z"
   },
   {
    "duration": 11,
    "start_time": "2025-01-22T22:28:34.778Z"
   },
   {
    "duration": 57056,
    "start_time": "2025-01-22T22:28:34.790Z"
   },
   {
    "duration": 12,
    "start_time": "2025-01-22T22:30:49.412Z"
   },
   {
    "duration": 11,
    "start_time": "2025-01-22T22:30:54.533Z"
   },
   {
    "duration": 47307,
    "start_time": "2025-01-22T22:30:57.529Z"
   },
   {
    "duration": 12,
    "start_time": "2025-01-22T22:32:21.613Z"
   },
   {
    "duration": 10,
    "start_time": "2025-01-22T22:32:29.734Z"
   },
   {
    "duration": 56468,
    "start_time": "2025-01-22T22:32:35.177Z"
   },
   {
    "duration": 10,
    "start_time": "2025-01-22T22:39:01.698Z"
   },
   {
    "duration": 61316,
    "start_time": "2025-01-22T22:39:04.133Z"
   },
   {
    "duration": 4,
    "start_time": "2025-01-22T22:52:36.791Z"
   },
   {
    "duration": 35,
    "start_time": "2025-01-22T22:52:36.797Z"
   },
   {
    "duration": 3,
    "start_time": "2025-01-22T22:52:36.833Z"
   },
   {
    "duration": 9,
    "start_time": "2025-01-22T22:52:36.838Z"
   },
   {
    "duration": 7,
    "start_time": "2025-01-22T22:52:36.850Z"
   },
   {
    "duration": 8,
    "start_time": "2025-01-22T22:52:36.859Z"
   },
   {
    "duration": 6,
    "start_time": "2025-01-22T22:52:36.868Z"
   },
   {
    "duration": 10,
    "start_time": "2025-01-22T22:52:36.875Z"
   },
   {
    "duration": 50,
    "start_time": "2025-01-22T22:52:36.887Z"
   },
   {
    "duration": 10,
    "start_time": "2025-01-22T22:52:36.939Z"
   },
   {
    "duration": 7,
    "start_time": "2025-01-22T22:52:36.951Z"
   },
   {
    "duration": 29,
    "start_time": "2025-01-22T22:52:36.960Z"
   },
   {
    "duration": 42,
    "start_time": "2025-01-22T22:52:36.993Z"
   },
   {
    "duration": 14,
    "start_time": "2025-01-22T22:52:37.037Z"
   },
   {
    "duration": 4,
    "start_time": "2025-01-22T22:52:37.053Z"
   },
   {
    "duration": 8,
    "start_time": "2025-01-22T22:52:37.059Z"
   },
   {
    "duration": 17,
    "start_time": "2025-01-22T22:52:37.069Z"
   },
   {
    "duration": 9,
    "start_time": "2025-01-22T22:52:37.087Z"
   },
   {
    "duration": 41,
    "start_time": "2025-01-22T22:52:37.097Z"
   },
   {
    "duration": 11,
    "start_time": "2025-01-22T22:52:37.140Z"
   },
   {
    "duration": 8,
    "start_time": "2025-01-22T22:52:37.153Z"
   },
   {
    "duration": 4,
    "start_time": "2025-01-22T22:52:37.162Z"
   },
   {
    "duration": 5,
    "start_time": "2025-01-22T22:52:37.168Z"
   },
   {
    "duration": 20,
    "start_time": "2025-01-22T22:52:37.174Z"
   },
   {
    "duration": 26,
    "start_time": "2025-01-22T22:52:37.231Z"
   },
   {
    "duration": 20,
    "start_time": "2025-01-22T22:52:37.259Z"
   },
   {
    "duration": 16,
    "start_time": "2025-01-22T22:52:37.280Z"
   },
   {
    "duration": 33,
    "start_time": "2025-01-22T22:52:37.299Z"
   },
   {
    "duration": 15,
    "start_time": "2025-01-22T22:52:37.333Z"
   },
   {
    "duration": 7,
    "start_time": "2025-01-22T22:52:37.350Z"
   },
   {
    "duration": 3,
    "start_time": "2025-01-22T22:52:37.359Z"
   },
   {
    "duration": 4,
    "start_time": "2025-01-22T22:52:37.364Z"
   },
   {
    "duration": 9,
    "start_time": "2025-01-22T22:52:37.369Z"
   },
   {
    "duration": 115,
    "start_time": "2025-01-22T22:52:37.382Z"
   },
   {
    "duration": 5,
    "start_time": "2025-01-22T22:52:37.499Z"
   },
   {
    "duration": 1156,
    "start_time": "2025-01-22T22:52:37.505Z"
   },
   {
    "duration": 787,
    "start_time": "2025-01-22T22:52:38.667Z"
   },
   {
    "duration": 8,
    "start_time": "2025-01-22T22:52:39.456Z"
   },
   {
    "duration": 355,
    "start_time": "2025-01-22T22:52:39.465Z"
   },
   {
    "duration": 4,
    "start_time": "2025-01-22T22:52:39.822Z"
   },
   {
    "duration": 269,
    "start_time": "2025-01-22T22:52:39.831Z"
   },
   {
    "duration": 10,
    "start_time": "2025-01-22T22:52:40.102Z"
   },
   {
    "duration": 4,
    "start_time": "2025-01-22T22:52:40.114Z"
   },
   {
    "duration": 17,
    "start_time": "2025-01-22T22:52:40.119Z"
   },
   {
    "duration": 15,
    "start_time": "2025-01-22T22:52:40.138Z"
   },
   {
    "duration": 12,
    "start_time": "2025-01-22T22:52:40.155Z"
   },
   {
    "duration": 20,
    "start_time": "2025-01-22T22:52:40.168Z"
   },
   {
    "duration": 13,
    "start_time": "2025-01-22T22:53:37.392Z"
   },
   {
    "duration": 10,
    "start_time": "2025-01-22T22:53:37.407Z"
   },
   {
    "duration": 31133,
    "start_time": "2025-01-22T22:53:37.419Z"
   },
   {
    "duration": 5,
    "start_time": "2025-01-22T22:55:30.633Z"
   },
   {
    "duration": 33,
    "start_time": "2025-01-22T22:55:30.640Z"
   },
   {
    "duration": 3,
    "start_time": "2025-01-22T22:55:30.675Z"
   },
   {
    "duration": 9,
    "start_time": "2025-01-22T22:55:30.679Z"
   },
   {
    "duration": 6,
    "start_time": "2025-01-22T22:55:30.690Z"
   },
   {
    "duration": 37,
    "start_time": "2025-01-22T22:55:30.698Z"
   },
   {
    "duration": 6,
    "start_time": "2025-01-22T22:55:30.737Z"
   },
   {
    "duration": 10,
    "start_time": "2025-01-22T22:55:30.744Z"
   },
   {
    "duration": 9,
    "start_time": "2025-01-22T22:55:30.756Z"
   },
   {
    "duration": 10,
    "start_time": "2025-01-22T22:55:30.766Z"
   },
   {
    "duration": 8,
    "start_time": "2025-01-22T22:55:30.778Z"
   },
   {
    "duration": 69,
    "start_time": "2025-01-22T22:55:30.789Z"
   },
   {
    "duration": 13,
    "start_time": "2025-01-22T22:55:30.860Z"
   },
   {
    "duration": 15,
    "start_time": "2025-01-22T22:55:30.877Z"
   },
   {
    "duration": 5,
    "start_time": "2025-01-22T22:55:30.894Z"
   },
   {
    "duration": 35,
    "start_time": "2025-01-22T22:55:30.901Z"
   },
   {
    "duration": 18,
    "start_time": "2025-01-22T22:55:30.937Z"
   },
   {
    "duration": 9,
    "start_time": "2025-01-22T22:55:30.957Z"
   },
   {
    "duration": 14,
    "start_time": "2025-01-22T22:55:30.968Z"
   },
   {
    "duration": 12,
    "start_time": "2025-01-22T22:55:30.983Z"
   },
   {
    "duration": 9,
    "start_time": "2025-01-22T22:55:31.031Z"
   },
   {
    "duration": 4,
    "start_time": "2025-01-22T22:55:31.042Z"
   },
   {
    "duration": 6,
    "start_time": "2025-01-22T22:55:31.048Z"
   },
   {
    "duration": 20,
    "start_time": "2025-01-22T22:55:31.055Z"
   },
   {
    "duration": 56,
    "start_time": "2025-01-22T22:55:31.078Z"
   },
   {
    "duration": 21,
    "start_time": "2025-01-22T22:55:31.136Z"
   },
   {
    "duration": 17,
    "start_time": "2025-01-22T22:55:31.159Z"
   },
   {
    "duration": 13,
    "start_time": "2025-01-22T22:55:31.178Z"
   },
   {
    "duration": 41,
    "start_time": "2025-01-22T22:55:31.193Z"
   },
   {
    "duration": 7,
    "start_time": "2025-01-22T22:55:31.236Z"
   },
   {
    "duration": 4,
    "start_time": "2025-01-22T22:55:31.244Z"
   },
   {
    "duration": 4,
    "start_time": "2025-01-22T22:55:31.251Z"
   },
   {
    "duration": 10,
    "start_time": "2025-01-22T22:55:31.257Z"
   },
   {
    "duration": 120,
    "start_time": "2025-01-22T22:55:31.269Z"
   },
   {
    "duration": 5,
    "start_time": "2025-01-22T22:55:31.391Z"
   },
   {
    "duration": 1145,
    "start_time": "2025-01-22T22:55:31.398Z"
   },
   {
    "duration": 1020,
    "start_time": "2025-01-22T22:55:32.544Z"
   },
   {
    "duration": 5,
    "start_time": "2025-01-22T22:55:33.566Z"
   },
   {
    "duration": 352,
    "start_time": "2025-01-22T22:55:33.573Z"
   },
   {
    "duration": 4,
    "start_time": "2025-01-22T22:55:33.931Z"
   },
   {
    "duration": 280,
    "start_time": "2025-01-22T22:55:33.940Z"
   },
   {
    "duration": 18,
    "start_time": "2025-01-22T22:55:34.222Z"
   },
   {
    "duration": 3,
    "start_time": "2025-01-22T22:55:34.242Z"
   },
   {
    "duration": 7,
    "start_time": "2025-01-22T22:55:34.246Z"
   },
   {
    "duration": 17,
    "start_time": "2025-01-22T22:55:34.254Z"
   },
   {
    "duration": 12,
    "start_time": "2025-01-22T22:55:34.273Z"
   },
   {
    "duration": 49,
    "start_time": "2025-01-22T22:55:34.286Z"
   },
   {
    "duration": 13,
    "start_time": "2025-01-22T22:55:34.337Z"
   },
   {
    "duration": 10,
    "start_time": "2025-01-22T22:55:34.352Z"
   },
   {
    "duration": 62193,
    "start_time": "2025-01-22T22:55:34.363Z"
   },
   {
    "duration": 9,
    "start_time": "2025-01-22T23:05:34.674Z"
   },
   {
    "duration": 62596,
    "start_time": "2025-01-22T23:05:44.136Z"
   },
   {
    "duration": 2846,
    "start_time": "2025-01-23T03:38:43.550Z"
   },
   {
    "duration": 67,
    "start_time": "2025-01-23T03:38:46.399Z"
   },
   {
    "duration": 4,
    "start_time": "2025-01-23T03:38:46.467Z"
   },
   {
    "duration": 12,
    "start_time": "2025-01-23T03:38:46.473Z"
   },
   {
    "duration": 7,
    "start_time": "2025-01-23T03:38:46.487Z"
   },
   {
    "duration": 11,
    "start_time": "2025-01-23T03:38:46.496Z"
   },
   {
    "duration": 7,
    "start_time": "2025-01-23T03:38:46.509Z"
   },
   {
    "duration": 12,
    "start_time": "2025-01-23T03:38:46.517Z"
   },
   {
    "duration": 9,
    "start_time": "2025-01-23T03:38:46.530Z"
   },
   {
    "duration": 8,
    "start_time": "2025-01-23T03:38:46.543Z"
   },
   {
    "duration": 9,
    "start_time": "2025-01-23T03:38:46.586Z"
   },
   {
    "duration": 28,
    "start_time": "2025-01-23T03:38:46.597Z"
   },
   {
    "duration": 14,
    "start_time": "2025-01-23T03:38:46.626Z"
   },
   {
    "duration": 14,
    "start_time": "2025-01-23T03:38:46.641Z"
   },
   {
    "duration": 34,
    "start_time": "2025-01-23T03:38:46.656Z"
   },
   {
    "duration": 8,
    "start_time": "2025-01-23T03:38:46.692Z"
   },
   {
    "duration": 17,
    "start_time": "2025-01-23T03:38:46.702Z"
   },
   {
    "duration": 7,
    "start_time": "2025-01-23T03:38:46.721Z"
   },
   {
    "duration": 12,
    "start_time": "2025-01-23T03:38:46.730Z"
   },
   {
    "duration": 45,
    "start_time": "2025-01-23T03:38:46.743Z"
   },
   {
    "duration": 8,
    "start_time": "2025-01-23T03:38:46.790Z"
   },
   {
    "duration": 3,
    "start_time": "2025-01-23T03:38:46.801Z"
   },
   {
    "duration": 5,
    "start_time": "2025-01-23T03:38:46.806Z"
   },
   {
    "duration": 18,
    "start_time": "2025-01-23T03:38:46.813Z"
   },
   {
    "duration": 60,
    "start_time": "2025-01-23T03:38:46.833Z"
   },
   {
    "duration": 25,
    "start_time": "2025-01-23T03:38:46.895Z"
   },
   {
    "duration": 20,
    "start_time": "2025-01-23T03:38:46.922Z"
   },
   {
    "duration": 14,
    "start_time": "2025-01-23T03:38:46.947Z"
   },
   {
    "duration": 38,
    "start_time": "2025-01-23T03:38:46.962Z"
   },
   {
    "duration": 8,
    "start_time": "2025-01-23T03:38:47.001Z"
   },
   {
    "duration": 6,
    "start_time": "2025-01-23T03:38:47.010Z"
   },
   {
    "duration": 7,
    "start_time": "2025-01-23T03:38:47.018Z"
   },
   {
    "duration": 11,
    "start_time": "2025-01-23T03:38:47.027Z"
   },
   {
    "duration": 197,
    "start_time": "2025-01-23T03:38:47.040Z"
   },
   {
    "duration": 5,
    "start_time": "2025-01-23T03:38:47.239Z"
   },
   {
    "duration": 1189,
    "start_time": "2025-01-23T03:38:47.246Z"
   },
   {
    "duration": 816,
    "start_time": "2025-01-23T03:38:48.438Z"
   },
   {
    "duration": 6,
    "start_time": "2025-01-23T03:38:49.256Z"
   },
   {
    "duration": 338,
    "start_time": "2025-01-23T03:38:49.263Z"
   },
   {
    "duration": 3,
    "start_time": "2025-01-23T03:38:49.603Z"
   },
   {
    "duration": 292,
    "start_time": "2025-01-23T03:38:49.608Z"
   },
   {
    "duration": 11,
    "start_time": "2025-01-23T03:38:49.902Z"
   },
   {
    "duration": 4,
    "start_time": "2025-01-23T03:38:49.914Z"
   },
   {
    "duration": 6,
    "start_time": "2025-01-23T03:38:49.920Z"
   },
   {
    "duration": 16,
    "start_time": "2025-01-23T03:38:49.927Z"
   },
   {
    "duration": 11,
    "start_time": "2025-01-23T03:38:49.944Z"
   },
   {
    "duration": 19,
    "start_time": "2025-01-23T03:38:49.986Z"
   },
   {
    "duration": 11,
    "start_time": "2025-01-23T03:38:50.007Z"
   },
   {
    "duration": 126,
    "start_time": "2025-01-23T03:38:50.019Z"
   },
   {
    "duration": 62748,
    "start_time": "2025-01-23T03:38:50.147Z"
   },
   {
    "duration": 9,
    "start_time": "2025-01-23T03:53:13.748Z"
   },
   {
    "duration": 62074,
    "start_time": "2025-01-23T03:53:16.827Z"
   },
   {
    "duration": 10,
    "start_time": "2025-01-23T04:20:16.031Z"
   },
   {
    "duration": 15635,
    "start_time": "2025-01-23T04:20:20.057Z"
   },
   {
    "duration": 9,
    "start_time": "2025-01-23T04:23:43.760Z"
   },
   {
    "duration": 640460,
    "start_time": "2025-01-23T04:23:45.640Z"
   },
   {
    "duration": 9,
    "start_time": "2025-01-23T04:39:46.014Z"
   },
   {
    "duration": 79825,
    "start_time": "2025-01-23T04:39:50.480Z"
   },
   {
    "duration": 10,
    "start_time": "2025-01-23T04:43:24.915Z"
   },
   {
    "duration": 77496,
    "start_time": "2025-01-23T04:43:26.808Z"
   },
   {
    "duration": 19,
    "start_time": "2025-01-23T04:45:57.993Z"
   },
   {
    "duration": 11,
    "start_time": "2025-01-23T04:45:58.014Z"
   },
   {
    "duration": 9,
    "start_time": "2025-01-23T04:45:58.026Z"
   },
   {
    "duration": 63476,
    "start_time": "2025-01-23T04:45:58.037Z"
   },
   {
    "duration": 20,
    "start_time": "2025-01-23T04:47:30.999Z"
   },
   {
    "duration": 13,
    "start_time": "2025-01-23T04:47:31.021Z"
   },
   {
    "duration": 9,
    "start_time": "2025-01-23T04:47:31.036Z"
   },
   {
    "duration": 76752,
    "start_time": "2025-01-23T04:47:31.047Z"
   },
   {
    "duration": 20,
    "start_time": "2025-01-23T04:49:35.127Z"
   },
   {
    "duration": 14,
    "start_time": "2025-01-23T04:49:35.149Z"
   },
   {
    "duration": 9,
    "start_time": "2025-01-23T04:49:35.166Z"
   },
   {
    "duration": 91524,
    "start_time": "2025-01-23T04:49:35.177Z"
   },
   {
    "duration": 14,
    "start_time": "2025-01-23T04:52:30.793Z"
   },
   {
    "duration": 9,
    "start_time": "2025-01-23T04:52:30.809Z"
   },
   {
    "duration": 77078,
    "start_time": "2025-01-23T04:52:30.820Z"
   },
   {
    "duration": 13,
    "start_time": "2025-01-23T04:54:27.648Z"
   },
   {
    "duration": 9,
    "start_time": "2025-01-23T04:54:42.895Z"
   },
   {
    "duration": 83207,
    "start_time": "2025-01-23T04:54:42.906Z"
   },
   {
    "duration": 5,
    "start_time": "2025-01-23T05:00:13.080Z"
   },
   {
    "duration": 41,
    "start_time": "2025-01-23T05:00:13.088Z"
   },
   {
    "duration": 3,
    "start_time": "2025-01-23T05:00:13.131Z"
   },
   {
    "duration": 13,
    "start_time": "2025-01-23T05:00:13.136Z"
   },
   {
    "duration": 9,
    "start_time": "2025-01-23T05:00:13.151Z"
   },
   {
    "duration": 26,
    "start_time": "2025-01-23T05:00:13.164Z"
   },
   {
    "duration": 8,
    "start_time": "2025-01-23T05:00:13.192Z"
   },
   {
    "duration": 10,
    "start_time": "2025-01-23T05:00:13.201Z"
   },
   {
    "duration": 10,
    "start_time": "2025-01-23T05:00:13.212Z"
   },
   {
    "duration": 8,
    "start_time": "2025-01-23T05:00:13.224Z"
   },
   {
    "duration": 8,
    "start_time": "2025-01-23T05:00:13.234Z"
   },
   {
    "duration": 69,
    "start_time": "2025-01-23T05:00:13.243Z"
   },
   {
    "duration": 13,
    "start_time": "2025-01-23T05:00:13.314Z"
   },
   {
    "duration": 13,
    "start_time": "2025-01-23T05:00:13.329Z"
   },
   {
    "duration": 5,
    "start_time": "2025-01-23T05:00:13.346Z"
   },
   {
    "duration": 36,
    "start_time": "2025-01-23T05:00:13.352Z"
   },
   {
    "duration": 20,
    "start_time": "2025-01-23T05:00:13.389Z"
   },
   {
    "duration": 8,
    "start_time": "2025-01-23T05:00:13.411Z"
   },
   {
    "duration": 12,
    "start_time": "2025-01-23T05:00:13.420Z"
   },
   {
    "duration": 12,
    "start_time": "2025-01-23T05:00:13.433Z"
   },
   {
    "duration": 42,
    "start_time": "2025-01-23T05:00:13.446Z"
   },
   {
    "duration": 8,
    "start_time": "2025-01-23T05:00:13.489Z"
   },
   {
    "duration": 6,
    "start_time": "2025-01-23T05:00:13.498Z"
   },
   {
    "duration": 18,
    "start_time": "2025-01-23T05:00:13.506Z"
   },
   {
    "duration": 26,
    "start_time": "2025-01-23T05:00:13.525Z"
   },
   {
    "duration": 48,
    "start_time": "2025-01-23T05:00:13.552Z"
   },
   {
    "duration": 16,
    "start_time": "2025-01-23T05:00:13.602Z"
   },
   {
    "duration": 11,
    "start_time": "2025-01-23T05:00:13.620Z"
   },
   {
    "duration": 15,
    "start_time": "2025-01-23T05:00:13.633Z"
   },
   {
    "duration": 6,
    "start_time": "2025-01-23T05:00:13.649Z"
   },
   {
    "duration": 5,
    "start_time": "2025-01-23T05:00:13.687Z"
   },
   {
    "duration": 5,
    "start_time": "2025-01-23T05:00:13.694Z"
   },
   {
    "duration": 10,
    "start_time": "2025-01-23T05:00:13.700Z"
   },
   {
    "duration": 103,
    "start_time": "2025-01-23T05:00:13.711Z"
   },
   {
    "duration": 5,
    "start_time": "2025-01-23T05:00:13.816Z"
   },
   {
    "duration": 1118,
    "start_time": "2025-01-23T05:00:13.823Z"
   },
   {
    "duration": 808,
    "start_time": "2025-01-23T05:00:14.943Z"
   },
   {
    "duration": 5,
    "start_time": "2025-01-23T05:00:15.753Z"
   },
   {
    "duration": 414,
    "start_time": "2025-01-23T05:00:15.760Z"
   },
   {
    "duration": 4,
    "start_time": "2025-01-23T05:00:16.176Z"
   },
   {
    "duration": 271,
    "start_time": "2025-01-23T05:00:16.181Z"
   },
   {
    "duration": 11,
    "start_time": "2025-01-23T05:00:16.458Z"
   },
   {
    "duration": 18,
    "start_time": "2025-01-23T05:00:16.470Z"
   },
   {
    "duration": 6,
    "start_time": "2025-01-23T05:00:16.489Z"
   },
   {
    "duration": 15,
    "start_time": "2025-01-23T05:00:16.497Z"
   },
   {
    "duration": 11,
    "start_time": "2025-01-23T05:00:16.514Z"
   },
   {
    "duration": 18,
    "start_time": "2025-01-23T05:00:16.526Z"
   },
   {
    "duration": 45,
    "start_time": "2025-01-23T05:00:16.546Z"
   },
   {
    "duration": 9,
    "start_time": "2025-01-23T05:00:16.592Z"
   },
   {
    "duration": 77505,
    "start_time": "2025-01-23T05:00:16.603Z"
   },
   {
    "duration": 14,
    "start_time": "2025-01-23T05:03:37.439Z"
   },
   {
    "duration": 11,
    "start_time": "2025-01-23T05:03:37.455Z"
   },
   {
    "duration": 76946,
    "start_time": "2025-01-23T05:03:37.468Z"
   },
   {
    "duration": 3137,
    "start_time": "2025-01-23T15:22:26.549Z"
   },
   {
    "duration": 93,
    "start_time": "2025-01-23T15:22:29.689Z"
   },
   {
    "duration": 4,
    "start_time": "2025-01-23T15:22:29.784Z"
   },
   {
    "duration": 13,
    "start_time": "2025-01-23T15:22:29.791Z"
   },
   {
    "duration": 11,
    "start_time": "2025-01-23T15:22:29.806Z"
   },
   {
    "duration": 12,
    "start_time": "2025-01-23T15:22:29.821Z"
   },
   {
    "duration": 8,
    "start_time": "2025-01-23T15:22:29.835Z"
   },
   {
    "duration": 13,
    "start_time": "2025-01-23T15:22:29.846Z"
   },
   {
    "duration": 65,
    "start_time": "2025-01-23T15:22:29.861Z"
   },
   {
    "duration": 9,
    "start_time": "2025-01-23T15:22:29.935Z"
   },
   {
    "duration": 8,
    "start_time": "2025-01-23T15:22:29.946Z"
   },
   {
    "duration": 28,
    "start_time": "2025-01-23T15:22:29.955Z"
   },
   {
    "duration": 32,
    "start_time": "2025-01-23T15:22:29.984Z"
   },
   {
    "duration": 13,
    "start_time": "2025-01-23T15:22:30.034Z"
   },
   {
    "duration": 4,
    "start_time": "2025-01-23T15:22:30.048Z"
   },
   {
    "duration": 7,
    "start_time": "2025-01-23T15:22:30.054Z"
   },
   {
    "duration": 17,
    "start_time": "2025-01-23T15:22:30.063Z"
   },
   {
    "duration": 8,
    "start_time": "2025-01-23T15:22:30.082Z"
   },
   {
    "duration": 39,
    "start_time": "2025-01-23T15:22:30.092Z"
   },
   {
    "duration": 13,
    "start_time": "2025-01-23T15:22:30.132Z"
   },
   {
    "duration": 8,
    "start_time": "2025-01-23T15:22:30.147Z"
   },
   {
    "duration": 5,
    "start_time": "2025-01-23T15:22:30.156Z"
   },
   {
    "duration": 5,
    "start_time": "2025-01-23T15:22:30.162Z"
   },
   {
    "duration": 64,
    "start_time": "2025-01-23T15:22:30.169Z"
   },
   {
    "duration": 26,
    "start_time": "2025-01-23T15:22:30.234Z"
   },
   {
    "duration": 20,
    "start_time": "2025-01-23T15:22:30.261Z"
   },
   {
    "duration": 17,
    "start_time": "2025-01-23T15:22:30.283Z"
   },
   {
    "duration": 33,
    "start_time": "2025-01-23T15:22:30.304Z"
   },
   {
    "duration": 15,
    "start_time": "2025-01-23T15:22:30.338Z"
   },
   {
    "duration": 7,
    "start_time": "2025-01-23T15:22:30.355Z"
   },
   {
    "duration": 4,
    "start_time": "2025-01-23T15:22:30.364Z"
   },
   {
    "duration": 4,
    "start_time": "2025-01-23T15:22:30.369Z"
   },
   {
    "duration": 8,
    "start_time": "2025-01-23T15:22:30.375Z"
   },
   {
    "duration": 208,
    "start_time": "2025-01-23T15:22:30.385Z"
   },
   {
    "duration": 6,
    "start_time": "2025-01-23T15:22:30.596Z"
   },
   {
    "duration": 1369,
    "start_time": "2025-01-23T15:22:30.604Z"
   },
   {
    "duration": 998,
    "start_time": "2025-01-23T15:22:31.975Z"
   },
   {
    "duration": 6,
    "start_time": "2025-01-23T15:22:32.974Z"
   },
   {
    "duration": 405,
    "start_time": "2025-01-23T15:22:32.982Z"
   },
   {
    "duration": 3,
    "start_time": "2025-01-23T15:22:33.389Z"
   },
   {
    "duration": 304,
    "start_time": "2025-01-23T15:22:33.394Z"
   },
   {
    "duration": 14,
    "start_time": "2025-01-23T15:22:33.700Z"
   },
   {
    "duration": 6,
    "start_time": "2025-01-23T15:22:33.717Z"
   },
   {
    "duration": 8,
    "start_time": "2025-01-23T15:22:33.726Z"
   },
   {
    "duration": 21,
    "start_time": "2025-01-23T15:22:33.737Z"
   },
   {
    "duration": 56,
    "start_time": "2025-01-23T15:22:33.760Z"
   },
   {
    "duration": 24,
    "start_time": "2025-01-23T15:22:33.818Z"
   },
   {
    "duration": 14,
    "start_time": "2025-01-23T15:22:33.844Z"
   },
   {
    "duration": 28,
    "start_time": "2025-01-23T15:22:54.630Z"
   },
   {
    "duration": 25,
    "start_time": "2025-01-23T15:45:53.955Z"
   },
   {
    "duration": 447,
    "start_time": "2025-01-23T15:46:09.420Z"
   },
   {
    "duration": 5,
    "start_time": "2025-01-23T15:47:02.454Z"
   },
   {
    "duration": 303,
    "start_time": "2025-01-23T15:48:26.921Z"
   },
   {
    "duration": 150346,
    "start_time": "2025-01-23T15:48:37.079Z"
   },
   {
    "duration": 21,
    "start_time": "2025-01-23T15:53:39.602Z"
   },
   {
    "duration": 25,
    "start_time": "2025-01-23T15:53:49.800Z"
   },
   {
    "duration": 24,
    "start_time": "2025-01-23T15:54:00.873Z"
   },
   {
    "duration": 24,
    "start_time": "2025-01-23T15:54:56.504Z"
   },
   {
    "duration": 26,
    "start_time": "2025-01-23T15:55:05.569Z"
   },
   {
    "duration": 27,
    "start_time": "2025-01-23T15:55:23.026Z"
   },
   {
    "duration": 28,
    "start_time": "2025-01-23T15:55:41.474Z"
   },
   {
    "duration": 30,
    "start_time": "2025-01-23T15:55:49.645Z"
   },
   {
    "duration": 37,
    "start_time": "2025-01-23T15:55:55.883Z"
   },
   {
    "duration": 31,
    "start_time": "2025-01-23T15:56:03.555Z"
   },
   {
    "duration": 32,
    "start_time": "2025-01-23T15:56:10.723Z"
   },
   {
    "duration": 32,
    "start_time": "2025-01-23T15:56:20.889Z"
   },
   {
    "duration": 31,
    "start_time": "2025-01-23T15:56:27.626Z"
   },
   {
    "duration": 26,
    "start_time": "2025-01-23T15:56:33.818Z"
   },
   {
    "duration": 25,
    "start_time": "2025-01-23T15:56:52.553Z"
   },
   {
    "duration": 26,
    "start_time": "2025-01-23T15:57:17.566Z"
   },
   {
    "duration": 371,
    "start_time": "2025-01-23T15:58:10.587Z"
   },
   {
    "duration": 385,
    "start_time": "2025-01-23T15:58:45.721Z"
   },
   {
    "duration": 280,
    "start_time": "2025-01-23T15:58:55.995Z"
   },
   {
    "duration": 310,
    "start_time": "2025-01-23T15:59:09.157Z"
   },
   {
    "duration": 338,
    "start_time": "2025-01-23T15:59:16.954Z"
   },
   {
    "duration": 365,
    "start_time": "2025-01-23T15:59:35.702Z"
   },
   {
    "duration": 369,
    "start_time": "2025-01-23T15:59:59.443Z"
   },
   {
    "duration": 261,
    "start_time": "2025-01-23T16:00:20.337Z"
   },
   {
    "duration": 193,
    "start_time": "2025-01-23T16:00:31.537Z"
   },
   {
    "duration": 224,
    "start_time": "2025-01-23T16:00:39.060Z"
   },
   {
    "duration": 296,
    "start_time": "2025-01-23T16:00:49.008Z"
   },
   {
    "duration": 329,
    "start_time": "2025-01-23T16:00:57.158Z"
   },
   {
    "duration": 363,
    "start_time": "2025-01-23T16:01:26.063Z"
   },
   {
    "duration": 436,
    "start_time": "2025-01-23T16:01:36.381Z"
   },
   {
    "duration": 406,
    "start_time": "2025-01-23T16:01:42.643Z"
   },
   {
    "duration": 362,
    "start_time": "2025-01-23T16:01:51.262Z"
   },
   {
    "duration": 36,
    "start_time": "2025-01-23T16:03:25.402Z"
   },
   {
    "duration": 51,
    "start_time": "2025-01-23T16:03:34.886Z"
   },
   {
    "duration": 364,
    "start_time": "2025-01-23T16:04:00.880Z"
   },
   {
    "duration": 363,
    "start_time": "2025-01-23T16:04:17.183Z"
   },
   {
    "duration": 366,
    "start_time": "2025-01-23T16:04:39.512Z"
   },
   {
    "duration": 134,
    "start_time": "2025-01-23T16:06:54.290Z"
   },
   {
    "duration": 119,
    "start_time": "2025-01-23T16:07:08.100Z"
   },
   {
    "duration": 283,
    "start_time": "2025-01-23T16:07:17.135Z"
   },
   {
    "duration": 244,
    "start_time": "2025-01-23T16:07:27.275Z"
   },
   {
    "duration": 323,
    "start_time": "2025-01-23T16:07:39.396Z"
   },
   {
    "duration": 255,
    "start_time": "2025-01-23T16:07:48.969Z"
   },
   {
    "duration": 259,
    "start_time": "2025-01-23T16:08:11.671Z"
   },
   {
    "duration": 308,
    "start_time": "2025-01-23T16:08:23.015Z"
   },
   {
    "duration": 353,
    "start_time": "2025-01-23T16:08:39.351Z"
   },
   {
    "duration": 240,
    "start_time": "2025-01-23T16:08:48.285Z"
   },
   {
    "duration": 247,
    "start_time": "2025-01-23T16:09:00.267Z"
   },
   {
    "duration": 185,
    "start_time": "2025-01-23T16:09:09.430Z"
   },
   {
    "duration": 67,
    "start_time": "2025-01-23T16:09:22.050Z"
   },
   {
    "duration": 37,
    "start_time": "2025-01-23T16:10:02.796Z"
   },
   {
    "duration": 50,
    "start_time": "2025-01-23T16:11:29.666Z"
   },
   {
    "duration": 44,
    "start_time": "2025-01-23T16:11:38.767Z"
   },
   {
    "duration": 108,
    "start_time": "2025-01-23T16:11:55.306Z"
   },
   {
    "duration": 86,
    "start_time": "2025-01-23T16:12:05.722Z"
   },
   {
    "duration": 36,
    "start_time": "2025-01-23T16:12:24.484Z"
   },
   {
    "duration": 110,
    "start_time": "2025-01-23T16:12:31.708Z"
   },
   {
    "duration": 97,
    "start_time": "2025-01-23T16:12:39.820Z"
   },
   {
    "duration": 75,
    "start_time": "2025-01-23T16:12:53.234Z"
   },
   {
    "duration": 43,
    "start_time": "2025-01-23T16:15:15.168Z"
   },
   {
    "duration": 76,
    "start_time": "2025-01-23T16:15:25.031Z"
   },
   {
    "duration": 234,
    "start_time": "2025-01-23T16:15:32.672Z"
   },
   {
    "duration": 71,
    "start_time": "2025-01-23T16:15:41.140Z"
   },
   {
    "duration": 92,
    "start_time": "2025-01-23T16:15:47.620Z"
   },
   {
    "duration": 72,
    "start_time": "2025-01-23T16:15:57.236Z"
   },
   {
    "duration": 111,
    "start_time": "2025-01-23T16:16:08.297Z"
   },
   {
    "duration": 70,
    "start_time": "2025-01-23T16:16:16.437Z"
   },
   {
    "duration": 44,
    "start_time": "2025-01-23T16:16:27.267Z"
   },
   {
    "duration": 76,
    "start_time": "2025-01-23T16:17:05.236Z"
   },
   {
    "duration": 67,
    "start_time": "2025-01-23T16:17:13.943Z"
   },
   {
    "duration": 373,
    "start_time": "2025-01-23T16:18:39.626Z"
   },
   {
    "duration": 366,
    "start_time": "2025-01-23T16:18:49.509Z"
   },
   {
    "duration": 369,
    "start_time": "2025-01-23T16:18:59.545Z"
   },
   {
    "duration": 364,
    "start_time": "2025-01-23T16:19:10.396Z"
   },
   {
    "duration": 363,
    "start_time": "2025-01-23T16:19:17.735Z"
   },
   {
    "duration": 370,
    "start_time": "2025-01-23T16:19:33.084Z"
   },
   {
    "duration": 370,
    "start_time": "2025-01-23T16:19:41.580Z"
   },
   {
    "duration": 381,
    "start_time": "2025-01-23T16:19:52.182Z"
   },
   {
    "duration": 223,
    "start_time": "2025-01-23T16:22:18.946Z"
   },
   {
    "duration": 1589,
    "start_time": "2025-01-23T16:22:43.574Z"
   },
   {
    "duration": 197,
    "start_time": "2025-01-23T16:22:58.550Z"
   },
   {
    "duration": 267,
    "start_time": "2025-01-23T16:23:20.921Z"
   },
   {
    "duration": 219,
    "start_time": "2025-01-23T16:23:28.631Z"
   },
   {
    "duration": 158,
    "start_time": "2025-01-23T16:23:40.082Z"
   },
   {
    "duration": 165,
    "start_time": "2025-01-23T16:23:49.702Z"
   },
   {
    "duration": 183,
    "start_time": "2025-01-23T16:24:27.302Z"
   },
   {
    "duration": 195,
    "start_time": "2025-01-23T16:24:37.412Z"
   },
   {
    "duration": 181,
    "start_time": "2025-01-23T16:24:46.226Z"
   },
   {
    "duration": 177,
    "start_time": "2025-01-23T16:25:07.358Z"
   },
   {
    "duration": 189,
    "start_time": "2025-01-23T16:25:24.040Z"
   },
   {
    "duration": 175,
    "start_time": "2025-01-23T16:25:35.082Z"
   },
   {
    "duration": 190,
    "start_time": "2025-01-23T16:25:44.517Z"
   },
   {
    "duration": 177,
    "start_time": "2025-01-23T16:25:56.673Z"
   },
   {
    "duration": 190,
    "start_time": "2025-01-23T16:26:42.774Z"
   },
   {
    "duration": 181,
    "start_time": "2025-01-23T16:26:52.712Z"
   },
   {
    "duration": 180,
    "start_time": "2025-01-23T16:27:03.229Z"
   },
   {
    "duration": 165,
    "start_time": "2025-01-23T16:27:21.498Z"
   },
   {
    "duration": 150,
    "start_time": "2025-01-23T16:27:31.988Z"
   },
   {
    "duration": 212,
    "start_time": "2025-01-23T16:27:40.741Z"
   },
   {
    "duration": 182,
    "start_time": "2025-01-23T16:27:51.946Z"
   },
   {
    "duration": 2757,
    "start_time": "2025-01-23T22:41:23.392Z"
   },
   {
    "duration": 68,
    "start_time": "2025-01-23T22:41:26.152Z"
   },
   {
    "duration": 3,
    "start_time": "2025-01-23T22:41:26.222Z"
   },
   {
    "duration": 14,
    "start_time": "2025-01-23T22:41:26.227Z"
   },
   {
    "duration": 6,
    "start_time": "2025-01-23T22:41:26.243Z"
   },
   {
    "duration": 8,
    "start_time": "2025-01-23T22:41:26.251Z"
   },
   {
    "duration": 6,
    "start_time": "2025-01-23T22:41:26.261Z"
   },
   {
    "duration": 19,
    "start_time": "2025-01-23T22:41:26.268Z"
   },
   {
    "duration": 10,
    "start_time": "2025-01-23T22:41:26.288Z"
   },
   {
    "duration": 8,
    "start_time": "2025-01-23T22:41:26.299Z"
   },
   {
    "duration": 8,
    "start_time": "2025-01-23T22:41:26.309Z"
   },
   {
    "duration": 27,
    "start_time": "2025-01-23T22:41:26.319Z"
   },
   {
    "duration": 43,
    "start_time": "2025-01-23T22:41:26.348Z"
   },
   {
    "duration": 14,
    "start_time": "2025-01-23T22:41:26.394Z"
   },
   {
    "duration": 4,
    "start_time": "2025-01-23T22:41:26.409Z"
   },
   {
    "duration": 8,
    "start_time": "2025-01-23T22:41:26.415Z"
   },
   {
    "duration": 17,
    "start_time": "2025-01-23T22:41:26.425Z"
   },
   {
    "duration": 8,
    "start_time": "2025-01-23T22:41:26.444Z"
   },
   {
    "duration": 12,
    "start_time": "2025-01-23T22:41:26.487Z"
   },
   {
    "duration": 11,
    "start_time": "2025-01-23T22:41:26.501Z"
   },
   {
    "duration": 8,
    "start_time": "2025-01-23T22:41:26.514Z"
   },
   {
    "duration": 3,
    "start_time": "2025-01-23T22:41:26.524Z"
   },
   {
    "duration": 5,
    "start_time": "2025-01-23T22:41:26.530Z"
   },
   {
    "duration": 56,
    "start_time": "2025-01-23T22:41:26.536Z"
   },
   {
    "duration": 25,
    "start_time": "2025-01-23T22:41:26.594Z"
   },
   {
    "duration": 20,
    "start_time": "2025-01-23T22:41:26.620Z"
   },
   {
    "duration": 19,
    "start_time": "2025-01-23T22:41:26.641Z"
   },
   {
    "duration": 31,
    "start_time": "2025-01-23T22:41:26.662Z"
   },
   {
    "duration": 14,
    "start_time": "2025-01-23T22:41:26.695Z"
   },
   {
    "duration": 6,
    "start_time": "2025-01-23T22:41:26.711Z"
   },
   {
    "duration": 4,
    "start_time": "2025-01-23T22:41:26.718Z"
   },
   {
    "duration": 4,
    "start_time": "2025-01-23T22:41:26.724Z"
   },
   {
    "duration": 9,
    "start_time": "2025-01-23T22:41:26.729Z"
   },
   {
    "duration": 188,
    "start_time": "2025-01-23T22:41:26.739Z"
   },
   {
    "duration": 6,
    "start_time": "2025-01-23T22:41:26.929Z"
   },
   {
    "duration": 1155,
    "start_time": "2025-01-23T22:41:26.936Z"
   },
   {
    "duration": 809,
    "start_time": "2025-01-23T22:41:28.093Z"
   },
   {
    "duration": 6,
    "start_time": "2025-01-23T22:41:28.904Z"
   },
   {
    "duration": 352,
    "start_time": "2025-01-23T22:41:28.912Z"
   },
   {
    "duration": 4,
    "start_time": "2025-01-23T22:41:29.265Z"
   },
   {
    "duration": 264,
    "start_time": "2025-01-23T22:41:29.274Z"
   },
   {
    "duration": 11,
    "start_time": "2025-01-23T22:41:29.540Z"
   },
   {
    "duration": 3,
    "start_time": "2025-01-23T22:41:29.552Z"
   },
   {
    "duration": 5,
    "start_time": "2025-01-23T22:41:29.557Z"
   },
   {
    "duration": 34,
    "start_time": "2025-01-23T22:41:29.564Z"
   },
   {
    "duration": 11,
    "start_time": "2025-01-23T22:41:29.599Z"
   },
   {
    "duration": 18,
    "start_time": "2025-01-23T22:41:29.612Z"
   },
   {
    "duration": 11,
    "start_time": "2025-01-23T22:41:29.632Z"
   },
   {
    "duration": 27,
    "start_time": "2025-01-23T22:45:45.032Z"
   },
   {
    "duration": 27,
    "start_time": "2025-01-23T22:45:55.410Z"
   },
   {
    "duration": 32,
    "start_time": "2025-01-23T22:46:06.949Z"
   },
   {
    "duration": 13,
    "start_time": "2025-01-23T23:02:37.258Z"
   },
   {
    "duration": 130625,
    "start_time": "2025-01-23T23:02:46.793Z"
   },
   {
    "duration": 11,
    "start_time": "2025-01-23T23:10:44.394Z"
   },
   {
    "duration": 126004,
    "start_time": "2025-01-23T23:10:46.019Z"
   },
   {
    "duration": 10,
    "start_time": "2025-01-23T23:17:08.593Z"
   },
   {
    "duration": 9,
    "start_time": "2025-01-23T23:17:57.645Z"
   },
   {
    "duration": 186116,
    "start_time": "2025-01-23T23:17:58.567Z"
   },
   {
    "duration": 14,
    "start_time": "2025-01-23T23:23:38.121Z"
   },
   {
    "duration": 122247,
    "start_time": "2025-01-23T23:23:39.653Z"
   },
   {
    "duration": 3,
    "start_time": "2025-01-24T00:01:28.367Z"
   },
   {
    "duration": 38,
    "start_time": "2025-01-24T00:01:28.372Z"
   },
   {
    "duration": 3,
    "start_time": "2025-01-24T00:01:28.436Z"
   },
   {
    "duration": 8,
    "start_time": "2025-01-24T00:01:28.441Z"
   },
   {
    "duration": 6,
    "start_time": "2025-01-24T00:01:28.451Z"
   },
   {
    "duration": 8,
    "start_time": "2025-01-24T00:01:28.459Z"
   },
   {
    "duration": 5,
    "start_time": "2025-01-24T00:01:28.470Z"
   },
   {
    "duration": 13,
    "start_time": "2025-01-24T00:01:28.477Z"
   },
   {
    "duration": 9,
    "start_time": "2025-01-24T00:01:28.491Z"
   },
   {
    "duration": 9,
    "start_time": "2025-01-24T00:01:28.501Z"
   },
   {
    "duration": 7,
    "start_time": "2025-01-24T00:01:28.512Z"
   },
   {
    "duration": 27,
    "start_time": "2025-01-24T00:01:28.521Z"
   },
   {
    "duration": 45,
    "start_time": "2025-01-24T00:01:28.550Z"
   },
   {
    "duration": 13,
    "start_time": "2025-01-24T00:01:28.597Z"
   },
   {
    "duration": 5,
    "start_time": "2025-01-24T00:01:28.611Z"
   },
   {
    "duration": 7,
    "start_time": "2025-01-24T00:01:28.619Z"
   },
   {
    "duration": 15,
    "start_time": "2025-01-24T00:01:28.628Z"
   },
   {
    "duration": 44,
    "start_time": "2025-01-24T00:01:28.645Z"
   },
   {
    "duration": 13,
    "start_time": "2025-01-24T00:01:28.690Z"
   },
   {
    "duration": 11,
    "start_time": "2025-01-24T00:01:28.704Z"
   },
   {
    "duration": 8,
    "start_time": "2025-01-24T00:01:28.716Z"
   },
   {
    "duration": 4,
    "start_time": "2025-01-24T00:01:28.725Z"
   },
   {
    "duration": 4,
    "start_time": "2025-01-24T00:01:28.731Z"
   },
   {
    "duration": 50,
    "start_time": "2025-01-24T00:01:28.737Z"
   },
   {
    "duration": 25,
    "start_time": "2025-01-24T00:01:28.788Z"
   },
   {
    "duration": 19,
    "start_time": "2025-01-24T00:01:28.815Z"
   },
   {
    "duration": 17,
    "start_time": "2025-01-24T00:01:28.835Z"
   },
   {
    "duration": 40,
    "start_time": "2025-01-24T00:01:28.853Z"
   },
   {
    "duration": 15,
    "start_time": "2025-01-24T00:01:28.895Z"
   },
   {
    "duration": 7,
    "start_time": "2025-01-24T00:01:28.911Z"
   },
   {
    "duration": 3,
    "start_time": "2025-01-24T00:01:28.919Z"
   },
   {
    "duration": 5,
    "start_time": "2025-01-24T00:01:28.924Z"
   },
   {
    "duration": 9,
    "start_time": "2025-01-24T00:01:28.931Z"
   },
   {
    "duration": 116,
    "start_time": "2025-01-24T00:01:28.941Z"
   },
   {
    "duration": 6,
    "start_time": "2025-01-24T00:01:29.059Z"
   },
   {
    "duration": 1145,
    "start_time": "2025-01-24T00:01:29.066Z"
   },
   {
    "duration": 848,
    "start_time": "2025-01-24T00:01:30.212Z"
   },
   {
    "duration": 6,
    "start_time": "2025-01-24T00:01:31.061Z"
   },
   {
    "duration": 335,
    "start_time": "2025-01-24T00:01:31.069Z"
   },
   {
    "duration": 4,
    "start_time": "2025-01-24T00:01:31.406Z"
   },
   {
    "duration": 356,
    "start_time": "2025-01-24T00:01:31.411Z"
   },
   {
    "duration": 18,
    "start_time": "2025-01-24T00:01:31.769Z"
   },
   {
    "duration": 3,
    "start_time": "2025-01-24T00:01:31.792Z"
   },
   {
    "duration": 5,
    "start_time": "2025-01-24T00:01:31.797Z"
   },
   {
    "duration": 14,
    "start_time": "2025-01-24T00:01:31.804Z"
   },
   {
    "duration": 12,
    "start_time": "2025-01-24T00:01:31.819Z"
   },
   {
    "duration": 20,
    "start_time": "2025-01-24T00:01:31.833Z"
   },
   {
    "duration": 40,
    "start_time": "2025-01-24T00:01:31.854Z"
   },
   {
    "duration": 10,
    "start_time": "2025-01-24T00:01:31.895Z"
   },
   {
    "duration": 16173,
    "start_time": "2025-01-24T00:01:31.907Z"
   },
   {
    "duration": 0,
    "start_time": "2025-01-24T00:01:48.082Z"
   },
   {
    "duration": 0,
    "start_time": "2025-01-24T00:01:48.086Z"
   },
   {
    "duration": 0,
    "start_time": "2025-01-24T00:01:48.087Z"
   },
   {
    "duration": 0,
    "start_time": "2025-01-24T00:01:48.088Z"
   },
   {
    "duration": 4,
    "start_time": "2025-01-24T00:02:36.234Z"
   },
   {
    "duration": 30,
    "start_time": "2025-01-24T00:02:36.240Z"
   },
   {
    "duration": 3,
    "start_time": "2025-01-24T00:02:36.272Z"
   },
   {
    "duration": 10,
    "start_time": "2025-01-24T00:02:36.277Z"
   },
   {
    "duration": 7,
    "start_time": "2025-01-24T00:02:36.288Z"
   },
   {
    "duration": 8,
    "start_time": "2025-01-24T00:02:36.296Z"
   },
   {
    "duration": 6,
    "start_time": "2025-01-24T00:02:36.306Z"
   },
   {
    "duration": 10,
    "start_time": "2025-01-24T00:02:36.313Z"
   },
   {
    "duration": 8,
    "start_time": "2025-01-24T00:02:36.325Z"
   },
   {
    "duration": 10,
    "start_time": "2025-01-24T00:02:36.335Z"
   },
   {
    "duration": 45,
    "start_time": "2025-01-24T00:02:36.346Z"
   },
   {
    "duration": 28,
    "start_time": "2025-01-24T00:02:36.392Z"
   },
   {
    "duration": 13,
    "start_time": "2025-01-24T00:02:36.421Z"
   },
   {
    "duration": 14,
    "start_time": "2025-01-24T00:02:36.435Z"
   },
   {
    "duration": 5,
    "start_time": "2025-01-24T00:02:36.450Z"
   },
   {
    "duration": 8,
    "start_time": "2025-01-24T00:02:36.486Z"
   },
   {
    "duration": 16,
    "start_time": "2025-01-24T00:02:36.496Z"
   },
   {
    "duration": 8,
    "start_time": "2025-01-24T00:02:36.513Z"
   },
   {
    "duration": 12,
    "start_time": "2025-01-24T00:02:36.522Z"
   },
   {
    "duration": 11,
    "start_time": "2025-01-24T00:02:36.536Z"
   },
   {
    "duration": 43,
    "start_time": "2025-01-24T00:02:36.548Z"
   },
   {
    "duration": 4,
    "start_time": "2025-01-24T00:02:36.593Z"
   },
   {
    "duration": 4,
    "start_time": "2025-01-24T00:02:36.599Z"
   },
   {
    "duration": 18,
    "start_time": "2025-01-24T00:02:36.608Z"
   },
   {
    "duration": 25,
    "start_time": "2025-01-24T00:02:36.628Z"
   },
   {
    "duration": 48,
    "start_time": "2025-01-24T00:02:36.655Z"
   },
   {
    "duration": 17,
    "start_time": "2025-01-24T00:02:36.704Z"
   },
   {
    "duration": 11,
    "start_time": "2025-01-24T00:02:36.723Z"
   },
   {
    "duration": 16,
    "start_time": "2025-01-24T00:02:36.735Z"
   },
   {
    "duration": 33,
    "start_time": "2025-01-24T00:02:36.753Z"
   },
   {
    "duration": 4,
    "start_time": "2025-01-24T00:02:36.788Z"
   },
   {
    "duration": 4,
    "start_time": "2025-01-24T00:02:36.794Z"
   },
   {
    "duration": 10,
    "start_time": "2025-01-24T00:02:36.799Z"
   },
   {
    "duration": 101,
    "start_time": "2025-01-24T00:02:36.812Z"
   },
   {
    "duration": 5,
    "start_time": "2025-01-24T00:02:36.915Z"
   },
   {
    "duration": 1105,
    "start_time": "2025-01-24T00:02:36.921Z"
   },
   {
    "duration": 823,
    "start_time": "2025-01-24T00:02:38.028Z"
   },
   {
    "duration": 5,
    "start_time": "2025-01-24T00:02:38.853Z"
   },
   {
    "duration": 332,
    "start_time": "2025-01-24T00:02:38.860Z"
   },
   {
    "duration": 4,
    "start_time": "2025-01-24T00:02:39.194Z"
   },
   {
    "duration": 374,
    "start_time": "2025-01-24T00:02:39.199Z"
   },
   {
    "duration": 17,
    "start_time": "2025-01-24T00:02:39.574Z"
   },
   {
    "duration": 3,
    "start_time": "2025-01-24T00:02:39.593Z"
   },
   {
    "duration": 5,
    "start_time": "2025-01-24T00:02:39.598Z"
   },
   {
    "duration": 15,
    "start_time": "2025-01-24T00:02:39.604Z"
   },
   {
    "duration": 12,
    "start_time": "2025-01-24T00:02:39.621Z"
   },
   {
    "duration": 20,
    "start_time": "2025-01-24T00:02:39.634Z"
   },
   {
    "duration": 40,
    "start_time": "2025-01-24T00:02:39.655Z"
   },
   {
    "duration": 9,
    "start_time": "2025-01-24T00:02:39.698Z"
   },
   {
    "duration": 127618,
    "start_time": "2025-01-24T00:02:39.709Z"
   },
   {
    "duration": 7,
    "start_time": "2025-01-24T00:04:47.330Z"
   },
   {
    "duration": 4,
    "start_time": "2025-01-24T01:47:17.291Z"
   },
   {
    "duration": 41,
    "start_time": "2025-01-24T01:47:17.297Z"
   },
   {
    "duration": 3,
    "start_time": "2025-01-24T01:47:17.340Z"
   },
   {
    "duration": 9,
    "start_time": "2025-01-24T01:47:17.345Z"
   },
   {
    "duration": 7,
    "start_time": "2025-01-24T01:47:17.355Z"
   },
   {
    "duration": 30,
    "start_time": "2025-01-24T01:47:17.363Z"
   },
   {
    "duration": 5,
    "start_time": "2025-01-24T01:47:17.395Z"
   },
   {
    "duration": 10,
    "start_time": "2025-01-24T01:47:17.401Z"
   },
   {
    "duration": 8,
    "start_time": "2025-01-24T01:47:17.414Z"
   },
   {
    "duration": 9,
    "start_time": "2025-01-24T01:47:17.424Z"
   },
   {
    "duration": 7,
    "start_time": "2025-01-24T01:47:17.435Z"
   },
   {
    "duration": 70,
    "start_time": "2025-01-24T01:47:17.444Z"
   },
   {
    "duration": 14,
    "start_time": "2025-01-24T01:47:17.515Z"
   },
   {
    "duration": 14,
    "start_time": "2025-01-24T01:47:17.530Z"
   },
   {
    "duration": 5,
    "start_time": "2025-01-24T01:47:17.545Z"
   },
   {
    "duration": 36,
    "start_time": "2025-01-24T01:47:17.551Z"
   },
   {
    "duration": 17,
    "start_time": "2025-01-24T01:47:17.589Z"
   },
   {
    "duration": 8,
    "start_time": "2025-01-24T01:47:17.608Z"
   },
   {
    "duration": 12,
    "start_time": "2025-01-24T01:47:17.619Z"
   },
   {
    "duration": 11,
    "start_time": "2025-01-24T01:47:17.632Z"
   },
   {
    "duration": 43,
    "start_time": "2025-01-24T01:47:17.645Z"
   },
   {
    "duration": 4,
    "start_time": "2025-01-24T01:47:17.689Z"
   },
   {
    "duration": 5,
    "start_time": "2025-01-24T01:47:17.694Z"
   },
   {
    "duration": 17,
    "start_time": "2025-01-24T01:47:17.705Z"
   },
   {
    "duration": 26,
    "start_time": "2025-01-24T01:47:17.723Z"
   },
   {
    "duration": 53,
    "start_time": "2025-01-24T01:47:17.751Z"
   },
   {
    "duration": 18,
    "start_time": "2025-01-24T01:47:17.806Z"
   },
   {
    "duration": 12,
    "start_time": "2025-01-24T01:47:17.826Z"
   },
   {
    "duration": 16,
    "start_time": "2025-01-24T01:47:17.840Z"
   },
   {
    "duration": 31,
    "start_time": "2025-01-24T01:47:17.858Z"
   },
   {
    "duration": 5,
    "start_time": "2025-01-24T01:47:17.893Z"
   },
   {
    "duration": 5,
    "start_time": "2025-01-24T01:47:17.899Z"
   },
   {
    "duration": 10,
    "start_time": "2025-01-24T01:47:17.905Z"
   },
   {
    "duration": 109,
    "start_time": "2025-01-24T01:47:17.917Z"
   },
   {
    "duration": 6,
    "start_time": "2025-01-24T01:47:18.028Z"
   },
   {
    "duration": 1169,
    "start_time": "2025-01-24T01:47:18.036Z"
   },
   {
    "duration": 817,
    "start_time": "2025-01-24T01:47:19.207Z"
   },
   {
    "duration": 5,
    "start_time": "2025-01-24T01:47:20.026Z"
   },
   {
    "duration": 332,
    "start_time": "2025-01-24T01:47:20.033Z"
   },
   {
    "duration": 6,
    "start_time": "2025-01-24T01:47:20.367Z"
   },
   {
    "duration": 293,
    "start_time": "2025-01-24T01:47:20.375Z"
   },
   {
    "duration": 19,
    "start_time": "2025-01-24T01:47:20.669Z"
   },
   {
    "duration": 3,
    "start_time": "2025-01-24T01:47:20.690Z"
   },
   {
    "duration": 5,
    "start_time": "2025-01-24T01:47:20.695Z"
   },
   {
    "duration": 15,
    "start_time": "2025-01-24T01:47:20.702Z"
   },
   {
    "duration": 11,
    "start_time": "2025-01-24T01:47:20.718Z"
   },
   {
    "duration": 20,
    "start_time": "2025-01-24T01:47:20.731Z"
   },
   {
    "duration": 45,
    "start_time": "2025-01-24T01:47:20.753Z"
   },
   {
    "duration": 10,
    "start_time": "2025-01-24T01:47:38.932Z"
   },
   {
    "duration": 125505,
    "start_time": "2025-01-24T01:48:05.136Z"
   },
   {
    "duration": 8,
    "start_time": "2025-01-24T01:52:17.263Z"
   },
   {
    "duration": 2748,
    "start_time": "2025-01-24T03:55:54.144Z"
   },
   {
    "duration": 62,
    "start_time": "2025-01-24T03:55:56.894Z"
   },
   {
    "duration": 3,
    "start_time": "2025-01-24T03:55:56.957Z"
   },
   {
    "duration": 11,
    "start_time": "2025-01-24T03:55:56.963Z"
   },
   {
    "duration": 6,
    "start_time": "2025-01-24T03:55:56.976Z"
   },
   {
    "duration": 8,
    "start_time": "2025-01-24T03:55:56.984Z"
   },
   {
    "duration": 5,
    "start_time": "2025-01-24T03:55:56.995Z"
   },
   {
    "duration": 10,
    "start_time": "2025-01-24T03:55:57.009Z"
   },
   {
    "duration": 8,
    "start_time": "2025-01-24T03:55:57.020Z"
   },
   {
    "duration": 8,
    "start_time": "2025-01-24T03:55:57.031Z"
   },
   {
    "duration": 7,
    "start_time": "2025-01-24T03:55:57.041Z"
   },
   {
    "duration": 28,
    "start_time": "2025-01-24T03:55:57.049Z"
   },
   {
    "duration": 12,
    "start_time": "2025-01-24T03:55:57.108Z"
   },
   {
    "duration": 13,
    "start_time": "2025-01-24T03:55:57.122Z"
   },
   {
    "duration": 4,
    "start_time": "2025-01-24T03:55:57.136Z"
   },
   {
    "duration": 7,
    "start_time": "2025-01-24T03:55:57.143Z"
   },
   {
    "duration": 16,
    "start_time": "2025-01-24T03:55:57.152Z"
   },
   {
    "duration": 41,
    "start_time": "2025-01-24T03:55:57.170Z"
   },
   {
    "duration": 13,
    "start_time": "2025-01-24T03:55:57.213Z"
   },
   {
    "duration": 12,
    "start_time": "2025-01-24T03:55:57.228Z"
   },
   {
    "duration": 9,
    "start_time": "2025-01-24T03:55:57.242Z"
   },
   {
    "duration": 3,
    "start_time": "2025-01-24T03:55:57.253Z"
   },
   {
    "duration": 5,
    "start_time": "2025-01-24T03:55:57.258Z"
   },
   {
    "duration": 58,
    "start_time": "2025-01-24T03:55:57.264Z"
   },
   {
    "duration": 26,
    "start_time": "2025-01-24T03:55:57.323Z"
   },
   {
    "duration": 20,
    "start_time": "2025-01-24T03:55:57.351Z"
   },
   {
    "duration": 43,
    "start_time": "2025-01-24T03:55:57.374Z"
   },
   {
    "duration": 10,
    "start_time": "2025-01-24T03:55:57.422Z"
   },
   {
    "duration": 14,
    "start_time": "2025-01-24T03:55:57.434Z"
   },
   {
    "duration": 6,
    "start_time": "2025-01-24T03:55:57.450Z"
   },
   {
    "duration": 5,
    "start_time": "2025-01-24T03:55:57.458Z"
   },
   {
    "duration": 5,
    "start_time": "2025-01-24T03:55:57.464Z"
   },
   {
    "duration": 43,
    "start_time": "2025-01-24T03:55:57.470Z"
   },
   {
    "duration": 107,
    "start_time": "2025-01-24T03:55:57.514Z"
   },
   {
    "duration": 5,
    "start_time": "2025-01-24T03:55:57.623Z"
   },
   {
    "duration": 1211,
    "start_time": "2025-01-24T03:55:57.630Z"
   },
   {
    "duration": 793,
    "start_time": "2025-01-24T03:55:58.843Z"
   },
   {
    "duration": 5,
    "start_time": "2025-01-24T03:55:59.638Z"
   },
   {
    "duration": 350,
    "start_time": "2025-01-24T03:55:59.645Z"
   },
   {
    "duration": 12,
    "start_time": "2025-01-24T03:55:59.997Z"
   },
   {
    "duration": 261,
    "start_time": "2025-01-24T03:56:00.011Z"
   },
   {
    "duration": 10,
    "start_time": "2025-01-24T03:56:00.274Z"
   },
   {
    "duration": 3,
    "start_time": "2025-01-24T03:56:00.285Z"
   },
   {
    "duration": 22,
    "start_time": "2025-01-24T03:56:00.290Z"
   },
   {
    "duration": 14,
    "start_time": "2025-01-24T03:56:00.314Z"
   },
   {
    "duration": 10,
    "start_time": "2025-01-24T03:56:00.330Z"
   },
   {
    "duration": 19,
    "start_time": "2025-01-24T03:56:00.342Z"
   },
   {
    "duration": 12,
    "start_time": "2025-01-24T03:56:00.362Z"
   },
   {
    "duration": 38,
    "start_time": "2025-01-24T03:56:00.375Z"
   },
   {
    "duration": 123668,
    "start_time": "2025-01-24T03:56:00.415Z"
   },
   {
    "duration": 7,
    "start_time": "2025-01-24T03:58:04.085Z"
   }
  ],
  "kernelspec": {
   "display_name": "Python 3 (ipykernel)",
   "language": "python",
   "name": "python3"
  },
  "language_info": {
   "codemirror_mode": {
    "name": "ipython",
    "version": 3
   },
   "file_extension": ".py",
   "mimetype": "text/x-python",
   "name": "python",
   "nbconvert_exporter": "python",
   "pygments_lexer": "ipython3",
   "version": "3.9.19"
  },
  "toc": {
   "base_numbering": 1,
   "nav_menu": {},
   "number_sections": true,
   "sideBar": true,
   "skip_h1_title": true,
   "title_cell": "Table of Contents",
   "title_sidebar": "Contents",
   "toc_cell": false,
   "toc_position": {},
   "toc_section_display": true,
   "toc_window_display": false
  }
 },
 "nbformat": 4,
 "nbformat_minor": 2
}
