{
 "cells": [
  {
   "cell_type": "markdown",
   "id": "mhIvmmkW414q",
   "metadata": {
    "id": "mhIvmmkW414q"
   },
   "source": [
    "# Descripción del proyecto\r\n",
    "Instacart es una plataforma de entregas de comestibles donde la clientela puede registrar un pedido y hacer que se lo entreguen, similar a Uber Eats y Door Dash. Este conjunto de datos particular fue lanzado públicamente (materiales en inglés) por Instacart en 2017 para una competición Kaggle (materiales en inglés). Los datos reales pueden descargarse directamente de la página de la competición Kaggle.\r\n",
    "\r\n",
    "El conjunto de datos proporcionado tiene modificaciones del original. Se redujo el tamaño del conjunto para que los cálculos se hicieran más rápido y se introdujo valores ausentes y duplicados. Se tuvo cuidado de conservar las distribuciones de los datos originales cuando se hicieron los cambios.\r\n",
    "\r\n",
    "La misión es limpiar los datos y preparar un informe que brinde información sobre los hábitos de compra de los clientes de Instacart. Después de responder a cada pregunta, se tendrá una breve explicación de los resultados."
   ]
  },
  {
   "cell_type": "markdown",
   "id": "3MbyzpOQZ5Or",
   "metadata": {
    "id": "3MbyzpOQZ5Or"
   },
   "source": [
    "## Diccionario de datos\n",
    "\n",
    "Hay cinco tablas en el conjunto de datos, y se usarán todas para hacer el preprocesamiento de datos y el análisis exploratorio de datos. A continuación se muestra un diccionario de datos que enumera las columnas de cada tabla y describe los datos que contienen.\n",
    "\n",
    "- `instacart_orders.csv`: cada fila corresponde a un pedido en la aplicación Instacart.\n",
    "    - `'order_id'`: número de ID que identifica de manera única cada pedido.\n",
    "    - `'user_id'`: número de ID que identifica de manera única la cuenta de cada cliente.\n",
    "    - `'order_number'`: el número de veces que este cliente ha hecho un pedido.\n",
    "    - `'order_dow'`: día de la semana en que se hizo el pedido (0 si es domingo).\n",
    "    - `'order_hour_of_day'`: hora del día en que se hizo el pedido.\n",
    "    - `'days_since_prior_order'`: número de días transcurridos desde que este cliente hizo su pedido anterior.\n",
    "- `products.csv`: cada fila corresponde a un producto único que pueden comprar los clientes.\n",
    "    - `'product_id'`: número ID que identifica de manera única cada producto.\n",
    "    - `'product_name'`: nombre del producto.\n",
    "    - `'aisle_id'`: número ID que identifica de manera única cada categoría de pasillo de víveres.\n",
    "    - `'department_id'`: número ID que identifica de manera única cada departamento de víveres.\n",
    "- `order_products.csv`: cada fila corresponde a un artículo pedido en un pedido.\n",
    "    - `'order_id'`: número de ID que identifica de manera única cada pedido.\n",
    "    - `'product_id'`: número ID que identifica de manera única cada producto.\n",
    "    - `'add_to_cart_order'`: el orden secuencial en el que se añadió cada artículo en el carrito.\n",
    "    - `'reordered'`: 0 si el cliente nunca ha pedido este producto antes, 1 si lo ha pedido.\n",
    "- `aisles.csv`\n",
    "    - `'aisle_id'`: número ID que identifica de manera única cada categoría de pasillo de víveres.\n",
    "    - `'aisle'`: nombre del pasillo.\n",
    "- `departments.csv`\n",
    "    - `'department_id'`: número ID que identifica de manera única cada departamento de víveres.\n",
    "    - `'department'`: nombre del departamento."
   ]
  },
  {
   "cell_type": "markdown",
   "id": "n3Ha_cNSZ8lK",
   "metadata": {
    "id": "n3Ha_cNSZ8lK"
   },
   "source": [
    "# Paso 1. Descripción de los datos\n",
    "\n",
    "se procede a leer los archivos de datos (`/datasets/instacart_orders.csv`, `/datasets/products.csv`, `/datasets/aisles.csv`, `/datasets/departments.csv` y `/datasets/order_products.csv`) con `pd.read_csv()` usando los parámetros adecuados para leer los datos correctamente y se verifica la información para cada DataFrame creado."
   ]
  },
  {
   "cell_type": "markdown",
   "id": "OmlQPLlyaAfR",
   "metadata": {
    "id": "OmlQPLlyaAfR"
   },
   "source": [
    "como primera medida podemos abrir cada archivo de datos con un editor de texto para obtener un poco de informacion de cada uno ,realizamos una primera lectura de cada dataframe con pd.read_csv(), si evidenciamos que la lectura de datos no se refleja correctamente (por ejemplo: columnas separadas con otro tipo de separador), procedemos a validar cuales son los parametros que debemos utilizar para obtener la lectura correcta de cada dataframe y validamos nuevamente para verificar los cambios realizados. adicionalmente revisaremos la informacion de cada dataframe con info()."
   ]
  },
  {
   "cell_type": "code",
   "execution_count": 1,
   "id": "fbf1adab",
   "metadata": {
    "id": "fbf1adab"
   },
   "outputs": [],
   "source": [
    "# importar librerías\n",
    "import pandas as pd"
   ]
  },
  {
   "cell_type": "code",
   "execution_count": 2,
   "id": "ad36396d",
   "metadata": {
    "id": "ad36396d"
   },
   "outputs": [],
   "source": [
    "# leer conjuntos de datos en los DataFrames\n",
    "data_instacart = pd.read_csv('/datasets/instacart_orders.csv', sep=';')  #leemos cada uno de los archivos de datos con pd.read_csv()\n",
    "data_products = pd.read_csv('/datasets/products.csv', sep=';')           #usamos el parametro sep=';' ya que en la lectura inicial evidenciamos que tienen un separador de texto diferente\n",
    "data_aisles = pd.read_csv('/datasets/aisles.csv', sep=';')\n",
    "data_departments = pd.read_csv('/datasets/departments.csv', sep=';')\n",
    "data_order_products = pd.read_csv('/datasets/order_products.csv', sep=';')"
   ]
  },
  {
   "cell_type": "code",
   "execution_count": 3,
   "id": "ad6a1efa",
   "metadata": {
    "id": "ad6a1efa"
   },
   "outputs": [
    {
     "name": "stdout",
     "output_type": "stream",
     "text": [
      "        order_id  user_id  order_number  order_dow  order_hour_of_day  \\\n",
      "0        1515936   183418            11          6                 13   \n",
      "1        1690866   163593             5          5                 12   \n",
      "2        1454967    39980             4          5                 19   \n",
      "3        1768857    82516            56          0                 20   \n",
      "4        3007858   196724             2          4                 12   \n",
      "...          ...      ...           ...        ...                ...   \n",
      "478962   3210681     5617             5          1                 14   \n",
      "478963   3270802   112087             2          3                 13   \n",
      "478964    885349    82944            16          2                 11   \n",
      "478965    216274     4391             3          3                  8   \n",
      "478966   2071924     1730            18          1                 14   \n",
      "\n",
      "        days_since_prior_order  \n",
      "0                         30.0  \n",
      "1                          9.0  \n",
      "2                          2.0  \n",
      "3                         10.0  \n",
      "4                         17.0  \n",
      "...                        ...  \n",
      "478962                     7.0  \n",
      "478963                     6.0  \n",
      "478964                     6.0  \n",
      "478965                     8.0  \n",
      "478966                    15.0  \n",
      "\n",
      "[478967 rows x 6 columns]\n",
      "<class 'pandas.core.frame.DataFrame'>\n",
      "RangeIndex: 478967 entries, 0 to 478966\n",
      "Data columns (total 6 columns):\n",
      " #   Column                  Non-Null Count   Dtype  \n",
      "---  ------                  --------------   -----  \n",
      " 0   order_id                478967 non-null  int64  \n",
      " 1   user_id                 478967 non-null  int64  \n",
      " 2   order_number            478967 non-null  int64  \n",
      " 3   order_dow               478967 non-null  int64  \n",
      " 4   order_hour_of_day       478967 non-null  int64  \n",
      " 5   days_since_prior_order  450148 non-null  float64\n",
      "dtypes: float64(1), int64(5)\n",
      "memory usage: 21.9 MB\n"
     ]
    }
   ],
   "source": [
    "# mostrar información del DataFrame \n",
    "\n",
    "print(data_instacart)   #mostramos el dataframe data_instacart y su informacion con el metodo info()\n",
    "data_instacart.info()"
   ]
  },
  {
   "cell_type": "code",
   "execution_count": 4,
   "id": "5130e05e",
   "metadata": {
    "id": "5130e05e"
   },
   "outputs": [
    {
     "name": "stdout",
     "output_type": "stream",
     "text": [
      "       product_id                                       product_name  \\\n",
      "0               1                         Chocolate Sandwich Cookies   \n",
      "1               2                                   All-Seasons Salt   \n",
      "2               3               Robust Golden Unsweetened Oolong Tea   \n",
      "3               4  Smart Ones Classic Favorites Mini Rigatoni Wit...   \n",
      "4               5                          Green Chile Anytime Sauce   \n",
      "...           ...                                                ...   \n",
      "49689       49690                      HIGH PERFORMANCE ENERGY DRINK   \n",
      "49690       49691                      ORIGINAL PANCAKE & WAFFLE MIX   \n",
      "49691       49692    ORGANIC INSTANT OATMEAL LIGHT MAPLE BROWN SUGAR   \n",
      "49692       49693                             SPRING WATER BODY WASH   \n",
      "49693       49694                            BURRITO- STEAK & CHEESE   \n",
      "\n",
      "       aisle_id  department_id  \n",
      "0            61             19  \n",
      "1           104             13  \n",
      "2            94              7  \n",
      "3            38              1  \n",
      "4             5             13  \n",
      "...         ...            ...  \n",
      "49689        64              7  \n",
      "49690       130             14  \n",
      "49691       130             14  \n",
      "49692       127             11  \n",
      "49693        38              1  \n",
      "\n",
      "[49694 rows x 4 columns]\n",
      "<class 'pandas.core.frame.DataFrame'>\n",
      "RangeIndex: 49694 entries, 0 to 49693\n",
      "Data columns (total 4 columns):\n",
      " #   Column         Non-Null Count  Dtype \n",
      "---  ------         --------------  ----- \n",
      " 0   product_id     49694 non-null  int64 \n",
      " 1   product_name   48436 non-null  object\n",
      " 2   aisle_id       49694 non-null  int64 \n",
      " 3   department_id  49694 non-null  int64 \n",
      "dtypes: int64(3), object(1)\n",
      "memory usage: 1.5+ MB\n"
     ]
    }
   ],
   "source": [
    "# mostrar información del DataFrame\n",
    "\n",
    "print(data_products)    #mostramos el dataframe data_products y su informacion con el metodo info()\n",
    "data_products.info()"
   ]
  },
  {
   "cell_type": "code",
   "execution_count": 5,
   "id": "d8370c05",
   "metadata": {
    "id": "d8370c05"
   },
   "outputs": [
    {
     "name": "stdout",
     "output_type": "stream",
     "text": [
      "     aisle_id                       aisle\n",
      "0           1       prepared soups salads\n",
      "1           2           specialty cheeses\n",
      "2           3         energy granola bars\n",
      "3           4               instant foods\n",
      "4           5  marinades meat preparation\n",
      "..        ...                         ...\n",
      "129       130    hot cereal pancake mixes\n",
      "130       131                   dry pasta\n",
      "131       132                      beauty\n",
      "132       133  muscles joints pain relief\n",
      "133       134  specialty wines champagnes\n",
      "\n",
      "[134 rows x 2 columns]\n",
      "<class 'pandas.core.frame.DataFrame'>\n",
      "RangeIndex: 134 entries, 0 to 133\n",
      "Data columns (total 2 columns):\n",
      " #   Column    Non-Null Count  Dtype \n",
      "---  ------    --------------  ----- \n",
      " 0   aisle_id  134 non-null    int64 \n",
      " 1   aisle     134 non-null    object\n",
      "dtypes: int64(1), object(1)\n",
      "memory usage: 2.2+ KB\n"
     ]
    }
   ],
   "source": [
    "# mostrar información del DataFrame\n",
    "\n",
    "print(data_aisles)   #mostramos el dataframe data_aisles y su informacion con el metodo info()\n",
    "data_aisles.info()"
   ]
  },
  {
   "cell_type": "code",
   "execution_count": 6,
   "id": "59e2090f",
   "metadata": {
    "id": "59e2090f"
   },
   "outputs": [
    {
     "name": "stdout",
     "output_type": "stream",
     "text": [
      "    department_id       department\n",
      "0               1           frozen\n",
      "1               2            other\n",
      "2               3           bakery\n",
      "3               4          produce\n",
      "4               5          alcohol\n",
      "5               6    international\n",
      "6               7        beverages\n",
      "7               8             pets\n",
      "8               9  dry goods pasta\n",
      "9              10             bulk\n",
      "10             11    personal care\n",
      "11             12     meat seafood\n",
      "12             13           pantry\n",
      "13             14        breakfast\n",
      "14             15     canned goods\n",
      "15             16       dairy eggs\n",
      "16             17        household\n",
      "17             18           babies\n",
      "18             19           snacks\n",
      "19             20             deli\n",
      "20             21          missing\n",
      "<class 'pandas.core.frame.DataFrame'>\n",
      "RangeIndex: 21 entries, 0 to 20\n",
      "Data columns (total 2 columns):\n",
      " #   Column         Non-Null Count  Dtype \n",
      "---  ------         --------------  ----- \n",
      " 0   department_id  21 non-null     int64 \n",
      " 1   department     21 non-null     object\n",
      "dtypes: int64(1), object(1)\n",
      "memory usage: 464.0+ bytes\n"
     ]
    }
   ],
   "source": [
    "# mostrar información del DataFrame\n",
    "\n",
    "print(data_departments)  #mostramos el dataframe data_departments y su informacion con el metodo info()\n",
    "data_departments.info()"
   ]
  },
  {
   "cell_type": "code",
   "execution_count": 7,
   "id": "6fc81694",
   "metadata": {
    "id": "6fc81694"
   },
   "outputs": [
    {
     "name": "stdout",
     "output_type": "stream",
     "text": [
      "         order_id  product_id  add_to_cart_order  reordered\n",
      "0         2141543       11440               17.0          0\n",
      "1          567889        1560                1.0          1\n",
      "2         2261212       26683                1.0          1\n",
      "3          491251        8670               35.0          1\n",
      "4         2571142        1940                5.0          1\n",
      "...           ...         ...                ...        ...\n",
      "4545002    577211       15290               12.0          1\n",
      "4545003   1219554       21914                9.0          0\n",
      "4545004    692640       47766                4.0          1\n",
      "4545005    319435         691                8.0          1\n",
      "4545006   1398151       28733                9.0          0\n",
      "\n",
      "[4545007 rows x 4 columns]\n",
      "<class 'pandas.core.frame.DataFrame'>\n",
      "RangeIndex: 4545007 entries, 0 to 4545006\n",
      "Data columns (total 4 columns):\n",
      " #   Column             Non-Null Count    Dtype  \n",
      "---  ------             --------------    -----  \n",
      " 0   order_id           4545007 non-null  int64  \n",
      " 1   product_id         4545007 non-null  int64  \n",
      " 2   add_to_cart_order  4544171 non-null  float64\n",
      " 3   reordered          4545007 non-null  int64  \n",
      "dtypes: float64(1), int64(3)\n",
      "memory usage: 138.7 MB\n"
     ]
    }
   ],
   "source": [
    "# mostrar información del DataFrame\n",
    "\n",
    "print(data_order_products)  #mostramos el dataframe data_order_products y su informacion con el metodo info()\n",
    "\n",
    "data_order_products.info(show_counts=True) #Al evidenciar que no nos arroja informacion de los recuentos no nulos por tener demasiados datos, usamos show_counts=True al llamar a info()"
   ]
  },
  {
   "cell_type": "markdown",
   "id": "t75BD19oaR5f",
   "metadata": {
    "id": "t75BD19oaR5f"
   },
   "source": [
    "## Conclusiones\n",
    "\n",
    "- Aprendemos la importancia de la lectura correcta de los datos aplicando los parámetros correspondientes, ya que asi podemos visualizar de una forma clara y concisa la información dada por cada dataframe.\n",
    "\n",
    "- Al obtener información clara podemos evidenciar información de valores no nulos, mediante el cual observamos  que hay valores ausentes en las columnas de algunos dataframes como son: days_since_prior_order, product_name, add_to_cart_order.\n"
   ]
  },
  {
   "cell_type": "markdown",
   "id": "8RJHqxVmaVsF",
   "metadata": {
    "id": "8RJHqxVmaVsF"
   },
   "source": [
    "# Paso 2. Preprocesamiento de los datos\n",
    "\n",
    "se realiza el procesamiento de los datos de la siguiente manera:\n",
    "\n",
    "- Verificar y corregir los tipos de datos (por ejemplo, asegurar que las columnas de ID sean números enteros).\n",
    "- Identificar y completar los valores ausentes.\n",
    "- Identificar y eliminar los valores duplicados.\n",
    "\n",
    "se procederá a explicar qué tipos de valores ausentes y duplicados se encontraron, cómo se completaron o eliminaron y por qué  el uso de esos métodos. "
   ]
  },
  {
   "cell_type": "markdown",
   "id": "p6poABZQaZYb",
   "metadata": {
    "id": "p6poABZQaZYb"
   },
   "source": [
    "\n",
    "\n",
    "Inicialmente validaremos los valores duplicados en cada uno de los dataframe con el metodo duplicated() y sum(), adicionalmente revisando que tienen en comun dichos duplicados y los eliminaremos segun corresponda con el metodo drop_duplicates().\n",
    "\n",
    "Posteriormente revisaremos los valores ausentes en las columnas que evidenciamos ausencia de datos a traves del metodo isna() y realizaremos el llenado de dichos valores segun sea el caso con el metodo fillna()"
   ]
  },
  {
   "cell_type": "markdown",
   "id": "07357848-dc64-4156-9cc3-01ff4365226d",
   "metadata": {
    "id": "07357848-dc64-4156-9cc3-01ff4365226d"
   },
   "source": [
    "## Encuentra y elimina los valores duplicados (y describe cómo tomaste tus decisiones)."
   ]
  },
  {
   "cell_type": "markdown",
   "id": "f179f0a9",
   "metadata": {
    "id": "f179f0a9"
   },
   "source": [
    "### `instacart_orders` data frame"
   ]
  },
  {
   "cell_type": "code",
   "execution_count": 8,
   "id": "b99297a5-405a-463d-8535-9adc3da4ad74",
   "metadata": {
    "id": "b99297a5-405a-463d-8535-9adc3da4ad74"
   },
   "outputs": [
    {
     "name": "stdout",
     "output_type": "stream",
     "text": [
      "15\n",
      "        order_id  user_id  order_number  order_dow  order_hour_of_day  \\\n",
      "145574    794638    50898            24          3                  2   \n",
      "223105   2160484   107525            16          3                  2   \n",
      "230807   1918001   188546            14          3                  2   \n",
      "266232   1782114   106752             1          3                  2   \n",
      "273805   1112182   202304            84          3                  2   \n",
      "284038   2845099    31189            11          3                  2   \n",
      "311713   1021560    53767             3          3                  2   \n",
      "321100    408114    68324             4          3                  2   \n",
      "323900   1919531   191501            32          3                  2   \n",
      "345917   2232988    82565             1          3                  2   \n",
      "371905    391768    57671            19          3                  2   \n",
      "394347    467134    63189            21          3                  2   \n",
      "411408   1286742   183220            48          3                  2   \n",
      "415163   2282673    86751            49          3                  2   \n",
      "441599   2125197    14050            48          3                  2   \n",
      "\n",
      "        days_since_prior_order  \n",
      "145574                     2.0  \n",
      "223105                    30.0  \n",
      "230807                    16.0  \n",
      "266232                     NaN  \n",
      "273805                     6.0  \n",
      "284038                     7.0  \n",
      "311713                     9.0  \n",
      "321100                    18.0  \n",
      "323900                     7.0  \n",
      "345917                     NaN  \n",
      "371905                    10.0  \n",
      "394347                     2.0  \n",
      "411408                     4.0  \n",
      "415163                     2.0  \n",
      "441599                     3.0  \n"
     ]
    }
   ],
   "source": [
    "# Revisa si hay pedidos duplicados\n",
    "\n",
    "print(data_instacart.duplicated().sum())  #utilizamos el metodo duplicated() junto con sum() para obtener el numero de duplicados\n",
    "\n",
    "print(data_instacart[data_instacart.duplicated()])  #podemos utilizar un filtrado para visualizar los duplicados \n",
    "\n"
   ]
  },
  {
   "cell_type": "markdown",
   "id": "PEkwUX_gvt5A",
   "metadata": {
    "id": "PEkwUX_gvt5A"
   },
   "source": [
    "¿Tienes líneas duplicadas? Si sí, ¿qué tienen en común?\n",
    "\n",
    "Tenemos 15 duplicados, se evidencia que tienen en comun que son pedidos que se hicieron el mismo dia (3) y a la misma hora (2)"
   ]
  },
  {
   "cell_type": "code",
   "execution_count": 9,
   "id": "0d44de5d",
   "metadata": {
    "id": "0d44de5d",
    "scrolled": true
   },
   "outputs": [
    {
     "name": "stdout",
     "output_type": "stream",
     "text": [
      "        order_id  user_id  order_number  order_dow  order_hour_of_day  \\\n",
      "4838     2766110   162084            41          3                  2   \n",
      "5156     2190225   138285            18          3                  2   \n",
      "15506     553049    58599            13          3                  2   \n",
      "18420     382357   120200            19          3                  2   \n",
      "24691     690242    77357             2          3                  2   \n",
      "...          ...      ...           ...        ...                ...   \n",
      "457013   3384021    14881             6          3                  2   \n",
      "458816    910166   164782            18          3                  2   \n",
      "459635   1680532   106435             6          3                  2   \n",
      "468324    222962    54979            59          3                  2   \n",
      "477526   2592344    46860            38          3                  2   \n",
      "\n",
      "        days_since_prior_order  \n",
      "4838                      16.0  \n",
      "5156                      11.0  \n",
      "15506                      7.0  \n",
      "18420                     11.0  \n",
      "24691                      9.0  \n",
      "...                        ...  \n",
      "457013                    30.0  \n",
      "458816                     4.0  \n",
      "459635                    21.0  \n",
      "468324                     3.0  \n",
      "477526                     3.0  \n",
      "\n",
      "[121 rows x 6 columns]\n"
     ]
    }
   ],
   "source": [
    "# Basándote en tus hallazgos,\n",
    "# Verifica todos los pedidos que se hicieron el miércoles a las 2:00 a.m.\n",
    "# realizamos un filtrado con dos condiciones para mostrar los pedidos que se hicieron en el dia 3 (miercoles) y a la hora 2 (2 am).\n",
    "\n",
    "print(data_instacart[(data_instacart['order_dow'] == 3) & (data_instacart['order_hour_of_day'] == 2)])\n",
    "\n",
    "    "
   ]
  },
  {
   "cell_type": "markdown",
   "id": "vu2OWyoqwOx5",
   "metadata": {
    "id": "vu2OWyoqwOx5"
   },
   "source": [
    "\n",
    "de acuerdo a lo anterior podriamos indicar que no todos los pedidos realizados el miercoles a las 2 am son duplicados ya que el filtrado anterior nos arroja 121 filas. "
   ]
  },
  {
   "cell_type": "code",
   "execution_count": 10,
   "id": "480563c7",
   "metadata": {
    "id": "480563c7"
   },
   "outputs": [],
   "source": [
    "# Elimina los pedidos duplicados\n",
    "\n",
    "data_instacart.drop_duplicates(inplace= True) # utilizando el método drop_duplicates() para eliminar los duplicados\n",
    "\n"
   ]
  },
  {
   "cell_type": "code",
   "execution_count": 11,
   "id": "0b2396a2",
   "metadata": {
    "id": "0b2396a2"
   },
   "outputs": [
    {
     "name": "stdout",
     "output_type": "stream",
     "text": [
      "0\n"
     ]
    }
   ],
   "source": [
    "# Vuelve a verificar si hay filas duplicadas\n",
    "\n",
    "print(data_instacart.duplicated().sum())  #utilizamos nuevamente el metodo duplicated() junto con sum() para obtener el numero de duplicados\n",
    "\n"
   ]
  },
  {
   "cell_type": "code",
   "execution_count": 12,
   "id": "f6113ef1",
   "metadata": {
    "id": "f6113ef1"
   },
   "outputs": [
    {
     "name": "stdout",
     "output_type": "stream",
     "text": [
      "0\n"
     ]
    }
   ],
   "source": [
    "# Vuelve a verificar únicamente si hay IDs duplicados de pedidos\n",
    "\n",
    "print(data_instacart.duplicated(subset= 'order_id').sum())  # para verificar duplicados en una columna especifica utilizamos el parametro subset en el metodo duplicated\n",
    "\n"
   ]
  },
  {
   "cell_type": "markdown",
   "id": "5e8905ae",
   "metadata": {
    "id": "5e8905ae"
   },
   "source": [
    "\n",
    "Inicialmente a traves del metodo duplicated() encontramos 15 valores duplicados y usamos un filtrado para visualizar dichos valores y revisar que podrian tener en comun. en lo que evidenciamos que los duplicados encontrados son pedidos realizados el mismo dia y a la misma hora, para lo cual realizamos un filtrado con dos condiciones (dia y hora) para validar si solo los pedidos de ese dia y hora son los duplicados o hubieron mas pedidos en ese dia y hora.\n",
    "Posteriormente procedemos a eliminar los duplicados con el metodo drop_duplicates() y volvemos a verificar con duplicated si hay filas duplicadas lo cual nos arroja cero duplicados, finalmente hacemos una nueva verificacion de duplicados en la columna de order_id para saber si hay pedidos duplicados, lo cual nos arroja cero nuevamente."
   ]
  },
  {
   "cell_type": "markdown",
   "id": "45e6bc46",
   "metadata": {
    "id": "45e6bc46"
   },
   "source": [
    "### `products` data frame"
   ]
  },
  {
   "cell_type": "code",
   "execution_count": 13,
   "id": "5f526b5b-8175-46fa-a0fd-441767d50e64",
   "metadata": {
    "id": "5f526b5b-8175-46fa-a0fd-441767d50e64"
   },
   "outputs": [
    {
     "name": "stdout",
     "output_type": "stream",
     "text": [
      "0\n"
     ]
    }
   ],
   "source": [
    "# Verifica si hay filas totalmente duplicadas\n",
    "\n",
    "print(data_products.duplicated().sum())   #utilizamos nuevamente el metodo duplicated() junto con sum() para obtener el numero de duplicados\n"
   ]
  },
  {
   "cell_type": "code",
   "execution_count": 14,
   "id": "88daa4f4",
   "metadata": {
    "id": "88daa4f4"
   },
   "outputs": [
    {
     "name": "stdout",
     "output_type": "stream",
     "text": [
      "49673\n"
     ]
    }
   ],
   "source": [
    "# Revisa únicamente si hay ID de departamentos duplicados\n",
    "\n",
    "print(data_products.duplicated(subset= 'department_id').sum()) # para verificar duplicados en una columna especifica utilizamos el parametro subset en el metodo duplicated\n",
    "\n"
   ]
  },
  {
   "cell_type": "code",
   "execution_count": 15,
   "id": "c773f0bf",
   "metadata": {
    "id": "c773f0bf"
   },
   "outputs": [
    {
     "name": "stdout",
     "output_type": "stream",
     "text": [
      "1361\n",
      "       product_id                                     product_name  aisle_id  \\\n",
      "71             72                                              NaN       100   \n",
      "109           110                                              NaN       100   \n",
      "296           297                                              NaN       100   \n",
      "416           417                                              NaN       100   \n",
      "436           437                                              NaN       100   \n",
      "...           ...                                              ...       ...   \n",
      "49689       49690                    HIGH PERFORMANCE ENERGY DRINK        64   \n",
      "49690       49691                    ORIGINAL PANCAKE & WAFFLE MIX       130   \n",
      "49691       49692  ORGANIC INSTANT OATMEAL LIGHT MAPLE BROWN SUGAR       130   \n",
      "49692       49693                           SPRING WATER BODY WASH       127   \n",
      "49693       49694                          BURRITO- STEAK & CHEESE        38   \n",
      "\n",
      "       department_id  \n",
      "71                21  \n",
      "109               21  \n",
      "296               21  \n",
      "416               21  \n",
      "436               21  \n",
      "...              ...  \n",
      "49689              7  \n",
      "49690             14  \n",
      "49691             14  \n",
      "49692             11  \n",
      "49693              1  \n",
      "\n",
      "[1361 rows x 4 columns]\n"
     ]
    }
   ],
   "source": [
    "# Revisa únicamente si hay nombres duplicados de productos (convierte los nombres a letras mayúsculas para compararlos mejor)\n",
    "\n",
    "data_products['product_name'] = data_products['product_name'].str.upper()   # utilizamos upper para pasar los nombres a mayusculas junto con .str para que los datos de la columna esten en forma de string\n",
    "\n",
    "print(data_products.duplicated(subset= 'product_name').sum())  #verificamos nuevamente los duplicados en la columna product_name\n",
    "\n",
    "print(data_products[data_products.duplicated(subset= 'product_name')]) #utilizamos un filtrado para visualizar los duplicados \n"
   ]
  },
  {
   "cell_type": "code",
   "execution_count": 16,
   "id": "01efd02e",
   "metadata": {
    "id": "01efd02e"
   },
   "outputs": [
    {
     "name": "stdout",
     "output_type": "stream",
     "text": [
      "104\n",
      "       product_id                                     product_name  aisle_id  \\\n",
      "2058         2059                                  BIOTIN 1000 MCG        47   \n",
      "5455         5456                 GREEN TEA WITH GINSENG AND HONEY        96   \n",
      "5558         5559                           CREAM OF MUSHROOM SOUP        69   \n",
      "7558         7559                        CINNAMON ROLLS WITH ICING       105   \n",
      "9037         9038                           AMERICAN CHEESE SLICES        21   \n",
      "...           ...                                              ...       ...   \n",
      "49689       49690                    HIGH PERFORMANCE ENERGY DRINK        64   \n",
      "49690       49691                    ORIGINAL PANCAKE & WAFFLE MIX       130   \n",
      "49691       49692  ORGANIC INSTANT OATMEAL LIGHT MAPLE BROWN SUGAR       130   \n",
      "49692       49693                           SPRING WATER BODY WASH       127   \n",
      "49693       49694                          BURRITO- STEAK & CHEESE        38   \n",
      "\n",
      "       department_id  \n",
      "2058              11  \n",
      "5455              20  \n",
      "5558              15  \n",
      "7558              13  \n",
      "9037              16  \n",
      "...              ...  \n",
      "49689              7  \n",
      "49690             14  \n",
      "49691             14  \n",
      "49692             11  \n",
      "49693              1  \n",
      "\n",
      "[104 rows x 4 columns]\n",
      "0\n"
     ]
    }
   ],
   "source": [
    "# Revisa si hay nombres duplicados de productos no faltantes\n",
    "\n",
    "\n",
    "products_without_nan = data_products.dropna(subset=['product_name'])  # Filtramos productos con nombres no faltantes\n",
    "\n",
    "print(products_without_nan.duplicated(subset= 'product_name').sum())  #verificamos nuevamente los duplicados en la columna product_name\n",
    "\n",
    "\n",
    "print(products_without_nan[products_without_nan.duplicated(subset= 'product_name')]) #utilizamos un filtrado para visualizar los duplicados en la tabla\n",
    "\n",
    "print(products_without_nan.duplicated(subset= ['product_name','product_id']).sum())  #verificamos que no tenga duplicados engañosos tanto en la columna product id como product name ya que el nombre puede ser igual pero el id del producto diferente"
   ]
  },
  {
   "cell_type": "markdown",
   "id": "9da8d293",
   "metadata": {
    "id": "9da8d293"
   },
   "source": [
    "\n",
    "Inicialmente validamos si hay duplicados con el metodo duplicated() lo cual nos arroja un valor de cero, despues revisamos si hay duplicados de los id de departamentos, lo cual nos arroja un valor de 49673, sin embargo, al revisar nuestro dataframe podemos evidenciar que varios productos pueden pertenecer al mismo departamento, por lo anterior si eliminamos dichos duplicados afectariamos todos nuestros datos. validamos tambien si hay nombres de productos duplicados, primero convertimos los nombres a letras mayusculas para una mejor comparacion, posteriormente validamos los duplicados y obtenemos un valor de 1361, utilizamos un filtrado para visualizar nuestros datos y evidenciamos algunos productos con nombre NaN que tienen en comun que pertenecen al aisle 100 y al departamento 21, sin embargo, dichos valores no deberian ser eliminados ya que la identificacion del producto es diferente e indica que son diferentes productos, solo que por alguna razon no cuentan con un nombre, mas adelante se realizara el respectivo proceso para tratar dichos valores ausentes.\n",
    "por ulitmo revisamos si hay nombres duplicados de productos no faltantes para lo cual obtuvimos un valor de 104, sin embargo, validamos que estos no sean engañosos ya que pueden tener el mismo nombre pero diferente ID para lo cual verificamos duplicados sobre ambas columnas(product_id y product_name) lo cual nos arrojo un valor de cero."
   ]
  },
  {
   "cell_type": "markdown",
   "id": "60f30db1",
   "metadata": {
    "id": "60f30db1"
   },
   "source": [
    "### `departments` data frame"
   ]
  },
  {
   "cell_type": "code",
   "execution_count": 17,
   "id": "fb410ad4-0fbf-4b80-bb09-23fdea79afe3",
   "metadata": {
    "id": "fb410ad4-0fbf-4b80-bb09-23fdea79afe3"
   },
   "outputs": [
    {
     "name": "stdout",
     "output_type": "stream",
     "text": [
      "0\n"
     ]
    }
   ],
   "source": [
    "# Revisa si hay filas totalmente duplicadas\n",
    "\n",
    "print(data_departments.duplicated().sum())   #utilizamos nuevamente el metodo duplicated() junto con sum() para obtener el numero de duplicados\n"
   ]
  },
  {
   "cell_type": "code",
   "execution_count": 18,
   "id": "332b12bb",
   "metadata": {
    "id": "332b12bb"
   },
   "outputs": [
    {
     "name": "stdout",
     "output_type": "stream",
     "text": [
      "0\n"
     ]
    }
   ],
   "source": [
    "# Revisa únicamente si hay IDs duplicadas de departamentos\n",
    "\n",
    "print(data_departments.duplicated(subset= 'department_id').sum())  #verificamos nuevamente los duplicados en la columna department_id\n",
    "\n"
   ]
  },
  {
   "cell_type": "markdown",
   "id": "bd30d78e",
   "metadata": {
    "id": "bd30d78e"
   },
   "source": [
    "\n",
    "validamos en el dataframe Departments con el metodo duplicated() si hay filas duplicadas lo cual nos arroja un valor de cero, adicionalmente revisamos unicamente si encontramos duplicados en los ID de departamentos y tampoco se encontraron duplicados."
   ]
  },
  {
   "cell_type": "markdown",
   "id": "889349c1",
   "metadata": {
    "id": "889349c1"
   },
   "source": [
    "### `aisles` data frame"
   ]
  },
  {
   "cell_type": "code",
   "execution_count": 19,
   "id": "9da89fb9-4679-40f5-ad0d-c34df753a3f8",
   "metadata": {
    "id": "9da89fb9-4679-40f5-ad0d-c34df753a3f8"
   },
   "outputs": [
    {
     "name": "stdout",
     "output_type": "stream",
     "text": [
      "0\n"
     ]
    }
   ],
   "source": [
    "# Revisa si hay filas totalmente duplicadas\n",
    "\n",
    "print(data_aisles.duplicated().sum())   #utilizamos nuevamente el metodo duplicated() junto con sum() para obtener el numero de duplicados\n"
   ]
  },
  {
   "cell_type": "code",
   "execution_count": 20,
   "id": "da7c2822",
   "metadata": {
    "id": "da7c2822"
   },
   "outputs": [
    {
     "name": "stdout",
     "output_type": "stream",
     "text": [
      "0\n"
     ]
    }
   ],
   "source": [
    "# Revisa únicamente si hay IDs duplicadas de pasillos\n",
    "\n",
    "print(data_aisles.duplicated(subset= 'aisle_id').sum())  #verificamos nuevamente los duplicados en la columna aisle_id"
   ]
  },
  {
   "cell_type": "markdown",
   "id": "ac63826f",
   "metadata": {
    "id": "ac63826f"
   },
   "source": [
    "\n",
    "validamos en el dataframe Aisles con el metodo duplicated() si hay filas duplicadas lo cual nos arroja un valor de cero, adicionalmente revisamos unicamente si encontramos duplicados en los ID de pasillos y tampoco se encontraron duplicados."
   ]
  },
  {
   "cell_type": "markdown",
   "id": "274cd06a",
   "metadata": {
    "id": "274cd06a"
   },
   "source": [
    "### `order_products` data frame"
   ]
  },
  {
   "cell_type": "code",
   "execution_count": 21,
   "id": "52326689-84a8-4b8f-a881-7c68780f62c9",
   "metadata": {
    "id": "52326689-84a8-4b8f-a881-7c68780f62c9"
   },
   "outputs": [
    {
     "name": "stdout",
     "output_type": "stream",
     "text": [
      "0\n"
     ]
    }
   ],
   "source": [
    "# Revisa si hay filas totalmente duplicadas\n",
    "\n",
    "print(data_order_products.duplicated().sum())   #utilizamos nuevamente el metodo duplicated() junto con sum() para obtener el numero de duplicados\n"
   ]
  },
  {
   "cell_type": "code",
   "execution_count": 22,
   "id": "7b861391",
   "metadata": {
    "id": "7b861391"
   },
   "outputs": [
    {
     "name": "stdout",
     "output_type": "stream",
     "text": [
      "0\n"
     ]
    }
   ],
   "source": [
    "# Vuelve a verificar si hay cualquier otro duplicado engañoso\n",
    "\n",
    "print(data_order_products.duplicated(subset= ['order_id','product_id']).sum())  # para verificar duplicados engañosos verificamos si hay duplicados tanto en la columna order_id y en la columna product_id\n"
   ]
  },
  {
   "cell_type": "markdown",
   "id": "0b890492",
   "metadata": {
    "id": "0b890492"
   },
   "source": [
    "\n",
    "validamos en el dataframe Order Products con el metodo duplicated() si hay filas duplicadas lo cual nos arroja un valor de cero, adicionalmente revisamos si encontramos duplicados engañosos para lo cual verificamos duplicados tanto la columna order_id como en product_id, lo cual nos arroja un valor de cero."
   ]
  },
  {
   "cell_type": "markdown",
   "id": "1e46de76",
   "metadata": {
    "id": "1e46de76"
   },
   "source": [
    "## Encuentra y elimina los valores ausentes\n",
    "\n",
    "Al trabajar con valores duplicados, pudimos observar que también nos falta investigar valores ausentes:\n",
    "\n",
    "* La columna `'product_name'` de la tabla products.\n",
    "* La columna `'days_since_prior_order'` de la tabla orders.\n",
    "* La columna `'add_to_cart_order'` de la tabla order_productos."
   ]
  },
  {
   "cell_type": "markdown",
   "id": "c0aebd78",
   "metadata": {
    "id": "c0aebd78"
   },
   "source": [
    "### `products` data frame"
   ]
  },
  {
   "cell_type": "code",
   "execution_count": 23,
   "id": "fe4a8b0f",
   "metadata": {
    "id": "fe4a8b0f",
    "scrolled": true
   },
   "outputs": [
    {
     "name": "stdout",
     "output_type": "stream",
     "text": [
      "1258\n",
      "       product_id product_name  aisle_id  department_id\n",
      "37             38          NaN       100             21\n",
      "71             72          NaN       100             21\n",
      "109           110          NaN       100             21\n",
      "296           297          NaN       100             21\n",
      "416           417          NaN       100             21\n",
      "...           ...          ...       ...            ...\n",
      "49552       49553          NaN       100             21\n",
      "49574       49575          NaN       100             21\n",
      "49640       49641          NaN       100             21\n",
      "49663       49664          NaN       100             21\n",
      "49668       49669          NaN       100             21\n",
      "\n",
      "[1258 rows x 4 columns]\n"
     ]
    }
   ],
   "source": [
    "# Encuentra los valores ausentes en la columna 'product_name'\n",
    "\n",
    "print(data_products['product_name'].isna().sum())    #usamos el metodo isna y sum para validar el numero de valores ausentes\n",
    "\n",
    "print(data_products[data_products['product_name'].isna()])  # mostramos el dataframe solo con valores ausentes para tener una visualizacion de los datos."
   ]
  },
  {
   "cell_type": "markdown",
   "id": "-A6x1AbJhjkp",
   "metadata": {
    "id": "-A6x1AbJhjkp"
   },
   "source": [
    "\n",
    "hay 1258  valores ausentes, al mostrar los valores ausentes de la columna product_name podemos visualizar que dichos valores estan en el mismo aisle y el mismo department."
   ]
  },
  {
   "cell_type": "code",
   "execution_count": 24,
   "id": "e96167bc",
   "metadata": {
    "id": "e96167bc"
   },
   "outputs": [
    {
     "data": {
      "text/html": [
       "<div>\n",
       "<style scoped>\n",
       "    .dataframe tbody tr th:only-of-type {\n",
       "        vertical-align: middle;\n",
       "    }\n",
       "\n",
       "    .dataframe tbody tr th {\n",
       "        vertical-align: top;\n",
       "    }\n",
       "\n",
       "    .dataframe thead th {\n",
       "        text-align: right;\n",
       "    }\n",
       "</style>\n",
       "<table border=\"1\" class=\"dataframe\">\n",
       "  <thead>\n",
       "    <tr style=\"text-align: right;\">\n",
       "      <th></th>\n",
       "      <th>product_id</th>\n",
       "      <th>product_name</th>\n",
       "      <th>aisle_id</th>\n",
       "      <th>department_id</th>\n",
       "    </tr>\n",
       "  </thead>\n",
       "  <tbody>\n",
       "    <tr>\n",
       "      <th>37</th>\n",
       "      <td>38</td>\n",
       "      <td>NaN</td>\n",
       "      <td>100</td>\n",
       "      <td>21</td>\n",
       "    </tr>\n",
       "    <tr>\n",
       "      <th>71</th>\n",
       "      <td>72</td>\n",
       "      <td>NaN</td>\n",
       "      <td>100</td>\n",
       "      <td>21</td>\n",
       "    </tr>\n",
       "    <tr>\n",
       "      <th>109</th>\n",
       "      <td>110</td>\n",
       "      <td>NaN</td>\n",
       "      <td>100</td>\n",
       "      <td>21</td>\n",
       "    </tr>\n",
       "    <tr>\n",
       "      <th>296</th>\n",
       "      <td>297</td>\n",
       "      <td>NaN</td>\n",
       "      <td>100</td>\n",
       "      <td>21</td>\n",
       "    </tr>\n",
       "    <tr>\n",
       "      <th>416</th>\n",
       "      <td>417</td>\n",
       "      <td>NaN</td>\n",
       "      <td>100</td>\n",
       "      <td>21</td>\n",
       "    </tr>\n",
       "    <tr>\n",
       "      <th>...</th>\n",
       "      <td>...</td>\n",
       "      <td>...</td>\n",
       "      <td>...</td>\n",
       "      <td>...</td>\n",
       "    </tr>\n",
       "    <tr>\n",
       "      <th>49552</th>\n",
       "      <td>49553</td>\n",
       "      <td>NaN</td>\n",
       "      <td>100</td>\n",
       "      <td>21</td>\n",
       "    </tr>\n",
       "    <tr>\n",
       "      <th>49574</th>\n",
       "      <td>49575</td>\n",
       "      <td>NaN</td>\n",
       "      <td>100</td>\n",
       "      <td>21</td>\n",
       "    </tr>\n",
       "    <tr>\n",
       "      <th>49640</th>\n",
       "      <td>49641</td>\n",
       "      <td>NaN</td>\n",
       "      <td>100</td>\n",
       "      <td>21</td>\n",
       "    </tr>\n",
       "    <tr>\n",
       "      <th>49663</th>\n",
       "      <td>49664</td>\n",
       "      <td>NaN</td>\n",
       "      <td>100</td>\n",
       "      <td>21</td>\n",
       "    </tr>\n",
       "    <tr>\n",
       "      <th>49668</th>\n",
       "      <td>49669</td>\n",
       "      <td>NaN</td>\n",
       "      <td>100</td>\n",
       "      <td>21</td>\n",
       "    </tr>\n",
       "  </tbody>\n",
       "</table>\n",
       "<p>1258 rows × 4 columns</p>\n",
       "</div>"
      ],
      "text/plain": [
       "       product_id product_name  aisle_id  department_id\n",
       "37             38          NaN       100             21\n",
       "71             72          NaN       100             21\n",
       "109           110          NaN       100             21\n",
       "296           297          NaN       100             21\n",
       "416           417          NaN       100             21\n",
       "...           ...          ...       ...            ...\n",
       "49552       49553          NaN       100             21\n",
       "49574       49575          NaN       100             21\n",
       "49640       49641          NaN       100             21\n",
       "49663       49664          NaN       100             21\n",
       "49668       49669          NaN       100             21\n",
       "\n",
       "[1258 rows x 4 columns]"
      ]
     },
     "execution_count": 24,
     "metadata": {},
     "output_type": "execute_result"
    }
   ],
   "source": [
    "#  ¿Todos los nombres de productos ausentes están relacionados con el pasillo con ID 100\n",
    "\n",
    "#filtramos con 2 condiciones, si los nombres de productos ausentes & si el id del aisle es igual a 100\n",
    "\n",
    "data_products_filtered_1 = (data_products['product_name'].isna()) & (data_products['aisle_id'] == 100)\n",
    "\n",
    "data_products[data_products_filtered_1]"
   ]
  },
  {
   "cell_type": "markdown",
   "id": "WRpIfXRphpSL",
   "metadata": {
    "id": "WRpIfXRphpSL"
   },
   "source": [
    "\n",
    "al filtrar si todos los nombres de los productos ausentes estan relacionados con el aisle id 100, evidenciamos que si ya que despues del filtrado obtenemos la misma cantidad (1258) que los valores ausentes encontrados inicialmente."
   ]
  },
  {
   "cell_type": "code",
   "execution_count": 25,
   "id": "8fd0a541",
   "metadata": {
    "id": "8fd0a541"
   },
   "outputs": [
    {
     "data": {
      "text/html": [
       "<div>\n",
       "<style scoped>\n",
       "    .dataframe tbody tr th:only-of-type {\n",
       "        vertical-align: middle;\n",
       "    }\n",
       "\n",
       "    .dataframe tbody tr th {\n",
       "        vertical-align: top;\n",
       "    }\n",
       "\n",
       "    .dataframe thead th {\n",
       "        text-align: right;\n",
       "    }\n",
       "</style>\n",
       "<table border=\"1\" class=\"dataframe\">\n",
       "  <thead>\n",
       "    <tr style=\"text-align: right;\">\n",
       "      <th></th>\n",
       "      <th>product_id</th>\n",
       "      <th>product_name</th>\n",
       "      <th>aisle_id</th>\n",
       "      <th>department_id</th>\n",
       "    </tr>\n",
       "  </thead>\n",
       "  <tbody>\n",
       "    <tr>\n",
       "      <th>37</th>\n",
       "      <td>38</td>\n",
       "      <td>NaN</td>\n",
       "      <td>100</td>\n",
       "      <td>21</td>\n",
       "    </tr>\n",
       "    <tr>\n",
       "      <th>71</th>\n",
       "      <td>72</td>\n",
       "      <td>NaN</td>\n",
       "      <td>100</td>\n",
       "      <td>21</td>\n",
       "    </tr>\n",
       "    <tr>\n",
       "      <th>109</th>\n",
       "      <td>110</td>\n",
       "      <td>NaN</td>\n",
       "      <td>100</td>\n",
       "      <td>21</td>\n",
       "    </tr>\n",
       "    <tr>\n",
       "      <th>296</th>\n",
       "      <td>297</td>\n",
       "      <td>NaN</td>\n",
       "      <td>100</td>\n",
       "      <td>21</td>\n",
       "    </tr>\n",
       "    <tr>\n",
       "      <th>416</th>\n",
       "      <td>417</td>\n",
       "      <td>NaN</td>\n",
       "      <td>100</td>\n",
       "      <td>21</td>\n",
       "    </tr>\n",
       "    <tr>\n",
       "      <th>...</th>\n",
       "      <td>...</td>\n",
       "      <td>...</td>\n",
       "      <td>...</td>\n",
       "      <td>...</td>\n",
       "    </tr>\n",
       "    <tr>\n",
       "      <th>49552</th>\n",
       "      <td>49553</td>\n",
       "      <td>NaN</td>\n",
       "      <td>100</td>\n",
       "      <td>21</td>\n",
       "    </tr>\n",
       "    <tr>\n",
       "      <th>49574</th>\n",
       "      <td>49575</td>\n",
       "      <td>NaN</td>\n",
       "      <td>100</td>\n",
       "      <td>21</td>\n",
       "    </tr>\n",
       "    <tr>\n",
       "      <th>49640</th>\n",
       "      <td>49641</td>\n",
       "      <td>NaN</td>\n",
       "      <td>100</td>\n",
       "      <td>21</td>\n",
       "    </tr>\n",
       "    <tr>\n",
       "      <th>49663</th>\n",
       "      <td>49664</td>\n",
       "      <td>NaN</td>\n",
       "      <td>100</td>\n",
       "      <td>21</td>\n",
       "    </tr>\n",
       "    <tr>\n",
       "      <th>49668</th>\n",
       "      <td>49669</td>\n",
       "      <td>NaN</td>\n",
       "      <td>100</td>\n",
       "      <td>21</td>\n",
       "    </tr>\n",
       "  </tbody>\n",
       "</table>\n",
       "<p>1258 rows × 4 columns</p>\n",
       "</div>"
      ],
      "text/plain": [
       "       product_id product_name  aisle_id  department_id\n",
       "37             38          NaN       100             21\n",
       "71             72          NaN       100             21\n",
       "109           110          NaN       100             21\n",
       "296           297          NaN       100             21\n",
       "416           417          NaN       100             21\n",
       "...           ...          ...       ...            ...\n",
       "49552       49553          NaN       100             21\n",
       "49574       49575          NaN       100             21\n",
       "49640       49641          NaN       100             21\n",
       "49663       49664          NaN       100             21\n",
       "49668       49669          NaN       100             21\n",
       "\n",
       "[1258 rows x 4 columns]"
      ]
     },
     "execution_count": 25,
     "metadata": {},
     "output_type": "execute_result"
    }
   ],
   "source": [
    "# ¿Todos los nombres de productos ausentes están relacionados con el departamento con ID 21?\n",
    "\n",
    "#filtramos con 2 condiciones, si los nombres de productos ausentes & si el id del department es igual a 21\n",
    "\n",
    "data_products_filtered_2 = (data_products['product_name'].isna()) & (data_products['department_id'] == 21) \n",
    "\n",
    "data_products[data_products_filtered_2]"
   ]
  },
  {
   "cell_type": "code",
   "execution_count": 26,
   "id": "b650eddd",
   "metadata": {
    "scrolled": true
   },
   "outputs": [
    {
     "name": "stdout",
     "output_type": "stream",
     "text": [
      "0\n"
     ]
    }
   ],
   "source": [
    "\n",
    "# Revisamos si nos arroja valores ausentes cuando el department_id es diferente de 21 Y el aisle_id es diferente de 100\n",
    "\n",
    "data_products_without_21_100 = (data_products['product_name'].isna()) & (data_products['department_id'] != 21) & (data_products['aisle_id'] != 100)\n",
    "\n",
    "data_products[data_products_without_21_100]\n",
    "\n",
    "print(data_products_without_21_100.isna().sum())"
   ]
  },
  {
   "cell_type": "markdown",
   "id": "qDpdYn1Fht_I",
   "metadata": {
    "id": "qDpdYn1Fht_I"
   },
   "source": [
    "\n",
    "al filtrar si todos los nombres de los productos ausentes estan relacionados con el department id 21 y el aisle 100, evidenciamos que si ya que despues del filtrado obtenemos la misma cantidad (1258) que los valores ausentes encontrados inicialmente.\n",
    "Posteriormente revisamos si nos arroja valores ausentes cuando el department_id es diferente de 21 Y el aisle_id es diferente de 100, lo cual obtenemos un valor de cero  valore ausentes"
   ]
  },
  {
   "cell_type": "code",
   "execution_count": 27,
   "id": "325c3464",
   "metadata": {
    "id": "325c3464",
    "scrolled": true
   },
   "outputs": [
    {
     "name": "stdout",
     "output_type": "stream",
     "text": [
      "    department_id department\n",
      "20             21    missing\n",
      "\n",
      "    aisle_id    aisle\n",
      "99       100  missing\n"
     ]
    }
   ],
   "source": [
    "# Usa las tablas department y aisle para revisar los datos del pasillo con ID 100 y el departamento con ID 21.\n",
    "\n",
    "\n",
    "\n",
    "department_21 = data_departments[data_departments['department_id'] == 21]  # filtramos el dataframe departments para conocer que datos tiene cuando el ID es 21 \n",
    "\n",
    "aisle_100 = data_aisles[data_aisles['aisle_id'] == 100]  # filtramos el dataframe aisles para conocer que datos tiene cuando el ID es 100 \n",
    "\n",
    "print(department_21)\n",
    "print()\n",
    "print(aisle_100)"
   ]
  },
  {
   "cell_type": "code",
   "execution_count": 28,
   "id": "a24d78f5",
   "metadata": {},
   "outputs": [
    {
     "name": "stdout",
     "output_type": "stream",
     "text": [
      "0\n"
     ]
    }
   ],
   "source": [
    "\n",
    "\n",
    "#Rellenamos los valores ausentes de la columna product_name por la palabra Unknown, usamos el metodo fillna()\n",
    "\n",
    "data_products['product_name'].fillna('Unknown', inplace= True)\n",
    "\n",
    "print(data_products['product_name'].isna().sum())    #validamos nuevamente con el metodo isna y sum si tenemos valores ausentes\n",
    "\n"
   ]
  },
  {
   "cell_type": "markdown",
   "id": "fc70e5ad",
   "metadata": {
    "id": "fc70e5ad"
   },
   "source": [
    "\n",
    "se evidencia que al revisar las tablas de departments y aisles los datos del pasillo con id 100 y departamento con id 21 nos arroja \"missing\", lo que nos indica que para los productos con datos ausentes no les corresponde un pasillo y un departamento ya que el producto es desconocido.\n",
    "\n",
    "\n",
    "al encontrar los nombres de productos ausentes procedemos a rellenar dichos valores a traves del metodo fillna() por la palabra \"Unknown\", ya que dichos valores no deben ser eliminados porque tienen un ID diferente. una vez realizado el proceso volvemos a validar si tenemos valores ausentes y nos da como resultado cero."
   ]
  },
  {
   "cell_type": "markdown",
   "id": "7eb45c86",
   "metadata": {
    "id": "7eb45c86"
   },
   "source": [
    "### `orders` data frame"
   ]
  },
  {
   "cell_type": "code",
   "execution_count": 29,
   "id": "93e41d96",
   "metadata": {
    "id": "93e41d96"
   },
   "outputs": [
    {
     "name": "stdout",
     "output_type": "stream",
     "text": [
      "28817\n",
      "        order_id  user_id  order_number  order_dow  order_hour_of_day  \\\n",
      "28        133707   182261             1          3                 10   \n",
      "96        787445    25685             1          6                 18   \n",
      "100       294410   111449             1          0                 19   \n",
      "103      2869915   123958             1          4                 16   \n",
      "104      2521921    42286             1          3                 18   \n",
      "...          ...      ...           ...        ...                ...   \n",
      "478895   2589657   205028             1          0                 16   \n",
      "478896   2222353   141211             1          2                 13   \n",
      "478922   2272807   204154             1          1                 15   \n",
      "478926   2499542    68810             1          4                 19   \n",
      "478945   1387033    22496             1          5                 14   \n",
      "\n",
      "        days_since_prior_order  \n",
      "28                         NaN  \n",
      "96                         NaN  \n",
      "100                        NaN  \n",
      "103                        NaN  \n",
      "104                        NaN  \n",
      "...                        ...  \n",
      "478895                     NaN  \n",
      "478896                     NaN  \n",
      "478922                     NaN  \n",
      "478926                     NaN  \n",
      "478945                     NaN  \n",
      "\n",
      "[28817 rows x 6 columns]\n"
     ]
    }
   ],
   "source": [
    "# Encuentra los valores ausentes\n",
    "\n",
    "print(data_instacart['days_since_prior_order'].isna().sum())  # usamos el metodo isna y sum para validar el numero de valores ausentes\n",
    "\n",
    "print(data_instacart[data_instacart['days_since_prior_order'].isna()])  # mostramos el dataframe solo con valores ausentes para tener una visualizacion de los datos.\n"
   ]
  },
  {
   "cell_type": "code",
   "execution_count": 30,
   "id": "166e5a86",
   "metadata": {
    "id": "166e5a86"
   },
   "outputs": [
    {
     "name": "stdout",
     "output_type": "stream",
     "text": [
      "0\n"
     ]
    }
   ],
   "source": [
    "# ¿Hay algún valor ausente que no sea el primer pedido del cliente?\n",
    "\n",
    "#filtramos con 2 condiciones, los valores ausentes de la columna days_since_prior_order  & si el order_number es diferente a 1\n",
    "\n",
    "orders_filtered = (data_instacart['days_since_prior_order'].isna()) & (data_instacart['order_number'] != 1)\n",
    "\n",
    "\n",
    "print(orders_filtered.isna().sum())"
   ]
  },
  {
   "cell_type": "code",
   "execution_count": 31,
   "id": "7a18dd16",
   "metadata": {},
   "outputs": [
    {
     "name": "stdout",
     "output_type": "stream",
     "text": [
      "0\n"
     ]
    }
   ],
   "source": [
    "\n",
    "#Rellenamos los valores ausentes de la columna days_since_prior_order por valor de 0 ya que son las primeras ordenes, lo hacemos con el metodo fillna\n",
    "\n",
    "data_instacart['days_since_prior_order'].fillna(0, inplace= True)\n",
    "\n",
    "print(data_instacart['days_since_prior_order'].isna().sum())  # usamos nuevament el metodo isna y sum para validar si despues de lo anterior hay valores ausentes\n",
    "\n"
   ]
  },
  {
   "cell_type": "markdown",
   "id": "4e23d089",
   "metadata": {
    "id": "4e23d089"
   },
   "source": [
    "\n",
    "inicialmente validamos los valores ausentes con el metodo isna, el cual nos arroja 28817 valores ausentes, mostramos el dataframe con los valores ausentes para visualizar un poco los datos y evidenciamos que los valores ausentes de la columna days_since_prior_order tienen en comun que el numero de orden es 1. posterior a esto tenemos que validar que esa conclusion sea cierta para todos esos valores ausentes por lo que realizamos un filtro donde muestre los valores ausentes de dicha columna donde el numero de orden es diferente a 1, lo cual nos da un valor de cero valores ausentes.\n",
    "procedemos a remplazar dichos valores ausentes por 0 ya que corresponden a la primer orden y no podriamos eliminarlos debido a que perderiamos los datos de todas las primeras ordenes. una vez rellenados los valores con el metodo fillna, validamos nuevamente los valores ausentes y nos arroja un valor de cero."
   ]
  },
  {
   "cell_type": "markdown",
   "id": "69dc9ca4",
   "metadata": {
    "id": "69dc9ca4"
   },
   "source": [
    "### `order_products` data frame"
   ]
  },
  {
   "cell_type": "code",
   "execution_count": 32,
   "id": "b8240253",
   "metadata": {
    "id": "b8240253",
    "scrolled": true
   },
   "outputs": [
    {
     "name": "stdout",
     "output_type": "stream",
     "text": [
      "836\n",
      "         order_id  product_id  add_to_cart_order  reordered\n",
      "737       2449164        5068                NaN          0\n",
      "9926      1968313       43867                NaN          0\n",
      "14394     2926893       11688                NaN          0\n",
      "16418     1717990        4142                NaN          0\n",
      "30114     1959075       42828                NaN          1\n",
      "...           ...         ...                ...        ...\n",
      "4505662   1800005        7411                NaN          0\n",
      "4511400   1633337         260                NaN          0\n",
      "4517562    404157        9517                NaN          0\n",
      "4534112   1673227       17835                NaN          0\n",
      "4535739   1832957       17949                NaN          1\n",
      "\n",
      "[836 rows x 4 columns]\n"
     ]
    }
   ],
   "source": [
    "# Encuentra los valores ausentes\n",
    "\n",
    "print(data_order_products['add_to_cart_order'].isna().sum())  # usamos el metodo isna y sum para validar el numero de valores ausentes\n",
    "\n",
    "print(data_order_products[data_order_products['add_to_cart_order'].isna()])  # mostramos el dataframe solo con valores ausentes para tener una visualizacion de los datos.\n"
   ]
  },
  {
   "cell_type": "code",
   "execution_count": 33,
   "id": "9a78e5ee",
   "metadata": {
    "id": "9a78e5ee"
   },
   "outputs": [
    {
     "name": "stdout",
     "output_type": "stream",
     "text": [
      "count    4.544171e+06\n",
      "mean     8.351669e+00\n",
      "std      7.080368e+00\n",
      "min      1.000000e+00\n",
      "25%      3.000000e+00\n",
      "50%      6.000000e+00\n",
      "75%      1.100000e+01\n",
      "max      6.400000e+01\n",
      "Name: add_to_cart_order, dtype: float64\n"
     ]
    }
   ],
   "source": [
    "# ¿Cuáles son los valores mínimos y máximos en esta columna?\n",
    " \n",
    "print(data_order_products['add_to_cart_order'].describe())    # usamos el metodo describe() para conocer los valores minimos y maximos de la columna\n",
    "    "
   ]
  },
  {
   "cell_type": "markdown",
   "id": "-Z2Ja215jW78",
   "metadata": {
    "id": "-Z2Ja215jW78"
   },
   "source": [
    "\n",
    "encontramos 836 valores ausentes, adicionalmente validamos el valor minimo (1) y maximo (64) de la columna."
   ]
  },
  {
   "cell_type": "code",
   "execution_count": 34,
   "id": "ab9d0c2b",
   "metadata": {
    "id": "ab9d0c2b"
   },
   "outputs": [
    {
     "name": "stdout",
     "output_type": "stream",
     "text": [
      "737        2449164\n",
      "9926       1968313\n",
      "14394      2926893\n",
      "16418      1717990\n",
      "30114      1959075\n",
      "            ...   \n",
      "4505662    1800005\n",
      "4511400    1633337\n",
      "4517562     404157\n",
      "4534112    1673227\n",
      "4535739    1832957\n",
      "Name: order_id, Length: 836, dtype: int64\n"
     ]
    }
   ],
   "source": [
    "# Guarda todas las IDs de pedidos que tengan un valor ausente en 'add_to_cart_order'\n",
    "\n",
    "# usamos el metodo isna para los valores ausentes de la columna add_to_cart_order y que nos muestre solo los valores de order_id\n",
    "\n",
    "orders_id_filtered = data_order_products[data_order_products['add_to_cart_order'].isna()]['order_id']\n",
    "\n",
    "print(orders_id_filtered)"
   ]
  },
  {
   "cell_type": "code",
   "execution_count": 35,
   "id": "54c31695",
   "metadata": {
    "id": "54c31695"
   },
   "outputs": [
    {
     "name": "stdout",
     "output_type": "stream",
     "text": [
      "1\n"
     ]
    }
   ],
   "source": [
    "# ¿Todos los pedidos con valores ausentes tienen más de 64 productos?\n",
    "# Agrupa todos los pedidos con datos ausentes por su ID de pedido.\n",
    "# Cuenta el número de 'product_id' en cada pedido y revisa el valor mínimo del conteo.\n",
    "\n",
    "orders_with_missing_add_to_cart = data_order_products[data_order_products['add_to_cart_order'].isna()]  #Filtramos las filas con valores ausentes en add_to_cart_order\n",
    "\n",
    "grouped_orders = orders_with_missing_add_to_cart.groupby('order_id')['product_id'].count().min()  #usamos groupby para agrupar las filas con datos ausentes en add_to_cart_order por su order_id y contamos el número de product_id en cada pedido con el metodo count y usamos el metodo min() para obtener el valor minimo de ese conteo\n",
    "\n",
    "\n",
    "print(grouped_orders)\n"
   ]
  },
  {
   "cell_type": "markdown",
   "id": "p9V6pddtjglj",
   "metadata": {
    "id": "p9V6pddtjglj"
   },
   "source": [
    "\n",
    "al agrupar las filas con datos ausentes por su order_id podemos determinar la cantidad de productos que hay por cada pedido(usando el metodo count), lo cual nos permite revisar exactamente cuantos productos hay por pedido (ningun pedido tiene mas de 64 productos). al finalizar usamos el metodo min() para determinar el valor minimo de dicho conteo, el cual nos arroja un valor de 1."
   ]
  },
  {
   "cell_type": "code",
   "execution_count": 36,
   "id": "7a987d08",
   "metadata": {
    "id": "7a987d08"
   },
   "outputs": [
    {
     "name": "stdout",
     "output_type": "stream",
     "text": [
      "0\n",
      "<class 'pandas.core.frame.DataFrame'>\n",
      "RangeIndex: 4545007 entries, 0 to 4545006\n",
      "Data columns (total 4 columns):\n",
      " #   Column             Dtype\n",
      "---  ------             -----\n",
      " 0   order_id           int64\n",
      " 1   product_id         int64\n",
      " 2   add_to_cart_order  int64\n",
      " 3   reordered          int64\n",
      "dtypes: int64(4)\n",
      "memory usage: 138.7 MB\n"
     ]
    }
   ],
   "source": [
    "# Remplaza los valores ausentes en la columna 'add_to_cart? con 999 y convierte la columna al tipo entero.\n",
    "\n",
    "\n",
    "data_order_products['add_to_cart_order'].fillna(999, inplace= True) # usamos el metodo fillna() para rellenar los valores ausentes por 999\n",
    "\n",
    "data_order_products['add_to_cart_order']= data_order_products['add_to_cart_order'].astype('int') #usamos el metodo astype para convertir la columna a entero\n",
    "\n",
    "print(data_order_products['add_to_cart_order'].isna().sum())  # verificamos con el metodo isna que no tengamos valores ausentes\n",
    "\n",
    "data_order_products.info()   # verificamos que la columna se haya convertido en entero"
   ]
  },
  {
   "cell_type": "markdown",
   "id": "fea4bcc7",
   "metadata": {
    "id": "fea4bcc7"
   },
   "source": [
    "realizamos el remplazo de los valores ausentes de la columna add_to_cart_order por '999', una vez realizado lo anterior procedemos a convertir dicha columna a valores enteros a traves del metodo astype, por ultimo nuevamente verificamos con el metodo isna si hay valores ausentes, lo que nos arroja un valor de cero, adicionalmente llamamos al metodo info con el fin de verificar que nuestra columna sea de tipo entero. "
   ]
  },
  {
   "cell_type": "markdown",
   "id": "RnplPFY1gSrb",
   "metadata": {
    "id": "RnplPFY1gSrb"
   },
   "source": [
    "## Conclusiones\n",
    "\n",
    "\n",
    "- En el dataframe data_instacart, se encontraron 15 filas duplicadas y se eliminaron correctamente. al validar valores ausentes se encuentran 28817 los cuales todos coinciden que pertenecen a la orden numero 1, sin embargo después del filtrado donde la orden es diferente a 1 encontramos cero valores ausentes.\n",
    "\n",
    "- En el dataframe data_products, se encontraron 1,361 nombres de productos duplicados, de los cuales 104 seguían duplicados tras no tener en cuenta valores faltantes. Todos esos productos duplicados tenían diferentes IDs de producto. al validar valores ausentes encontramos que dichos valores tienen relación con el departamento 21 y aisle 100 los cuales indican que no tienen asignado un department ni aisle, al revisar valores ausentes que no pertenezcan al departamento 21 y al aisle 100 obtenemos cero valores ausentes.\n",
    "\n",
    "- En el dataframe orders_products, no se encontraron filas duplicadas ni duplicados engañosos. se encuentran 836 valores ausentes los cuales son rellenados correctamente. \n",
    "\n",
    "- En el dataframe data_aisles no se evidencio duplicados ni datos ausentes\n",
    "\n",
    "- En el dataframe data_departments no se evidencio duplicados ni datos ausentes\n",
    "\n"
   ]
  },
  {
   "cell_type": "markdown",
   "id": "UjrOIwTcz3ri",
   "metadata": {
    "id": "UjrOIwTcz3ri"
   },
   "source": [
    "# Paso 3. Análisis de los datos\n",
    "\n",
    "Una vez los datos están procesados y listos, se hace el siguiente análisis:"
   ]
  },
  {
   "cell_type": "markdown",
   "id": "turkish-kidney",
   "metadata": {
    "id": "turkish-kidney"
   },
   "source": [
    "## Primer Análisis\n",
    "\n",
    "1. Verifica que los valores en las columnas `'order_hour_of_day'` y `'order_dow'` en la tabla orders sean razonables (es decir, `'order_hour_of_day'` oscile entre 0 y 23 y `'order_dow'` oscile entre 0 y 6).\n",
    "2. Crea un gráfico que muestre el número de personas que hacen pedidos dependiendo de la hora del día.\n",
    "3. Crea un gráfico que muestre qué día de la semana la gente hace sus compras.\n",
    "4. Crea un gráfico que muestre el tiempo que la gente espera hasta hacer su siguiente pedido, y comenta sobre los valores mínimos y máximos."
   ]
  },
  {
   "cell_type": "markdown",
   "id": "short-capability",
   "metadata": {
    "id": "short-capability"
   },
   "source": [
    "### Verificar que los valores sean sensibles"
   ]
  },
  {
   "cell_type": "code",
   "execution_count": 37,
   "id": "growing-fruit",
   "metadata": {
    "id": "growing-fruit"
   },
   "outputs": [
    {
     "data": {
      "text/plain": [
       "0      3180\n",
       "1      1763\n",
       "2       989\n",
       "3       770\n",
       "4       765\n",
       "5      1371\n",
       "6      4215\n",
       "7     13043\n",
       "8     25024\n",
       "9     35896\n",
       "10    40578\n",
       "11    40032\n",
       "12    38034\n",
       "13    39007\n",
       "14    39631\n",
       "15    39789\n",
       "16    38112\n",
       "17    31930\n",
       "18    25510\n",
       "19    19547\n",
       "20    14624\n",
       "21    11019\n",
       "22     8512\n",
       "23     5611\n",
       "Name: order_hour_of_day, dtype: int64"
      ]
     },
     "execution_count": 37,
     "metadata": {},
     "output_type": "execute_result"
    }
   ],
   "source": [
    "#podemos mostrar con value_counts los valores unicos que aparecen en la columna order_hour_of_day\n",
    "\n",
    "data_instacart['order_hour_of_day'].value_counts().sort_index()\n",
    "\n"
   ]
  },
  {
   "cell_type": "code",
   "execution_count": 38,
   "id": "accessory-malaysia",
   "metadata": {
    "id": "accessory-malaysia"
   },
   "outputs": [
    {
     "data": {
      "text/plain": [
       "0    84090\n",
       "1    82185\n",
       "2    65833\n",
       "3    60897\n",
       "4    59810\n",
       "5    63488\n",
       "6    62649\n",
       "Name: order_dow, dtype: int64"
      ]
     },
     "execution_count": 38,
     "metadata": {},
     "output_type": "execute_result"
    }
   ],
   "source": [
    "#podemos mostrar con value_counts los valores unicos que aparecen en la columna order_dow\n",
    "\n",
    "data_instacart['order_dow'].value_counts().sort_index() \n"
   ]
  },
  {
   "cell_type": "markdown",
   "id": "hmR2GNQ6lCsX",
   "metadata": {
    "id": "hmR2GNQ6lCsX"
   },
   "source": [
    "Escribe aquí tus conclusiones\n",
    "\n",
    "evidenciamos que los datos de ambas columnas son razonables ya que la columna order_hour_of_day oscila en valores de 0 a 23  y la columna order_dow oscila en valores de 0 a 6"
   ]
  },
  {
   "cell_type": "markdown",
   "id": "a6743a70",
   "metadata": {
    "id": "a6743a70"
   },
   "source": [
    "### Para cada hora del día, ¿cuántas personas hacen órdenes?"
   ]
  },
  {
   "cell_type": "code",
   "execution_count": 39,
   "id": "a36cca27",
   "metadata": {
    "id": "a36cca27"
   },
   "outputs": [
    {
     "data": {
      "image/png": "[encoded data removed]",
      "text/plain": [
       "<Figure size 640x480 with 1 Axes>"
      ]
     },
     "metadata": {},
     "output_type": "display_data"
    }
   ],
   "source": [
    "\n",
    "\n",
    "import pandas as pd\n",
    "from matplotlib import pyplot as plt\n",
    "\n",
    "order_per_hour = data_instacart['order_hour_of_day'].value_counts().sort_index()  #contamos cada valor unico de la columna order_hour_of_day con el metodo value_counts y los ordenamos con sort_index\n",
    "\n",
    "#procedemos a generar la grafica con con el metodo plot() y incluimos varios parametros parar generar la grafica lo mas profesional\n",
    "\n",
    "order_per_hour.plot(kind= 'bar',\n",
    "                    title= 'Numero de pedidos por horas del dia',\n",
    "                    xlabel= 'Hora del Día',\n",
    "                    ylabel= 'Número de Pedidos',\n",
    "                    rot= 0,\n",
    "                   )\n",
    "\n",
    "plt.show()\n",
    "\n"
   ]
  },
  {
   "cell_type": "markdown",
   "id": "11270eed",
   "metadata": {
    "id": "11270eed"
   },
   "source": [
    "\n",
    "De acuerdo a la informacion de la grafica, evidenciamos que a las 10:00 hrs es la hora donde mas hay pedidos (40000) y las 4:00 hrs es la hora donde menos pedidos realizan las personas (menos de 2500).\n",
    "\n",
    "vemos tambien que en el rango entre las 9:00 y 16:00 es donde mas pedidos se realizan ya que oscilan entre 35000 y 40000"
   ]
  },
  {
   "cell_type": "markdown",
   "id": "documented-command",
   "metadata": {
    "id": "documented-command"
   },
   "source": [
    "### ¿Qué día de la semana compran víveres las personas?"
   ]
  },
  {
   "cell_type": "code",
   "execution_count": 40,
   "id": "chief-digit",
   "metadata": {
    "id": "chief-digit"
   },
   "outputs": [
    {
     "data": {
      "image/png": "[encoded data removed]",
      "text/plain": [
       "<Figure size 640x480 with 1 Axes>"
      ]
     },
     "metadata": {},
     "output_type": "display_data"
    }
   ],
   "source": [
    "\n",
    "#contamos cada valor unico de la columna order_dow con el metodo value_counts y los ordenamos con sort_index\n",
    "    \n",
    "order_per_day = data_instacart['order_dow'].value_counts().sort_index() \n",
    "\n",
    "#procedemos a generar la grafica con con el metodo plot() y incluimos varios parametros parar generar la grafica lo mas profesional\n",
    "\n",
    "order_per_day.plot(kind= 'bar',\n",
    "                   title= 'Numero de pedidos por dia de la semana',\n",
    "                   xlabel= 'Día de la semana',\n",
    "                   ylabel= 'Número de Pedidos',\n",
    "                   color= 'orange',\n",
    "                   rot= 0,\n",
    "                  )\n",
    "\n",
    "plt.show()\n"
   ]
  },
  {
   "cell_type": "markdown",
   "id": "dominant-lightning",
   "metadata": {
    "id": "dominant-lightning"
   },
   "source": [
    "\n",
    "De acuerdo a lo reflejado en la grafica evidenciamos que los dias donde mas compran viveres las personas son domingo y lunes, siendo el domingo el mayor dia con mas de 80000 pedidos. \n",
    "Por el contrario el dia que menos compran viveres es el dia jueves con un poco menos de 60000 pedidos."
   ]
  },
  {
   "cell_type": "markdown",
   "id": "cutting-concert",
   "metadata": {
    "id": "cutting-concert"
   },
   "source": [
    "### ¿Cuánto tiempo esperan las personas hasta hacer otro pedido? Comenta sobre los valores mínimos y máximos."
   ]
  },
  {
   "cell_type": "code",
   "execution_count": 41,
   "id": "c231f523",
   "metadata": {
    "id": "c231f523"
   },
   "outputs": [
    {
     "data": {
      "image/png": "[encoded data removed]",
      "text/plain": [
       "<Figure size 640x480 with 1 Axes>"
      ]
     },
     "metadata": {},
     "output_type": "display_data"
    }
   ],
   "source": [
    "\n",
    "#procedemos a generar la grafica (histograma) del dataframe para la columna days_since_prior_order con el metodo plot() y incluimos varios parametros parar generar la grafica lo mas profesional\n",
    "\n",
    "data_instacart['days_since_prior_order'].plot(kind= 'hist',\n",
    "                                              bins= 30,\n",
    "                                              title= 'Distribución del Tiempo hasta el Siguiente Pedido',\n",
    "                                             )\n",
    "\n",
    "plt.xlabel('Días desde el Pedido Anterior')\n",
    "plt.ylabel('Frecuencia')\n",
    "\n",
    "plt.show()\n"
   ]
  },
  {
   "cell_type": "markdown",
   "id": "discrete-vertex",
   "metadata": {
    "id": "discrete-vertex"
   },
   "source": [
    "\n",
    "el histograma nos muestra la distribución del tiempo que las personas esperan hasta hacer su siguiente pedido, teniendo en cuenta su valor maximo podriamos decir que hay mas de 50.000 ordenes cuando han pasado 30 dias desde su ultima orden lo que podria decirnos que un gran número de clientes tiende a hacer su siguiente pedido 30 días después del pedido anterior. Este comportamiento indica que hay un hábito de compra mensual  de los clientes.\n",
    "adicionalmente vemos que su valor minimo se da menos de 5000 ordenes cuando han pasado 27 dias, lo que nos podria indicar que los clientes podrian preferir ciclos de compra mas largos o mucho mas cortos."
   ]
  },
  {
   "cell_type": "markdown",
   "id": "tight-staff",
   "metadata": {
    "id": "tight-staff"
   },
   "source": [
    "## Segundo Análisis\n",
    "\n",
    "1. ¿Existe alguna diferencia entre las distribuciones `'order_hour_of_day'` de los miércoles y los sábados? Traza gráficos de barra de `'order_hour_of_day'` para ambos días en la misma figura y describe las diferencias que observes.\n",
    "2. Grafica la distribución para el número de órdenes que hacen los clientes (es decir, cuántos clientes hicieron solo 1 pedido, cuántos hicieron 2, cuántos 3, y así sucesivamente...).\n",
    "3. ¿Cuáles son los 20 principales productos que se piden con más frecuencia (muestra su identificación y nombre)?"
   ]
  },
  {
   "cell_type": "markdown",
   "id": "packed-classic",
   "metadata": {
    "id": "packed-classic"
   },
   "source": [
    "### Diferencia entre miércoles y sábados para  `'order_hour_of_day'`. Traza gráficos de barra para los dos días y describe las diferencias que veas."
   ]
  },
  {
   "cell_type": "code",
   "execution_count": 42,
   "id": "d89b8403",
   "metadata": {
    "id": "d89b8403"
   },
   "outputs": [],
   "source": [
    "\n",
    "# almacenamos en una variable las ordenes hechas el dia miercoles y otra variable para cuando las ordenes fueron hechas el dia sabado\n",
    "\n",
    "order_wednesday = data_instacart['order_dow'] == 3\n",
    "\n",
    "order_saturday = data_instacart['order_dow'] == 6\n",
    "\n"
   ]
  },
  {
   "cell_type": "code",
   "execution_count": 43,
   "id": "94e54e8a",
   "metadata": {
    "id": "94e54e8a"
   },
   "outputs": [
    {
     "name": "stdout",
     "output_type": "stream",
     "text": [
      "0      373\n",
      "1      215\n",
      "2      106\n",
      "3      101\n",
      "4      108\n",
      "5      170\n",
      "6      643\n",
      "7     1732\n",
      "8     3125\n",
      "9     4490\n",
      "10    5026\n",
      "11    5004\n",
      "12    4688\n",
      "13    4674\n",
      "14    4774\n",
      "15    5163\n",
      "16    4976\n",
      "17    4175\n",
      "18    3463\n",
      "19    2652\n",
      "20    1917\n",
      "21    1450\n",
      "22    1154\n",
      "23     718\n",
      "Name: order_hour_of_day, dtype: int64\n",
      "0      464\n",
      "1      254\n",
      "2      177\n",
      "3      125\n",
      "4      118\n",
      "5      161\n",
      "6      451\n",
      "7     1619\n",
      "8     3246\n",
      "9     4311\n",
      "10    4919\n",
      "11    5116\n",
      "12    5132\n",
      "13    5323\n",
      "14    5375\n",
      "15    5188\n",
      "16    5029\n",
      "17    4295\n",
      "18    3338\n",
      "19    2610\n",
      "20    1847\n",
      "21    1473\n",
      "22    1185\n",
      "23     893\n",
      "Name: order_hour_of_day, dtype: int64\n"
     ]
    }
   ],
   "source": [
    "\n",
    "# en una variable usamos el metodo value counts para guardar el conteo de las ordenes hechas el miercoles por hora del dia\n",
    "\n",
    "count_wednesday = data_instacart[order_wednesday]['order_hour_of_day'].value_counts().sort_index()\n",
    "\n",
    "# en una variable usamos el metodo value counts para guardar el conteo de las ordenes hechas el sabado por hora del dia\n",
    "\n",
    "count_saturday = data_instacart[order_saturday]['order_hour_of_day'].value_counts().sort_index()\n",
    "\n",
    "print(count_wednesday)\n",
    "print(count_saturday)"
   ]
  },
  {
   "cell_type": "code",
   "execution_count": 44,
   "id": "797c90a8",
   "metadata": {
    "id": "797c90a8"
   },
   "outputs": [
    {
     "name": "stdout",
     "output_type": "stream",
     "text": [
      "    Wednesday  Saturday\n",
      "0         373       464\n",
      "1         215       254\n",
      "2         106       177\n",
      "3         101       125\n",
      "4         108       118\n",
      "5         170       161\n",
      "6         643       451\n",
      "7        1732      1619\n",
      "8        3125      3246\n",
      "9        4490      4311\n",
      "10       5026      4919\n",
      "11       5004      5116\n",
      "12       4688      5132\n",
      "13       4674      5323\n",
      "14       4774      5375\n",
      "15       5163      5188\n",
      "16       4976      5029\n",
      "17       4175      4295\n",
      "18       3463      3338\n",
      "19       2652      2610\n",
      "20       1917      1847\n",
      "21       1450      1473\n",
      "22       1154      1185\n",
      "23        718       893\n"
     ]
    }
   ],
   "source": [
    "\n",
    "#unimos ambas variables en un solo dataframe a traves del metodo concat\n",
    "\n",
    "concat_wed_sat = pd.concat([count_wednesday, count_saturday], axis=1)\n",
    "\n",
    "#renombramos las columnas con el metodo columns\n",
    "\n",
    "concat_wed_sat.columns = ['Wednesday', 'Saturday']\n",
    "\n",
    "print(concat_wed_sat)\n"
   ]
  },
  {
   "cell_type": "code",
   "execution_count": 45,
   "id": "35bcea30",
   "metadata": {
    "id": "35bcea30"
   },
   "outputs": [
    {
     "data": {
      "image/png": "[encoded data removed]",
      "text/plain": [
       "<Figure size 640x480 with 1 Axes>"
      ]
     },
     "metadata": {},
     "output_type": "display_data"
    }
   ],
   "source": [
    "# Generamos la grafica del nuevo dataframe unido con el metodo plot() y incluimos varios parametros parar generar la grafica lo mas profesional\n",
    "\n",
    "concat_wed_sat.plot(kind= 'bar',\n",
    "                   title='Ordenes del Miercoles y Sabado por hora del dia',\n",
    "                   xlabel='Hora del dia',\n",
    "                   ylabel='Numero de ordenes',\n",
    "                   rot= 0 \n",
    "                   )\n",
    "\n",
    "plt.show()\n"
   ]
  },
  {
   "cell_type": "markdown",
   "id": "charitable-congo",
   "metadata": {
    "id": "charitable-congo"
   },
   "source": [
    "\n",
    "de acuerdo a la grafica podemos evidenciar que tanto para el dia miercoles y sabado se emiten la mayor cantidad de ordenes entre las 10AM y 4PM, lo que evidencia mayor preferencia de las personas por realizar compras en dichas horas.\n",
    "\n",
    "en ambos dias vemos un crecimiento gradual desde las horas de la mañana hasta las horas de la tarde donde empieza a descender nuevamente de forma gradual, vemos el pico para el dia miercoles alrededor de las 3PM con mas de 5000 ordenes y para el dia sabado su pico es a las 2PM con mas de 5000 ordenes tambien pero ligeramente superior al dia miercoles.\n",
    "\n",
    "Aunque los patrones son similares, los sábados tienden a tener un número ligeramente mayor de pedidos en las horas pico en comparación con los miércoles, lo que podría indicar que más personas hacen compras los fines de semana."
   ]
  },
  {
   "cell_type": "markdown",
   "id": "e3891143",
   "metadata": {
    "id": "e3891143"
   },
   "source": [
    "### ¿Cuál es la distribución para el número de pedidos por cliente?"
   ]
  },
  {
   "cell_type": "code",
   "execution_count": 46,
   "id": "d8c26c23",
   "metadata": {
    "id": "d8c26c23"
   },
   "outputs": [
    {
     "name": "stdout",
     "output_type": "stream",
     "text": [
      "149605    28\n",
      "193164    26\n",
      "78375     25\n",
      "148162    24\n",
      "66664     24\n",
      "          ..\n",
      "166116     1\n",
      "63564      1\n",
      "170214     1\n",
      "51274      1\n",
      "2047       1\n",
      "Name: user_id, Length: 157437, dtype: int64\n",
      "1     55357\n",
      "2     36508\n",
      "3     21547\n",
      "4     13498\n",
      "5      8777\n",
      "6      6012\n",
      "7      4240\n",
      "8      3019\n",
      "9      2152\n",
      "10     1645\n",
      "11     1308\n",
      "12      947\n",
      "13      703\n",
      "14      512\n",
      "15      437\n",
      "16      263\n",
      "17      184\n",
      "18      121\n",
      "19       85\n",
      "20       52\n",
      "21       22\n",
      "22       23\n",
      "23       19\n",
      "24        3\n",
      "25        1\n",
      "26        1\n",
      "28        1\n",
      "Name: user_id, dtype: int64\n"
     ]
    }
   ],
   "source": [
    "\n",
    "# contamos el numero de pedidos por cliente con el metodo value_counts\n",
    "\n",
    "order_counts = data_instacart['user_id'].value_counts()\n",
    "print(order_counts)\n",
    "\n",
    "# ahora contamos la frecuencia de cada numero de pedidos con el metodo value_counts y ordenamos con sort_index\n",
    "\n",
    "order_counts_distribution = order_counts.value_counts().sort_index()\n",
    "\n",
    "print(order_counts_distribution)\n"
   ]
  },
  {
   "cell_type": "code",
   "execution_count": 47,
   "id": "00e69a66",
   "metadata": {
    "id": "00e69a66"
   },
   "outputs": [
    {
     "data": {
      "image/png": "[encoded data removed]",
      "text/plain": [
       "<Figure size 640x480 with 1 Axes>"
      ]
     },
     "metadata": {},
     "output_type": "display_data"
    }
   ],
   "source": [
    "# Generamos la grafica de order_counts_distribution con el metodo plot() y incluimos varios parametros parar generar la grafica lo mas profesional\n",
    "\n",
    "order_counts_distribution.plot(kind= 'bar',\n",
    "                               title='Distribución del Número de Pedidos por Cliente',\n",
    "                               xlabel='Numero de ordenes',\n",
    "                               ylabel='Numero de clientes',\n",
    "                               color= 'Green',\n",
    "                               rot= 0                               \n",
    "                              )\n",
    "                   \n",
    "              \n",
    "plt.show()\n",
    "\n"
   ]
  },
  {
   "cell_type": "markdown",
   "id": "d2eff7d5",
   "metadata": {
    "id": "d2eff7d5"
   },
   "source": [
    "\n",
    "De acuerdo a lo mostrado en la grafica evidenciamos que la mayoria de clientes solo realizan 1 orden, para nuestro caso aproximadamente 55.000 clientes realizaron 1 sola orden. y a medida que aumenta la cantidad de ordenes los clientes que realizan dichas ordenes disminuye considerablemente. el numero de clientes que realizaron 2 ordenes fue de aproximadamente 36.000, y para los que hicieron 3 ordenes fue alrededor de 21.000 clientes. \n",
    "Muy pocos clientes realizaron más de 20 pedidos. Solo 3 clientes hicieron 24 pedidos, y solo 1 cliente hizo 25, 26, y 28 pedidos cada uno."
   ]
  },
  {
   "cell_type": "markdown",
   "id": "54a0319c",
   "metadata": {
    "id": "54a0319c"
   },
   "source": [
    "### ¿Cuáles son los 20 productos más populares (muestra su ID y nombre)?"
   ]
  },
  {
   "cell_type": "code",
   "execution_count": 48,
   "id": "exterior-arizona",
   "metadata": {
    "id": "exterior-arizona",
    "scrolled": true
   },
   "outputs": [
    {
     "name": "stdout",
     "output_type": "stream",
     "text": [
      "    product_id  count\n",
      "0        24852  66050\n",
      "1        13176  53297\n",
      "2        21137  37039\n",
      "3        21903  33971\n",
      "4        47209  29773\n",
      "5        47766  24689\n",
      "6        47626  21495\n",
      "7        16797  20018\n",
      "8        26209  19690\n",
      "9        27845  19600\n",
      "10       27966  19197\n",
      "11       22935  15898\n",
      "12       24964  15292\n",
      "13       45007  14584\n",
      "14       39275  13879\n",
      "15       49683  13675\n",
      "16       28204  12544\n",
      "17        5876  12232\n",
      "18        8277  11993\n",
      "19       40706  11781\n"
     ]
    }
   ],
   "source": [
    "\n",
    "# mostramos los valores unicos con value_counts de la columna product id del dataframe data_order_products, mostramos los primeros 20 resultados con head(), y reseteamos el indice para visualizar mejor que son los 20 products_id mas vendidos\n",
    "\n",
    "product_counts = data_order_products['product_id'].value_counts().head(20).reset_index()\n",
    "\n",
    "#nombramos las columnas del dataframe anterior para mejor visualizacion de los datos\n",
    "product_counts.columns = ['product_id', 'count']\n",
    "\n",
    "print(product_counts)"
   ]
  },
  {
   "cell_type": "code",
   "execution_count": 49,
   "id": "universal-facial",
   "metadata": {
    "id": "universal-facial"
   },
   "outputs": [],
   "source": [
    "\n",
    "# Unimos el anterior dataframe product_counts con el dataframe data_products por la columna product_id, lo hacemos con el metodo merge\n",
    "\n",
    "top_products = product_counts.merge(data_products, on= 'product_id')\n",
    "\n"
   ]
  },
  {
   "cell_type": "code",
   "execution_count": 50,
   "id": "bbcdd20b",
   "metadata": {
    "id": "bbcdd20b"
   },
   "outputs": [
    {
     "name": "stdout",
     "output_type": "stream",
     "text": [
      "    product_id  count              product_name\n",
      "0        24852  66050                    BANANA\n",
      "1        13176  53297    BAG OF ORGANIC BANANAS\n",
      "2        21137  37039      ORGANIC STRAWBERRIES\n",
      "3        21903  33971      ORGANIC BABY SPINACH\n",
      "4        47209  29773      ORGANIC HASS AVOCADO\n",
      "5        47766  24689           ORGANIC AVOCADO\n",
      "6        47626  21495               LARGE LEMON\n",
      "7        16797  20018              STRAWBERRIES\n",
      "8        26209  19690                     LIMES\n",
      "9        27845  19600        ORGANIC WHOLE MILK\n",
      "10       27966  19197       ORGANIC RASPBERRIES\n",
      "11       22935  15898      ORGANIC YELLOW ONION\n",
      "12       24964  15292            ORGANIC GARLIC\n",
      "13       45007  14584          ORGANIC ZUCCHINI\n",
      "14       39275  13879       ORGANIC BLUEBERRIES\n",
      "15       49683  13675            CUCUMBER KIRBY\n",
      "16       28204  12544        ORGANIC FUJI APPLE\n",
      "17        5876  12232             ORGANIC LEMON\n",
      "18        8277  11993  APPLE HONEYCRISP ORGANIC\n",
      "19       40706  11781    ORGANIC GRAPE TOMATOES\n"
     ]
    }
   ],
   "source": [
    "#Mostramos las columnas que nos interesa de la anterior union, mostramos 'product_id', 'count', 'product_name'\n",
    "\n",
    "print(top_products[['product_id', 'count', 'product_name']])\n",
    "\n"
   ]
  },
  {
   "cell_type": "markdown",
   "id": "7df00f47",
   "metadata": {
    "id": "7df00f47"
   },
   "source": [
    "Escribe aquí tus conclusiones\n",
    "\n",
    "\n",
    "De acuerdo a la tabla anterior podemos evidenciar que la mayoria de los productos son organicos, lo que indicaria una preferencia de los clientes por productos organicos al momento de comprar.\n",
    "Vemos que la mayoria de los productos son frutas y vegetales, lo que nos indica que las personas tienden a comprar productos saludables.\n",
    "Vemos que los productos muy populares son bananos, fresas, aguacates y limones, lo que podria indicar que son articulos con promociones y son de venta rapida"
   ]
  },
  {
   "cell_type": "markdown",
   "id": "gross-theme",
   "metadata": {
    "id": "gross-theme"
   },
   "source": [
    "## Tercer Análisis\n",
    "\n",
    "1. ¿Cuántos artículos suelen comprar las personas en un pedido? ¿Cómo es la distribución?\n",
    "2. ¿Cuáles son los 20 principales artículos que vuelven a pedirse con mayor frecuencia (muestra sus nombres e IDs de los productos)?\n",
    "3. Para cada producto, ¿cuál es la tasa de repetición del pedido (número de repeticiones de pedido/total de pedidos?\n",
    "4. Para cada cliente, ¿qué proporción de los productos que pidió ya los había pedido? Calcula la tasa de repetición de pedido para cada usuario en lugar de para cada producto.\n",
    "5. ¿Cuáles son los 20 principales artículos que la gente pone primero en sus carritos (muestra las IDs de los productos, sus nombres, y el número de veces en que fueron el primer artículo en añadirse al carrito)?"
   ]
  },
  {
   "cell_type": "markdown",
   "id": "romantic-deposit",
   "metadata": {
    "id": "romantic-deposit"
   },
   "source": [
    "### ¿Cuántos artículos compran normalmente las personas en un pedido? ¿Cómo es la distribución?"
   ]
  },
  {
   "cell_type": "code",
   "execution_count": 51,
   "id": "virtual-punch",
   "metadata": {
    "id": "virtual-punch"
   },
   "outputs": [
    {
     "name": "stdout",
     "output_type": "stream",
     "text": [
      "order_id\n",
      "4          13\n",
      "9          15\n",
      "11          5\n",
      "19          3\n",
      "20          8\n",
      "           ..\n",
      "3421034    17\n",
      "3421053     9\n",
      "3421071     5\n",
      "3421077     4\n",
      "3421079     1\n",
      "Name: product_id, Length: 450046, dtype: int64\n"
     ]
    }
   ],
   "source": [
    "# Agrupamos el DataFrame data_order_products por order_id y contamos cuántos product_id hay en cada pedido\n",
    "\n",
    "items_per_order = data_order_products.groupby('order_id')['product_id'].count()\n",
    "print(items_per_order)"
   ]
  },
  {
   "cell_type": "code",
   "execution_count": 52,
   "id": "sensitive-breathing",
   "metadata": {
    "id": "sensitive-breathing"
   },
   "outputs": [
    {
     "name": "stdout",
     "output_type": "stream",
     "text": [
      "count    450046.000000\n",
      "mean         10.098983\n",
      "std           7.540206\n",
      "min           1.000000\n",
      "25%           5.000000\n",
      "50%           8.000000\n",
      "75%          14.000000\n",
      "max         127.000000\n",
      "Name: product_id, dtype: float64\n"
     ]
    }
   ],
   "source": [
    "# Usamos el metodo describe para obtener informacion de nuestro dataframe como el promedio, mediana o desviacion estandar\n",
    "\n",
    "print(items_per_order.describe())"
   ]
  },
  {
   "cell_type": "code",
   "execution_count": 53,
   "id": "completed-frank",
   "metadata": {
    "id": "completed-frank"
   },
   "outputs": [
    {
     "data": {
      "image/png": "[encoded data removed]",
      "text/plain": [
       "<Figure size 640x480 with 1 Axes>"
      ]
     },
     "metadata": {},
     "output_type": "display_data"
    }
   ],
   "source": [
    "# para visualizar la distribucion graficamos un histograma con el metodo plot() y incluimos varios parametros parar generar la grafica lo mas profesional\n",
    "\n",
    "items_per_order.plot(kind= 'hist',\n",
    "                     bins= 50,\n",
    "                     title= 'Distribución de la cantidad de artículos por pedido',\n",
    "                    )\n",
    "\n",
    "plt.xlabel('Cantidad de artículos por pedido')\n",
    "plt.ylabel('Frecuencia')\n",
    "\n",
    "plt.show()\n"
   ]
  },
  {
   "cell_type": "markdown",
   "id": "designed-mortality",
   "metadata": {
    "id": "designed-mortality"
   },
   "source": [
    "de acuerdo al histograma este nos  indica que la mayoría de los pedidos contienen una cantidad pequeña de productos, pero hay algunos pedidos con una cantidad mucho mayor de productos.\n",
    "La barra más alta se encuentra en el rango más bajo de la cantidad de productos por pedido, lo que sugiere que el valor más frecuente está cerca de los valores pequeños (entre 1 y 5 productos por pedido, aproximadamente).\n",
    "La mayoría de los pedidos tienen menos de 20 artículos, y muy pocos pedidos superan esa cantidad."
   ]
  },
  {
   "cell_type": "markdown",
   "id": "5e6b5537",
   "metadata": {
    "id": "5e6b5537"
   },
   "source": [
    "### ¿Cuáles son los 20 principales artículos que vuelven a pedirse con mayor frecuencia (muestra sus nombres e IDs de los productos)?"
   ]
  },
  {
   "cell_type": "code",
   "execution_count": 54,
   "id": "9374e55a",
   "metadata": {
    "id": "9374e55a"
   },
   "outputs": [],
   "source": [
    "\n",
    "# Filtramos los productos que han sido reordenados \n",
    "reordered_products = data_order_products[data_order_products['reordered'] == 1]\n"
   ]
  },
  {
   "cell_type": "code",
   "execution_count": 55,
   "id": "possible-change",
   "metadata": {
    "id": "possible-change",
    "scrolled": true
   },
   "outputs": [
    {
     "name": "stdout",
     "output_type": "stream",
     "text": [
      "    product_id  reorder_count\n",
      "0        24852          55763\n",
      "1        13176          44450\n",
      "2        21137          28639\n",
      "3        21903          26233\n",
      "4        47209          23629\n",
      "5        47766          18743\n",
      "6        27845          16251\n",
      "7        47626          15044\n",
      "8        27966          14748\n",
      "9        16797          13945\n",
      "10       26209          13327\n",
      "11       22935          11145\n",
      "12       24964          10411\n",
      "13       45007          10076\n",
      "14       49683           9538\n",
      "15       28204           8989\n",
      "16        8277           8836\n",
      "17       39275           8799\n",
      "18        5876           8412\n",
      "19       49235           8389\n"
     ]
    }
   ],
   "source": [
    "\n",
    "\n",
    "#mostramos los valores unicos con value_counts de la columna product id del dataframe reordered_products, mostramos los primeros 20 resultados con head(), y reseteamos el indice para visualizar mejor que son los 20 principales productos\n",
    "\n",
    "reordered_product_counts = reordered_products['product_id'].value_counts().head(20).reset_index()\n",
    "\n",
    "#nombramos las columnas del dataframe anterior para mejor visualizacion de los datos\n",
    "reordered_product_counts.columns = ['product_id', 'reorder_count']\n",
    "\n",
    "print(reordered_product_counts)\n"
   ]
  },
  {
   "cell_type": "code",
   "execution_count": 56,
   "id": "professional-surfing",
   "metadata": {
    "id": "professional-surfing",
    "scrolled": true
   },
   "outputs": [],
   "source": [
    "\n",
    "# Unimos el anterior dataframe reordered_product_counts con el dataframe data_products por la columna product_id, lo hacemos con el metodo merge\n",
    "\n",
    "top_reordered_products = reordered_product_counts.merge(data_products, on= 'product_id')\n"
   ]
  },
  {
   "cell_type": "code",
   "execution_count": 57,
   "id": "48dd3658",
   "metadata": {
    "id": "48dd3658"
   },
   "outputs": [
    {
     "name": "stdout",
     "output_type": "stream",
     "text": [
      "    product_id  reorder_count              product_name\n",
      "0        24852          55763                    BANANA\n",
      "1        13176          44450    BAG OF ORGANIC BANANAS\n",
      "2        21137          28639      ORGANIC STRAWBERRIES\n",
      "3        21903          26233      ORGANIC BABY SPINACH\n",
      "4        47209          23629      ORGANIC HASS AVOCADO\n",
      "5        47766          18743           ORGANIC AVOCADO\n",
      "6        27845          16251        ORGANIC WHOLE MILK\n",
      "7        47626          15044               LARGE LEMON\n",
      "8        27966          14748       ORGANIC RASPBERRIES\n",
      "9        16797          13945              STRAWBERRIES\n",
      "10       26209          13327                     LIMES\n",
      "11       22935          11145      ORGANIC YELLOW ONION\n",
      "12       24964          10411            ORGANIC GARLIC\n",
      "13       45007          10076          ORGANIC ZUCCHINI\n",
      "14       49683           9538            CUCUMBER KIRBY\n",
      "15       28204           8989        ORGANIC FUJI APPLE\n",
      "16        8277           8836  APPLE HONEYCRISP ORGANIC\n",
      "17       39275           8799       ORGANIC BLUEBERRIES\n",
      "18        5876           8412             ORGANIC LEMON\n",
      "19       49235           8389       ORGANIC HALF & HALF\n"
     ]
    }
   ],
   "source": [
    "\n",
    "#Mostramos las columnas que nos interesa de la anterior union, mostramos 'product_id', 'reorder_count', 'product_name' , los cuales son los 20 principales productos reordenados\n",
    "\n",
    "print(top_reordered_products[['product_id', 'reorder_count', 'product_name']])\n"
   ]
  },
  {
   "cell_type": "markdown",
   "id": "80e70c74",
   "metadata": {
    "id": "80e70c74"
   },
   "source": [
    "\n",
    "de acuerdo a la tabla anterior, el banano el artículo más reordenado con una frecuencia de 55.763. Esto podria indicar que los bananos son un producto básico en las compras repetidas de los clientes.\n",
    "seguimos viendo la tendencia de productos organicos, La mayoría de los artículos más reordenados son productos orgánicos. Esto sugiere una preferencia de los clientes por productos orgánicos,lo que puede dar a entender una tendencia hacia el consumo de alimentos más saludables.\n",
    "Los productos frescos como frutas y verduras son mayoria, Esto puede implicar que los clientes hacen compras regulares de productos frescos."
   ]
  },
  {
   "cell_type": "markdown",
   "id": "9d312b14",
   "metadata": {
    "id": "9d312b14"
   },
   "source": [
    "### Para cada producto, ¿cuál es la proporción de las veces que se pide y que se vuelve a pedir?"
   ]
  },
  {
   "cell_type": "code",
   "execution_count": 58,
   "id": "8ae9f4b1",
   "metadata": {
    "id": "8ae9f4b1"
   },
   "outputs": [],
   "source": [
    "# Contamos el total de pedidos para cada producto\n",
    "total_orders = data_order_products['product_id'].value_counts().reset_index()\n",
    "total_orders.columns = ['product_id', 'total_orders']\n",
    "\n",
    "# Contamos el total de reordenes para cada producto\n",
    "reordered_orders = data_order_products[data_order_products['reordered'] == 1]['product_id'].value_counts().reset_index()\n",
    "reordered_orders.columns = ['product_id', 'reordered_orders']\n"
   ]
  },
  {
   "cell_type": "code",
   "execution_count": 59,
   "id": "103e7fe1",
   "metadata": {
    "id": "103e7fe1"
   },
   "outputs": [],
   "source": [
    "# Unimos las dos tablas en base al product_id\n",
    "order_stats = total_orders.merge(reordered_orders, on='product_id') \n",
    "\n",
    "# Calculamos la proporción de reordenes respecto al total de pedidos, creamos una nueva columna llamada reorder_proportion\n",
    "order_stats['reorder_proportion'] = order_stats['reordered_orders'] / order_stats['total_orders']\n",
    "\n",
    "# Unimos esta información con los nombres de los productos\n",
    "order_stats_with_names = order_stats.merge(data_products, on='product_id')\n"
   ]
  },
  {
   "cell_type": "code",
   "execution_count": 60,
   "id": "social-individual",
   "metadata": {
    "id": "social-individual"
   },
   "outputs": [
    {
     "name": "stdout",
     "output_type": "stream",
     "text": [
      "       product_id                                       product_name  \\\n",
      "0           24852                                             BANANA   \n",
      "1           13176                             BAG OF ORGANIC BANANAS   \n",
      "2           21137                               ORGANIC STRAWBERRIES   \n",
      "3           21903                               ORGANIC BABY SPINACH   \n",
      "4           47209                               ORGANIC HASS AVOCADO   \n",
      "...           ...                                                ...   \n",
      "36223       46197                              LIAR'S DICE ZINFANDEL   \n",
      "36224       37597                                    TEN ORANGE SODA   \n",
      "36225       24659           PS100 PHOSPHATIDYLSERINE 100 MG SOFTGELS   \n",
      "36226        5631               FRASHMATIC AIR FRESHENER STARTER KIT   \n",
      "36227       41668  STEEL CUT WITH PROTEIN MAPLE & BROWN SUGAR OAT...   \n",
      "\n",
      "       total_orders  reordered_orders  reorder_proportion  \n",
      "0             66050             55763            0.844254  \n",
      "1             53297             44450            0.834006  \n",
      "2             37039             28639            0.773212  \n",
      "3             33971             26233            0.772217  \n",
      "4             29773             23629            0.793639  \n",
      "...             ...               ...                 ...  \n",
      "36223             1                 1            1.000000  \n",
      "36224             1                 1            1.000000  \n",
      "36225             1                 1            1.000000  \n",
      "36226             1                 1            1.000000  \n",
      "36227             1                 1            1.000000  \n",
      "\n",
      "[36228 rows x 5 columns]\n"
     ]
    }
   ],
   "source": [
    "# Mostramos las columnas relevantes: product_id, product_name, total_orders, reordered_orders, reorder_proportion\n",
    "\n",
    "print(order_stats_with_names[['product_id', 'product_name', 'total_orders', 'reordered_orders', 'reorder_proportion']])"
   ]
  },
  {
   "cell_type": "markdown",
   "id": "I10dEIAyldcO",
   "metadata": {
    "id": "I10dEIAyldcO"
   },
   "source": [
    "de acuerdo a la tabla, los Bananos tienen una reorder_proportion de 0.844, lo que significa que aproximadamente el 84.4% de las veces que se piden, los clientes vuelven a pedirlas. adicionalmente Bag of Organic Bananas y Organic Strawberries tienen proporciones de 0.834 y 0.773 respectivamente, lo que indica una alta recurrencia del cliente hacia estos productos.\n",
    "los productos con una alta recurrencia deben ser revisados para que siempre esten en inventario y se pueda satisfacer al cliente."
   ]
  },
  {
   "cell_type": "markdown",
   "id": "subject-boxing",
   "metadata": {
    "id": "subject-boxing"
   },
   "source": [
    "### Para cada cliente, ¿qué proporción de sus productos ya los había pedido?"
   ]
  },
  {
   "cell_type": "code",
   "execution_count": 63,
   "id": "medical-couple",
   "metadata": {
    "id": "medical-couple",
    "scrolled": true
   },
   "outputs": [
    {
     "name": "stdout",
     "output_type": "stream",
     "text": [
      "        user_id  total_products\n",
      "0             2              26\n",
      "1             4               2\n",
      "2             5              12\n",
      "3             6               4\n",
      "4             7              14\n",
      "...         ...             ...\n",
      "149621   206203              27\n",
      "149622   206206              21\n",
      "149623   206207              46\n",
      "149624   206208             125\n",
      "149625   206209              25\n",
      "\n",
      "[149626 rows x 2 columns]\n"
     ]
    }
   ],
   "source": [
    "\n",
    "# Unimos el DataFrame de data_order_products con el de data_instacart para obtener el user_id\n",
    "order_products_and_instacart_merged = data_order_products.merge(data_instacart, on= 'order_id')\n",
    "\n",
    "# Calculamos el total de productos pedidos por cliente agrupando por la columna user id y contando los product id\n",
    "total_products_per_customer = order_products_and_instacart_merged.groupby('user_id')['product_id'].count().reset_index()\n",
    "\n",
    "total_products_per_customer.columns = ['user_id', 'total_products']  #cambiamos el nombre de las columnas para mejor entendimiento de la tabla\n",
    "\n",
    "print(total_products_per_customer)"
   ]
  },
  {
   "cell_type": "code",
   "execution_count": 67,
   "id": "8892e4b4",
   "metadata": {
    "id": "8892e4b4"
   },
   "outputs": [
    {
     "name": "stdout",
     "output_type": "stream",
     "text": [
      "        user_id  reordered_products\n",
      "0             2                   1\n",
      "1             5                   8\n",
      "2             7                  13\n",
      "3            11                   3\n",
      "4            12                   3\n",
      "...         ...                 ...\n",
      "132986   206203                   6\n",
      "132987   206206                  15\n",
      "132988   206207                  41\n",
      "132989   206208                  87\n",
      "132990   206209                   8\n",
      "\n",
      "[132991 rows x 2 columns]\n"
     ]
    }
   ],
   "source": [
    "# Calculamos el total de productos reordenados por cliente filtrando el dataframe unido donde reordered es 1 y despues agrupando por la columna user id y contando los product id\n",
    "reordered_products_per_customer = order_products_and_instacart_merged[order_products_and_instacart_merged['reordered'] == 1].groupby('user_id')['product_id'].count().reset_index()\n",
    "\n",
    "reordered_products_per_customer.columns = ['user_id', 'reordered_products'] #cambiamos el nombre de las columnas para mejor entendimiento de la tabla\n",
    "\n",
    "print(reordered_products_per_customer)\n"
   ]
  },
  {
   "cell_type": "code",
   "execution_count": 72,
   "id": "1fe88a65",
   "metadata": {},
   "outputs": [
    {
     "name": "stdout",
     "output_type": "stream",
     "text": [
      "        user_id  total_products  reordered_products  reorder_proportion\n",
      "0             2              26                   1            0.038462\n",
      "1             5              12                   8            0.666667\n",
      "2             7              14                  13            0.928571\n",
      "3            11              15                   3            0.200000\n",
      "4            12              12                   3            0.250000\n",
      "...         ...             ...                 ...                 ...\n",
      "132986   206203              27                   6            0.222222\n",
      "132987   206206              21                  15            0.714286\n",
      "132988   206207              46                  41            0.891304\n",
      "132989   206208             125                  87            0.696000\n",
      "132990   206209              25                   8            0.320000\n",
      "\n",
      "[132991 rows x 4 columns]\n",
      "count    132991.000000\n",
      "mean          0.556751\n",
      "std           0.248833\n",
      "min           0.014925\n",
      "25%           0.363636\n",
      "50%           0.562500\n",
      "75%           0.750000\n",
      "max           1.000000\n",
      "Name: reorder_proportion, dtype: float64\n"
     ]
    }
   ],
   "source": [
    "#unimos las dos tablas anteriores para poder obtener las estadisticas por cliente\n",
    "\n",
    "user_order_stats = total_products_per_customer.merge(reordered_products_per_customer, on='user_id')\n",
    "\n",
    "# Calculamos la proporción de productos reordenados, creamos una nueva columna llamada reorder_proportion\n",
    "\n",
    "user_order_stats['reorder_proportion'] = user_order_stats['reordered_products'] / user_order_stats['total_products']\n",
    "\n",
    "print(user_order_stats)\n",
    "\n",
    "print(user_order_stats['reorder_proportion'].describe())  #usamos el metodo describe en la columna reorder_proportion para obtener informacion descriptiva \n"
   ]
  },
  {
   "cell_type": "markdown",
   "id": "BgJSvXDsleXz",
   "metadata": {
    "id": "BgJSvXDsleXz"
   },
   "source": [
    "de acuerdo a la tabla, el promedio de la proporción de productos reordenados es aproximadamente 0.557. Esto indicaria que en promedio, los clientes reordenan alrededor del 55.7% de los productos que compran.\n",
    "El 25% de los clientes tienen una proporción de reordenes inferior a 36.36%, lo que indicaria que estos clientes suelen probar nuevos productos con mayor frecuencia.\n",
    "La mediana (50%) es 0.562, indicando que la mitad de los clientes reordenan menos del 56.2% de los productos."
   ]
  },
  {
   "cell_type": "markdown",
   "id": "92d35137",
   "metadata": {
    "id": "92d35137"
   },
   "source": [
    "### ¿Cuáles son los 20 principales artículos que las personas ponen primero en sus carritos?"
   ]
  },
  {
   "cell_type": "code",
   "execution_count": 73,
   "id": "0ae57274",
   "metadata": {
    "id": "0ae57274",
    "scrolled": true
   },
   "outputs": [],
   "source": [
    "# Filtramos los productos que fueron agregados primero al carrito\n",
    "first_added_products = data_order_products[data_order_products['add_to_cart_order'] == 1]\n"
   ]
  },
  {
   "cell_type": "code",
   "execution_count": 78,
   "id": "forty-netherlands",
   "metadata": {
    "id": "forty-netherlands",
    "scrolled": true
   },
   "outputs": [],
   "source": [
    "# Contamos la frecuencia de cada product_id entre los productos que fueron agregados primero al carrito\n",
    "\n",
    "first_added_counts = first_added_products['product_id'].value_counts().head(20).reset_index()\n",
    "first_added_counts.columns = ['product_id', 'count']\n"
   ]
  },
  {
   "cell_type": "code",
   "execution_count": 77,
   "id": "08e41ec2",
   "metadata": {
    "id": "08e41ec2"
   },
   "outputs": [
    {
     "name": "stdout",
     "output_type": "stream",
     "text": [
      "    product_id  count                 product_name\n",
      "0        24852  15562                       BANANA\n",
      "1        13176  11026       BAG OF ORGANIC BANANAS\n",
      "2        27845   4363           ORGANIC WHOLE MILK\n",
      "3        21137   3946         ORGANIC STRAWBERRIES\n",
      "4        47209   3390         ORGANIC HASS AVOCADO\n",
      "5        21903   3336         ORGANIC BABY SPINACH\n",
      "6        47766   3044              ORGANIC AVOCADO\n",
      "7        19660   2336                 SPRING WATER\n",
      "8        16797   2308                 STRAWBERRIES\n",
      "9        27966   2024          ORGANIC RASPBERRIES\n",
      "10       44632   1914   SPARKLING WATER GRAPEFRUIT\n",
      "11       49235   1797          ORGANIC HALF & HALF\n",
      "12       47626   1737                  LARGE LEMON\n",
      "13         196   1733                         SODA\n",
      "14       38689   1397     ORGANIC REDUCED FAT MILK\n",
      "15       26209   1370                        LIMES\n",
      "16       12341   1340                HASS AVOCADOS\n",
      "17        5785   1310  ORGANIC REDUCED FAT 2% MILK\n",
      "18       27086   1309                  HALF & HALF\n",
      "19       22935   1246         ORGANIC YELLOW ONION\n"
     ]
    }
   ],
   "source": [
    "# Unimos la anterior tabla con el dataframe products para obtener el nombre del producto\n",
    "top_first_added_products = first_added_counts.merge(data_products, on='product_id')\n",
    "\n",
    "# Mostramos los 20 principales productos que las personas ponen primero en sus carritos\n",
    "print(top_first_added_products[['product_id', 'count', 'product_name']])"
   ]
  },
  {
   "cell_type": "markdown",
   "id": "28ce9872",
   "metadata": {
    "id": "28ce9872"
   },
   "source": [
    "\n",
    "De acuerdo a la anterior tabla, Banana y Bag of Organic Bananas son los dos productos más comunes que las personas agregan primero a sus carritos, con 15,562 y 11,026 adiciones respectivamente. Esto indicaria una fuerte preferencia por productos frescos y saludables.\n",
    "Un alto número de los productos en la lista son orgánicos, lo que indica una preferencia significativa por productos orgánicos entre los clientes.\n",
    "La lista incluye una diversidad de productos, desde frutas y vegetales hasta lácteos y bebidas. Esto indica que las preferencias de los clientes abarcan varias categorías de productos."
   ]
  },
  {
   "cell_type": "markdown",
   "id": "uITbFCEoDosC",
   "metadata": {
    "id": "uITbFCEoDosC"
   },
   "source": [
    "# Conclusión general del proyecto:"
   ]
  },
  {
   "cell_type": "markdown",
   "id": "235ed239",
   "metadata": {
    "id": "Nk-4GS7mDwqY"
   },
   "source": [
    "En resumen, los datos analizados revelan varios patrones y tendencias importantes en el comportamiento de compra de los clientes. Los clientes tienden a hacer pedidos principalmente durante la mañana y la tarde, con un mayor número de pedidos al final (domingo) e inicio (lunes) de la semana. Prefieren productos orgánicos y saludables, realizan pedidos relativamente pequeños y muestran hábitos de compra recurrentes, especialmente mensuales.\n",
    "Lo anterior podria ayudar a la empresa a realizar estrategias de marketing sobre los dias de la semana donde deben enfocarse, cuando realizar promociones, que inventario de productos deben surtir mas y que estrategias hacer para los productos menos adquiridos.\n"
   ]
  }
 ],
 "metadata": {
  "ExecuteTimeLog": [
   {
    "duration": 313,
    "start_time": "2024-07-07T18:18:47.185Z"
   },
   {
    "duration": 430,
    "start_time": "2024-07-07T18:19:02.662Z"
   },
   {
    "duration": 4010,
    "start_time": "2024-07-07T18:19:03.095Z"
   },
   {
    "duration": 34,
    "start_time": "2024-07-07T18:19:07.155Z"
   },
   {
    "duration": 9,
    "start_time": "2024-07-07T18:24:22.153Z"
   },
   {
    "duration": 8,
    "start_time": "2024-07-07T18:30:01.865Z"
   },
   {
    "duration": 8,
    "start_time": "2024-07-07T18:30:11.037Z"
   },
   {
    "duration": 7,
    "start_time": "2024-07-07T18:30:22.684Z"
   },
   {
    "duration": 7,
    "start_time": "2024-07-07T18:30:32.044Z"
   },
   {
    "duration": 4,
    "start_time": "2024-07-07T18:32:05.154Z"
   },
   {
    "duration": 3882,
    "start_time": "2024-07-07T18:32:05.165Z"
   },
   {
    "duration": 33,
    "start_time": "2024-07-07T18:32:09.051Z"
   },
   {
    "duration": 37,
    "start_time": "2024-07-07T18:32:09.088Z"
   },
   {
    "duration": 16,
    "start_time": "2024-07-07T18:32:09.130Z"
   },
   {
    "duration": 14,
    "start_time": "2024-07-07T18:32:09.148Z"
   },
   {
    "duration": 15,
    "start_time": "2024-07-07T18:32:09.165Z"
   },
   {
    "duration": 42,
    "start_time": "2024-07-07T18:32:09.183Z"
   },
   {
    "duration": 4,
    "start_time": "2024-07-07T18:32:09.228Z"
   },
   {
    "duration": 4,
    "start_time": "2024-07-07T18:32:09.235Z"
   },
   {
    "duration": 3,
    "start_time": "2024-07-07T18:32:09.245Z"
   },
   {
    "duration": 4,
    "start_time": "2024-07-07T18:32:09.251Z"
   },
   {
    "duration": 3,
    "start_time": "2024-07-07T18:32:09.259Z"
   },
   {
    "duration": 58,
    "start_time": "2024-07-07T18:32:09.266Z"
   },
   {
    "duration": 4,
    "start_time": "2024-07-07T18:32:09.327Z"
   },
   {
    "duration": 3,
    "start_time": "2024-07-07T18:32:09.334Z"
   },
   {
    "duration": 4,
    "start_time": "2024-07-07T18:32:09.340Z"
   },
   {
    "duration": 4,
    "start_time": "2024-07-07T18:32:09.347Z"
   },
   {
    "duration": 4,
    "start_time": "2024-07-07T18:32:09.354Z"
   },
   {
    "duration": 4,
    "start_time": "2024-07-07T18:32:09.361Z"
   },
   {
    "duration": 4,
    "start_time": "2024-07-07T18:32:09.423Z"
   },
   {
    "duration": 4,
    "start_time": "2024-07-07T18:32:09.430Z"
   },
   {
    "duration": 4,
    "start_time": "2024-07-07T18:32:09.436Z"
   },
   {
    "duration": 3,
    "start_time": "2024-07-07T18:32:09.444Z"
   },
   {
    "duration": 4,
    "start_time": "2024-07-07T18:32:09.450Z"
   },
   {
    "duration": 3,
    "start_time": "2024-07-07T18:32:09.458Z"
   },
   {
    "duration": 59,
    "start_time": "2024-07-07T18:32:09.464Z"
   },
   {
    "duration": 10,
    "start_time": "2024-07-07T18:32:09.526Z"
   },
   {
    "duration": 4,
    "start_time": "2024-07-07T18:32:09.544Z"
   },
   {
    "duration": 4,
    "start_time": "2024-07-07T18:32:09.552Z"
   },
   {
    "duration": 5,
    "start_time": "2024-07-07T18:32:09.558Z"
   },
   {
    "duration": 5,
    "start_time": "2024-07-07T18:32:09.566Z"
   },
   {
    "duration": 50,
    "start_time": "2024-07-07T18:32:09.574Z"
   },
   {
    "duration": 4,
    "start_time": "2024-07-07T18:32:09.627Z"
   },
   {
    "duration": 3,
    "start_time": "2024-07-07T18:35:47.014Z"
   },
   {
    "duration": 1588,
    "start_time": "2024-07-07T18:35:47.022Z"
   },
   {
    "duration": 27,
    "start_time": "2024-07-07T18:35:48.613Z"
   },
   {
    "duration": 21,
    "start_time": "2024-07-07T18:35:48.643Z"
   },
   {
    "duration": 16,
    "start_time": "2024-07-07T18:35:48.669Z"
   },
   {
    "duration": 16,
    "start_time": "2024-07-07T18:35:48.723Z"
   },
   {
    "duration": 17,
    "start_time": "2024-07-07T18:35:48.742Z"
   },
   {
    "duration": 3,
    "start_time": "2024-07-07T18:35:48.762Z"
   },
   {
    "duration": 4,
    "start_time": "2024-07-07T18:35:48.769Z"
   },
   {
    "duration": 41,
    "start_time": "2024-07-07T18:35:48.782Z"
   },
   {
    "duration": 4,
    "start_time": "2024-07-07T18:35:48.826Z"
   },
   {
    "duration": 4,
    "start_time": "2024-07-07T18:35:48.832Z"
   },
   {
    "duration": 4,
    "start_time": "2024-07-07T18:35:48.839Z"
   },
   {
    "duration": 3,
    "start_time": "2024-07-07T18:35:48.849Z"
   },
   {
    "duration": 4,
    "start_time": "2024-07-07T18:35:48.855Z"
   },
   {
    "duration": 5,
    "start_time": "2024-07-07T18:35:48.862Z"
   },
   {
    "duration": 4,
    "start_time": "2024-07-07T18:35:48.924Z"
   },
   {
    "duration": 4,
    "start_time": "2024-07-07T18:35:48.931Z"
   },
   {
    "duration": 3,
    "start_time": "2024-07-07T18:35:48.939Z"
   },
   {
    "duration": 4,
    "start_time": "2024-07-07T18:35:48.945Z"
   },
   {
    "duration": 3,
    "start_time": "2024-07-07T18:35:48.953Z"
   },
   {
    "duration": 5,
    "start_time": "2024-07-07T18:35:48.960Z"
   },
   {
    "duration": 3,
    "start_time": "2024-07-07T18:35:48.968Z"
   },
   {
    "duration": 5,
    "start_time": "2024-07-07T18:35:49.024Z"
   },
   {
    "duration": 25,
    "start_time": "2024-07-07T18:35:49.032Z"
   },
   {
    "duration": 5,
    "start_time": "2024-07-07T18:35:49.060Z"
   },
   {
    "duration": 4,
    "start_time": "2024-07-07T18:35:49.069Z"
   },
   {
    "duration": 4,
    "start_time": "2024-07-07T18:35:49.076Z"
   },
   {
    "duration": 4,
    "start_time": "2024-07-07T18:35:49.084Z"
   },
   {
    "duration": 5,
    "start_time": "2024-07-07T18:35:49.122Z"
   },
   {
    "duration": 4,
    "start_time": "2024-07-07T18:35:49.129Z"
   },
   {
    "duration": 4,
    "start_time": "2024-07-07T18:35:49.136Z"
   },
   {
    "duration": 3,
    "start_time": "2024-07-07T18:35:49.144Z"
   },
   {
    "duration": 4,
    "start_time": "2024-07-07T18:35:49.151Z"
   },
   {
    "duration": 49,
    "start_time": "2024-07-07T18:43:53.724Z"
   },
   {
    "duration": 190,
    "start_time": "2024-07-07T19:21:15.651Z"
   },
   {
    "duration": 240,
    "start_time": "2024-07-07T19:24:52.058Z"
   },
   {
    "duration": 370,
    "start_time": "2024-07-07T19:31:17.316Z"
   },
   {
    "duration": 311,
    "start_time": "2024-07-08T23:19:12.588Z"
   },
   {
    "duration": 414,
    "start_time": "2024-07-08T23:19:50.231Z"
   },
   {
    "duration": 1695,
    "start_time": "2024-07-08T23:19:50.648Z"
   },
   {
    "duration": 31,
    "start_time": "2024-07-08T23:19:52.346Z"
   },
   {
    "duration": 22,
    "start_time": "2024-07-08T23:19:52.381Z"
   },
   {
    "duration": 18,
    "start_time": "2024-07-08T23:19:52.407Z"
   },
   {
    "duration": 45,
    "start_time": "2024-07-08T23:19:52.430Z"
   },
   {
    "duration": 44,
    "start_time": "2024-07-08T23:19:52.478Z"
   },
   {
    "duration": 335,
    "start_time": "2024-07-08T23:19:52.524Z"
   },
   {
    "duration": 12,
    "start_time": "2024-07-08T23:19:59.434Z"
   },
   {
    "duration": 10,
    "start_time": "2024-07-08T23:20:36.469Z"
   },
   {
    "duration": 11,
    "start_time": "2024-07-08T23:21:03.801Z"
   },
   {
    "duration": 11,
    "start_time": "2024-07-08T23:22:41.810Z"
   },
   {
    "duration": 173,
    "start_time": "2024-07-08T23:37:24.865Z"
   },
   {
    "duration": 150,
    "start_time": "2024-07-08T23:39:58.116Z"
   },
   {
    "duration": 3,
    "start_time": "2024-07-08T23:40:13.615Z"
   },
   {
    "duration": 1478,
    "start_time": "2024-07-08T23:40:13.622Z"
   },
   {
    "duration": 21,
    "start_time": "2024-07-08T23:40:15.103Z"
   },
   {
    "duration": 41,
    "start_time": "2024-07-08T23:40:15.126Z"
   },
   {
    "duration": 16,
    "start_time": "2024-07-08T23:40:15.172Z"
   },
   {
    "duration": 18,
    "start_time": "2024-07-08T23:40:15.190Z"
   },
   {
    "duration": 76,
    "start_time": "2024-07-08T23:40:15.211Z"
   },
   {
    "duration": 297,
    "start_time": "2024-07-08T23:40:15.290Z"
   },
   {
    "duration": 12,
    "start_time": "2024-07-08T23:40:15.591Z"
   },
   {
    "duration": 181,
    "start_time": "2024-07-08T23:40:15.606Z"
   },
   {
    "duration": 139,
    "start_time": "2024-07-08T23:40:25.226Z"
   },
   {
    "duration": 4,
    "start_time": "2024-07-09T00:13:38.472Z"
   },
   {
    "duration": 1449,
    "start_time": "2024-07-09T00:13:38.480Z"
   },
   {
    "duration": 21,
    "start_time": "2024-07-09T00:13:39.932Z"
   },
   {
    "duration": 20,
    "start_time": "2024-07-09T00:13:39.969Z"
   },
   {
    "duration": 17,
    "start_time": "2024-07-09T00:13:39.992Z"
   },
   {
    "duration": 15,
    "start_time": "2024-07-09T00:13:40.012Z"
   },
   {
    "duration": 40,
    "start_time": "2024-07-09T00:13:40.069Z"
   },
   {
    "duration": 290,
    "start_time": "2024-07-09T00:13:40.112Z"
   },
   {
    "duration": 12,
    "start_time": "2024-07-09T00:13:40.406Z"
   },
   {
    "duration": 174,
    "start_time": "2024-07-09T00:13:40.422Z"
   },
   {
    "duration": 132,
    "start_time": "2024-07-09T00:13:59.223Z"
   },
   {
    "duration": 64,
    "start_time": "2024-07-09T00:17:27.012Z"
   },
   {
    "duration": 21,
    "start_time": "2024-07-09T00:24:18.440Z"
   },
   {
    "duration": 42,
    "start_time": "2024-07-09T00:27:42.115Z"
   },
   {
    "duration": 18,
    "start_time": "2024-07-09T00:30:23.530Z"
   },
   {
    "duration": 6,
    "start_time": "2024-07-09T00:31:07.666Z"
   },
   {
    "duration": 38,
    "start_time": "2024-07-09T00:34:58.552Z"
   },
   {
    "duration": 257,
    "start_time": "2024-07-09T00:35:47.133Z"
   },
   {
    "duration": 12,
    "start_time": "2024-07-09T00:38:14.049Z"
   },
   {
    "duration": 142,
    "start_time": "2024-07-09T00:38:35.103Z"
   },
   {
    "duration": 3,
    "start_time": "2024-07-09T00:39:23.702Z"
   },
   {
    "duration": 1437,
    "start_time": "2024-07-09T00:39:23.710Z"
   },
   {
    "duration": 28,
    "start_time": "2024-07-09T00:39:25.150Z"
   },
   {
    "duration": 19,
    "start_time": "2024-07-09T00:39:25.182Z"
   },
   {
    "duration": 15,
    "start_time": "2024-07-09T00:39:25.207Z"
   },
   {
    "duration": 50,
    "start_time": "2024-07-09T00:39:25.225Z"
   },
   {
    "duration": 42,
    "start_time": "2024-07-09T00:39:25.277Z"
   },
   {
    "duration": 287,
    "start_time": "2024-07-09T00:39:25.322Z"
   },
   {
    "duration": 11,
    "start_time": "2024-07-09T00:39:25.612Z"
   },
   {
    "duration": 171,
    "start_time": "2024-07-09T00:39:25.625Z"
   },
   {
    "duration": 292,
    "start_time": "2024-07-09T00:39:25.799Z"
   },
   {
    "duration": 8,
    "start_time": "2024-07-09T00:52:47.693Z"
   },
   {
    "duration": 424,
    "start_time": "2024-07-09T01:00:17.409Z"
   },
   {
    "duration": 1504,
    "start_time": "2024-07-09T01:00:17.837Z"
   },
   {
    "duration": 32,
    "start_time": "2024-07-09T01:00:19.344Z"
   },
   {
    "duration": 20,
    "start_time": "2024-07-09T01:00:19.380Z"
   },
   {
    "duration": 17,
    "start_time": "2024-07-09T01:00:19.402Z"
   },
   {
    "duration": 45,
    "start_time": "2024-07-09T01:00:19.422Z"
   },
   {
    "duration": 45,
    "start_time": "2024-07-09T01:00:19.470Z"
   },
   {
    "duration": 336,
    "start_time": "2024-07-09T01:00:19.518Z"
   },
   {
    "duration": 21,
    "start_time": "2024-07-09T01:00:19.857Z"
   },
   {
    "duration": 194,
    "start_time": "2024-07-09T01:00:19.885Z"
   },
   {
    "duration": 325,
    "start_time": "2024-07-09T01:00:20.082Z"
   },
   {
    "duration": 57,
    "start_time": "2024-07-09T01:00:20.410Z"
   },
   {
    "duration": 23,
    "start_time": "2024-07-09T01:00:20.470Z"
   },
   {
    "duration": 9,
    "start_time": "2024-07-09T01:00:20.497Z"
   },
   {
    "duration": 5,
    "start_time": "2024-07-09T01:00:20.509Z"
   },
   {
    "duration": 3,
    "start_time": "2024-07-09T01:00:20.518Z"
   },
   {
    "duration": 3,
    "start_time": "2024-07-09T01:00:20.569Z"
   },
   {
    "duration": 3,
    "start_time": "2024-07-09T01:00:20.576Z"
   },
   {
    "duration": 3,
    "start_time": "2024-07-09T01:00:20.583Z"
   },
   {
    "duration": 4,
    "start_time": "2024-07-09T01:00:20.589Z"
   },
   {
    "duration": 4,
    "start_time": "2024-07-09T01:00:20.595Z"
   },
   {
    "duration": 4,
    "start_time": "2024-07-09T01:00:20.601Z"
   },
   {
    "duration": 59,
    "start_time": "2024-07-09T01:00:20.608Z"
   },
   {
    "duration": 3,
    "start_time": "2024-07-09T01:00:20.670Z"
   },
   {
    "duration": 3,
    "start_time": "2024-07-09T01:00:20.677Z"
   },
   {
    "duration": 4,
    "start_time": "2024-07-09T01:00:20.683Z"
   },
   {
    "duration": 3,
    "start_time": "2024-07-09T01:00:20.692Z"
   },
   {
    "duration": 3,
    "start_time": "2024-07-09T01:00:20.702Z"
   },
   {
    "duration": 3,
    "start_time": "2024-07-09T01:00:20.709Z"
   },
   {
    "duration": 53,
    "start_time": "2024-07-09T01:00:20.715Z"
   },
   {
    "duration": 13,
    "start_time": "2024-07-09T01:00:20.771Z"
   },
   {
    "duration": 4,
    "start_time": "2024-07-09T01:00:20.786Z"
   },
   {
    "duration": 3,
    "start_time": "2024-07-09T01:00:20.793Z"
   },
   {
    "duration": 4,
    "start_time": "2024-07-09T01:00:20.799Z"
   },
   {
    "duration": 176,
    "start_time": "2024-07-09T01:03:51.223Z"
   },
   {
    "duration": 165,
    "start_time": "2024-07-09T01:04:43.219Z"
   },
   {
    "duration": 169,
    "start_time": "2024-07-09T01:05:58.196Z"
   },
   {
    "duration": 313,
    "start_time": "2024-07-09T01:06:17.782Z"
   },
   {
    "duration": 168,
    "start_time": "2024-07-09T01:40:44.554Z"
   },
   {
    "duration": 16,
    "start_time": "2024-07-09T01:52:38.426Z"
   },
   {
    "duration": 3,
    "start_time": "2024-07-09T02:19:59.306Z"
   },
   {
    "duration": 1437,
    "start_time": "2024-07-09T02:19:59.314Z"
   },
   {
    "duration": 26,
    "start_time": "2024-07-09T02:20:00.754Z"
   },
   {
    "duration": 20,
    "start_time": "2024-07-09T02:20:00.783Z"
   },
   {
    "duration": 17,
    "start_time": "2024-07-09T02:20:00.807Z"
   },
   {
    "duration": 51,
    "start_time": "2024-07-09T02:20:00.827Z"
   },
   {
    "duration": 43,
    "start_time": "2024-07-09T02:20:00.883Z"
   },
   {
    "duration": 305,
    "start_time": "2024-07-09T02:20:00.929Z"
   },
   {
    "duration": 11,
    "start_time": "2024-07-09T02:20:01.237Z"
   },
   {
    "duration": 160,
    "start_time": "2024-07-09T02:20:01.267Z"
   },
   {
    "duration": 255,
    "start_time": "2024-07-09T02:20:23.074Z"
   },
   {
    "duration": 68,
    "start_time": "2024-07-09T02:20:54.384Z"
   },
   {
    "duration": 137,
    "start_time": "2024-07-09T02:22:16.510Z"
   },
   {
    "duration": 73,
    "start_time": "2024-07-09T03:05:21.342Z"
   },
   {
    "duration": 70,
    "start_time": "2024-07-09T03:06:28.072Z"
   },
   {
    "duration": 10,
    "start_time": "2024-07-09T03:50:17.831Z"
   },
   {
    "duration": 4,
    "start_time": "2024-07-09T03:50:40.530Z"
   },
   {
    "duration": 1446,
    "start_time": "2024-07-09T03:50:40.541Z"
   },
   {
    "duration": 21,
    "start_time": "2024-07-09T03:50:41.991Z"
   },
   {
    "duration": 19,
    "start_time": "2024-07-09T03:50:42.015Z"
   },
   {
    "duration": 46,
    "start_time": "2024-07-09T03:50:42.037Z"
   },
   {
    "duration": 15,
    "start_time": "2024-07-09T03:50:42.087Z"
   },
   {
    "duration": 71,
    "start_time": "2024-07-09T03:50:42.105Z"
   },
   {
    "duration": 267,
    "start_time": "2024-07-09T03:50:42.179Z"
   },
   {
    "duration": 19,
    "start_time": "2024-07-09T03:50:42.452Z"
   },
   {
    "duration": 156,
    "start_time": "2024-07-09T03:50:42.474Z"
   },
   {
    "duration": 147,
    "start_time": "2024-07-09T03:50:42.633Z"
   },
   {
    "duration": 67,
    "start_time": "2024-07-09T03:50:42.783Z"
   },
   {
    "duration": 23,
    "start_time": "2024-07-09T03:50:42.869Z"
   },
   {
    "duration": 7,
    "start_time": "2024-07-09T03:50:42.894Z"
   },
   {
    "duration": 3,
    "start_time": "2024-07-09T03:50:42.907Z"
   },
   {
    "duration": 4,
    "start_time": "2024-07-09T03:50:42.913Z"
   },
   {
    "duration": 4,
    "start_time": "2024-07-09T03:50:42.920Z"
   },
   {
    "duration": 4,
    "start_time": "2024-07-09T03:50:42.968Z"
   },
   {
    "duration": 3,
    "start_time": "2024-07-09T03:50:42.976Z"
   },
   {
    "duration": 4,
    "start_time": "2024-07-09T03:50:42.982Z"
   },
   {
    "duration": 4,
    "start_time": "2024-07-09T03:50:42.989Z"
   },
   {
    "duration": 3,
    "start_time": "2024-07-09T03:50:42.997Z"
   },
   {
    "duration": 75,
    "start_time": "2024-07-09T03:50:43.003Z"
   },
   {
    "duration": 4,
    "start_time": "2024-07-09T03:50:43.080Z"
   },
   {
    "duration": 3,
    "start_time": "2024-07-09T03:50:43.088Z"
   },
   {
    "duration": 4,
    "start_time": "2024-07-09T03:50:43.094Z"
   },
   {
    "duration": 4,
    "start_time": "2024-07-09T03:50:43.101Z"
   },
   {
    "duration": 4,
    "start_time": "2024-07-09T03:50:43.107Z"
   },
   {
    "duration": 55,
    "start_time": "2024-07-09T03:50:43.114Z"
   },
   {
    "duration": 3,
    "start_time": "2024-07-09T03:50:43.172Z"
   },
   {
    "duration": 4,
    "start_time": "2024-07-09T03:50:43.178Z"
   },
   {
    "duration": 3,
    "start_time": "2024-07-09T03:50:43.185Z"
   },
   {
    "duration": 3,
    "start_time": "2024-07-09T03:50:43.192Z"
   },
   {
    "duration": 4,
    "start_time": "2024-07-09T03:50:43.198Z"
   },
   {
    "duration": 7,
    "start_time": "2024-07-09T04:25:46.398Z"
   },
   {
    "duration": 4,
    "start_time": "2024-07-09T04:26:01.991Z"
   },
   {
    "duration": 1405,
    "start_time": "2024-07-09T04:26:01.999Z"
   },
   {
    "duration": 21,
    "start_time": "2024-07-09T04:26:03.407Z"
   },
   {
    "duration": 40,
    "start_time": "2024-07-09T04:26:03.431Z"
   },
   {
    "duration": 18,
    "start_time": "2024-07-09T04:26:03.474Z"
   },
   {
    "duration": 16,
    "start_time": "2024-07-09T04:26:03.495Z"
   },
   {
    "duration": 80,
    "start_time": "2024-07-09T04:26:03.515Z"
   },
   {
    "duration": 279,
    "start_time": "2024-07-09T04:26:03.598Z"
   },
   {
    "duration": 8,
    "start_time": "2024-07-09T04:26:03.884Z"
   },
   {
    "duration": 0,
    "start_time": "2024-07-09T04:26:03.896Z"
   },
   {
    "duration": 0,
    "start_time": "2024-07-09T04:26:03.898Z"
   },
   {
    "duration": 0,
    "start_time": "2024-07-09T04:26:03.899Z"
   },
   {
    "duration": 0,
    "start_time": "2024-07-09T04:26:03.901Z"
   },
   {
    "duration": 26,
    "start_time": "2024-07-09T04:26:18.075Z"
   },
   {
    "duration": 3,
    "start_time": "2024-07-09T04:29:25.385Z"
   },
   {
    "duration": 1458,
    "start_time": "2024-07-09T04:29:25.397Z"
   },
   {
    "duration": 31,
    "start_time": "2024-07-09T04:29:26.859Z"
   },
   {
    "duration": 23,
    "start_time": "2024-07-09T04:29:26.894Z"
   },
   {
    "duration": 16,
    "start_time": "2024-07-09T04:29:26.920Z"
   },
   {
    "duration": 22,
    "start_time": "2024-07-09T04:29:26.971Z"
   },
   {
    "duration": 45,
    "start_time": "2024-07-09T04:29:26.997Z"
   },
   {
    "duration": 299,
    "start_time": "2024-07-09T04:29:27.069Z"
   },
   {
    "duration": 14,
    "start_time": "2024-07-09T04:29:27.372Z"
   },
   {
    "duration": 178,
    "start_time": "2024-07-09T04:29:27.392Z"
   },
   {
    "duration": 179,
    "start_time": "2024-07-09T04:29:27.576Z"
   },
   {
    "duration": 112,
    "start_time": "2024-07-09T04:29:27.758Z"
   },
   {
    "duration": 27,
    "start_time": "2024-07-09T04:29:27.873Z"
   },
   {
    "duration": 6,
    "start_time": "2024-07-09T04:30:57.215Z"
   },
   {
    "duration": 18,
    "start_time": "2024-07-09T04:33:39.253Z"
   },
   {
    "duration": 16,
    "start_time": "2024-07-09T04:43:35.271Z"
   },
   {
    "duration": 40,
    "start_time": "2024-07-09T04:51:50.908Z"
   },
   {
    "duration": 44,
    "start_time": "2024-07-09T04:53:03.262Z"
   },
   {
    "duration": 46,
    "start_time": "2024-07-09T04:56:13.862Z"
   },
   {
    "duration": 64,
    "start_time": "2024-07-09T04:58:14.670Z"
   },
   {
    "duration": 58,
    "start_time": "2024-07-09T04:58:57.469Z"
   },
   {
    "duration": 16,
    "start_time": "2024-07-09T05:04:12.550Z"
   },
   {
    "duration": 6,
    "start_time": "2024-07-09T05:09:09.580Z"
   },
   {
    "duration": 434,
    "start_time": "2024-07-09T22:59:48.158Z"
   },
   {
    "duration": 1645,
    "start_time": "2024-07-09T22:59:48.599Z"
   },
   {
    "duration": 26,
    "start_time": "2024-07-09T22:59:50.247Z"
   },
   {
    "duration": 43,
    "start_time": "2024-07-09T22:59:50.276Z"
   },
   {
    "duration": 19,
    "start_time": "2024-07-09T22:59:50.324Z"
   },
   {
    "duration": 16,
    "start_time": "2024-07-09T22:59:50.345Z"
   },
   {
    "duration": 81,
    "start_time": "2024-07-09T22:59:50.364Z"
   },
   {
    "duration": 343,
    "start_time": "2024-07-09T22:59:50.448Z"
   },
   {
    "duration": 27,
    "start_time": "2024-07-09T22:59:50.794Z"
   },
   {
    "duration": 218,
    "start_time": "2024-07-09T22:59:50.825Z"
   },
   {
    "duration": 167,
    "start_time": "2024-07-09T22:59:51.046Z"
   },
   {
    "duration": 110,
    "start_time": "2024-07-09T22:59:51.215Z"
   },
   {
    "duration": 23,
    "start_time": "2024-07-09T22:59:51.328Z"
   },
   {
    "duration": 8,
    "start_time": "2024-07-09T22:59:51.359Z"
   },
   {
    "duration": 86,
    "start_time": "2024-07-09T22:59:51.370Z"
   },
   {
    "duration": 3,
    "start_time": "2024-07-09T22:59:51.461Z"
   },
   {
    "duration": 4,
    "start_time": "2024-07-09T22:59:51.466Z"
   },
   {
    "duration": 4,
    "start_time": "2024-07-09T22:59:51.473Z"
   },
   {
    "duration": 6,
    "start_time": "2024-07-09T22:59:51.512Z"
   },
   {
    "duration": 5,
    "start_time": "2024-07-09T22:59:51.521Z"
   },
   {
    "duration": 4,
    "start_time": "2024-07-09T22:59:51.532Z"
   },
   {
    "duration": 4,
    "start_time": "2024-07-09T22:59:51.539Z"
   },
   {
    "duration": 67,
    "start_time": "2024-07-09T22:59:51.546Z"
   },
   {
    "duration": 4,
    "start_time": "2024-07-09T22:59:51.616Z"
   },
   {
    "duration": 3,
    "start_time": "2024-07-09T22:59:51.623Z"
   },
   {
    "duration": 4,
    "start_time": "2024-07-09T22:59:51.629Z"
   },
   {
    "duration": 4,
    "start_time": "2024-07-09T22:59:51.636Z"
   },
   {
    "duration": 3,
    "start_time": "2024-07-09T22:59:51.643Z"
   },
   {
    "duration": 3,
    "start_time": "2024-07-09T22:59:51.650Z"
   },
   {
    "duration": 3,
    "start_time": "2024-07-09T22:59:51.713Z"
   },
   {
    "duration": 4,
    "start_time": "2024-07-09T22:59:51.720Z"
   },
   {
    "duration": 3,
    "start_time": "2024-07-09T22:59:51.727Z"
   },
   {
    "duration": 4,
    "start_time": "2024-07-09T22:59:51.734Z"
   },
   {
    "duration": 3,
    "start_time": "2024-07-09T22:59:51.742Z"
   },
   {
    "duration": 5,
    "start_time": "2024-07-09T23:31:16.238Z"
   },
   {
    "duration": 6,
    "start_time": "2024-07-09T23:33:05.267Z"
   },
   {
    "duration": 6,
    "start_time": "2024-07-09T23:47:38.362Z"
   },
   {
    "duration": 5,
    "start_time": "2024-07-09T23:49:16.228Z"
   },
   {
    "duration": 1318,
    "start_time": "2024-07-09T23:57:46.798Z"
   },
   {
    "duration": 456,
    "start_time": "2024-07-09T23:58:35.152Z"
   },
   {
    "duration": 184,
    "start_time": "2024-07-10T00:20:16.319Z"
   },
   {
    "duration": 151,
    "start_time": "2024-07-10T00:20:50.224Z"
   },
   {
    "duration": 1186,
    "start_time": "2024-07-10T00:41:48.199Z"
   },
   {
    "duration": 21,
    "start_time": "2024-07-10T00:50:00.767Z"
   },
   {
    "duration": 21,
    "start_time": "2024-07-10T00:52:41.990Z"
   },
   {
    "duration": 22,
    "start_time": "2024-07-10T00:53:12.528Z"
   },
   {
    "duration": 24,
    "start_time": "2024-07-10T00:54:05.865Z"
   },
   {
    "duration": 21,
    "start_time": "2024-07-10T00:54:14.934Z"
   },
   {
    "duration": 19,
    "start_time": "2024-07-10T01:02:03.765Z"
   },
   {
    "duration": 10,
    "start_time": "2024-07-10T01:13:54.033Z"
   },
   {
    "duration": 27,
    "start_time": "2024-07-10T01:14:53.010Z"
   },
   {
    "duration": 18,
    "start_time": "2024-07-10T01:25:43.145Z"
   },
   {
    "duration": 20,
    "start_time": "2024-07-10T01:41:21.098Z"
   },
   {
    "duration": 20,
    "start_time": "2024-07-10T01:41:38.665Z"
   },
   {
    "duration": 20,
    "start_time": "2024-07-10T01:41:46.421Z"
   },
   {
    "duration": 10,
    "start_time": "2024-07-10T03:05:39.257Z"
   },
   {
    "duration": 8,
    "start_time": "2024-07-10T03:21:48.053Z"
   },
   {
    "duration": 11,
    "start_time": "2024-07-10T03:22:02.766Z"
   },
   {
    "duration": 11,
    "start_time": "2024-07-10T03:41:21.196Z"
   },
   {
    "duration": 5,
    "start_time": "2024-07-10T03:57:09.444Z"
   },
   {
    "duration": 15,
    "start_time": "2024-07-10T04:03:15.163Z"
   },
   {
    "duration": 7,
    "start_time": "2024-07-10T04:12:05.088Z"
   },
   {
    "duration": 7,
    "start_time": "2024-07-10T04:14:13.880Z"
   },
   {
    "duration": 8,
    "start_time": "2024-07-10T04:15:15.782Z"
   },
   {
    "duration": 11,
    "start_time": "2024-07-10T04:15:34.101Z"
   },
   {
    "duration": 7,
    "start_time": "2024-07-10T04:15:59.778Z"
   },
   {
    "duration": 12,
    "start_time": "2024-07-10T04:22:39.766Z"
   },
   {
    "duration": 278,
    "start_time": "2024-07-10T04:27:25.590Z"
   },
   {
    "duration": 30,
    "start_time": "2024-07-10T04:34:24.320Z"
   },
   {
    "duration": 11,
    "start_time": "2024-07-10T04:42:48.329Z"
   },
   {
    "duration": 11,
    "start_time": "2024-07-10T04:54:35.932Z"
   },
   {
    "duration": 482,
    "start_time": "2024-07-12T04:22:52.499Z"
   },
   {
    "duration": 1705,
    "start_time": "2024-07-12T04:22:52.984Z"
   },
   {
    "duration": 37,
    "start_time": "2024-07-12T04:22:54.692Z"
   },
   {
    "duration": 22,
    "start_time": "2024-07-12T04:22:54.734Z"
   },
   {
    "duration": 17,
    "start_time": "2024-07-12T04:22:54.759Z"
   },
   {
    "duration": 16,
    "start_time": "2024-07-12T04:22:54.812Z"
   },
   {
    "duration": 44,
    "start_time": "2024-07-12T04:22:54.831Z"
   },
   {
    "duration": 351,
    "start_time": "2024-07-12T04:22:54.878Z"
   },
   {
    "duration": 13,
    "start_time": "2024-07-12T04:22:55.232Z"
   },
   {
    "duration": 194,
    "start_time": "2024-07-12T04:22:55.251Z"
   },
   {
    "duration": 169,
    "start_time": "2024-07-12T04:22:55.447Z"
   },
   {
    "duration": 96,
    "start_time": "2024-07-12T04:22:55.619Z"
   },
   {
    "duration": 27,
    "start_time": "2024-07-12T04:22:55.718Z"
   },
   {
    "duration": 7,
    "start_time": "2024-07-12T04:22:55.749Z"
   },
   {
    "duration": 99,
    "start_time": "2024-07-12T04:22:55.759Z"
   },
   {
    "duration": 5,
    "start_time": "2024-07-12T04:22:55.863Z"
   },
   {
    "duration": 7,
    "start_time": "2024-07-12T04:22:55.871Z"
   },
   {
    "duration": 32,
    "start_time": "2024-07-12T04:22:55.880Z"
   },
   {
    "duration": 7,
    "start_time": "2024-07-12T04:22:55.915Z"
   },
   {
    "duration": 7,
    "start_time": "2024-07-12T04:22:55.925Z"
   },
   {
    "duration": 1330,
    "start_time": "2024-07-12T04:22:55.936Z"
   },
   {
    "duration": 1153,
    "start_time": "2024-07-12T04:22:57.269Z"
   },
   {
    "duration": 16,
    "start_time": "2024-07-12T04:22:58.425Z"
   },
   {
    "duration": 24,
    "start_time": "2024-07-12T04:22:58.444Z"
   },
   {
    "duration": 52,
    "start_time": "2024-07-12T04:22:58.471Z"
   },
   {
    "duration": 12,
    "start_time": "2024-07-12T04:22:58.528Z"
   },
   {
    "duration": 10,
    "start_time": "2024-07-12T04:22:58.544Z"
   },
   {
    "duration": 50,
    "start_time": "2024-07-12T04:22:58.562Z"
   },
   {
    "duration": 8,
    "start_time": "2024-07-12T04:22:58.615Z"
   },
   {
    "duration": 32,
    "start_time": "2024-07-12T04:22:58.626Z"
   },
   {
    "duration": 318,
    "start_time": "2024-07-12T04:22:58.661Z"
   },
   {
    "duration": 12,
    "start_time": "2024-07-12T04:22:58.982Z"
   },
   {
    "duration": 3,
    "start_time": "2024-07-12T04:22:59.010Z"
   },
   {
    "duration": 3,
    "start_time": "2024-07-12T04:22:59.017Z"
   },
   {
    "duration": 38,
    "start_time": "2024-07-12T04:45:51.334Z"
   },
   {
    "duration": 4,
    "start_time": "2024-07-12T04:51:48.385Z"
   },
   {
    "duration": 1620,
    "start_time": "2024-07-12T04:51:48.398Z"
   },
   {
    "duration": 26,
    "start_time": "2024-07-12T04:51:50.023Z"
   },
   {
    "duration": 23,
    "start_time": "2024-07-12T04:51:50.053Z"
   },
   {
    "duration": 20,
    "start_time": "2024-07-12T04:51:50.110Z"
   },
   {
    "duration": 18,
    "start_time": "2024-07-12T04:51:50.136Z"
   },
   {
    "duration": 88,
    "start_time": "2024-07-12T04:51:50.158Z"
   },
   {
    "duration": 385,
    "start_time": "2024-07-12T04:51:50.250Z"
   },
   {
    "duration": 14,
    "start_time": "2024-07-12T04:51:50.638Z"
   },
   {
    "duration": 226,
    "start_time": "2024-07-12T04:51:50.658Z"
   },
   {
    "duration": 221,
    "start_time": "2024-07-12T04:51:50.887Z"
   },
   {
    "duration": 117,
    "start_time": "2024-07-12T04:51:51.113Z"
   },
   {
    "duration": 29,
    "start_time": "2024-07-12T04:51:51.233Z"
   },
   {
    "duration": 8,
    "start_time": "2024-07-12T04:51:51.267Z"
   },
   {
    "duration": 74,
    "start_time": "2024-07-12T04:51:51.310Z"
   },
   {
    "duration": 32,
    "start_time": "2024-07-12T04:51:51.410Z"
   },
   {
    "duration": 7,
    "start_time": "2024-07-12T04:51:51.446Z"
   },
   {
    "duration": 7,
    "start_time": "2024-07-12T04:51:51.456Z"
   },
   {
    "duration": 7,
    "start_time": "2024-07-12T04:51:51.509Z"
   },
   {
    "duration": 9,
    "start_time": "2024-07-12T04:51:51.521Z"
   },
   {
    "duration": 1563,
    "start_time": "2024-07-12T04:51:51.533Z"
   },
   {
    "duration": 1338,
    "start_time": "2024-07-12T04:51:53.100Z"
   },
   {
    "duration": 13,
    "start_time": "2024-07-12T04:51:54.442Z"
   },
   {
    "duration": 15,
    "start_time": "2024-07-12T04:51:54.458Z"
   },
   {
    "duration": 43,
    "start_time": "2024-07-12T04:51:54.476Z"
   },
   {
    "duration": 11,
    "start_time": "2024-07-12T04:51:54.524Z"
   },
   {
    "duration": 15,
    "start_time": "2024-07-12T04:51:54.539Z"
   },
   {
    "duration": 63,
    "start_time": "2024-07-12T04:51:54.558Z"
   },
   {
    "duration": 9,
    "start_time": "2024-07-12T04:51:54.626Z"
   },
   {
    "duration": 74,
    "start_time": "2024-07-12T04:51:54.640Z"
   },
   {
    "duration": 322,
    "start_time": "2024-07-12T04:51:54.720Z"
   },
   {
    "duration": 12,
    "start_time": "2024-07-12T04:51:55.045Z"
   },
   {
    "duration": 4,
    "start_time": "2024-07-12T04:51:55.062Z"
   },
   {
    "duration": 3,
    "start_time": "2024-07-12T04:51:55.071Z"
   },
   {
    "duration": 36,
    "start_time": "2024-07-12T04:52:36.736Z"
   },
   {
    "duration": 54,
    "start_time": "2024-07-12T04:53:11.055Z"
   },
   {
    "duration": 77,
    "start_time": "2024-07-12T04:56:45.042Z"
   },
   {
    "duration": 68,
    "start_time": "2024-07-12T05:00:35.061Z"
   },
   {
    "duration": 3,
    "start_time": "2024-07-12T05:00:43.897Z"
   },
   {
    "duration": 1588,
    "start_time": "2024-07-12T05:00:43.910Z"
   },
   {
    "duration": 33,
    "start_time": "2024-07-12T05:00:45.502Z"
   },
   {
    "duration": 24,
    "start_time": "2024-07-12T05:00:45.539Z"
   },
   {
    "duration": 51,
    "start_time": "2024-07-12T05:00:45.566Z"
   },
   {
    "duration": 21,
    "start_time": "2024-07-12T05:00:45.622Z"
   },
   {
    "duration": 83,
    "start_time": "2024-07-12T05:00:45.647Z"
   },
   {
    "duration": 360,
    "start_time": "2024-07-12T05:00:45.734Z"
   },
   {
    "duration": 20,
    "start_time": "2024-07-12T05:00:46.097Z"
   },
   {
    "duration": 211,
    "start_time": "2024-07-12T05:00:46.120Z"
   },
   {
    "duration": 174,
    "start_time": "2024-07-12T05:00:46.334Z"
   },
   {
    "duration": 98,
    "start_time": "2024-07-12T05:00:46.512Z"
   },
   {
    "duration": 25,
    "start_time": "2024-07-12T05:00:46.613Z"
   },
   {
    "duration": 10,
    "start_time": "2024-07-12T05:00:46.642Z"
   },
   {
    "duration": 99,
    "start_time": "2024-07-12T05:00:46.658Z"
   },
   {
    "duration": 92,
    "start_time": "2024-07-12T05:00:46.760Z"
   },
   {
    "duration": 7,
    "start_time": "2024-07-12T05:00:46.855Z"
   },
   {
    "duration": 7,
    "start_time": "2024-07-12T05:00:46.866Z"
   },
   {
    "duration": 9,
    "start_time": "2024-07-12T05:00:46.910Z"
   },
   {
    "duration": 7,
    "start_time": "2024-07-12T05:00:46.922Z"
   },
   {
    "duration": 1477,
    "start_time": "2024-07-12T05:00:46.934Z"
   },
   {
    "duration": 1350,
    "start_time": "2024-07-12T05:00:48.414Z"
   },
   {
    "duration": 16,
    "start_time": "2024-07-12T05:00:49.767Z"
   },
   {
    "duration": 42,
    "start_time": "2024-07-12T05:00:49.787Z"
   },
   {
    "duration": 25,
    "start_time": "2024-07-12T05:00:49.833Z"
   },
   {
    "duration": 48,
    "start_time": "2024-07-12T05:00:49.861Z"
   },
   {
    "duration": 12,
    "start_time": "2024-07-12T05:00:49.913Z"
   },
   {
    "duration": 17,
    "start_time": "2024-07-12T05:00:49.929Z"
   },
   {
    "duration": 9,
    "start_time": "2024-07-12T05:00:49.949Z"
   },
   {
    "duration": 80,
    "start_time": "2024-07-12T05:00:49.962Z"
   },
   {
    "duration": 332,
    "start_time": "2024-07-12T05:00:50.045Z"
   },
   {
    "duration": 29,
    "start_time": "2024-07-12T05:00:50.380Z"
   },
   {
    "duration": 4,
    "start_time": "2024-07-12T05:00:50.413Z"
   },
   {
    "duration": 4,
    "start_time": "2024-07-12T05:00:50.421Z"
   },
   {
    "duration": 53,
    "start_time": "2024-07-12T05:04:47.828Z"
   },
   {
    "duration": 46,
    "start_time": "2024-07-12T05:05:17.595Z"
   },
   {
    "duration": 4,
    "start_time": "2024-07-12T05:05:33.219Z"
   },
   {
    "duration": 1593,
    "start_time": "2024-07-12T05:05:33.228Z"
   },
   {
    "duration": 23,
    "start_time": "2024-07-12T05:05:34.825Z"
   },
   {
    "duration": 22,
    "start_time": "2024-07-12T05:05:34.851Z"
   },
   {
    "duration": 56,
    "start_time": "2024-07-12T05:05:34.876Z"
   },
   {
    "duration": 17,
    "start_time": "2024-07-12T05:05:34.939Z"
   },
   {
    "duration": 82,
    "start_time": "2024-07-12T05:05:34.960Z"
   },
   {
    "duration": 367,
    "start_time": "2024-07-12T05:05:35.046Z"
   },
   {
    "duration": 13,
    "start_time": "2024-07-12T05:05:35.419Z"
   },
   {
    "duration": 228,
    "start_time": "2024-07-12T05:05:35.435Z"
   },
   {
    "duration": 185,
    "start_time": "2024-07-12T05:05:35.667Z"
   },
   {
    "duration": 100,
    "start_time": "2024-07-12T05:05:35.856Z"
   },
   {
    "duration": 27,
    "start_time": "2024-07-12T05:05:35.959Z"
   },
   {
    "duration": 7,
    "start_time": "2024-07-12T05:05:36.008Z"
   },
   {
    "duration": 94,
    "start_time": "2024-07-12T05:05:36.022Z"
   },
   {
    "duration": 56,
    "start_time": "2024-07-12T05:05:36.119Z"
   },
   {
    "duration": 33,
    "start_time": "2024-07-12T05:05:36.178Z"
   },
   {
    "duration": 15,
    "start_time": "2024-07-12T05:05:36.215Z"
   },
   {
    "duration": 22,
    "start_time": "2024-07-12T05:05:36.233Z"
   },
   {
    "duration": 7,
    "start_time": "2024-07-12T05:05:36.258Z"
   },
   {
    "duration": 1469,
    "start_time": "2024-07-12T05:05:36.269Z"
   },
   {
    "duration": 1291,
    "start_time": "2024-07-12T05:05:37.743Z"
   },
   {
    "duration": 19,
    "start_time": "2024-07-12T05:05:39.038Z"
   },
   {
    "duration": 55,
    "start_time": "2024-07-12T05:05:39.060Z"
   },
   {
    "duration": 23,
    "start_time": "2024-07-12T05:05:39.119Z"
   },
   {
    "duration": 12,
    "start_time": "2024-07-12T05:05:39.146Z"
   },
   {
    "duration": 49,
    "start_time": "2024-07-12T05:05:39.162Z"
   },
   {
    "duration": 16,
    "start_time": "2024-07-12T05:05:39.216Z"
   },
   {
    "duration": 9,
    "start_time": "2024-07-12T05:05:39.236Z"
   },
   {
    "duration": 77,
    "start_time": "2024-07-12T05:05:39.249Z"
   },
   {
    "duration": 328,
    "start_time": "2024-07-12T05:05:39.330Z"
   },
   {
    "duration": 13,
    "start_time": "2024-07-12T05:05:39.661Z"
   },
   {
    "duration": 4,
    "start_time": "2024-07-12T05:05:39.677Z"
   },
   {
    "duration": 4,
    "start_time": "2024-07-12T05:05:39.710Z"
   },
   {
    "duration": 6,
    "start_time": "2024-07-12T05:10:15.016Z"
   },
   {
    "duration": 1579,
    "start_time": "2024-07-12T05:10:15.026Z"
   },
   {
    "duration": 26,
    "start_time": "2024-07-12T05:10:16.610Z"
   },
   {
    "duration": 25,
    "start_time": "2024-07-12T05:10:16.640Z"
   },
   {
    "duration": 57,
    "start_time": "2024-07-12T05:10:16.668Z"
   },
   {
    "duration": 19,
    "start_time": "2024-07-12T05:10:16.728Z"
   },
   {
    "duration": 76,
    "start_time": "2024-07-12T05:10:16.751Z"
   },
   {
    "duration": 314,
    "start_time": "2024-07-12T05:10:16.830Z"
   },
   {
    "duration": 12,
    "start_time": "2024-07-12T05:10:17.150Z"
   },
   {
    "duration": 240,
    "start_time": "2024-07-12T05:10:17.165Z"
   },
   {
    "duration": 185,
    "start_time": "2024-07-12T05:10:17.408Z"
   },
   {
    "duration": 92,
    "start_time": "2024-07-12T05:10:17.597Z"
   },
   {
    "duration": 35,
    "start_time": "2024-07-12T05:10:17.692Z"
   },
   {
    "duration": 8,
    "start_time": "2024-07-12T05:10:17.730Z"
   },
   {
    "duration": 98,
    "start_time": "2024-07-12T05:10:17.742Z"
   },
   {
    "duration": 91,
    "start_time": "2024-07-12T05:10:17.843Z"
   },
   {
    "duration": 7,
    "start_time": "2024-07-12T05:10:17.938Z"
   },
   {
    "duration": 6,
    "start_time": "2024-07-12T05:10:17.948Z"
   },
   {
    "duration": 6,
    "start_time": "2024-07-12T05:10:17.959Z"
   },
   {
    "duration": 7,
    "start_time": "2024-07-12T05:10:18.009Z"
   },
   {
    "duration": 1447,
    "start_time": "2024-07-12T05:10:18.019Z"
   },
   {
    "duration": 1242,
    "start_time": "2024-07-12T05:10:19.469Z"
   },
   {
    "duration": 17,
    "start_time": "2024-07-12T05:10:20.714Z"
   },
   {
    "duration": 20,
    "start_time": "2024-07-12T05:10:20.741Z"
   },
   {
    "duration": 57,
    "start_time": "2024-07-12T05:10:20.765Z"
   },
   {
    "duration": 12,
    "start_time": "2024-07-12T05:10:20.825Z"
   },
   {
    "duration": 12,
    "start_time": "2024-07-12T05:10:20.841Z"
   },
   {
    "duration": 61,
    "start_time": "2024-07-12T05:10:20.857Z"
   },
   {
    "duration": 11,
    "start_time": "2024-07-12T05:10:20.921Z"
   },
   {
    "duration": 34,
    "start_time": "2024-07-12T05:10:20.936Z"
   },
   {
    "duration": 325,
    "start_time": "2024-07-12T05:10:20.973Z"
   },
   {
    "duration": 16,
    "start_time": "2024-07-12T05:10:21.302Z"
   },
   {
    "duration": 4,
    "start_time": "2024-07-12T05:10:21.322Z"
   },
   {
    "duration": 4,
    "start_time": "2024-07-12T05:10:21.330Z"
   },
   {
    "duration": 445,
    "start_time": "2024-07-12T19:44:48.255Z"
   },
   {
    "duration": 1655,
    "start_time": "2024-07-12T19:44:48.703Z"
   },
   {
    "duration": 25,
    "start_time": "2024-07-12T19:44:50.360Z"
   },
   {
    "duration": 44,
    "start_time": "2024-07-12T19:44:50.390Z"
   },
   {
    "duration": 17,
    "start_time": "2024-07-12T19:44:50.437Z"
   },
   {
    "duration": 16,
    "start_time": "2024-07-12T19:44:50.456Z"
   },
   {
    "duration": 83,
    "start_time": "2024-07-12T19:44:50.474Z"
   },
   {
    "duration": 316,
    "start_time": "2024-07-12T19:44:50.560Z"
   },
   {
    "duration": 14,
    "start_time": "2024-07-12T19:44:50.879Z"
   },
   {
    "duration": 194,
    "start_time": "2024-07-12T19:44:50.898Z"
   },
   {
    "duration": 164,
    "start_time": "2024-07-12T19:44:51.095Z"
   },
   {
    "duration": 94,
    "start_time": "2024-07-12T19:44:51.264Z"
   },
   {
    "duration": 21,
    "start_time": "2024-07-12T19:44:51.362Z"
   },
   {
    "duration": 8,
    "start_time": "2024-07-12T19:44:51.386Z"
   },
   {
    "duration": 86,
    "start_time": "2024-07-12T19:44:51.396Z"
   },
   {
    "duration": 81,
    "start_time": "2024-07-12T19:44:51.486Z"
   },
   {
    "duration": 5,
    "start_time": "2024-07-12T19:44:51.571Z"
   },
   {
    "duration": 6,
    "start_time": "2024-07-12T19:44:51.579Z"
   },
   {
    "duration": 37,
    "start_time": "2024-07-12T19:44:51.589Z"
   },
   {
    "duration": 6,
    "start_time": "2024-07-12T19:44:51.628Z"
   },
   {
    "duration": 1323,
    "start_time": "2024-07-12T19:44:51.638Z"
   },
   {
    "duration": 1148,
    "start_time": "2024-07-12T19:44:52.964Z"
   },
   {
    "duration": 24,
    "start_time": "2024-07-12T19:44:54.115Z"
   },
   {
    "duration": 29,
    "start_time": "2024-07-12T19:44:54.141Z"
   },
   {
    "duration": 52,
    "start_time": "2024-07-12T19:44:54.175Z"
   },
   {
    "duration": 11,
    "start_time": "2024-07-12T19:44:54.230Z"
   },
   {
    "duration": 11,
    "start_time": "2024-07-12T19:44:54.244Z"
   },
   {
    "duration": 14,
    "start_time": "2024-07-12T19:44:54.262Z"
   },
   {
    "duration": 47,
    "start_time": "2024-07-12T19:44:54.279Z"
   },
   {
    "duration": 32,
    "start_time": "2024-07-12T19:44:54.329Z"
   },
   {
    "duration": 303,
    "start_time": "2024-07-12T19:44:54.363Z"
   },
   {
    "duration": 11,
    "start_time": "2024-07-12T19:44:54.669Z"
   },
   {
    "duration": 4,
    "start_time": "2024-07-12T19:44:54.682Z"
   },
   {
    "duration": 4,
    "start_time": "2024-07-12T19:44:54.689Z"
   },
   {
    "duration": 11,
    "start_time": "2024-07-12T20:52:07.291Z"
   },
   {
    "duration": 13,
    "start_time": "2024-07-12T20:54:40.117Z"
   },
   {
    "duration": 11,
    "start_time": "2024-07-12T20:56:34.147Z"
   },
   {
    "duration": 13,
    "start_time": "2024-07-12T20:58:16.350Z"
   },
   {
    "duration": 14,
    "start_time": "2024-07-12T20:59:27.311Z"
   },
   {
    "duration": 14,
    "start_time": "2024-07-12T20:59:33.682Z"
   },
   {
    "duration": 10,
    "start_time": "2024-07-12T21:04:23.168Z"
   },
   {
    "duration": 13,
    "start_time": "2024-07-12T21:04:39.895Z"
   },
   {
    "duration": 11,
    "start_time": "2024-07-12T21:36:24.394Z"
   },
   {
    "duration": 10,
    "start_time": "2024-07-12T22:08:40.431Z"
   },
   {
    "duration": 10,
    "start_time": "2024-07-12T22:08:52.505Z"
   },
   {
    "duration": 3,
    "start_time": "2024-07-12T22:08:55.820Z"
   },
   {
    "duration": 1488,
    "start_time": "2024-07-12T22:08:55.827Z"
   },
   {
    "duration": 26,
    "start_time": "2024-07-12T22:08:57.318Z"
   },
   {
    "duration": 21,
    "start_time": "2024-07-12T22:08:57.347Z"
   },
   {
    "duration": 17,
    "start_time": "2024-07-12T22:08:57.371Z"
   },
   {
    "duration": 15,
    "start_time": "2024-07-12T22:08:57.425Z"
   },
   {
    "duration": 43,
    "start_time": "2024-07-12T22:08:57.443Z"
   },
   {
    "duration": 320,
    "start_time": "2024-07-12T22:08:57.489Z"
   },
   {
    "duration": 21,
    "start_time": "2024-07-12T22:08:57.815Z"
   },
   {
    "duration": 165,
    "start_time": "2024-07-12T22:08:57.839Z"
   },
   {
    "duration": 164,
    "start_time": "2024-07-12T22:08:58.007Z"
   },
   {
    "duration": 92,
    "start_time": "2024-07-12T22:08:58.174Z"
   },
   {
    "duration": 22,
    "start_time": "2024-07-12T22:08:58.269Z"
   },
   {
    "duration": 32,
    "start_time": "2024-07-12T22:08:58.294Z"
   },
   {
    "duration": 61,
    "start_time": "2024-07-12T22:08:58.329Z"
   },
   {
    "duration": 85,
    "start_time": "2024-07-12T22:08:58.393Z"
   },
   {
    "duration": 6,
    "start_time": "2024-07-12T22:08:58.480Z"
   },
   {
    "duration": 5,
    "start_time": "2024-07-12T22:08:58.490Z"
   },
   {
    "duration": 7,
    "start_time": "2024-07-12T22:08:58.527Z"
   },
   {
    "duration": 6,
    "start_time": "2024-07-12T22:08:58.537Z"
   },
   {
    "duration": 1449,
    "start_time": "2024-07-12T22:08:58.546Z"
   },
   {
    "duration": 1237,
    "start_time": "2024-07-12T22:09:00.001Z"
   },
   {
    "duration": 18,
    "start_time": "2024-07-12T22:09:01.241Z"
   },
   {
    "duration": 22,
    "start_time": "2024-07-12T22:09:01.268Z"
   },
   {
    "duration": 22,
    "start_time": "2024-07-12T22:09:01.325Z"
   },
   {
    "duration": 12,
    "start_time": "2024-07-12T22:09:01.350Z"
   },
   {
    "duration": 11,
    "start_time": "2024-07-12T22:09:01.365Z"
   },
   {
    "duration": 56,
    "start_time": "2024-07-12T22:09:01.381Z"
   },
   {
    "duration": 14,
    "start_time": "2024-07-12T22:09:01.446Z"
   },
   {
    "duration": 58,
    "start_time": "2024-07-12T22:09:01.469Z"
   },
   {
    "duration": 296,
    "start_time": "2024-07-12T22:09:01.530Z"
   },
   {
    "duration": 12,
    "start_time": "2024-07-12T22:09:01.830Z"
   },
   {
    "duration": 13,
    "start_time": "2024-07-12T22:09:01.846Z"
   },
   {
    "duration": 5,
    "start_time": "2024-07-12T22:09:01.864Z"
   },
   {
    "duration": 12,
    "start_time": "2024-07-12T22:09:18.866Z"
   },
   {
    "duration": 17,
    "start_time": "2024-07-12T22:09:45.208Z"
   },
   {
    "duration": 13,
    "start_time": "2024-07-12T22:10:47.012Z"
   },
   {
    "duration": 14,
    "start_time": "2024-07-12T22:23:31.352Z"
   },
   {
    "duration": 13,
    "start_time": "2024-07-12T22:24:07.976Z"
   },
   {
    "duration": 12,
    "start_time": "2024-07-12T22:27:24.672Z"
   },
   {
    "duration": 12,
    "start_time": "2024-07-12T22:33:11.546Z"
   },
   {
    "duration": 12,
    "start_time": "2024-07-12T22:37:18.531Z"
   },
   {
    "duration": 19,
    "start_time": "2024-07-12T22:48:20.626Z"
   },
   {
    "duration": 26,
    "start_time": "2024-07-12T22:50:01.489Z"
   },
   {
    "duration": 339,
    "start_time": "2024-07-12T22:55:53.768Z"
   },
   {
    "duration": 39,
    "start_time": "2024-07-12T22:59:38.860Z"
   },
   {
    "duration": 39,
    "start_time": "2024-07-12T23:01:30.412Z"
   },
   {
    "duration": 31,
    "start_time": "2024-07-12T23:01:51.902Z"
   },
   {
    "duration": 46,
    "start_time": "2024-07-12T23:11:55.412Z"
   },
   {
    "duration": 17,
    "start_time": "2024-07-12T23:12:54.138Z"
   },
   {
    "duration": 16,
    "start_time": "2024-07-12T23:13:09.796Z"
   },
   {
    "duration": 4,
    "start_time": "2024-07-12T23:13:14.502Z"
   },
   {
    "duration": 1439,
    "start_time": "2024-07-12T23:13:14.515Z"
   },
   {
    "duration": 22,
    "start_time": "2024-07-12T23:13:15.957Z"
   },
   {
    "duration": 21,
    "start_time": "2024-07-12T23:13:15.981Z"
   },
   {
    "duration": 18,
    "start_time": "2024-07-12T23:13:16.027Z"
   },
   {
    "duration": 15,
    "start_time": "2024-07-12T23:13:16.050Z"
   },
   {
    "duration": 72,
    "start_time": "2024-07-12T23:13:16.068Z"
   },
   {
    "duration": 320,
    "start_time": "2024-07-12T23:13:16.144Z"
   },
   {
    "duration": 13,
    "start_time": "2024-07-12T23:13:16.470Z"
   },
   {
    "duration": 195,
    "start_time": "2024-07-12T23:13:16.486Z"
   },
   {
    "duration": 138,
    "start_time": "2024-07-12T23:13:16.684Z"
   },
   {
    "duration": 69,
    "start_time": "2024-07-12T23:13:16.825Z"
   },
   {
    "duration": 37,
    "start_time": "2024-07-12T23:13:16.897Z"
   },
   {
    "duration": 7,
    "start_time": "2024-07-12T23:13:16.937Z"
   },
   {
    "duration": 87,
    "start_time": "2024-07-12T23:13:16.950Z"
   },
   {
    "duration": 61,
    "start_time": "2024-07-12T23:13:17.040Z"
   },
   {
    "duration": 5,
    "start_time": "2024-07-12T23:13:17.125Z"
   },
   {
    "duration": 5,
    "start_time": "2024-07-12T23:13:17.134Z"
   },
   {
    "duration": 6,
    "start_time": "2024-07-12T23:13:17.143Z"
   },
   {
    "duration": 6,
    "start_time": "2024-07-12T23:13:17.152Z"
   },
   {
    "duration": 1333,
    "start_time": "2024-07-12T23:13:17.161Z"
   },
   {
    "duration": 1099,
    "start_time": "2024-07-12T23:13:18.497Z"
   },
   {
    "duration": 27,
    "start_time": "2024-07-12T23:13:19.600Z"
   },
   {
    "duration": 20,
    "start_time": "2024-07-12T23:13:19.630Z"
   },
   {
    "duration": 19,
    "start_time": "2024-07-12T23:13:19.653Z"
   },
   {
    "duration": 12,
    "start_time": "2024-07-12T23:13:19.675Z"
   },
   {
    "duration": 44,
    "start_time": "2024-07-12T23:13:19.690Z"
   },
   {
    "duration": 15,
    "start_time": "2024-07-12T23:13:19.737Z"
   },
   {
    "duration": 7,
    "start_time": "2024-07-12T23:13:19.755Z"
   },
   {
    "duration": 81,
    "start_time": "2024-07-12T23:13:19.765Z"
   },
   {
    "duration": 309,
    "start_time": "2024-07-12T23:13:19.850Z"
   },
   {
    "duration": 11,
    "start_time": "2024-07-12T23:13:20.163Z"
   },
   {
    "duration": 12,
    "start_time": "2024-07-12T23:13:20.177Z"
   },
   {
    "duration": 54,
    "start_time": "2024-07-12T23:13:20.192Z"
   },
   {
    "duration": 45,
    "start_time": "2024-07-12T23:15:02.179Z"
   },
   {
    "duration": 434,
    "start_time": "2024-07-14T14:35:49.276Z"
   },
   {
    "duration": 1683,
    "start_time": "2024-07-14T14:35:49.713Z"
   },
   {
    "duration": 32,
    "start_time": "2024-07-14T14:35:51.398Z"
   },
   {
    "duration": 20,
    "start_time": "2024-07-14T14:35:51.434Z"
   },
   {
    "duration": 54,
    "start_time": "2024-07-14T14:35:51.458Z"
   },
   {
    "duration": 18,
    "start_time": "2024-07-14T14:35:51.515Z"
   },
   {
    "duration": 73,
    "start_time": "2024-07-14T14:35:51.535Z"
   },
   {
    "duration": 322,
    "start_time": "2024-07-14T14:35:51.612Z"
   },
   {
    "duration": 14,
    "start_time": "2024-07-14T14:35:51.937Z"
   },
   {
    "duration": 188,
    "start_time": "2024-07-14T14:35:51.956Z"
   },
   {
    "duration": 167,
    "start_time": "2024-07-14T14:35:52.146Z"
   },
   {
    "duration": 95,
    "start_time": "2024-07-14T14:35:52.316Z"
   },
   {
    "duration": 21,
    "start_time": "2024-07-14T14:35:52.417Z"
   },
   {
    "duration": 7,
    "start_time": "2024-07-14T14:35:52.441Z"
   },
   {
    "duration": 92,
    "start_time": "2024-07-14T14:35:52.451Z"
   },
   {
    "duration": 85,
    "start_time": "2024-07-14T14:35:52.546Z"
   },
   {
    "duration": 5,
    "start_time": "2024-07-14T14:35:52.634Z"
   },
   {
    "duration": 5,
    "start_time": "2024-07-14T14:35:52.643Z"
   },
   {
    "duration": 6,
    "start_time": "2024-07-14T14:35:52.652Z"
   },
   {
    "duration": 5,
    "start_time": "2024-07-14T14:35:52.662Z"
   },
   {
    "duration": 1309,
    "start_time": "2024-07-14T14:35:52.709Z"
   },
   {
    "duration": 1168,
    "start_time": "2024-07-14T14:35:54.021Z"
   },
   {
    "duration": 23,
    "start_time": "2024-07-14T14:35:55.192Z"
   },
   {
    "duration": 24,
    "start_time": "2024-07-14T14:35:55.223Z"
   },
   {
    "duration": 20,
    "start_time": "2024-07-14T14:35:55.250Z"
   },
   {
    "duration": 42,
    "start_time": "2024-07-14T14:35:55.273Z"
   },
   {
    "duration": 12,
    "start_time": "2024-07-14T14:35:55.319Z"
   },
   {
    "duration": 14,
    "start_time": "2024-07-14T14:35:55.338Z"
   },
   {
    "duration": 7,
    "start_time": "2024-07-14T14:35:55.355Z"
   },
   {
    "duration": 75,
    "start_time": "2024-07-14T14:35:55.365Z"
   },
   {
    "duration": 303,
    "start_time": "2024-07-14T14:35:55.443Z"
   },
   {
    "duration": 11,
    "start_time": "2024-07-14T14:35:55.749Z"
   },
   {
    "duration": 11,
    "start_time": "2024-07-14T14:35:55.764Z"
   },
   {
    "duration": 79,
    "start_time": "2024-07-14T14:35:55.778Z"
   },
   {
    "duration": 13,
    "start_time": "2024-07-14T15:41:20.747Z"
   },
   {
    "duration": 3,
    "start_time": "2024-07-14T15:44:33.973Z"
   },
   {
    "duration": 1511,
    "start_time": "2024-07-14T15:44:33.984Z"
   },
   {
    "duration": 30,
    "start_time": "2024-07-14T15:44:35.499Z"
   },
   {
    "duration": 21,
    "start_time": "2024-07-14T15:44:35.532Z"
   },
   {
    "duration": 17,
    "start_time": "2024-07-14T15:44:35.555Z"
   },
   {
    "duration": 16,
    "start_time": "2024-07-14T15:44:35.608Z"
   },
   {
    "duration": 43,
    "start_time": "2024-07-14T15:44:35.627Z"
   },
   {
    "duration": 328,
    "start_time": "2024-07-14T15:44:35.673Z"
   },
   {
    "duration": 13,
    "start_time": "2024-07-14T15:44:36.007Z"
   },
   {
    "duration": 168,
    "start_time": "2024-07-14T15:44:36.023Z"
   },
   {
    "duration": 157,
    "start_time": "2024-07-14T15:44:36.193Z"
   },
   {
    "duration": 82,
    "start_time": "2024-07-14T15:44:36.352Z"
   },
   {
    "duration": 22,
    "start_time": "2024-07-14T15:44:36.437Z"
   },
   {
    "duration": 8,
    "start_time": "2024-07-14T15:44:36.462Z"
   },
   {
    "duration": 83,
    "start_time": "2024-07-14T15:44:36.476Z"
   },
   {
    "duration": 83,
    "start_time": "2024-07-14T15:44:36.562Z"
   },
   {
    "duration": 6,
    "start_time": "2024-07-14T15:44:36.648Z"
   },
   {
    "duration": 6,
    "start_time": "2024-07-14T15:44:36.657Z"
   },
   {
    "duration": 6,
    "start_time": "2024-07-14T15:44:36.665Z"
   },
   {
    "duration": 6,
    "start_time": "2024-07-14T15:44:36.709Z"
   },
   {
    "duration": 1322,
    "start_time": "2024-07-14T15:44:36.718Z"
   },
   {
    "duration": 1162,
    "start_time": "2024-07-14T15:44:38.043Z"
   },
   {
    "duration": 19,
    "start_time": "2024-07-14T15:44:39.210Z"
   },
   {
    "duration": 24,
    "start_time": "2024-07-14T15:44:39.235Z"
   },
   {
    "duration": 57,
    "start_time": "2024-07-14T15:44:39.262Z"
   },
   {
    "duration": 21,
    "start_time": "2024-07-14T15:44:39.322Z"
   },
   {
    "duration": 10,
    "start_time": "2024-07-14T15:44:39.346Z"
   },
   {
    "duration": 51,
    "start_time": "2024-07-14T15:44:39.359Z"
   },
   {
    "duration": 8,
    "start_time": "2024-07-14T15:44:39.413Z"
   },
   {
    "duration": 31,
    "start_time": "2024-07-14T15:44:39.424Z"
   },
   {
    "duration": 327,
    "start_time": "2024-07-14T15:44:39.458Z"
   },
   {
    "duration": 20,
    "start_time": "2024-07-14T15:44:39.788Z"
   },
   {
    "duration": 12,
    "start_time": "2024-07-14T15:44:39.811Z"
   },
   {
    "duration": 45,
    "start_time": "2024-07-14T15:44:39.826Z"
   },
   {
    "duration": 14,
    "start_time": "2024-07-14T15:45:56.106Z"
   },
   {
    "duration": 9,
    "start_time": "2024-07-14T15:46:58.462Z"
   },
   {
    "duration": 468,
    "start_time": "2024-07-14T16:41:11.411Z"
   },
   {
    "duration": 1716,
    "start_time": "2024-07-14T16:41:11.882Z"
   },
   {
    "duration": 30,
    "start_time": "2024-07-14T16:41:13.601Z"
   },
   {
    "duration": 20,
    "start_time": "2024-07-14T16:41:13.634Z"
   },
   {
    "duration": 16,
    "start_time": "2024-07-14T16:41:13.659Z"
   },
   {
    "duration": 18,
    "start_time": "2024-07-14T16:41:13.710Z"
   },
   {
    "duration": 43,
    "start_time": "2024-07-14T16:41:13.731Z"
   },
   {
    "duration": 369,
    "start_time": "2024-07-14T16:41:13.777Z"
   },
   {
    "duration": 15,
    "start_time": "2024-07-14T16:41:14.149Z"
   },
   {
    "duration": 192,
    "start_time": "2024-07-14T16:41:14.167Z"
   },
   {
    "duration": 168,
    "start_time": "2024-07-14T16:41:14.362Z"
   },
   {
    "duration": 108,
    "start_time": "2024-07-14T16:41:14.533Z"
   },
   {
    "duration": 21,
    "start_time": "2024-07-14T16:41:14.644Z"
   },
   {
    "duration": 6,
    "start_time": "2024-07-14T16:41:14.672Z"
   },
   {
    "duration": 90,
    "start_time": "2024-07-14T16:41:14.682Z"
   },
   {
    "duration": 84,
    "start_time": "2024-07-14T16:41:14.775Z"
   },
   {
    "duration": 5,
    "start_time": "2024-07-14T16:41:14.862Z"
   },
   {
    "duration": 6,
    "start_time": "2024-07-14T16:41:14.871Z"
   },
   {
    "duration": 6,
    "start_time": "2024-07-14T16:41:14.908Z"
   },
   {
    "duration": 9,
    "start_time": "2024-07-14T16:41:14.917Z"
   },
   {
    "duration": 1334,
    "start_time": "2024-07-14T16:41:14.932Z"
   },
   {
    "duration": 1151,
    "start_time": "2024-07-14T16:41:16.269Z"
   },
   {
    "duration": 19,
    "start_time": "2024-07-14T16:41:17.424Z"
   },
   {
    "duration": 29,
    "start_time": "2024-07-14T16:41:17.446Z"
   },
   {
    "duration": 45,
    "start_time": "2024-07-14T16:41:17.478Z"
   },
   {
    "duration": 10,
    "start_time": "2024-07-14T16:41:17.527Z"
   },
   {
    "duration": 10,
    "start_time": "2024-07-14T16:41:17.540Z"
   },
   {
    "duration": 58,
    "start_time": "2024-07-14T16:41:17.553Z"
   },
   {
    "duration": 8,
    "start_time": "2024-07-14T16:41:17.615Z"
   },
   {
    "duration": 31,
    "start_time": "2024-07-14T16:41:17.626Z"
   },
   {
    "duration": 311,
    "start_time": "2024-07-14T16:41:17.660Z"
   },
   {
    "duration": 12,
    "start_time": "2024-07-14T16:41:17.974Z"
   },
   {
    "duration": 11,
    "start_time": "2024-07-14T16:41:18.008Z"
   },
   {
    "duration": 44,
    "start_time": "2024-07-14T16:41:18.022Z"
   },
   {
    "duration": 4,
    "start_time": "2024-07-14T17:25:55.036Z"
   },
   {
    "duration": 1809,
    "start_time": "2024-07-14T17:25:55.045Z"
   },
   {
    "duration": 21,
    "start_time": "2024-07-14T17:25:56.857Z"
   },
   {
    "duration": 34,
    "start_time": "2024-07-14T17:25:56.884Z"
   },
   {
    "duration": 18,
    "start_time": "2024-07-14T17:25:56.923Z"
   },
   {
    "duration": 16,
    "start_time": "2024-07-14T17:25:56.944Z"
   },
   {
    "duration": 80,
    "start_time": "2024-07-14T17:25:56.963Z"
   },
   {
    "duration": 363,
    "start_time": "2024-07-14T17:25:57.046Z"
   },
   {
    "duration": 15,
    "start_time": "2024-07-14T17:25:57.412Z"
   },
   {
    "duration": 194,
    "start_time": "2024-07-14T17:25:57.432Z"
   },
   {
    "duration": 197,
    "start_time": "2024-07-14T17:25:57.634Z"
   },
   {
    "duration": 100,
    "start_time": "2024-07-14T17:25:57.834Z"
   },
   {
    "duration": 25,
    "start_time": "2024-07-14T17:25:57.937Z"
   },
   {
    "duration": 8,
    "start_time": "2024-07-14T17:25:57.966Z"
   },
   {
    "duration": 90,
    "start_time": "2024-07-14T17:25:57.977Z"
   },
   {
    "duration": 94,
    "start_time": "2024-07-14T17:25:58.070Z"
   },
   {
    "duration": 8,
    "start_time": "2024-07-14T17:25:58.167Z"
   },
   {
    "duration": 7,
    "start_time": "2024-07-14T17:25:58.178Z"
   },
   {
    "duration": 6,
    "start_time": "2024-07-14T17:25:58.210Z"
   },
   {
    "duration": 7,
    "start_time": "2024-07-14T17:25:58.219Z"
   },
   {
    "duration": 1389,
    "start_time": "2024-07-14T17:25:58.229Z"
   },
   {
    "duration": 1174,
    "start_time": "2024-07-14T17:25:59.622Z"
   },
   {
    "duration": 24,
    "start_time": "2024-07-14T17:26:00.799Z"
   },
   {
    "duration": 24,
    "start_time": "2024-07-14T17:26:00.829Z"
   },
   {
    "duration": 55,
    "start_time": "2024-07-14T17:26:00.856Z"
   },
   {
    "duration": 10,
    "start_time": "2024-07-14T17:26:00.914Z"
   },
   {
    "duration": 12,
    "start_time": "2024-07-14T17:26:00.927Z"
   },
   {
    "duration": 15,
    "start_time": "2024-07-14T17:26:00.942Z"
   },
   {
    "duration": 46,
    "start_time": "2024-07-14T17:26:00.963Z"
   },
   {
    "duration": 30,
    "start_time": "2024-07-14T17:26:01.012Z"
   },
   {
    "duration": 305,
    "start_time": "2024-07-14T17:26:01.045Z"
   },
   {
    "duration": 11,
    "start_time": "2024-07-14T17:26:01.352Z"
   },
   {
    "duration": 43,
    "start_time": "2024-07-14T17:26:01.366Z"
   },
   {
    "duration": 45,
    "start_time": "2024-07-14T17:26:01.412Z"
   },
   {
    "duration": 485,
    "start_time": "2024-07-15T21:46:22.491Z"
   },
   {
    "duration": 1671,
    "start_time": "2024-07-15T21:46:22.979Z"
   },
   {
    "duration": 32,
    "start_time": "2024-07-15T21:46:24.655Z"
   },
   {
    "duration": 32,
    "start_time": "2024-07-15T21:46:24.690Z"
   },
   {
    "duration": 22,
    "start_time": "2024-07-15T21:46:24.726Z"
   },
   {
    "duration": 35,
    "start_time": "2024-07-15T21:46:24.753Z"
   },
   {
    "duration": 58,
    "start_time": "2024-07-15T21:46:24.791Z"
   },
   {
    "duration": 325,
    "start_time": "2024-07-15T21:46:24.852Z"
   },
   {
    "duration": 27,
    "start_time": "2024-07-15T21:46:25.179Z"
   },
   {
    "duration": 178,
    "start_time": "2024-07-15T21:46:25.209Z"
   },
   {
    "duration": 167,
    "start_time": "2024-07-15T21:46:25.390Z"
   },
   {
    "duration": 96,
    "start_time": "2024-07-15T21:46:25.560Z"
   },
   {
    "duration": 20,
    "start_time": "2024-07-15T21:46:25.659Z"
   },
   {
    "duration": 24,
    "start_time": "2024-07-15T21:46:25.685Z"
   },
   {
    "duration": 58,
    "start_time": "2024-07-15T21:46:25.712Z"
   },
   {
    "duration": 92,
    "start_time": "2024-07-15T21:46:25.773Z"
   },
   {
    "duration": 6,
    "start_time": "2024-07-15T21:46:25.869Z"
   },
   {
    "duration": 7,
    "start_time": "2024-07-15T21:46:25.908Z"
   },
   {
    "duration": 6,
    "start_time": "2024-07-15T21:46:25.918Z"
   },
   {
    "duration": 8,
    "start_time": "2024-07-15T21:46:25.927Z"
   },
   {
    "duration": 1359,
    "start_time": "2024-07-15T21:46:25.938Z"
   },
   {
    "duration": 1166,
    "start_time": "2024-07-15T21:46:27.305Z"
   },
   {
    "duration": 17,
    "start_time": "2024-07-15T21:46:28.475Z"
   },
   {
    "duration": 27,
    "start_time": "2024-07-15T21:46:28.506Z"
   },
   {
    "duration": 20,
    "start_time": "2024-07-15T21:46:28.536Z"
   },
   {
    "duration": 47,
    "start_time": "2024-07-15T21:46:28.559Z"
   },
   {
    "duration": 12,
    "start_time": "2024-07-15T21:46:28.610Z"
   },
   {
    "duration": 15,
    "start_time": "2024-07-15T21:46:28.625Z"
   },
   {
    "duration": 7,
    "start_time": "2024-07-15T21:46:28.643Z"
   },
   {
    "duration": 72,
    "start_time": "2024-07-15T21:46:28.654Z"
   },
   {
    "duration": 303,
    "start_time": "2024-07-15T21:46:28.729Z"
   },
   {
    "duration": 11,
    "start_time": "2024-07-15T21:46:29.035Z"
   },
   {
    "duration": 12,
    "start_time": "2024-07-15T21:46:29.049Z"
   },
   {
    "duration": 82,
    "start_time": "2024-07-15T21:46:29.066Z"
   },
   {
    "duration": 4225,
    "start_time": "2024-07-15T22:51:09.140Z"
   },
   {
    "duration": 541,
    "start_time": "2024-07-15T22:51:35.018Z"
   },
   {
    "duration": 325,
    "start_time": "2024-07-15T23:05:06.561Z"
   },
   {
    "duration": 236,
    "start_time": "2024-07-15T23:05:18.519Z"
   },
   {
    "duration": 9,
    "start_time": "2024-07-15T23:35:53.173Z"
   },
   {
    "duration": 10,
    "start_time": "2024-07-15T23:36:14.884Z"
   },
   {
    "duration": 8,
    "start_time": "2024-07-15T23:36:27.792Z"
   },
   {
    "duration": 510,
    "start_time": "2024-07-16T00:19:47.191Z"
   },
   {
    "duration": 1677,
    "start_time": "2024-07-16T00:19:47.706Z"
   },
   {
    "duration": 38,
    "start_time": "2024-07-16T00:19:49.386Z"
   },
   {
    "duration": 21,
    "start_time": "2024-07-16T00:19:49.427Z"
   },
   {
    "duration": 17,
    "start_time": "2024-07-16T00:19:49.453Z"
   },
   {
    "duration": 47,
    "start_time": "2024-07-16T00:19:49.473Z"
   },
   {
    "duration": 44,
    "start_time": "2024-07-16T00:19:49.524Z"
   },
   {
    "duration": 383,
    "start_time": "2024-07-16T00:19:49.572Z"
   },
   {
    "duration": 13,
    "start_time": "2024-07-16T00:19:49.959Z"
   },
   {
    "duration": 216,
    "start_time": "2024-07-16T00:19:49.976Z"
   },
   {
    "duration": 171,
    "start_time": "2024-07-16T00:19:50.195Z"
   },
   {
    "duration": 101,
    "start_time": "2024-07-16T00:19:50.369Z"
   },
   {
    "duration": 35,
    "start_time": "2024-07-16T00:19:50.474Z"
   },
   {
    "duration": 7,
    "start_time": "2024-07-16T00:19:50.515Z"
   },
   {
    "duration": 85,
    "start_time": "2024-07-16T00:19:50.524Z"
   },
   {
    "duration": 64,
    "start_time": "2024-07-16T00:19:50.611Z"
   },
   {
    "duration": 5,
    "start_time": "2024-07-16T00:19:50.678Z"
   },
   {
    "duration": 5,
    "start_time": "2024-07-16T00:19:50.710Z"
   },
   {
    "duration": 7,
    "start_time": "2024-07-16T00:19:50.718Z"
   },
   {
    "duration": 6,
    "start_time": "2024-07-16T00:19:50.728Z"
   },
   {
    "duration": 1407,
    "start_time": "2024-07-16T00:19:50.737Z"
   },
   {
    "duration": 1201,
    "start_time": "2024-07-16T00:19:52.146Z"
   },
   {
    "duration": 17,
    "start_time": "2024-07-16T00:19:53.350Z"
   },
   {
    "duration": 49,
    "start_time": "2024-07-16T00:19:53.370Z"
   },
   {
    "duration": 19,
    "start_time": "2024-07-16T00:19:53.422Z"
   },
   {
    "duration": 11,
    "start_time": "2024-07-16T00:19:53.444Z"
   },
   {
    "duration": 11,
    "start_time": "2024-07-16T00:19:53.458Z"
   },
   {
    "duration": 3,
    "start_time": "2024-07-16T00:19:53.510Z"
   },
   {
    "duration": 17,
    "start_time": "2024-07-16T00:19:53.517Z"
   },
   {
    "duration": 7,
    "start_time": "2024-07-16T00:19:53.538Z"
   },
   {
    "duration": 9,
    "start_time": "2024-07-16T00:19:53.548Z"
   },
   {
    "duration": 76,
    "start_time": "2024-07-16T00:19:53.560Z"
   },
   {
    "duration": 304,
    "start_time": "2024-07-16T00:19:53.638Z"
   },
   {
    "duration": 13,
    "start_time": "2024-07-16T00:19:53.945Z"
   },
   {
    "duration": 12,
    "start_time": "2024-07-16T00:19:53.960Z"
   },
   {
    "duration": 73,
    "start_time": "2024-07-16T00:19:53.976Z"
   },
   {
    "duration": 4701,
    "start_time": "2024-07-16T00:19:54.053Z"
   },
   {
    "duration": 282,
    "start_time": "2024-07-16T00:19:58.757Z"
   },
   {
    "duration": 13,
    "start_time": "2024-07-16T00:30:20.848Z"
   },
   {
    "duration": 301,
    "start_time": "2024-07-16T01:08:20.501Z"
   },
   {
    "duration": 295,
    "start_time": "2024-07-16T01:12:43.191Z"
   },
   {
    "duration": 14,
    "start_time": "2024-07-16T03:34:32.442Z"
   },
   {
    "duration": 12,
    "start_time": "2024-07-16T03:34:54.719Z"
   },
   {
    "duration": 11,
    "start_time": "2024-07-16T03:37:45.963Z"
   },
   {
    "duration": 379,
    "start_time": "2024-07-16T03:38:03.397Z"
   },
   {
    "duration": 13,
    "start_time": "2024-07-16T03:38:24.763Z"
   },
   {
    "duration": 221,
    "start_time": "2024-07-16T03:41:57.808Z"
   },
   {
    "duration": 4,
    "start_time": "2024-07-16T03:45:08.058Z"
   },
   {
    "duration": 1643,
    "start_time": "2024-07-16T03:45:08.070Z"
   },
   {
    "duration": 26,
    "start_time": "2024-07-16T03:45:09.716Z"
   },
   {
    "duration": 21,
    "start_time": "2024-07-16T03:45:09.748Z"
   },
   {
    "duration": 41,
    "start_time": "2024-07-16T03:45:09.774Z"
   },
   {
    "duration": 16,
    "start_time": "2024-07-16T03:45:09.819Z"
   },
   {
    "duration": 76,
    "start_time": "2024-07-16T03:45:09.839Z"
   },
   {
    "duration": 319,
    "start_time": "2024-07-16T03:45:09.918Z"
   },
   {
    "duration": 11,
    "start_time": "2024-07-16T03:45:10.241Z"
   },
   {
    "duration": 188,
    "start_time": "2024-07-16T03:45:10.256Z"
   },
   {
    "duration": 172,
    "start_time": "2024-07-16T03:45:10.446Z"
   },
   {
    "duration": 118,
    "start_time": "2024-07-16T03:45:10.621Z"
   },
   {
    "duration": 23,
    "start_time": "2024-07-16T03:45:10.745Z"
   },
   {
    "duration": 39,
    "start_time": "2024-07-16T03:45:10.771Z"
   },
   {
    "duration": 61,
    "start_time": "2024-07-16T03:45:10.813Z"
   },
   {
    "duration": 94,
    "start_time": "2024-07-16T03:45:10.877Z"
   },
   {
    "duration": 7,
    "start_time": "2024-07-16T03:45:10.973Z"
   },
   {
    "duration": 26,
    "start_time": "2024-07-16T03:45:10.984Z"
   },
   {
    "duration": 6,
    "start_time": "2024-07-16T03:45:11.013Z"
   },
   {
    "duration": 7,
    "start_time": "2024-07-16T03:45:11.023Z"
   },
   {
    "duration": 1403,
    "start_time": "2024-07-16T03:45:11.033Z"
   },
   {
    "duration": 1198,
    "start_time": "2024-07-16T03:45:12.439Z"
   },
   {
    "duration": 16,
    "start_time": "2024-07-16T03:45:13.639Z"
   },
   {
    "duration": 19,
    "start_time": "2024-07-16T03:45:13.661Z"
   },
   {
    "duration": 21,
    "start_time": "2024-07-16T03:45:13.710Z"
   },
   {
    "duration": 10,
    "start_time": "2024-07-16T03:45:13.734Z"
   },
   {
    "duration": 10,
    "start_time": "2024-07-16T03:45:13.748Z"
   },
   {
    "duration": 49,
    "start_time": "2024-07-16T03:45:13.762Z"
   },
   {
    "duration": 15,
    "start_time": "2024-07-16T03:45:13.814Z"
   },
   {
    "duration": 8,
    "start_time": "2024-07-16T03:45:13.832Z"
   },
   {
    "duration": 9,
    "start_time": "2024-07-16T03:45:13.843Z"
   },
   {
    "duration": 95,
    "start_time": "2024-07-16T03:45:13.854Z"
   },
   {
    "duration": 307,
    "start_time": "2024-07-16T03:45:13.952Z"
   },
   {
    "duration": 11,
    "start_time": "2024-07-16T03:45:14.262Z"
   },
   {
    "duration": 37,
    "start_time": "2024-07-16T03:45:14.276Z"
   },
   {
    "duration": 49,
    "start_time": "2024-07-16T03:45:14.316Z"
   },
   {
    "duration": 40,
    "start_time": "2024-07-16T03:45:14.374Z"
   },
   {
    "duration": 13,
    "start_time": "2024-07-16T03:45:14.417Z"
   },
   {
    "duration": 416,
    "start_time": "2024-07-16T03:45:14.433Z"
   },
   {
    "duration": 231,
    "start_time": "2024-07-16T03:45:14.852Z"
   },
   {
    "duration": 382,
    "start_time": "2024-07-16T03:45:15.087Z"
   },
   {
    "duration": 6,
    "start_time": "2024-07-16T03:45:15.472Z"
   },
   {
    "duration": 40,
    "start_time": "2024-07-16T03:45:15.481Z"
   },
   {
    "duration": 11,
    "start_time": "2024-07-16T03:45:15.524Z"
   },
   {
    "duration": 297,
    "start_time": "2024-07-16T03:52:23.032Z"
   },
   {
    "duration": 376,
    "start_time": "2024-07-16T03:54:13.542Z"
   },
   {
    "duration": 306,
    "start_time": "2024-07-16T04:19:03.813Z"
   },
   {
    "duration": 24,
    "start_time": "2024-07-16T04:32:53.231Z"
   },
   {
    "duration": 6,
    "start_time": "2024-07-16T04:33:43.605Z"
   },
   {
    "duration": 19,
    "start_time": "2024-07-16T04:43:30.850Z"
   },
   {
    "duration": 21,
    "start_time": "2024-07-16T04:44:08.713Z"
   },
   {
    "duration": 16,
    "start_time": "2024-07-16T04:44:30.966Z"
   },
   {
    "duration": 18,
    "start_time": "2024-07-16T04:45:16.479Z"
   },
   {
    "duration": 9,
    "start_time": "2024-07-16T04:50:21.282Z"
   },
   {
    "duration": 411,
    "start_time": "2024-07-16T04:55:35.242Z"
   },
   {
    "duration": 484,
    "start_time": "2024-07-16T22:48:04.680Z"
   },
   {
    "duration": 1716,
    "start_time": "2024-07-16T22:48:05.168Z"
   },
   {
    "duration": 26,
    "start_time": "2024-07-16T22:48:06.887Z"
   },
   {
    "duration": 24,
    "start_time": "2024-07-16T22:48:06.919Z"
   },
   {
    "duration": 52,
    "start_time": "2024-07-16T22:48:06.946Z"
   },
   {
    "duration": 16,
    "start_time": "2024-07-16T22:48:07.001Z"
   },
   {
    "duration": 74,
    "start_time": "2024-07-16T22:48:07.021Z"
   },
   {
    "duration": 345,
    "start_time": "2024-07-16T22:48:07.098Z"
   },
   {
    "duration": 14,
    "start_time": "2024-07-16T22:48:07.447Z"
   },
   {
    "duration": 191,
    "start_time": "2024-07-16T22:48:07.491Z"
   },
   {
    "duration": 178,
    "start_time": "2024-07-16T22:48:07.685Z"
   },
   {
    "duration": 107,
    "start_time": "2024-07-16T22:48:07.866Z"
   },
   {
    "duration": 37,
    "start_time": "2024-07-16T22:48:07.976Z"
   },
   {
    "duration": 7,
    "start_time": "2024-07-16T22:48:08.019Z"
   },
   {
    "duration": 90,
    "start_time": "2024-07-16T22:48:08.030Z"
   },
   {
    "duration": 82,
    "start_time": "2024-07-16T22:48:08.124Z"
   },
   {
    "duration": 6,
    "start_time": "2024-07-16T22:48:08.209Z"
   },
   {
    "duration": 6,
    "start_time": "2024-07-16T22:48:08.218Z"
   },
   {
    "duration": 6,
    "start_time": "2024-07-16T22:48:08.228Z"
   },
   {
    "duration": 7,
    "start_time": "2024-07-16T22:48:08.238Z"
   },
   {
    "duration": 1381,
    "start_time": "2024-07-16T22:48:08.293Z"
   },
   {
    "duration": 1208,
    "start_time": "2024-07-16T22:48:09.678Z"
   },
   {
    "duration": 17,
    "start_time": "2024-07-16T22:48:10.891Z"
   },
   {
    "duration": 24,
    "start_time": "2024-07-16T22:48:10.913Z"
   },
   {
    "duration": 54,
    "start_time": "2024-07-16T22:48:10.940Z"
   },
   {
    "duration": 9,
    "start_time": "2024-07-16T22:48:10.998Z"
   },
   {
    "duration": 12,
    "start_time": "2024-07-16T22:48:11.010Z"
   },
   {
    "duration": 12,
    "start_time": "2024-07-16T22:48:11.031Z"
   },
   {
    "duration": 16,
    "start_time": "2024-07-16T22:48:11.090Z"
   },
   {
    "duration": 7,
    "start_time": "2024-07-16T22:48:11.110Z"
   },
   {
    "duration": 8,
    "start_time": "2024-07-16T22:48:11.121Z"
   },
   {
    "duration": 82,
    "start_time": "2024-07-16T22:48:11.133Z"
   },
   {
    "duration": 300,
    "start_time": "2024-07-16T22:48:11.218Z"
   },
   {
    "duration": 11,
    "start_time": "2024-07-16T22:48:11.521Z"
   },
   {
    "duration": 12,
    "start_time": "2024-07-16T22:48:11.536Z"
   },
   {
    "duration": 85,
    "start_time": "2024-07-16T22:48:11.551Z"
   },
   {
    "duration": 12,
    "start_time": "2024-07-16T22:48:11.640Z"
   },
   {
    "duration": 37,
    "start_time": "2024-07-16T22:48:11.655Z"
   },
   {
    "duration": 4286,
    "start_time": "2024-07-16T22:48:11.696Z"
   },
   {
    "duration": 229,
    "start_time": "2024-07-16T22:48:15.992Z"
   },
   {
    "duration": 324,
    "start_time": "2024-07-16T22:48:16.224Z"
   },
   {
    "duration": 6,
    "start_time": "2024-07-16T22:48:16.551Z"
   },
   {
    "duration": 41,
    "start_time": "2024-07-16T22:48:16.560Z"
   },
   {
    "duration": 8,
    "start_time": "2024-07-16T22:48:16.605Z"
   },
   {
    "duration": 489,
    "start_time": "2024-07-16T22:48:16.617Z"
   },
   {
    "duration": 414,
    "start_time": "2024-07-16T23:05:58.514Z"
   },
   {
    "duration": 222,
    "start_time": "2024-07-16T23:06:27.780Z"
   },
   {
    "duration": 335,
    "start_time": "2024-07-16T23:06:41.619Z"
   },
   {
    "duration": 33,
    "start_time": "2024-07-16T23:33:25.490Z"
   },
   {
    "duration": 33,
    "start_time": "2024-07-16T23:33:55.124Z"
   },
   {
    "duration": 425,
    "start_time": "2024-07-16T23:40:22.418Z"
   },
   {
    "duration": 363,
    "start_time": "2024-07-16T23:41:26.721Z"
   },
   {
    "duration": 8,
    "start_time": "2024-07-16T23:42:44.034Z"
   },
   {
    "duration": 347,
    "start_time": "2024-07-16T23:42:53.348Z"
   },
   {
    "duration": 8,
    "start_time": "2024-07-16T23:47:47.030Z"
   },
   {
    "duration": 996,
    "start_time": "2024-07-16T23:48:01.062Z"
   },
   {
    "duration": 352,
    "start_time": "2024-07-16T23:50:32.306Z"
   },
   {
    "duration": 334,
    "start_time": "2024-07-16T23:51:21.160Z"
   },
   {
    "duration": 348,
    "start_time": "2024-07-16T23:51:32.634Z"
   },
   {
    "duration": 624,
    "start_time": "2024-07-16T23:52:13.580Z"
   },
   {
    "duration": 331,
    "start_time": "2024-07-16T23:52:39.289Z"
   },
   {
    "duration": 334,
    "start_time": "2024-07-16T23:53:18.711Z"
   },
   {
    "duration": 331,
    "start_time": "2024-07-16T23:53:39.804Z"
   },
   {
    "duration": 353,
    "start_time": "2024-07-16T23:53:52.310Z"
   },
   {
    "duration": 335,
    "start_time": "2024-07-16T23:53:59.882Z"
   },
   {
    "duration": 332,
    "start_time": "2024-07-16T23:54:18.611Z"
   },
   {
    "duration": 161,
    "start_time": "2024-07-17T00:19:28.509Z"
   },
   {
    "duration": 207,
    "start_time": "2024-07-17T00:20:14.386Z"
   },
   {
    "duration": 162,
    "start_time": "2024-07-17T00:20:30.564Z"
   },
   {
    "duration": 161,
    "start_time": "2024-07-17T00:20:47.164Z"
   },
   {
    "duration": 165,
    "start_time": "2024-07-17T00:20:56.373Z"
   },
   {
    "duration": 159,
    "start_time": "2024-07-17T00:21:10.356Z"
   },
   {
    "duration": 160,
    "start_time": "2024-07-17T00:21:27.958Z"
   },
   {
    "duration": 168,
    "start_time": "2024-07-17T00:30:34.322Z"
   },
   {
    "duration": 162,
    "start_time": "2024-07-17T00:31:15.800Z"
   },
   {
    "duration": 20,
    "start_time": "2024-07-17T00:50:06.398Z"
   },
   {
    "duration": 21,
    "start_time": "2024-07-17T00:50:48.591Z"
   },
   {
    "duration": 18,
    "start_time": "2024-07-17T00:51:23.406Z"
   },
   {
    "duration": 366,
    "start_time": "2024-07-17T00:52:10.615Z"
   },
   {
    "duration": 19,
    "start_time": "2024-07-17T00:52:28.973Z"
   },
   {
    "duration": 884,
    "start_time": "2024-07-17T00:54:03.264Z"
   },
   {
    "duration": 19,
    "start_time": "2024-07-17T00:54:33.459Z"
   },
   {
    "duration": 18,
    "start_time": "2024-07-17T00:55:11.764Z"
   },
   {
    "duration": 22,
    "start_time": "2024-07-17T00:55:38.585Z"
   },
   {
    "duration": 14,
    "start_time": "2024-07-17T00:59:04.932Z"
   },
   {
    "duration": 9,
    "start_time": "2024-07-17T01:00:00.574Z"
   },
   {
    "duration": 23,
    "start_time": "2024-07-17T01:26:12.338Z"
   },
   {
    "duration": 559,
    "start_time": "2024-07-17T01:26:34.291Z"
   },
   {
    "duration": 549,
    "start_time": "2024-07-17T01:26:48.329Z"
   },
   {
    "duration": 9,
    "start_time": "2024-07-17T01:30:39.958Z"
   },
   {
    "duration": 533,
    "start_time": "2024-07-17T01:30:45.788Z"
   },
   {
    "duration": 539,
    "start_time": "2024-07-17T02:01:54.298Z"
   },
   {
    "duration": 23,
    "start_time": "2024-07-17T02:10:40.728Z"
   },
   {
    "duration": 37,
    "start_time": "2024-07-17T02:11:34.288Z"
   },
   {
    "duration": 383,
    "start_time": "2024-07-17T02:24:10.223Z"
   },
   {
    "duration": 325,
    "start_time": "2024-07-17T02:25:00.101Z"
   },
   {
    "duration": 421,
    "start_time": "2024-07-17T02:25:34.138Z"
   },
   {
    "duration": 315,
    "start_time": "2024-07-17T02:25:59.332Z"
   },
   {
    "duration": 528,
    "start_time": "2024-07-17T02:46:57.511Z"
   },
   {
    "duration": 322,
    "start_time": "2024-07-17T03:08:44.178Z"
   },
   {
    "duration": 265,
    "start_time": "2024-07-17T03:08:59.556Z"
   },
   {
    "duration": 425,
    "start_time": "2024-07-17T03:09:15.989Z"
   },
   {
    "duration": 321,
    "start_time": "2024-07-17T03:09:39.369Z"
   },
   {
    "duration": 318,
    "start_time": "2024-07-17T03:20:13.167Z"
   },
   {
    "duration": 27,
    "start_time": "2024-07-17T03:52:05.097Z"
   },
   {
    "duration": 173,
    "start_time": "2024-07-17T03:52:36.962Z"
   },
   {
    "duration": 82,
    "start_time": "2024-07-17T03:52:41.412Z"
   },
   {
    "duration": 88,
    "start_time": "2024-07-17T03:53:21.042Z"
   },
   {
    "duration": 95,
    "start_time": "2024-07-17T03:54:29.303Z"
   },
   {
    "duration": 19,
    "start_time": "2024-07-17T03:57:32.615Z"
   },
   {
    "duration": 9,
    "start_time": "2024-07-17T04:00:50.776Z"
   },
   {
    "duration": 14,
    "start_time": "2024-07-17T04:03:10.081Z"
   },
   {
    "duration": 8,
    "start_time": "2024-07-17T04:04:54.903Z"
   },
   {
    "duration": 357,
    "start_time": "2024-07-17T04:38:43.691Z"
   },
   {
    "duration": 33,
    "start_time": "2024-07-17T04:38:46.008Z"
   },
   {
    "duration": 14,
    "start_time": "2024-07-17T04:38:47.276Z"
   },
   {
    "duration": 489,
    "start_time": "2024-07-17T16:02:34.541Z"
   },
   {
    "duration": 1708,
    "start_time": "2024-07-17T16:02:35.034Z"
   },
   {
    "duration": 36,
    "start_time": "2024-07-17T16:02:36.745Z"
   },
   {
    "duration": 39,
    "start_time": "2024-07-17T16:02:36.786Z"
   },
   {
    "duration": 19,
    "start_time": "2024-07-17T16:02:36.830Z"
   },
   {
    "duration": 18,
    "start_time": "2024-07-17T16:02:36.852Z"
   },
   {
    "duration": 94,
    "start_time": "2024-07-17T16:02:36.873Z"
   },
   {
    "duration": 357,
    "start_time": "2024-07-17T16:02:36.970Z"
   },
   {
    "duration": 13,
    "start_time": "2024-07-17T16:02:37.331Z"
   },
   {
    "duration": 202,
    "start_time": "2024-07-17T16:02:37.352Z"
   },
   {
    "duration": 208,
    "start_time": "2024-07-17T16:02:37.557Z"
   },
   {
    "duration": 96,
    "start_time": "2024-07-17T16:02:37.768Z"
   },
   {
    "duration": 30,
    "start_time": "2024-07-17T16:02:37.867Z"
   },
   {
    "duration": 21,
    "start_time": "2024-07-17T16:02:37.899Z"
   },
   {
    "duration": 60,
    "start_time": "2024-07-17T16:02:37.923Z"
   },
   {
    "duration": 81,
    "start_time": "2024-07-17T16:02:38.013Z"
   },
   {
    "duration": 8,
    "start_time": "2024-07-17T16:02:38.115Z"
   },
   {
    "duration": 5,
    "start_time": "2024-07-17T16:02:38.127Z"
   },
   {
    "duration": 7,
    "start_time": "2024-07-17T16:02:38.135Z"
   },
   {
    "duration": 6,
    "start_time": "2024-07-17T16:02:38.145Z"
   },
   {
    "duration": 1395,
    "start_time": "2024-07-17T16:02:38.154Z"
   },
   {
    "duration": 1198,
    "start_time": "2024-07-17T16:02:39.555Z"
   },
   {
    "duration": 17,
    "start_time": "2024-07-17T16:02:40.756Z"
   },
   {
    "duration": 56,
    "start_time": "2024-07-17T16:02:40.776Z"
   },
   {
    "duration": 24,
    "start_time": "2024-07-17T16:02:40.835Z"
   },
   {
    "duration": 11,
    "start_time": "2024-07-17T16:02:40.861Z"
   },
   {
    "duration": 44,
    "start_time": "2024-07-17T16:02:40.875Z"
   },
   {
    "duration": 16,
    "start_time": "2024-07-17T16:02:40.931Z"
   },
   {
    "duration": 24,
    "start_time": "2024-07-17T16:02:40.951Z"
   },
   {
    "duration": 38,
    "start_time": "2024-07-17T16:02:40.977Z"
   },
   {
    "duration": 9,
    "start_time": "2024-07-17T16:02:41.020Z"
   },
   {
    "duration": 37,
    "start_time": "2024-07-17T16:02:41.036Z"
   },
   {
    "duration": 312,
    "start_time": "2024-07-17T16:02:41.077Z"
   },
   {
    "duration": 23,
    "start_time": "2024-07-17T16:02:41.395Z"
   },
   {
    "duration": 14,
    "start_time": "2024-07-17T16:02:41.421Z"
   },
   {
    "duration": 81,
    "start_time": "2024-07-17T16:02:41.440Z"
   },
   {
    "duration": 17,
    "start_time": "2024-07-17T16:02:41.524Z"
   },
   {
    "duration": 13,
    "start_time": "2024-07-17T16:02:41.544Z"
   },
   {
    "duration": 4403,
    "start_time": "2024-07-17T16:02:41.561Z"
   },
   {
    "duration": 229,
    "start_time": "2024-07-17T16:02:45.967Z"
   },
   {
    "duration": 348,
    "start_time": "2024-07-17T16:02:46.199Z"
   },
   {
    "duration": 7,
    "start_time": "2024-07-17T16:02:46.550Z"
   },
   {
    "duration": 24,
    "start_time": "2024-07-17T16:02:46.561Z"
   },
   {
    "duration": 10,
    "start_time": "2024-07-17T16:02:46.612Z"
   },
   {
    "duration": 500,
    "start_time": "2024-07-17T16:02:46.626Z"
   },
   {
    "duration": 39,
    "start_time": "2024-07-17T16:02:47.133Z"
   },
   {
    "duration": 367,
    "start_time": "2024-07-17T16:02:47.175Z"
   },
   {
    "duration": 192,
    "start_time": "2024-07-17T16:02:47.545Z"
   },
   {
    "duration": 20,
    "start_time": "2024-07-17T16:02:47.741Z"
   },
   {
    "duration": 9,
    "start_time": "2024-07-17T16:02:47.764Z"
   },
   {
    "duration": 562,
    "start_time": "2024-07-17T16:02:47.777Z"
   },
   {
    "duration": 24,
    "start_time": "2024-07-17T16:02:48.342Z"
   },
   {
    "duration": 346,
    "start_time": "2024-07-17T16:02:48.369Z"
   },
   {
    "duration": 191,
    "start_time": "2024-07-17T16:02:48.719Z"
   },
   {
    "duration": 82,
    "start_time": "2024-07-17T16:02:48.913Z"
   },
   {
    "duration": 17,
    "start_time": "2024-07-17T16:02:49.013Z"
   },
   {
    "duration": 10,
    "start_time": "2024-07-17T16:02:49.033Z"
   },
   {
    "duration": 381,
    "start_time": "2024-07-17T16:02:49.047Z"
   },
   {
    "duration": 39,
    "start_time": "2024-07-17T16:02:49.431Z"
   },
   {
    "duration": 39,
    "start_time": "2024-07-17T16:02:49.473Z"
   },
   {
    "duration": 1386,
    "start_time": "2024-07-17T16:21:39.871Z"
   },
   {
    "duration": 1509,
    "start_time": "2024-07-17T16:23:48.903Z"
   },
   {
    "duration": 1585,
    "start_time": "2024-07-17T16:28:49.747Z"
   },
   {
    "duration": 416,
    "start_time": "2024-07-17T16:33:55.490Z"
   },
   {
    "duration": 661,
    "start_time": "2024-07-17T16:38:06.192Z"
   },
   {
    "duration": 311,
    "start_time": "2024-07-17T16:41:18.092Z"
   },
   {
    "duration": 281,
    "start_time": "2024-07-17T16:41:51.576Z"
   },
   {
    "duration": 38,
    "start_time": "2024-07-17T16:45:09.527Z"
   },
   {
    "duration": 54,
    "start_time": "2024-07-17T16:48:05.631Z"
   },
   {
    "duration": 47,
    "start_time": "2024-07-17T16:49:12.413Z"
   },
   {
    "duration": 71,
    "start_time": "2024-07-17T17:00:57.762Z"
   },
   {
    "duration": 56,
    "start_time": "2024-07-17T17:01:44.447Z"
   },
   {
    "duration": 40,
    "start_time": "2024-07-17T17:26:12.669Z"
   },
   {
    "duration": 20,
    "start_time": "2024-07-17T17:26:15.432Z"
   },
   {
    "duration": 18,
    "start_time": "2024-07-17T17:26:34.581Z"
   },
   {
    "duration": 18,
    "start_time": "2024-07-17T17:32:40.974Z"
   },
   {
    "duration": 18,
    "start_time": "2024-07-17T17:34:21.123Z"
   },
   {
    "duration": 19,
    "start_time": "2024-07-17T17:35:03.513Z"
   }
  ],
  "colab": {
   "provenance": []
  },
  "kernelspec": {
   "display_name": "Python 3 (ipykernel)",
   "language": "python",
   "name": "python3"
  },
  "language_info": {
   "codemirror_mode": {
    "name": "ipython",
    "version": 3
   },
   "file_extension": ".py",
   "mimetype": "text/x-python",
   "name": "python",
   "nbconvert_exporter": "python",
   "pygments_lexer": "ipython3",
   "version": "3.12.4"
  },
  "toc": {
   "base_numbering": 1,
   "nav_menu": {},
   "number_sections": true,
   "sideBar": true,
   "skip_h1_title": true,
   "title_cell": "Table of Contents",
   "title_sidebar": "Contents",
   "toc_cell": false,
   "toc_position": {},
   "toc_section_display": true,
   "toc_window_display": false
  },
  "vscode": {
   "interpreter": {
    "hash": "01a7be9ec63e704a62cefc5fe7a4756944464ee731be31632bdf42a4cb4688cf"
   }
  }
 },
 "nbformat": 4,
 "nbformat_minor": 5
}
