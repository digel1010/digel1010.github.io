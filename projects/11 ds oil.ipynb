{
 "cells": [
  {
   "cell_type": "markdown",
   "metadata": {},
   "source": [
    "# Descripción del proyecto"
   ]
  },
  {
   "cell_type": "markdown",
   "metadata": {},
   "source": [
    "Trabajas en la compañía de extracción de petróleo OilyGiant. Tu tarea es encontrar los mejores lugares donde abrir 200 pozos nuevos de petróleo.\n",
    "\n",
    "Para completar esta tarea, tendrás que realizar los siguientes pasos:\n",
    "\n",
    "- Leer los archivos con los parámetros recogidos de pozos petrolíferos en la región seleccionada: calidad de crudo y volumen de reservas.\n",
    "- Crear un modelo para predecir el volumen de reservas en pozos nuevos.\n",
    "- Elegir los pozos petrolíferos que tienen los valores estimados más altos.\n",
    "- Elegir la región con el beneficio total más alto para los pozos petrolíferos seleccionados.\n",
    "\n",
    "Tienes datos sobre muestras de crudo de tres regiones. Ya se conocen los parámetros de cada pozo petrolero de la región. Crea un modelo que ayude a elegir la región con el mayor margen de beneficio. Analiza los beneficios y riesgos potenciales utilizando la técnica bootstrapping.\n",
    "\n"
   ]
  },
  {
   "cell_type": "markdown",
   "metadata": {},
   "source": [
    "# Introducción"
   ]
  },
  {
   "cell_type": "markdown",
   "metadata": {},
   "source": [
    "Este proyecto se enfoca en la identificación de las mejores ubicaciones para abrir 200 nuevos pozos de petróleo para OilyGiant. Para llevar a cabo esta tarea, se comenzará analizando datos sobre la calidad de crudo y el volumen de reservas de pozos existentes en tres regiones. A partir de estos datos, se desarrollará un modelo predictivo que estime el volumen de reservas en los nuevos pozos.\n",
    "\n",
    "Una vez que se obtengan las estimaciones, se seleccionarán aquellos pozos con los valores más altos y se evaluará cuál de las regiones ofrece el mayor beneficio total. Además, se implementará la técnica de bootstrapping para analizar de manera rigurosa los beneficios y riesgos potenciales asociados con la apertura de los nuevos pozos. Este enfoque integral permitirá tomar decisiones estratégicas y fundamentadas en la optimización de la extracción de petróleo.\n"
   ]
  },
  {
   "cell_type": "markdown",
   "metadata": {},
   "source": [
    "# Inicialización"
   ]
  },
  {
   "cell_type": "code",
   "execution_count": 74,
   "metadata": {},
   "outputs": [],
   "source": [
    "# Cargamos todas las librerias que creemos que vamos a utilizar\n",
    "\n",
    "import pandas as pd\n",
    "import numpy as np\n",
    "from numpy.random import RandomState\n",
    "from sklearn.model_selection import train_test_split\n",
    "\n",
    "from sklearn.tree import DecisionTreeClassifier\n",
    "from sklearn.ensemble import RandomForestClassifier\n",
    "from sklearn.linear_model import LogisticRegression\n",
    "from sklearn.linear_model import LinearRegression\n",
    "\n",
    "from sklearn.metrics import mean_squared_error"
   ]
  },
  {
   "cell_type": "markdown",
   "metadata": {},
   "source": [
    "## Preparación de los datos"
   ]
  },
  {
   "cell_type": "code",
   "execution_count": 75,
   "metadata": {},
   "outputs": [],
   "source": [
    "# cargamos los archivos en dataframes\n",
    "\n",
    "df_0 = pd.read_csv('/datasets/geo_data_0.csv')\n",
    "df_1 = pd.read_csv('/datasets/geo_data_1.csv')\n",
    "df_2 = pd.read_csv('/datasets/geo_data_2.csv')"
   ]
  },
  {
   "cell_type": "code",
   "execution_count": 76,
   "metadata": {},
   "outputs": [
    {
     "name": "stdout",
     "output_type": "stream",
     "text": [
      "(100000, 5)\n",
      "      id        f0        f1        f2     product\n",
      "0  txEyH  0.705745 -0.497823  1.221170  105.280062\n",
      "1  2acmU  1.334711 -0.340164  4.365080   73.037750\n",
      "2  409Wp  1.022732  0.151990  1.419926   85.265647\n",
      "3  iJLyR -0.032172  0.139033  2.978566  168.620776\n",
      "4  Xdl7t  1.988431  0.155413  4.751769  154.036647\n",
      "\n",
      "<class 'pandas.core.frame.DataFrame'>\n",
      "RangeIndex: 100000 entries, 0 to 99999\n",
      "Data columns (total 5 columns):\n",
      " #   Column   Non-Null Count   Dtype  \n",
      "---  ------   --------------   -----  \n",
      " 0   id       100000 non-null  object \n",
      " 1   f0       100000 non-null  float64\n",
      " 2   f1       100000 non-null  float64\n",
      " 3   f2       100000 non-null  float64\n",
      " 4   product  100000 non-null  float64\n",
      "dtypes: float64(4), object(1)\n",
      "memory usage: 3.8+ MB\n"
     ]
    }
   ],
   "source": [
    "#validamos las dimensiones del dataframe df_0 (usamos shape) e imprimimos las primeras filas (usamos head)\n",
    "\n",
    "print(df_0.shape)\n",
    "print(df_0.head())\n",
    "print()\n",
    "\n",
    "#mostramos la informacion del dataframe con el metodo info\n",
    "df_0.info()"
   ]
  },
  {
   "cell_type": "code",
   "execution_count": 77,
   "metadata": {},
   "outputs": [
    {
     "name": "stdout",
     "output_type": "stream",
     "text": [
      "(100000, 5)\n",
      "      id         f0         f1        f2     product\n",
      "0  kBEdx -15.001348  -8.276000 -0.005876    3.179103\n",
      "1  62mP7  14.272088  -3.475083  0.999183   26.953261\n",
      "2  vyE1P   6.263187  -5.948386  5.001160  134.766305\n",
      "3  KcrkZ -13.081196 -11.506057  4.999415  137.945408\n",
      "4  AHL4O  12.702195  -8.147433  5.004363  134.766305\n",
      "\n",
      "<class 'pandas.core.frame.DataFrame'>\n",
      "RangeIndex: 100000 entries, 0 to 99999\n",
      "Data columns (total 5 columns):\n",
      " #   Column   Non-Null Count   Dtype  \n",
      "---  ------   --------------   -----  \n",
      " 0   id       100000 non-null  object \n",
      " 1   f0       100000 non-null  float64\n",
      " 2   f1       100000 non-null  float64\n",
      " 3   f2       100000 non-null  float64\n",
      " 4   product  100000 non-null  float64\n",
      "dtypes: float64(4), object(1)\n",
      "memory usage: 3.8+ MB\n"
     ]
    }
   ],
   "source": [
    "#validamos las dimensiones del dataframe df_1 (usamos shape) e imprimimos las primeras filas (usamos head)\n",
    "\n",
    "print(df_1.shape)\n",
    "print(df_1.head())\n",
    "print()\n",
    "\n",
    "#mostramos la informacion del dataframe con el metodo info\n",
    "df_1.info()"
   ]
  },
  {
   "cell_type": "code",
   "execution_count": 78,
   "metadata": {},
   "outputs": [
    {
     "name": "stdout",
     "output_type": "stream",
     "text": [
      "(100000, 5)\n",
      "      id        f0        f1        f2     product\n",
      "0  fwXo0 -1.146987  0.963328 -0.828965   27.758673\n",
      "1  WJtFt  0.262778  0.269839 -2.530187   56.069697\n",
      "2  ovLUW  0.194587  0.289035 -5.586433   62.871910\n",
      "3  q6cA6  2.236060 -0.553760  0.930038  114.572842\n",
      "4  WPMUX -0.515993  1.716266  5.899011  149.600746\n",
      "\n",
      "<class 'pandas.core.frame.DataFrame'>\n",
      "RangeIndex: 100000 entries, 0 to 99999\n",
      "Data columns (total 5 columns):\n",
      " #   Column   Non-Null Count   Dtype  \n",
      "---  ------   --------------   -----  \n",
      " 0   id       100000 non-null  object \n",
      " 1   f0       100000 non-null  float64\n",
      " 2   f1       100000 non-null  float64\n",
      " 3   f2       100000 non-null  float64\n",
      " 4   product  100000 non-null  float64\n",
      "dtypes: float64(4), object(1)\n",
      "memory usage: 3.8+ MB\n"
     ]
    }
   ],
   "source": [
    "#validamos las dimensiones del dataframe df_2 (usamos shape) e imprimimos las primeras filas (usamos head)\n",
    "\n",
    "print(df_2.shape)\n",
    "print(df_2.head())\n",
    "print()\n",
    "\n",
    "#mostramos la informacion del dataframe con el metodo info\n",
    "df_2.info()"
   ]
  },
  {
   "cell_type": "markdown",
   "metadata": {},
   "source": [
    "### Duplicados y valores ausentes"
   ]
  },
  {
   "cell_type": "code",
   "execution_count": 79,
   "metadata": {},
   "outputs": [
    {
     "name": "stdout",
     "output_type": "stream",
     "text": [
      "0\n"
     ]
    }
   ],
   "source": [
    "# validamos si tenemos valores duplicados en el dataframe df_0 con el metodo duplicated\n",
    "print(df_0.duplicated().sum())"
   ]
  },
  {
   "cell_type": "code",
   "execution_count": 80,
   "metadata": {},
   "outputs": [
    {
     "name": "stdout",
     "output_type": "stream",
     "text": [
      "0\n"
     ]
    }
   ],
   "source": [
    "# validamos si tenemos valores duplicados en el dataframe df_1 con el metodo duplicated\n",
    "print(df_1.duplicated().sum())"
   ]
  },
  {
   "cell_type": "code",
   "execution_count": 81,
   "metadata": {},
   "outputs": [
    {
     "name": "stdout",
     "output_type": "stream",
     "text": [
      "0\n"
     ]
    }
   ],
   "source": [
    "# validamos si tenemos valores duplicados en el dataframe df_2 con el metodo duplicated\n",
    "print(df_2.duplicated().sum())"
   ]
  },
  {
   "cell_type": "code",
   "execution_count": 82,
   "metadata": {},
   "outputs": [
    {
     "name": "stdout",
     "output_type": "stream",
     "text": [
      "id         0\n",
      "f0         0\n",
      "f1         0\n",
      "f2         0\n",
      "product    0\n",
      "dtype: int64\n"
     ]
    }
   ],
   "source": [
    "#validamos si tenemos valores ausentes en el dataframe df_0 con el metodo isna\n",
    "print(df_0.isna().sum())"
   ]
  },
  {
   "cell_type": "code",
   "execution_count": 83,
   "metadata": {},
   "outputs": [
    {
     "name": "stdout",
     "output_type": "stream",
     "text": [
      "id         0\n",
      "f0         0\n",
      "f1         0\n",
      "f2         0\n",
      "product    0\n",
      "dtype: int64\n"
     ]
    }
   ],
   "source": [
    "#validamos si tenemos valores ausentes en el dataframe df_1 con el metodo isna\n",
    "print(df_1.isna().sum())"
   ]
  },
  {
   "cell_type": "code",
   "execution_count": 84,
   "metadata": {},
   "outputs": [
    {
     "name": "stdout",
     "output_type": "stream",
     "text": [
      "id         0\n",
      "f0         0\n",
      "f1         0\n",
      "f2         0\n",
      "product    0\n",
      "dtype: int64\n"
     ]
    }
   ],
   "source": [
    "#validamos si tenemos valores ausentes en el dataframe df_2 con el metodo isna\n",
    "print(df_2.isna().sum())"
   ]
  },
  {
   "cell_type": "markdown",
   "metadata": {},
   "source": [
    "### Resumen estadístico de las variables"
   ]
  },
  {
   "cell_type": "code",
   "execution_count": 85,
   "metadata": {},
   "outputs": [
    {
     "name": "stdout",
     "output_type": "stream",
     "text": [
      "                  f0             f1             f2        product\n",
      "count  100000.000000  100000.000000  100000.000000  100000.000000\n",
      "mean        0.500419       0.250143       2.502647      92.500000\n",
      "std         0.871832       0.504433       3.248248      44.288691\n",
      "min        -1.408605      -0.848218     -12.088328       0.000000\n",
      "25%        -0.072580      -0.200881       0.287748      56.497507\n",
      "50%         0.502360       0.250252       2.515969      91.849972\n",
      "75%         1.073581       0.700646       4.715088     128.564089\n",
      "max         2.362331       1.343769      16.003790     185.364347\n"
     ]
    }
   ],
   "source": [
    "# Mostramos un resumen estadístico de las variables de la tabla df_0 utilizando el metodo describe\n",
    "print(df_0.describe())"
   ]
  },
  {
   "cell_type": "code",
   "execution_count": 86,
   "metadata": {},
   "outputs": [
    {
     "name": "stdout",
     "output_type": "stream",
     "text": [
      "                  f0             f1             f2        product\n",
      "count  100000.000000  100000.000000  100000.000000  100000.000000\n",
      "mean        1.141296      -4.796579       2.494541      68.825000\n",
      "std         8.965932       5.119872       1.703572      45.944423\n",
      "min       -31.609576     -26.358598      -0.018144       0.000000\n",
      "25%        -6.298551      -8.267985       1.000021      26.953261\n",
      "50%         1.153055      -4.813172       2.011479      57.085625\n",
      "75%         8.621015      -1.332816       3.999904     107.813044\n",
      "max        29.421755      18.734063       5.019721     137.945408\n"
     ]
    }
   ],
   "source": [
    "# Mostramos un resumen estadístico de las variables de la tabla df_1 utilizando el metodo describe\n",
    "print(df_1.describe())"
   ]
  },
  {
   "cell_type": "code",
   "execution_count": 87,
   "metadata": {},
   "outputs": [
    {
     "name": "stdout",
     "output_type": "stream",
     "text": [
      "                  f0             f1             f2        product\n",
      "count  100000.000000  100000.000000  100000.000000  100000.000000\n",
      "mean        0.002023      -0.002081       2.495128      95.000000\n",
      "std         1.732045       1.730417       3.473445      44.749921\n",
      "min        -8.760004      -7.084020     -11.970335       0.000000\n",
      "25%        -1.162288      -1.174820       0.130359      59.450441\n",
      "50%         0.009424      -0.009482       2.484236      94.925613\n",
      "75%         1.158535       1.163678       4.858794     130.595027\n",
      "max         7.238262       7.844801      16.739402     190.029838\n"
     ]
    }
   ],
   "source": [
    "# Mostramos un resumen estadístico de las variables de la tabla df_2 utilizando el metodo describe\n",
    "print(df_2.describe())"
   ]
  },
  {
   "cell_type": "markdown",
   "metadata": {},
   "source": [
    "## Entrenamiento y prueba del modelo"
   ]
  },
  {
   "cell_type": "markdown",
   "metadata": {},
   "source": [
    "### Division de los datos (región 0)"
   ]
  },
  {
   "cell_type": "code",
   "execution_count": 88,
   "metadata": {
    "scrolled": true
   },
   "outputs": [],
   "source": [
    "#separamos las caracteristicas y nuestro objetivo\n",
    "features_0 = df_0.drop(['id', 'product'], axis=1)\n",
    "target_0 = df_0['product']"
   ]
  },
  {
   "cell_type": "code",
   "execution_count": 89,
   "metadata": {},
   "outputs": [],
   "source": [
    "#dividimos los datos en conjunto de entrenamiento y validacion \n",
    "\n",
    "# dividimos el entrenamiento (75%) y un conjunto de validación (25%)\n",
    "features_train_0, features_valid_0, target_train_0, target_valid_0 = train_test_split(features_0, target_0, test_size=0.25, random_state=12345)\n"
   ]
  },
  {
   "cell_type": "markdown",
   "metadata": {},
   "source": [
    "### Entrenamos el modelo (región 0)"
   ]
  },
  {
   "cell_type": "code",
   "execution_count": 90,
   "metadata": {},
   "outputs": [],
   "source": [
    "#entrenamos el modelo\n",
    "model_0 = LinearRegression()\n",
    "\n",
    "model_0.fit(features_train_0, target_train_0)\n",
    "\n",
    "predicted_valid_0 = model_0.predict(features_valid_0) # Realizamos predicciones en el conjunto de validación\n"
   ]
  },
  {
   "cell_type": "markdown",
   "metadata": {},
   "source": [
    "### Guardamos predicciones y respuestas correctas (región 0)"
   ]
  },
  {
   "cell_type": "code",
   "execution_count": 91,
   "metadata": {},
   "outputs": [
    {
     "name": "stdout",
     "output_type": "stream",
     "text": [
      "       target_valid  predicted_valid\n",
      "71751     10.038645        95.894952\n",
      "80493    114.551489        77.572583\n",
      "2655     132.603635        77.892640\n",
      "53233    169.072125        90.175134\n",
      "91141    122.325180        70.510088\n",
      "...             ...              ...\n",
      "12581    170.116726       103.037104\n",
      "18456     93.632175        85.403255\n",
      "73035    127.352259        61.509833\n",
      "63834     99.782700       118.180397\n",
      "43558    177.821022       118.169392\n",
      "\n",
      "[25000 rows x 2 columns]\n"
     ]
    }
   ],
   "source": [
    "#Almacenamos las predicciones junto con las respuestas correctas en un DataFrame.\n",
    "\n",
    "df_predictions_answers_0 = pd.DataFrame({'target_valid': target_valid_0, 'predicted_valid': predicted_valid_0})\n",
    "\n",
    "print(df_predictions_answers_0)"
   ]
  },
  {
   "cell_type": "markdown",
   "metadata": {},
   "source": [
    "### Volumen medio de reservas (región 0)"
   ]
  },
  {
   "cell_type": "code",
   "execution_count": 92,
   "metadata": {},
   "outputs": [
    {
     "name": "stdout",
     "output_type": "stream",
     "text": [
      "Volumen medio de reservas predicho (Región 0): 92.59256778438035\n",
      "RMSE (Región 0): 37.5794217150813\n"
     ]
    }
   ],
   "source": [
    "# calculamos el volumen medio predicho con el metodo mean\n",
    "mean_predicted_reserves_0 = predicted_valid_0.mean()\n",
    "print(f'Volumen medio de reservas predicho (Región 0): {mean_predicted_reserves_0}')\n",
    "\n",
    "# Calculamos el RMSE \n",
    "rmse_0 = mean_squared_error(target_valid_0, predicted_valid_0)**0.5\n",
    "print(f'RMSE (Región 0): {rmse_0}')"
   ]
  },
  {
   "cell_type": "markdown",
   "metadata": {},
   "source": [
    "### Analisis de resultados (region 0)"
   ]
  },
  {
   "cell_type": "markdown",
   "metadata": {},
   "source": [
    "El volumen medio de reservas predicho por el modelo es de 92.59 de miles de barriles. Esto podria indicar que en promedio, el modelo está prediciendo un volumen de reservas aproximado a este valor para los pozos en esta región.\n",
    "\n",
    "mientras que el RMSE fue de 37.58 miles de barriles. Esto significa que en promedio, las predicciones del modelo tienen un error de aproximadamente 37.58 miles de barriles respecto al valor real.\n",
    "Esto nos dice, que el error es relativamente bajo (pero no insignificante) en comparación con el volumen medio predicho (92.59 miles de barriles), lo que podria sugerir que el modelo es capaz de hacer predicciones razonablemente precisas.\n"
   ]
  },
  {
   "cell_type": "markdown",
   "metadata": {},
   "source": [
    "### Región 1 y Región 2"
   ]
  },
  {
   "cell_type": "code",
   "execution_count": 93,
   "metadata": {},
   "outputs": [
    {
     "name": "stdout",
     "output_type": "stream",
     "text": [
      "Resultados de la región: región 0\n",
      "Volumen medio de reservas predicho: 92.59256778438035\n",
      "RMSE: 37.5794217150813\n",
      "\n",
      "Resultados de la región: región 1\n",
      "Volumen medio de reservas predicho: 68.728546895446\n",
      "RMSE: 0.893099286775617\n",
      "\n",
      "Resultados de la región: región 2\n",
      "Volumen medio de reservas predicho: 94.96504596800489\n",
      "RMSE: 40.02970873393434\n"
     ]
    }
   ],
   "source": [
    "# Automatizamos en una funcion los pasos anteriores para validar en las demas regiones\n",
    "\n",
    "def train_and_evaluate_model(data, region_name):\n",
    "    # Separamos las  características y el objetivo\n",
    "    features = data.drop(['id', 'product'], axis=1)\n",
    "    target = data['product']\n",
    "    \n",
    "    # Dividimos los datos en entrenamiento y validación\n",
    "    features_train, features_valid, target_train, target_valid = train_test_split(\n",
    "        features, target, test_size=0.25, random_state=12345)\n",
    "    \n",
    "    # Entrenamos el modelo\n",
    "    model = LinearRegression()\n",
    "    model.fit(features_train, target_train)\n",
    "    \n",
    "    # Hacemos las predicciones\n",
    "    predicted_valid = model.predict(features_valid)\n",
    "    \n",
    "    # Calculamos el volumen medio y el RMSE\n",
    "    mean_predicted_reserves = predicted_valid.mean()\n",
    "    rmse = mean_squared_error(target_valid, predicted_valid)**0.5\n",
    "    \n",
    "    print(f'Resultados de la región: {region_name}')\n",
    "    print(f'Volumen medio de reservas predicho: {mean_predicted_reserves}')\n",
    "    print(f'RMSE: {rmse}')\n",
    "    return predicted_valid, target_valid\n",
    "\n",
    "#  ejecutamos las siguientes variables para cada region\n",
    "predictions_0, target_valid_0 = train_and_evaluate_model(df_0, \"región 0\")\n",
    "print()\n",
    "predictions_1, target_valid_1 = train_and_evaluate_model(df_1, \"región 1\")\n",
    "print()\n",
    "predictions_2, target_valid_2 = train_and_evaluate_model(df_2, \"región 2\")\n"
   ]
  },
  {
   "cell_type": "markdown",
   "metadata": {},
   "source": [
    "vemos que la región 1 tiene el volumen medio más bajo, pero el modelo es extremadamente preciso en esta región. Con un RMSE de solo 0.893, lo que nos dice que las predicciones del modelo son muy cercanas a los valores reales, y que minimiza el riesgo de tomar decisiones incorrectas basandonos en las predicciones.\n",
    "\n",
    "en la región 2 se tiene el volumen medio más alto de las tres regiones (94.96), lo cual es atractivo desde el punto de vista del rendimiento potencial. Sin embargo, el RMSE también es alto(40.02), lo que sugiere que el modelo podria tener dificultades para hacer predicciones precisas en esta región.\n",
    "\n",
    "volviendo a la region 0 y teniendo en cuenta la informacion de la region 1, el valor de rmse de 37.58 ya no parece tan bajo, incluso se ve considerablemente alto como el de la region 2, pero manejable ya que no es extremadamente alto para una predicción en el contexto de la exploración de petróleo.\n",
    "\n",
    "Si la prioridad es la precisión en las predicciones (para reducir el riesgo), la Región 1 seria la mejor opción, ya que el modelo es muy preciso allí.\n",
    "Si el objetivo es maximizar el volumen de reservas, las Regiones 0 y 2 son mejores, pero se debe tener en cuenta el mayor riesgo debido a que es mas alto el RMSE."
   ]
  },
  {
   "cell_type": "markdown",
   "metadata": {},
   "source": [
    "## Cálculo de ganancias"
   ]
  },
  {
   "cell_type": "markdown",
   "metadata": {},
   "source": [
    "### Almacenamiento de los valores para el cálculo"
   ]
  },
  {
   "cell_type": "code",
   "execution_count": 94,
   "metadata": {},
   "outputs": [
    {
     "name": "stdout",
     "output_type": "stream",
     "text": [
      "Cada pozo debe producir al menos 500000.0 dólares para no tener pérdidas,\n",
      "es decir, al menos 111.11 miles de barriles para no tener pérdidas.\n"
     ]
    }
   ],
   "source": [
    "# almacenamos las variables que necesitamos \n",
    "\n",
    "budget = 100e6  # presupuesto de 100 millones de dólares\n",
    "wells = 200  # cantidad de pozos\n",
    "income_per_unit = 4500  # ingresos por unidad de producto en dolares\n",
    "break_even_threshold = budget / wells # umbral de equilibrio para evitar perdidas(en dolares) \n",
    "units_break_even_threshold = break_even_threshold / income_per_unit # umbral de equilibrio para evitar perdidas(en miles de barriles)\n",
    "\n",
    "print(f'Cada pozo debe producir al menos {break_even_threshold} dólares para no tener pérdidas,')\n",
    "print(f'es decir, al menos {units_break_even_threshold:.2f} miles de barriles para no tener pérdidas.')\n"
   ]
  },
  {
   "cell_type": "markdown",
   "metadata": {},
   "source": [
    "### Comparación con las reservas de cada región"
   ]
  },
  {
   "cell_type": "code",
   "execution_count": 95,
   "metadata": {},
   "outputs": [
    {
     "name": "stdout",
     "output_type": "stream",
     "text": [
      "Reservas promedio en la región 0: 92.50 miles de barriles\n",
      "Reservas promedio en la región 1: 68.83 miles de barriles\n",
      "Reservas promedio en la región 2: 95.00 miles de barriles\n"
     ]
    }
   ],
   "source": [
    "# Calculamos la cantidad media de reservas por región\n",
    "\n",
    "mean_reserves_0 = df_0['product'].mean()\n",
    "mean_reserves_1 = df_1['product'].mean()\n",
    "mean_reserves_2 = df_2['product'].mean()\n",
    "\n",
    "print(f'Reservas promedio en la región 0: {mean_reserves_0:.2f} miles de barriles')\n",
    "print(f'Reservas promedio en la región 1: {mean_reserves_1:.2f} miles de barriles')\n",
    "print(f'Reservas promedio en la región 2: {mean_reserves_2:.2f} miles de barriles')\n"
   ]
  },
  {
   "cell_type": "markdown",
   "metadata": {},
   "source": [
    "### Conclusiones de reservas en cada región"
   ]
  },
  {
   "cell_type": "markdown",
   "metadata": {},
   "source": [
    "Las reservas promedio de la region 0 y 2 con 92.5 y 95 miles de barriles respectivamente, todavía están por debajo del umbral de equilibrio (111.11). Esto indica que en promedio, los pozos de ambas regiones no alcanzarían el punto de equilibrio para evitar pérdidas.\n",
    "\n",
    "Las reservas promedio en la Región 1 es aún más baja (68.83), lo que indica que los pozos de esta región tienen el mayor riesgo de pérdidas si solo se consideran las reservas promedio. Está significativamente por debajo del umbral de equilibrio.\n",
    "\n",
    "de acuerdo a lo anterior, ninguna de las tres regiones alcanza el umbral de 111.11 miles de barriles necesario para evitar pérdidas en promedio. Esto indicaria que, en promedio, los pozos individuales en todas las regiones podrían generar pérdidas si no se hace un analisis mas a fondo.\n",
    "\n",
    "En lugar de basarnos en el promedio general de cada región, se podria seleccionar los pozos con las mayores reservas y calcular el beneficio para estos. será necesario seleccionar los 200 pozos con las predicciones más altas en cada región y luego calcular los ingresos basados en estas predicciones. Esto nos ayuda a saber cual de las tres regiones tiene el mayor potencial de ganancia.\n",
    "\n",
    "\n"
   ]
  },
  {
   "cell_type": "markdown",
   "metadata": {},
   "source": [
    "## Ganancias de los pozos con mayor valor"
   ]
  },
  {
   "cell_type": "markdown",
   "metadata": {},
   "source": [
    "### eleccion de los 200 pozos con valores de prediccion mas altos en cada región"
   ]
  },
  {
   "cell_type": "code",
   "execution_count": 96,
   "metadata": {},
   "outputs": [
    {
     "name": "stdout",
     "output_type": "stream",
     "text": [
      "mejores pozos para la región 0\n",
      "       predictions      actual\n",
      "9317    180.180713  162.810993\n",
      "219     176.252213  153.639837\n",
      "10015   175.850623  162.153488\n",
      "11584   175.658429   96.893581\n",
      "23388   173.299686  178.879516\n",
      "\n",
      "mejores pozos para la región 1\n",
      "       predictions      actual\n",
      "20430   139.818970  137.945408\n",
      "7777    139.773423  137.945408\n",
      "8755    139.703330  137.945408\n",
      "1178    139.560938  137.945408\n",
      "4285    139.516754  137.945408\n",
      "\n",
      "mejores pozos para la región 2\n",
      "       predictions      actual\n",
      "22636   165.856833  175.103291\n",
      "24690   165.679685  131.627481\n",
      "7811    163.439962  141.160070\n",
      "1581    162.062589  159.676082\n",
      "6751    161.797476  142.135203\n"
     ]
    }
   ],
   "source": [
    "def top_200_wells(predictions, data_valid):\n",
    "    # Combinamos las predicciones con los datos de validación\n",
    "    wells_data = pd.DataFrame({\n",
    "        'predictions': predictions,\n",
    "        'actual': data_valid.reset_index(drop=True)  # Reservas reales\n",
    "    })\n",
    "\n",
    "    # Ordenamos por las predicciones y seleccionamos los 200 pozos con los mayores valores\n",
    "    top_wells = wells_data.sort_values(by='predictions', ascending=False).head(200)\n",
    "    return top_wells\n",
    "\n",
    "# Seleccionamos los 200 pozos con las mejores predicciones para cada región usando solo el conjunto de validación\n",
    "top_wells_0 = top_200_wells(predictions_0, target_valid_0)\n",
    "top_wells_1 = top_200_wells(predictions_1, target_valid_1)\n",
    "top_wells_2 = top_200_wells(predictions_2, target_valid_2)\n",
    "\n",
    "# mostramos los pozos seleccionados para cada region\n",
    "print('mejores pozos para la región 0')\n",
    "print(top_wells_0.head())\n",
    "print()\n",
    "print('mejores pozos para la región 1')\n",
    "print(top_wells_1.head())\n",
    "print()\n",
    "print('mejores pozos para la región 2')\n",
    "print(top_wells_2.head())\n",
    "\n",
    "\n"
   ]
  },
  {
   "cell_type": "markdown",
   "metadata": {},
   "source": [
    "### volumen objetivo de reservas de los 200 pozos de cada región"
   ]
  },
  {
   "cell_type": "code",
   "execution_count": 97,
   "metadata": {},
   "outputs": [
    {
     "name": "stdout",
     "output_type": "stream",
     "text": [
      "Volumen total predicho en la región 0: 31102.33\n",
      "Volumen total real en la región 0: 29601.84\n",
      "\n",
      "Volumen total predicho en la región 1: 27746.03\n",
      "Volumen total real en la región 1: 27589.08\n",
      "\n",
      "Volumen total predicho en la región 2: 29603.90\n",
      "Volumen total real en la región 2: 28245.22\n"
     ]
    }
   ],
   "source": [
    "# obtenemos la suma del volumen de reservas (predicho y real) para los 200 pozos seleccionados en cada región\n",
    "def sum_reserves(top_wells):\n",
    "    total_predicted = top_wells['predictions'].sum()\n",
    "    total_actual = top_wells['actual'].sum()\n",
    "    return total_predicted, total_actual\n",
    "\n",
    "# Región 0\n",
    "predicted_reserves_0, actual_reserves_0 = sum_reserves(top_wells_0)\n",
    "print(f'Volumen total predicho en la región 0: {predicted_reserves_0:.2f}')\n",
    "print(f'Volumen total real en la región 0: {actual_reserves_0:.2f}')\n",
    "print()\n",
    "# Región 1\n",
    "predicted_reserves_1, actual_reserves_1 = sum_reserves(top_wells_1)\n",
    "print(f'Volumen total predicho en la región 1: {predicted_reserves_1:.2f}')\n",
    "print(f'Volumen total real en la región 1: {actual_reserves_1:.2f}')\n",
    "print()\n",
    "# Región 2\n",
    "predicted_reserves_2, actual_reserves_2 = sum_reserves(top_wells_2)\n",
    "print(f'Volumen total predicho en la región 2: {predicted_reserves_2:.2f}')\n",
    "print(f'Volumen total real en la región 2: {actual_reserves_2:.2f}')\n",
    "\n"
   ]
  },
  {
   "cell_type": "markdown",
   "metadata": {},
   "source": [
    "### Ganancia potencial de los 200 pozos principales por región"
   ]
  },
  {
   "cell_type": "code",
   "execution_count": 98,
   "metadata": {},
   "outputs": [
    {
     "name": "stdout",
     "output_type": "stream",
     "text": [
      "Beneficio estimado para la región 0: 39960488.77 dolares\n",
      "Beneficio estimado para la región 1: 24857120.52 dolares\n",
      "Beneficio estimado para la región 2: 33217543.96 dolares\n"
     ]
    }
   ],
   "source": [
    "def calculate_profit(reserves_sum, wells=200, budget=100e6, income_per_unit=4500):\n",
    "    # Calculamos el ingreso potencial\n",
    "    total_income = reserves_sum * income_per_unit\n",
    "    # Restamos el presupuesto para calcular la ganancia neta\n",
    "    profit = total_income - budget\n",
    "    return profit\n",
    "\n",
    "# Calculamos el beneficio potencial para la región 0\n",
    "profit_0 = calculate_profit(predicted_reserves_0)\n",
    "print(f'Beneficio estimado para la región 0: {profit_0:.2f} dolares')\n",
    "\n",
    "# Calculamos el beneficio potencial para la región 1\n",
    "profit_1 = calculate_profit(predicted_reserves_1)\n",
    "print(f'Beneficio estimado para la región 1: {profit_1:.2f} dolares')\n",
    "\n",
    "# Calculamos el beneficio potencial para la región 2\n",
    "profit_2 = calculate_profit(predicted_reserves_2)\n",
    "print(f'Beneficio estimado para la región 2: {profit_2:.2f} dolares')\n"
   ]
  },
  {
   "cell_type": "markdown",
   "metadata": {},
   "source": [
    "La Región 0 es la que tiene el mayor beneficio estimado (39,960,488.77 dolares) de todas las regiones. Este beneficio es resultado de un volumen total de reservas predicho relativamente alto. Sin embargo, La diferencia entre el volumen predicho y el real no es muy grande (cerca de 1,500 miles de barriles). El modelo en esta región parece ser razonablemente preciso para hacer predicciones.\n",
    "\n",
    "la Región 1 es la más precisa en términos de predicción, el beneficio (24,857,120.52 dolares) es considerablemente menor en comparación con las otras regiones. Esto se debe a que el volumen total de reservas predicho (y real) es más bajo que en las otras regiones. La diferencia entre el volumen predicho y el real es mínima (cerca de 150 miles de barriles). Esto indica que el modelo es muy preciso en la Región 1. Las predicciones están muy cerca de los valores reales.\n",
    "\n",
    "En la Región 2, el modelo tiende a sobreestimar el volumen total de reservas en aproximadamente 1,300 miles de barriles. Aunque el error no es excesivo, es más alto en comparación con la Región 1 y menor que la region 0. ofrece un beneficio intermedio (33,217,543.96 dolares) en comparación con las Regiones 0 y 1. El volumen predicho es ligeramente sobreestimado, pero el beneficio sigue siendo mayor que el de la Región 1.\n",
    "\n",
    "teniendo en cuenta lo anterior, la Región 0 es la más atractiva en términos de beneficio potencial. Aunque tiene una ligera sobreestimación en las reservas predichas pero la diferencia no es lo suficientemente grande como para representar un riesgo significativo y sigue ofreciendo el mejor margen de ganancias."
   ]
  },
  {
   "cell_type": "markdown",
   "metadata": {},
   "source": [
    "## Riesgos y ganancias para cada región utilizando bootstrapping"
   ]
  },
  {
   "cell_type": "markdown",
   "metadata": {},
   "source": [
    "### Distribución de los beneficios"
   ]
  },
  {
   "cell_type": "code",
   "execution_count": 99,
   "metadata": {},
   "outputs": [],
   "source": [
    "#Hacemos bootstrapping sobre los datos de pozos seleccionados para calcular la distribución de los beneficios.\n",
    "def bootstrap_profit(data, n_samples=1000, wells=200, budget=100e6, income_per_unit=4500):\n",
    "   \n",
    "    # Creamos el generador de números aleatorios\n",
    "    state = np.random.RandomState(12345)\n",
    "    \n",
    "    profits = []\n",
    "    \n",
    "    for i in range(n_samples):\n",
    "        # Tomamos una muestra aleatoria (con reemplazo) de los pozos seleccionados\n",
    "        sample = data.sample(n=wells, replace=True, random_state=state)\n",
    "\n",
    "        # Calculamos el volumen total de reservas predicho para la muestra\n",
    "        total_predicted_reserves = sample['predictions'].sum()\n",
    "\n",
    "        # Calculamos el ingreso total generado para la muestra\n",
    "        total_income = total_predicted_reserves * income_per_unit\n",
    "\n",
    "        # Calculamos la ganancia neta restando el presupuesto\n",
    "        profit = total_income - budget\n",
    "        profits.append(profit)\n",
    "\n",
    "    return profits\n",
    "\n",
    "# Usamos las tablas top_wells_0, top_wells_1, top_wells_2 que ya tienen las predicciones y los valores reales\n",
    "profits_0 = bootstrap_profit(top_wells_0)\n",
    "\n",
    "profits_1 = bootstrap_profit(top_wells_1)\n",
    "\n",
    "profits_2 = bootstrap_profit(top_wells_2)\n"
   ]
  },
  {
   "cell_type": "markdown",
   "metadata": {},
   "source": [
    "### Cálculo del beneficio promedio, intervalo de confianza  y riesgo de pérdidas"
   ]
  },
  {
   "cell_type": "code",
   "execution_count": 100,
   "metadata": {},
   "outputs": [
    {
     "name": "stdout",
     "output_type": "stream",
     "text": [
      "Beneficio Promedio de la (región 0): 39944044.81\n",
      "Intervalo de Confianza 95% de la (región 0): [39104578.92, 40792451.06]\n",
      "Riesgo de Pérdidas de la (región 0): 0.00%\n",
      "\n",
      "Beneficio Promedio de la (región 1): 24856341.33\n",
      "Intervalo de Confianza 95% de la (región 1): [24818499.87, 24894836.02]\n",
      "Riesgo de Pérdidas de la (región 1): 0.00%\n",
      "\n",
      "Beneficio Promedio de la (región 2): 33203436.83\n",
      "Intervalo de Confianza 95% de la (región 2): [32503826.13, 33937189.01]\n",
      "Riesgo de Pérdidas de la (región 2): 0.00%\n",
      "\n"
     ]
    }
   ],
   "source": [
    "\n",
    "def analyze_profits(profits, region):\n",
    "    \n",
    "    profits = np.array(profits)\n",
    "    \n",
    "    # hallamos el beneficio promedio\n",
    "    average_profit = profits.mean()\n",
    "\n",
    "    # calculamos el intervalo de confianza del 95%\n",
    "    lower_ci = pd.Series(profits).quantile(0.025)\n",
    "    upper_ci = pd.Series(profits).quantile(0.975)\n",
    "\n",
    "    # calculamos el riesgo de pérdidas como porcentaje de ganancias negativas\n",
    "    risk_of_loss = (profits < 0).mean() * 100\n",
    "\n",
    "    # mostramos los resultados\n",
    "    print(f\"Beneficio Promedio de la ({region}): {average_profit:.2f}\")\n",
    "    print(f\"Intervalo de Confianza 95% de la ({region}): [{lower_ci:.2f}, {upper_ci:.2f}]\")\n",
    "    print(f\"Riesgo de Pérdidas de la ({region}): {risk_of_loss:.2f}%\\n\")\n",
    "\n",
    "# Usamos la función para cada una de las regiones\n",
    "analyze_profits(profits_0, region=\"región 0\")\n",
    "analyze_profits(profits_1, region=\"región 1\")\n",
    "analyze_profits(profits_2, region=\"región 2\")\n"
   ]
  },
  {
   "cell_type": "markdown",
   "metadata": {},
   "source": [
    "### Conclusiones"
   ]
  },
  {
   "cell_type": "markdown",
   "metadata": {},
   "source": [
    "La Región 0 tiene el beneficio promedio más alto (39,944,044.81 dolares), seguida de la Región 2 (33,203,436.83 dolares), mientras que la Región 1 tiene el beneficio más bajo (24,856,341.33 dolares). Esto indica que, en promedio, desarrollar pozos en la Región 0 daría mayores ingresos.\n",
    "\n",
    "Los intervalos de confianza nos dice que la Región 0 sigue siendo la opción con el mayor margen de beneficio dentro del intervalo, lo que indicaria que los resultados son estables. La Región 1 tiene un intervalo muy ajustado, lo que indica que los beneficios no varían mucho, pero sigue siendo la región con menor rentabilidad. La Región 2 tiene un intervalo amplio, pero aún por debajo de la Región 0.\n",
    "\n",
    "Todas las regiones tienen un riesgo de pérdidas de 0%, lo que significa que en ninguna de las simulaciones de bootstrapping se ve un escenario donde se incurra en pérdidas\n",
    "\n",
    "por lo anterior se determinaria que La Región 0 seria la mejor opcion para el desarrollo, ya que tiene el beneficio promedio más alto (39,944,044.81 dolares), un intervalo de confianza que está por encima de los beneficios promedio de las otras dos regiones, y riesgo de pérdidas nulo. lo cual coincide con nuestra eleccion en el paso 4.3 donde se concluyó que la region 0 era la mas rentable."
   ]
  },
  {
   "cell_type": "code",
   "execution_count": null,
   "metadata": {},
   "outputs": [],
   "source": []
  }
 ],
 "metadata": {
  "ExecuteTimeLog": [
   {
    "duration": 840,
    "start_time": "2024-10-04T21:48:33.470Z"
   },
   {
    "duration": 364,
    "start_time": "2024-10-04T22:07:07.657Z"
   },
   {
    "duration": 14,
    "start_time": "2024-10-04T22:07:39.156Z"
   },
   {
    "duration": 14,
    "start_time": "2024-10-04T22:10:29.944Z"
   },
   {
    "duration": 16,
    "start_time": "2024-10-04T22:11:08.268Z"
   },
   {
    "duration": 33,
    "start_time": "2024-10-04T22:33:06.414Z"
   },
   {
    "duration": 9,
    "start_time": "2024-10-04T22:33:13.548Z"
   },
   {
    "duration": 8,
    "start_time": "2024-10-04T22:33:26.599Z"
   },
   {
    "duration": 7,
    "start_time": "2024-10-04T22:33:31.511Z"
   },
   {
    "duration": 30,
    "start_time": "2024-10-04T22:33:43.022Z"
   },
   {
    "duration": 32,
    "start_time": "2024-10-04T22:33:47.439Z"
   },
   {
    "duration": 829,
    "start_time": "2024-10-05T18:10:03.310Z"
   },
   {
    "duration": 367,
    "start_time": "2024-10-05T18:10:04.141Z"
   },
   {
    "duration": 15,
    "start_time": "2024-10-05T18:10:04.510Z"
   },
   {
    "duration": 13,
    "start_time": "2024-10-05T18:10:04.528Z"
   },
   {
    "duration": 12,
    "start_time": "2024-10-05T18:10:04.543Z"
   },
   {
    "duration": 59,
    "start_time": "2024-10-05T18:10:04.558Z"
   },
   {
    "duration": 32,
    "start_time": "2024-10-05T18:11:22.536Z"
   },
   {
    "duration": 30,
    "start_time": "2024-10-05T18:11:38.699Z"
   },
   {
    "duration": 34,
    "start_time": "2024-10-05T18:11:49.142Z"
   },
   {
    "duration": 7,
    "start_time": "2024-10-05T18:12:21.692Z"
   },
   {
    "duration": 8,
    "start_time": "2024-10-05T18:12:30.710Z"
   },
   {
    "duration": 8,
    "start_time": "2024-10-05T18:12:41.406Z"
   },
   {
    "duration": 29,
    "start_time": "2024-10-05T18:13:57.891Z"
   },
   {
    "duration": 24,
    "start_time": "2024-10-05T18:14:32.278Z"
   },
   {
    "duration": 23,
    "start_time": "2024-10-05T18:14:51.478Z"
   },
   {
    "duration": 217,
    "start_time": "2024-10-05T19:03:14.339Z"
   },
   {
    "duration": 4,
    "start_time": "2024-10-05T19:06:39.001Z"
   },
   {
    "duration": 12,
    "start_time": "2024-10-05T19:07:31.887Z"
   },
   {
    "duration": 2,
    "start_time": "2024-10-05T19:13:26.819Z"
   },
   {
    "duration": 4,
    "start_time": "2024-10-05T19:13:46.371Z"
   },
   {
    "duration": 4,
    "start_time": "2024-10-05T19:20:18.715Z"
   },
   {
    "duration": 756,
    "start_time": "2024-10-06T16:11:55.224Z"
   },
   {
    "duration": 345,
    "start_time": "2024-10-06T16:11:55.982Z"
   },
   {
    "duration": 15,
    "start_time": "2024-10-06T16:11:56.328Z"
   },
   {
    "duration": 13,
    "start_time": "2024-10-06T16:11:56.344Z"
   },
   {
    "duration": 12,
    "start_time": "2024-10-06T16:11:56.360Z"
   },
   {
    "duration": 33,
    "start_time": "2024-10-06T16:11:56.373Z"
   },
   {
    "duration": 49,
    "start_time": "2024-10-06T16:11:56.408Z"
   },
   {
    "duration": 31,
    "start_time": "2024-10-06T16:11:56.458Z"
   },
   {
    "duration": 6,
    "start_time": "2024-10-06T16:11:56.491Z"
   },
   {
    "duration": 7,
    "start_time": "2024-10-06T16:11:56.500Z"
   },
   {
    "duration": 35,
    "start_time": "2024-10-06T16:11:56.508Z"
   },
   {
    "duration": 23,
    "start_time": "2024-10-06T16:11:56.545Z"
   },
   {
    "duration": 23,
    "start_time": "2024-10-06T16:11:56.571Z"
   },
   {
    "duration": 21,
    "start_time": "2024-10-06T16:11:56.597Z"
   },
   {
    "duration": 24,
    "start_time": "2024-10-06T16:11:56.620Z"
   },
   {
    "duration": 9,
    "start_time": "2024-10-06T16:11:56.646Z"
   },
   {
    "duration": 10,
    "start_time": "2024-10-06T16:11:56.657Z"
   },
   {
    "duration": 5,
    "start_time": "2024-10-06T16:31:32.185Z"
   },
   {
    "duration": 138,
    "start_time": "2024-10-06T16:32:46.761Z"
   },
   {
    "duration": 5,
    "start_time": "2024-10-06T16:35:44.970Z"
   },
   {
    "duration": 3,
    "start_time": "2024-10-06T16:41:07.647Z"
   },
   {
    "duration": 225,
    "start_time": "2024-10-06T16:41:07.712Z"
   },
   {
    "duration": 15,
    "start_time": "2024-10-06T16:41:07.939Z"
   },
   {
    "duration": 13,
    "start_time": "2024-10-06T16:41:07.955Z"
   },
   {
    "duration": 16,
    "start_time": "2024-10-06T16:41:07.969Z"
   },
   {
    "duration": 71,
    "start_time": "2024-10-06T16:41:07.989Z"
   },
   {
    "duration": 29,
    "start_time": "2024-10-06T16:41:08.062Z"
   },
   {
    "duration": 28,
    "start_time": "2024-10-06T16:41:08.093Z"
   },
   {
    "duration": 25,
    "start_time": "2024-10-06T16:41:08.123Z"
   },
   {
    "duration": 7,
    "start_time": "2024-10-06T16:41:08.150Z"
   },
   {
    "duration": 9,
    "start_time": "2024-10-06T16:41:08.158Z"
   },
   {
    "duration": 23,
    "start_time": "2024-10-06T16:41:08.169Z"
   },
   {
    "duration": 49,
    "start_time": "2024-10-06T16:41:08.194Z"
   },
   {
    "duration": 22,
    "start_time": "2024-10-06T16:41:08.245Z"
   },
   {
    "duration": 4,
    "start_time": "2024-10-06T16:41:08.270Z"
   },
   {
    "duration": 8,
    "start_time": "2024-10-06T16:41:08.276Z"
   },
   {
    "duration": 14,
    "start_time": "2024-10-06T16:41:08.286Z"
   },
   {
    "duration": 6,
    "start_time": "2024-10-06T16:41:08.346Z"
   },
   {
    "duration": 882,
    "start_time": "2024-10-07T20:26:23.523Z"
   },
   {
    "duration": 409,
    "start_time": "2024-10-07T20:26:24.409Z"
   },
   {
    "duration": 15,
    "start_time": "2024-10-07T20:26:24.820Z"
   },
   {
    "duration": 17,
    "start_time": "2024-10-07T20:26:24.838Z"
   },
   {
    "duration": 17,
    "start_time": "2024-10-07T20:26:24.857Z"
   },
   {
    "duration": 63,
    "start_time": "2024-10-07T20:26:24.876Z"
   },
   {
    "duration": 39,
    "start_time": "2024-10-07T20:26:24.941Z"
   },
   {
    "duration": 55,
    "start_time": "2024-10-07T20:26:24.982Z"
   },
   {
    "duration": 8,
    "start_time": "2024-10-07T20:26:25.040Z"
   },
   {
    "duration": 7,
    "start_time": "2024-10-07T20:26:25.051Z"
   },
   {
    "duration": 8,
    "start_time": "2024-10-07T20:26:25.060Z"
   },
   {
    "duration": 61,
    "start_time": "2024-10-07T20:26:25.070Z"
   },
   {
    "duration": 29,
    "start_time": "2024-10-07T20:26:25.134Z"
   },
   {
    "duration": 29,
    "start_time": "2024-10-07T20:26:25.165Z"
   },
   {
    "duration": 12,
    "start_time": "2024-10-07T20:26:25.197Z"
   },
   {
    "duration": 13,
    "start_time": "2024-10-07T20:26:25.211Z"
   },
   {
    "duration": 22,
    "start_time": "2024-10-07T20:26:25.226Z"
   },
   {
    "duration": 60,
    "start_time": "2024-10-07T20:26:25.250Z"
   },
   {
    "duration": 4,
    "start_time": "2024-10-07T20:29:26.727Z"
   },
   {
    "duration": 371,
    "start_time": "2024-10-07T20:29:26.740Z"
   },
   {
    "duration": 18,
    "start_time": "2024-10-07T20:29:27.126Z"
   },
   {
    "duration": 13,
    "start_time": "2024-10-07T20:29:27.146Z"
   },
   {
    "duration": 13,
    "start_time": "2024-10-07T20:29:27.161Z"
   },
   {
    "duration": 47,
    "start_time": "2024-10-07T20:29:27.177Z"
   },
   {
    "duration": 26,
    "start_time": "2024-10-07T20:29:27.226Z"
   },
   {
    "duration": 35,
    "start_time": "2024-10-07T20:29:27.253Z"
   },
   {
    "duration": 24,
    "start_time": "2024-10-07T20:29:27.291Z"
   },
   {
    "duration": 8,
    "start_time": "2024-10-07T20:29:27.317Z"
   },
   {
    "duration": 8,
    "start_time": "2024-10-07T20:29:27.327Z"
   },
   {
    "duration": 23,
    "start_time": "2024-10-07T20:29:27.337Z"
   },
   {
    "duration": 52,
    "start_time": "2024-10-07T20:29:27.361Z"
   },
   {
    "duration": 23,
    "start_time": "2024-10-07T20:29:27.416Z"
   },
   {
    "duration": 2,
    "start_time": "2024-10-07T20:29:27.443Z"
   },
   {
    "duration": 10,
    "start_time": "2024-10-07T20:29:27.448Z"
   },
   {
    "duration": 16,
    "start_time": "2024-10-07T20:29:27.461Z"
   },
   {
    "duration": 10,
    "start_time": "2024-10-07T20:29:27.509Z"
   },
   {
    "duration": 7,
    "start_time": "2024-10-07T20:29:59.200Z"
   },
   {
    "duration": 4,
    "start_time": "2024-10-07T20:47:08.617Z"
   },
   {
    "duration": 15,
    "start_time": "2024-10-07T20:51:14.282Z"
   },
   {
    "duration": 4,
    "start_time": "2024-10-07T21:07:25.760Z"
   },
   {
    "duration": 5,
    "start_time": "2024-10-07T21:08:01.902Z"
   },
   {
    "duration": 4,
    "start_time": "2024-10-07T21:08:18.141Z"
   },
   {
    "duration": 352,
    "start_time": "2024-10-07T21:40:15.797Z"
   },
   {
    "duration": 91,
    "start_time": "2024-10-07T21:40:44.134Z"
   },
   {
    "duration": 111,
    "start_time": "2024-10-07T21:41:37.805Z"
   },
   {
    "duration": 3,
    "start_time": "2024-10-07T23:28:06.064Z"
   },
   {
    "duration": 10,
    "start_time": "2024-10-07T23:30:37.417Z"
   },
   {
    "duration": 4,
    "start_time": "2024-10-08T00:00:26.157Z"
   },
   {
    "duration": 4,
    "start_time": "2024-10-08T00:00:45.781Z"
   },
   {
    "duration": 5,
    "start_time": "2024-10-08T00:00:57.216Z"
   },
   {
    "duration": 5,
    "start_time": "2024-10-08T00:03:36.398Z"
   },
   {
    "duration": 6,
    "start_time": "2024-10-08T00:04:31.471Z"
   },
   {
    "duration": 5,
    "start_time": "2024-10-08T00:04:44.779Z"
   },
   {
    "duration": 3,
    "start_time": "2024-10-08T00:12:04.544Z"
   },
   {
    "duration": 3,
    "start_time": "2024-10-08T00:12:18.266Z"
   },
   {
    "duration": 311,
    "start_time": "2024-10-08T00:44:15.989Z"
   },
   {
    "duration": 53,
    "start_time": "2024-10-08T00:47:30.435Z"
   },
   {
    "duration": 75,
    "start_time": "2024-10-08T00:49:32.739Z"
   },
   {
    "duration": 70,
    "start_time": "2024-10-08T00:50:00.841Z"
   },
   {
    "duration": 114,
    "start_time": "2024-10-08T00:50:07.003Z"
   },
   {
    "duration": 56,
    "start_time": "2024-10-08T00:50:24.963Z"
   },
   {
    "duration": 221,
    "start_time": "2024-10-08T01:01:00.270Z"
   },
   {
    "duration": 272,
    "start_time": "2024-10-08T01:10:07.609Z"
   },
   {
    "duration": 13,
    "start_time": "2024-10-08T01:39:42.449Z"
   },
   {
    "duration": 4,
    "start_time": "2024-10-08T01:39:47.483Z"
   },
   {
    "duration": 4,
    "start_time": "2024-10-08T01:45:03.440Z"
   },
   {
    "duration": 44,
    "start_time": "2024-10-08T02:40:36.290Z"
   },
   {
    "duration": 53,
    "start_time": "2024-10-08T02:41:13.721Z"
   },
   {
    "duration": 15,
    "start_time": "2024-10-08T02:46:09.828Z"
   },
   {
    "duration": 4,
    "start_time": "2024-10-08T02:47:52.394Z"
   },
   {
    "duration": 7,
    "start_time": "2024-10-08T02:48:38.734Z"
   },
   {
    "duration": 7,
    "start_time": "2024-10-08T02:54:57.494Z"
   },
   {
    "duration": 15,
    "start_time": "2024-10-08T02:58:26.264Z"
   },
   {
    "duration": 17,
    "start_time": "2024-10-08T03:09:00.681Z"
   },
   {
    "duration": 16,
    "start_time": "2024-10-08T03:11:47.540Z"
   },
   {
    "duration": 6,
    "start_time": "2024-10-08T03:28:39.288Z"
   },
   {
    "duration": 4,
    "start_time": "2024-10-08T03:41:50.685Z"
   },
   {
    "duration": 746,
    "start_time": "2024-10-08T14:37:02.709Z"
   },
   {
    "duration": 332,
    "start_time": "2024-10-08T14:37:03.457Z"
   },
   {
    "duration": 15,
    "start_time": "2024-10-08T14:37:03.790Z"
   },
   {
    "duration": 18,
    "start_time": "2024-10-08T14:37:03.806Z"
   },
   {
    "duration": 13,
    "start_time": "2024-10-08T14:37:03.826Z"
   },
   {
    "duration": 35,
    "start_time": "2024-10-08T14:37:03.842Z"
   },
   {
    "duration": 46,
    "start_time": "2024-10-08T14:37:03.878Z"
   },
   {
    "duration": 30,
    "start_time": "2024-10-08T14:37:03.926Z"
   },
   {
    "duration": 6,
    "start_time": "2024-10-08T14:37:03.958Z"
   },
   {
    "duration": 7,
    "start_time": "2024-10-08T14:37:03.966Z"
   },
   {
    "duration": 7,
    "start_time": "2024-10-08T14:37:03.974Z"
   },
   {
    "duration": 52,
    "start_time": "2024-10-08T14:37:03.983Z"
   },
   {
    "duration": 21,
    "start_time": "2024-10-08T14:37:04.037Z"
   },
   {
    "duration": 21,
    "start_time": "2024-10-08T14:37:04.060Z"
   },
   {
    "duration": 3,
    "start_time": "2024-10-08T14:37:04.082Z"
   },
   {
    "duration": 8,
    "start_time": "2024-10-08T14:37:04.087Z"
   },
   {
    "duration": 35,
    "start_time": "2024-10-08T14:37:04.097Z"
   },
   {
    "duration": 7,
    "start_time": "2024-10-08T14:37:04.133Z"
   },
   {
    "duration": 4,
    "start_time": "2024-10-08T14:37:04.141Z"
   },
   {
    "duration": 190,
    "start_time": "2024-10-08T14:37:04.146Z"
   },
   {
    "duration": 4,
    "start_time": "2024-10-08T14:37:04.338Z"
   },
   {
    "duration": 5,
    "start_time": "2024-10-08T14:37:04.343Z"
   },
   {
    "duration": 78,
    "start_time": "2024-10-08T14:37:04.349Z"
   },
   {
    "duration": 17,
    "start_time": "2024-10-08T14:37:04.429Z"
   },
   {
    "duration": 5,
    "start_time": "2024-10-08T14:37:04.448Z"
   },
   {
    "duration": 4,
    "start_time": "2024-10-08T14:37:04.454Z"
   },
   {
    "duration": 768,
    "start_time": "2024-10-08T20:41:09.367Z"
   },
   {
    "duration": 351,
    "start_time": "2024-10-08T20:41:10.137Z"
   },
   {
    "duration": 14,
    "start_time": "2024-10-08T20:41:10.490Z"
   },
   {
    "duration": 12,
    "start_time": "2024-10-08T20:41:10.507Z"
   },
   {
    "duration": 12,
    "start_time": "2024-10-08T20:41:10.521Z"
   },
   {
    "duration": 33,
    "start_time": "2024-10-08T20:41:10.536Z"
   },
   {
    "duration": 30,
    "start_time": "2024-10-08T20:41:10.587Z"
   },
   {
    "duration": 31,
    "start_time": "2024-10-08T20:41:10.618Z"
   },
   {
    "duration": 8,
    "start_time": "2024-10-08T20:41:10.651Z"
   },
   {
    "duration": 7,
    "start_time": "2024-10-08T20:41:10.686Z"
   },
   {
    "duration": 7,
    "start_time": "2024-10-08T20:41:10.694Z"
   },
   {
    "duration": 24,
    "start_time": "2024-10-08T20:41:10.703Z"
   },
   {
    "duration": 21,
    "start_time": "2024-10-08T20:41:10.730Z"
   },
   {
    "duration": 46,
    "start_time": "2024-10-08T20:41:10.753Z"
   },
   {
    "duration": 4,
    "start_time": "2024-10-08T20:41:10.801Z"
   },
   {
    "duration": 9,
    "start_time": "2024-10-08T20:41:10.807Z"
   },
   {
    "duration": 13,
    "start_time": "2024-10-08T20:41:10.817Z"
   },
   {
    "duration": 55,
    "start_time": "2024-10-08T20:41:10.832Z"
   },
   {
    "duration": 4,
    "start_time": "2024-10-08T20:41:10.888Z"
   },
   {
    "duration": 195,
    "start_time": "2024-10-08T20:41:10.894Z"
   },
   {
    "duration": 4,
    "start_time": "2024-10-08T20:41:11.091Z"
   },
   {
    "duration": 5,
    "start_time": "2024-10-08T20:41:11.096Z"
   },
   {
    "duration": 94,
    "start_time": "2024-10-08T20:41:11.103Z"
   },
   {
    "duration": 5,
    "start_time": "2024-10-08T20:41:11.199Z"
   },
   {
    "duration": 4,
    "start_time": "2024-10-08T20:41:11.206Z"
   },
   {
    "duration": 4,
    "start_time": "2024-10-08T21:06:05.166Z"
   },
   {
    "duration": 225,
    "start_time": "2024-10-08T21:06:07.453Z"
   },
   {
    "duration": 3,
    "start_time": "2024-10-08T21:07:27.747Z"
   },
   {
    "duration": 4,
    "start_time": "2024-10-08T21:07:39.240Z"
   },
   {
    "duration": 652,
    "start_time": "2024-10-08T21:07:43.359Z"
   },
   {
    "duration": 8,
    "start_time": "2024-10-08T21:08:05.460Z"
   },
   {
    "duration": 668,
    "start_time": "2024-10-08T21:08:24.665Z"
   },
   {
    "duration": 5,
    "start_time": "2024-10-08T21:08:31.176Z"
   },
   {
    "duration": 682,
    "start_time": "2024-10-08T21:12:00.961Z"
   },
   {
    "duration": 3,
    "start_time": "2024-10-08T21:27:14.933Z"
   },
   {
    "duration": 4,
    "start_time": "2024-10-08T21:27:38.064Z"
   },
   {
    "duration": 243,
    "start_time": "2024-10-08T21:27:38.070Z"
   },
   {
    "duration": 14,
    "start_time": "2024-10-08T21:27:38.315Z"
   },
   {
    "duration": 12,
    "start_time": "2024-10-08T21:27:38.332Z"
   },
   {
    "duration": 12,
    "start_time": "2024-10-08T21:27:38.346Z"
   },
   {
    "duration": 52,
    "start_time": "2024-10-08T21:27:38.359Z"
   },
   {
    "duration": 28,
    "start_time": "2024-10-08T21:27:38.413Z"
   },
   {
    "duration": 29,
    "start_time": "2024-10-08T21:27:38.443Z"
   },
   {
    "duration": 7,
    "start_time": "2024-10-08T21:27:38.487Z"
   },
   {
    "duration": 7,
    "start_time": "2024-10-08T21:27:38.496Z"
   },
   {
    "duration": 8,
    "start_time": "2024-10-08T21:27:38.507Z"
   },
   {
    "duration": 22,
    "start_time": "2024-10-08T21:27:38.517Z"
   },
   {
    "duration": 50,
    "start_time": "2024-10-08T21:27:38.541Z"
   },
   {
    "duration": 23,
    "start_time": "2024-10-08T21:27:38.593Z"
   },
   {
    "duration": 3,
    "start_time": "2024-10-08T21:27:38.618Z"
   },
   {
    "duration": 8,
    "start_time": "2024-10-08T21:27:38.623Z"
   },
   {
    "duration": 9,
    "start_time": "2024-10-08T21:27:38.633Z"
   },
   {
    "duration": 43,
    "start_time": "2024-10-08T21:27:38.644Z"
   },
   {
    "duration": 4,
    "start_time": "2024-10-08T21:27:38.689Z"
   },
   {
    "duration": 193,
    "start_time": "2024-10-08T21:27:38.695Z"
   },
   {
    "duration": 7,
    "start_time": "2024-10-08T21:27:38.892Z"
   },
   {
    "duration": 84,
    "start_time": "2024-10-08T21:27:38.903Z"
   },
   {
    "duration": 18,
    "start_time": "2024-10-08T21:27:38.989Z"
   },
   {
    "duration": 5,
    "start_time": "2024-10-08T21:27:39.008Z"
   },
   {
    "duration": 5,
    "start_time": "2024-10-08T21:27:39.015Z"
   },
   {
    "duration": 5,
    "start_time": "2024-10-08T21:27:39.022Z"
   },
   {
    "duration": 741,
    "start_time": "2024-10-08T21:27:39.029Z"
   },
   {
    "duration": 669,
    "start_time": "2024-10-08T22:12:57.508Z"
   },
   {
    "duration": 35,
    "start_time": "2024-10-08T22:32:31.029Z"
   },
   {
    "duration": 637,
    "start_time": "2024-10-08T22:38:20.942Z"
   },
   {
    "duration": 22,
    "start_time": "2024-10-08T22:38:25.681Z"
   },
   {
    "duration": 9,
    "start_time": "2024-10-08T22:49:26.311Z"
   },
   {
    "duration": 714,
    "start_time": "2024-10-08T22:51:49.633Z"
   },
   {
    "duration": 9,
    "start_time": "2024-10-08T22:51:52.628Z"
   },
   {
    "duration": 3,
    "start_time": "2024-10-08T23:04:40.141Z"
   },
   {
    "duration": 10,
    "start_time": "2024-10-08T23:04:53.155Z"
   },
   {
    "duration": 6,
    "start_time": "2024-10-08T23:06:09.697Z"
   },
   {
    "duration": 6,
    "start_time": "2024-10-08T23:09:18.928Z"
   },
   {
    "duration": 3,
    "start_time": "2024-10-08T23:20:41.356Z"
   },
   {
    "duration": 278,
    "start_time": "2024-10-08T23:20:41.369Z"
   },
   {
    "duration": 15,
    "start_time": "2024-10-08T23:20:41.649Z"
   },
   {
    "duration": 20,
    "start_time": "2024-10-08T23:20:41.666Z"
   },
   {
    "duration": 12,
    "start_time": "2024-10-08T23:20:41.688Z"
   },
   {
    "duration": 39,
    "start_time": "2024-10-08T23:20:41.702Z"
   },
   {
    "duration": 46,
    "start_time": "2024-10-08T23:20:41.744Z"
   },
   {
    "duration": 30,
    "start_time": "2024-10-08T23:20:41.792Z"
   },
   {
    "duration": 7,
    "start_time": "2024-10-08T23:20:41.825Z"
   },
   {
    "duration": 8,
    "start_time": "2024-10-08T23:20:41.834Z"
   },
   {
    "duration": 7,
    "start_time": "2024-10-08T23:20:41.843Z"
   },
   {
    "duration": 53,
    "start_time": "2024-10-08T23:20:41.852Z"
   },
   {
    "duration": 25,
    "start_time": "2024-10-08T23:20:41.907Z"
   },
   {
    "duration": 26,
    "start_time": "2024-10-08T23:20:41.933Z"
   },
   {
    "duration": 3,
    "start_time": "2024-10-08T23:20:41.963Z"
   },
   {
    "duration": 10,
    "start_time": "2024-10-08T23:20:41.986Z"
   },
   {
    "duration": 9,
    "start_time": "2024-10-08T23:20:41.997Z"
   },
   {
    "duration": 7,
    "start_time": "2024-10-08T23:20:42.008Z"
   },
   {
    "duration": 4,
    "start_time": "2024-10-08T23:20:42.016Z"
   },
   {
    "duration": 175,
    "start_time": "2024-10-08T23:20:42.024Z"
   },
   {
    "duration": 4,
    "start_time": "2024-10-08T23:20:42.203Z"
   },
   {
    "duration": 78,
    "start_time": "2024-10-08T23:20:42.209Z"
   },
   {
    "duration": 19,
    "start_time": "2024-10-08T23:20:42.289Z"
   },
   {
    "duration": 5,
    "start_time": "2024-10-08T23:20:42.309Z"
   },
   {
    "duration": 4,
    "start_time": "2024-10-08T23:20:42.316Z"
   },
   {
    "duration": 747,
    "start_time": "2024-10-08T23:20:42.322Z"
   },
   {
    "duration": 16,
    "start_time": "2024-10-08T23:20:43.070Z"
   }
  ],
  "kernelspec": {
   "display_name": "Python 3 (ipykernel)",
   "language": "python",
   "name": "python3"
  },
  "language_info": {
   "codemirror_mode": {
    "name": "ipython",
    "version": 3
   },
   "file_extension": ".py",
   "mimetype": "text/x-python",
   "name": "python",
   "nbconvert_exporter": "python",
   "pygments_lexer": "ipython3",
   "version": "3.12.4"
  },
  "toc": {
   "base_numbering": 1,
   "nav_menu": {},
   "number_sections": true,
   "sideBar": true,
   "skip_h1_title": true,
   "title_cell": "Table of Contents",
   "title_sidebar": "Contents",
   "toc_cell": false,
   "toc_position": {},
   "toc_section_display": true,
   "toc_window_display": false
  }
 },
 "nbformat": 4,
 "nbformat_minor": 4
}
