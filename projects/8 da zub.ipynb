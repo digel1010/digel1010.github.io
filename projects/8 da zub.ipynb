{
 "cells": [
  {
   "cell_type": "markdown",
   "metadata": {},
   "source": [
    "# Descripción del proyecto"
   ]
  },
  {
   "cell_type": "markdown",
   "metadata": {},
   "source": [
    "Estás trabajando como analista para Zuber, una nueva empresa de viajes compartidos que se está lanzando en Chicago. Tu tarea es encontrar patrones en la información disponible. Quieres comprender las preferencias de los pasajeros y el impacto de los factores externos en los viajes. Al trabajar con una base de datos, analizarás los datos de los competidores y probarás una hipótesis sobre el impacto del clima en la frecuencia de los viajes."
   ]
  },
  {
   "cell_type": "markdown",
   "metadata": {},
   "source": [
    "## Introducción "
   ]
  },
  {
   "cell_type": "markdown",
   "metadata": {},
   "source": [
    "En el mundo de los viajes compartidos, entender my bien las preferencias de los usuarios y el impacto de factores externos es crucial para el éxito de una nueva empresa. En este proyecto, realizaremos un análisis detallado de los datos disponibles para Zuber, una empresa emergente de viajes compartidos que está a punto de empezar su operación en Chicago.\n",
    "\n",
    "El objetivo principal es descubrir patrones significativos en los datos para mejorar la estrategia empresarial. Este proyecto se centrará en la comprensión de las preferencias de los pasajeros y el impacto que tienen los factores externos en cada uno de los viajes.\n",
    "\n"
   ]
  },
  {
   "cell_type": "markdown",
   "metadata": {},
   "source": [
    "### Inicialización"
   ]
  },
  {
   "cell_type": "code",
   "execution_count": 1,
   "metadata": {},
   "outputs": [],
   "source": [
    "# Cargar todas las librerías que creemos vamos a utilizar\n",
    "import pandas as pd\n",
    "import numpy as np\n",
    "from matplotlib import pyplot as plt\n",
    "from scipy import stats as st\n",
    "import seaborn as sns"
   ]
  },
  {
   "cell_type": "markdown",
   "metadata": {},
   "source": [
    "### Cargar datos"
   ]
  },
  {
   "cell_type": "code",
   "execution_count": 2,
   "metadata": {},
   "outputs": [],
   "source": [
    "# cargamos todos los archivos de datos en un dataframe diferente \n",
    "\n",
    "company_df = pd.read_csv('/datasets/project_sql_result_01.csv')\n",
    "neighborhoods_df = pd.read_csv('/datasets/project_sql_result_04.csv')\n",
    "trips_df = pd.read_csv('/datasets/project_sql_result_07.csv')\n"
   ]
  },
  {
   "cell_type": "markdown",
   "metadata": {},
   "source": [
    "## Análisis exploratorio de datos (Python)"
   ]
  },
  {
   "cell_type": "code",
   "execution_count": 3,
   "metadata": {},
   "outputs": [
    {
     "name": "stdout",
     "output_type": "stream",
     "text": [
      "<class 'pandas.core.frame.DataFrame'>\n",
      "RangeIndex: 64 entries, 0 to 63\n",
      "Data columns (total 2 columns):\n",
      " #   Column        Non-Null Count  Dtype \n",
      "---  ------        --------------  ----- \n",
      " 0   company_name  64 non-null     object\n",
      " 1   trips_amount  64 non-null     int64 \n",
      "dtypes: int64(1), object(1)\n",
      "memory usage: 1.1+ KB\n"
     ]
    }
   ],
   "source": [
    "#mostramos la informacion del dataframe company_df con el metodo info()\n",
    "company_df.info()"
   ]
  },
  {
   "cell_type": "code",
   "execution_count": 4,
   "metadata": {},
   "outputs": [
    {
     "name": "stdout",
     "output_type": "stream",
     "text": [
      "<class 'pandas.core.frame.DataFrame'>\n",
      "RangeIndex: 94 entries, 0 to 93\n",
      "Data columns (total 2 columns):\n",
      " #   Column                 Non-Null Count  Dtype  \n",
      "---  ------                 --------------  -----  \n",
      " 0   dropoff_location_name  94 non-null     object \n",
      " 1   average_trips          94 non-null     float64\n",
      "dtypes: float64(1), object(1)\n",
      "memory usage: 1.6+ KB\n"
     ]
    }
   ],
   "source": [
    "#mostramos la informacion del dataframe neighborhoods_df con el metodo info()\n",
    "neighborhoods_df.info()"
   ]
  },
  {
   "cell_type": "code",
   "execution_count": 5,
   "metadata": {},
   "outputs": [
    {
     "name": "stdout",
     "output_type": "stream",
     "text": [
      "<class 'pandas.core.frame.DataFrame'>\n",
      "RangeIndex: 1068 entries, 0 to 1067\n",
      "Data columns (total 3 columns):\n",
      " #   Column              Non-Null Count  Dtype  \n",
      "---  ------              --------------  -----  \n",
      " 0   start_ts            1068 non-null   object \n",
      " 1   weather_conditions  1068 non-null   object \n",
      " 2   duration_seconds    1068 non-null   float64\n",
      "dtypes: float64(1), object(2)\n",
      "memory usage: 25.2+ KB\n"
     ]
    }
   ],
   "source": [
    "#mostramos la informacion del dataframe trips_df con el metodo info()\n",
    "trips_df.info()"
   ]
  },
  {
   "cell_type": "code",
   "execution_count": 6,
   "metadata": {},
   "outputs": [
    {
     "name": "stdout",
     "output_type": "stream",
     "text": [
      "                      company_name  trips_amount\n",
      "0                        Flash Cab         19558\n",
      "1        Taxi Affiliation Services         11422\n",
      "2                Medallion Leasing         10367\n",
      "3                       Yellow Cab          9888\n",
      "4  Taxi Affiliation Service Yellow          9299\n"
     ]
    }
   ],
   "source": [
    "#Mostramos la primeras filas del dataframe company_df\n",
    "\n",
    "print(company_df.head())"
   ]
  },
  {
   "cell_type": "code",
   "execution_count": 7,
   "metadata": {},
   "outputs": [
    {
     "name": "stdout",
     "output_type": "stream",
     "text": [
      "  dropoff_location_name  average_trips\n",
      "0                  Loop   10727.466667\n",
      "1           River North    9523.666667\n",
      "2         Streeterville    6664.666667\n",
      "3             West Loop    5163.666667\n",
      "4                O'Hare    2546.900000\n"
     ]
    }
   ],
   "source": [
    "#Mostramos la primeras filas del dataframe neighborhoods_df\n",
    "\n",
    "print(neighborhoods_df.head())"
   ]
  },
  {
   "cell_type": "code",
   "execution_count": 8,
   "metadata": {},
   "outputs": [
    {
     "name": "stdout",
     "output_type": "stream",
     "text": [
      "              start_ts weather_conditions  duration_seconds\n",
      "0  2017-11-25 16:00:00               Good            2410.0\n",
      "1  2017-11-25 14:00:00               Good            1920.0\n",
      "2  2017-11-25 12:00:00               Good            1543.0\n",
      "3  2017-11-04 10:00:00               Good            2512.0\n",
      "4  2017-11-11 07:00:00               Good            1440.0\n"
     ]
    }
   ],
   "source": [
    "#Mostramos la primeras filas del dataframe trips_df\n",
    "print(trips_df.head())"
   ]
  },
  {
   "cell_type": "code",
   "execution_count": 9,
   "metadata": {},
   "outputs": [
    {
     "name": "stdout",
     "output_type": "stream",
     "text": [
      "<class 'pandas.core.frame.DataFrame'>\n",
      "RangeIndex: 1068 entries, 0 to 1067\n",
      "Data columns (total 3 columns):\n",
      " #   Column              Non-Null Count  Dtype         \n",
      "---  ------              --------------  -----         \n",
      " 0   start_ts            1068 non-null   datetime64[ns]\n",
      " 1   weather_conditions  1068 non-null   object        \n",
      " 2   duration_seconds    1068 non-null   float64       \n",
      "dtypes: datetime64[ns](1), float64(1), object(1)\n",
      "memory usage: 25.2+ KB\n"
     ]
    }
   ],
   "source": [
    "# transformamos la columna start_ts de la tabla trips_df en tipo datetime con el metodo to_datetime()\n",
    "\n",
    "trips_df['start_ts'] = pd.to_datetime(trips_df['start_ts'], format= '%Y-%m-%dT%H:%M:%S')\n",
    "\n",
    "#confirmamos el cambio del tipo de datos\n",
    "trips_df.info()"
   ]
  },
  {
   "cell_type": "markdown",
   "metadata": {},
   "source": [
    "### Duplicados"
   ]
  },
  {
   "cell_type": "code",
   "execution_count": 10,
   "metadata": {},
   "outputs": [
    {
     "name": "stdout",
     "output_type": "stream",
     "text": [
      "0\n",
      "0\n",
      "197\n"
     ]
    }
   ],
   "source": [
    "#validamos si tenemos duplicados en los dataframes con el metodo duplicated()\n",
    "print(company_df.duplicated().sum())\n",
    "print(neighborhoods_df.duplicated().sum())\n",
    "print(trips_df.duplicated().sum())"
   ]
  },
  {
   "cell_type": "code",
   "execution_count": 11,
   "metadata": {},
   "outputs": [
    {
     "name": "stdout",
     "output_type": "stream",
     "text": [
      "                start_ts weather_conditions  duration_seconds\n",
      "62   2017-11-11 06:00:00               Good            1260.0\n",
      "74   2017-11-11 08:00:00               Good            1380.0\n",
      "76   2017-11-04 09:00:00               Good            1380.0\n",
      "117  2017-11-11 07:00:00               Good            1380.0\n",
      "119  2017-11-04 14:00:00               Good            3300.0\n",
      "...                  ...                ...               ...\n",
      "1054 2017-11-11 07:00:00               Good            1380.0\n",
      "1058 2017-11-25 12:00:00               Good            1440.0\n",
      "1062 2017-11-11 06:00:00               Good            1500.0\n",
      "1065 2017-11-11 13:00:00               Good            2100.0\n",
      "1066 2017-11-11 08:00:00               Good            1380.0\n",
      "\n",
      "[197 rows x 3 columns]\n"
     ]
    }
   ],
   "source": [
    "# revisamos los duplicados de la tabla trips_df\n",
    "\n",
    "print(trips_df[trips_df.duplicated()])"
   ]
  },
  {
   "cell_type": "markdown",
   "metadata": {},
   "source": [
    "se evidencian datos duplicados en la tabla trips_df, sin embargo, no se procede a eliminar dichos datos ya que esta tabla contiene datos sobre viajes desde el loop hasta el aeropuerto, por lo cual se pueden haber tomado servicio a la misma hora diferentes personas"
   ]
  },
  {
   "cell_type": "markdown",
   "metadata": {},
   "source": [
    "### Valoress ausentes"
   ]
  },
  {
   "cell_type": "code",
   "execution_count": 12,
   "metadata": {},
   "outputs": [
    {
     "name": "stdout",
     "output_type": "stream",
     "text": [
      "company_name    0\n",
      "trips_amount    0\n",
      "dtype: int64\n",
      "\n",
      "dropoff_location_name    0\n",
      "average_trips            0\n",
      "dtype: int64\n",
      "\n",
      "start_ts              0\n",
      "weather_conditions    0\n",
      "duration_seconds      0\n",
      "dtype: int64\n"
     ]
    }
   ],
   "source": [
    "# Validamos si tenemos valores ausentes en los dataframes con el metodo isna()\n",
    "\n",
    "print(company_df.isna().sum())\n",
    "print()\n",
    "print(neighborhoods_df.isna().sum())\n",
    "print()\n",
    "print(trips_df.isna().sum())"
   ]
  },
  {
   "cell_type": "markdown",
   "metadata": {},
   "source": [
    "### Principales Barrios"
   ]
  },
  {
   "cell_type": "code",
   "execution_count": 13,
   "metadata": {},
   "outputs": [
    {
     "name": "stdout",
     "output_type": "stream",
     "text": [
      "  dropoff_location_name  average_trips\n",
      "0                  Loop   10727.466667\n",
      "1           River North    9523.666667\n",
      "2         Streeterville    6664.666667\n",
      "3             West Loop    5163.666667\n",
      "4                O'Hare    2546.900000\n",
      "5             Lake View    2420.966667\n",
      "6            Grant Park    2068.533333\n",
      "7         Museum Campus    1510.000000\n",
      "8            Gold Coast    1364.233333\n",
      "9    Sheffield & DePaul    1259.766667\n"
     ]
    }
   ],
   "source": [
    "#ordenamos el dataframe neighborhoods_df por la columna average_trips con el metodo sort_values\n",
    "\n",
    "top_10_neigborhoods = neighborhoods_df.sort_values('average_trips', ascending= False).head(10)\n",
    "\n",
    "print(top_10_neigborhoods)"
   ]
  },
  {
   "cell_type": "code",
   "execution_count": 14,
   "metadata": {},
   "outputs": [
    {
     "data": {
      "image/png": "[encoded data removed]",
      "text/plain": [
       "<Figure size 1000x600 with 1 Axes>"
      ]
     },
     "metadata": {},
     "output_type": "display_data"
    }
   ],
   "source": [
    "# Generamos un grafico de la anterior tabla para visualizar los datos\n",
    "\n",
    "plt.figure(figsize=(10, 6))\n",
    "sns.barplot(data=top_10_neigborhoods, x='dropoff_location_name', y='average_trips')\n",
    "plt.title('Top 10 barrios por finalización de viajes en noviembre de 2017')\n",
    "plt.xticks(rotation=90)\n",
    "plt.xlabel('Barrios')\n",
    "plt.ylabel('Promedio del numero de viajes')\n",
    "plt.show()"
   ]
  },
  {
   "cell_type": "markdown",
   "metadata": {},
   "source": [
    "### Principales empresas"
   ]
  },
  {
   "cell_type": "code",
   "execution_count": 15,
   "metadata": {},
   "outputs": [
    {
     "name": "stdout",
     "output_type": "stream",
     "text": [
      "                        company_name  trips_amount\n",
      "0                          Flash Cab         19558\n",
      "1          Taxi Affiliation Services         11422\n",
      "2                  Medallion Leasing         10367\n",
      "3                         Yellow Cab          9888\n",
      "4    Taxi Affiliation Service Yellow          9299\n",
      "5          Chicago Carriage Cab Corp          9181\n",
      "6                       City Service          8448\n",
      "7                           Sun Taxi          7701\n",
      "8          Star North Management LLC          7455\n",
      "9  Blue Ribbon Taxi Association Inc.          5953\n"
     ]
    }
   ],
   "source": [
    "#ordenamos el dataframe company_df por la columna trips_amount con el metodo sort_values\n",
    "\n",
    "top_10_companies = company_df.sort_values('trips_amount', ascending= False).head(10)\n",
    "\n",
    "print(top_10_companies)"
   ]
  },
  {
   "cell_type": "code",
   "execution_count": 16,
   "metadata": {},
   "outputs": [
    {
     "data": {
      "image/png": "[encoded data removed]",
      "text/plain": [
       "<Figure size 1000x600 with 1 Axes>"
      ]
     },
     "metadata": {},
     "output_type": "display_data"
    }
   ],
   "source": [
    "# Generamos un grafico de la anterior tabla para visualizar los datos\n",
    "\n",
    "plt.figure(figsize=(10, 6))\n",
    "sns.barplot(data=top_10_companies, x='company_name', y='trips_amount')\n",
    "plt.title('Top 10 empresas de taxi por numero de viajes entre el 15 y 16 de noviembre de 2017')\n",
    "plt.xticks(rotation=90)\n",
    "plt.xlabel('Empresas de taxi')\n",
    "plt.ylabel('Numero de viajes')\n",
    "plt.show()"
   ]
  },
  {
   "cell_type": "markdown",
   "metadata": {},
   "source": [
    "Los datos muestran que los barrios centrales de Chicago, como Loop, River North, y Streeterville, son los destinos más comunes para las finalizaciones de viajes, con Loop liderando ampliamente con un promedio de 10.727 viajes. Esto indicaria que las áreas céntricas y aquellas con alta densidad de actividades comerciales, culturales y de entretenimiento tienen una mayor demanda de servicios de transporte. \n",
    "\n",
    "Por la parte de las empresas vemos que Flash Cab domina el mercado ampliamente, seguido por Taxi Affiliation Services y Medallion Leasing. Estas empresas han logrado capturar una parte significativa de la demanda, probablemente gracias a su disponibilidad, reconocimiento de marca, y quizás una gran cantidad de vehículos. de igual forma vemos un mercado diversificado ya que hay varias empresas con un numero considerable de viajes."
   ]
  },
  {
   "cell_type": "markdown",
   "metadata": {},
   "source": [
    "## Prueba de hipótesis (Python)"
   ]
  },
  {
   "cell_type": "markdown",
   "metadata": {},
   "source": [
    "### Hipótesis de la duración de los viajes los sábados lluviosos"
   ]
  },
  {
   "cell_type": "code",
   "execution_count": 26,
   "metadata": {
    "scrolled": true
   },
   "outputs": [],
   "source": [
    "\n",
    "# Hipotesis Nula(Ho): \"La duración promedio de los viajes desde el Loop hasta el Aeropuerto Internacional O'Hare no cambia los sábados lluviosos\".\n",
    "\n",
    "# Hipotesis Alternativa(H1): \"La duración promedio de los viajes desde el Loop hasta el Aeropuerto Internacional O'Hare si cambia los sábados lluviosos\"\n",
    "\n",
    "\n",
    "# filtramos los datos para los dias sabados.\n",
    "trips_df['day_of_week'] = trips_df['start_ts'].dt.day_name() # creamos una nueva columna llamada day_of_week con el metodo .dt\n",
    "\n",
    "saturdays_trips = trips_df[trips_df['day_of_week'] == 'Saturday']\n",
    "\n",
    "#ahora filtramos las duraciones para los dias sabados lluviosos\n",
    "rainy_saturdays = saturdays_trips[saturdays_trips['weather_conditions'] == 'Bad']['duration_seconds']\n",
    "\n",
    "#ahora filtramos las duraciones para los dias sabados no lluviosos\n",
    "no_rainy_saturdays = saturdays_trips[saturdays_trips['weather_conditions'] != 'Bad']['duration_seconds']\n"
   ]
  },
  {
   "cell_type": "code",
   "execution_count": 28,
   "metadata": {},
   "outputs": [
    {
     "name": "stdout",
     "output_type": "stream",
     "text": [
      "No hay evidencia suficiente para decir que las varianzas son diferentes. Usaremos equal_var=True en la prueba t.\n"
     ]
    }
   ],
   "source": [
    "\n",
    "#Realizamos la prueba de Levene para evaluar la igualdad de las varianzas\n",
    "levene_stat, levene_p = st.levene(rainy_saturdays, no_rainy_saturdays)\n",
    "# Decidimos si usamos equal_var=True o False según el resultado de la prueba de Levene\n",
    "if levene_p < 0.05:\n",
    "    equal_var = False\n",
    "    print(\"Las varianzas son significativamente diferentes. Usaremos equal_var=False en la prueba t.\")\n",
    "else:\n",
    "    equal_var = True\n",
    "    print(\"No hay evidencia suficiente para decir que las varianzas son diferentes. Usaremos equal_var=True en la prueba t.\")"
   ]
  },
  {
   "cell_type": "code",
   "execution_count": 31,
   "metadata": {},
   "outputs": [
    {
     "name": "stdout",
     "output_type": "stream",
     "text": [
      "valor p:  6.517970327099473e-12\n",
      "Rechazamos la hipótesis nula, La duración promedio de los viajes cambia en los sábados lluviosos\n"
     ]
    }
   ],
   "source": [
    "#realizamos la prueba t para probar la hipotesis\n",
    "alpha = 0.05 # colocamos el nivel de significancia estadística crítica, si el valor p es menor que alpha, rechazamos la hipótesis\n",
    "\n",
    "results = st.ttest_ind(rainy_saturdays, no_rainy_saturdays, equal_var = equal_var)\n",
    "print('valor p: ', results.pvalue) # extraer el valor p\n",
    "\n",
    "if results.pvalue < alpha: # comparamos el valor p con alpha\n",
    "    print(\"Rechazamos la hipótesis nula, La duración promedio de los viajes cambia en los sábados lluviosos\")\n",
    "else:\n",
    "    print(\"No podemos rechazar la hipótesis nula, No hay evidencia suficiente para decir que la duración promedio de los viajes cambia en los sábados lluviosos\")"
   ]
  },
  {
   "cell_type": "markdown",
   "metadata": {},
   "source": [
    "Se plantea la hipotesis nula y alternativa con base en si cambia la duracion de los viajes debido a si el dia es lluvioso o no. utilizamos la prueba t donde evaluamos dos muestras (dias sabados lluviosos y dias sabados no lluviosos) donde se utiliza el valor p para determinar si rechazamos o no la hipotesis. Con lo anterior obtenemos que rechazamos la hipotesis nula y nos indica que la duracion promedio de los viajes si cambia en los sabados lluviosos."
   ]
  },
  {
   "cell_type": "markdown",
   "metadata": {},
   "source": [
    "## Conclusiones"
   ]
  },
  {
   "cell_type": "markdown",
   "metadata": {},
   "source": [
    "Las empresas con alta disponibilidad, buen posicionamiento de marca y gran flota de vehículos son las que abarcan la mayor cantidad de la demanda de taxis, como lo vemos con la grafica de las empresas de taxis. lo anterior ya que es muy probable que con dichas características han obtenido la mayoría de viajes en taxis. sin embargo, las demás empresas también cuentan con una cantidad de viajes significativo lo que nos indica que hay un mercado muy diverso.\n",
    "\n",
    "Las áreas céntricas y comerciales son las que mayor movimiento tienen por lo cual la demanda de taxis es muy grande. lo anterior lo confirma la gran cantidad de viajes que se realizan a los barrios centrales de la ciudad.\n",
    "\n",
    "De acuerdo al resultado de la prueba de hipótesis, evidenciamos que la duración promedio de los viajes desde el Loop al aeropuerto de O'Hare cambia en los sábados lluviosos, lo que indicaría que la lluvia tiene un impacto importante en el tiempo que demora un viaje en completarse, lo anterior puede deberse a condiciones de trafico, mas precaución por parte del conductor o rutas alternas. Esta información podría ser de gran importancia para la empresa Zuber con el fin de ajustar cantidad de vehículos para días lluviosos o un posible cambio de tarifas para suplir las dificultades en días lluviosos."
   ]
  }
 ],
 "metadata": {
  "ExecuteTimeLog": [
   {
    "duration": 2536,
    "start_time": "2024-08-30T20:20:24.757Z"
   },
   {
    "duration": 30,
    "start_time": "2024-08-30T20:30:40.757Z"
   },
   {
    "duration": 9,
    "start_time": "2024-08-30T20:32:34.655Z"
   },
   {
    "duration": 8,
    "start_time": "2024-08-30T20:32:39.258Z"
   },
   {
    "duration": 8,
    "start_time": "2024-08-30T20:32:44.761Z"
   },
   {
    "duration": 5,
    "start_time": "2024-08-30T20:35:00.730Z"
   },
   {
    "duration": 4,
    "start_time": "2024-08-30T20:41:35.174Z"
   },
   {
    "duration": 4,
    "start_time": "2024-08-30T20:43:39.250Z"
   },
   {
    "duration": 221,
    "start_time": "2024-08-30T20:53:03.212Z"
   },
   {
    "duration": 16,
    "start_time": "2024-08-30T20:54:13.096Z"
   },
   {
    "duration": 7,
    "start_time": "2024-08-30T20:57:07.775Z"
   },
   {
    "duration": 4,
    "start_time": "2024-08-30T21:01:15.477Z"
   },
   {
    "duration": 10,
    "start_time": "2024-08-30T21:01:33.875Z"
   },
   {
    "duration": 11,
    "start_time": "2024-08-30T21:01:46.092Z"
   },
   {
    "duration": 10,
    "start_time": "2024-08-30T21:02:12.569Z"
   },
   {
    "duration": 4,
    "start_time": "2024-08-30T21:09:40.757Z"
   },
   {
    "duration": 4,
    "start_time": "2024-08-30T21:11:06.906Z"
   },
   {
    "duration": 8,
    "start_time": "2024-08-30T21:15:30.569Z"
   },
   {
    "duration": 8,
    "start_time": "2024-08-30T21:17:29.778Z"
   },
   {
    "duration": 8,
    "start_time": "2024-08-30T21:19:40.230Z"
   },
   {
    "duration": 8,
    "start_time": "2024-08-30T21:19:55.516Z"
   },
   {
    "duration": 11,
    "start_time": "2024-08-30T21:26:46.449Z"
   },
   {
    "duration": 11,
    "start_time": "2024-08-30T21:27:10.204Z"
   },
   {
    "duration": 9,
    "start_time": "2024-08-30T21:27:37.971Z"
   },
   {
    "duration": 5,
    "start_time": "2024-08-30T21:27:43.352Z"
   },
   {
    "duration": 7,
    "start_time": "2024-08-30T21:28:14.351Z"
   },
   {
    "duration": 6,
    "start_time": "2024-08-30T21:52:09.827Z"
   },
   {
    "duration": 7,
    "start_time": "2024-08-30T21:52:35.224Z"
   },
   {
    "duration": 6,
    "start_time": "2024-08-30T22:10:35.110Z"
   },
   {
    "duration": 5,
    "start_time": "2024-08-30T22:10:44.133Z"
   },
   {
    "duration": 5,
    "start_time": "2024-08-30T22:11:00.666Z"
   },
   {
    "duration": 5,
    "start_time": "2024-08-30T22:11:13.949Z"
   },
   {
    "duration": 137,
    "start_time": "2024-08-30T22:30:17.574Z"
   },
   {
    "duration": 279,
    "start_time": "2024-08-30T22:32:02.844Z"
   },
   {
    "duration": 351,
    "start_time": "2024-08-30T22:34:48.884Z"
   },
   {
    "duration": 305,
    "start_time": "2024-08-30T22:35:00.740Z"
   },
   {
    "duration": 302,
    "start_time": "2024-08-30T22:36:10.120Z"
   },
   {
    "duration": 299,
    "start_time": "2024-08-30T22:38:01.275Z"
   },
   {
    "duration": 312,
    "start_time": "2024-08-30T22:40:56.632Z"
   },
   {
    "duration": 162,
    "start_time": "2024-08-30T22:41:59.707Z"
   },
   {
    "duration": 231,
    "start_time": "2024-08-30T22:43:29.456Z"
   },
   {
    "duration": 155,
    "start_time": "2024-08-30T22:43:50.653Z"
   },
   {
    "duration": 20,
    "start_time": "2024-08-30T22:47:07.143Z"
   },
   {
    "duration": 5,
    "start_time": "2024-08-30T22:47:19.959Z"
   },
   {
    "duration": 201,
    "start_time": "2024-08-30T22:49:22.427Z"
   },
   {
    "duration": 233,
    "start_time": "2024-08-30T23:09:44.834Z"
   },
   {
    "duration": 188,
    "start_time": "2024-08-30T23:09:54.810Z"
   },
   {
    "duration": 2536,
    "start_time": "2024-09-02T20:52:30.611Z"
   },
   {
    "duration": 23,
    "start_time": "2024-09-02T20:52:33.149Z"
   },
   {
    "duration": 10,
    "start_time": "2024-09-02T20:52:33.173Z"
   },
   {
    "duration": 8,
    "start_time": "2024-09-02T20:52:33.184Z"
   },
   {
    "duration": 8,
    "start_time": "2024-09-02T20:52:33.195Z"
   },
   {
    "duration": 5,
    "start_time": "2024-09-02T20:52:33.205Z"
   },
   {
    "duration": 22,
    "start_time": "2024-09-02T20:52:33.211Z"
   },
   {
    "duration": 4,
    "start_time": "2024-09-02T20:52:33.235Z"
   },
   {
    "duration": 9,
    "start_time": "2024-09-02T20:52:33.240Z"
   },
   {
    "duration": 7,
    "start_time": "2024-09-02T20:52:33.251Z"
   },
   {
    "duration": 7,
    "start_time": "2024-09-02T20:52:33.259Z"
   },
   {
    "duration": 5,
    "start_time": "2024-09-02T20:52:33.268Z"
   },
   {
    "duration": 5,
    "start_time": "2024-09-02T20:52:33.275Z"
   },
   {
    "duration": 213,
    "start_time": "2024-09-02T20:52:33.283Z"
   },
   {
    "duration": 5,
    "start_time": "2024-09-02T20:52:33.498Z"
   },
   {
    "duration": 227,
    "start_time": "2024-09-02T20:52:33.505Z"
   },
   {
    "duration": 7,
    "start_time": "2024-09-02T21:43:54.302Z"
   },
   {
    "duration": 8,
    "start_time": "2024-09-02T21:44:08.376Z"
   },
   {
    "duration": 9,
    "start_time": "2024-09-02T21:58:10.345Z"
   },
   {
    "duration": 16,
    "start_time": "2024-09-02T21:58:31.512Z"
   },
   {
    "duration": 10,
    "start_time": "2024-09-02T21:59:48.107Z"
   },
   {
    "duration": 6,
    "start_time": "2024-09-02T22:46:10.545Z"
   },
   {
    "duration": 4,
    "start_time": "2024-09-02T22:50:26.889Z"
   },
   {
    "duration": 8,
    "start_time": "2024-09-02T22:52:15.422Z"
   },
   {
    "duration": 8,
    "start_time": "2024-09-02T22:55:13.444Z"
   },
   {
    "duration": 6,
    "start_time": "2024-09-02T22:55:58.785Z"
   },
   {
    "duration": 7,
    "start_time": "2024-09-02T22:57:29.514Z"
   },
   {
    "duration": 5,
    "start_time": "2024-09-02T22:58:12.337Z"
   },
   {
    "duration": 5,
    "start_time": "2024-09-02T23:05:14.888Z"
   },
   {
    "duration": 5,
    "start_time": "2024-09-02T23:06:12.278Z"
   },
   {
    "duration": 4,
    "start_time": "2024-09-02T23:06:23.933Z"
   }
  ],
  "kernelspec": {
   "display_name": "Python 3 (ipykernel)",
   "language": "python",
   "name": "python3"
  },
  "language_info": {
   "codemirror_mode": {
    "name": "ipython",
    "version": 3
   },
   "file_extension": ".py",
   "mimetype": "text/x-python",
   "name": "python",
   "nbconvert_exporter": "python",
   "pygments_lexer": "ipython3",
   "version": "3.12.4"
  },
  "toc": {
   "base_numbering": 1,
   "nav_menu": {},
   "number_sections": true,
   "sideBar": true,
   "skip_h1_title": true,
   "title_cell": "Table of Contents",
   "title_sidebar": "Contents",
   "toc_cell": false,
   "toc_position": {},
   "toc_section_display": true,
   "toc_window_display": false
  }
 },
 "nbformat": 4,
 "nbformat_minor": 4
}
