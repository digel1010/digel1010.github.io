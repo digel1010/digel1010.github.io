{
 "cells": [
  {
   "cell_type": "markdown",
   "metadata": {
    "id": "fhq_eyov_Zcs"
   },
   "source": [
    "# Contenido <a id='back'></a>\n",
    "\n",
    "* [Introducción](#intro)\n",
    "* [Etapa 1. Descripción de los datos](#data_review)\n",
    "    * [Conclusiones](#data_review_conclusions)\n",
    "* [Etapa 2. Preprocesamiento de datos](#data_preprocessing)\n",
    "    * [2.1 Estilo del encabezado](#header_style)\n",
    "    * [2.2 Valores ausentes](#missing_values)\n",
    "    * [2.3 Duplicados](#duplicates)\n",
    "    * [2.4 Conclusiones](#data_preprocessing_conclusions)\n",
    "* [Etapa 3. Prueba de hipótesis](#hypothesis)\n",
    "    * [3.1 Hipótesis 1: actividad de los usuarios y las usuarias en las dos ciudades](#activity)\n",
    "* [Conclusiones](#end)"
   ]
  },
  {
   "cell_type": "markdown",
   "metadata": {},
   "source": [
    "# Descripción del proyecto\n",
    "\n",
    "En el contexto de este proyecto, se probará una hipótesis relacionada con las preferencias musicales de dos ciudades. Esto se hará mediante el análisis de datos reales de transmisión de música online para probar la hipótesis a continuación y comparar el comportamiento de los usuarios de estas dos ciudades.\r\n",
    "\r\n",
    "Esto implicará analizar los datos reales de transmisión de música online para comparar el comportamiento de los usuarios en Springfield y Shelbyville. El proyecto se divide en tres etapas, cada una con objetivos específicos.\r\n",
    "\r\n",
    "En la etapa 1, proporcionarás una descripción general de los dones. En la etapase  2, preprocearás los datos al limpiarlos. Finalmente, en la etapase  3, podrás a prueba la hipótesis siguiendo los pasos de programación necesarios para probar cada declaración y comentalos tus result.dos."
   ]
  },
  {
   "cell_type": "markdown",
   "metadata": {
    "id": "VUC88oWjTJw2"
   },
   "source": [
    "## Introducción <a id='intro'></a>\n",
    "El trabajo consiste en analizar datos para extraer información valiosa y tomar decisiones basadas en ellos. Esto implica diferentes etapas, como la descripción general de los datos, el preprocesamiento y la prueba de hipótesis.\n",
    "\n",
    "Siempre que investigamos, necesitamos formular hipótesis que después podamos probar. A veces aceptamos estas hipótesis; otras veces, las rechazamos. Para tomar las decisiones correctas, una empresa debe ser capaz de entender si está haciendo las suposiciones correctas.\n",
    "\n",
    "En este proyecto, se compara las preferencias musicales de las ciudades de Springfield y Shelbyville. Se estudiará datos reales de transmisión de música online para probar la hipótesis a continuación y comparar el comportamiento de los usuarios y las usuarias de estas dos ciudades.\n",
    "\n",
    "### Objetivo:\n",
    "Prueba la hipótesis:\n",
    "1. La actividad de los usuarios y las usuarias difiere según el día de la semana y dependiendo de la ciudad.\n",
    "\n",
    "\n",
    "### Etapas\n",
    "Los datos del comportamiento del usuario se almacenan en el archivo `/datasets/music_project_en.csv`. No hay ninguna información sobre la calidad de los datos, así que se examinarán antes de probar la hipótesis.\n",
    "\n",
    "Primero, se evaluará la calidad de los datos y veremos si los problemas son significativos. Entonces, durante el preprocesamiento de datos, se tomará en cuenta los problemas más críticos.\n",
    "\n",
    "El proyecto consistirá en tres etapas:\n",
    " 1. Descripción de los datos.\n",
    " 2. Preprocesamiento de datos.\n",
    " 3. Prueba de hipótesis.\n",
    "\n",
    "\n",
    "\n",
    "\n",
    "\n",
    "\n"
   ]
  },
  {
   "cell_type": "markdown",
   "metadata": {
    "id": "hDt6pg-Rw-1U"
   },
   "source": [
    "[Volver a Contenidos](#back)"
   ]
  },
  {
   "cell_type": "markdown",
   "metadata": {
    "id": "Ml1hmfXC_Zcs"
   },
   "source": [
    "## Etapa 1. Descripción de los datos <a id='data_review'></a>\n"
   ]
  },
  {
   "cell_type": "code",
   "execution_count": 98,
   "metadata": {
    "id": "AXN7PHPN_Zcs"
   },
   "outputs": [],
   "source": [
    "# Importar pandas\n",
    "import pandas as pd"
   ]
  },
  {
   "cell_type": "code",
   "execution_count": 99,
   "metadata": {
    "id": "fFVu7vqh_Zct"
   },
   "outputs": [],
   "source": [
    "# Leer el archivo y almacenarlo\n",
    "df = pd.read_csv('/datasets/music_project_en.csv')   # colocamos como argumento la ruta del archivo."
   ]
  },
  {
   "cell_type": "code",
   "execution_count": 100,
   "metadata": {
    "id": "oWTVX3gW_Zct"
   },
   "outputs": [
    {
     "name": "stdout",
     "output_type": "stream",
     "text": [
      "     userID                        Track            artist   genre  \\\n",
      "0  FFB692EC            Kamigata To Boots  The Mass Missile    rock   \n",
      "1  55204538  Delayed Because of Accident  Andreas Rönnberg    rock   \n",
      "2    20EC38            Funiculì funiculà       Mario Lanza     pop   \n",
      "3  A3DD03C9        Dragons in the Sunset        Fire + Ice    folk   \n",
      "4  E2DC1FAE                  Soul People        Space Echo   dance   \n",
      "5  842029A1                       Chains          Obladaet  rusrap   \n",
      "6  4CB90AA5                         True      Roman Messer   dance   \n",
      "7  F03E1C1F             Feeling This Way   Polina Griffith   dance   \n",
      "8  8FA1D3BE                     L’estate       Julia Dalia  ruspop   \n",
      "9  E772D5C0                    Pessimist               NaN   dance   \n",
      "\n",
      "        City        time        Day  \n",
      "0  Shelbyville  20:28:33  Wednesday  \n",
      "1  Springfield  14:07:09     Friday  \n",
      "2  Shelbyville  20:58:07  Wednesday  \n",
      "3  Shelbyville  08:37:09     Monday  \n",
      "4  Springfield  08:34:34     Monday  \n",
      "5  Shelbyville  13:09:41     Friday  \n",
      "6  Springfield  13:00:07  Wednesday  \n",
      "7  Springfield  20:47:49  Wednesday  \n",
      "8  Springfield  09:17:40     Friday  \n",
      "9  Shelbyville  21:20:49  Wednesday  \n"
     ]
    }
   ],
   "source": [
    "# Obtener las 10 primeras filas de la tabla df\n",
    "print(df.head(10))"
   ]
  },
  {
   "cell_type": "code",
   "execution_count": 101,
   "metadata": {
    "id": "DSf2kIb-_Zct",
    "scrolled": true
   },
   "outputs": [
    {
     "name": "stdout",
     "output_type": "stream",
     "text": [
      "<class 'pandas.core.frame.DataFrame'>\n",
      "RangeIndex: 65079 entries, 0 to 65078\n",
      "Data columns (total 7 columns):\n",
      " #   Column    Non-Null Count  Dtype \n",
      "---  ------    --------------  ----- \n",
      " 0     userID  65079 non-null  object\n",
      " 1   Track     63736 non-null  object\n",
      " 2   artist    57512 non-null  object\n",
      " 3   genre     63881 non-null  object\n",
      " 4     City    65079 non-null  object\n",
      " 5   time      65079 non-null  object\n",
      " 6   Day       65079 non-null  object\n",
      "dtypes: object(7)\n",
      "memory usage: 3.5+ MB\n",
      "None\n"
     ]
    }
   ],
   "source": [
    "# Obtener la información general sobre nuestros datos\n",
    "print(df.info())  # accedemos a todos los atributos con el metodo info()."
   ]
  },
  {
   "cell_type": "markdown",
   "metadata": {
    "id": "TaQ2Iwbr_Zct"
   },
   "source": [
    "Observaciones sobre la tabla. Contiene siete columnas. Almacenan los mismos tipos de datos: `object`.\n",
    "\n",
    "Según la documentación:\n",
    "- `' userID'`: identificador del usuario o la usuaria;\n",
    "- `'Track'`: título de la canción;\n",
    "- `'artist'`: nombre del artista;\n",
    "- `'genre'`: género de la pista;\n",
    "- `'City'`: ciudad del usuario o la usuaria;\n",
    "- `'time'`: la hora exacta en la que se reprodujo la canción;\n",
    "- `'Day'`: día de la semana.\n",
    "\n",
    "Podemos ver tres problemas con el estilo en los encabezados de la tabla:\n",
    "1. Algunos encabezados están en mayúsculas, otros en minúsculas.\n",
    "2. Hay espacios en algunos encabezados.\n",
    "3. No se evidencia uso del snake_case (remplazar cada espacio por un guion bajo) en los nombres que tienen mas de una palabra. \n",
    "\n"
   ]
  },
  {
   "cell_type": "markdown",
   "metadata": {
    "id": "MCB6-dXG_Zct"
   },
   "source": [
    "### Observaciones: <a id='data_review_conclusions'></a>\n",
    "\n",
    "`1.   ¿Qué tipo de datos tenemos a nuestra disposición en las filas? ¿Y cómo podemos entender lo que almacenan las columnas?`\n",
    "las filas representan el registro de reproduccion de musica de cada usuario, los cuales almacenan los mismos tipos de datos object (string). en las columnas podemos ver detalladamente el ID del usuario, la cancion, el artista, ciudad, hora y dia exacto de la reproduccion.\n",
    "\n",
    "`2.   ¿Hay suficientes datos para proporcionar respuestas a nuestra hipótesis o necesitamos más información?`\n",
    "\n",
    "considero que los datos son suficientes para determinar si la actividad de los usuarios difiere según el día de la semana y dependiendo de la ciudad. ya que contamos con la informacion especifica en cuanto al dia y hora exacta de reproduccion de cada usuario.\n",
    "\n",
    "`3.   ¿Notaste algún problema en los datos, como valores ausentes, duplicados o tipos de datos incorrectos?`\n",
    "a primera vista podemos determinar que hay problemas con nombres de las columnas, adicionalmente al validar la informacion general podemos evidenciar posibles valores ausentes en algunas columnas ya que los datos non-null son diferentes en varias columnas. lo anterior lo podremos validar en el preprocesamiento de datos."
   ]
  },
  {
   "cell_type": "markdown",
   "metadata": {
    "id": "3eL__vcwViOi"
   },
   "source": [
    "[Volver a Contenidos](#back)"
   ]
  },
  {
   "cell_type": "markdown",
   "metadata": {
    "id": "SjYF6Ub9_Zct"
   },
   "source": [
    "## Etapa 2. Preprocesamiento de datos <a id='data_preprocessing'></a>\n",
    "\n",
    "El objetivo aquí es preparar los datos para que sean analizados.\n",
    "El primer paso es resolver cualquier problema con los encabezados. Luego podemos avanzar a los valores ausentes y duplicados. Empecemos.\n"
   ]
  },
  {
   "cell_type": "markdown",
   "metadata": {
    "id": "dIaKXr29_Zct"
   },
   "source": [
    "### Estilo del encabezado <a id='header_style'></a>\n"
   ]
  },
  {
   "cell_type": "code",
   "execution_count": 102,
   "metadata": {
    "id": "oKOTdF_Q_Zct"
   },
   "outputs": [
    {
     "name": "stdout",
     "output_type": "stream",
     "text": [
      "Index(['  userID', 'Track', 'artist', 'genre', '  City  ', 'time', 'Day'], dtype='object')\n"
     ]
    }
   ],
   "source": [
    "print(df.columns)# Muestra los nombres de las columnas\n"
   ]
  },
  {
   "cell_type": "markdown",
   "metadata": {
    "id": "zj5534cv_Zct"
   },
   "source": [
    "Se cambia los encabezados de la tabla de acuerdo con las reglas del buen estilo:\n",
    "* Todos los caracteres deben ser minúsculas.\n",
    "* Elimina los espacios.\n",
    "* Si el nombre tiene varias palabras, utiliza snake_case."
   ]
  },
  {
   "cell_type": "code",
   "execution_count": 103,
   "metadata": {
    "id": "6I_RwwMhzM4e"
   },
   "outputs": [
    {
     "name": "stdout",
     "output_type": "stream",
     "text": [
      "Index(['  userid', 'track', 'artist', 'genre', '  city  ', 'time', 'day'], dtype='object')\n"
     ]
    }
   ],
   "source": [
    "# Bucle en los encabezados poniendo todo en minúsculas\n",
    "new_names = []\n",
    "for old in df.columns:\n",
    "    name_lowered = old.lower()\n",
    "    new_names.append(name_lowered)\n",
    "df.columns = new_names\n",
    "print(df.columns)"
   ]
  },
  {
   "cell_type": "code",
   "execution_count": 104,
   "metadata": {
    "id": "vVQXbFyJzSYl"
   },
   "outputs": [
    {
     "name": "stdout",
     "output_type": "stream",
     "text": [
      "Index(['userid', 'track', 'artist', 'genre', 'city', 'time', 'day'], dtype='object')\n"
     ]
    }
   ],
   "source": [
    "# Bucle en los encabezados eliminando los espacios\n",
    "new_names = []\n",
    "for old in df.columns:\n",
    "    name_striped = old.strip()\n",
    "    new_names.append(name_striped)\n",
    "df.columns = new_names\n",
    "print(df.columns)"
   ]
  },
  {
   "cell_type": "code",
   "execution_count": 105,
   "metadata": {
    "id": "ISlFqs5y_Zct"
   },
   "outputs": [
    {
     "name": "stdout",
     "output_type": "stream",
     "text": [
      "Index(['user_id', 'track', 'artist', 'genre', 'city', 'time', 'day'], dtype='object')\n"
     ]
    }
   ],
   "source": [
    "# Cambiar el nombre de la columna \"userid\"\n",
    "new_names = []\n",
    "for old in df.columns:\n",
    "    name_replaced = old.replace('userid', 'user_id')\n",
    "    new_names.append(name_replaced)\n",
    "df.columns = new_names\n",
    "print(df.columns)"
   ]
  },
  {
   "cell_type": "code",
   "execution_count": 106,
   "metadata": {
    "id": "d4NOAmTW_Zct"
   },
   "outputs": [
    {
     "name": "stdout",
     "output_type": "stream",
     "text": [
      "Index(['user_id', 'track', 'artist', 'genre', 'city', 'time', 'day'], dtype='object')\n"
     ]
    }
   ],
   "source": [
    "print(df.columns) # Comprobar el resultado: la lista de encabezados\n"
   ]
  },
  {
   "cell_type": "markdown",
   "metadata": {
    "id": "xYJk6ksJVpOl"
   },
   "source": [
    "[Volver a Contenidos](#back)"
   ]
  },
  {
   "cell_type": "markdown",
   "metadata": {
    "id": "5ISfbcfY_Zct"
   },
   "source": [
    "### Valores ausentes <a id='missing_values'></a>\n",
    " Primero, se encuentra el número de valores ausentes en la tabla. Se utiliza dos métodos en una secuencia para obtener el número de valores ausentes."
   ]
  },
  {
   "cell_type": "code",
   "execution_count": 107,
   "metadata": {
    "id": "RskX29qr_Zct"
   },
   "outputs": [
    {
     "name": "stdout",
     "output_type": "stream",
     "text": [
      "user_id       0\n",
      "track      1343\n",
      "artist     7567\n",
      "genre      1198\n",
      "city          0\n",
      "time          0\n",
      "day           0\n",
      "dtype: int64\n"
     ]
    }
   ],
   "source": [
    "# Calcular el número de valores ausentes\n",
    "print(df.isna().sum())  # utilizamos el metodo isna() junto con sum() para determinar la cantidad de valores ausentes."
   ]
  },
  {
   "cell_type": "markdown",
   "metadata": {
    "id": "fSv2laPA_Zct"
   },
   "source": [
    "Reemplazar los valores ausentes en las columnas `'track'`, `'artist'` y `'genre'` con el string `'unknown'`. Como mostramos anteriormente, la mejor forma de hacerlo es crear una lista que almacene los nombres de las columnas donde se necesita el reemplazo. Luego, utiliza esta lista e itera sobre las columnas donde se necesita el reemplazo haciendo el propio reemplazo."
   ]
  },
  {
   "cell_type": "code",
   "execution_count": 108,
   "metadata": {
    "id": "KplB5qWs_Zct"
   },
   "outputs": [
    {
     "name": "stdout",
     "output_type": "stream",
     "text": [
      "user_id    0\n",
      "track      0\n",
      "artist     0\n",
      "genre      0\n",
      "city       0\n",
      "time       0\n",
      "day        0\n",
      "dtype: int64\n"
     ]
    }
   ],
   "source": [
    "# Bucle en los encabezados reemplazando los valores ausentes con 'unknown'\n",
    "columns_to_replace = ['track', 'artist', 'genre']  # creamos la lista que almacena las columnas que necesitan remplazo.\n",
    "\n",
    "for columns in columns_to_replace:                # utilizamos el bucle for ya que son varias columnas\n",
    "    df[columns].fillna('unknown', inplace= True)  #utilizamos .fillna() para remplazar los valores ausentes por unknown\n",
    "\n",
    "print(df.isna().sum())         # mostramos de nuevo con el metodo isna() y sum() para validar que no hayan mas valores ausentes.\n",
    "    "
   ]
  },
  {
   "cell_type": "code",
   "execution_count": 109,
   "metadata": {
    "id": "Tq4nYRX4_Zct"
   },
   "outputs": [
    {
     "name": "stdout",
     "output_type": "stream",
     "text": [
      "user_id    0\n",
      "track      0\n",
      "artist     0\n",
      "genre      0\n",
      "city       0\n",
      "time       0\n",
      "day        0\n",
      "dtype: int64\n"
     ]
    }
   ],
   "source": [
    "# Contar valores ausentes\n",
    "\n",
    "print(df.isna().sum())         # mostramos de nuevo con el metodo isna() y sum() para validar que no hayan mas valores ausentes."
   ]
  },
  {
   "cell_type": "markdown",
   "metadata": {
    "id": "74ZIBmq9VrsK"
   },
   "source": [
    "[Volver a Contenidos](#back)"
   ]
  },
  {
   "cell_type": "markdown",
   "metadata": {
    "id": "BWKRtBJ3_Zct"
   },
   "source": [
    "### Duplicados <a id='duplicates'></a>\n",
    "Encontrar el número de duplicados explícitos en la tabla. Una vez más, se aplica dos métodos en una secuencia para obtener la cantidad de duplicados explícitos."
   ]
  },
  {
   "cell_type": "code",
   "execution_count": 110,
   "metadata": {
    "id": "36eES_S0_Zct",
    "scrolled": true
   },
   "outputs": [
    {
     "name": "stdout",
     "output_type": "stream",
     "text": [
      "3826\n"
     ]
    }
   ],
   "source": [
    "# Contar duplicados explícitos\n",
    "\n",
    "print(df.duplicated().sum())  # utilizamos el metodo duplicated() junto con sum() para determinar la cantidad de valores duplicados."
   ]
  },
  {
   "cell_type": "code",
   "execution_count": 111,
   "metadata": {
    "id": "exFHq6tt_Zct"
   },
   "outputs": [
    {
     "name": "stdout",
     "output_type": "stream",
     "text": [
      "0\n"
     ]
    }
   ],
   "source": [
    "# Eliminar duplicados explícitos\n",
    "\n",
    "df = df.drop_duplicates()  # para eliminar duplicados llamamos al metodo df.drop_duplicates().\n",
    "\n",
    "print(df.duplicated().sum())"
   ]
  },
  {
   "cell_type": "code",
   "execution_count": 112,
   "metadata": {
    "id": "-8PuNWQ0_Zct"
   },
   "outputs": [
    {
     "name": "stdout",
     "output_type": "stream",
     "text": [
      "0\n"
     ]
    }
   ],
   "source": [
    "# Comprobar de nuevo si hay duplicados\n",
    "\n",
    "print(df.duplicated().sum()) #utilizamos nuevamente el metodo duplicated() junto con sum() para validar que se hayan eliminado todos los duplicados. \n"
   ]
  },
  {
   "cell_type": "markdown",
   "metadata": {
    "id": "QlFBsxAr_Zct"
   },
   "source": [
    "Ahora queremos deshacernos de los duplicados implícitos en la columna `genre`. Por ejemplo, el nombre de un género se puede escribir de varias formas. Dichos errores también pueden afectar al resultado."
   ]
  },
  {
   "cell_type": "markdown",
   "metadata": {
    "id": "eSjWwsOh_Zct"
   },
   "source": [
    "Para hacerlo, primero mostremos una lista de nombres de género únicos, ordenados en orden alfabético. Para ello:\n",
    "* Extraer la columna `genre` del DataFrame.\n",
    "* Llamar al método que devolverá todos los valores únicos en la columna extraída.\n"
   ]
  },
  {
   "cell_type": "code",
   "execution_count": 113,
   "metadata": {
    "id": "JIUcqzZN_Zct"
   },
   "outputs": [
    {
     "name": "stdout",
     "output_type": "stream",
     "text": [
      "['acid' 'acoustic' 'action' 'adult' 'africa' 'afrikaans' 'alternative'\n",
      " 'ambient' 'americana' 'animated' 'anime' 'arabesk' 'arabic' 'arena'\n",
      " 'argentinetango' 'art' 'audiobook' 'avantgarde' 'axé' 'baile' 'balkan'\n",
      " 'beats' 'bigroom' 'black' 'bluegrass' 'blues' 'bollywood' 'bossa'\n",
      " 'brazilian' 'breakbeat' 'breaks' 'broadway' 'cantautori' 'cantopop'\n",
      " 'canzone' 'caribbean' 'caucasian' 'celtic' 'chamber' 'children' 'chill'\n",
      " 'chinese' 'choral' 'christian' 'christmas' 'classical' 'classicmetal'\n",
      " 'club' 'colombian' 'comedy' 'conjazz' 'contemporary' 'country' 'cuban'\n",
      " 'dance' 'dancehall' 'dancepop' 'dark' 'death' 'deep' 'deutschrock'\n",
      " 'deutschspr' 'dirty' 'disco' 'dnb' 'documentary' 'downbeat' 'downtempo'\n",
      " 'drum' 'dub' 'dubstep' 'eastern' 'easy' 'electronic' 'electropop' 'emo'\n",
      " 'entehno' 'epicmetal' 'estrada' 'ethnic' 'eurofolk' 'european'\n",
      " 'experimental' 'extrememetal' 'fado' 'film' 'fitness' 'flamenco' 'folk'\n",
      " 'folklore' 'folkmetal' 'folkrock' 'folktronica' 'forró' 'frankreich'\n",
      " 'französisch' 'french' 'funk' 'future' 'gangsta' 'garage' 'german'\n",
      " 'ghazal' 'gitarre' 'glitch' 'gospel' 'gothic' 'grime' 'grunge' 'gypsy'\n",
      " 'handsup' \"hard'n'heavy\" 'hardcore' 'hardstyle' 'hardtechno' 'hip'\n",
      " 'hip-hop' 'hiphop' 'historisch' 'holiday' 'hop' 'horror' 'house' 'idm'\n",
      " 'independent' 'indian' 'indie' 'indipop' 'industrial' 'inspirational'\n",
      " 'instrumental' 'international' 'irish' 'jam' 'japanese' 'jazz' 'jewish'\n",
      " 'jpop' 'jungle' 'k-pop' 'karadeniz' 'karaoke' 'kayokyoku' 'korean'\n",
      " 'laiko' 'latin' 'latino' 'leftfield' 'local' 'lounge' 'loungeelectronic'\n",
      " 'lovers' 'malaysian' 'mandopop' 'marschmusik' 'meditative'\n",
      " 'mediterranean' 'melodic' 'metal' 'metalcore' 'mexican' 'middle'\n",
      " 'minimal' 'miscellaneous' 'modern' 'mood' 'mpb' 'muslim' 'native'\n",
      " 'neoklassik' 'neue' 'new' 'newage' 'newwave' 'nu' 'nujazz' 'numetal'\n",
      " 'oceania' 'old' 'opera' 'orchestral' 'other' 'piano' 'pop'\n",
      " 'popelectronic' 'popeurodance' 'post' 'posthardcore' 'postrock' 'power'\n",
      " 'progmetal' 'progressive' 'psychedelic' 'punjabi' 'punk' 'quebecois'\n",
      " 'ragga' 'ram' 'rancheras' 'rap' 'rave' 'reggae' 'reggaeton' 'regional'\n",
      " 'relax' 'religious' 'retro' 'rhythm' 'rnb' 'rnr' 'rock' 'rockabilly'\n",
      " 'romance' 'roots' 'ruspop' 'rusrap' 'rusrock' 'salsa' 'samba' 'schlager'\n",
      " 'self' 'sertanejo' 'shoegazing' 'showtunes' 'singer' 'ska' 'slow'\n",
      " 'smooth' 'soul' 'soulful' 'sound' 'soundtrack' 'southern' 'specialty'\n",
      " 'speech' 'spiritual' 'sport' 'stonerrock' 'surf' 'swing' 'synthpop'\n",
      " 'sängerportrait' 'tango' 'tanzorchester' 'taraftar' 'tech' 'techno'\n",
      " 'thrash' 'top' 'traditional' 'tradjazz' 'trance' 'tribal' 'trip'\n",
      " 'triphop' 'tropical' 'türk' 'türkçe' 'unknown' 'urban' 'uzbek' 'variété'\n",
      " 'vi' 'videogame' 'vocal' 'western' 'world' 'worldbeat' 'ïîï']\n"
     ]
    }
   ],
   "source": [
    "# Inspeccionar los nombres de géneros únicos\n",
    "       \n",
    "print(df['genre'].sort_values().unique())     # llamamos al metodo unique() para validar los valores unicos y los mostramos, adicionalmente usamos el metodo sort_values() para ordenarlos en orden alfabetico.\n",
    "\n",
    " "
   ]
  },
  {
   "cell_type": "markdown",
   "metadata": {
    "id": "qej-Qmuo_Zct"
   },
   "source": [
    "Buscar en la lista para encontrar duplicados implícitos del género `hiphop`. Estos pueden ser nombres escritos incorrectamente o nombres alternativos para el mismo género.\n",
    "\n",
    "Se ven los siguientes duplicados implícitos:\n",
    "* `hip`\n",
    "* `hop`\n",
    "* `hip-hop`\n",
    "\n",
    "Para deshacerse de ellos, se crea una función llamada `replace_wrong_genres()` con dos parámetros:\n",
    "* `wrong_genres=`: esta es una lista que contiene todos los valores que se necesita reemplazar.\n",
    "* `correct_genre=`: este es un string que se va a utilizar como reemplazo.\n",
    "\n",
    "Como resultado, la función debería corregir los nombres en la columna `'genre'` de la tabla `df`, es decir, remplazar cada valor de la lista `wrong_genres` por el valor en `correct_genre`.\n",
    "\n",
    "Dentro del cuerpo de la función, utiliza un bucle `'for'` para iterar sobre la lista de géneros incorrectos, extrae la columna `'genre'` y aplica el método `replace` para hacer correcciones."
   ]
  },
  {
   "cell_type": "code",
   "execution_count": 114,
   "metadata": {
    "id": "ErNDkmns_Zct"
   },
   "outputs": [],
   "source": [
    "# Función para reemplazar duplicados implícitos\n",
    "\n",
    "def replace_wrong_genres(df, column, wrong_genres, correct_genre):  # creamos la funcion con los dos parametros solicitados.\n",
    "    for wrong_genre in wrong_genres:\n",
    "        df[column] = df[column].replace(wrong_genre, correct_genre) # usamos bucle for para iterar sobre los generos incorrectos en la columna genre y aplicamos replace() para corregir.\n",
    "    return df\n",
    "\n"
   ]
  },
  {
   "cell_type": "markdown",
   "metadata": {
    "id": "aDoBJxbA_Zct"
   },
   "source": [
    "Se llama a `replace_wrong_genres()` y se pasa los argumentos para que retire los duplicados implícitos (`hip`, `hop` y `hip-hop`) y los reemplace por `hiphop`:"
   ]
  },
  {
   "cell_type": "code",
   "execution_count": 115,
   "metadata": {
    "id": "YN5i2hpmSo09"
   },
   "outputs": [],
   "source": [
    "# Eliminar duplicados implícitos\n",
    "\n",
    "duplicates = ['hip', 'hop', 'hip-hop']  # creamos la lista de nombres mal escritos.\n",
    "\n",
    "correct_name = 'hiphop'  # creamos la lista con el nombre correcto.\n",
    "\n",
    "df = replace_wrong_genres(df, 'genre', duplicates, correct_name) # llamamos a la funcion replace_wrong_genres.\n",
    "\n"
   ]
  },
  {
   "cell_type": "code",
   "execution_count": 116,
   "metadata": {
    "id": "wvixALnFG15m"
   },
   "outputs": [
    {
     "name": "stdout",
     "output_type": "stream",
     "text": [
      "['acid' 'acoustic' 'action' 'adult' 'africa' 'afrikaans' 'alternative'\n",
      " 'ambient' 'americana' 'animated' 'anime' 'arabesk' 'arabic' 'arena'\n",
      " 'argentinetango' 'art' 'audiobook' 'avantgarde' 'axé' 'baile' 'balkan'\n",
      " 'beats' 'bigroom' 'black' 'bluegrass' 'blues' 'bollywood' 'bossa'\n",
      " 'brazilian' 'breakbeat' 'breaks' 'broadway' 'cantautori' 'cantopop'\n",
      " 'canzone' 'caribbean' 'caucasian' 'celtic' 'chamber' 'children' 'chill'\n",
      " 'chinese' 'choral' 'christian' 'christmas' 'classical' 'classicmetal'\n",
      " 'club' 'colombian' 'comedy' 'conjazz' 'contemporary' 'country' 'cuban'\n",
      " 'dance' 'dancehall' 'dancepop' 'dark' 'death' 'deep' 'deutschrock'\n",
      " 'deutschspr' 'dirty' 'disco' 'dnb' 'documentary' 'downbeat' 'downtempo'\n",
      " 'drum' 'dub' 'dubstep' 'eastern' 'easy' 'electronic' 'electropop' 'emo'\n",
      " 'entehno' 'epicmetal' 'estrada' 'ethnic' 'eurofolk' 'european'\n",
      " 'experimental' 'extrememetal' 'fado' 'film' 'fitness' 'flamenco' 'folk'\n",
      " 'folklore' 'folkmetal' 'folkrock' 'folktronica' 'forró' 'frankreich'\n",
      " 'französisch' 'french' 'funk' 'future' 'gangsta' 'garage' 'german'\n",
      " 'ghazal' 'gitarre' 'glitch' 'gospel' 'gothic' 'grime' 'grunge' 'gypsy'\n",
      " 'handsup' \"hard'n'heavy\" 'hardcore' 'hardstyle' 'hardtechno' 'hiphop'\n",
      " 'historisch' 'holiday' 'horror' 'house' 'idm' 'independent' 'indian'\n",
      " 'indie' 'indipop' 'industrial' 'inspirational' 'instrumental'\n",
      " 'international' 'irish' 'jam' 'japanese' 'jazz' 'jewish' 'jpop' 'jungle'\n",
      " 'k-pop' 'karadeniz' 'karaoke' 'kayokyoku' 'korean' 'laiko' 'latin'\n",
      " 'latino' 'leftfield' 'local' 'lounge' 'loungeelectronic' 'lovers'\n",
      " 'malaysian' 'mandopop' 'marschmusik' 'meditative' 'mediterranean'\n",
      " 'melodic' 'metal' 'metalcore' 'mexican' 'middle' 'minimal'\n",
      " 'miscellaneous' 'modern' 'mood' 'mpb' 'muslim' 'native' 'neoklassik'\n",
      " 'neue' 'new' 'newage' 'newwave' 'nu' 'nujazz' 'numetal' 'oceania' 'old'\n",
      " 'opera' 'orchestral' 'other' 'piano' 'pop' 'popelectronic' 'popeurodance'\n",
      " 'post' 'posthardcore' 'postrock' 'power' 'progmetal' 'progressive'\n",
      " 'psychedelic' 'punjabi' 'punk' 'quebecois' 'ragga' 'ram' 'rancheras'\n",
      " 'rap' 'rave' 'reggae' 'reggaeton' 'regional' 'relax' 'religious' 'retro'\n",
      " 'rhythm' 'rnb' 'rnr' 'rock' 'rockabilly' 'romance' 'roots' 'ruspop'\n",
      " 'rusrap' 'rusrock' 'salsa' 'samba' 'schlager' 'self' 'sertanejo'\n",
      " 'shoegazing' 'showtunes' 'singer' 'ska' 'slow' 'smooth' 'soul' 'soulful'\n",
      " 'sound' 'soundtrack' 'southern' 'specialty' 'speech' 'spiritual' 'sport'\n",
      " 'stonerrock' 'surf' 'swing' 'synthpop' 'sängerportrait' 'tango'\n",
      " 'tanzorchester' 'taraftar' 'tech' 'techno' 'thrash' 'top' 'traditional'\n",
      " 'tradjazz' 'trance' 'tribal' 'trip' 'triphop' 'tropical' 'türk' 'türkçe'\n",
      " 'unknown' 'urban' 'uzbek' 'variété' 'vi' 'videogame' 'vocal' 'western'\n",
      " 'world' 'worldbeat' 'ïîï']\n"
     ]
    }
   ],
   "source": [
    "# Comprobación de duplicados implícitos\n",
    "\n",
    "print(df['genre'].sort_values().unique())   # mostramos nuevamente los valores unicos de la columna genre con el metodo unique().\n"
   ]
  },
  {
   "cell_type": "markdown",
   "metadata": {
    "id": "ALgNbvF3VtPA"
   },
   "source": [
    "[Volver a Contenidos](#back)"
   ]
  },
  {
   "cell_type": "markdown",
   "metadata": {
    "id": "jz6a9-7HQUDd"
   },
   "source": [
    "### Observaciones <a id='data_preprocessing_conclusions'></a>\n",
    "\n",
    "para el analisis de duplicados abordamos primero los duplicados explicitos, donde a traves del metodo duplicated() y sum() validamos la cantidad de duplicados, posteriormente con el metodo drop_duplicates() eliminamos esos duplicados. una vez eliminados los explicitos procedemos a validar los duplicados implicitos en la columna 'genre' donde se evidencia para el genero hiphop algunos duplicados con errores ortograficos, para lo cual creamos una funcion con 2 parametros y con ayuda del bucle for iteramos la lista de generos correctos y aplicamos replace para corregir.\n",
    "\n",
    "lo anterior nos ayuda a que nuestros datos queden lo mejor posible para poder entrar a probar nuestra hipotesis analizando los datos ya preparados y poder emitir una conclusion precisa."
   ]
  },
  {
   "cell_type": "markdown",
   "metadata": {
    "id": "eK1es74rVujj"
   },
   "source": [
    "[Volver a Contenidos](#back)"
   ]
  },
  {
   "cell_type": "markdown",
   "metadata": {
    "id": "WttZHXH0SqKk"
   },
   "source": [
    "## Etapa 3. Prueba de hipótesis <a id='hypothesis'></a>"
   ]
  },
  {
   "cell_type": "markdown",
   "metadata": {
    "id": "Im936VVi_Zcu"
   },
   "source": [
    "### Hipótesis: comparar el comportamiento del usuario o la usuaria en las dos ciudades <a id='activity'></a>"
   ]
  },
  {
   "cell_type": "markdown",
   "metadata": {
    "id": "nwt_MuaL_Zcu"
   },
   "source": [
    "La hipótesis afirma que existen diferencias en la forma en que los usuarios y las usuarias de Springfield y Shelbyville consumen música. Para comprobar esto, usa los datos de tres días de la semana: lunes, miércoles y viernes.\n",
    "\n",
    "* Agrupar a los usuarios y las usuarias por ciudad.\n",
    "* Comparar el número de canciones que cada grupo reprodujo el lunes, el miércoles y el viernes.\n"
   ]
  },
  {
   "cell_type": "markdown",
   "metadata": {
    "id": "8Dw_YMmT_Zcu"
   },
   "source": [
    "\n",
    "El primer paso es evaluar la actividad del usuario en cada ciudad. El objetivo ahora es agrupar los datos por ciudad, aplicar el método apropiado para contar durante la etapa de aplicación y luego encontrar la cantidad de canciones reproducidas en cada grupo especificando la columna para obtener el recuento.\n",
    "\n",
    "Para evaluar la actividad de los usuarios y las usuarias en cada ciudad, se agrupa los datos por ciudad y encuentra la cantidad de canciones reproducidas en cada grupo.\n",
    "\n"
   ]
  },
  {
   "cell_type": "code",
   "execution_count": 117,
   "metadata": {
    "id": "0_Qs96oh_Zcu"
   },
   "outputs": [
    {
     "name": "stdout",
     "output_type": "stream",
     "text": [
      "             user_id  track  artist  genre   time    day\n",
      "city                                                    \n",
      "Shelbyville    18512  18512   18512  18512  18512  18512\n",
      "Springfield    42741  42741   42741  42741  42741  42741\n"
     ]
    }
   ],
   "source": [
    "# Contar las canciones reproducidas en cada ciudad\n",
    "\n",
    "print(df.groupby('city').count())  # agrupamos los datos por ciudad utilizando el método groupby() y count parar conocer el numero de canciones reproducidas por ciudad.\n"
   ]
  },
  {
   "cell_type": "markdown",
   "metadata": {
    "id": "t_Qx-3NewAnK"
   },
   "source": [
    "\n",
    "como podemos ver en el nuevo dataframe evidenciamos mayor cantidad de reproducciones en la ciudad de Springfield."
   ]
  },
  {
   "cell_type": "markdown",
   "metadata": {
    "id": "dzli3w8o_Zcu"
   },
   "source": [
    "Ahora agrupemos los datos por día de la semana y encontremos el número de canciones reproducidas el lunes, miércoles y viernes.\n"
   ]
  },
  {
   "cell_type": "code",
   "execution_count": 118,
   "metadata": {
    "id": "uZMKjiJz_Zcu"
   },
   "outputs": [
    {
     "name": "stdout",
     "output_type": "stream",
     "text": [
      "           user_id  track  artist  genre   city   time\n",
      "day                                                   \n",
      "Friday       21840  21840   21840  21840  21840  21840\n",
      "Monday       21354  21354   21354  21354  21354  21354\n",
      "Wednesday    18059  18059   18059  18059  18059  18059\n"
     ]
    }
   ],
   "source": [
    "# Calcular las canciones reproducidas en cada uno de los tres días\n",
    "\n",
    "print(df.groupby('day').count())  # agrupamos los datos por dia de la semana  utilizando el método groupby() y count() para conocer el numero de canciones reproducidas en cada dia."
   ]
  },
  {
   "cell_type": "markdown",
   "metadata": {
    "id": "cC2tNrlL_Zcu"
   },
   "source": [
    "\n",
    "al agrupar los datos por dias de la semana, podemos evidenciar el numero de canciones que se escucha cada dia especificamente. donde el dia viernes es el dia de mayor reproduccion, seguido del lunes y por ultimo el viernes."
   ]
  },
  {
   "cell_type": "markdown",
   "metadata": {
    "id": "POzs8bGa_Zcu"
   },
   "source": [
    "\n",
    "Crear la función `number_tracks()` para calcular el número de canciones reproducidas en un determinado día **y** ciudad. La función debe aceptar dos parámetros:\n",
    "\n",
    "- `day`: un día de la semana para filtrar. Por ejemplo, `'Monday'` (lunes).\n",
    "- `city`: una ciudad para filtrar. Por ejemplo, `'Springfield'`.\n",
    "\n",
    "Dentro de la función, se aplicará un filtrado consecutivo con indexación lógica.\n",
    "\n",
    "Primero se filtra los datos por día y luego filtra la tabla resultante por ciudad.\n",
    "\n",
    "Después de filtrar los datos por dos criterios, se cuenta el número de valores de la columna 'user_id' en la tabla resultante. Este recuento representa el número de entradas que se están buscando. Guardar el resultado en una nueva variable y devolverlo desde la función."
   ]
  },
  {
   "cell_type": "code",
   "execution_count": 119,
   "metadata": {
    "id": "Nz3GdQB1_Zcu",
    "scrolled": true
   },
   "outputs": [],
   "source": [
    "# Declara la función number_tracks() con dos parámetros: day= y city=.\n",
    "def number_tracks(day, city):\n",
    "    \n",
    "    # Almacena las filas del DataFrame donde el valor en la columna 'day' es igual al parámetro day=\n",
    "    day_filter = df[df['day'] == day]\n",
    "\n",
    "    # Filtra las filas donde el valor en la columna 'city' es igual al parámetro city=\n",
    "    city_filter = day_filter[day_filter['city'] == city]\n",
    "    \n",
    "    # Extrae la columna 'user_id' de la tabla filtrada y aplica el método count()\n",
    "    users = city_filter['user_id'].count()\n",
    "    \n",
    "    return users\n",
    "\n",
    "    \n",
    "    # Devolve el número de valores de la columna 'user_id'"
   ]
  },
  {
   "cell_type": "markdown",
   "metadata": {
    "id": "ytf7xFrFJQ2r"
   },
   "source": [
    "Se llama a `number_tracks()` seis veces, cambiando los valores de los parámetros para recuperar los datos de ambas ciudades para cada uno de los tres días."
   ]
  },
  {
   "cell_type": "code",
   "execution_count": 120,
   "metadata": {
    "id": "rJcRATNQ_Zcu"
   },
   "outputs": [
    {
     "name": "stdout",
     "output_type": "stream",
     "text": [
      "15740\n"
     ]
    }
   ],
   "source": [
    "# El número de canciones reproducidas en Springfield el lunes\n",
    "\n",
    "number_songs_filtered= number_tracks('Monday', 'Springfield')\n",
    "print(number_songs_filtered)"
   ]
  },
  {
   "cell_type": "code",
   "execution_count": 121,
   "metadata": {
    "id": "hq_ncZ5T_Zcu"
   },
   "outputs": [
    {
     "name": "stdout",
     "output_type": "stream",
     "text": [
      "5614\n"
     ]
    }
   ],
   "source": [
    "# El número de canciones reproducidas en Shelbyville el lunes\n",
    "number_songs_filtered= number_tracks('Monday', 'Shelbyville')\n",
    "print(number_songs_filtered)"
   ]
  },
  {
   "cell_type": "code",
   "execution_count": 122,
   "metadata": {
    "id": "_NTy2VPU_Zcu"
   },
   "outputs": [
    {
     "name": "stdout",
     "output_type": "stream",
     "text": [
      "11056\n"
     ]
    }
   ],
   "source": [
    "# El número de canciones reproducidas en Springfield el miércoles\n",
    "number_songs_filtered= number_tracks('Wednesday', 'Springfield')\n",
    "print(number_songs_filtered)"
   ]
  },
  {
   "cell_type": "code",
   "execution_count": 123,
   "metadata": {
    "id": "j2y3TAwo_Zcu"
   },
   "outputs": [
    {
     "name": "stdout",
     "output_type": "stream",
     "text": [
      "7003\n"
     ]
    }
   ],
   "source": [
    "# El número de canciones reproducidas en Shelbyville el miércoles\n",
    "number_songs_filtered= number_tracks('Wednesday', 'Shelbyville')\n",
    "print(number_songs_filtered)"
   ]
  },
  {
   "cell_type": "code",
   "execution_count": 124,
   "metadata": {
    "id": "vYDw5u_K_Zcu"
   },
   "outputs": [
    {
     "name": "stdout",
     "output_type": "stream",
     "text": [
      "15945\n"
     ]
    }
   ],
   "source": [
    "# El número de canciones reproducidas en Springfield el viernes\n",
    "number_songs_filtered= number_tracks('Friday', 'Springfield')\n",
    "print(number_songs_filtered)"
   ]
  },
  {
   "cell_type": "code",
   "execution_count": 125,
   "metadata": {
    "id": "8_yzFtW3_Zcu"
   },
   "outputs": [
    {
     "name": "stdout",
     "output_type": "stream",
     "text": [
      "5895\n"
     ]
    }
   ],
   "source": [
    "# El número de canciones reproducidas en Shelbyville el viernes\n",
    "number_songs_filtered= number_tracks('Friday', 'Shelbyville')\n",
    "print(number_songs_filtered)"
   ]
  },
  {
   "cell_type": "markdown",
   "metadata": {
    "id": "-EgPIHYu_Zcu"
   },
   "source": [
    "\n",
    " De acuerdo a los resultados obtenidos evidenciamos que la hipotesis es correcta, ya que la actividad de cada usuario si cambia segun el dia en que reproduce musica. Adicionalmente encontramos diferencia en los numeros de canciones reproducidas dependiendo de la ciudad donde la reproducen.\n",
    "\n"
   ]
  },
  {
   "cell_type": "markdown",
   "metadata": {
    "id": "p7nFQajCVw5B"
   },
   "source": [
    "[Volver a Contenidos](#back)"
   ]
  },
  {
   "cell_type": "markdown",
   "metadata": {
    "id": "ykKQ0N65_Zcv"
   },
   "source": [
    "# Conclusiones <a id='end'></a>"
   ]
  },
  {
   "cell_type": "markdown",
   "metadata": {
    "id": "tjUwbHb3_Zcv"
   },
   "source": [
    "\n",
    "- Springfield muestra un mayor número de reproducciones de canciones en comparación con Shelbyville en todos los días analizados, esto podria indicar una mayor actividad de los usuarios o una mayor popularidad de la musica en Springfield.\n",
    "\n",
    "\n",
    "- En Springfield, hay una tendencia de mayor actividad de reproducción de música al inicio (lunes) y al final (viernes) de la semana, con una disminución en el medio (miércoles). Esto podría indicar que los usuarios en Springfield escuchan más música al inicio y al final de sus semanas laborales. a diferencia de Shelbyville, la tendencia es diferente, con un pico de reproducciones a mitad de semana (miércoles) y menos actividad al inicio y al final de la semana. Esto podría ser debido a distintos hábitos laborales o culturales en Shelbyville.\n",
    "\n",
    "\n",
    "- De acuerdo a la tendencia presentada en los resultados, los provedores de musica pueden establecer estrategias basadas en los patrones de cada ciudad. En Springfield, los lanzamientos de nuevas canciones deberían enfocarse en los lunes y viernes para aprovechar los picos de actividad, mientras que en Shelbyville, sería más efectivo centrarse en los miércoles, cuando la actividad de reproducción es mayor.\n"
   ]
  },
  {
   "cell_type": "markdown",
   "metadata": {
    "id": "Ju4AHDSgV1FE"
   },
   "source": [
    "[Volver a Contenidos](#back)"
   ]
  }
 ],
 "metadata": {
  "ExecuteTimeLog": [
   {
    "duration": 313,
    "start_time": "2024-06-23T16:03:37.499Z"
   },
   {
    "duration": 22,
    "start_time": "2024-06-23T16:04:02.488Z"
   },
   {
    "duration": 476,
    "start_time": "2024-06-23T16:04:19.895Z"
   },
   {
    "duration": 187,
    "start_time": "2024-06-23T16:04:26.964Z"
   },
   {
    "duration": 165,
    "start_time": "2024-06-23T16:04:31.570Z"
   },
   {
    "duration": 11,
    "start_time": "2024-06-23T16:04:36.904Z"
   },
   {
    "duration": 32,
    "start_time": "2024-06-23T16:13:33.986Z"
   },
   {
    "duration": 5,
    "start_time": "2024-06-23T17:37:19.945Z"
   },
   {
    "duration": 3,
    "start_time": "2024-06-23T17:42:54.918Z"
   },
   {
    "duration": 6,
    "start_time": "2024-06-23T17:43:25.066Z"
   },
   {
    "duration": 6,
    "start_time": "2024-06-23T17:46:46.172Z"
   },
   {
    "duration": 5,
    "start_time": "2024-06-23T17:53:23.692Z"
   },
   {
    "duration": 5,
    "start_time": "2024-06-23T17:55:35.149Z"
   },
   {
    "duration": 5,
    "start_time": "2024-06-23T17:55:56.163Z"
   },
   {
    "duration": 314,
    "start_time": "2024-06-24T03:27:35.568Z"
   },
   {
    "duration": 24,
    "start_time": "2024-06-24T03:28:26.654Z"
   },
   {
    "duration": 22,
    "start_time": "2024-06-24T03:28:45.261Z"
   },
   {
    "duration": 516,
    "start_time": "2024-06-24T03:28:59.686Z"
   },
   {
    "duration": 201,
    "start_time": "2024-06-24T03:29:02.258Z"
   },
   {
    "duration": 12,
    "start_time": "2024-06-24T03:29:05.808Z"
   },
   {
    "duration": 33,
    "start_time": "2024-06-24T03:29:10.891Z"
   },
   {
    "duration": 7,
    "start_time": "2024-06-24T03:29:17.883Z"
   },
   {
    "duration": 7,
    "start_time": "2024-06-24T03:29:23.648Z"
   },
   {
    "duration": 5,
    "start_time": "2024-06-24T03:29:46.820Z"
   },
   {
    "duration": 63,
    "start_time": "2024-06-24T03:41:41.174Z"
   },
   {
    "duration": 742,
    "start_time": "2024-06-24T03:50:39.099Z"
   },
   {
    "duration": 6,
    "start_time": "2024-06-24T03:50:53.006Z"
   },
   {
    "duration": 55,
    "start_time": "2024-06-24T03:51:41.921Z"
   },
   {
    "duration": 57,
    "start_time": "2024-06-24T03:52:07.039Z"
   },
   {
    "duration": 6,
    "start_time": "2024-06-24T03:52:41.654Z"
   },
   {
    "duration": 6,
    "start_time": "2024-06-24T03:52:57.038Z"
   },
   {
    "duration": 4,
    "start_time": "2024-06-24T03:54:13.515Z"
   },
   {
    "duration": 27,
    "start_time": "2024-06-24T04:02:55.327Z"
   },
   {
    "duration": 38,
    "start_time": "2024-06-24T04:15:50.400Z"
   },
   {
    "duration": 25,
    "start_time": "2024-06-24T04:17:24.763Z"
   },
   {
    "duration": 76,
    "start_time": "2024-06-24T04:21:55.294Z"
   },
   {
    "duration": 152,
    "start_time": "2024-06-24T04:26:56.572Z"
   },
   {
    "duration": 18,
    "start_time": "2024-06-24T04:32:08.133Z"
   },
   {
    "duration": 3,
    "start_time": "2024-06-24T04:33:56.405Z"
   },
   {
    "duration": 5,
    "start_time": "2024-06-24T04:39:29.585Z"
   },
   {
    "duration": 6,
    "start_time": "2024-06-24T04:40:19.676Z"
   },
   {
    "duration": 679,
    "start_time": "2024-06-24T04:41:09.249Z"
   },
   {
    "duration": 79,
    "start_time": "2024-06-24T04:41:29.730Z"
   },
   {
    "duration": 73,
    "start_time": "2024-06-24T04:41:43.787Z"
   },
   {
    "duration": 74,
    "start_time": "2024-06-24T04:43:10.396Z"
   },
   {
    "duration": 6,
    "start_time": "2024-06-24T04:43:18.054Z"
   },
   {
    "duration": 79,
    "start_time": "2024-06-24T04:43:41.019Z"
   },
   {
    "duration": 87,
    "start_time": "2024-06-24T04:45:37.580Z"
   },
   {
    "duration": 76,
    "start_time": "2024-06-24T04:45:53.907Z"
   },
   {
    "duration": 6,
    "start_time": "2024-06-24T04:46:19.526Z"
   },
   {
    "duration": 18,
    "start_time": "2024-06-24T04:48:10.377Z"
   },
   {
    "duration": 6,
    "start_time": "2024-06-24T04:49:41.430Z"
   },
   {
    "duration": 6,
    "start_time": "2024-06-24T04:49:50.944Z"
   },
   {
    "duration": 5,
    "start_time": "2024-06-24T04:50:23.338Z"
   },
   {
    "duration": 18,
    "start_time": "2024-06-24T04:50:29.466Z"
   },
   {
    "duration": 5,
    "start_time": "2024-06-24T04:51:07.303Z"
   },
   {
    "duration": 5,
    "start_time": "2024-06-24T04:51:46.187Z"
   },
   {
    "duration": 73,
    "start_time": "2024-06-24T04:52:21.083Z"
   },
   {
    "duration": 75,
    "start_time": "2024-06-24T04:52:34.801Z"
   },
   {
    "duration": 73,
    "start_time": "2024-06-24T04:53:03.041Z"
   },
   {
    "duration": 76,
    "start_time": "2024-06-24T04:54:28.582Z"
   },
   {
    "duration": 74,
    "start_time": "2024-06-24T04:54:54.673Z"
   },
   {
    "duration": 18,
    "start_time": "2024-06-24T04:56:26.712Z"
   },
   {
    "duration": 19,
    "start_time": "2024-06-24T04:57:23.606Z"
   },
   {
    "duration": 19,
    "start_time": "2024-06-24T04:57:54.428Z"
   },
   {
    "duration": 5,
    "start_time": "2024-06-24T04:58:07.930Z"
   },
   {
    "duration": 78,
    "start_time": "2024-06-24T05:03:44.606Z"
   },
   {
    "duration": 5,
    "start_time": "2024-06-24T05:04:03.642Z"
   },
   {
    "duration": 4,
    "start_time": "2024-06-24T05:04:41.929Z"
   },
   {
    "duration": 160,
    "start_time": "2024-06-24T05:04:46.055Z"
   },
   {
    "duration": 9,
    "start_time": "2024-06-24T05:04:49.572Z"
   },
   {
    "duration": 32,
    "start_time": "2024-06-24T05:05:03.058Z"
   },
   {
    "duration": 5,
    "start_time": "2024-06-24T05:05:10.980Z"
   },
   {
    "duration": 5,
    "start_time": "2024-06-24T05:05:17.471Z"
   },
   {
    "duration": 6,
    "start_time": "2024-06-24T05:05:24.394Z"
   },
   {
    "duration": 6,
    "start_time": "2024-06-24T05:05:35.864Z"
   },
   {
    "duration": 5,
    "start_time": "2024-06-24T05:05:41.659Z"
   },
   {
    "duration": 26,
    "start_time": "2024-06-24T05:05:49.812Z"
   },
   {
    "duration": 38,
    "start_time": "2024-06-24T05:05:58.352Z"
   },
   {
    "duration": 25,
    "start_time": "2024-06-24T05:06:03.885Z"
   },
   {
    "duration": 71,
    "start_time": "2024-06-24T05:06:08.934Z"
   },
   {
    "duration": 140,
    "start_time": "2024-06-24T05:06:16.059Z"
   },
   {
    "duration": 67,
    "start_time": "2024-06-24T05:06:27.693Z"
   },
   {
    "duration": 30,
    "start_time": "2024-06-24T05:06:33.111Z"
   },
   {
    "duration": 9,
    "start_time": "2024-06-24T05:06:50.541Z"
   },
   {
    "duration": 479,
    "start_time": "2024-06-24T14:58:01.081Z"
   },
   {
    "duration": 226,
    "start_time": "2024-06-24T14:58:01.564Z"
   },
   {
    "duration": 17,
    "start_time": "2024-06-24T14:58:01.794Z"
   },
   {
    "duration": 34,
    "start_time": "2024-06-24T14:58:01.816Z"
   },
   {
    "duration": 6,
    "start_time": "2024-06-24T14:58:01.854Z"
   },
   {
    "duration": 45,
    "start_time": "2024-06-24T14:58:01.863Z"
   },
   {
    "duration": 7,
    "start_time": "2024-06-24T14:58:01.911Z"
   },
   {
    "duration": 8,
    "start_time": "2024-06-24T14:58:01.921Z"
   },
   {
    "duration": 5,
    "start_time": "2024-06-24T14:58:01.932Z"
   },
   {
    "duration": 68,
    "start_time": "2024-06-24T14:58:01.944Z"
   },
   {
    "duration": 45,
    "start_time": "2024-06-24T14:58:02.015Z"
   },
   {
    "duration": 54,
    "start_time": "2024-06-24T14:58:02.063Z"
   },
   {
    "duration": 105,
    "start_time": "2024-06-24T14:58:02.120Z"
   },
   {
    "duration": 221,
    "start_time": "2024-06-24T14:58:02.228Z"
   },
   {
    "duration": 93,
    "start_time": "2024-06-24T14:58:02.454Z"
   },
   {
    "duration": 13,
    "start_time": "2024-06-24T14:58:02.550Z"
   },
   {
    "duration": 5,
    "start_time": "2024-06-24T14:58:02.565Z"
   },
   {
    "duration": 4,
    "start_time": "2024-06-24T14:58:02.573Z"
   },
   {
    "duration": 4,
    "start_time": "2024-06-24T14:58:02.607Z"
   },
   {
    "duration": 3,
    "start_time": "2024-06-24T14:58:02.614Z"
   },
   {
    "duration": 3,
    "start_time": "2024-06-24T14:58:02.621Z"
   },
   {
    "duration": 4,
    "start_time": "2024-06-24T14:58:02.627Z"
   },
   {
    "duration": 4,
    "start_time": "2024-06-24T14:58:02.634Z"
   },
   {
    "duration": 3,
    "start_time": "2024-06-24T14:58:02.642Z"
   },
   {
    "duration": 60,
    "start_time": "2024-06-24T14:58:02.648Z"
   },
   {
    "duration": 5,
    "start_time": "2024-06-24T14:58:02.711Z"
   },
   {
    "duration": 6,
    "start_time": "2024-06-24T14:58:02.722Z"
   },
   {
    "duration": 3,
    "start_time": "2024-06-24T14:58:02.734Z"
   },
   {
    "duration": 15,
    "start_time": "2024-06-24T15:01:30.774Z"
   },
   {
    "duration": 13,
    "start_time": "2024-06-24T15:04:24.595Z"
   },
   {
    "duration": 353,
    "start_time": "2024-06-24T15:22:39.176Z"
   },
   {
    "duration": 9,
    "start_time": "2024-06-24T15:23:39.033Z"
   },
   {
    "duration": 19,
    "start_time": "2024-06-24T15:23:54.802Z"
   },
   {
    "duration": 4,
    "start_time": "2024-06-24T15:25:26.533Z"
   },
   {
    "duration": 17,
    "start_time": "2024-06-24T15:25:36.175Z"
   },
   {
    "duration": 11,
    "start_time": "2024-06-24T15:26:14.270Z"
   },
   {
    "duration": 10,
    "start_time": "2024-06-24T15:30:42.615Z"
   },
   {
    "duration": 3,
    "start_time": "2024-06-24T15:32:47.669Z"
   },
   {
    "duration": 3,
    "start_time": "2024-06-24T15:32:50.664Z"
   },
   {
    "duration": 9,
    "start_time": "2024-06-24T15:32:57.917Z"
   },
   {
    "duration": 10,
    "start_time": "2024-06-24T15:33:06.710Z"
   },
   {
    "duration": 3,
    "start_time": "2024-06-24T15:33:46.980Z"
   },
   {
    "duration": 160,
    "start_time": "2024-06-24T15:33:46.988Z"
   },
   {
    "duration": 9,
    "start_time": "2024-06-24T15:33:47.153Z"
   },
   {
    "duration": 50,
    "start_time": "2024-06-24T15:33:47.166Z"
   },
   {
    "duration": 6,
    "start_time": "2024-06-24T15:33:47.219Z"
   },
   {
    "duration": 5,
    "start_time": "2024-06-24T15:33:47.231Z"
   },
   {
    "duration": 6,
    "start_time": "2024-06-24T15:33:47.240Z"
   },
   {
    "duration": 6,
    "start_time": "2024-06-24T15:33:47.250Z"
   },
   {
    "duration": 4,
    "start_time": "2024-06-24T15:33:47.308Z"
   },
   {
    "duration": 26,
    "start_time": "2024-06-24T15:33:47.315Z"
   },
   {
    "duration": 67,
    "start_time": "2024-06-24T15:33:47.343Z"
   },
   {
    "duration": 26,
    "start_time": "2024-06-24T15:33:47.413Z"
   },
   {
    "duration": 98,
    "start_time": "2024-06-24T15:33:47.442Z"
   },
   {
    "duration": 157,
    "start_time": "2024-06-24T15:33:47.544Z"
   },
   {
    "duration": 71,
    "start_time": "2024-06-24T15:33:47.712Z"
   },
   {
    "duration": 26,
    "start_time": "2024-06-24T15:33:47.786Z"
   },
   {
    "duration": 4,
    "start_time": "2024-06-24T15:33:47.815Z"
   },
   {
    "duration": 3,
    "start_time": "2024-06-24T15:33:47.822Z"
   },
   {
    "duration": 3,
    "start_time": "2024-06-24T15:33:47.828Z"
   },
   {
    "duration": 3,
    "start_time": "2024-06-24T15:33:47.835Z"
   },
   {
    "duration": 4,
    "start_time": "2024-06-24T15:33:47.841Z"
   },
   {
    "duration": 61,
    "start_time": "2024-06-24T15:33:47.848Z"
   },
   {
    "duration": 12,
    "start_time": "2024-06-24T15:33:47.918Z"
   },
   {
    "duration": 6,
    "start_time": "2024-06-24T15:33:47.934Z"
   },
   {
    "duration": 4,
    "start_time": "2024-06-24T15:33:47.943Z"
   },
   {
    "duration": 4,
    "start_time": "2024-06-24T15:33:47.950Z"
   },
   {
    "duration": 4,
    "start_time": "2024-06-24T15:33:47.956Z"
   },
   {
    "duration": 4,
    "start_time": "2024-06-24T15:33:47.963Z"
   },
   {
    "duration": 18,
    "start_time": "2024-06-24T15:37:26.219Z"
   },
   {
    "duration": 3,
    "start_time": "2024-06-24T15:38:05.494Z"
   },
   {
    "duration": 3,
    "start_time": "2024-06-24T15:38:09.977Z"
   },
   {
    "duration": 183,
    "start_time": "2024-06-24T15:38:09.984Z"
   },
   {
    "duration": 9,
    "start_time": "2024-06-24T15:38:10.170Z"
   },
   {
    "duration": 52,
    "start_time": "2024-06-24T15:38:10.182Z"
   },
   {
    "duration": 4,
    "start_time": "2024-06-24T15:38:10.239Z"
   },
   {
    "duration": 7,
    "start_time": "2024-06-24T15:38:10.247Z"
   },
   {
    "duration": 8,
    "start_time": "2024-06-24T15:38:10.256Z"
   },
   {
    "duration": 43,
    "start_time": "2024-06-24T15:38:10.266Z"
   },
   {
    "duration": 4,
    "start_time": "2024-06-24T15:38:10.315Z"
   },
   {
    "duration": 27,
    "start_time": "2024-06-24T15:38:10.322Z"
   },
   {
    "duration": 70,
    "start_time": "2024-06-24T15:38:10.355Z"
   },
   {
    "duration": 26,
    "start_time": "2024-06-24T15:38:10.428Z"
   },
   {
    "duration": 105,
    "start_time": "2024-06-24T15:38:10.457Z"
   },
   {
    "duration": 153,
    "start_time": "2024-06-24T15:38:10.565Z"
   },
   {
    "duration": 67,
    "start_time": "2024-06-24T15:38:10.720Z"
   },
   {
    "duration": 22,
    "start_time": "2024-06-24T15:38:10.790Z"
   },
   {
    "duration": 3,
    "start_time": "2024-06-24T15:38:10.815Z"
   },
   {
    "duration": 5,
    "start_time": "2024-06-24T15:38:10.822Z"
   },
   {
    "duration": 4,
    "start_time": "2024-06-24T15:38:10.830Z"
   },
   {
    "duration": 4,
    "start_time": "2024-06-24T15:38:10.837Z"
   },
   {
    "duration": 4,
    "start_time": "2024-06-24T15:38:10.844Z"
   },
   {
    "duration": 57,
    "start_time": "2024-06-24T15:38:10.851Z"
   },
   {
    "duration": 3,
    "start_time": "2024-06-24T15:38:10.912Z"
   },
   {
    "duration": 4,
    "start_time": "2024-06-24T15:38:10.918Z"
   },
   {
    "duration": 3,
    "start_time": "2024-06-24T15:38:10.925Z"
   },
   {
    "duration": 5,
    "start_time": "2024-06-24T15:38:10.931Z"
   },
   {
    "duration": 4,
    "start_time": "2024-06-24T15:38:10.939Z"
   },
   {
    "duration": 4,
    "start_time": "2024-06-24T15:38:10.946Z"
   },
   {
    "duration": 10,
    "start_time": "2024-06-24T15:39:35.337Z"
   },
   {
    "duration": 6,
    "start_time": "2024-06-24T15:39:51.822Z"
   },
   {
    "duration": 17,
    "start_time": "2024-06-24T15:39:55.581Z"
   },
   {
    "duration": 12,
    "start_time": "2024-06-24T15:40:00.156Z"
   },
   {
    "duration": 13,
    "start_time": "2024-06-24T15:40:44.442Z"
   },
   {
    "duration": 10,
    "start_time": "2024-06-24T15:40:48.121Z"
   },
   {
    "duration": 4,
    "start_time": "2024-06-24T15:40:54.747Z"
   },
   {
    "duration": 10,
    "start_time": "2024-06-24T15:40:57.176Z"
   },
   {
    "duration": 10,
    "start_time": "2024-06-24T15:41:00.636Z"
   },
   {
    "duration": 4,
    "start_time": "2024-06-24T15:41:49.796Z"
   },
   {
    "duration": 177,
    "start_time": "2024-06-24T15:41:49.804Z"
   },
   {
    "duration": 22,
    "start_time": "2024-06-24T15:41:49.984Z"
   },
   {
    "duration": 33,
    "start_time": "2024-06-24T15:41:50.008Z"
   },
   {
    "duration": 5,
    "start_time": "2024-06-24T15:41:50.044Z"
   },
   {
    "duration": 7,
    "start_time": "2024-06-24T15:41:50.052Z"
   },
   {
    "duration": 5,
    "start_time": "2024-06-24T15:41:50.062Z"
   },
   {
    "duration": 6,
    "start_time": "2024-06-24T15:41:50.105Z"
   },
   {
    "duration": 6,
    "start_time": "2024-06-24T15:41:50.116Z"
   },
   {
    "duration": 32,
    "start_time": "2024-06-24T15:41:50.126Z"
   },
   {
    "duration": 76,
    "start_time": "2024-06-24T15:41:50.164Z"
   },
   {
    "duration": 27,
    "start_time": "2024-06-24T15:41:50.244Z"
   },
   {
    "duration": 98,
    "start_time": "2024-06-24T15:41:50.274Z"
   },
   {
    "duration": 157,
    "start_time": "2024-06-24T15:41:50.376Z"
   },
   {
    "duration": 94,
    "start_time": "2024-06-24T15:41:50.536Z"
   },
   {
    "duration": 11,
    "start_time": "2024-06-24T15:41:50.635Z"
   },
   {
    "duration": 5,
    "start_time": "2024-06-24T15:41:50.651Z"
   },
   {
    "duration": 15,
    "start_time": "2024-06-24T15:41:50.659Z"
   },
   {
    "duration": 10,
    "start_time": "2024-06-24T15:41:50.707Z"
   },
   {
    "duration": 4,
    "start_time": "2024-06-24T15:41:50.719Z"
   },
   {
    "duration": 4,
    "start_time": "2024-06-24T15:41:50.726Z"
   },
   {
    "duration": 4,
    "start_time": "2024-06-24T15:41:50.733Z"
   },
   {
    "duration": 4,
    "start_time": "2024-06-24T15:41:50.740Z"
   },
   {
    "duration": 3,
    "start_time": "2024-06-24T15:41:50.747Z"
   },
   {
    "duration": 4,
    "start_time": "2024-06-24T15:41:50.805Z"
   },
   {
    "duration": 4,
    "start_time": "2024-06-24T15:41:50.811Z"
   },
   {
    "duration": 3,
    "start_time": "2024-06-24T15:41:50.819Z"
   },
   {
    "duration": 4,
    "start_time": "2024-06-24T15:41:50.825Z"
   },
   {
    "duration": 18,
    "start_time": "2024-06-24T15:48:40.264Z"
   },
   {
    "duration": 3,
    "start_time": "2024-06-24T15:49:18.661Z"
   },
   {
    "duration": 164,
    "start_time": "2024-06-24T15:49:18.668Z"
   },
   {
    "duration": 8,
    "start_time": "2024-06-24T15:49:18.836Z"
   },
   {
    "duration": 32,
    "start_time": "2024-06-24T15:49:18.849Z"
   },
   {
    "duration": 7,
    "start_time": "2024-06-24T15:49:18.907Z"
   },
   {
    "duration": 6,
    "start_time": "2024-06-24T15:49:18.918Z"
   },
   {
    "duration": 6,
    "start_time": "2024-06-24T15:49:18.927Z"
   },
   {
    "duration": 7,
    "start_time": "2024-06-24T15:49:18.936Z"
   },
   {
    "duration": 5,
    "start_time": "2024-06-24T15:49:18.948Z"
   },
   {
    "duration": 79,
    "start_time": "2024-06-24T15:49:18.956Z"
   },
   {
    "duration": 65,
    "start_time": "2024-06-24T15:49:19.042Z"
   },
   {
    "duration": 27,
    "start_time": "2024-06-24T15:49:19.110Z"
   },
   {
    "duration": 97,
    "start_time": "2024-06-24T15:49:19.139Z"
   },
   {
    "duration": 157,
    "start_time": "2024-06-24T15:49:19.239Z"
   },
   {
    "duration": 74,
    "start_time": "2024-06-24T15:49:19.399Z"
   },
   {
    "duration": 39,
    "start_time": "2024-06-24T15:49:19.476Z"
   },
   {
    "duration": 4,
    "start_time": "2024-06-24T15:49:19.518Z"
   },
   {
    "duration": 13,
    "start_time": "2024-06-24T15:49:19.525Z"
   },
   {
    "duration": 17,
    "start_time": "2024-06-24T15:49:19.541Z"
   },
   {
    "duration": 4,
    "start_time": "2024-06-24T15:49:19.561Z"
   },
   {
    "duration": 39,
    "start_time": "2024-06-24T15:49:19.568Z"
   },
   {
    "duration": 4,
    "start_time": "2024-06-24T15:49:19.610Z"
   },
   {
    "duration": 4,
    "start_time": "2024-06-24T15:49:19.617Z"
   },
   {
    "duration": 3,
    "start_time": "2024-06-24T15:49:19.627Z"
   },
   {
    "duration": 4,
    "start_time": "2024-06-24T15:49:19.634Z"
   },
   {
    "duration": 3,
    "start_time": "2024-06-24T15:49:19.641Z"
   },
   {
    "duration": 60,
    "start_time": "2024-06-24T15:49:19.647Z"
   },
   {
    "duration": 4,
    "start_time": "2024-06-24T15:49:19.710Z"
   },
   {
    "duration": 18,
    "start_time": "2024-06-24T15:50:17.432Z"
   },
   {
    "duration": 3,
    "start_time": "2024-06-24T15:50:22.138Z"
   },
   {
    "duration": 151,
    "start_time": "2024-06-24T15:50:22.144Z"
   },
   {
    "duration": 10,
    "start_time": "2024-06-24T15:50:22.305Z"
   },
   {
    "duration": 34,
    "start_time": "2024-06-24T15:50:22.318Z"
   },
   {
    "duration": 4,
    "start_time": "2024-06-24T15:50:22.357Z"
   },
   {
    "duration": 42,
    "start_time": "2024-06-24T15:50:22.363Z"
   },
   {
    "duration": 6,
    "start_time": "2024-06-24T15:50:22.408Z"
   },
   {
    "duration": 7,
    "start_time": "2024-06-24T15:50:22.417Z"
   },
   {
    "duration": 5,
    "start_time": "2024-06-24T15:50:22.428Z"
   },
   {
    "duration": 70,
    "start_time": "2024-06-24T15:50:22.436Z"
   },
   {
    "duration": 42,
    "start_time": "2024-06-24T15:50:22.509Z"
   },
   {
    "duration": 53,
    "start_time": "2024-06-24T15:50:22.554Z"
   },
   {
    "duration": 71,
    "start_time": "2024-06-24T15:50:22.610Z"
   },
   {
    "duration": 164,
    "start_time": "2024-06-24T15:50:22.690Z"
   },
   {
    "duration": 77,
    "start_time": "2024-06-24T15:50:22.857Z"
   },
   {
    "duration": 17,
    "start_time": "2024-06-24T15:50:22.937Z"
   },
   {
    "duration": 4,
    "start_time": "2024-06-24T15:50:22.957Z"
   },
   {
    "duration": 42,
    "start_time": "2024-06-24T15:50:22.964Z"
   },
   {
    "duration": 18,
    "start_time": "2024-06-24T15:50:23.009Z"
   },
   {
    "duration": 4,
    "start_time": "2024-06-24T15:50:23.030Z"
   },
   {
    "duration": 4,
    "start_time": "2024-06-24T15:50:23.037Z"
   },
   {
    "duration": 4,
    "start_time": "2024-06-24T15:50:23.044Z"
   },
   {
    "duration": 4,
    "start_time": "2024-06-24T15:50:23.051Z"
   },
   {
    "duration": 4,
    "start_time": "2024-06-24T15:50:23.106Z"
   },
   {
    "duration": 3,
    "start_time": "2024-06-24T15:50:23.114Z"
   },
   {
    "duration": 4,
    "start_time": "2024-06-24T15:50:23.120Z"
   },
   {
    "duration": 3,
    "start_time": "2024-06-24T15:50:23.127Z"
   },
   {
    "duration": 4,
    "start_time": "2024-06-24T15:50:23.133Z"
   },
   {
    "duration": 4,
    "start_time": "2024-06-24T15:56:27.640Z"
   },
   {
    "duration": 166,
    "start_time": "2024-06-24T15:56:27.647Z"
   },
   {
    "duration": 10,
    "start_time": "2024-06-24T15:56:27.816Z"
   },
   {
    "duration": 38,
    "start_time": "2024-06-24T15:56:27.830Z"
   },
   {
    "duration": 34,
    "start_time": "2024-06-24T15:56:27.873Z"
   },
   {
    "duration": 8,
    "start_time": "2024-06-24T15:56:27.910Z"
   },
   {
    "duration": 7,
    "start_time": "2024-06-24T15:56:27.921Z"
   },
   {
    "duration": 7,
    "start_time": "2024-06-24T15:56:27.931Z"
   },
   {
    "duration": 5,
    "start_time": "2024-06-24T15:56:27.941Z"
   },
   {
    "duration": 76,
    "start_time": "2024-06-24T15:56:27.950Z"
   },
   {
    "duration": 40,
    "start_time": "2024-06-24T15:56:28.029Z"
   },
   {
    "duration": 64,
    "start_time": "2024-06-24T15:56:28.072Z"
   },
   {
    "duration": 95,
    "start_time": "2024-06-24T15:56:28.139Z"
   },
   {
    "duration": 158,
    "start_time": "2024-06-24T15:56:28.239Z"
   },
   {
    "duration": 76,
    "start_time": "2024-06-24T15:56:28.399Z"
   },
   {
    "duration": 31,
    "start_time": "2024-06-24T15:56:28.478Z"
   },
   {
    "duration": 6,
    "start_time": "2024-06-24T15:56:28.513Z"
   },
   {
    "duration": 15,
    "start_time": "2024-06-24T15:56:28.522Z"
   },
   {
    "duration": 3,
    "start_time": "2024-06-24T15:56:50.447Z"
   },
   {
    "duration": 177,
    "start_time": "2024-06-24T15:56:50.454Z"
   },
   {
    "duration": 9,
    "start_time": "2024-06-24T15:56:50.635Z"
   },
   {
    "duration": 35,
    "start_time": "2024-06-24T15:56:50.647Z"
   },
   {
    "duration": 4,
    "start_time": "2024-06-24T15:56:50.709Z"
   },
   {
    "duration": 6,
    "start_time": "2024-06-24T15:56:50.716Z"
   },
   {
    "duration": 8,
    "start_time": "2024-06-24T15:56:50.725Z"
   },
   {
    "duration": 7,
    "start_time": "2024-06-24T15:56:50.737Z"
   },
   {
    "duration": 6,
    "start_time": "2024-06-24T15:56:50.747Z"
   },
   {
    "duration": 32,
    "start_time": "2024-06-24T15:56:50.808Z"
   },
   {
    "duration": 41,
    "start_time": "2024-06-24T15:56:50.845Z"
   },
   {
    "duration": 28,
    "start_time": "2024-06-24T15:56:50.908Z"
   },
   {
    "duration": 97,
    "start_time": "2024-06-24T15:56:50.939Z"
   },
   {
    "duration": 155,
    "start_time": "2024-06-24T15:56:51.039Z"
   },
   {
    "duration": 69,
    "start_time": "2024-06-24T15:56:51.205Z"
   },
   {
    "duration": 30,
    "start_time": "2024-06-24T15:56:51.277Z"
   },
   {
    "duration": 6,
    "start_time": "2024-06-24T15:56:51.310Z"
   },
   {
    "duration": 14,
    "start_time": "2024-06-24T15:56:51.319Z"
   },
   {
    "duration": 10,
    "start_time": "2024-06-24T15:56:51.336Z"
   },
   {
    "duration": 485,
    "start_time": "2024-06-24T19:46:17.321Z"
   },
   {
    "duration": 184,
    "start_time": "2024-06-24T19:46:17.810Z"
   },
   {
    "duration": 12,
    "start_time": "2024-06-24T19:46:18.001Z"
   },
   {
    "duration": 33,
    "start_time": "2024-06-24T19:46:18.016Z"
   },
   {
    "duration": 6,
    "start_time": "2024-06-24T19:46:18.054Z"
   },
   {
    "duration": 40,
    "start_time": "2024-06-24T19:46:18.063Z"
   },
   {
    "duration": 5,
    "start_time": "2024-06-24T19:46:18.106Z"
   },
   {
    "duration": 7,
    "start_time": "2024-06-24T19:46:18.115Z"
   },
   {
    "duration": 5,
    "start_time": "2024-06-24T19:46:18.125Z"
   },
   {
    "duration": 72,
    "start_time": "2024-06-24T19:46:18.133Z"
   },
   {
    "duration": 47,
    "start_time": "2024-06-24T19:46:18.208Z"
   },
   {
    "duration": 46,
    "start_time": "2024-06-24T19:46:18.261Z"
   },
   {
    "duration": 97,
    "start_time": "2024-06-24T19:46:18.311Z"
   },
   {
    "duration": 168,
    "start_time": "2024-06-24T19:46:18.416Z"
   },
   {
    "duration": 77,
    "start_time": "2024-06-24T19:46:18.588Z"
   },
   {
    "duration": 12,
    "start_time": "2024-06-24T19:46:18.668Z"
   },
   {
    "duration": 5,
    "start_time": "2024-06-24T19:46:18.703Z"
   },
   {
    "duration": 16,
    "start_time": "2024-06-24T19:46:18.712Z"
   },
   {
    "duration": 13,
    "start_time": "2024-06-24T19:46:18.731Z"
   },
   {
    "duration": 3,
    "start_time": "2024-06-24T19:46:18.747Z"
   },
   {
    "duration": 47,
    "start_time": "2024-06-24T19:46:18.754Z"
   },
   {
    "duration": 4,
    "start_time": "2024-06-24T19:46:18.805Z"
   },
   {
    "duration": 5,
    "start_time": "2024-06-24T19:46:18.812Z"
   },
   {
    "duration": 4,
    "start_time": "2024-06-24T19:46:18.820Z"
   },
   {
    "duration": 3,
    "start_time": "2024-06-24T19:46:18.828Z"
   },
   {
    "duration": 4,
    "start_time": "2024-06-24T19:46:18.834Z"
   },
   {
    "duration": 4,
    "start_time": "2024-06-24T19:46:18.841Z"
   },
   {
    "duration": 3,
    "start_time": "2024-06-24T19:46:18.901Z"
   },
   {
    "duration": 464,
    "start_time": "2024-06-25T01:09:03.606Z"
   },
   {
    "duration": 190,
    "start_time": "2024-06-25T01:09:04.074Z"
   },
   {
    "duration": 12,
    "start_time": "2024-06-25T01:09:04.266Z"
   },
   {
    "duration": 41,
    "start_time": "2024-06-25T01:09:04.281Z"
   },
   {
    "duration": 6,
    "start_time": "2024-06-25T01:09:04.328Z"
   },
   {
    "duration": 6,
    "start_time": "2024-06-25T01:09:04.337Z"
   },
   {
    "duration": 6,
    "start_time": "2024-06-25T01:09:04.346Z"
   },
   {
    "duration": 47,
    "start_time": "2024-06-25T01:09:04.355Z"
   },
   {
    "duration": 5,
    "start_time": "2024-06-25T01:09:04.405Z"
   },
   {
    "duration": 25,
    "start_time": "2024-06-25T01:09:04.414Z"
   },
   {
    "duration": 74,
    "start_time": "2024-06-25T01:09:04.442Z"
   },
   {
    "duration": 26,
    "start_time": "2024-06-25T01:09:04.520Z"
   },
   {
    "duration": 114,
    "start_time": "2024-06-25T01:09:04.549Z"
   },
   {
    "duration": 176,
    "start_time": "2024-06-25T01:09:04.669Z"
   },
   {
    "duration": 78,
    "start_time": "2024-06-25T01:09:04.848Z"
   },
   {
    "duration": 10,
    "start_time": "2024-06-25T01:09:04.929Z"
   },
   {
    "duration": 6,
    "start_time": "2024-06-25T01:09:04.941Z"
   },
   {
    "duration": 13,
    "start_time": "2024-06-25T01:09:04.950Z"
   },
   {
    "duration": 43,
    "start_time": "2024-06-25T01:09:04.966Z"
   },
   {
    "duration": 42,
    "start_time": "2024-06-25T01:09:16.696Z"
   },
   {
    "duration": 37,
    "start_time": "2024-06-25T01:17:17.962Z"
   },
   {
    "duration": 35,
    "start_time": "2024-06-25T01:17:53.059Z"
   },
   {
    "duration": 36,
    "start_time": "2024-06-25T01:20:18.919Z"
   },
   {
    "duration": 4,
    "start_time": "2024-06-25T01:20:33.334Z"
   },
   {
    "duration": 41,
    "start_time": "2024-06-25T01:20:52.227Z"
   },
   {
    "duration": 13,
    "start_time": "2024-06-25T01:28:41.986Z"
   },
   {
    "duration": 14,
    "start_time": "2024-06-25T01:29:23.599Z"
   },
   {
    "duration": 45,
    "start_time": "2024-06-25T01:30:09.214Z"
   },
   {
    "duration": 14,
    "start_time": "2024-06-25T01:31:18.557Z"
   },
   {
    "duration": 35,
    "start_time": "2024-06-25T01:48:48.398Z"
   },
   {
    "duration": 35,
    "start_time": "2024-06-25T01:50:13.648Z"
   },
   {
    "duration": 38,
    "start_time": "2024-06-25T01:51:40.370Z"
   },
   {
    "duration": 2561,
    "start_time": "2024-06-25T01:59:56.495Z"
   },
   {
    "duration": 34,
    "start_time": "2024-06-25T02:00:13.105Z"
   },
   {
    "duration": 460,
    "start_time": "2024-06-25T18:59:34.660Z"
   },
   {
    "duration": 223,
    "start_time": "2024-06-25T18:59:35.124Z"
   },
   {
    "duration": 13,
    "start_time": "2024-06-25T18:59:35.350Z"
   },
   {
    "duration": 64,
    "start_time": "2024-06-25T18:59:35.367Z"
   },
   {
    "duration": 5,
    "start_time": "2024-06-25T18:59:35.437Z"
   },
   {
    "duration": 7,
    "start_time": "2024-06-25T18:59:35.445Z"
   },
   {
    "duration": 7,
    "start_time": "2024-06-25T18:59:35.455Z"
   },
   {
    "duration": 7,
    "start_time": "2024-06-25T18:59:35.503Z"
   },
   {
    "duration": 9,
    "start_time": "2024-06-25T18:59:35.513Z"
   },
   {
    "duration": 27,
    "start_time": "2024-06-25T18:59:35.524Z"
   },
   {
    "duration": 76,
    "start_time": "2024-06-25T18:59:35.555Z"
   },
   {
    "duration": 28,
    "start_time": "2024-06-25T18:59:35.635Z"
   },
   {
    "duration": 113,
    "start_time": "2024-06-25T18:59:35.666Z"
   },
   {
    "duration": 186,
    "start_time": "2024-06-25T18:59:35.802Z"
   },
   {
    "duration": 77,
    "start_time": "2024-06-25T18:59:35.991Z"
   },
   {
    "duration": 10,
    "start_time": "2024-06-25T18:59:36.071Z"
   },
   {
    "duration": 7,
    "start_time": "2024-06-25T18:59:36.105Z"
   },
   {
    "duration": 16,
    "start_time": "2024-06-25T18:59:36.116Z"
   },
   {
    "duration": 13,
    "start_time": "2024-06-25T18:59:36.135Z"
   },
   {
    "duration": 80,
    "start_time": "2024-06-25T18:59:36.152Z"
   },
   {
    "duration": 72,
    "start_time": "2024-06-25T18:59:36.235Z"
   },
   {
    "duration": 8,
    "start_time": "2024-06-25T18:59:36.311Z"
   },
   {
    "duration": 0,
    "start_time": "2024-06-25T18:59:36.323Z"
   },
   {
    "duration": 0,
    "start_time": "2024-06-25T18:59:36.326Z"
   },
   {
    "duration": 0,
    "start_time": "2024-06-25T18:59:36.328Z"
   },
   {
    "duration": 0,
    "start_time": "2024-06-25T18:59:36.331Z"
   },
   {
    "duration": 0,
    "start_time": "2024-06-25T18:59:36.333Z"
   },
   {
    "duration": 0,
    "start_time": "2024-06-25T18:59:36.335Z"
   },
   {
    "duration": 6,
    "start_time": "2024-06-25T19:34:04.449Z"
   },
   {
    "duration": 4,
    "start_time": "2024-06-25T19:34:09.747Z"
   },
   {
    "duration": 5,
    "start_time": "2024-06-25T19:34:35.448Z"
   },
   {
    "duration": 4,
    "start_time": "2024-06-25T19:34:39.455Z"
   },
   {
    "duration": 348,
    "start_time": "2024-06-25T19:36:21.629Z"
   },
   {
    "duration": 5,
    "start_time": "2024-06-25T19:38:37.846Z"
   },
   {
    "duration": 4,
    "start_time": "2024-06-25T19:38:41.054Z"
   },
   {
    "duration": 27,
    "start_time": "2024-06-25T19:41:06.834Z"
   },
   {
    "duration": 45,
    "start_time": "2024-06-25T19:54:22.787Z"
   },
   {
    "duration": 3,
    "start_time": "2024-06-25T19:55:21.416Z"
   },
   {
    "duration": 166,
    "start_time": "2024-06-25T19:55:21.424Z"
   },
   {
    "duration": 15,
    "start_time": "2024-06-25T19:55:21.592Z"
   },
   {
    "duration": 33,
    "start_time": "2024-06-25T19:55:21.612Z"
   },
   {
    "duration": 5,
    "start_time": "2024-06-25T19:55:21.648Z"
   },
   {
    "duration": 44,
    "start_time": "2024-06-25T19:55:21.656Z"
   },
   {
    "duration": 6,
    "start_time": "2024-06-25T19:55:21.705Z"
   },
   {
    "duration": 7,
    "start_time": "2024-06-25T19:55:21.715Z"
   },
   {
    "duration": 6,
    "start_time": "2024-06-25T19:55:21.725Z"
   },
   {
    "duration": 69,
    "start_time": "2024-06-25T19:55:21.739Z"
   },
   {
    "duration": 39,
    "start_time": "2024-06-25T19:55:21.811Z"
   },
   {
    "duration": 49,
    "start_time": "2024-06-25T19:55:21.853Z"
   },
   {
    "duration": 74,
    "start_time": "2024-06-25T19:55:21.905Z"
   },
   {
    "duration": 146,
    "start_time": "2024-06-25T19:55:22.002Z"
   },
   {
    "duration": 80,
    "start_time": "2024-06-25T19:55:22.152Z"
   },
   {
    "duration": 11,
    "start_time": "2024-06-25T19:55:22.235Z"
   },
   {
    "duration": 5,
    "start_time": "2024-06-25T19:55:22.249Z"
   },
   {
    "duration": 46,
    "start_time": "2024-06-25T19:55:22.257Z"
   },
   {
    "duration": 11,
    "start_time": "2024-06-25T19:55:22.306Z"
   },
   {
    "duration": 36,
    "start_time": "2024-06-25T19:55:22.319Z"
   },
   {
    "duration": 68,
    "start_time": "2024-06-25T19:55:22.358Z"
   },
   {
    "duration": 45,
    "start_time": "2024-06-25T19:55:28.394Z"
   },
   {
    "duration": 5,
    "start_time": "2024-06-25T20:22:26.498Z"
   },
   {
    "duration": 46,
    "start_time": "2024-06-25T20:22:30.733Z"
   },
   {
    "duration": 5,
    "start_time": "2024-06-25T20:50:08.726Z"
   },
   {
    "duration": 52,
    "start_time": "2024-06-25T20:50:12.732Z"
   },
   {
    "duration": 3,
    "start_time": "2024-06-25T20:50:29.817Z"
   },
   {
    "duration": 179,
    "start_time": "2024-06-25T20:50:29.823Z"
   },
   {
    "duration": 8,
    "start_time": "2024-06-25T20:50:30.005Z"
   },
   {
    "duration": 34,
    "start_time": "2024-06-25T20:50:30.017Z"
   },
   {
    "duration": 5,
    "start_time": "2024-06-25T20:50:30.055Z"
   },
   {
    "duration": 44,
    "start_time": "2024-06-25T20:50:30.062Z"
   },
   {
    "duration": 6,
    "start_time": "2024-06-25T20:50:30.109Z"
   },
   {
    "duration": 7,
    "start_time": "2024-06-25T20:50:30.117Z"
   },
   {
    "duration": 5,
    "start_time": "2024-06-25T20:50:30.128Z"
   },
   {
    "duration": 70,
    "start_time": "2024-06-25T20:50:30.135Z"
   },
   {
    "duration": 42,
    "start_time": "2024-06-25T20:50:30.210Z"
   },
   {
    "duration": 47,
    "start_time": "2024-06-25T20:50:30.255Z"
   },
   {
    "duration": 95,
    "start_time": "2024-06-25T20:50:30.306Z"
   },
   {
    "duration": 166,
    "start_time": "2024-06-25T20:50:30.404Z"
   },
   {
    "duration": 86,
    "start_time": "2024-06-25T20:50:30.575Z"
   },
   {
    "duration": 9,
    "start_time": "2024-06-25T20:50:30.664Z"
   },
   {
    "duration": 5,
    "start_time": "2024-06-25T20:50:30.676Z"
   },
   {
    "duration": 13,
    "start_time": "2024-06-25T20:50:30.703Z"
   },
   {
    "duration": 10,
    "start_time": "2024-06-25T20:50:30.719Z"
   },
   {
    "duration": 73,
    "start_time": "2024-06-25T20:50:30.731Z"
   },
   {
    "duration": 38,
    "start_time": "2024-06-25T20:50:30.807Z"
   },
   {
    "duration": 45,
    "start_time": "2024-06-25T20:51:43.632Z"
   },
   {
    "duration": 441,
    "start_time": "2024-06-27T00:03:16.369Z"
   },
   {
    "duration": 189,
    "start_time": "2024-06-27T00:03:16.814Z"
   },
   {
    "duration": 12,
    "start_time": "2024-06-27T00:03:17.007Z"
   },
   {
    "duration": 33,
    "start_time": "2024-06-27T00:03:17.024Z"
   },
   {
    "duration": 6,
    "start_time": "2024-06-27T00:03:17.060Z"
   },
   {
    "duration": 6,
    "start_time": "2024-06-27T00:03:17.101Z"
   },
   {
    "duration": 5,
    "start_time": "2024-06-27T00:03:17.111Z"
   },
   {
    "duration": 6,
    "start_time": "2024-06-27T00:03:17.119Z"
   },
   {
    "duration": 5,
    "start_time": "2024-06-27T00:03:17.129Z"
   },
   {
    "duration": 74,
    "start_time": "2024-06-27T00:03:17.141Z"
   },
   {
    "duration": 38,
    "start_time": "2024-06-27T00:03:17.218Z"
   },
   {
    "duration": 51,
    "start_time": "2024-06-27T00:03:17.259Z"
   },
   {
    "duration": 113,
    "start_time": "2024-06-27T00:03:17.313Z"
   },
   {
    "duration": 157,
    "start_time": "2024-06-27T00:03:17.429Z"
   },
   {
    "duration": 70,
    "start_time": "2024-06-27T00:03:17.589Z"
   },
   {
    "duration": 10,
    "start_time": "2024-06-27T00:03:17.663Z"
   },
   {
    "duration": 5,
    "start_time": "2024-06-27T00:03:17.701Z"
   },
   {
    "duration": 13,
    "start_time": "2024-06-27T00:03:17.709Z"
   },
   {
    "duration": 10,
    "start_time": "2024-06-27T00:03:17.725Z"
   },
   {
    "duration": 80,
    "start_time": "2024-06-27T00:03:17.738Z"
   },
   {
    "duration": 35,
    "start_time": "2024-06-27T00:03:17.821Z"
   },
   {
    "duration": 5,
    "start_time": "2024-06-27T00:03:17.859Z"
   },
   {
    "duration": 5,
    "start_time": "2024-06-27T00:04:06.751Z"
   },
   {
    "duration": 21,
    "start_time": "2024-06-27T00:04:11.119Z"
   },
   {
    "duration": 19,
    "start_time": "2024-06-27T00:06:01.951Z"
   },
   {
    "duration": 20,
    "start_time": "2024-06-27T00:06:50.743Z"
   },
   {
    "duration": 25,
    "start_time": "2024-06-27T00:07:42.639Z"
   },
   {
    "duration": 21,
    "start_time": "2024-06-27T00:08:27.519Z"
   },
   {
    "duration": 18,
    "start_time": "2024-06-27T00:09:19.457Z"
   },
   {
    "duration": 3,
    "start_time": "2024-06-27T01:10:43.417Z"
   },
   {
    "duration": 172,
    "start_time": "2024-06-27T01:10:43.424Z"
   },
   {
    "duration": 9,
    "start_time": "2024-06-27T01:10:43.602Z"
   },
   {
    "duration": 32,
    "start_time": "2024-06-27T01:10:43.616Z"
   },
   {
    "duration": 5,
    "start_time": "2024-06-27T01:10:43.651Z"
   },
   {
    "duration": 43,
    "start_time": "2024-06-27T01:10:43.659Z"
   },
   {
    "duration": 6,
    "start_time": "2024-06-27T01:10:43.705Z"
   },
   {
    "duration": 6,
    "start_time": "2024-06-27T01:10:43.715Z"
   },
   {
    "duration": 5,
    "start_time": "2024-06-27T01:10:43.727Z"
   },
   {
    "duration": 66,
    "start_time": "2024-06-27T01:10:43.735Z"
   },
   {
    "duration": 43,
    "start_time": "2024-06-27T01:10:43.805Z"
   },
   {
    "duration": 54,
    "start_time": "2024-06-27T01:10:43.850Z"
   },
   {
    "duration": 95,
    "start_time": "2024-06-27T01:10:43.907Z"
   },
   {
    "duration": 151,
    "start_time": "2024-06-27T01:10:44.005Z"
   },
   {
    "duration": 81,
    "start_time": "2024-06-27T01:10:44.159Z"
   },
   {
    "duration": 9,
    "start_time": "2024-06-27T01:10:44.243Z"
   },
   {
    "duration": 5,
    "start_time": "2024-06-27T01:10:44.255Z"
   },
   {
    "duration": 42,
    "start_time": "2024-06-27T01:10:44.263Z"
   },
   {
    "duration": 11,
    "start_time": "2024-06-27T01:10:44.308Z"
   },
   {
    "duration": 41,
    "start_time": "2024-06-27T01:10:44.322Z"
   },
   {
    "duration": 65,
    "start_time": "2024-06-27T01:10:44.369Z"
   },
   {
    "duration": 5,
    "start_time": "2024-06-27T01:10:44.437Z"
   },
   {
    "duration": 21,
    "start_time": "2024-06-27T01:10:44.445Z"
   },
   {
    "duration": 20,
    "start_time": "2024-06-27T01:10:44.502Z"
   },
   {
    "duration": 19,
    "start_time": "2024-06-27T01:10:44.526Z"
   },
   {
    "duration": 54,
    "start_time": "2024-06-27T01:10:44.549Z"
   },
   {
    "duration": 22,
    "start_time": "2024-06-27T01:10:44.607Z"
   },
   {
    "duration": 26,
    "start_time": "2024-06-27T01:10:44.632Z"
   },
   {
    "duration": 339,
    "start_time": "2024-06-27T01:23:48.435Z"
   },
   {
    "duration": 24,
    "start_time": "2024-06-27T01:27:58.501Z"
   },
   {
    "duration": 36,
    "start_time": "2024-06-27T01:28:57.607Z"
   },
   {
    "duration": 52,
    "start_time": "2024-06-27T01:29:18.448Z"
   },
   {
    "duration": 3,
    "start_time": "2024-06-27T01:30:14.523Z"
   },
   {
    "duration": 176,
    "start_time": "2024-06-27T01:30:14.576Z"
   },
   {
    "duration": 9,
    "start_time": "2024-06-27T01:30:14.755Z"
   },
   {
    "duration": 63,
    "start_time": "2024-06-27T01:30:14.767Z"
   },
   {
    "duration": 5,
    "start_time": "2024-06-27T01:30:14.833Z"
   },
   {
    "duration": 7,
    "start_time": "2024-06-27T01:30:14.843Z"
   },
   {
    "duration": 5,
    "start_time": "2024-06-27T01:30:14.855Z"
   },
   {
    "duration": 45,
    "start_time": "2024-06-27T01:30:14.863Z"
   },
   {
    "duration": 6,
    "start_time": "2024-06-27T01:30:15.090Z"
   },
   {
    "duration": 39,
    "start_time": "2024-06-27T01:30:15.100Z"
   },
   {
    "duration": 63,
    "start_time": "2024-06-27T01:30:15.142Z"
   },
   {
    "duration": 26,
    "start_time": "2024-06-27T01:30:15.210Z"
   },
   {
    "duration": 102,
    "start_time": "2024-06-27T01:30:15.241Z"
   },
   {
    "duration": 152,
    "start_time": "2024-06-27T01:30:15.346Z"
   },
   {
    "duration": 66,
    "start_time": "2024-06-27T01:30:15.503Z"
   },
   {
    "duration": 66,
    "start_time": "2024-06-27T01:30:16.914Z"
   },
   {
    "duration": 55,
    "start_time": "2024-06-27T01:31:36.554Z"
   },
   {
    "duration": 3,
    "start_time": "2024-06-27T01:31:53.886Z"
   },
   {
    "duration": 173,
    "start_time": "2024-06-27T01:31:53.893Z"
   },
   {
    "duration": 9,
    "start_time": "2024-06-27T01:31:54.068Z"
   },
   {
    "duration": 48,
    "start_time": "2024-06-27T01:31:54.082Z"
   },
   {
    "duration": 5,
    "start_time": "2024-06-27T01:31:54.133Z"
   },
   {
    "duration": 5,
    "start_time": "2024-06-27T01:31:54.142Z"
   },
   {
    "duration": 6,
    "start_time": "2024-06-27T01:31:54.151Z"
   },
   {
    "duration": 43,
    "start_time": "2024-06-27T01:31:54.160Z"
   },
   {
    "duration": 4,
    "start_time": "2024-06-27T01:31:54.209Z"
   },
   {
    "duration": 28,
    "start_time": "2024-06-27T01:31:54.216Z"
   },
   {
    "duration": 84,
    "start_time": "2024-06-27T01:31:54.247Z"
   },
   {
    "duration": 28,
    "start_time": "2024-06-27T01:31:54.335Z"
   },
   {
    "duration": 97,
    "start_time": "2024-06-27T01:31:54.367Z"
   },
   {
    "duration": 163,
    "start_time": "2024-06-27T01:31:54.468Z"
   },
   {
    "duration": 79,
    "start_time": "2024-06-27T01:31:54.634Z"
   },
   {
    "duration": 51,
    "start_time": "2024-06-27T01:31:54.716Z"
   },
   {
    "duration": 5,
    "start_time": "2024-06-27T01:31:54.770Z"
   },
   {
    "duration": 13,
    "start_time": "2024-06-27T01:31:54.802Z"
   },
   {
    "duration": 54,
    "start_time": "2024-06-27T01:32:06.259Z"
   },
   {
    "duration": 3,
    "start_time": "2024-06-27T01:33:09.763Z"
   },
   {
    "duration": 173,
    "start_time": "2024-06-27T01:33:09.770Z"
   },
   {
    "duration": 10,
    "start_time": "2024-06-27T01:33:09.947Z"
   },
   {
    "duration": 51,
    "start_time": "2024-06-27T01:33:09.961Z"
   },
   {
    "duration": 4,
    "start_time": "2024-06-27T01:33:10.018Z"
   },
   {
    "duration": 7,
    "start_time": "2024-06-27T01:33:10.025Z"
   },
   {
    "duration": 6,
    "start_time": "2024-06-27T01:33:10.035Z"
   },
   {
    "duration": 6,
    "start_time": "2024-06-27T01:33:10.045Z"
   },
   {
    "duration": 49,
    "start_time": "2024-06-27T01:33:10.054Z"
   },
   {
    "duration": 26,
    "start_time": "2024-06-27T01:33:10.106Z"
   },
   {
    "duration": 72,
    "start_time": "2024-06-27T01:33:10.135Z"
   },
   {
    "duration": 26,
    "start_time": "2024-06-27T01:33:10.211Z"
   },
   {
    "duration": 100,
    "start_time": "2024-06-27T01:33:10.240Z"
   },
   {
    "duration": 157,
    "start_time": "2024-06-27T01:33:10.345Z"
   },
   {
    "duration": 70,
    "start_time": "2024-06-27T01:33:10.506Z"
   },
   {
    "duration": 68,
    "start_time": "2024-06-27T01:33:10.579Z"
   },
   {
    "duration": 7,
    "start_time": "2024-06-27T01:33:10.650Z"
   },
   {
    "duration": 14,
    "start_time": "2024-06-27T01:33:10.660Z"
   },
   {
    "duration": 51,
    "start_time": "2024-06-27T01:33:10.700Z"
   },
   {
    "duration": 57,
    "start_time": "2024-06-27T01:33:10.755Z"
   },
   {
    "duration": 37,
    "start_time": "2024-06-27T01:33:10.816Z"
   },
   {
    "duration": 6,
    "start_time": "2024-06-27T01:33:10.856Z"
   },
   {
    "duration": 52,
    "start_time": "2024-06-27T01:33:10.865Z"
   },
   {
    "duration": 21,
    "start_time": "2024-06-27T01:33:10.921Z"
   },
   {
    "duration": 57,
    "start_time": "2024-06-27T01:33:10.945Z"
   },
   {
    "duration": 18,
    "start_time": "2024-06-27T01:33:11.005Z"
   },
   {
    "duration": 22,
    "start_time": "2024-06-27T01:33:11.026Z"
   },
   {
    "duration": 57,
    "start_time": "2024-06-27T01:33:11.051Z"
   }
  ],
  "colab": {
   "collapsed_sections": [
    "E0vqbgi9ay0H",
    "VUC88oWjTJw2"
   ],
   "provenance": []
  },
  "kernelspec": {
   "display_name": "Python 3 (ipykernel)",
   "language": "python",
   "name": "python3"
  },
  "language_info": {
   "codemirror_mode": {
    "name": "ipython",
    "version": 3
   },
   "file_extension": ".py",
   "mimetype": "text/x-python",
   "name": "python",
   "nbconvert_exporter": "python",
   "pygments_lexer": "ipython3",
   "version": "3.12.4"
  },
  "toc": {
   "base_numbering": 1,
   "nav_menu": {},
   "number_sections": true,
   "sideBar": true,
   "skip_h1_title": true,
   "title_cell": "Table of Contents",
   "title_sidebar": "Contents",
   "toc_cell": false,
   "toc_position": {},
   "toc_section_display": true,
   "toc_window_display": false
  }
 },
 "nbformat": 4,
 "nbformat_minor": 4
}
